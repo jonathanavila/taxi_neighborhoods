{
 "cells": [
  {
   "cell_type": "code",
   "execution_count": 1,
   "metadata": {},
   "outputs": [
    {
     "name": "stdout",
     "output_type": "stream",
     "text": [
      "Requirement already satisfied: py4j in /opt/conda/lib/python3.6/site-packages\n",
      "\u001b[33mYou are using pip version 9.0.1, however version 10.0.1 is available.\n",
      "You should consider upgrading via the 'pip install --upgrade pip' command.\u001b[0m\n"
     ]
    }
   ],
   "source": [
    "!pip install py4j"
   ]
  },
  {
   "cell_type": "code",
   "execution_count": 2,
   "metadata": {},
   "outputs": [],
   "source": [
    "from pyspark import SparkConf, SparkContext, SQLContext"
   ]
  },
  {
   "cell_type": "code",
   "execution_count": 3,
   "metadata": {},
   "outputs": [],
   "source": [
    "# Configure spark context settings and initialize SQL context\n",
    "conf = (SparkConf()\n",
    "         .setAppName(\"s3a_test\")\n",
    "         .set(\"spark.executor.instances\", \"8\")\n",
    "         .set(\"spark.executor.cores\", 2)\n",
    "         .set(\"spark.shuffle.compress\", \"true\")\n",
    "         .set(\"spark.io.compression.codec\", \"snappy\")\n",
    "         .set(\"spark.executor.memory\", \"2g\"))\n",
    "\n",
    "sc = SparkContext(conf = conf)\n",
    "\n",
    "sqlContext = SQLContext(sc)"
   ]
  },
  {
   "cell_type": "markdown",
   "metadata": {},
   "source": [
    "## Load Data, Manage Format for Regression"
   ]
  },
  {
   "cell_type": "code",
   "execution_count": 185,
   "metadata": {},
   "outputs": [],
   "source": [
    "# READ DATA FILE\n",
    "df = sqlContext.read.load(\"total.json\")"
   ]
  },
  {
   "cell_type": "code",
   "execution_count": 186,
   "metadata": {},
   "outputs": [
    {
     "name": "stdout",
     "output_type": "stream",
     "text": [
      "root\n",
      " |-- label: integer (nullable = true)\n",
      " |-- PLocationID: integer (nullable = true)\n",
      " |-- features: vector (nullable = true)\n",
      "\n"
     ]
    }
   ],
   "source": [
    "df.printSchema()"
   ]
  },
  {
   "cell_type": "code",
   "execution_count": 187,
   "metadata": {},
   "outputs": [
    {
     "data": {
      "text/plain": [
       "4230796"
      ]
     },
     "execution_count": 187,
     "metadata": {},
     "output_type": "execute_result"
    }
   ],
   "source": [
    "df.count()"
   ]
  },
  {
   "cell_type": "code",
   "execution_count": 383,
   "metadata": {},
   "outputs": [],
   "source": [
    "# Work on random sample of the data\n",
    "data = df.sample(False, 0.01, seed=None)"
   ]
  },
  {
   "cell_type": "code",
   "execution_count": 384,
   "metadata": {},
   "outputs": [
    {
     "data": {
      "text/plain": [
       "42485"
      ]
     },
     "execution_count": 384,
     "metadata": {},
     "output_type": "execute_result"
    }
   ],
   "source": [
    "data.count()"
   ]
  },
  {
   "cell_type": "markdown",
   "metadata": {},
   "source": [
    "## Split Training and Testing"
   ]
  },
  {
   "cell_type": "code",
   "execution_count": 385,
   "metadata": {},
   "outputs": [],
   "source": [
    "training, testing = data.randomSplit([0.7, 0.3])"
   ]
  },
  {
   "cell_type": "code",
   "execution_count": 386,
   "metadata": {},
   "outputs": [],
   "source": [
    "import numpy as np\n",
    "\n",
    "# Convert to numpy array\n",
    "X_train = np.array(training.select('features').collect()).squeeze()\n",
    "X_test = np.array(testing.select('features').collect()).squeeze()\n",
    "\n",
    "# Drop last column from X_train and X_test - this column accidentally contains the label\n",
    "X_train = X_train[:,0:-1]\n",
    "X_test = X_test[:,0:-1]"
   ]
  },
  {
   "cell_type": "markdown",
   "metadata": {},
   "source": [
    "## Transform Labels to Binary (Within Neighborhood or Not)"
   ]
  },
  {
   "cell_type": "code",
   "execution_count": 387,
   "metadata": {},
   "outputs": [],
   "source": [
    "y_train_full_df = training.select('label').collect()\n",
    "y_test_full_df = testing.select('label').collect()\n",
    "\n",
    "y_train_ID = training.select('PLocationID').collect()\n",
    "y_test_ID = testing.select('PLocationID').collect()"
   ]
  },
  {
   "cell_type": "code",
   "execution_count": 388,
   "metadata": {},
   "outputs": [],
   "source": [
    "y_train_full_np = np.array(y_train_full_df).squeeze()\n",
    "y_test_full_np = np.array(y_test_full_df).squeeze()\n",
    "\n",
    "y_train_ID_np = np.array(y_train_ID).squeeze()\n",
    "y_test_ID_np = np.array(y_test_ID).squeeze()"
   ]
  },
  {
   "cell_type": "code",
   "execution_count": 389,
   "metadata": {},
   "outputs": [],
   "source": [
    "# Extract pickup districts\n",
    "map_dict = {4: 1, 12: 2,13: 2,24: 3,41: 4,42: 4,43: 5,45: 1,48: 6,50: 6,68: 6,74: 7,75: 7,79: 1,87: 2,88: 2,90: 8,\\\n",
    "            100: 8,103: 2,104: 2,105: 2,107: 9,113: 10,114: 10,116: 11,120: 12,125: 10,127: 12,128: 12,137: 9,140: 11,\\\n",
    "            141: 11,142: 3,143: 3,144: 1,148: 1,151: 3,152: 11,153: 12,158: 6,161: 8,162: 8,163: 8,164: 8,166: 11,\\\n",
    "            170: 9,186: 8,194: 7,202: 13,209: 2,211: 10,224: 9,229: 9,230: 8,231: 2,232: 1,233: 9,234: 10,236: 13,\\\n",
    "            237: 13,238: 3,239: 3,243: 12,244: 12,246: 6,249: 10,261: 2,262: 13,263: 13}\n",
    "mapper = lambda x: map_dict[x]\n",
    "mapper_vect = np.vectorize(mapper)"
   ]
  },
  {
   "cell_type": "code",
   "execution_count": 390,
   "metadata": {},
   "outputs": [],
   "source": [
    "y_train = np.array(y_train_full_np == mapper_vect(y_train_ID_np)).astype(int)\n",
    "y_test = np.array(y_test_full_np == mapper_vect(y_test_ID_np)).astype(int)"
   ]
  },
  {
   "cell_type": "markdown",
   "metadata": {},
   "source": [
    "## Balance Dataset: 50% Within, 50% Out of Neighborhood"
   ]
  },
  {
   "cell_type": "code",
   "execution_count": 391,
   "metadata": {},
   "outputs": [],
   "source": [
    "# Split data into one-labeled and zero-labeled groups\n",
    "X_train_ones = X_train[y_train.astype(bool)]\n",
    "X_train_zeros = X_train[np.array(y_train == 0)]"
   ]
  },
  {
   "cell_type": "code",
   "execution_count": 392,
   "metadata": {},
   "outputs": [],
   "source": [
    "# Select equal number of zero-labeled observations as one-labeled\n",
    "num_ones = X_train_ones.shape[0]\n",
    "X_train_zeros = X_train_zeros[0:num_ones,:]"
   ]
  },
  {
   "cell_type": "code",
   "execution_count": 393,
   "metadata": {},
   "outputs": [],
   "source": [
    "# Concatenate X_train_ones and X_train_zeros to form new training dataset\n",
    "X_train = np.concatenate((X_train_ones, X_train_zeros))"
   ]
  },
  {
   "cell_type": "code",
   "execution_count": 394,
   "metadata": {},
   "outputs": [],
   "source": [
    "# Relabel appropriately\n",
    "y_train = np.concatenate((np.ones(num_ones), np.zeros(num_ones)))"
   ]
  },
  {
   "cell_type": "code",
   "execution_count": 395,
   "metadata": {},
   "outputs": [],
   "source": [
    "# Shuffle training data and labels with same vertices\n",
    "new_idx = np.arange(num_ones*2)\n",
    "np.random.shuffle(new_idx)\n",
    "\n",
    "X_train = X_train[new_idx]\n",
    "y_train = y_train[new_idx]"
   ]
  },
  {
   "cell_type": "markdown",
   "metadata": {},
   "source": [
    "## Logistic Regression"
   ]
  },
  {
   "cell_type": "code",
   "execution_count": 396,
   "metadata": {},
   "outputs": [],
   "source": [
    "from sklearn.linear_model import LogisticRegression\n",
    "\n",
    "# Initialize Model\n",
    "lr = LogisticRegression()\n",
    "\n",
    "# Fit training data\n",
    "model = lr.fit(X_train, y_train)\n",
    "\n",
    "# Predict labels on test data\n",
    "preds = model.predict(X_test)"
   ]
  },
  {
   "cell_type": "code",
   "execution_count": 397,
   "metadata": {},
   "outputs": [
    {
     "data": {
      "text/plain": [
       "0.56928750784682991"
      ]
     },
     "execution_count": 397,
     "metadata": {},
     "output_type": "execute_result"
    }
   ],
   "source": [
    "# Accuracy\n",
    "np.sum(preds == y_test) / preds.shape[0]"
   ]
  },
  {
   "cell_type": "code",
   "execution_count": 398,
   "metadata": {},
   "outputs": [],
   "source": [
    "# Exhaustive Parameter Search\n",
    "from sklearn.model_selection import GridSearchCV\n",
    "# lr_params = {'solver':['newton-cg', 'lbfgs', 'liblinear', 'sag', 'saga']} #, 'penalty':['l1','l2']}\n",
    "lr_params = {'penalty':['l1','l2'], 'fit_intercept':[True, False]}\n",
    "lr = LogisticRegression(solver='liblinear')\n",
    "clf = GridSearchCV(lr, lr_params)"
   ]
  },
  {
   "cell_type": "code",
   "execution_count": 399,
   "metadata": {},
   "outputs": [
    {
     "data": {
      "text/plain": [
       "GridSearchCV(cv=None, error_score='raise',\n",
       "       estimator=LogisticRegression(C=1.0, class_weight=None, dual=False, fit_intercept=True,\n",
       "          intercept_scaling=1, max_iter=100, multi_class='ovr', n_jobs=1,\n",
       "          penalty='l2', random_state=None, solver='liblinear', tol=0.0001,\n",
       "          verbose=0, warm_start=False),\n",
       "       fit_params=None, iid=True, n_jobs=1,\n",
       "       param_grid={'penalty': ['l1', 'l2'], 'fit_intercept': [True, False]},\n",
       "       pre_dispatch='2*n_jobs', refit=True, return_train_score='warn',\n",
       "       scoring=None, verbose=0)"
      ]
     },
     "execution_count": 399,
     "metadata": {},
     "output_type": "execute_result"
    }
   ],
   "source": [
    "clf.fit(X_train, y_train)"
   ]
  },
  {
   "cell_type": "code",
   "execution_count": 400,
   "metadata": {},
   "outputs": [
    {
     "data": {
      "text/plain": [
       "dict_keys(['mean_fit_time', 'std_fit_time', 'mean_score_time', 'std_score_time', 'param_fit_intercept', 'param_penalty', 'params', 'split0_test_score', 'split1_test_score', 'split2_test_score', 'mean_test_score', 'std_test_score', 'rank_test_score', 'split0_train_score', 'split1_train_score', 'split2_train_score', 'mean_train_score', 'std_train_score'])"
      ]
     },
     "execution_count": 400,
     "metadata": {},
     "output_type": "execute_result"
    }
   ],
   "source": [
    "clf.cv_results_.keys()"
   ]
  },
  {
   "cell_type": "code",
   "execution_count": 401,
   "metadata": {},
   "outputs": [
    {
     "data": {
      "text/plain": [
       "array([ 0.58135115,  0.58263855,  0.58135115,  0.58110593])"
      ]
     },
     "execution_count": 401,
     "metadata": {},
     "output_type": "execute_result"
    }
   ],
   "source": [
    "clf.cv_results_['mean_test_score']"
   ]
  },
  {
   "cell_type": "markdown",
   "metadata": {},
   "source": [
    "## Random Forest"
   ]
  },
  {
   "cell_type": "code",
   "execution_count": 301,
   "metadata": {},
   "outputs": [],
   "source": [
    "# Start with default tree\n",
    "from sklearn import tree\n",
    "\n",
    "decTree = tree.DecisionTreeClassifier()\n",
    "model = decTree.fit(X_train, y_train)\n",
    "pred = model.predict(X_test)"
   ]
  },
  {
   "cell_type": "code",
   "execution_count": 302,
   "metadata": {},
   "outputs": [
    {
     "data": {
      "text/plain": [
       "0.55621771950734999"
      ]
     },
     "execution_count": 302,
     "metadata": {},
     "output_type": "execute_result"
    }
   ],
   "source": [
    "# Accuracy\n",
    "np.sum(preds == y_test) / preds.shape[0]"
   ]
  },
  {
   "cell_type": "code",
   "execution_count": 303,
   "metadata": {},
   "outputs": [
    {
     "name": "stderr",
     "output_type": "stream",
     "text": [
      "[Parallel(n_jobs=1)]: Done 100 out of 100 | elapsed:    1.1s finished\n",
      "[Parallel(n_jobs=1)]: Done 100 out of 100 | elapsed:    0.1s finished\n"
     ]
    }
   ],
   "source": [
    "# Random Forest\n",
    "from sklearn.ensemble import RandomForestClassifier\n",
    "\n",
    "RFC = RandomForestClassifier(n_estimators=100, verbose=1)\n",
    "model = RFC.fit(X_train, y_train)\n",
    "pred = model.predict(X_test)"
   ]
  },
  {
   "cell_type": "code",
   "execution_count": 304,
   "metadata": {},
   "outputs": [
    {
     "data": {
      "text/plain": [
       "0.55621771950734999"
      ]
     },
     "execution_count": 304,
     "metadata": {},
     "output_type": "execute_result"
    }
   ],
   "source": [
    "# Accuracy\n",
    "np.sum(preds == y_test) / preds.shape[0]"
   ]
  },
  {
   "cell_type": "code",
   "execution_count": 338,
   "metadata": {},
   "outputs": [],
   "source": [
    "# Exhaustive Hyperparameter Search\n",
    "rfc_params = {'n_estimators':[50, 100, 120, 150], 'min_samples_split':[10, 20, 50, 75, 100, 150]}\n",
    "rfc = RandomForestClassifier()\n",
    "rfc_search = GridSearchCV(rfc, rfc_params)"
   ]
  },
  {
   "cell_type": "code",
   "execution_count": 339,
   "metadata": {},
   "outputs": [
    {
     "data": {
      "text/plain": [
       "GridSearchCV(cv=None, error_score='raise',\n",
       "       estimator=RandomForestClassifier(bootstrap=True, class_weight=None, criterion='gini',\n",
       "            max_depth=None, max_features='auto', max_leaf_nodes=None,\n",
       "            min_impurity_decrease=0.0, min_impurity_split=None,\n",
       "            min_samples_leaf=1, min_samples_split=2,\n",
       "            min_weight_fraction_leaf=0.0, n_estimators=10, n_jobs=1,\n",
       "            oob_score=False, random_state=None, verbose=0,\n",
       "            warm_start=False),\n",
       "       fit_params=None, iid=True, n_jobs=1,\n",
       "       param_grid={'n_estimators': [50, 100, 120, 150], 'min_samples_split': [10, 20, 50, 75, 100, 150]},\n",
       "       pre_dispatch='2*n_jobs', refit=True, return_train_score='warn',\n",
       "       scoring=None, verbose=0)"
      ]
     },
     "execution_count": 339,
     "metadata": {},
     "output_type": "execute_result"
    }
   ],
   "source": [
    "rfc_search.fit(X_train, y_train)"
   ]
  },
  {
   "cell_type": "code",
   "execution_count": 340,
   "metadata": {},
   "outputs": [
    {
     "data": {
      "text/plain": [
       "dict_keys(['mean_fit_time', 'std_fit_time', 'mean_score_time', 'std_score_time', 'param_min_samples_split', 'param_n_estimators', 'params', 'split0_test_score', 'split1_test_score', 'split2_test_score', 'mean_test_score', 'std_test_score', 'rank_test_score', 'split0_train_score', 'split1_train_score', 'split2_train_score', 'mean_train_score', 'std_train_score'])"
      ]
     },
     "execution_count": 340,
     "metadata": {},
     "output_type": "execute_result"
    }
   ],
   "source": [
    "rfc_search.cv_results_.keys()"
   ]
  },
  {
   "cell_type": "code",
   "execution_count": 341,
   "metadata": {},
   "outputs": [
    {
     "data": {
      "text/plain": [
       "[{'min_samples_split': 10, 'n_estimators': 50},\n",
       " {'min_samples_split': 10, 'n_estimators': 100},\n",
       " {'min_samples_split': 10, 'n_estimators': 120},\n",
       " {'min_samples_split': 10, 'n_estimators': 150},\n",
       " {'min_samples_split': 20, 'n_estimators': 50},\n",
       " {'min_samples_split': 20, 'n_estimators': 100},\n",
       " {'min_samples_split': 20, 'n_estimators': 120},\n",
       " {'min_samples_split': 20, 'n_estimators': 150},\n",
       " {'min_samples_split': 50, 'n_estimators': 50},\n",
       " {'min_samples_split': 50, 'n_estimators': 100},\n",
       " {'min_samples_split': 50, 'n_estimators': 120},\n",
       " {'min_samples_split': 50, 'n_estimators': 150},\n",
       " {'min_samples_split': 75, 'n_estimators': 50},\n",
       " {'min_samples_split': 75, 'n_estimators': 100},\n",
       " {'min_samples_split': 75, 'n_estimators': 120},\n",
       " {'min_samples_split': 75, 'n_estimators': 150},\n",
       " {'min_samples_split': 100, 'n_estimators': 50},\n",
       " {'min_samples_split': 100, 'n_estimators': 100},\n",
       " {'min_samples_split': 100, 'n_estimators': 120},\n",
       " {'min_samples_split': 100, 'n_estimators': 150},\n",
       " {'min_samples_split': 150, 'n_estimators': 50},\n",
       " {'min_samples_split': 150, 'n_estimators': 100},\n",
       " {'min_samples_split': 150, 'n_estimators': 120},\n",
       " {'min_samples_split': 150, 'n_estimators': 150}]"
      ]
     },
     "execution_count": 341,
     "metadata": {},
     "output_type": "execute_result"
    }
   ],
   "source": [
    "rfc_search.cv_results_['params']"
   ]
  },
  {
   "cell_type": "code",
   "execution_count": 342,
   "metadata": {},
   "outputs": [
    {
     "name": "stderr",
     "output_type": "stream",
     "text": [
      "/opt/conda/lib/python3.6/site-packages/sklearn/utils/deprecation.py:122: FutureWarning: You are accessing a training score ('mean_train_score'), which will not be available by default any more in 0.21. If you need training scores, please set return_train_score=True\n",
      "  warnings.warn(*warn_args, **warn_kwargs)\n"
     ]
    }
   ],
   "source": [
    "rfc_search_train = rfc_search.cv_results_['mean_train_score']"
   ]
  },
  {
   "cell_type": "code",
   "execution_count": 343,
   "metadata": {},
   "outputs": [],
   "source": [
    "rfc_search_test = rfc_search.cv_results_['mean_test_score']"
   ]
  },
  {
   "cell_type": "code",
   "execution_count": 365,
   "metadata": {},
   "outputs": [
    {
     "data": {
      "text/plain": [
       "<matplotlib.collections.PathCollection at 0x7f681f728ac8>"
      ]
     },
     "execution_count": 365,
     "metadata": {},
     "output_type": "execute_result"
    },
    {
     "data": {
      "image/png": "[encoded data removed]",
      "text/plain": [
       "<matplotlib.figure.Figure at 0x7f681f79c438>"
      ]
     },
     "metadata": {},
     "output_type": "display_data"
    }
   ],
   "source": [
    "plt.scatter(np.array(range(1,len(rfc_search_train)+1)),rfc_search_train)\n",
    "# plt.legend(\"Training Accuracy\", fontsize=12)\n",
    "plt.scatter(np.array(range(1,len(rfc_search_test)+1)),rfc_search_test)\n",
    "# plt.legend(\"Testing Accuracy\", fontsize=12)"
   ]
  },
  {
   "cell_type": "markdown",
   "metadata": {},
   "source": [
    "## Boosting"
   ]
  },
  {
   "cell_type": "code",
   "execution_count": 366,
   "metadata": {},
   "outputs": [],
   "source": [
    "from sklearn.ensemble import AdaBoostClassifier\n",
    "\n",
    "adaBoost = AdaBoostClassifier(n_estimators=20)\n",
    "model = adaBoost.fit(X_train, y_train)\n",
    "pred = adaBoost.predict(X_test)"
   ]
  },
  {
   "cell_type": "code",
   "execution_count": 367,
   "metadata": {},
   "outputs": [
    {
     "data": {
      "text/plain": [
       "0.56177989670242356"
      ]
     },
     "execution_count": 367,
     "metadata": {},
     "output_type": "execute_result"
    }
   ],
   "source": [
    "# Accuracy\n",
    "np.sum(pred == y_test) / pred.shape[0]"
   ]
  },
  {
   "cell_type": "code",
   "execution_count": 378,
   "metadata": {},
   "outputs": [
    {
     "data": {
      "text/plain": [
       "GridSearchCV(cv=None, error_score='raise',\n",
       "       estimator=AdaBoostClassifier(algorithm='SAMME.R', base_estimator=None,\n",
       "          learning_rate=1.0, n_estimators=50, random_state=None),\n",
       "       fit_params=None, iid=True, n_jobs=1,\n",
       "       param_grid={'n_estimators': [20, 30, 40, 50, 60, 70, 80, 90, 100], 'learning_rate': [0.01, 0.05, 0.1]},\n",
       "       pre_dispatch='2*n_jobs', refit=True, return_train_score='warn',\n",
       "       scoring=None, verbose=0)"
      ]
     },
     "execution_count": 378,
     "metadata": {},
     "output_type": "execute_result"
    }
   ],
   "source": [
    "# Hyperparameter Search\n",
    "adaB_params = {'n_estimators':[20, 30, 40, 50, 60, 70, 80, 90, 100], 'learning_rate':[0.01, 0.05, 0.1]}\n",
    "adaB_class = AdaBoostClassifier()\n",
    "adaB_search = GridSearchCV(adaB_class, adaB_params)\n",
    "adaB_search.fit(X_train, y_train)"
   ]
  },
  {
   "cell_type": "code",
   "execution_count": 379,
   "metadata": {},
   "outputs": [
    {
     "name": "stderr",
     "output_type": "stream",
     "text": [
      "/opt/conda/lib/python3.6/site-packages/sklearn/utils/deprecation.py:122: FutureWarning: You are accessing a training score ('mean_train_score'), which will not be available by default any more in 0.21. If you need training scores, please set return_train_score=True\n",
      "  warnings.warn(*warn_args, **warn_kwargs)\n"
     ]
    },
    {
     "data": {
      "text/plain": [
       "array([ 0.5730789 ,  0.57620292,  0.57620292,  0.57620292,  0.57620292,\n",
       "        0.57620292,  0.57620292,  0.57620292,  0.57854375,  0.57854375,\n",
       "        0.58057436,  0.58198003,  0.58213623,  0.58385415,  0.58494697,\n",
       "        0.58900835,  0.59119487,  0.59291294,  0.58166763,  0.58291738,\n",
       "        0.58619673,  0.59509932,  0.59931631,  0.60072095,  0.60212647,\n",
       "        0.60400001,  0.60712242])"
      ]
     },
     "execution_count": 379,
     "metadata": {},
     "output_type": "execute_result"
    }
   ],
   "source": [
    "adaB_search_train = adaB_search.cv_results_['mean_train_score']\n",
    "adaB_search.cv_results_['mean_train_score']"
   ]
  },
  {
   "cell_type": "code",
   "execution_count": 380,
   "metadata": {},
   "outputs": [
    {
     "data": {
      "text/plain": [
       "[{'learning_rate': 0.01, 'n_estimators': 20},\n",
       " {'learning_rate': 0.01, 'n_estimators': 30},\n",
       " {'learning_rate': 0.01, 'n_estimators': 40},\n",
       " {'learning_rate': 0.01, 'n_estimators': 50},\n",
       " {'learning_rate': 0.01, 'n_estimators': 60},\n",
       " {'learning_rate': 0.01, 'n_estimators': 70},\n",
       " {'learning_rate': 0.01, 'n_estimators': 80},\n",
       " {'learning_rate': 0.01, 'n_estimators': 90},\n",
       " {'learning_rate': 0.01, 'n_estimators': 100},\n",
       " {'learning_rate': 0.05, 'n_estimators': 20},\n",
       " {'learning_rate': 0.05, 'n_estimators': 30},\n",
       " {'learning_rate': 0.05, 'n_estimators': 40},\n",
       " {'learning_rate': 0.05, 'n_estimators': 50},\n",
       " {'learning_rate': 0.05, 'n_estimators': 60},\n",
       " {'learning_rate': 0.05, 'n_estimators': 70},\n",
       " {'learning_rate': 0.05, 'n_estimators': 80},\n",
       " {'learning_rate': 0.05, 'n_estimators': 90},\n",
       " {'learning_rate': 0.05, 'n_estimators': 100},\n",
       " {'learning_rate': 0.1, 'n_estimators': 20},\n",
       " {'learning_rate': 0.1, 'n_estimators': 30},\n",
       " {'learning_rate': 0.1, 'n_estimators': 40},\n",
       " {'learning_rate': 0.1, 'n_estimators': 50},\n",
       " {'learning_rate': 0.1, 'n_estimators': 60},\n",
       " {'learning_rate': 0.1, 'n_estimators': 70},\n",
       " {'learning_rate': 0.1, 'n_estimators': 80},\n",
       " {'learning_rate': 0.1, 'n_estimators': 90},\n",
       " {'learning_rate': 0.1, 'n_estimators': 100}]"
      ]
     },
     "execution_count": 380,
     "metadata": {},
     "output_type": "execute_result"
    }
   ],
   "source": [
    "adaB_search.cv_results_['params']"
   ]
  },
  {
   "cell_type": "code",
   "execution_count": 381,
   "metadata": {},
   "outputs": [
    {
     "data": {
      "text/plain": [
       "array([ 0.57307933,  0.57058089,  0.57058089,  0.57058089,  0.57058089,\n",
       "        0.57058089,  0.57058089,  0.57058089,  0.56964397,  0.56964397,\n",
       "        0.57183011,  0.57183011,  0.57214241,  0.57276702,  0.57058089,\n",
       "        0.5715178 ,  0.56901936,  0.56777014,  0.57183011,  0.57214241,\n",
       "        0.56933167,  0.56839475,  0.56527171,  0.56620862,  0.56683323,\n",
       "        0.56652092,  0.56745784])"
      ]
     },
     "execution_count": 381,
     "metadata": {},
     "output_type": "execute_result"
    }
   ],
   "source": [
    "adaB_search_test = adaB_search.cv_results_['mean_test_score']\n",
    "adaB_search.cv_results_['mean_test_score']"
   ]
  },
  {
   "cell_type": "code",
   "execution_count": 382,
   "metadata": {},
   "outputs": [
    {
     "data": {
      "text/plain": [
       "<matplotlib.collections.PathCollection at 0x7f681f610f28>"
      ]
     },
     "execution_count": 382,
     "metadata": {},
     "output_type": "execute_result"
    },
    {
     "data": {
      "image/png": "[encoded data removed]",
      "text/plain": [
       "<matplotlib.figure.Figure at 0x7f681f64eba8>"
      ]
     },
     "metadata": {},
     "output_type": "display_data"
    }
   ],
   "source": [
    "plt.scatter(np.array(range(1,len(adaB_search_train)+1)),adaB_search_train)\n",
    "# plt.legend(\"Training Accuracy\", fontsize=12)\n",
    "plt.scatter(np.array(range(1,len(adaB_search_test)+1)),adaB_search_test)\n",
    "# plt.legend(\"Testing Accuracy\", fontsize=12)"
   ]
  },
  {
   "cell_type": "markdown",
   "metadata": {},
   "source": [
    "## Multilayer Perceptron"
   ]
  },
  {
   "cell_type": "code",
   "execution_count": 430,
   "metadata": {},
   "outputs": [],
   "source": [
    "from sklearn.neural_network import MLPClassifier\n",
    "from sklearn.preprocessing import StandardScaler\n",
    "\n",
    "scaler = StandardScaler()\n",
    "X_train = scaler.fit_transform(X_train)\n",
    "X_test = scaler.fit_transform(X_test)"
   ]
  },
  {
   "cell_type": "code",
   "execution_count": 473,
   "metadata": {},
   "outputs": [
    {
     "name": "stdout",
     "output_type": "stream",
     "text": [
      "Iteration 1, loss = 0.73164897\n",
      "Iteration 2, loss = 0.68650132\n",
      "Iteration 3, loss = 0.67515679\n",
      "Iteration 4, loss = 0.67099230\n",
      "Iteration 5, loss = 0.66874776\n",
      "Iteration 6, loss = 0.66735666\n",
      "Iteration 7, loss = 0.66614110\n",
      "Iteration 8, loss = 0.66484037\n",
      "Iteration 9, loss = 0.66435727\n",
      "Iteration 10, loss = 0.66342747\n",
      "Iteration 11, loss = 0.66211416\n",
      "Iteration 12, loss = 0.66134895\n",
      "Iteration 13, loss = 0.66037063\n",
      "Iteration 14, loss = 0.65963037\n",
      "Iteration 15, loss = 0.65888059\n",
      "Iteration 16, loss = 0.65787774\n",
      "Iteration 17, loss = 0.65732503\n",
      "Iteration 18, loss = 0.65629288\n",
      "Iteration 19, loss = 0.65565573\n",
      "Iteration 20, loss = 0.65509732\n",
      "Iteration 21, loss = 0.65438131\n",
      "Iteration 22, loss = 0.65347422\n",
      "Iteration 23, loss = 0.65285309\n",
      "Iteration 24, loss = 0.65206536\n",
      "Iteration 25, loss = 0.65153035\n",
      "Iteration 26, loss = 0.65057362\n",
      "Iteration 27, loss = 0.65008276\n",
      "Iteration 28, loss = 0.64934178\n",
      "Iteration 29, loss = 0.64847292\n",
      "Iteration 30, loss = 0.64784713\n",
      "Iteration 31, loss = 0.64743473\n",
      "Iteration 32, loss = 0.64667786\n",
      "Iteration 33, loss = 0.64579164\n",
      "Iteration 34, loss = 0.64498644\n",
      "Iteration 35, loss = 0.64450144\n",
      "Iteration 36, loss = 0.64381712\n",
      "Iteration 37, loss = 0.64315940\n",
      "Iteration 38, loss = 0.64253355\n",
      "Iteration 39, loss = 0.64197570\n",
      "Iteration 40, loss = 0.64117510\n",
      "Iteration 41, loss = 0.64055117\n",
      "Iteration 42, loss = 0.63975790\n",
      "Iteration 43, loss = 0.63908821\n",
      "Iteration 44, loss = 0.63842520\n",
      "Iteration 45, loss = 0.63771574\n",
      "Iteration 46, loss = 0.63711714\n",
      "Iteration 47, loss = 0.63661029\n",
      "Iteration 48, loss = 0.63618761\n",
      "Iteration 49, loss = 0.63525563\n",
      "Iteration 50, loss = 0.63461095\n",
      "Iteration 51, loss = 0.63379484\n",
      "Iteration 52, loss = 0.63300507\n",
      "Iteration 53, loss = 0.63254663\n",
      "Iteration 54, loss = 0.63198290\n",
      "Iteration 55, loss = 0.63145078\n",
      "Iteration 56, loss = 0.63043429\n",
      "Iteration 57, loss = 0.62978955\n",
      "Iteration 58, loss = 0.62937680\n",
      "Iteration 59, loss = 0.62857653\n",
      "Iteration 60, loss = 0.62778253\n",
      "Iteration 61, loss = 0.62727644\n",
      "Iteration 62, loss = 0.62642423\n",
      "Iteration 63, loss = 0.62609461\n",
      "Iteration 64, loss = 0.62560995\n",
      "Iteration 65, loss = 0.62464769\n",
      "Iteration 66, loss = 0.62386525\n",
      "Iteration 67, loss = 0.62343316\n",
      "Iteration 68, loss = 0.62301048\n",
      "Iteration 69, loss = 0.62237704\n",
      "Iteration 70, loss = 0.62143842\n",
      "Iteration 71, loss = 0.62088651\n",
      "Iteration 72, loss = 0.61993461\n",
      "Iteration 73, loss = 0.61957793\n",
      "Iteration 74, loss = 0.61874530\n",
      "Iteration 75, loss = 0.61812046\n",
      "Iteration 76, loss = 0.61755845\n",
      "Iteration 77, loss = 0.61707487\n",
      "Iteration 78, loss = 0.61623216\n",
      "Iteration 79, loss = 0.61565681\n",
      "Iteration 80, loss = 0.61489809\n",
      "Iteration 81, loss = 0.61432302\n",
      "Iteration 82, loss = 0.61341951\n",
      "Iteration 83, loss = 0.61306748\n",
      "Iteration 84, loss = 0.61228486\n",
      "Iteration 85, loss = 0.61194095\n",
      "Iteration 86, loss = 0.61131638\n",
      "Iteration 87, loss = 0.61022248\n",
      "Iteration 88, loss = 0.60990064\n",
      "Iteration 89, loss = 0.60898385\n",
      "Iteration 90, loss = 0.60850895\n",
      "Iteration 91, loss = 0.60778219\n",
      "Iteration 92, loss = 0.60715077\n",
      "Iteration 93, loss = 0.60662522\n",
      "Iteration 94, loss = 0.60591273\n",
      "Iteration 95, loss = 0.60499566\n",
      "Iteration 96, loss = 0.60478240\n",
      "Iteration 97, loss = 0.60433841\n",
      "Iteration 98, loss = 0.60326565\n",
      "Iteration 99, loss = 0.60294415\n",
      "Iteration 100, loss = 0.60218080\n",
      "Iteration 101, loss = 0.60159133\n",
      "Iteration 102, loss = 0.60061789\n",
      "Iteration 103, loss = 0.60036930\n",
      "Iteration 104, loss = 0.59955070\n",
      "Iteration 105, loss = 0.59921066\n",
      "Iteration 106, loss = 0.59836107\n",
      "Iteration 107, loss = 0.59784209\n",
      "Iteration 108, loss = 0.59727580\n",
      "Iteration 109, loss = 0.59664217\n",
      "Iteration 110, loss = 0.59604289\n",
      "Iteration 111, loss = 0.59538203\n",
      "Iteration 112, loss = 0.59468697\n",
      "Iteration 113, loss = 0.59376788\n",
      "Iteration 114, loss = 0.59354400\n",
      "Iteration 115, loss = 0.59275198\n",
      "Iteration 116, loss = 0.59201755\n",
      "Iteration 117, loss = 0.59165704\n",
      "Iteration 118, loss = 0.59111423\n",
      "Iteration 119, loss = 0.59058408\n",
      "Iteration 120, loss = 0.58989420\n",
      "Iteration 121, loss = 0.58914693\n",
      "Iteration 122, loss = 0.58852173\n",
      "Iteration 123, loss = 0.58785395\n",
      "Iteration 124, loss = 0.58738206\n",
      "Iteration 125, loss = 0.58671526\n",
      "Iteration 126, loss = 0.58608230\n",
      "Iteration 127, loss = 0.58517317\n",
      "Iteration 128, loss = 0.58493614\n",
      "Iteration 129, loss = 0.58403811\n",
      "Iteration 130, loss = 0.58375700\n",
      "Iteration 131, loss = 0.58291583\n",
      "Iteration 132, loss = 0.58259907\n",
      "Iteration 133, loss = 0.58191873\n",
      "Iteration 134, loss = 0.58159077\n",
      "Iteration 135, loss = 0.58050760\n",
      "Iteration 136, loss = 0.57972572\n",
      "Iteration 137, loss = 0.57954523\n",
      "Iteration 138, loss = 0.57880651\n",
      "Iteration 139, loss = 0.57804528\n",
      "Iteration 140, loss = 0.57736574\n",
      "Iteration 141, loss = 0.57708203\n",
      "Iteration 142, loss = 0.57633574\n",
      "Iteration 143, loss = 0.57562784\n",
      "Iteration 144, loss = 0.57518559\n",
      "Iteration 145, loss = 0.57429830\n",
      "Iteration 146, loss = 0.57403710\n",
      "Iteration 147, loss = 0.57337893\n",
      "Iteration 148, loss = 0.57267036\n",
      "Iteration 149, loss = 0.57192658\n",
      "Iteration 150, loss = 0.57153829\n",
      "Iteration 151, loss = 0.57107034\n",
      "Iteration 152, loss = 0.57057972\n",
      "Iteration 153, loss = 0.56960173\n",
      "Iteration 154, loss = 0.56923294\n",
      "Iteration 155, loss = 0.56849832\n",
      "Iteration 156, loss = 0.56797307\n",
      "Iteration 157, loss = 0.56727441\n",
      "Iteration 158, loss = 0.56672065\n",
      "Iteration 159, loss = 0.56602531\n",
      "Iteration 160, loss = 0.56571047\n",
      "Iteration 161, loss = 0.56507843\n",
      "Iteration 162, loss = 0.56432681\n",
      "Iteration 163, loss = 0.56410663\n",
      "Iteration 164, loss = 0.56347168\n",
      "Iteration 165, loss = 0.56280500\n",
      "Iteration 166, loss = 0.56209177\n",
      "Iteration 167, loss = 0.56137483\n",
      "Iteration 168, loss = 0.56094401\n",
      "Iteration 169, loss = 0.56032858\n",
      "Iteration 170, loss = 0.55938920\n",
      "Iteration 171, loss = 0.55927378\n",
      "Iteration 172, loss = 0.55830093\n",
      "Iteration 173, loss = 0.55792420\n",
      "Iteration 174, loss = 0.55714251\n",
      "Iteration 175, loss = 0.55703911\n",
      "Iteration 176, loss = 0.55602065\n",
      "Iteration 177, loss = 0.55556248\n",
      "Iteration 178, loss = 0.55508071\n",
      "Iteration 179, loss = 0.55454466\n",
      "Iteration 180, loss = 0.55380395\n",
      "Iteration 181, loss = 0.55339556\n",
      "Iteration 182, loss = 0.55260870\n",
      "Iteration 183, loss = 0.55199679\n",
      "Iteration 184, loss = 0.55122413\n",
      "Iteration 185, loss = 0.55095138\n",
      "Iteration 186, loss = 0.55034856\n",
      "Iteration 187, loss = 0.54957170\n",
      "Iteration 188, loss = 0.54918663\n",
      "Iteration 189, loss = 0.54855022\n",
      "Iteration 190, loss = 0.54769611\n",
      "Iteration 191, loss = 0.54737398\n",
      "Iteration 192, loss = 0.54657559\n",
      "Iteration 193, loss = 0.54619805\n",
      "Iteration 194, loss = 0.54528831\n",
      "Iteration 195, loss = 0.54487425\n",
      "Iteration 196, loss = 0.54449190\n",
      "Iteration 197, loss = 0.54399367\n",
      "Iteration 198, loss = 0.54306233\n",
      "Iteration 199, loss = 0.54220491\n",
      "Iteration 200, loss = 0.54196674\n"
     ]
    },
    {
     "name": "stderr",
     "output_type": "stream",
     "text": [
      "/opt/conda/lib/python3.6/site-packages/sklearn/neural_network/multilayer_perceptron.py:564: ConvergenceWarning: Stochastic Optimizer: Maximum iterations (200) reached and the optimization hasn't converged yet.\n",
      "  % self.max_iter, ConvergenceWarning)\n"
     ]
    }
   ],
   "source": [
    "mlpc = MLPClassifier(verbose=True, activation='tanh', learning_rate_init=0.0001, learning_rate='adaptive')\n",
    "model = mlpc.fit(X_train, y_train)\n",
    "pred = model.predict(X_test)"
   ]
  },
  {
   "cell_type": "code",
   "execution_count": 474,
   "metadata": {},
   "outputs": [
    {
     "data": {
      "text/plain": [
       "0.54252981795354682"
      ]
     },
     "execution_count": 474,
     "metadata": {},
     "output_type": "execute_result"
    }
   ],
   "source": [
    "# Accuracy\n",
    "np.sum(pred == y_test) / pred.shape[0]"
   ]
  },
  {
   "cell_type": "code",
   "execution_count": 475,
   "metadata": {},
   "outputs": [],
   "source": [
    "pred = model.predict(X_train)"
   ]
  },
  {
   "cell_type": "code",
   "execution_count": 476,
   "metadata": {},
   "outputs": [
    {
     "data": {
      "text/plain": [
       "0.7343060323688082"
      ]
     },
     "execution_count": 476,
     "metadata": {},
     "output_type": "execute_result"
    }
   ],
   "source": [
    "# Training Accuracy\n",
    "np.sum(pred == y_train) / pred.shape[0]"
   ]
  },
  {
   "cell_type": "code",
   "execution_count": null,
   "metadata": {},
   "outputs": [],
   "source": []
  },
  {
   "cell_type": "code",
   "execution_count": null,
   "metadata": {},
   "outputs": [],
   "source": []
  }
 ],
 "metadata": {
  "kernelspec": {
   "display_name": "Python 3",
   "language": "python",
   "name": "python3"
  },
  "language_info": {
   "codemirror_mode": {
    "name": "ipython",
    "version": 3
   },
   "file_extension": ".py",
   "mimetype": "text/x-python",
   "name": "python",
   "nbconvert_exporter": "python",
   "pygments_lexer": "ipython3",
   "version": "3.6.4"
  }
 },
 "nbformat": 4,
 "nbformat_minor": 2
}
