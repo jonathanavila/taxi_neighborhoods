{
 "cells": [
  {
   "cell_type": "code",
   "execution_count": 1,
   "metadata": {},
   "outputs": [
    {
     "name": "stdout",
     "output_type": "stream",
     "text": [
      "Requirement already up-to-date: scikit-learn in /opt/conda/lib/python3.6/site-packages\n",
      "\u001b[33mYou are using pip version 9.0.1, however version 10.0.1 is available.\n",
      "You should consider upgrading via the 'pip install --upgrade pip' command.\u001b[0m\n"
     ]
    }
   ],
   "source": [
    "! pip install -U scikit-learn"
   ]
  },
  {
   "cell_type": "code",
   "execution_count": 2,
   "metadata": {},
   "outputs": [
    {
     "name": "stdout",
     "output_type": "stream",
     "text": [
      "Requirement already satisfied: lightning-python in /opt/conda/lib/python3.6/site-packages\n",
      "Requirement already satisfied: setuptools in /opt/conda/lib/python3.6/site-packages (from lightning-python)\n",
      "Requirement already satisfied: six in /opt/conda/lib/python3.6/site-packages (from lightning-python)\n",
      "Requirement already satisfied: matplotlib in /opt/conda/lib/python3.6/site-packages (from lightning-python)\n",
      "Requirement already satisfied: jinja2 in /opt/conda/lib/python3.6/site-packages (from lightning-python)\n",
      "Requirement already satisfied: requests in /opt/conda/lib/python3.6/site-packages (from lightning-python)\n",
      "Requirement already satisfied: pytest in /opt/conda/lib/python3.6/site-packages (from lightning-python)\n",
      "Requirement already satisfied: numpy in /opt/conda/lib/python3.6/site-packages (from lightning-python)\n",
      "Requirement already satisfied: python-dateutil>=2.0 in /opt/conda/lib/python3.6/site-packages (from matplotlib->lightning-python)\n",
      "Requirement already satisfied: pytz in /opt/conda/lib/python3.6/site-packages (from matplotlib->lightning-python)\n",
      "Requirement already satisfied: cycler>=0.10 in /opt/conda/lib/python3.6/site-packages/cycler-0.10.0-py3.6.egg (from matplotlib->lightning-python)\n",
      "Requirement already satisfied: pyparsing!=2.0.4,!=2.1.2,!=2.1.6,>=2.0.1 in /opt/conda/lib/python3.6/site-packages (from matplotlib->lightning-python)\n",
      "Requirement already satisfied: MarkupSafe>=0.23 in /opt/conda/lib/python3.6/site-packages (from jinja2->lightning-python)\n",
      "Requirement already satisfied: chardet<3.1.0,>=3.0.2 in /opt/conda/lib/python3.6/site-packages (from requests->lightning-python)\n",
      "Requirement already satisfied: idna<2.7,>=2.5 in /opt/conda/lib/python3.6/site-packages (from requests->lightning-python)\n",
      "Requirement already satisfied: urllib3<1.23,>=1.21.1 in /opt/conda/lib/python3.6/site-packages (from requests->lightning-python)\n",
      "Requirement already satisfied: certifi>=2017.4.17 in /opt/conda/lib/python3.6/site-packages (from requests->lightning-python)\n",
      "Requirement already satisfied: more-itertools>=4.0.0 in /opt/conda/lib/python3.6/site-packages (from pytest->lightning-python)\n",
      "Requirement already satisfied: py>=1.5.0 in /opt/conda/lib/python3.6/site-packages (from pytest->lightning-python)\n",
      "Requirement already satisfied: attrs>=17.4.0 in /opt/conda/lib/python3.6/site-packages (from pytest->lightning-python)\n",
      "Requirement already satisfied: pluggy<0.7,>=0.5 in /opt/conda/lib/python3.6/site-packages (from pytest->lightning-python)\n",
      "\u001b[33mYou are using pip version 9.0.1, however version 10.0.1 is available.\n",
      "You should consider upgrading via the 'pip install --upgrade pip' command.\u001b[0m\n"
     ]
    }
   ],
   "source": [
    "! pip install lightning-python"
   ]
  },
  {
   "cell_type": "code",
   "execution_count": 3,
   "metadata": {},
   "outputs": [],
   "source": [
    "import matplotlib.pyplot as plt \n",
    "from pyspark.sql import SparkSession\n",
    "from pyspark import SparkContext, SparkConf\n",
    "from pyspark.sql.types import *\n",
    "import pyspark.sql.functions as F\n",
    "from pyspark.sql.functions import udf\n",
    "from pyspark.sql.functions import when\n",
    "from pyspark import SparkContext as sc\n",
    "from pyspark.sql.functions import col, split, ltrim, substring\n",
    "import pyspark.sql as SQL\n",
    "from pyspark.sql.functions import *\n",
    "import datetime\n",
    "import calendar\n",
    "import pandas as pd\n",
    "from pyspark.ml.linalg import Vectors\n",
    "from pyspark.ml.regression import LinearRegression\n",
    "from pyspark.sql.types import *\n",
    "import matplotlib.pyplot as plt\n",
    "import numpy as np\n",
    "from pyspark.mllib.linalg import Vectors\n",
    "from pyspark.mllib.linalg.distributed import RowMatrix\n",
    "from pyspark.ml.feature import *\n",
    "from pyspark.ml.linalg import Vectors\n",
    "from pyspark.ml.classification import MultilayerPerceptronClassifier\n",
    "from pyspark.ml.evaluation import MulticlassClassificationEvaluator\n"
   ]
  },
  {
   "cell_type": "code",
   "execution_count": 4,
   "metadata": {},
   "outputs": [],
   "source": [
    "conf = SparkConf().setAppName(\"Jan-01\").setMaster(\"local[*]\")\n",
    "sc = SparkContext(conf=conf)"
   ]
  },
  {
   "cell_type": "code",
   "execution_count": 5,
   "metadata": {},
   "outputs": [],
   "source": [
    "spark = SparkSession.builder.appName('Jan-01').getOrCreate()"
   ]
  },
  {
   "cell_type": "code",
   "execution_count": 49,
   "metadata": {},
   "outputs": [],
   "source": [
    "# Download and decompress data into your Jupyter environment; abreviated jan 2017 data\n",
    "jan_2017 = spark.read.format(\"csv\").load('yellow_tripdata_half.csv', header = True)\n",
    "#jan_2017.count()"
   ]
  },
  {
   "cell_type": "code",
   "execution_count": 50,
   "metadata": {},
   "outputs": [],
   "source": [
    "#need to get two dataframes to merge on, or else get cartesian product error\n",
    "taxi_zone = spark.read.format(\"csv\").load('taxi+_zone_lookup.csv', header = True)"
   ]
  },
  {
   "cell_type": "code",
   "execution_count": 51,
   "metadata": {},
   "outputs": [],
   "source": [
    "#merging to get destination information\n",
    "jan_2017 = jan_2017.join(taxi_zone, jan_2017.PULocationID == taxi_zone.LocationID, \"left_outer\"). \\\n",
    "                withColumnRenamed(\"Borough\", \"PUBorough\").withColumnRenamed(\"Zone\", \"PUZone\").withColumnRenamed(\"service_zone\", \"PUServiceZone\").\\\n",
    "                withColumnRenamed(\"neighborhood\", \"PUneighbor\").cache()\n",
    "    "
   ]
  },
  {
   "cell_type": "code",
   "execution_count": 52,
   "metadata": {},
   "outputs": [],
   "source": [
    "#make unique ID\n",
    "jan_2017 = jan_2017.withColumn(\"uniqueIdColumn\", monotonically_increasing_id())"
   ]
  },
  {
   "cell_type": "code",
   "execution_count": 53,
   "metadata": {},
   "outputs": [],
   "source": [
    "jan_2017 = jan_2017.drop(\"LocationID\")"
   ]
  },
  {
   "cell_type": "code",
   "execution_count": 54,
   "metadata": {},
   "outputs": [],
   "source": [
    "#encoding if pickup is an aiport\n",
    "jan_2017 = jan_2017.withColumn(\"AirportPU\", \\\n",
    "                               F.when((jan_2017[\"PULocationID\"] == '138' ) | \\\n",
    "                                      (jan_2017[\"PULocationID\"] == '132') |\\\n",
    "                                      (jan_2017[\"PULocationID\"] == '1'),1).otherwise(0))"
   ]
  },
  {
   "cell_type": "code",
   "execution_count": 55,
   "metadata": {},
   "outputs": [],
   "source": [
    "#cleaning data\n",
    "jan_2017 = jan_2017.where((jan_2017['PUBorough'] != 'Unknown'))"
   ]
  },
  {
   "cell_type": "code",
   "execution_count": 56,
   "metadata": {},
   "outputs": [],
   "source": [
    "#splitting up time and date\n",
    "split_pickup_col = split(jan_2017['tpep_pickup_datetime'], ' ')\n",
    "jan_2017 = jan_2017.withColumn(\"PUDate\", split_pickup_col.getItem(0).cast(DateType()))\n",
    "jan_2017 = jan_2017.withColumn(\"PUTime\", split_pickup_col.getItem(1))"
   ]
  },
  {
   "cell_type": "code",
   "execution_count": 57,
   "metadata": {},
   "outputs": [],
   "source": [
    "#splitting time into hour and minute; will round minute to nearest 5 minutes\n",
    "split_PUTime = split(jan_2017['PUTime'], ':')\n",
    "jan_2017 = jan_2017.withColumn(\"PUHour\", split_PUTime.getItem(0).cast(IntegerType()))\n",
    "jan_2017 = jan_2017.withColumn(\"PUMinute\", split_PUTime.getItem(1).cast(IntegerType()))"
   ]
  },
  {
   "cell_type": "code",
   "execution_count": 58,
   "metadata": {},
   "outputs": [],
   "source": [
    "#rush hour\n",
    "jan_2017 = jan_2017.withColumn(\"MorningRushHour\", \\\n",
    "                               F.when((jan_2017[\"PUHour\"] >= 6 ) & \\\n",
    "                                      (jan_2017[\"PUHour\"] < 9),1).otherwise(0))"
   ]
  },
  {
   "cell_type": "code",
   "execution_count": 59,
   "metadata": {},
   "outputs": [],
   "source": [
    "jan_2017 = jan_2017.withColumn(\"EveningRushHour\", \\\n",
    "                               F.when((jan_2017[\"PUHour\"] >= 17 ) & \\\n",
    "                                      (jan_2017[\"PUHour\"] < 21),1).otherwise(0))"
   ]
  },
  {
   "cell_type": "code",
   "execution_count": 60,
   "metadata": {},
   "outputs": [],
   "source": [
    "jan_2017 = jan_2017.withColumn(\"PUDay\", dayofyear(jan_2017.PUDate))"
   ]
  },
  {
   "cell_type": "code",
   "execution_count": 61,
   "metadata": {},
   "outputs": [],
   "source": [
    "#rounding down mintue to closest 5 minute mark (computationally easier)\n",
    "#jan_2017 = jan_2017.withColumn(\"DOMinute\", (jan_2017.DOMinute - jan_2017.DOMinute%5))\n",
    "jan_2017 = jan_2017.withColumn(\"PUMinute\", (jan_2017.PUMinute - jan_2017.PUMinute%5))"
   ]
  },
  {
   "cell_type": "code",
   "execution_count": 62,
   "metadata": {},
   "outputs": [],
   "source": [
    "#DOW gives you 1 (Monday) - 7 (Sunday)\n",
    "jan_2017 = jan_2017.withColumn(\"PU_DOW\",  date_format(jan_2017.PUDate, 'u').cast(ShortType()))\n",
    "#jan_2017 = jan_2017.withColumn(\"DO_DOW\",  date_format(jan_2017.DODate, 'u').cast(ShortType()))"
   ]
  },
  {
   "cell_type": "code",
   "execution_count": 63,
   "metadata": {},
   "outputs": [],
   "source": [
    "#encoding if destination is a weekend\n",
    "jan_2017 = jan_2017.withColumn(\"Weekend\", \\\n",
    "                               F.when((jan_2017[\"PU_DOW\"] == 7) | \\\n",
    "                                      (jan_2017[\"PU_DOW\"] == 6),1).otherwise(0))"
   ]
  },
  {
   "cell_type": "code",
   "execution_count": 64,
   "metadata": {},
   "outputs": [],
   "source": [
    "jan_2017 = jan_2017.withColumn(\"WorkingHour\", \\\n",
    "                               F.when((((jan_2017[\"PUHour\"] >= 9 ) & (jan_2017[\"PUHour\"] < 17))\\\n",
    "                                       & (jan_2017[\"Weekend\"] == 0)) ,1).otherwise(0))"
   ]
  },
  {
   "cell_type": "code",
   "execution_count": null,
   "metadata": {},
   "outputs": [],
   "source": []
  },
  {
   "cell_type": "code",
   "execution_count": 65,
   "metadata": {},
   "outputs": [],
   "source": [
    "#casting data types to primitives\n",
    "\n",
    "#1= Creative Mobile Technologies, LLC; 2= VeriFone Inc.\n",
    "jan_2017 = jan_2017.withColumn(\"VendorID\", jan_2017[\"VendorID\"].cast(ShortType()))\n",
    "\n",
    "jan_2017 = jan_2017.withColumn(\"passenger_count\", jan_2017[\"passenger_count\"].cast(ShortType()))\n",
    "\n",
    "#in miles\n",
    "jan_2017 = jan_2017.withColumn(\"trip_distance\", jan_2017[\"trip_distance\"].cast(FloatType()))\n",
    "\n",
    "#1= Credit card\n",
    "#2= Cash\n",
    "#3= No charge\n",
    "#4= Dispute\n",
    "#5= Unknown\n",
    "#6= Voided trip\n",
    "jan_2017 = jan_2017.withColumn(\"payment_type\", jan_2017[\"payment_type\"].cast(ShortType()))\n",
    "jan_2017 = jan_2017.withColumn(\"fare_amount\", jan_2017[\"fare_amount\"].cast(FloatType()))\n",
    "\n",
    "#0.50 and $1 rush hour and overnight charges.\n",
    "jan_2017 = jan_2017.withColumn(\"extra\", jan_2017[\"extra\"].cast(FloatType()))\n",
    "#.50, automatic MTA charge\n",
    "jan_2017 = jan_2017.withColumn(\"mta_tax\", jan_2017[\"mta_tax\"].cast(FloatType()))\n",
    "\n",
    "\n",
    "jan_2017 = jan_2017.withColumn(\"tip_amount\", jan_2017[\"tip_amount\"].cast(FloatType()))\n",
    "jan_2017 = jan_2017.withColumn(\"tolls_amount\", jan_2017[\"tolls_amount\"].cast(FloatType()))\n",
    "jan_2017 = jan_2017.withColumn(\"improvement_surcharge\", jan_2017[\"improvement_surcharge\"].cast(FloatType()))\n",
    "jan_2017 = jan_2017.withColumn(\"total_amount\", jan_2017[\"total_amount\"].cast(FloatType()))\n",
    "\n",
    "\n",
    "jan_2017 = jan_2017.withColumn(\"RateCodeID\", jan_2017[\"RateCodeID\"].cast(ShortType()))\n",
    "#1= Standard rate\n",
    "#2=JFK -> $52 flat fare\n",
    "#3=Newark\n",
    "#4=Nassau or Westchester\n",
    "#5=Negotiated fare\n",
    "#6=Group ride"
   ]
  },
  {
   "cell_type": "code",
   "execution_count": 66,
   "metadata": {},
   "outputs": [],
   "source": [
    "#basic fare cleaning, ensure that all values are above zero\n",
    "jan_2017 = jan_2017.filter(jan_2017.tip_amount >= 0)"
   ]
  },
  {
   "cell_type": "code",
   "execution_count": 67,
   "metadata": {},
   "outputs": [],
   "source": [
    "#basic fare cleaning, ensure that all values are above zero\n",
    "jan_2017 = jan_2017.filter(jan_2017.tolls_amount >= 0.0) "
   ]
  },
  {
   "cell_type": "code",
   "execution_count": 68,
   "metadata": {},
   "outputs": [],
   "source": [
    "#basic fare cleaning, ensure that all values are above zero\n",
    "jan_2017 = jan_2017.filter(jan_2017.total_amount >= 3.30)"
   ]
  },
  {
   "cell_type": "code",
   "execution_count": 69,
   "metadata": {},
   "outputs": [],
   "source": [
    "#basic fare cleaning, ensure that all values are above zero\n",
    "jan_2017 = jan_2017.filter(jan_2017.extra >= 0.00)"
   ]
  },
  {
   "cell_type": "code",
   "execution_count": 70,
   "metadata": {},
   "outputs": [],
   "source": [
    "#minimum fare amounts according to NYC Taxi data standards\n",
    "jan_2017 = jan_2017.filter((jan_2017.fare_amount >= 2.50))"
   ]
  },
  {
   "cell_type": "code",
   "execution_count": 71,
   "metadata": {},
   "outputs": [],
   "source": [
    "#minimum fare amounts according to NYC Taxi data standards\n",
    "jan_2017 = jan_2017.filter(jan_2017.improvement_surcharge >= 0.3)"
   ]
  },
  {
   "cell_type": "code",
   "execution_count": 72,
   "metadata": {},
   "outputs": [],
   "source": [
    "#minimum fare amounts according to NYC Taxi data standards\n",
    "jan_2017 = jan_2017.filter(jan_2017.mta_tax >= 0.5)"
   ]
  },
  {
   "cell_type": "code",
   "execution_count": 73,
   "metadata": {},
   "outputs": [],
   "source": [
    "jan_2017 = jan_2017.withColumn(\"PLocationID\", jan_2017.PULocationID.cast(IntegerType())).drop(\"PULocationID\")\n",
    "jan_2017 = jan_2017.withColumn(\"DLocationID\", jan_2017.DOLocationID.cast(IntegerType())).drop(\"DOLocationID\")\n",
    "#sampe.printSchema()\n"
   ]
  },
  {
   "cell_type": "code",
   "execution_count": 74,
   "metadata": {},
   "outputs": [],
   "source": [
    "# jan_2017.printSchema()\n",
    "jan_2017 = jan_2017.drop('tpep_pickup_datetime')\n",
    "jan_2017 = jan_2017.drop('tpep_dropoff_datetime')"
   ]
  },
  {
   "cell_type": "code",
   "execution_count": 75,
   "metadata": {},
   "outputs": [],
   "source": [
    "jan_2017 = jan_2017.drop('payment_type')\n",
    "jan_2017 = jan_2017.drop('fare_amount')\n",
    "jan_2017 = jan_2017.drop('extra')\n",
    "jan_2017 = jan_2017.drop('mta_tax')\n",
    "jan_2017 = jan_2017.drop('tip_amount')\n",
    "jan_2017 = jan_2017.drop('tolls_amount')\n",
    "jan_2017 = jan_2017.drop('improvement_surcharge')\n",
    "jan_2017 = jan_2017.drop('total_amount')"
   ]
  },
  {
   "cell_type": "code",
   "execution_count": 76,
   "metadata": {},
   "outputs": [],
   "source": [
    "jan_2017 = jan_2017.drop('trip_distance')\n",
    "jan_2017 = jan_2017.drop('store_and_fwd_flag')"
   ]
  },
  {
   "cell_type": "code",
   "execution_count": 77,
   "metadata": {},
   "outputs": [],
   "source": [
    "#load weather data for merging\n",
    "weather_data = spark.read.load('weather.txt', format=\"text\")"
   ]
  },
  {
   "cell_type": "code",
   "execution_count": 78,
   "metadata": {},
   "outputs": [],
   "source": [
    "weather_data.createOrReplaceTempView('weather_data_sdf')"
   ]
  },
  {
   "cell_type": "code",
   "execution_count": 79,
   "metadata": {},
   "outputs": [],
   "source": [
    "weather_data = spark.sql('SELECT CAST(split(value, \",\")[0] as string) AS date, '\\\n",
    "                        'CAST(split(value, \",\")[1] as string) as time, '\\\n",
    "                        'CAST(split(value, \",\")[2] as float) as temp, '\\\n",
    "                        'CAST(split(value, \",\")[3] as float) as windchill, '\\\n",
    "                        'CAST(split(value, \",\")[4] as float) as dewpoint, '\\\n",
    "                        'CAST(split(value, \",\")[5] as float) as humidity, '\\\n",
    "                        'CAST(split(value, \",\")[6] as float) as pressure, '\\\n",
    "                        'CAST(split(value, \",\")[7] as float) as visibility, '\\\n",
    "                        'CAST(split(value, \",\")[8] as string) as windDir, '\\\n",
    "                        'CAST(split(value, \",\")[9] as float) as windSpeed, '\\\n",
    "                        'CAST(split(value, \",\")[10] as float) as gustSpeed, '\\\n",
    "                        'CAST(split(value, \",\")[11] as float) as Precip, '\\\n",
    "                        'CAST(split(value, \",\")[12] as string) as Events, '\\\n",
    "                        'CAST(split(value, \",\")[13] as string) as Conditions '\\\n",
    "                         'FROM weather_data_sdf')"
   ]
  },
  {
   "cell_type": "code",
   "execution_count": 80,
   "metadata": {},
   "outputs": [],
   "source": [
    "#cast date to date type\n",
    "weather_data = weather_data.withColumn(\"date\", weather_data.date.cast(DateType()))"
   ]
  },
  {
   "cell_type": "code",
   "execution_count": 81,
   "metadata": {},
   "outputs": [],
   "source": [
    "def period(x):\n",
    "    return split(split(x, ':')[1], \" \")[1]"
   ]
  },
  {
   "cell_type": "code",
   "execution_count": 82,
   "metadata": {},
   "outputs": [],
   "source": [
    "def toHour(x):\n",
    "    first_split = split(x, ':')\n",
    "    retval = first_split[0].cast(IntegerType()) % 12\n",
    "    return retval "
   ]
  },
  {
   "cell_type": "code",
   "execution_count": 83,
   "metadata": {},
   "outputs": [],
   "source": [
    "#get am or pm\n",
    "weather_data = weather_data.withColumn(\"period\", period(\"time\"))"
   ]
  },
  {
   "cell_type": "code",
   "execution_count": 84,
   "metadata": {},
   "outputs": [],
   "source": [
    "#make hour military time\n",
    "weather_data = weather_data.withColumn(\"hour\", when(weather_data.period == 'PM', toHour(\"time\") + 12).otherwise(toHour(\"time\")))"
   ]
  },
  {
   "cell_type": "code",
   "execution_count": 85,
   "metadata": {},
   "outputs": [],
   "source": [
    "# #fill any nulls\n",
    "weather_data = weather_data.na.fill(0)"
   ]
  },
  {
   "cell_type": "code",
   "execution_count": 43,
   "metadata": {},
   "outputs": [],
   "source": [
    "#make temporary views for joining\n",
    "# weather_data.createOrReplaceTempView('weather_data_sdf')\n",
    "\n",
    "# weather_data_pu = spark.sql('SELECT date AS PUTempdate, '\\\n",
    "#                             'time as PUTemptime, ' \\\n",
    "#                             'temp as PUtemp, '\\\n",
    "#                             'windchill as PUwindchill, '\\\n",
    "#                             'dewpoint as PUdewpoint, '\\\n",
    "#                             'pressure as PUpressure, '\\\n",
    "#                             'visibility as PUvisibility, '\\\n",
    "#                             'windDir as PUwindDir, '\\\n",
    "#                             'gustSpeed as PUgustSpeed, '\\\n",
    "#                             'Precip as PUPrecip, '\\\n",
    "#                             'Events as PUEvents, '\\\n",
    "#                             'Conditions as PUConditions, '\\\n",
    "#                             'period as PUperiod, '\\\n",
    "#                             'hour as PUTemphour '\\\n",
    "#                             'FROM weather_data_sdf')\n"
   ]
  },
  {
   "cell_type": "code",
   "execution_count": 86,
   "metadata": {},
   "outputs": [
    {
     "name": "stdout",
     "output_type": "stream",
     "text": [
      "root\n",
      " |-- date: date (nullable = true)\n",
      " |-- time: string (nullable = true)\n",
      " |-- temp: float (nullable = false)\n",
      " |-- windchill: float (nullable = false)\n",
      " |-- dewpoint: float (nullable = false)\n",
      " |-- humidity: float (nullable = false)\n",
      " |-- pressure: float (nullable = false)\n",
      " |-- visibility: float (nullable = false)\n",
      " |-- windDir: string (nullable = true)\n",
      " |-- windSpeed: float (nullable = false)\n",
      " |-- gustSpeed: float (nullable = false)\n",
      " |-- Precip: float (nullable = false)\n",
      " |-- Events: string (nullable = true)\n",
      " |-- Conditions: string (nullable = true)\n",
      " |-- period: string (nullable = true)\n",
      " |-- hour: integer (nullable = true)\n",
      "\n",
      "root\n",
      " |-- PUTempdate: date (nullable = true)\n",
      " |-- PUTemptime: string (nullable = true)\n",
      " |-- PUtemp: float (nullable = false)\n",
      " |-- PUwindchill: float (nullable = false)\n",
      " |-- PUdewpoint: float (nullable = false)\n",
      " |-- PUpressure: float (nullable = false)\n",
      " |-- PUvisibility: float (nullable = false)\n",
      " |-- PUwindDir: string (nullable = true)\n",
      " |-- PUgustSpeed: float (nullable = false)\n",
      " |-- PUPrecip: float (nullable = false)\n",
      " |-- PUEvents: string (nullable = true)\n",
      " |-- PUConditions: string (nullable = true)\n",
      " |-- PUperiod: string (nullable = true)\n",
      " |-- PUTemphour: integer (nullable = true)\n",
      "\n",
      "root\n",
      " |-- VendorID: short (nullable = true)\n",
      " |-- passenger_count: short (nullable = true)\n",
      " |-- RateCodeID: short (nullable = true)\n",
      " |-- PUBorough: string (nullable = true)\n",
      " |-- PUZone: string (nullable = true)\n",
      " |-- PUServiceZone: string (nullable = true)\n",
      " |-- PUneighbor: string (nullable = true)\n",
      " |-- uniqueIdColumn: long (nullable = false)\n",
      " |-- AirportPU: integer (nullable = false)\n",
      " |-- PUDate: date (nullable = true)\n",
      " |-- PUTime: string (nullable = true)\n",
      " |-- PUHour: integer (nullable = true)\n",
      " |-- PUMinute: integer (nullable = true)\n",
      " |-- MorningRushHour: integer (nullable = false)\n",
      " |-- EveningRushHour: integer (nullable = false)\n",
      " |-- PUDay: integer (nullable = true)\n",
      " |-- PU_DOW: short (nullable = true)\n",
      " |-- Weekend: integer (nullable = false)\n",
      " |-- WorkingHour: integer (nullable = false)\n",
      " |-- PLocationID: integer (nullable = true)\n",
      " |-- DLocationID: integer (nullable = true)\n",
      "\n"
     ]
    }
   ],
   "source": [
    "weather_data.printSchema()\n",
    "weather_data_pu.printSchema()\n",
    "jan_2017.printSchema()"
   ]
  },
  {
   "cell_type": "code",
   "execution_count": 87,
   "metadata": {},
   "outputs": [],
   "source": [
    "jan_2017 = jan_2017.join(weather_data, (jan_2017.PUDate == weather_data.date) & \\\n",
    "                         (jan_2017.PUHour == weather_data.hour), \"left_outer\")"
   ]
  },
  {
   "cell_type": "code",
   "execution_count": 88,
   "metadata": {},
   "outputs": [],
   "source": [
    "jan_2017 = jan_2017.dropDuplicates(['uniqueIdColumn'])"
   ]
  },
  {
   "cell_type": "code",
   "execution_count": 89,
   "metadata": {},
   "outputs": [],
   "source": [
    "#extra, payment type, fare amount, mta_tax, tip_amount, tollsamount, total_amount, improvement surcharge\n",
    "\n",
    "# Categorical Features\n",
    "# RateCodeID\n",
    "# store_and_fwd_flag\n",
    "# PULocationID\n",
    "# DOLocationID\n",
    "# LocationID (1 to 256)\n",
    "# PUBorough (comes from taxi+_lookup_zone)\n",
    "# PUZone (Name for Location ID)\n",
    "# PUServiceZone (Categorical)\n",
    "# PUNeighbor (Demographics Neighborhood)\n",
    "# PUDay (1-365)\n",
    "# PU_DOW (Day of week)\n",
    "# PUEvents\n",
    "# PUConditions\n",
    "# PUPeriod (AM or PM)\n",
    "\n",
    "jan_2017 = jan_2017.drop('PUDate')\n",
    "jan_2017 = jan_2017.drop('PUTime')\n",
    "jan_2017 = jan_2017.drop('date')\n",
    "jan_2017 = jan_2017.drop('time')"
   ]
  },
  {
   "cell_type": "code",
   "execution_count": 90,
   "metadata": {},
   "outputs": [],
   "source": [
    "jan_2017 = jan_2017.drop('hour')\n"
   ]
  },
  {
   "cell_type": "code",
   "execution_count": 91,
   "metadata": {},
   "outputs": [],
   "source": [
    "PUdemographics = spark.read.format(\"csv\").load('demographics.csv', header = True).cache()\n"
   ]
  },
  {
   "cell_type": "code",
   "execution_count": null,
   "metadata": {},
   "outputs": [],
   "source": []
  },
  {
   "cell_type": "code",
   "execution_count": 92,
   "metadata": {},
   "outputs": [],
   "source": [
    "PUnames = PUdemographics.schema.names\n",
    "i = 0\n",
    "for name in PUnames:\n",
    "    if (i != 0):\n",
    "        PUdemographics = PUdemographics.withColumn(\"PU\" + name, col(name).cast(FloatType())).drop(name)\n",
    "    i += 1"
   ]
  },
  {
   "cell_type": "code",
   "execution_count": 93,
   "metadata": {},
   "outputs": [],
   "source": [
    "#PUdemographics.printSchema()"
   ]
  },
  {
   "cell_type": "code",
   "execution_count": 94,
   "metadata": {},
   "outputs": [],
   "source": [
    "# One hot encoding categorical variables\n"
   ]
  },
  {
   "cell_type": "code",
   "execution_count": 95,
   "metadata": {},
   "outputs": [],
   "source": [
    "jan_2017 = jan_2017.join(PUdemographics, jan_2017.PUneighbor == PUdemographics.neighborhood, \"left_outer\")\n",
    "jan_2017 = jan_2017.dropDuplicates(['uniqueIdColumn'])\n",
    "jan_2017 = jan_2017.drop('neighborhood')"
   ]
  },
  {
   "cell_type": "code",
   "execution_count": 51,
   "metadata": {},
   "outputs": [],
   "source": [
    "def one_hot(input_sdf, col_name):\n",
    "    if (col_name == \"PUZone\"):\n",
    "        return input_sdf\n",
    "    else:\n",
    "        i = 0\n",
    "        col_vals = input_sdf.select(col_name).distinct().rdd.flatMap(lambda x: x).collect()\n",
    "        for val in col_vals:\n",
    "            i += 1\n",
    "            input_sdf = input_sdf.withColumn(\"{0}_is_{1}\".format(col_name, val), \\\n",
    "                                           F.when(input_sdf[col_name] == val, 1).otherwise(0))\n",
    "        return input_sdf"
   ]
  },
  {
   "cell_type": "code",
   "execution_count": 96,
   "metadata": {},
   "outputs": [
    {
     "name": "stdout",
     "output_type": "stream",
     "text": [
      "root\n",
      " |-- VendorID: short (nullable = true)\n",
      " |-- passenger_count: short (nullable = true)\n",
      " |-- RateCodeID: short (nullable = true)\n",
      " |-- PUBorough: string (nullable = true)\n",
      " |-- PUZone: string (nullable = true)\n",
      " |-- PUServiceZone: string (nullable = true)\n",
      " |-- PUneighbor: string (nullable = true)\n",
      " |-- uniqueIdColumn: long (nullable = false)\n",
      " |-- AirportPU: integer (nullable = false)\n",
      " |-- PUHour: integer (nullable = true)\n",
      " |-- PUMinute: integer (nullable = true)\n",
      " |-- MorningRushHour: integer (nullable = false)\n",
      " |-- EveningRushHour: integer (nullable = false)\n",
      " |-- PUDay: integer (nullable = true)\n",
      " |-- PU_DOW: short (nullable = true)\n",
      " |-- Weekend: integer (nullable = false)\n",
      " |-- WorkingHour: integer (nullable = false)\n",
      " |-- PLocationID: integer (nullable = true)\n",
      " |-- DLocationID: integer (nullable = true)\n",
      " |-- temp: float (nullable = true)\n",
      " |-- windchill: float (nullable = true)\n",
      " |-- dewpoint: float (nullable = true)\n",
      " |-- humidity: float (nullable = true)\n",
      " |-- pressure: float (nullable = true)\n",
      " |-- visibility: float (nullable = true)\n",
      " |-- windDir: string (nullable = true)\n",
      " |-- windSpeed: float (nullable = true)\n",
      " |-- gustSpeed: float (nullable = true)\n",
      " |-- Precip: float (nullable = true)\n",
      " |-- Events: string (nullable = true)\n",
      " |-- Conditions: string (nullable = true)\n",
      " |-- period: string (nullable = true)\n",
      " |-- PUalone_hhld: float (nullable = true)\n",
      " |-- PUbachelor_higher: float (nullable = true)\n",
      " |-- PUbornstate: float (nullable = true)\n",
      " |-- PUcarfree: float (nullable = true)\n",
      " |-- PUcommutetime: float (nullable = true)\n",
      " |-- PUdisabled: float (nullable = true)\n",
      " |-- PUdisconnected: float (nullable = true)\n",
      " |-- PUforeign: float (nullable = true)\n",
      " |-- PUgross_rent_adj: float (nullable = true)\n",
      " |-- PUhhu18: float (nullable = true)\n",
      " |-- PUhomeownership: float (nullable = true)\n",
      " |-- PUhousing_units: float (nullable = true)\n",
      " |-- PUincome_diversity_ratio: float (nullable = true)\n",
      " |-- PUlaborforcerate: float (nullable = true)\n",
      " |-- PUmedhhincome_adj: float (nullable = true)\n",
      " |-- PUmedhhincome_own_adj: float (nullable = true)\n",
      " |-- PUmedhhincome_rent_adj: float (nullable = true)\n",
      " |-- PUnohsdiploma: float (nullable = true)\n",
      " |-- PUpark_share: float (nullable = true)\n",
      " |-- PUpasian: float (nullable = true)\n",
      " |-- PUpblack: float (nullable = true)\n",
      " |-- PUphisp: float (nullable = true)\n",
      " |-- PUpop65: float (nullable = true)\n",
      " |-- PUpopulation: float (nullable = true)\n",
      " |-- PUpopulation_density: float (nullable = true)\n",
      " |-- PUpov65older: float (nullable = true)\n",
      " |-- PUpovrate: float (nullable = true)\n",
      " |-- PUpovunder18: float (nullable = true)\n",
      " |-- PUprof_pct_ela: float (nullable = true)\n",
      " |-- PUprof_pct_math: float (nullable = true)\n",
      " |-- PUprop_rt: float (nullable = true)\n",
      " |-- PUpwhite: float (nullable = true)\n",
      " |-- PUrdindex: float (nullable = true)\n",
      " |-- PUrent_pct_nycha: float (nullable = true)\n",
      " |-- PUrentvacrate: float (nullable = true)\n",
      " |-- PUserious_viol_rate: float (nullable = true)\n",
      " |-- PUsevcrowd: float (nullable = true)\n",
      " |-- PUsubway_share: float (nullable = true)\n",
      " |-- PUtot_rt: float (nullable = true)\n",
      " |-- PUtotal_viol_rate: float (nullable = true)\n",
      " |-- PUunemprate: float (nullable = true)\n",
      " |-- PUviol_rt: float (nullable = true)\n",
      " |-- PUvolume_al: float (nullable = true)\n",
      "\n"
     ]
    }
   ],
   "source": [
    "jan_2017.printSchema()\n",
    "# Categorical Features\n",
    "# RateCodeID\n",
    "# store_and_fwd_flag\n",
    "# PULocationID\n",
    "# DOLocationID\n",
    "# LocationID (1 to 256)\n",
    "# PUBorough (comes from taxi+_lookup_zone)\n",
    "# PUZone (Name for Location ID)\n",
    "# PUServiceZone (Categorical)\n",
    "# PUNeighbor (Demographics Neighborhood)\n",
    "# PUDay (1-365)\n",
    "# PU_DOW (Day of week)\n",
    "# PUEvents\n",
    "# PUConditions\n",
    "# PUPeriod (AM or PM)\n",
    "#jan_2017.printSchema()"
   ]
  },
  {
   "cell_type": "code",
   "execution_count": 97,
   "metadata": {},
   "outputs": [
    {
     "data": {
      "text/plain": [
       "4925213"
      ]
     },
     "execution_count": 97,
     "metadata": {},
     "output_type": "execute_result"
    }
   ],
   "source": [
    "jan_2017.count()"
   ]
  },
  {
   "cell_type": "code",
   "execution_count": 98,
   "metadata": {},
   "outputs": [],
   "source": [
    "#dropping only 0.004527722963% of the data\n",
    "jan_2017 = jan_2017.na.drop().cache()"
   ]
  },
  {
   "cell_type": "code",
   "execution_count": 100,
   "metadata": {
    "collapsed": true
   },
   "outputs": [
    {
     "name": "stdout",
     "output_type": "stream",
     "text": [
      "+--------+---------------+----------+---------+--------------------+-------------+--------------------+--------------+---------+------+--------+---------------+---------------+-----+------+-------+-----------+-----------+-----------+----+---------+--------+--------+--------+----------+--------+---------+---------+------+------+----------+------+------------+-----------------+-----------+----------+-------------+-----------+--------------+----------+----------------+-----------+---------------+---------------+------------------------+----------------+-----------------+---------------------+----------------------+-------------+------------+----------+-----------+-----------+----------+------------+--------------------+------------+----------+------------+--------------+---------------+---------+----------+----------+----------------+-------------+-------------------+-----------+--------------+---------+-----------------+-----------+---------+-----------+\n",
      "|VendorID|passenger_count|RateCodeID|PUBorough|              PUZone|PUServiceZone|          PUneighbor|uniqueIdColumn|AirportPU|PUHour|PUMinute|MorningRushHour|EveningRushHour|PUDay|PU_DOW|Weekend|WorkingHour|PLocationID|DLocationID|temp|windchill|dewpoint|humidity|pressure|visibility| windDir|windSpeed|gustSpeed|Precip|Events|Conditions|period|PUalone_hhld|PUbachelor_higher|PUbornstate| PUcarfree|PUcommutetime| PUdisabled|PUdisconnected| PUforeign|PUgross_rent_adj|    PUhhu18|PUhomeownership|PUhousing_units|PUincome_diversity_ratio|PUlaborforcerate|PUmedhhincome_adj|PUmedhhincome_own_adj|PUmedhhincome_rent_adj|PUnohsdiploma|PUpark_share|  PUpasian|   PUpblack|    PUphisp|   PUpop65|PUpopulation|PUpopulation_density|PUpov65older| PUpovrate|PUpovunder18|PUprof_pct_ela|PUprof_pct_math|PUprop_rt|  PUpwhite| PUrdindex|PUrent_pct_nycha|PUrentvacrate|PUserious_viol_rate| PUsevcrowd|PUsubway_share| PUtot_rt|PUtotal_viol_rate|PUunemprate|PUviol_rt|PUvolume_al|\n",
      "+--------+---------------+----------+---------+--------------------+-------------+--------------------+--------------+---------+------+--------+---------------+---------------+-----+------+-------+-----------+-----------+-----------+----+---------+--------+--------+--------+----------+--------+---------+---------+------+------+----------+------+------------+-----------------+-----------+----------+-------------+-----------+--------------+----------+----------------+-----------+---------------+---------------+------------------------+----------------+-----------------+---------------------+----------------------+-------------+------------+----------+-----------+-----------+----------+------------+--------------------+------------+----------+------------+--------------+---------------+---------+----------+----------+----------------+-------------+-------------------+-----------+--------------+---------+-----------------+-----------+---------+-----------+\n",
      "|       2|              1|         1|Manhattan|        East Chelsea|  Yellow Zone|     clinton-chelsea|            26|        0|     0|       0|              0|              0|    1|     7|      1|          0|         68|         48|44.1|     42.5|    25.0|    47.0|   29.89|      10.0|Variable|      3.5|      0.0|   0.0|    \t |  Overcast|    AM|    0.591151|       0.78122497| 0.33588597|0.90639603|    26.175892|0.062489986|   0.037558686| 0.3098248|          2230.0|0.093174405|     0.21923822|       103852.0|               7.4342103|      0.75694627|         101550.0|             146530.0|               92250.0|   0.04280816|  0.72745204| 0.1828203| 0.04275314| 0.12741806|0.11623065|    140247.0|           45.638466|   0.1820139|0.12677234| 0.045115486|    0.67155427|     0.65895957|18.528742| 0.6118348|0.57417166|     0.037422866|  0.049581673|          20.406475| 0.02438232|           1.0|23.265049|         81.90703| 0.03342539|4.7363067|      511.0|\n",
      "|       2|              1|         5| Brooklyn|           Bay Ridge|    Boro Zone|bay-ridge-dyker-h...|            29|        0|     0|       0|              0|              0|    1|     7|      1|          0|         14|         14|44.1|     42.5|    25.0|    47.0|   29.89|      10.0|Variable|      3.5|      0.0|   0.0|    \t |  Overcast|    AM|   0.3080038|       0.40417996|  0.5103111| 0.7019055|     44.84275| 0.05763086|   0.050389703|0.37879196|          1440.0| 0.27527606|     0.42924476|        52340.0|                5.076923|       0.6578435|          66570.0|              88800.0|               54050.0|   0.18735293|   0.6291906|0.24058954|0.016666107| 0.15953167|0.15043265|    118804.0|           30.588053|  0.10202475|0.15040651|  0.22202054|     0.5328302|      0.6082779|4.9481487| 0.5583987|0.60457945|             0.0|   0.03687849|          20.736515|0.061370295|    0.93032724|6.7314105|         98.15519|0.068094224|1.7832614|      351.0|\n",
      "|       1|              1|         1|Manhattan|        Clinton West|  Yellow Zone|     clinton-chelsea|           474|        0|     6|      55|              1|              0|    1|     7|      1|          0|         50|        161|44.1|      0.0|    25.0|    47.0|   30.01|      10.0|   North|      0.0|      0.0|   0.0|    \t |     Clear|    AM|    0.591151|       0.78122497| 0.33588597|0.90639603|    26.175892|0.062489986|   0.037558686| 0.3098248|          2230.0|0.093174405|     0.21923822|       103852.0|               7.4342103|      0.75694627|         101550.0|             146530.0|               92250.0|   0.04280816|  0.72745204| 0.1828203| 0.04275314| 0.12741806|0.11623065|    140247.0|           45.638466|   0.1820139|0.12677234| 0.045115486|    0.67155427|     0.65895957|18.528742| 0.6118348|0.57417166|     0.037422866|  0.049581673|          20.406475| 0.02438232|           1.0|23.265049|         81.90703| 0.03342539|4.7363067|      511.0|\n",
      "|       1|              1|         1|Manhattan|            Union Sq|  Yellow Zone|greenwich-village...|           964|        0|     7|       0|              1|              0|    1|     7|      1|          0|        234|        137|44.1|     39.5|    26.1|    49.0|   30.04|      10.0|    West|      8.1|      0.0|   0.0|    \t |     Clear|    AM|  0.45126778|        0.8014709| 0.38359955| 0.8863079|    25.633043|0.034581628|   0.009830509|0.22653177|          2530.0| 0.18245585|      0.2802751|        87577.0|                5.135714|      0.75197864|         137210.0|             210110.0|              120130.0|   0.04194736|  0.96378475|0.13909811|0.018316505|0.056559324| 0.1164626|    152813.0|           51.538956|  0.09101661| 0.0800945|   0.0475287|    0.76760566|      0.8181818|21.751688| 0.7583452|0.40202987|             0.0|  0.043694243|          24.540657| 0.03217399|           1.0|25.417704|       106.459404|0.039233375| 3.666015|      407.0|\n",
      "|       2|              2|         1|Manhattan|      Yorkville West|  Yellow Zone|     upper-east-side|          1677|        0|     7|      10|              1|              0|    1|     7|      1|          0|        263|        238|44.1|     39.5|    26.1|    49.0|   30.04|      10.0|    West|      8.1|      0.0|   0.0|    \t |     Clear|    AM|  0.46506497|       0.80853724| 0.47733375| 0.8295214|     32.54397|0.041147184|   0.020695144|0.23663951|          2250.0| 0.17837445|      0.3747926|       133836.0|               6.0869565|      0.71909726|         116970.0|             184050.0|              101250.0|   0.03111998|  0.65935075|0.10555515|0.022816936| 0.12078775|0.18090537|    219004.0|          108.525276|  0.11705447|0.06525908|  0.02266688|     0.7605263|     0.74580646|7.5072756| 0.7274022| 0.4446338|     0.030676179|   0.04657141|           14.20692|0.018507127|     0.8794264| 8.562204|         69.43284|0.033834368| 1.054929|      734.0|\n",
      "|       1|              1|         1|Manhattan|         Murray Hill|  Yellow Zone|stuyvesant-town-t...|          1697|        0|     7|      10|              1|              0|    1|     7|      1|          0|        170|        140|44.1|     39.5|    26.1|    49.0|   30.04|      10.0|    West|      8.1|      0.0|   0.0|    \t |     Clear|    AM|  0.57164156|       0.80019236| 0.41157678| 0.9135697|    26.305624|0.044648167|    0.05526512|0.22056927|          2530.0| 0.12217326|     0.32273003|        94974.0|               5.2222223|       0.7165772|         110400.0|             125900.0|              101740.0|  0.040741675|  0.82974327|0.15852708|0.024298323| 0.07261869|0.17719358|    141162.0|           86.021935|   0.0650062|0.07110356|  0.01811925|    0.76632303|     0.73754156| 8.967039| 0.7207889|0.44946867|     0.009126321|  0.046181545|           8.167574|0.021643117|    0.98522085| 10.80248|         45.30133|0.033180363|1.8354409|      528.0|\n",
      "|       2|              4|         1|Manhattan|     Lower East Side|  Yellow Zone|lower-east-side-c...|          1950|        0|     7|      15|              1|              0|    1|     7|      1|          0|        148|        140|44.1|     39.5|    26.1|    49.0|   30.04|      10.0|    West|      8.1|      0.0|   0.0|    \t |     Clear|    AM|  0.50196373|       0.43150792| 0.37473005|0.87019444|    32.774166|0.078546755|    0.04097804|0.36311647|          1050.0| 0.14044213|    0.109666236|        81611.0|                8.077465|      0.57301885|          41210.0|              90180.0|               37080.0|   0.26552936|   0.9519986|  0.335112|0.088721626| 0.22383487| 0.1713163|    159296.0|             91.1826|   0.3653434|0.25478825|  0.25430053|     0.4923208|      0.5964467|10.154523|0.33174717| 0.7196702|      0.23975927|   0.03353153|          29.267155|0.033436134|     0.8903183|14.698947|        137.58318|0.055613495|4.5444245|      137.0|\n",
      "|       1|              1|         1|Manhattan| UN/Turtle Bay South|  Yellow Zone|stuyvesant-town-t...|          2040|        0|     7|      15|              1|              0|    1|     7|      1|          0|        233|        186|44.1|     39.5|    26.1|    49.0|   30.04|      10.0|    West|      8.1|      0.0|   0.0|    \t |     Clear|    AM|  0.57164156|       0.80019236| 0.41157678| 0.9135697|    26.305624|0.044648167|    0.05526512|0.22056927|          2530.0| 0.12217326|     0.32273003|        94974.0|               5.2222223|       0.7165772|         110400.0|             125900.0|              101740.0|  0.040741675|  0.82974327|0.15852708|0.024298323| 0.07261869|0.17719358|    141162.0|           86.021935|   0.0650062|0.07110356|  0.01811925|    0.76632303|     0.73754156| 8.967039| 0.7207889|0.44946867|     0.009126321|  0.046181545|           8.167574|0.021643117|    0.98522085| 10.80248|         45.30133|0.033180363|1.8354409|      528.0|\n",
      "|       2|              6|         1|   Queens|         JFK Airport|     Airports|             airport|          2214|        1|     7|      20|              1|              0|    1|     7|      1|          0|        132|        218|44.1|     39.5|    26.1|    49.0|   30.04|      10.0|    West|      8.1|      0.0|   0.0|    \t |     Clear|    AM|  0.31938934|        0.3668484|  0.4788116|0.71624535|     41.35221|0.085213274|     0.0651378|0.36546013|       1430.8474| 0.30090275|      0.3113571|       63980.76|                5.601235|       0.6363629|         61706.61|             96132.03|             49947.965|   0.18914981|   0.7203781|0.13247497|   0.216347|  0.2968986|0.13313518|   155454.36|           43.645905|  0.19992936|0.19560525|  0.25153065|    0.44093007|      0.4430428| 8.647801|0.32453018|0.57453614|      0.09607554|  0.035720024|           48.23682|0.042730317|     0.8177633| 13.48251|        232.27821| 0.07035005|4.8347077|  456.18643|\n",
      "|       1|              1|         1|Manhattan|West Chelsea/Huds...|  Yellow Zone|     clinton-chelsea|          2250|        0|     7|      20|              1|              0|    1|     7|      1|          0|        246|        158|44.1|     39.5|    26.1|    49.0|   30.04|      10.0|    West|      8.1|      0.0|   0.0|    \t |     Clear|    AM|    0.591151|       0.78122497| 0.33588597|0.90639603|    26.175892|0.062489986|   0.037558686| 0.3098248|          2230.0|0.093174405|     0.21923822|       103852.0|               7.4342103|      0.75694627|         101550.0|             146530.0|               92250.0|   0.04280816|  0.72745204| 0.1828203| 0.04275314| 0.12741806|0.11623065|    140247.0|           45.638466|   0.1820139|0.12677234| 0.045115486|    0.67155427|     0.65895957|18.528742| 0.6118348|0.57417166|     0.037422866|  0.049581673|          20.406475| 0.02438232|           1.0|23.265049|         81.90703| 0.03342539|4.7363067|      511.0|\n",
      "+--------+---------------+----------+---------+--------------------+-------------+--------------------+--------------+---------+------+--------+---------------+---------------+-----+------+-------+-----------+-----------+-----------+----+---------+--------+--------+--------+----------+--------+---------+---------+------+------+----------+------+------------+-----------------+-----------+----------+-------------+-----------+--------------+----------+----------------+-----------+---------------+---------------+------------------------+----------------+-----------------+---------------------+----------------------+-------------+------------+----------+-----------+-----------+----------+------------+--------------------+------------+----------+------------+--------------+---------------+---------+----------+----------+----------------+-------------+-------------------+-----------+--------------+---------+-----------------+-----------+---------+-----------+\n",
      "only showing top 10 rows\n",
      "\n"
     ]
    }
   ],
   "source": [
    "# jan_2017.show(10)"
   ]
  },
  {
   "cell_type": "code",
   "execution_count": 101,
   "metadata": {},
   "outputs": [],
   "source": [
    "indexer = StringIndexer(inputCol=\"PUZone\", outputCol=\"PUZoneIndex\")\n",
    "jan_2017 = indexer.fit(jan_2017).transform(jan_2017)\n",
    "encoder = OneHotEncoder(inputCol='PUZoneIndex', outputCol=\"PUZoneVect\")\n",
    "jan_2017 = encoder.transform(jan_2017).drop('PUZoneIndex')"
   ]
  },
  {
   "cell_type": "code",
   "execution_count": 102,
   "metadata": {},
   "outputs": [],
   "source": [
    "encoder = OneHotEncoder(inputCol='RateCodeID', outputCol=\"RateCodeIDVect\")\n",
    "jan_2017 = encoder.transform(jan_2017).drop('RateCodeID')"
   ]
  },
  {
   "cell_type": "code",
   "execution_count": 103,
   "metadata": {},
   "outputs": [],
   "source": [
    "# encoder = OneHotEncoder(inputCol='store_and_fwd_flag', outputCol=\"store_and_fwd_flagVect\")\n",
    "# jan_2017 = encoder.transform(jan_2017).drop('store_and_fwd_flag')"
   ]
  },
  {
   "cell_type": "code",
   "execution_count": 104,
   "metadata": {},
   "outputs": [],
   "source": [
    "encoder = OneHotEncoder(inputCol='PLocationID', outputCol=\"PLocationIDVect\")\n",
    "jan_2017 = encoder.transform(jan_2017).drop('PLocationID')"
   ]
  },
  {
   "cell_type": "code",
   "execution_count": 105,
   "metadata": {},
   "outputs": [],
   "source": [
    "# jan_2017 = one_hot(jan_2017, 'DOLocationID')\n",
    "# print('done encoding DOLocationID')"
   ]
  },
  {
   "cell_type": "code",
   "execution_count": 106,
   "metadata": {},
   "outputs": [],
   "source": [
    "# jan_2017 = one_hot(jan_2017, 'LocationID')\n",
    "# print('done encoding LocationID')"
   ]
  },
  {
   "cell_type": "code",
   "execution_count": 107,
   "metadata": {},
   "outputs": [],
   "source": [
    "indexer = StringIndexer(inputCol=\"PUBorough\", outputCol=\"PUBoroughIndex\")\n",
    "jan_2017 = indexer.fit(jan_2017).transform(jan_2017)\n",
    "encoder = OneHotEncoder(inputCol='PUBoroughIndex', outputCol=\"PUBoroughVect\")\n",
    "jan_2017 = encoder.transform(jan_2017).drop('PUBoroughIndex')"
   ]
  },
  {
   "cell_type": "code",
   "execution_count": 108,
   "metadata": {},
   "outputs": [],
   "source": [
    "indexer = StringIndexer(inputCol=\"PUServiceZone\", outputCol=\"PUServiceZoneIndex\")\n",
    "jan_2017 = indexer.fit(jan_2017).transform(jan_2017)\n",
    "encoder = OneHotEncoder(inputCol='PUServiceZoneIndex', outputCol=\"PUServiceZoneVect\")\n",
    "jan_2017 = encoder.transform(jan_2017).drop('PUServiceZoneIndex')"
   ]
  },
  {
   "cell_type": "code",
   "execution_count": 109,
   "metadata": {},
   "outputs": [],
   "source": [
    "# indexer = StringIndexer(inputCol=\"PUNeighbor\", outputCol=\"PUNeighborIndex\")\n",
    "# jan_2017 = indexer.fit(jan_2017).transform(jan_2017)\n",
    "# encoder = OneHotEncoder(inputCol='PUNeighborIndex', outputCol=\"PUNeighborVect\")\n",
    "# jan_2017 = encoder.transform(jan_2017).drop('PUNeighborIndex')"
   ]
  },
  {
   "cell_type": "code",
   "execution_count": 110,
   "metadata": {},
   "outputs": [],
   "source": [
    "encoder = OneHotEncoder(inputCol='PU_DOW', outputCol=\"PU_DOWVect\")\n",
    "jan_2017 = encoder.transform(jan_2017).drop('PU_DOW')"
   ]
  },
  {
   "cell_type": "code",
   "execution_count": 112,
   "metadata": {},
   "outputs": [],
   "source": [
    "indexer = StringIndexer(inputCol=\"Events\", outputCol=\"EventsIndex\")\n",
    "jan_2017 = indexer.fit(jan_2017).transform(jan_2017)\n",
    "encoder = OneHotEncoder(inputCol='EventsIndex', outputCol=\"EventsVector\")\n",
    "jan_2017 = encoder.transform(jan_2017).drop('EventsIndex')"
   ]
  },
  {
   "cell_type": "code",
   "execution_count": 113,
   "metadata": {},
   "outputs": [],
   "source": [
    "indexer = StringIndexer(inputCol=\"Conditions\", outputCol=\"ConditionsIndex\")\n",
    "jan_2017 = indexer.fit(jan_2017).transform(jan_2017)\n",
    "\n",
    "encoder = OneHotEncoder(inputCol='ConditionsIndex', outputCol=\"ConditionsVect\")\n",
    "jan_2017 = encoder.transform(jan_2017).drop('ConditionsIndex')"
   ]
  },
  {
   "cell_type": "code",
   "execution_count": 115,
   "metadata": {},
   "outputs": [],
   "source": [
    "indexer = StringIndexer(inputCol=\"period\", outputCol=\"periodIndex\")\n",
    "jan_2017 = indexer.fit(jan_2017).transform(jan_2017)\n",
    "encoder = OneHotEncoder(inputCol='periodIndex', outputCol=\"periodVect\")\n",
    "jan_2017 = encoder.transform(jan_2017).drop('periodIndex')"
   ]
  },
  {
   "cell_type": "code",
   "execution_count": 116,
   "metadata": {},
   "outputs": [],
   "source": [
    "encoder = OneHotEncoder(inputCol='PUDay', outputCol=\"PUDayVect\")\n",
    "jan_2017 = encoder.transform(jan_2017).drop('PUDay')"
   ]
  },
  {
   "cell_type": "code",
   "execution_count": null,
   "metadata": {},
   "outputs": [],
   "source": [
    "jan_2017.printSchema()"
   ]
  },
  {
   "cell_type": "code",
   "execution_count": 130,
   "metadata": {},
   "outputs": [],
   "source": [
    "indexer = StringIndexer(inputCol=\"windDir\", outputCol=\"windDirIndex\")\n",
    "jan_2017 = indexer.fit(jan_2017).transform(jan_2017)\n",
    "encoder = OneHotEncoder(inputCol='windDirIndex', outputCol=\"windDirVect\")\n",
    "jan_2017 = encoder.transform(jan_2017).drop('windDirIndex')"
   ]
  },
  {
   "cell_type": "code",
   "execution_count": 132,
   "metadata": {},
   "outputs": [],
   "source": [
    "# Drop any string columns except 'PUZone'\n",
    "str_names = ['PUZone','tpep_pickup_datetime','tpep_dropoff_datetime','store_and_fwd_flag','PULocationID',\\\n",
    "             'LocationID','PUBorough','PUServiceZone','PUneighbor','PUTime','PUTemptime',\\\n",
    "             'windDir','Events','Conditions','period','neighborhood','PUDate', 'PUTempdate']\n",
    "for col in str_names:\n",
    "    jan_2017=jan_2017.drop(col)"
   ]
  },
  {
   "cell_type": "code",
   "execution_count": null,
   "metadata": {},
   "outputs": [],
   "source": []
  },
  {
   "cell_type": "code",
   "execution_count": null,
   "metadata": {},
   "outputs": [],
   "source": [
    "# sc = spark.sparkContext"
   ]
  },
  {
   "cell_type": "code",
   "execution_count": null,
   "metadata": {},
   "outputs": [],
   "source": [
    "# def plot_points(X, labels):\n",
    "#         plt.scatter(X[:,0],X[:,1])\n",
    "#         for i, txt in enumerate(labels):\n",
    "#                 plt.annotate(txt, (X[i,0],X[i,1]))\n",
    "#         plt.show()"
   ]
  },
  {
   "cell_type": "code",
   "execution_count": null,
   "metadata": {},
   "outputs": [],
   "source": [
    "# ## PCA!!!\n",
    "# from sklearn.preprocessing import StandardScaler\n",
    "# from sklearn.decomposition import PCA\n",
    "\n",
    "# # Select Labels\n",
    "# labels = jan_2017['PUZone']\n",
    "\n",
    "# # Standardize everything\n",
    "# standsac = StandardScaler()\n",
    "# jan_2017_std= standsac.fit_transform(jan_2017)\n",
    "\n",
    "# # Compute PCA with 2 Principal Components\n",
    "# pca = PCA(n_components=2)\n",
    "# pca.fit(jan_2017_std)\n",
    "# jan_2017_PCA = pca.transform(jan_2017_std)\n"
   ]
  },
  {
   "cell_type": "code",
   "execution_count": 153,
   "metadata": {},
   "outputs": [],
   "source": [
    "# sampe = jan_2017.sample(False,0.0001,0).cache()\n",
    "sampe = jan_2017"
   ]
  },
  {
   "cell_type": "code",
   "execution_count": 134,
   "metadata": {},
   "outputs": [
    {
     "name": "stdout",
     "output_type": "stream",
     "text": [
      "74\n"
     ]
    }
   ],
   "source": [
    "print(len(sampe.schema.names))"
   ]
  },
  {
   "cell_type": "code",
   "execution_count": 119,
   "metadata": {},
   "outputs": [
    {
     "name": "stdout",
     "output_type": "stream",
     "text": [
      "root\n",
      " |-- VendorID: short (nullable = true)\n",
      " |-- passenger_count: short (nullable = true)\n",
      " |-- PUBorough: string (nullable = true)\n",
      " |-- PUZone: string (nullable = true)\n",
      " |-- PUServiceZone: string (nullable = true)\n",
      " |-- PUneighbor: string (nullable = true)\n",
      " |-- uniqueIdColumn: long (nullable = false)\n",
      " |-- AirportPU: integer (nullable = false)\n",
      " |-- PUHour: integer (nullable = true)\n",
      " |-- PUMinute: integer (nullable = true)\n",
      " |-- MorningRushHour: integer (nullable = false)\n",
      " |-- EveningRushHour: integer (nullable = false)\n",
      " |-- Weekend: integer (nullable = false)\n",
      " |-- WorkingHour: integer (nullable = false)\n",
      " |-- DLocationID: integer (nullable = true)\n",
      " |-- temp: float (nullable = true)\n",
      " |-- windchill: float (nullable = true)\n",
      " |-- dewpoint: float (nullable = true)\n",
      " |-- humidity: float (nullable = true)\n",
      " |-- pressure: float (nullable = true)\n",
      " |-- visibility: float (nullable = true)\n",
      " |-- windDir: string (nullable = true)\n",
      " |-- windSpeed: float (nullable = true)\n",
      " |-- gustSpeed: float (nullable = true)\n",
      " |-- Precip: float (nullable = true)\n",
      " |-- Events: string (nullable = true)\n",
      " |-- Conditions: string (nullable = true)\n",
      " |-- period: string (nullable = true)\n",
      " |-- PUalone_hhld: float (nullable = true)\n",
      " |-- PUbachelor_higher: float (nullable = true)\n",
      " |-- PUbornstate: float (nullable = true)\n",
      " |-- PUcarfree: float (nullable = true)\n",
      " |-- PUcommutetime: float (nullable = true)\n",
      " |-- PUdisabled: float (nullable = true)\n",
      " |-- PUdisconnected: float (nullable = true)\n",
      " |-- PUforeign: float (nullable = true)\n",
      " |-- PUgross_rent_adj: float (nullable = true)\n",
      " |-- PUhhu18: float (nullable = true)\n",
      " |-- PUhomeownership: float (nullable = true)\n",
      " |-- PUhousing_units: float (nullable = true)\n",
      " |-- PUincome_diversity_ratio: float (nullable = true)\n",
      " |-- PUlaborforcerate: float (nullable = true)\n",
      " |-- PUmedhhincome_adj: float (nullable = true)\n",
      " |-- PUmedhhincome_own_adj: float (nullable = true)\n",
      " |-- PUmedhhincome_rent_adj: float (nullable = true)\n",
      " |-- PUnohsdiploma: float (nullable = true)\n",
      " |-- PUpark_share: float (nullable = true)\n",
      " |-- PUpasian: float (nullable = true)\n",
      " |-- PUpblack: float (nullable = true)\n",
      " |-- PUphisp: float (nullable = true)\n",
      " |-- PUpop65: float (nullable = true)\n",
      " |-- PUpopulation: float (nullable = true)\n",
      " |-- PUpopulation_density: float (nullable = true)\n",
      " |-- PUpov65older: float (nullable = true)\n",
      " |-- PUpovrate: float (nullable = true)\n",
      " |-- PUpovunder18: float (nullable = true)\n",
      " |-- PUprof_pct_ela: float (nullable = true)\n",
      " |-- PUprof_pct_math: float (nullable = true)\n",
      " |-- PUprop_rt: float (nullable = true)\n",
      " |-- PUpwhite: float (nullable = true)\n",
      " |-- PUrdindex: float (nullable = true)\n",
      " |-- PUrent_pct_nycha: float (nullable = true)\n",
      " |-- PUrentvacrate: float (nullable = true)\n",
      " |-- PUserious_viol_rate: float (nullable = true)\n",
      " |-- PUsevcrowd: float (nullable = true)\n",
      " |-- PUsubway_share: float (nullable = true)\n",
      " |-- PUtot_rt: float (nullable = true)\n",
      " |-- PUtotal_viol_rate: float (nullable = true)\n",
      " |-- PUunemprate: float (nullable = true)\n",
      " |-- PUviol_rt: float (nullable = true)\n",
      " |-- PUvolume_al: float (nullable = true)\n",
      " |-- PUZoneVect: vector (nullable = true)\n",
      " |-- RateCodeIDVect: vector (nullable = true)\n",
      " |-- PLocationIDVect: vector (nullable = true)\n",
      " |-- PUBoroughVect: vector (nullable = true)\n",
      " |-- PUServiceZoneVect: vector (nullable = true)\n",
      " |-- PU_DOWVect: vector (nullable = true)\n",
      " |-- EventsVector: vector (nullable = true)\n",
      " |-- ConditionsVect: vector (nullable = true)\n",
      " |-- periodVect: vector (nullable = true)\n",
      " |-- PUDayVect: vector (nullable = true)\n",
      "\n"
     ]
    }
   ],
   "source": [
    "sampe.printSchema()"
   ]
  },
  {
   "cell_type": "code",
   "execution_count": 120,
   "metadata": {},
   "outputs": [
    {
     "name": "stdout",
     "output_type": "stream",
     "text": [
      "+--------+---------------+---------+--------------+-------------+---------------+--------------+---------+------+--------+---------------+---------------+-------+-----------+-----------+----+---------+--------+--------+--------+----------+--------+---------+---------+------+------+-------------+------+------------+-----------------+-----------+---------+-------------+-----------+--------------+----------+----------------+----------+---------------+---------------+------------------------+----------------+-----------------+---------------------+----------------------+-------------+------------+----------+-----------+----------+----------+------------+--------------------+------------+----------+------------+--------------+---------------+---------+---------+---------+----------------+-------------+-------------------+-----------+--------------+--------+-----------------+-----------+---------+-----------+----------------+--------------+-----------------+-------------+-----------------+-------------+-------------+--------------+-------------+---------------+\n",
      "|VendorID|passenger_count|PUBorough|        PUZone|PUServiceZone|     PUneighbor|uniqueIdColumn|AirportPU|PUHour|PUMinute|MorningRushHour|EveningRushHour|Weekend|WorkingHour|DLocationID|temp|windchill|dewpoint|humidity|pressure|visibility| windDir|windSpeed|gustSpeed|Precip|Events|   Conditions|period|PUalone_hhld|PUbachelor_higher|PUbornstate|PUcarfree|PUcommutetime| PUdisabled|PUdisconnected| PUforeign|PUgross_rent_adj|   PUhhu18|PUhomeownership|PUhousing_units|PUincome_diversity_ratio|PUlaborforcerate|PUmedhhincome_adj|PUmedhhincome_own_adj|PUmedhhincome_rent_adj|PUnohsdiploma|PUpark_share|  PUpasian|   PUpblack|   PUphisp|   PUpop65|PUpopulation|PUpopulation_density|PUpov65older| PUpovrate|PUpovunder18|PUprof_pct_ela|PUprof_pct_math|PUprop_rt| PUpwhite|PUrdindex|PUrent_pct_nycha|PUrentvacrate|PUserious_viol_rate| PUsevcrowd|PUsubway_share|PUtot_rt|PUtotal_viol_rate|PUunemprate|PUviol_rt|PUvolume_al|      PUZoneVect|RateCodeIDVect|  PLocationIDVect|PUBoroughVect|PUServiceZoneVect|   PU_DOWVect| EventsVector|ConditionsVect|   periodVect|      PUDayVect|\n",
      "+--------+---------------+---------+--------------+-------------+---------------+--------------+---------+------+--------+---------------+---------------+-------+-----------+-----------+----+---------+--------+--------+--------+----------+--------+---------+---------+------+------+-------------+------+------------+-----------------+-----------+---------+-------------+-----------+--------------+----------+----------------+----------+---------------+---------------+------------------------+----------------+-----------------+---------------------+----------------------+-------------+------------+----------+-----------+----------+----------+------------+--------------------+------------+----------+------------+--------------+---------------+---------+---------+---------+----------------+-------------+-------------------+-----------+--------------+--------+-----------------+-----------+---------+-----------+----------------+--------------+-----------------+-------------+-----------------+-------------+-------------+--------------+-------------+---------------+\n",
      "|       2|              1|Manhattan|Yorkville East|  Yellow Zone|upper-east-side|    8590461384|        0|    12|      25|              0|              0|      0|          1|        162|48.0|      0.0|    34.0|    58.0|   29.99|      10.0|Variable|      6.9|      0.0|   0.0|    \t |Partly Cloudy|    PM|  0.46506497|       0.80853724| 0.47733375|0.8295214|     32.54397|0.041147184|   0.020695144|0.23663951|          2250.0|0.17837445|      0.3747926|       133836.0|               6.0869565|      0.71909726|         116970.0|             184050.0|              101250.0|   0.03111998|  0.65935075|0.10555515|0.022816936|0.12078775|0.18090537|    219004.0|          108.525276|  0.11705447|0.06525908|  0.02266688|     0.7605263|     0.74580646|7.5072756|0.7274022|0.4446338|     0.030676179|   0.04657141|           14.20692|0.018507127|     0.8794264|8.562204|         69.43284|0.033834368| 1.054929|      734.0|(241,[33],[1.0])|(99,[1],[1.0])|(263,[262],[1.0])|(5,[0],[1.0])|    (3,[0],[1.0])|(7,[4],[1.0])|(3,[0],[1.0])|(11,[6],[1.0])|(1,[0],[1.0])|(31,[19],[1.0])|\n",
      "+--------+---------------+---------+--------------+-------------+---------------+--------------+---------+------+--------+---------------+---------------+-------+-----------+-----------+----+---------+--------+--------+--------+----------+--------+---------+---------+------+------+-------------+------+------------+-----------------+-----------+---------+-------------+-----------+--------------+----------+----------------+----------+---------------+---------------+------------------------+----------------+-----------------+---------------------+----------------------+-------------+------------+----------+-----------+----------+----------+------------+--------------------+------------+----------+------------+--------------+---------------+---------+---------+---------+----------------+-------------+-------------------+-----------+--------------+--------+-----------------+-----------+---------+-----------+----------------+--------------+-----------------+-------------+-----------------+-------------+-------------+--------------+-------------+---------------+\n",
      "only showing top 1 row\n",
      "\n"
     ]
    }
   ],
   "source": [
    "sampe.show(1)"
   ]
  },
  {
   "cell_type": "code",
   "execution_count": null,
   "metadata": {},
   "outputs": [],
   "source": [
    "# #colum = sampe.schema.names\n",
    "# sampe = sampe.withColumn(\"PLocationID\", sampe.PULocationID.cast(IntegerType())).drop(\"PULocationID\")\n",
    "# sampe = sampe.withColumn(\"DLocationID\", sampe.DOLocationID.cast(IntegerType())).drop(\"DOLocationID\")\n",
    "# #sampe.printSchema()\n"
   ]
  },
  {
   "cell_type": "code",
   "execution_count": null,
   "metadata": {},
   "outputs": [],
   "source": [
    "# sampe = sampe.withColumn(\"DLocationID\", sampe.DOLocationID.cast(IntegerType())).drop(\"DOLocationID\")\n",
    "# #sampe.printSchema()"
   ]
  },
  {
   "cell_type": "code",
   "execution_count": 135,
   "metadata": {},
   "outputs": [],
   "source": [
    "# # Drop any string columns except 'PUZone'\n",
    "# str_names = ['PUZone','tpep_pickup_datetime','tpep_dropoff_datetime','store_and_fwd_flag','PULocationID',\\\n",
    "#              'LocationID','PUBorough','PUServiceZone','PUneighbor','PUTime','PUTemptime',\\\n",
    "#              'PUwindDir','Events','Conditions','period','neighborhood','PUDate', 'PUTempdate']\n",
    "# for col in str_names:\n",
    "#     sampe=sampe.drop(col)"
   ]
  },
  {
   "cell_type": "code",
   "execution_count": 154,
   "metadata": {},
   "outputs": [],
   "source": [
    "colum = sampe.schema.names"
   ]
  },
  {
   "cell_type": "code",
   "execution_count": null,
   "metadata": {},
   "outputs": [],
   "source": []
  },
  {
   "cell_type": "code",
   "execution_count": 155,
   "metadata": {},
   "outputs": [],
   "source": [
    "colum.remove('DLocationID')"
   ]
  },
  {
   "cell_type": "code",
   "execution_count": 138,
   "metadata": {},
   "outputs": [
    {
     "name": "stdout",
     "output_type": "stream",
     "text": [
      "root\n",
      " |-- VendorID: short (nullable = true)\n",
      " |-- passenger_count: short (nullable = true)\n",
      " |-- uniqueIdColumn: long (nullable = false)\n",
      " |-- AirportPU: integer (nullable = false)\n",
      " |-- PUHour: integer (nullable = true)\n",
      " |-- PUMinute: integer (nullable = true)\n",
      " |-- MorningRushHour: integer (nullable = false)\n",
      " |-- EveningRushHour: integer (nullable = false)\n",
      " |-- Weekend: integer (nullable = false)\n",
      " |-- WorkingHour: integer (nullable = false)\n",
      " |-- DLocationID: integer (nullable = true)\n",
      " |-- temp: float (nullable = true)\n",
      " |-- windchill: float (nullable = true)\n",
      " |-- dewpoint: float (nullable = true)\n",
      " |-- humidity: float (nullable = true)\n",
      " |-- pressure: float (nullable = true)\n",
      " |-- visibility: float (nullable = true)\n",
      " |-- windSpeed: float (nullable = true)\n",
      " |-- gustSpeed: float (nullable = true)\n",
      " |-- Precip: float (nullable = true)\n",
      " |-- PUalone_hhld: float (nullable = true)\n",
      " |-- PUbachelor_higher: float (nullable = true)\n",
      " |-- PUbornstate: float (nullable = true)\n",
      " |-- PUcarfree: float (nullable = true)\n",
      " |-- PUcommutetime: float (nullable = true)\n",
      " |-- PUdisabled: float (nullable = true)\n",
      " |-- PUdisconnected: float (nullable = true)\n",
      " |-- PUforeign: float (nullable = true)\n",
      " |-- PUgross_rent_adj: float (nullable = true)\n",
      " |-- PUhhu18: float (nullable = true)\n",
      " |-- PUhomeownership: float (nullable = true)\n",
      " |-- PUhousing_units: float (nullable = true)\n",
      " |-- PUincome_diversity_ratio: float (nullable = true)\n",
      " |-- PUlaborforcerate: float (nullable = true)\n",
      " |-- PUmedhhincome_adj: float (nullable = true)\n",
      " |-- PUmedhhincome_own_adj: float (nullable = true)\n",
      " |-- PUmedhhincome_rent_adj: float (nullable = true)\n",
      " |-- PUnohsdiploma: float (nullable = true)\n",
      " |-- PUpark_share: float (nullable = true)\n",
      " |-- PUpasian: float (nullable = true)\n",
      " |-- PUpblack: float (nullable = true)\n",
      " |-- PUphisp: float (nullable = true)\n",
      " |-- PUpop65: float (nullable = true)\n",
      " |-- PUpopulation: float (nullable = true)\n",
      " |-- PUpopulation_density: float (nullable = true)\n",
      " |-- PUpov65older: float (nullable = true)\n",
      " |-- PUpovrate: float (nullable = true)\n",
      " |-- PUpovunder18: float (nullable = true)\n",
      " |-- PUprof_pct_ela: float (nullable = true)\n",
      " |-- PUprof_pct_math: float (nullable = true)\n",
      " |-- PUprop_rt: float (nullable = true)\n",
      " |-- PUpwhite: float (nullable = true)\n",
      " |-- PUrdindex: float (nullable = true)\n",
      " |-- PUrent_pct_nycha: float (nullable = true)\n",
      " |-- PUrentvacrate: float (nullable = true)\n",
      " |-- PUserious_viol_rate: float (nullable = true)\n",
      " |-- PUsevcrowd: float (nullable = true)\n",
      " |-- PUsubway_share: float (nullable = true)\n",
      " |-- PUtot_rt: float (nullable = true)\n",
      " |-- PUtotal_viol_rate: float (nullable = true)\n",
      " |-- PUunemprate: float (nullable = true)\n",
      " |-- PUviol_rt: float (nullable = true)\n",
      " |-- PUvolume_al: float (nullable = true)\n",
      " |-- PUZoneVect: vector (nullable = true)\n",
      " |-- RateCodeIDVect: vector (nullable = true)\n",
      " |-- PLocationIDVect: vector (nullable = true)\n",
      " |-- PUBoroughVect: vector (nullable = true)\n",
      " |-- PUServiceZoneVect: vector (nullable = true)\n",
      " |-- PU_DOWVect: vector (nullable = true)\n",
      " |-- EventsVector: vector (nullable = true)\n",
      " |-- ConditionsVect: vector (nullable = true)\n",
      " |-- periodVect: vector (nullable = true)\n",
      " |-- PUDayVect: vector (nullable = true)\n",
      " |-- windDirVect: vector (nullable = true)\n",
      "\n"
     ]
    }
   ],
   "source": [
    "sampe.printSchema()"
   ]
  },
  {
   "cell_type": "code",
   "execution_count": null,
   "metadata": {},
   "outputs": [],
   "source": []
  },
  {
   "cell_type": "code",
   "execution_count": null,
   "metadata": {},
   "outputs": [],
   "source": []
  },
  {
   "cell_type": "code",
   "execution_count": 156,
   "metadata": {},
   "outputs": [],
   "source": [
    "assembler = VectorAssembler(\n",
    "    inputCols=colum,\n",
    "    outputCol=\"features\")"
   ]
  },
  {
   "cell_type": "code",
   "execution_count": 157,
   "metadata": {},
   "outputs": [],
   "source": [
    "# indexer = VectorIndexer(inputCol=\"features\", outputCol=\"indexed\", maxCategories=10)\n",
    "# indexerModel = indexer.fit(train)"
   ]
  },
  {
   "cell_type": "code",
   "execution_count": 158,
   "metadata": {},
   "outputs": [],
   "source": [
    "\n",
    "# # Create new column \"indexed\" with categorical values transformed to indices\n",
    "# putput = indexerModel.transform(train)\n",
    "# indexedData.show()\n",
    "\n",
    "\n",
    "output = assembler.transform(sampe)"
   ]
  },
  {
   "cell_type": "code",
   "execution_count": 142,
   "metadata": {},
   "outputs": [
    {
     "name": "stdout",
     "output_type": "stream",
     "text": [
      "root\n",
      " |-- VendorID: short (nullable = true)\n",
      " |-- passenger_count: short (nullable = true)\n",
      " |-- uniqueIdColumn: long (nullable = false)\n",
      " |-- AirportPU: integer (nullable = false)\n",
      " |-- PUHour: integer (nullable = true)\n",
      " |-- PUMinute: integer (nullable = true)\n",
      " |-- MorningRushHour: integer (nullable = false)\n",
      " |-- EveningRushHour: integer (nullable = false)\n",
      " |-- Weekend: integer (nullable = false)\n",
      " |-- WorkingHour: integer (nullable = false)\n",
      " |-- DLocationID: integer (nullable = true)\n",
      " |-- temp: float (nullable = true)\n",
      " |-- windchill: float (nullable = true)\n",
      " |-- dewpoint: float (nullable = true)\n",
      " |-- humidity: float (nullable = true)\n",
      " |-- pressure: float (nullable = true)\n",
      " |-- visibility: float (nullable = true)\n",
      " |-- windSpeed: float (nullable = true)\n",
      " |-- gustSpeed: float (nullable = true)\n",
      " |-- Precip: float (nullable = true)\n",
      " |-- PUalone_hhld: float (nullable = true)\n",
      " |-- PUbachelor_higher: float (nullable = true)\n",
      " |-- PUbornstate: float (nullable = true)\n",
      " |-- PUcarfree: float (nullable = true)\n",
      " |-- PUcommutetime: float (nullable = true)\n",
      " |-- PUdisabled: float (nullable = true)\n",
      " |-- PUdisconnected: float (nullable = true)\n",
      " |-- PUforeign: float (nullable = true)\n",
      " |-- PUgross_rent_adj: float (nullable = true)\n",
      " |-- PUhhu18: float (nullable = true)\n",
      " |-- PUhomeownership: float (nullable = true)\n",
      " |-- PUhousing_units: float (nullable = true)\n",
      " |-- PUincome_diversity_ratio: float (nullable = true)\n",
      " |-- PUlaborforcerate: float (nullable = true)\n",
      " |-- PUmedhhincome_adj: float (nullable = true)\n",
      " |-- PUmedhhincome_own_adj: float (nullable = true)\n",
      " |-- PUmedhhincome_rent_adj: float (nullable = true)\n",
      " |-- PUnohsdiploma: float (nullable = true)\n",
      " |-- PUpark_share: float (nullable = true)\n",
      " |-- PUpasian: float (nullable = true)\n",
      " |-- PUpblack: float (nullable = true)\n",
      " |-- PUphisp: float (nullable = true)\n",
      " |-- PUpop65: float (nullable = true)\n",
      " |-- PUpopulation: float (nullable = true)\n",
      " |-- PUpopulation_density: float (nullable = true)\n",
      " |-- PUpov65older: float (nullable = true)\n",
      " |-- PUpovrate: float (nullable = true)\n",
      " |-- PUpovunder18: float (nullable = true)\n",
      " |-- PUprof_pct_ela: float (nullable = true)\n",
      " |-- PUprof_pct_math: float (nullable = true)\n",
      " |-- PUprop_rt: float (nullable = true)\n",
      " |-- PUpwhite: float (nullable = true)\n",
      " |-- PUrdindex: float (nullable = true)\n",
      " |-- PUrent_pct_nycha: float (nullable = true)\n",
      " |-- PUrentvacrate: float (nullable = true)\n",
      " |-- PUserious_viol_rate: float (nullable = true)\n",
      " |-- PUsevcrowd: float (nullable = true)\n",
      " |-- PUsubway_share: float (nullable = true)\n",
      " |-- PUtot_rt: float (nullable = true)\n",
      " |-- PUtotal_viol_rate: float (nullable = true)\n",
      " |-- PUunemprate: float (nullable = true)\n",
      " |-- PUviol_rt: float (nullable = true)\n",
      " |-- PUvolume_al: float (nullable = true)\n",
      " |-- PUZoneVect: vector (nullable = true)\n",
      " |-- RateCodeIDVect: vector (nullable = true)\n",
      " |-- PLocationIDVect: vector (nullable = true)\n",
      " |-- PUBoroughVect: vector (nullable = true)\n",
      " |-- PUServiceZoneVect: vector (nullable = true)\n",
      " |-- PU_DOWVect: vector (nullable = true)\n",
      " |-- EventsVector: vector (nullable = true)\n",
      " |-- ConditionsVect: vector (nullable = true)\n",
      " |-- periodVect: vector (nullable = true)\n",
      " |-- PUDayVect: vector (nullable = true)\n",
      " |-- windDirVect: vector (nullable = true)\n",
      " |-- features: vector (nullable = true)\n",
      "\n"
     ]
    }
   ],
   "source": [
    "output.printSchema()"
   ]
  },
  {
   "cell_type": "code",
   "execution_count": 159,
   "metadata": {},
   "outputs": [],
   "source": [
    "train = output.select([\"DLocationID\",\"features\"])"
   ]
  },
  {
   "cell_type": "code",
   "execution_count": 160,
   "metadata": {},
   "outputs": [],
   "source": [
    "train = train.withColumn(\"label\", train[\"DLocationID\"]).drop(\"DLocationID\")"
   ]
  },
  {
   "cell_type": "code",
   "execution_count": 161,
   "metadata": {},
   "outputs": [],
   "source": [
    "# train.select('features').limit(1).collect()"
   ]
  },
  {
   "cell_type": "code",
   "execution_count": 162,
   "metadata": {},
   "outputs": [],
   "source": [
    "train = train.select([\"label\",\"features\"]).cache()"
   ]
  },
  {
   "cell_type": "code",
   "execution_count": 163,
   "metadata": {},
   "outputs": [
    {
     "name": "stdout",
     "output_type": "stream",
     "text": [
      "+-----+--------------------+\n",
      "|label|            features|\n",
      "+-----+--------------------+\n",
      "|   48|(743,[0,1,2,8,10,...|\n",
      "+-----+--------------------+\n",
      "only showing top 1 row\n",
      "\n"
     ]
    }
   ],
   "source": [
    "train.show(1)"
   ]
  },
  {
   "cell_type": "code",
   "execution_count": null,
   "metadata": {},
   "outputs": [],
   "source": [
    "train.printSchema()"
   ]
  },
  {
   "cell_type": "code",
   "execution_count": null,
   "metadata": {},
   "outputs": [],
   "source": []
  },
  {
   "cell_type": "code",
   "execution_count": null,
   "metadata": {},
   "outputs": [],
   "source": []
  },
  {
   "cell_type": "code",
   "execution_count": 164,
   "metadata": {},
   "outputs": [],
   "source": [
    "\n",
    "pca = PCA(k=2, inputCol=\"features\", outputCol=\"pcaFeatures\")"
   ]
  },
  {
   "cell_type": "code",
   "execution_count": 165,
   "metadata": {},
   "outputs": [],
   "source": [
    "model = pca.fit(train)\n"
   ]
  },
  {
   "cell_type": "code",
   "execution_count": 166,
   "metadata": {},
   "outputs": [
    {
     "name": "stdout",
     "output_type": "stream",
     "text": [
      "+---------------------------------------+\n",
      "|pcaFeatures                            |\n",
      "+---------------------------------------+\n",
      "|[26.023686636723923,247726.59693693675]|\n",
      "|[29.015324407825286,156548.5667324401] |\n",
      "|[474.02368663693784,247726.59684549813]|\n",
      "|[964.0297125817553,318165.0364166201]  |\n",
      "|[1677.0303843385202,310322.3119270896] |\n",
      "|[1697.0229290713992,240068.81552190712]|\n",
      "|[1950.0160566075313,154904.56860120725]|\n",
      "|[2040.0229290713637,240068.81549361214]|\n",
      "|[2214.0170099954994,168783.5407976865] |\n",
      "|[2250.0236866377577,247726.59678751233]|\n",
      "|[2453.0160566074665,154904.568559938]  |\n",
      "|[2509.0297126401133,318165.66026743833]|\n",
      "|[2529.01554364589,154789.2029755792]   |\n",
      "|[2927.021122521916,226354.8153441903]  |\n",
      "|[3091.01605660743,154904.56850513894]  |\n",
      "|[3506.0150348177845,151335.64207004395]|\n",
      "|[3764.0160566073596,154904.5684494989] |\n",
      "|[4894.023686639948,247726.59654864747] |\n",
      "|[5385.0160566096565,154904.56829531043]|\n",
      "|[5409.023686631496,247726.5615399471]  |\n",
      "+---------------------------------------+\n",
      "only showing top 20 rows\n",
      "\n"
     ]
    }
   ],
   "source": [
    "result = model.transform(train).select(\"pcaFeatures\")\n",
    "result.show(truncate=False)"
   ]
  },
  {
   "cell_type": "code",
   "execution_count": 151,
   "metadata": {},
   "outputs": [
    {
     "data": {
      "text/plain": [
       "505"
      ]
     },
     "execution_count": 151,
     "metadata": {},
     "output_type": "execute_result"
    }
   ],
   "source": [
    "result.count()"
   ]
  },
  {
   "cell_type": "code",
   "execution_count": 152,
   "metadata": {},
   "outputs": [
    {
     "data": {
      "text/plain": [
       "505"
      ]
     },
     "execution_count": 152,
     "metadata": {},
     "output_type": "execute_result"
    }
   ],
   "source": [
    "train.count()"
   ]
  },
  {
   "cell_type": "code",
   "execution_count": null,
   "metadata": {},
   "outputs": [],
   "source": [
    "# rows = train.select('features').rdd"
   ]
  },
  {
   "cell_type": "code",
   "execution_count": null,
   "metadata": {},
   "outputs": [],
   "source": [
    "# mat = RowMatrix(rows)"
   ]
  },
  {
   "cell_type": "code",
   "execution_count": null,
   "metadata": {},
   "outputs": [],
   "source": []
  },
  {
   "cell_type": "code",
   "execution_count": null,
   "metadata": {},
   "outputs": [],
   "source": [
    "# pc = mat.computePrincipalComponents(4)"
   ]
  },
  {
   "cell_type": "code",
   "execution_count": null,
   "metadata": {},
   "outputs": [],
   "source": [
    "# projected = mat.multiply(pc)\n"
   ]
  },
  {
   "cell_type": "code",
   "execution_count": null,
   "metadata": {},
   "outputs": [],
   "source": [
    "# splits = train.randomSplit([0.6, 0.4], 1234)\n",
    "# train = splits[0]\n",
    "# test = splits[1]"
   ]
  },
  {
   "cell_type": "code",
   "execution_count": null,
   "metadata": {},
   "outputs": [],
   "source": [
    "\n",
    "# layers = [4, 5, 4, 3]\n",
    "\n",
    "# # create the trainer and set its parameters\n",
    "# trainer = MultilayerPerceptronClassifier(maxIter=2, layers=layers, blockSize=128, seed=1234)"
   ]
  },
  {
   "cell_type": "code",
   "execution_count": null,
   "metadata": {},
   "outputs": [],
   "source": []
  },
  {
   "cell_type": "code",
   "execution_count": null,
   "metadata": {},
   "outputs": [],
   "source": [
    "# # train the model\n",
    "# model = trainer.fit(train)\n",
    "\n",
    "# # compute accuracy on the test set\n",
    "# result = model.transform(test)\n",
    "# predictionAndLabels = result.select(\"prediction\", \"label\")\n",
    "# evaluator = MulticlassClassificationEvaluator(metricName=\"accuracy\")\n",
    "# print(\"Test set accuracy = \" + str(evaluator.evaluate(predictionAndLabels)))"
   ]
  },
  {
   "cell_type": "code",
   "execution_count": null,
   "metadata": {},
   "outputs": [],
   "source": []
  }
 ],
 "metadata": {
  "kernelspec": {
   "display_name": "Python 3",
   "language": "python",
   "name": "python3"
  },
  "language_info": {
   "codemirror_mode": {
    "name": "ipython",
    "version": 3
   },
   "file_extension": ".py",
   "mimetype": "text/x-python",
   "name": "python",
   "nbconvert_exporter": "python",
   "pygments_lexer": "ipython3",
   "version": "3.6.4"
  }
 },
 "nbformat": 4,
 "nbformat_minor": 2
}
