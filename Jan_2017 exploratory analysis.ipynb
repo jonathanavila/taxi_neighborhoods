{
 "cells": [
  {
   "cell_type": "code",
   "execution_count": 1047,
   "metadata": {},
   "outputs": [
    {
     "name": "stdout",
     "output_type": "stream",
     "text": [
      "Requirement already up-to-date: scikit-learn in /opt/conda/lib/python3.6/site-packages\n",
      "\u001b[33mYou are using pip version 9.0.1, however version 10.0.1 is available.\n",
      "You should consider upgrading via the 'pip install --upgrade pip' command.\u001b[0m\n"
     ]
    }
   ],
   "source": [
    "! pip install -U scikit-learn"
   ]
  },
  {
   "cell_type": "code",
   "execution_count": 1048,
   "metadata": {},
   "outputs": [
    {
     "name": "stdout",
     "output_type": "stream",
     "text": [
      "Requirement already satisfied: lightning-python in /opt/conda/lib/python3.6/site-packages\n",
      "Requirement already satisfied: pytest in /opt/conda/lib/python3.6/site-packages (from lightning-python)\n",
      "Requirement already satisfied: numpy in /opt/conda/lib/python3.6/site-packages (from lightning-python)\n",
      "Requirement already satisfied: setuptools in /opt/conda/lib/python3.6/site-packages (from lightning-python)\n",
      "Requirement already satisfied: requests in /opt/conda/lib/python3.6/site-packages (from lightning-python)\n",
      "Requirement already satisfied: jinja2 in /opt/conda/lib/python3.6/site-packages (from lightning-python)\n",
      "Requirement already satisfied: six in /opt/conda/lib/python3.6/site-packages (from lightning-python)\n",
      "Requirement already satisfied: matplotlib in /opt/conda/lib/python3.6/site-packages (from lightning-python)\n",
      "Requirement already satisfied: pluggy<0.7,>=0.5 in /opt/conda/lib/python3.6/site-packages (from pytest->lightning-python)\n",
      "Requirement already satisfied: more-itertools>=4.0.0 in /opt/conda/lib/python3.6/site-packages (from pytest->lightning-python)\n",
      "Requirement already satisfied: py>=1.5.0 in /opt/conda/lib/python3.6/site-packages (from pytest->lightning-python)\n",
      "Requirement already satisfied: attrs>=17.4.0 in /opt/conda/lib/python3.6/site-packages (from pytest->lightning-python)\n",
      "Requirement already satisfied: chardet<3.1.0,>=3.0.2 in /opt/conda/lib/python3.6/site-packages (from requests->lightning-python)\n",
      "Requirement already satisfied: idna<2.7,>=2.5 in /opt/conda/lib/python3.6/site-packages (from requests->lightning-python)\n",
      "Requirement already satisfied: urllib3<1.23,>=1.21.1 in /opt/conda/lib/python3.6/site-packages (from requests->lightning-python)\n",
      "Requirement already satisfied: certifi>=2017.4.17 in /opt/conda/lib/python3.6/site-packages (from requests->lightning-python)\n",
      "Requirement already satisfied: MarkupSafe>=0.23 in /opt/conda/lib/python3.6/site-packages (from jinja2->lightning-python)\n",
      "Requirement already satisfied: python-dateutil>=2.0 in /opt/conda/lib/python3.6/site-packages (from matplotlib->lightning-python)\n",
      "Requirement already satisfied: pytz in /opt/conda/lib/python3.6/site-packages (from matplotlib->lightning-python)\n",
      "Requirement already satisfied: cycler>=0.10 in /opt/conda/lib/python3.6/site-packages/cycler-0.10.0-py3.6.egg (from matplotlib->lightning-python)\n",
      "Requirement already satisfied: pyparsing!=2.0.4,!=2.1.2,!=2.1.6,>=2.0.1 in /opt/conda/lib/python3.6/site-packages (from matplotlib->lightning-python)\n",
      "\u001b[33mYou are using pip version 9.0.1, however version 10.0.1 is available.\n",
      "You should consider upgrading via the 'pip install --upgrade pip' command.\u001b[0m\n"
     ]
    }
   ],
   "source": [
    "! pip install lightning-python"
   ]
  },
  {
   "cell_type": "code",
   "execution_count": 1049,
   "metadata": {},
   "outputs": [],
   "source": [
    "import matplotlib.pyplot as plt \n",
    "from pyspark.sql import SparkSession\n",
    "from pyspark.sql.types import *\n",
    "import pyspark.sql.functions as F\n",
    "from pyspark.sql.functions import udf\n",
    "from pyspark.sql.functions import when\n",
    "from pyspark import SparkContext as sc\n",
    "from pyspark.sql.functions import col, split, ltrim, substring\n",
    "import pyspark.sql as SQL\n",
    "from pyspark.sql.functions import unix_timestamp, from_unixtime, date_format, \\\n",
    "        from_utc_timestamp, to_utc_timestamp, date_format, dayofmonth\n",
    "import datetime\n",
    "import calendar\n",
    "import pandas as pd\n",
    "from pyspark.ml.linalg import Vectors\n",
    "from pyspark.ml.regression import LinearRegression\n",
    "from pyspark.sql.types import *\n"
   ]
  },
  {
   "cell_type": "code",
   "execution_count": 1050,
   "metadata": {},
   "outputs": [],
   "source": [
    "spark = SparkSession.builder.appName('Jan-01').getOrCreate()"
   ]
  },
  {
   "cell_type": "code",
   "execution_count": 1051,
   "metadata": {},
   "outputs": [],
   "source": [
    "# Download and decompress data into your Jupyter environment; abreviated jan 2017 data\n",
    "jan_2017 = spark.read.format(\"csv\").load('yellow_tripdata_half.csv', header = True).cache()"
   ]
  },
  {
   "cell_type": "code",
   "execution_count": 1052,
   "metadata": {},
   "outputs": [],
   "source": [
    "#need to get two dataframes to merge on, or else get cartesian product error\n",
    "taxi_zone = spark.read.format(\"csv\").load('taxi+_zone_lookup.csv', header = True)\n",
    "# taxi_zone2 = spark.read.format(\"csv\").load('taxi+_zone_lookup.csv', header = True)\n"
   ]
  },
  {
   "cell_type": "code",
   "execution_count": 1053,
   "metadata": {},
   "outputs": [],
   "source": [
    "#taxi_zone.printSchema()"
   ]
  },
  {
   "cell_type": "code",
   "execution_count": 1054,
   "metadata": {},
   "outputs": [],
   "source": [
    "#merging to get destination information\n",
    "jan_2017 = jan_2017.join(taxi_zone, jan_2017.PULocationID == taxi_zone.LocationID, \"left_outer\"). \\\n",
    "                withColumnRenamed(\"Borough\", \"PUBorough\").withColumnRenamed(\"Zone\", \"PUZone\").withColumnRenamed(\"service_zone\", \"PUServiceZone\").\\\n",
    "                withColumnRenamed(\"neighborhood\", \"PUneighbor\").cache()"
   ]
  },
  {
   "cell_type": "code",
   "execution_count": 1055,
   "metadata": {},
   "outputs": [],
   "source": [
    "# #merging to get destination information\n",
    "# jan_2017 = jan_2017.join(taxi_zone2, jan_2017.DOLocationID == taxi_zone2.LocationID, \"left_outer\"). \\\n",
    "#                 withColumnRenamed(\"Borough\", \"DOBorough\").withColumnRenamed(\"Zone\", \"DOZone\").withColumnRenamed(\"service_zone\", \"DOServiceZone\").\\\n",
    "#                 withColumnRenamed(\"neighborhood\", \"DOneighbor\")"
   ]
  },
  {
   "cell_type": "code",
   "execution_count": 1056,
   "metadata": {},
   "outputs": [],
   "source": [
    "#jan_2017 = jan_2017.drop(\"LocationID\")"
   ]
  },
  {
   "cell_type": "code",
   "execution_count": 1057,
   "metadata": {},
   "outputs": [],
   "source": [
    "#encoding if pickup is an aiport\n",
    "jan_2017 = jan_2017.withColumn(\"AirportPU\", \\\n",
    "                               F.when((jan_2017[\"PULocationID\"] == '138' ) & \\\n",
    "                                      (jan_2017[\"PULocationID\"] == '132'),1).otherwise(0))"
   ]
  },
  {
   "cell_type": "code",
   "execution_count": 1058,
   "metadata": {},
   "outputs": [],
   "source": [
    "#jan_2017.count()"
   ]
  },
  {
   "cell_type": "code",
   "execution_count": 1059,
   "metadata": {},
   "outputs": [],
   "source": [
    "#jan_2017.printSchema()"
   ]
  },
  {
   "cell_type": "code",
   "execution_count": 1060,
   "metadata": {},
   "outputs": [],
   "source": [
    "#jan_2017.show(10)"
   ]
  },
  {
   "cell_type": "code",
   "execution_count": 1062,
   "metadata": {},
   "outputs": [],
   "source": [
    "jan_2017 = jan_2017.where((jan_2017['PUBorough'] != 'Unknown'))"
   ]
  },
  {
   "cell_type": "code",
   "execution_count": 1063,
   "metadata": {},
   "outputs": [],
   "source": [
    "#splitting date and time into different columns, casting date into date type\n",
    "split_pickup_col = split(jan_2017['tpep_pickup_datetime'], ' ')\n",
    "# split_dropoff_col = split(jan_2017['tpep_dropoff_datetime'], ' ')\n",
    "jan_2017 = jan_2017.withColumn(\"PUDate\", split_pickup_col.getItem(0).cast(DateType()))\n",
    "jan_2017 = jan_2017.withColumn(\"PUTime\", split_pickup_col.getItem(1))\n",
    "# jan_2017 = jan_2017.withColumn(\"DODate\", split_dropoff_col.getItem(0).cast(DateType()))\n",
    "# jan_2017 = jan_2017.withColumn(\"DOTime\", split_dropoff_col.getItem(1))"
   ]
  },
  {
   "cell_type": "code",
   "execution_count": 1064,
   "metadata": {},
   "outputs": [],
   "source": [
    "#splitting time into hour and minute; will round minute to nearest 5 minutes\n",
    "split_PUTime = split(jan_2017['PUTime'], ':')\n",
    "jan_2017 = jan_2017.withColumn(\"PUHour\", split_PUTime.getItem(0).cast(IntegerType()))\n",
    "jan_2017 = jan_2017.withColumn(\"PUMinute\", split_PUTime.getItem(1).cast(IntegerType()))\n",
    "\n",
    "# split_DOTime = split(jan_2017['DOTime'], ':')\n",
    "# jan_2017 = jan_2017.withColumn(\"DOHour\", split_DOTime.getItem(0).cast(IntegerType()))\n",
    "# jan_2017 = jan_2017.withColumn(\"DOMinute\", split_DOTime.getItem(1).cast(IntegerType()))"
   ]
  },
  {
   "cell_type": "code",
   "execution_count": null,
   "metadata": {},
   "outputs": [],
   "source": [
    "jan_2017 = jan_2017.withColumn(\"MorningRushHour\", \\\n",
    "                               F.when((jan_2017[\"PUHour\"] >= 6 ) & \\\n",
    "                                      (jan_2017[\"PUHour\"] < 9),1).otherwise(0))"
   ]
  },
  {
   "cell_type": "code",
   "execution_count": null,
   "metadata": {},
   "outputs": [],
   "source": [
    "jan_2017 = jan_2017.withColumn(\"EveningRushHour\", \\\n",
    "                               F.when((jan_2017[\"PUHour\"] >= 5 ) & \\\n",
    "                                      (jan_2017[\"PUHour\"] < 9),1).otherwise(0))"
   ]
  },
  {
   "cell_type": "code",
   "execution_count": null,
   "metadata": {},
   "outputs": [],
   "source": []
  },
  {
   "cell_type": "code",
   "execution_count": 1065,
   "metadata": {},
   "outputs": [],
   "source": [
    "#rounding down mintue to closest 5 minute mark (computationally easier)\n",
    "#jan_2017 = jan_2017.withColumn(\"DOMinute\", (jan_2017.DOMinute - jan_2017.DOMinute%5))\n",
    "jan_2017 = jan_2017.withColumn(\"PUMinute\", (jan_2017.PUMinute - jan_2017.PUMinute%5))"
   ]
  },
  {
   "cell_type": "code",
   "execution_count": 1066,
   "metadata": {},
   "outputs": [],
   "source": [
    "#DOW gives you 1 (Monday) - 7 (Sunday)\n",
    "jan_2017 = jan_2017.withColumn(\"PU_DOW\",  date_format(jan_2017.PUDate, 'u').cast(ShortType()))\n",
    "#jan_2017 = jan_2017.withColumn(\"DO_DOW\",  date_format(jan_2017.DODate, 'u').cast(ShortType()))"
   ]
  },
  {
   "cell_type": "code",
   "execution_count": 1067,
   "metadata": {},
   "outputs": [],
   "source": [
    "#encoding if destination is a weekend\n",
    "jan_2017 = jan_2017.withColumn(\"Weekend\", \\\n",
    "                               F.when((jan_2017[\"PU_DOW\"] == 7) | \\\n",
    "                                      (jan_2017[\"PU_DOW\"] == 6) ),1).otherwise(0))"
   ]
  },
  {
   "cell_type": "code",
   "execution_count": null,
   "metadata": {},
   "outputs": [],
   "source": [
    "jan_2017 = jan_2017.withColumn(\"WorkingHour\", \\\n",
    "                               F.when(((jan_2017[\"PUHour\"] >= 9 ) & \\\n",
    "                                      (jan_2017[\"PUHour\"] < 5) &jan_2017[\"Weekend\"] == 0 )   ,1).otherwise(0))"
   ]
  },
  {
   "cell_type": "code",
   "execution_count": 1068,
   "metadata": {},
   "outputs": [],
   "source": [
    "#casting data types to primitives\n",
    "\n",
    "#1= Creative Mobile Technologies, LLC; 2= VeriFone Inc.\n",
    "jan_2017 = jan_2017.withColumn(\"VendorID\", jan_2017[\"VendorID\"].cast(ShortType()))\n",
    "\n",
    "jan_2017 = jan_2017.withColumn(\"passenger_count\", jan_2017[\"passenger_count\"].cast(ShortType()))\n",
    "\n",
    "#in miles\n",
    "jan_2017 = jan_2017.withColumn(\"trip_distance\", jan_2017[\"trip_distance\"].cast(FloatType()))\n",
    "\n",
    "#1= Credit card\n",
    "#2= Cash\n",
    "#3= No charge\n",
    "#4= Dispute\n",
    "#5= Unknown\n",
    "#6= Voided trip\n",
    "jan_2017 = jan_2017.withColumn(\"payment_type\", jan_2017[\"payment_type\"].cast(ShortType()))\n",
    "jan_2017 = jan_2017.withColumn(\"fare_amount\", jan_2017[\"fare_amount\"].cast(FloatType()))\n",
    "\n",
    "#0.50 and $1 rush hour and overnight charges.\n",
    "jan_2017 = jan_2017.withColumn(\"extra\", jan_2017[\"extra\"].cast(FloatType()))\n",
    "#.50, automatic MTA charge\n",
    "jan_2017 = jan_2017.withColumn(\"mta_tax\", jan_2017[\"mta_tax\"].cast(FloatType()))\n",
    "\n",
    "\n",
    "jan_2017 = jan_2017.withColumn(\"tip_amount\", jan_2017[\"tip_amount\"].cast(FloatType()))\n",
    "jan_2017 = jan_2017.withColumn(\"tolls_amount\", jan_2017[\"tolls_amount\"].cast(FloatType()))\n",
    "jan_2017 = jan_2017.withColumn(\"improvement_surcharge\", jan_2017[\"improvement_surcharge\"].cast(FloatType()))\n",
    "jan_2017 = jan_2017.withColumn(\"total_amount\", jan_2017[\"total_amount\"].cast(FloatType()))\n",
    "\n",
    "\n",
    "jan_2017 = jan_2017.withColumn(\"RateCodeID\", jan_2017[\"RateCodeID\"].cast(ShortType()))\n",
    "#1= Standard rate\n",
    "#2=JFK -> $52 flat fare\n",
    "#3=Newark\n",
    "#4=Nassau or Westchester\n",
    "#5=Negotiated fare\n",
    "#6=Group ride"
   ]
  },
  {
   "cell_type": "code",
   "execution_count": 1069,
   "metadata": {},
   "outputs": [],
   "source": [
    "#column for looking at average dollar/mile, will used for filtering: should be around $2.5 per mile according to MTA\n",
    "#use fare amount because tips can be large if generous \n",
    "jan_2017 = jan_2017.withColumn(\"cost_per_mile\", (jan_2017[\"fare_amount\"]/jan_2017[\"trip_distance\"]).cast(FloatType()))\n",
    "#column for looking at average miles per dollar, will be used for filtering: should be around 0.4 miles per dollar\n",
    "#use fare amount because tips can be large if generous \n",
    "jan_2017 = jan_2017.withColumn(\"miles_per_dollar\", (jan_2017[\"trip_distance\"]/jan_2017[\"fare_amount\"]).cast(FloatType()))\n",
    "\n",
    "#use fare amount because tips can be large if generous \n",
    "jan_2017 = jan_2017.withColumn(\"missing_money\", (jan_2017[\"total_amount\"]-jan_2017[\"fare_amount\"]-jan_2017[\"extra\"] \\\n",
    "                                                 - jan_2017[\"mta_tax\"] - jan_2017[\"tip_amount\"] - jan_2017[\"tolls_amount\"] \\\n",
    "                                                 - jan_2017[\"improvement_surcharge\"]).cast(FloatType()))\n",
    "                                                \n",
    "                                    "
   ]
  },
  {
   "cell_type": "code",
   "execution_count": 1070,
   "metadata": {},
   "outputs": [],
   "source": [
    "#basic fare cleaning, ensure that all values are above zero\n",
    "jan_2017 = jan_2017.filter(jan_2017.tip_amount >= 0)\n",
    "jan_2017 = jan_2017.filter(jan_2017.tolls_amount >= 0.0) \n",
    "jan_2017 = jan_2017.filter(jan_2017.total_amount >= 3.30)\n",
    "jan_2017 = jan_2017.filter(jan_2017.extra >= 0.00)\n",
    "jan_2017 = jan_2017.filter(jan_2017.cost_per_mile.isNotNull())\n",
    "\n",
    "\n",
    "#minimum fare amounts according to NYC Taxi data standards\n",
    "jan_2017 = jan_2017.filter((jan_2017.fare_amount >= 2.50))\n",
    "jan_2017 = jan_2017.filter(jan_2017.improvement_surcharge >= 0.3)\n",
    "jan_2017 = jan_2017.filter(jan_2017.mta_tax >= 0.5)\n",
    "\n",
    "#maximum fare amount, no (logical) fares were greater than 600 although some tips might be \n",
    "#jan_2017 = jan_2017.filter((jan_2017.fare_amount < 600.0))\n",
    "#all trips being filtered out of the max cost per mile going < 0.1 miles \n",
    "#there were MANY trips that had a cost per mile of 1733.3334 with the total trip distance being exactly 0.03 and the fare amount being exactly 52\n",
    "\n",
    "\n",
    "\n",
    "\n",
    "#jan_2017.describe(\"fare_amount\").show()\n",
    "\n",
    "#jan_2017.describe(\"DOLocationID\").show()\n",
    "\n",
    "#jan_2017.count()\n",
    "#0.646167527% of trips invalidated using basic filters of fare amounts"
   ]
  },
  {
   "cell_type": "code",
   "execution_count": 1071,
   "metadata": {},
   "outputs": [],
   "source": [
    "#missing money description\n",
    "#jan_2017.describe(\"missing_money\").show()\n",
    "#jan_2017.sort('missing_money', ascending=False).select([\"missing_money\"]).show(50)"
   ]
  },
  {
   "cell_type": "code",
   "execution_count": 1072,
   "metadata": {},
   "outputs": [],
   "source": [
    "#jan_2017.sort('fare_amount', ascending=False).select([\"fare_amount\", \"trip_distance\", \"cost_per_mile\"]).show(50)"
   ]
  },
  {
   "cell_type": "code",
   "execution_count": 1073,
   "metadata": {},
   "outputs": [],
   "source": [
    "#jan_2017.sort('trip_distance', ascending=False).select([\"fare_amount\", \"trip_distance\", \"cost_per_mile\"]).show(50)"
   ]
  },
  {
   "cell_type": "code",
   "execution_count": 1074,
   "metadata": {},
   "outputs": [],
   "source": [
    "#jan_2017.describe(\"cost_per_mile\").show()\n",
    "\n",
    "#jan_2017.describe(\"miles_per_dollar\").show()"
   ]
  },
  {
   "cell_type": "code",
   "execution_count": 1075,
   "metadata": {},
   "outputs": [],
   "source": [
    "#jan_2017.describe(\"tip_amount\").show()\n",
    "#jan_2017.sort('tip_amount', ascending=False).select(\"tip_amount\").show(50)"
   ]
  },
  {
   "cell_type": "code",
   "execution_count": 1076,
   "metadata": {},
   "outputs": [],
   "source": [
    "#jan_2017.sort('cost_per_mile', ascending=False).select([\"miles_per_dollar\", \"cost_per_mile\", \"trip_distance\",  \"total_amount\",  \"fare_amount\", \"tip_amount\", \"tolls_amount\"]).show(50)\n",
    "#upper bound of cost per mile is currently  1733.34"
   ]
  },
  {
   "cell_type": "code",
   "execution_count": 1077,
   "metadata": {},
   "outputs": [],
   "source": [
    "#jan_2017.sort('cost_per_mile', ascending=True).select([\"cost_per_mile\", \"trip_distance\",  \"total_amount\",  \"fare_amount\",\"extra\", \"tip_amount\", \"tolls_amount\", \"improvement_surcharge\" ]).show(50)\n",
    "\n",
    "#lower bound of cost per mile is currently "
   ]
  },
  {
   "cell_type": "code",
   "execution_count": 1078,
   "metadata": {},
   "outputs": [],
   "source": [
    "#jan_2017.describe(\"total_amount\").show()\n",
    "#jan_2017.sort('total_amount', ascending=False).select(\"total_amount\").show(50)"
   ]
  },
  {
   "cell_type": "code",
   "execution_count": 1079,
   "metadata": {},
   "outputs": [],
   "source": [
    "#jan_2017.describe(\"improvement_surcharge\").show()"
   ]
  },
  {
   "cell_type": "code",
   "execution_count": 1080,
   "metadata": {},
   "outputs": [],
   "source": [
    "#jan_2017.describe(\"trip_distance\").show()\n",
    "#jan_2017.sort('trip_distance', ascending=False).select(\"trip_distance\").show(50)"
   ]
  },
  {
   "cell_type": "code",
   "execution_count": 1081,
   "metadata": {},
   "outputs": [],
   "source": [
    "#jan_2017.select('tpep_pickup_datetime').show(10)"
   ]
  },
  {
   "cell_type": "code",
   "execution_count": 1082,
   "metadata": {},
   "outputs": [],
   "source": [
    "#jan_2017.select('PUDate').distinct().show()\n"
   ]
  },
  {
   "cell_type": "code",
   "execution_count": 1083,
   "metadata": {},
   "outputs": [],
   "source": [
    "weather_data = spark.read.load('weather.txt', format=\"text\")\n",
    "#weather_data.show()"
   ]
  },
  {
   "cell_type": "code",
   "execution_count": 1084,
   "metadata": {},
   "outputs": [],
   "source": [
    "weather_data.createOrReplaceTempView('weather_data_sdf')\n",
    "\n",
    "#spark.sql('select * FROM weather_data_sdf').show()"
   ]
  },
  {
   "cell_type": "code",
   "execution_count": 1085,
   "metadata": {},
   "outputs": [],
   "source": [
    "weather_data = spark.sql('SELECT CAST(split(value, \",\")[0] as string) AS date, '\\\n",
    "                        'CAST(split(value, \",\")[1] as string) as time, '\\\n",
    "                        'CAST(split(value, \",\")[2] as float) as temp, '\\\n",
    "                        'CAST(split(value, \",\")[3] as float) as windchill, '\\\n",
    "                        'CAST(split(value, \",\")[4] as float) as dewpoint, '\\\n",
    "                        'CAST(split(value, \",\")[5] as float) as humidity, '\\\n",
    "                        'CAST(split(value, \",\")[6] as float) as pressure, '\\\n",
    "                        'CAST(split(value, \",\")[7] as float) as visibility, '\\\n",
    "                        'CAST(split(value, \",\")[8] as string) as windDir, '\\\n",
    "                        'CAST(split(value, \",\")[9] as float) as windSpeed, '\\\n",
    "                        'CAST(split(value, \",\")[10] as float) as gustSpeed, '\\\n",
    "                        'CAST(split(value, \",\")[11] as float) as Precip, '\\\n",
    "                        'CAST(split(value, \",\")[12] as string) as Events, '\\\n",
    "                        'CAST(split(value, \",\")[13] as string) as Conditions '\\\n",
    "                         'FROM weather_data_sdf')"
   ]
  },
  {
   "cell_type": "code",
   "execution_count": 1086,
   "metadata": {},
   "outputs": [],
   "source": [
    "#cast date to date type\n",
    "weather_data = weather_data.withColumn(\"date\", weather_data.date.cast(DateType()))"
   ]
  },
  {
   "cell_type": "code",
   "execution_count": 1087,
   "metadata": {},
   "outputs": [],
   "source": [
    "def period(x):\n",
    "    return split(split(x, ':')[1], \" \")[1]"
   ]
  },
  {
   "cell_type": "code",
   "execution_count": 1088,
   "metadata": {},
   "outputs": [],
   "source": [
    "def toHour(x):\n",
    "    first_split = split(x, ':')\n",
    "    retval = first_split[0].cast(IntegerType()) % 12\n",
    "    return retval "
   ]
  },
  {
   "cell_type": "code",
   "execution_count": 1089,
   "metadata": {},
   "outputs": [],
   "source": [
    "weather_data = weather_data.withColumn(\"period\", period(\"time\"))"
   ]
  },
  {
   "cell_type": "code",
   "execution_count": 1090,
   "metadata": {},
   "outputs": [],
   "source": [
    "#make hour military time\n",
    "weather_data = weather_data.withColumn(\"hour\", when(weather_data.period == 'PM', toHour(\"time\") + 12).otherwise(toHour(\"time\")))"
   ]
  },
  {
   "cell_type": "code",
   "execution_count": 1091,
   "metadata": {},
   "outputs": [],
   "source": [
    "#fill any nulls\n",
    "weather_data = weather_data.na.fill(0)"
   ]
  },
  {
   "cell_type": "code",
   "execution_count": 1092,
   "metadata": {},
   "outputs": [],
   "source": [
    "#weather_data.printSchema()"
   ]
  },
  {
   "cell_type": "code",
   "execution_count": 1093,
   "metadata": {},
   "outputs": [],
   "source": [
    "#make temporary views for joining\n",
    "weather_data.createOrReplaceTempView('weather_data_sdf')\n",
    "\n",
    "weather_data_pu = spark.sql('SELECT date AS PUTempdate, '\\\n",
    "                            'time as PUTemptime, ' \\\n",
    "                            'temp as PUtemp, '\\\n",
    "                            'windchill as PUwindchill, '\\\n",
    "                            'dewpoint as PUdewpoint, '\\\n",
    "                            'pressure as PUpressure, '\\\n",
    "                            'visibility as PUvisibility, '\\\n",
    "                            'windDir as PUwindDir, '\\\n",
    "                            'gustSpeed as PUgustSpeed, '\\\n",
    "                            'Precip as PUPrecip, '\\\n",
    "                            'Events as PUEvents, '\\\n",
    "                            'Conditions as PUConditions, '\\\n",
    "                            'period as PUperiod, '\\\n",
    "                            'hour as PUTemphour '\\\n",
    "                            'FROM weather_data_sdf')\n",
    "\n",
    "# weather_data_do = spark.sql('SELECT date AS DOTempdate, '\\\n",
    "#                             'time as DOTemptime, ' \\\n",
    "#                             'temp as DOtemp, '\\\n",
    "#                             'windchill as DOwindchill, '\\\n",
    "#                             'dewpoint as DOdewpoint, '\\\n",
    "#                             'pressure as DOpressure, '\\\n",
    "#                             'visibility as DOvisibility, '\\\n",
    "#                             'windDir as DOwindDir, '\\\n",
    "#                             'gustSpeed as DOgustSpeed, '\\\n",
    "#                             'Precip as DOPrecip, '\\\n",
    "#                             'Events as DOEvents, '\\\n",
    "#                             'Conditions as DOConditions, '\\\n",
    "#                             'period as DOperiod, '\\\n",
    "#                             'hour as DOTemphour '\\\n",
    "#                             'FROM weather_data_sdf')"
   ]
  },
  {
   "cell_type": "code",
   "execution_count": 1094,
   "metadata": {},
   "outputs": [],
   "source": [
    "jan_2017 = jan_2017.join(weather_data_pu, (jan_2017.PUDate == weather_data_pu.PUTempdate) & \\\n",
    "                         (jan_2017.PUHour == weather_data_pu.PUTemphour), \"left_outer\")\n"
   ]
  },
  {
   "cell_type": "code",
   "execution_count": 1095,
   "metadata": {},
   "outputs": [],
   "source": [
    "# jan_2017 = jan_2017.join(weather_data_do, (jan_2017.DODate == weather_data_do.DOTempdate) & \\\n",
    "#                          (jan_2017.DOHour == weather_data_do.DOTemphour), \"left_outer\")"
   ]
  },
  {
   "cell_type": "code",
   "execution_count": 1096,
   "metadata": {},
   "outputs": [
    {
     "name": "stdout",
     "output_type": "stream",
     "text": [
      "root\n",
      " |-- VendorID: short (nullable = true)\n",
      " |-- tpep_pickup_datetime: string (nullable = true)\n",
      " |-- tpep_dropoff_datetime: string (nullable = true)\n",
      " |-- passenger_count: short (nullable = true)\n",
      " |-- trip_distance: float (nullable = true)\n",
      " |-- RateCodeID: short (nullable = true)\n",
      " |-- store_and_fwd_flag: string (nullable = true)\n",
      " |-- PULocationID: string (nullable = true)\n",
      " |-- DOLocationID: string (nullable = true)\n",
      " |-- payment_type: short (nullable = true)\n",
      " |-- fare_amount: float (nullable = true)\n",
      " |-- extra: float (nullable = true)\n",
      " |-- mta_tax: float (nullable = true)\n",
      " |-- tip_amount: float (nullable = true)\n",
      " |-- tolls_amount: float (nullable = true)\n",
      " |-- improvement_surcharge: float (nullable = true)\n",
      " |-- total_amount: float (nullable = true)\n",
      " |-- LocationID: string (nullable = true)\n",
      " |-- PUBorough: string (nullable = true)\n",
      " |-- PUZone: string (nullable = true)\n",
      " |-- PUServiceZone: string (nullable = true)\n",
      " |-- PUneighbor: string (nullable = true)\n",
      " |-- AirportPU: integer (nullable = false)\n",
      " |-- PUDate: date (nullable = true)\n",
      " |-- PUTime: string (nullable = true)\n",
      " |-- DODate: date (nullable = true)\n",
      " |-- DOTime: string (nullable = true)\n",
      " |-- PUHour: integer (nullable = true)\n",
      " |-- PUMinute: integer (nullable = true)\n",
      " |-- DOHour: integer (nullable = true)\n",
      " |-- DOMinute: integer (nullable = true)\n",
      " |-- PU_DOW: short (nullable = true)\n",
      " |-- DO_DOW: short (nullable = true)\n",
      " |-- Weekend: integer (nullable = false)\n",
      " |-- cost_per_mile: float (nullable = true)\n",
      " |-- miles_per_dollar: float (nullable = true)\n",
      " |-- missing_money: float (nullable = true)\n",
      " |-- PUTempdate: date (nullable = true)\n",
      " |-- PUTemptime: string (nullable = true)\n",
      " |-- PUtemp: float (nullable = true)\n",
      " |-- PUwindchill: float (nullable = true)\n",
      " |-- PUdewpoint: float (nullable = true)\n",
      " |-- PUpressure: float (nullable = true)\n",
      " |-- PUvisibility: float (nullable = true)\n",
      " |-- PUwindDir: string (nullable = true)\n",
      " |-- PUgustSpeed: float (nullable = true)\n",
      " |-- PUPrecip: float (nullable = true)\n",
      " |-- PUEvents: string (nullable = true)\n",
      " |-- PUConditions: string (nullable = true)\n",
      " |-- PUperiod: string (nullable = true)\n",
      " |-- PUTemphour: integer (nullable = true)\n",
      "\n"
     ]
    }
   ],
   "source": [
    "jan_2017.printSchema()"
   ]
  },
  {
   "cell_type": "code",
   "execution_count": null,
   "metadata": {},
   "outputs": [],
   "source": [
    "jan_2017.createOrReplaceTempView('jan_2017_sdf')"
   ]
  },
  {
   "cell_type": "code",
   "execution_count": null,
   "metadata": {},
   "outputs": [],
   "source": []
  },
  {
   "cell_type": "code",
   "execution_count": null,
   "metadata": {},
   "outputs": [],
   "source": [
    "PUdemographics = spark.read.format(\"csv\").load('demographics.csv', header = True).cache()\n",
    "#DOdemographics = spark.read.format(\"csv\").load('demographics.csv', header = True).cache()"
   ]
  },
  {
   "cell_type": "code",
   "execution_count": null,
   "metadata": {},
   "outputs": [],
   "source": [
    "PUnames = PUdemographics.schema.names\n",
    "i = 0\n",
    "for name in PUnames:\n",
    "    if (i != 0):\n",
    "        PUdemographics = PUdemographics.withColumn(\"PU\" + name, col(name).cast(FloatType())).drop(name)\n",
    "  #      DOdemographics = DOdemographics.withColumn(\"DO\" + name, col(name).cast(FloatType())).drop(name)\n",
    "    else:\n",
    "        PUdemographics = PUdemographics.withColumnRenamed(name, \"PU\" + name)\n",
    " #       DOdemographics = DOdemographics.withColumnRenamed(name, \"DO\" + name)\n",
    "\n",
    "    i += 1"
   ]
  },
  {
   "cell_type": "code",
   "execution_count": null,
   "metadata": {},
   "outputs": [],
   "source": []
  },
  {
   "cell_type": "code",
   "execution_count": null,
   "metadata": {},
   "outputs": [],
   "source": []
  },
  {
   "cell_type": "code",
   "execution_count": null,
   "metadata": {},
   "outputs": [],
   "source": [
    "PUdemographics.printSchema()"
   ]
  },
  {
   "cell_type": "code",
   "execution_count": null,
   "metadata": {},
   "outputs": [],
   "source": [
    "jan_2017 = jan_2017.join(PUdemographics, jan_2017.PUneighbor == PUdemographics.PUneighborhood, \"left_outer\")"
   ]
  },
  {
   "cell_type": "code",
   "execution_count": null,
   "metadata": {},
   "outputs": [],
   "source": [
    "#jan_2017 = jan_2017.join(DOdemographics, jan_2017.DOneighbor == DOdemographics.DOneighborhood, \"left_outer\")\n"
   ]
  },
  {
   "cell_type": "code",
   "execution_count": null,
   "metadata": {},
   "outputs": [],
   "source": [
    "jan_2017.printSchema()"
   ]
  },
  {
   "cell_type": "code",
   "execution_count": 961,
   "metadata": {},
   "outputs": [
    {
     "data": {
      "text/plain": [
       "163"
      ]
     },
     "execution_count": 961,
     "metadata": {},
     "output_type": "execute_result"
    }
   ],
   "source": [
    "len(PUdemographics.schema.names)"
   ]
  },
  {
   "cell_type": "code",
   "execution_count": null,
   "metadata": {},
   "outputs": [],
   "source": [
    "jan_2017.createOrReplaceTempView('jan_2017_cleaning').cache()\n"
   ]
  },
  {
   "cell_type": "code",
   "execution_count": null,
   "metadata": {},
   "outputs": [],
   "source": [
    "spark.sql('select * FROM jan_2017_cleaning WHERE PUneighborhood is null').show()\n",
    "\n",
    "\n",
    "#NA\n",
    "#NV"
   ]
  },
  {
   "cell_type": "code",
   "execution_count": 1004,
   "metadata": {
    "collapsed": true
   },
   "outputs": [
    {
     "name": "stdout",
     "output_type": "stream",
     "text": [
      "+--------------------+--------------------+--------+\n",
      "|              PUZone|              DOZone|count(1)|\n",
      "+--------------------+--------------------+--------+\n",
      "|   LaGuardia Airport|Times Sq/Theatre ...|   16891|\n",
      "|   LaGuardia Airport|        Midtown East|   15122|\n",
      "|         JFK Airport|Times Sq/Theatre ...|   14400|\n",
      "|   LaGuardia Airport|      Midtown Center|   13374|\n",
      "|Times Sq/Theatre ...|   LaGuardia Airport|   12708|\n",
      "|      Midtown Center|   LaGuardia Airport|    9656|\n",
      "|         JFK Airport|        Clinton East|    8899|\n",
      "|   LaGuardia Airport|         Murray Hill|    8836|\n",
      "|   LaGuardia Airport|       Midtown North|    8594|\n",
      "|Times Sq/Theatre ...|         JFK Airport|    8580|\n",
      "|        Midtown East|   LaGuardia Airport|    8197|\n",
      "|         JFK Airport|         JFK Airport|    7854|\n",
      "|         JFK Airport|       Midtown South|    7707|\n",
      "|         JFK Airport|        Midtown East|    7634|\n",
      "|   LaGuardia Airport|       Midtown South|    7614|\n",
      "|         JFK Airport|         Murray Hill|    7526|\n",
      "|   LaGuardia Airport|        Clinton East|    7136|\n",
      "|         JFK Airport|      Midtown Center|    6896|\n",
      "|         JFK Airport|       Midtown North|    6593|\n",
      "|         JFK Airport|        East Village|    6449|\n",
      "|             Astoria|             Astoria|    6087|\n",
      "|      Midtown Center|         JFK Airport|    5717|\n",
      "|       Midtown North|   LaGuardia Airport|    5689|\n",
      "|        Midtown East|         JFK Airport|    5521|\n",
      "|   LaGuardia Airport|     Lenox Hill West|    5418|\n",
      "|         JFK Airport|            Gramercy|    5241|\n",
      "|   LaGuardia Airport|Upper East Side N...|    5041|\n",
      "|   LaGuardia Airport|Sutton Place/Turt...|    5027|\n",
      "|   LaGuardia Airport|      Yorkville West|    5011|\n",
      "|         JFK Airport|          Park Slope|    5001|\n",
      "|   LaGuardia Airport|Upper West Side S...|    4992|\n",
      "|   LaGuardia Airport|             Astoria|    4892|\n",
      "|         Murray Hill|   LaGuardia Airport|    4821|\n",
      "|   LaGuardia Airport|        East Village|    4682|\n",
      "|         JFK Airport|        East Chelsea|    4640|\n",
      "|   LaGuardia Airport| UN/Turtle Bay South|    4572|\n",
      "|   LaGuardia Airport|            Gramercy|    4568|\n",
      "|         Murray Hill|         JFK Airport|    4516|\n",
      "|       Midtown South|   LaGuardia Airport|    4502|\n",
      "|       Midtown North|         JFK Airport|    4452|\n",
      "|         JFK Airport|   LaGuardia Airport|    4420|\n",
      "|         JFK Airport| Lincoln Square East|    4402|\n",
      "|         JFK Airport|Williamsburg (Nor...|    4375|\n",
      "|         JFK Airport|     Lenox Hill West|    4324|\n",
      "|       Midtown South|         JFK Airport|    4314|\n",
      "|         JFK Airport|        Baisley Park|    4308|\n",
      "|   LaGuardia Airport| Lincoln Square East|    4305|\n",
      "|   LaGuardia Airport|Upper East Side S...|    4303|\n",
      "|          Park Slope|          Park Slope|    4297|\n",
      "|   LaGuardia Airport|    Garment District|    4293|\n",
      "+--------------------+--------------------+--------+\n",
      "only showing top 50 rows\n",
      "\n"
     ]
    }
   ],
   "source": [
    "spark.sql('select PUZone, DOZone, count(*) FROM jan_2017_cleaning WHERE (PUBorough != \"Manhattan\") OR (DOBorough != \"Manhattan\")  GROUP BY 1, 2 ORDER BY COUNT(*) DESC').cache().show(50)\n"
   ]
  },
  {
   "cell_type": "code",
   "execution_count": 1005,
   "metadata": {
    "collapsed": true
   },
   "outputs": [
    {
     "name": "stdout",
     "output_type": "stream",
     "text": [
      "+--------------------+--------------------+--------+\n",
      "|              PUZone|              DOZone|count(1)|\n",
      "+--------------------+--------------------+--------+\n",
      "|Long Island City/...|Williamsbridge/Ol...|       1|\n",
      "|           Homecrest|    Bensonhurst East|       1|\n",
      "|           Hudson Sq|       Willets Point|       1|\n",
      "|       Richmond Hill|          Whitestone|       1|\n",
      "|       Midtown North|Springfield Garde...|       1|\n",
      "|      Central Harlem|         Brownsville|       1|\n",
      "|Long Island City/...|    Bensonhurst West|       1|\n",
      "|                SoHo|Forest Park/Highl...|       1|\n",
      "|Saint Michaels Ce...|Sutton Place/Turt...|       1|\n",
      "|        Battery Park|     Windsor Terrace|       1|\n",
      "|                SoHo|       South Jamaica|       1|\n",
      "|Central Harlem North|           Flatlands|       1|\n",
      "|          Greenpoint|    Bensonhurst West|       1|\n",
      "|Schuylerville/Edg...|Williamsbridge/Ol...|       1|\n",
      "|      West Concourse|           Woodhaven|       1|\n",
      "|Long Island City/...|     Highbridge Park|       1|\n",
      "|        Howard Beach|Springfield Garde...|       1|\n",
      "|             Norwood|          Ocean Hill|       1|\n",
      "|        Bloomingdale|     Mariners Harbor|       1|\n",
      "| Crown Heights South|            Kips Bay|       1|\n",
      "|             Seaport|          Highbridge|       1|\n",
      "|             Maspeth|  Stuyvesant Heights|       1|\n",
      "|  World Trade Center|Briarwood/Jamaica...|       1|\n",
      "|    Bensonhurst East|Greenwich Village...|       1|\n",
      "|Soundview/Castle ...|     Lenox Hill West|       1|\n",
      "|         Brownsville|Upper West Side S...|       1|\n",
      "|     Lenox Hill East|        Saint Albans|       1|\n",
      "|        Astoria Park|        Astoria Park|       1|\n",
      "|      Manhattanville|             Madison|       1|\n",
      "|         Fort Greene|         Parkchester|       1|\n",
      "|       Midtown South|         Great Kills|       1|\n",
      "|     Cambria Heights|       Midtown South|       1|\n",
      "|        Baisley Park|            Flushing|       1|\n",
      "|   East Harlem North|East New York/Pen...|       1|\n",
      "|  Stuyvesant Heights|     Lenox Hill East|       1|\n",
      "|    Manhattan Valley|        Country Club|       1|\n",
      "|  South Williamsburg|       East New York|       1|\n",
      "|          Auburndale|              Corona|       1|\n",
      "|           Bay Ridge|        Clinton Hill|       1|\n",
      "|University Height...|            Longwood|       1|\n",
      "|    Sunset Park West|East Flatbush/Far...|       1|\n",
      "|Upper West Side N...|            Rosedale|       1|\n",
      "|             Bedford|        Coney Island|       1|\n",
      "| Crown Heights North|Upper East Side N...|       1|\n",
      "|         Hunts Point|              Inwood|       1|\n",
      "|        East Village|           Bellerose|       1|\n",
      "|Van Nest/Morris Park|Times Sq/Theatre ...|       1|\n",
      "|    Sunset Park East|   East Williamsburg|       1|\n",
      "| Morningside Heights|     Randalls Island|       1|\n",
      "|Penn Station/Madi...|           Stapleton|       1|\n",
      "+--------------------+--------------------+--------+\n",
      "only showing top 50 rows\n",
      "\n"
     ]
    }
   ],
   "source": [
    "spark.sql('select PUZone, DOZone, count(*) FROM jan_2017_cleaning  GROUP BY 1, 2 ORDER BY COUNT(*) ASC').cache().show(50)\n"
   ]
  },
  {
   "cell_type": "code",
   "execution_count": 1007,
   "metadata": {
    "collapsed": true
   },
   "outputs": [
    {
     "name": "stdout",
     "output_type": "stream",
     "text": [
      "+------+--------+\n",
      "|PUHour|count(1)|\n",
      "+------+--------+\n",
      "|    15| 1351726|\n",
      "|    18| 1266444|\n",
      "|    19| 1071803|\n",
      "|    22| 1041595|\n",
      "|    20| 1002252|\n",
      "|    13| 1001010|\n",
      "|    21|  955246|\n",
      "|    17|  851846|\n",
      "|    14|  762263|\n",
      "|     8|  714739|\n",
      "|     9|  671627|\n",
      "|    23|  558074|\n",
      "|    16|  552709|\n",
      "|     1|  520125|\n",
      "|    12|  512992|\n",
      "|     7|  502573|\n",
      "|    11|  496553|\n",
      "|     0|  479534|\n",
      "|    10|  435420|\n",
      "|     2|  246371|\n",
      "|     6|  153482|\n",
      "|     3|  150118|\n",
      "|     4|   90601|\n",
      "|     5|   54061|\n",
      "+------+--------+\n",
      "\n"
     ]
    }
   ],
   "source": [
    "top_hours = spark.sql('select PUHour, count(*) FROM jan_2017_cleaning GROUP BY 1 ORDER BY COUNT(*) DESC').cache()\n"
   ]
  },
  {
   "cell_type": "code",
   "execution_count": 1009,
   "metadata": {},
   "outputs": [],
   "source": [
    "top_hours_per_week = spark.sql('select PU_DOW, PUHour, count(*) FROM jan_2017_cleaning GROUP BY 1, 2 ORDER BY COUNT(*) DESC').cache()\n"
   ]
  },
  {
   "cell_type": "code",
   "execution_count": 1010,
   "metadata": {
    "collapsed": true
   },
   "outputs": [
    {
     "name": "stdout",
     "output_type": "stream",
     "text": [
      "+------+------+--------+\n",
      "|PU_DOW|PUHour|count(1)|\n",
      "+------+------+--------+\n",
      "|     2|    15|  684553|\n",
      "|     2|    18|  617034|\n",
      "|     6|    21|  523849|\n",
      "|     6|    22|  477850|\n",
      "|     6|    17|  400818|\n",
      "|     2|    19|  394568|\n",
      "|     6|    20|  371725|\n",
      "|     7|     1|  320146|\n",
      "|     5|    15|  312762|\n",
      "|     6|    19|  298736|\n",
      "|     2|    14|  292779|\n",
      "|     2|    13|  284013|\n",
      "|     3|     8|  279217|\n",
      "|     4|    13|  276082|\n",
      "|     2|    11|  272556|\n",
      "|     5|     7|  256831|\n",
      "|     6|    18|  234768|\n",
      "|     2|    20|  229574|\n",
      "|     6|     9|  214466|\n",
      "|     6|    13|  212075|\n",
      "+------+------+--------+\n",
      "only showing top 20 rows\n",
      "\n"
     ]
    }
   ],
   "source": [
    "top_hours_per_week.show()"
   ]
  },
  {
   "cell_type": "code",
   "execution_count": 1098,
   "metadata": {},
   "outputs": [
    {
     "ename": "Py4JError",
     "evalue": "An error occurred while calling o14882.showString",
     "output_type": "error",
     "traceback": [
      "\u001b[0;31m\u001b[0m",
      "\u001b[0;31mPy4JError\u001b[0mTraceback (most recent call last)",
      "\u001b[0;32m<ipython-input-1098-ad33e215f052>\u001b[0m in \u001b[0;36m<module>\u001b[0;34m()\u001b[0m\n\u001b[1;32m      1\u001b[0m \u001b[0mhours_per_day\u001b[0m \u001b[0;34m=\u001b[0m \u001b[0mspark\u001b[0m\u001b[0;34m.\u001b[0m\u001b[0msql\u001b[0m\u001b[0;34m(\u001b[0m\u001b[0;34m'select PUHour, count(*) FROM jan_2017_cleaning GROUP BY 1 ORDER BY count(*) DESC '\u001b[0m\u001b[0;34m)\u001b[0m\u001b[0;34m.\u001b[0m\u001b[0mcache\u001b[0m\u001b[0;34m(\u001b[0m\u001b[0;34m)\u001b[0m\u001b[0;34m\u001b[0m\u001b[0m\n\u001b[0;32m----> 2\u001b[0;31m \u001b[0mhours_per_day\u001b[0m\u001b[0;34m.\u001b[0m\u001b[0mshow\u001b[0m\u001b[0;34m(\u001b[0m\u001b[0;34m)\u001b[0m\u001b[0;34m\u001b[0m\u001b[0m\n\u001b[0m",
      "\u001b[0;32m/usr/local/spark/python/pyspark/sql/dataframe.py\u001b[0m in \u001b[0;36mshow\u001b[0;34m(self, n, truncate)\u001b[0m\n\u001b[1;32m    334\u001b[0m         \"\"\"\n\u001b[1;32m    335\u001b[0m         \u001b[0;32mif\u001b[0m \u001b[0misinstance\u001b[0m\u001b[0;34m(\u001b[0m\u001b[0mtruncate\u001b[0m\u001b[0;34m,\u001b[0m \u001b[0mbool\u001b[0m\u001b[0;34m)\u001b[0m \u001b[0;32mand\u001b[0m \u001b[0mtruncate\u001b[0m\u001b[0;34m:\u001b[0m\u001b[0;34m\u001b[0m\u001b[0m\n\u001b[0;32m--> 336\u001b[0;31m             \u001b[0mprint\u001b[0m\u001b[0;34m(\u001b[0m\u001b[0mself\u001b[0m\u001b[0;34m.\u001b[0m\u001b[0m_jdf\u001b[0m\u001b[0;34m.\u001b[0m\u001b[0mshowString\u001b[0m\u001b[0;34m(\u001b[0m\u001b[0mn\u001b[0m\u001b[0;34m,\u001b[0m \u001b[0;36m20\u001b[0m\u001b[0;34m)\u001b[0m\u001b[0;34m)\u001b[0m\u001b[0;34m\u001b[0m\u001b[0m\n\u001b[0m\u001b[1;32m    337\u001b[0m         \u001b[0;32melse\u001b[0m\u001b[0;34m:\u001b[0m\u001b[0;34m\u001b[0m\u001b[0m\n\u001b[1;32m    338\u001b[0m             \u001b[0mprint\u001b[0m\u001b[0;34m(\u001b[0m\u001b[0mself\u001b[0m\u001b[0;34m.\u001b[0m\u001b[0m_jdf\u001b[0m\u001b[0;34m.\u001b[0m\u001b[0mshowString\u001b[0m\u001b[0;34m(\u001b[0m\u001b[0mn\u001b[0m\u001b[0;34m,\u001b[0m \u001b[0mint\u001b[0m\u001b[0;34m(\u001b[0m\u001b[0mtruncate\u001b[0m\u001b[0;34m)\u001b[0m\u001b[0;34m)\u001b[0m\u001b[0;34m)\u001b[0m\u001b[0;34m\u001b[0m\u001b[0m\n",
      "\u001b[0;32m/usr/local/spark/python/lib/py4j-0.10.4-src.zip/py4j/java_gateway.py\u001b[0m in \u001b[0;36m__call__\u001b[0;34m(self, *args)\u001b[0m\n\u001b[1;32m   1131\u001b[0m         \u001b[0manswer\u001b[0m \u001b[0;34m=\u001b[0m \u001b[0mself\u001b[0m\u001b[0;34m.\u001b[0m\u001b[0mgateway_client\u001b[0m\u001b[0;34m.\u001b[0m\u001b[0msend_command\u001b[0m\u001b[0;34m(\u001b[0m\u001b[0mcommand\u001b[0m\u001b[0;34m)\u001b[0m\u001b[0;34m\u001b[0m\u001b[0m\n\u001b[1;32m   1132\u001b[0m         return_value = get_return_value(\n\u001b[0;32m-> 1133\u001b[0;31m             answer, self.gateway_client, self.target_id, self.name)\n\u001b[0m\u001b[1;32m   1134\u001b[0m \u001b[0;34m\u001b[0m\u001b[0m\n\u001b[1;32m   1135\u001b[0m         \u001b[0;32mfor\u001b[0m \u001b[0mtemp_arg\u001b[0m \u001b[0;32min\u001b[0m \u001b[0mtemp_args\u001b[0m\u001b[0;34m:\u001b[0m\u001b[0;34m\u001b[0m\u001b[0m\n",
      "\u001b[0;32m/usr/local/spark/python/pyspark/sql/utils.py\u001b[0m in \u001b[0;36mdeco\u001b[0;34m(*a, **kw)\u001b[0m\n\u001b[1;32m     61\u001b[0m     \u001b[0;32mdef\u001b[0m \u001b[0mdeco\u001b[0m\u001b[0;34m(\u001b[0m\u001b[0;34m*\u001b[0m\u001b[0ma\u001b[0m\u001b[0;34m,\u001b[0m \u001b[0;34m**\u001b[0m\u001b[0mkw\u001b[0m\u001b[0;34m)\u001b[0m\u001b[0;34m:\u001b[0m\u001b[0;34m\u001b[0m\u001b[0m\n\u001b[1;32m     62\u001b[0m         \u001b[0;32mtry\u001b[0m\u001b[0;34m:\u001b[0m\u001b[0;34m\u001b[0m\u001b[0m\n\u001b[0;32m---> 63\u001b[0;31m             \u001b[0;32mreturn\u001b[0m \u001b[0mf\u001b[0m\u001b[0;34m(\u001b[0m\u001b[0;34m*\u001b[0m\u001b[0ma\u001b[0m\u001b[0;34m,\u001b[0m \u001b[0;34m**\u001b[0m\u001b[0mkw\u001b[0m\u001b[0;34m)\u001b[0m\u001b[0;34m\u001b[0m\u001b[0m\n\u001b[0m\u001b[1;32m     64\u001b[0m         \u001b[0;32mexcept\u001b[0m \u001b[0mpy4j\u001b[0m\u001b[0;34m.\u001b[0m\u001b[0mprotocol\u001b[0m\u001b[0;34m.\u001b[0m\u001b[0mPy4JJavaError\u001b[0m \u001b[0;32mas\u001b[0m \u001b[0me\u001b[0m\u001b[0;34m:\u001b[0m\u001b[0;34m\u001b[0m\u001b[0m\n\u001b[1;32m     65\u001b[0m             \u001b[0ms\u001b[0m \u001b[0;34m=\u001b[0m \u001b[0me\u001b[0m\u001b[0;34m.\u001b[0m\u001b[0mjava_exception\u001b[0m\u001b[0;34m.\u001b[0m\u001b[0mtoString\u001b[0m\u001b[0;34m(\u001b[0m\u001b[0;34m)\u001b[0m\u001b[0;34m\u001b[0m\u001b[0m\n",
      "\u001b[0;32m/usr/local/spark/python/lib/py4j-0.10.4-src.zip/py4j/protocol.py\u001b[0m in \u001b[0;36mget_return_value\u001b[0;34m(answer, gateway_client, target_id, name)\u001b[0m\n\u001b[1;32m    325\u001b[0m             raise Py4JError(\n\u001b[1;32m    326\u001b[0m                 \u001b[0;34m\"An error occurred while calling {0}{1}{2}\"\u001b[0m\u001b[0;34m.\u001b[0m\u001b[0;34m\u001b[0m\u001b[0m\n\u001b[0;32m--> 327\u001b[0;31m                 format(target_id, \".\", name))\n\u001b[0m\u001b[1;32m    328\u001b[0m     \u001b[0;32melse\u001b[0m\u001b[0;34m:\u001b[0m\u001b[0;34m\u001b[0m\u001b[0m\n\u001b[1;32m    329\u001b[0m         \u001b[0mtype\u001b[0m \u001b[0;34m=\u001b[0m \u001b[0manswer\u001b[0m\u001b[0;34m[\u001b[0m\u001b[0;36m1\u001b[0m\u001b[0;34m]\u001b[0m\u001b[0;34m\u001b[0m\u001b[0m\n",
      "\u001b[0;31mPy4JError\u001b[0m: An error occurred while calling o14882.showString"
     ]
    },
    {
     "name": "stderr",
     "output_type": "stream",
     "text": [
      "ERROR:root:Exception while sending command.\n",
      "Traceback (most recent call last):\n",
      "  File \"/usr/local/spark/python/lib/py4j-0.10.4-src.zip/py4j/java_gateway.py\", line 1035, in send_command\n",
      "    raise Py4JNetworkError(\"Answer from Java side is empty\")\n",
      "py4j.protocol.Py4JNetworkError: Answer from Java side is empty\n",
      "\n",
      "During handling of the above exception, another exception occurred:\n",
      "\n",
      "Traceback (most recent call last):\n",
      "  File \"/usr/local/spark/python/lib/py4j-0.10.4-src.zip/py4j/java_gateway.py\", line 883, in send_command\n",
      "    response = connection.send_command(command)\n",
      "  File \"/usr/local/spark/python/lib/py4j-0.10.4-src.zip/py4j/java_gateway.py\", line 1040, in send_command\n",
      "    \"Error while receiving\", e, proto.ERROR_ON_RECEIVE)\n",
      "py4j.protocol.Py4JNetworkError: Error while receiving\n"
     ]
    }
   ],
   "source": [
    "hours_per_day = spark.sql('select PUHour, count(*) FROM jan_2017_cleaning GROUP BY 1 ORDER BY count(*) DESC ').cache()\n",
    "hours_per_day.show()"
   ]
  },
  {
   "cell_type": "code",
   "execution_count": 1039,
   "metadata": {
    "collapsed": true
   },
   "outputs": [
    {
     "name": "stdout",
     "output_type": "stream",
     "text": [
      "+------+------+--------+-------+\n",
      "|PU_DOW|PUHour|count(1)|DayTime|\n",
      "+------+------+--------+-------+\n",
      "|     1|     0|   11165|   null|\n",
      "|     1|     1|    7388|   null|\n",
      "|     1|     2|    4678|   null|\n",
      "|     1|     3|    3565|   null|\n",
      "|     1|     4|    3879|   null|\n",
      "|     1|     5|    5758|   null|\n",
      "|     1|     6|   12149|   null|\n",
      "|     1|     7|   19942|   null|\n",
      "|     1|     8|   24281|   null|\n",
      "|     1|     9|   24881|   null|\n",
      "|     1|    10|   23999|   null|\n",
      "|     1|    11|   25224|   null|\n",
      "|     1|    12|   28497|   null|\n",
      "|     1|    13|   29117|   null|\n",
      "|     1|    14|  162280|   null|\n",
      "|     1|    15|  164357|   null|\n",
      "|     1|    16|   45268|   null|\n",
      "|     1|    17|   49382|   null|\n",
      "|     1|    18|  179867|   null|\n",
      "|     1|    19|   47252|   null|\n",
      "|     1|    20|   40724|   null|\n",
      "|     1|    21|   38088|   null|\n",
      "|     1|    22|   33057|   null|\n",
      "|     1|    23|   23264|   null|\n",
      "|     2|     0|   32255|   null|\n",
      "|     2|     1|   17919|   null|\n",
      "|     2|     2|   11245|   null|\n",
      "|     2|     3|    3954|   null|\n",
      "|     2|     4|    4608|   null|\n",
      "|     2|     5|    9494|   null|\n",
      "|     2|     6|   26359|   null|\n",
      "|     2|     7|   94794|   null|\n",
      "|     2|     8|  161950|   null|\n",
      "|     2|     9|  105420|   null|\n",
      "|     2|    10|  128304|   null|\n",
      "|     2|    11|  272556|   null|\n",
      "|     2|    12|  138418|   null|\n",
      "|     2|    13|  284013|   null|\n",
      "|     2|    14|  292779|   null|\n",
      "|     2|    15|  684553|   null|\n",
      "|     2|    16|  145582|   null|\n",
      "|     2|    17|   90200|   null|\n",
      "|     2|    18|  617034|   null|\n",
      "|     2|    19|  394568|   null|\n",
      "|     2|    20|  229574|   null|\n",
      "|     2|    21|  190612|   null|\n",
      "|     2|    22|  185307|   null|\n",
      "|     2|    23|  123467|   null|\n",
      "|     3|     0|   77721|   null|\n",
      "|     3|     1|   42866|   null|\n",
      "|     3|     2|   29476|   null|\n",
      "|     3|     3|   21100|   null|\n",
      "|     3|     4|   12988|   null|\n",
      "|     3|     5|    6209|   null|\n",
      "|     3|     6|   16912|   null|\n",
      "|     3|     7|   30342|   null|\n",
      "|     3|     8|  279217|   null|\n",
      "|     3|     9|  151949|   null|\n",
      "|     3|    10|   66678|   null|\n",
      "|     3|    11|   68163|   null|\n",
      "|     3|    12|   69807|   null|\n",
      "|     3|    13|   76528|   null|\n",
      "|     3|    14|  164347|   null|\n",
      "|     3|    15|   31459|   null|\n",
      "|     3|    16|   29139|   null|\n",
      "|     3|    17|   85297|   null|\n",
      "|     3|    18|   40020|   null|\n",
      "|     3|    19|  206133|   null|\n",
      "|     3|    20|  191331|   null|\n",
      "|     3|    21|   35767|   null|\n",
      "|     3|    22|   32062|   null|\n",
      "|     3|    23|   56589|   null|\n",
      "|     4|     0|   14099|   null|\n",
      "|     4|     1|    8257|   null|\n",
      "|     4|     2|    5609|   null|\n",
      "|     4|     3|    3844|   null|\n",
      "|     4|     4|    3570|   null|\n",
      "|     4|     5|    6414|   null|\n",
      "|     4|     6|   17125|   null|\n",
      "|     4|     7|   31067|   null|\n",
      "|     4|     8|   91541|   null|\n",
      "|     4|     9|   82245|   null|\n",
      "|     4|    10|   28638|   null|\n",
      "|     4|    11|   28531|   null|\n",
      "|     4|    12|   30790|   null|\n",
      "|     4|    13|  276082|   null|\n",
      "|     4|    14|   33683|   null|\n",
      "|     4|    15|   33332|   null|\n",
      "|     4|    16|   29517|   null|\n",
      "|     4|    17|   86809|   null|\n",
      "|     4|    18|   41181|   null|\n",
      "|     4|    19|   40726|   null|\n",
      "|     4|    20|   39182|   null|\n",
      "|     4|    21|   41486|   null|\n",
      "|     4|    22|   95885|   null|\n",
      "|     4|    23|   28754|   null|\n",
      "|     5|     0|   89450|   null|\n",
      "|     5|     1|   95728|   null|\n",
      "|     5|     2|   37702|   null|\n",
      "|     5|     3|   23596|   null|\n",
      "|     5|     4|    4589|   null|\n",
      "|     5|     5|    6755|   null|\n",
      "|     5|     6|   16913|   null|\n",
      "|     5|     7|  256831|   null|\n",
      "|     5|     8|   35275|   null|\n",
      "|     5|     9|   31837|   null|\n",
      "|     5|    10|   28100|   null|\n",
      "|     5|    11|   28227|   null|\n",
      "|     5|    12|   29911|   null|\n",
      "|     5|    13|   77259|   null|\n",
      "|     5|    14|   33747|   null|\n",
      "|     5|    15|  312762|   null|\n",
      "|     5|    16|   82260|   null|\n",
      "|     5|    17|   93234|   null|\n",
      "|     5|    18|  107971|   null|\n",
      "|     5|    19|   43335|   null|\n",
      "|     5|    20|   90756|   null|\n",
      "|     5|    21|   89420|   null|\n",
      "|     5|    22|  185002|   null|\n",
      "|     5|    23|   90517|   null|\n",
      "|     6|     0|   80549|   null|\n",
      "|     6|     1|   27821|   null|\n",
      "|     6|     2|   56383|   null|\n",
      "|     6|     3|   16715|   null|\n",
      "|     6|     4|   11367|   null|\n",
      "|     6|     5|    5662|   null|\n",
      "|     6|     6|    6946|   null|\n",
      "|     6|     7|   52667|   null|\n",
      "|     6|     8|   80328|   null|\n",
      "|     6|     9|  214466|   null|\n",
      "|     6|    10|   75569|   null|\n",
      "|     6|    11|   31936|   null|\n",
      "|     6|    12|  170433|   null|\n",
      "|     6|    13|  212075|   null|\n",
      "|     6|    14|   30277|   null|\n",
      "|     6|    15|   78033|   null|\n",
      "|     6|    16|  173560|   null|\n",
      "|     6|    17|  400818|   null|\n",
      "|     6|    18|  234768|   null|\n",
      "|     6|    19|  298736|   null|\n",
      "|     6|    20|  371725|   null|\n",
      "|     6|    21|  523849|   null|\n",
      "|     6|    22|  477850|   null|\n",
      "|     6|    23|  207205|   null|\n",
      "|     7|     0|  174295|   null|\n",
      "|     7|     1|  320146|   null|\n",
      "|     7|     2|  101278|   null|\n",
      "|     7|     3|   77344|   null|\n",
      "|     7|     4|   49600|   null|\n",
      "|     7|     5|   13769|   null|\n",
      "|     7|     6|   57078|   null|\n",
      "|     7|     7|   16930|   null|\n",
      "|     7|     8|   42147|   null|\n",
      "|     7|     9|   60829|   null|\n",
      "|     7|    10|   84132|   null|\n",
      "|     7|    11|   41916|   null|\n",
      "|     7|    12|   45136|   null|\n",
      "|     7|    13|   45936|   null|\n",
      "|     7|    14|   45150|   null|\n",
      "|     7|    15|   47230|   null|\n",
      "|     7|    16|   47383|   null|\n",
      "|     7|    17|   46106|   null|\n",
      "|     7|    18|   45603|   null|\n",
      "|     7|    19|   41053|   null|\n",
      "|     7|    20|   38960|   null|\n",
      "|     7|    21|   36024|   null|\n",
      "|     7|    22|   32432|   null|\n",
      "|     7|    23|   28278|   null|\n",
      "+------+------+--------+-------+\n",
      "\n"
     ]
    }
   ],
   "source": [
    "hours_per_week.show(168)\n"
   ]
  },
  {
   "cell_type": "code",
   "execution_count": 1045,
   "metadata": {
    "collapsed": true
   },
   "outputs": [
    {
     "data": {
      "image/png": "[encoded data removed]",
      "text/plain": [
       "<matplotlib.figure.Figure at 0x7f2d785a2358>"
      ]
     },
     "metadata": {},
     "output_type": "display_data"
    }
   ],
   "source": [
    "import matplotlib.pyplot as plt\n",
    "import numpy as np\n",
    "# create some random data\n",
    "y = np.array(hours_per_week.select('count(1)').collect())\n",
    "x = np.arange(len(y))\n",
    "\n",
    "\n",
    "\n",
    "# plot it\n",
    "fig, ax = plt.subplots(1,1,figsize=(10,3))\n",
    "plt.plot(y, color='k')\n",
    "plt.xticks(np.arange(min(x), max(x)+1, 12.0))\n",
    "\n",
    "\n",
    "#show it\n",
    "plt.show()"
   ]
  },
  {
   "cell_type": "code",
   "execution_count": 1044,
   "metadata": {
    "collapsed": true
   },
   "outputs": [
    {
     "data": {
      "text/plain": [
       "[<matplotlib.lines.Line2D at 0x7f2d785a2ac8>]"
      ]
     },
     "execution_count": 1044,
     "metadata": {},
     "output_type": "execute_result"
    },
    {
     "data": {
      "image/png": "[encoded data removed]",
      "text/plain": [
       "<matplotlib.figure.Figure at 0x7f2d7862fac8>"
      ]
     },
     "metadata": {},
     "output_type": "display_data"
    }
   ],
   "source": [
    "plt.plot(x, y, linewidth=2.0)\n"
   ]
  },
  {
   "cell_type": "code",
   "execution_count": 1046,
   "metadata": {},
   "outputs": [],
   "source": [
    "from sklearn.preprocessing import OneHotEncoder"
   ]
  },
  {
   "cell_type": "code",
   "execution_count": null,
   "metadata": {},
   "outputs": [],
   "source": [
    "x = jan_2017[('')]"
   ]
  }
 ],
 "metadata": {
  "kernelspec": {
   "display_name": "Python 3",
   "language": "python",
   "name": "python3"
  },
  "language_info": {
   "codemirror_mode": {
    "name": "ipython",
    "version": 3
   },
   "file_extension": ".py",
   "mimetype": "text/x-python",
   "name": "python",
   "nbconvert_exporter": "python",
   "pygments_lexer": "ipython3",
   "version": "3.6.4"
  }
 },
 "nbformat": 4,
 "nbformat_minor": 2
}
