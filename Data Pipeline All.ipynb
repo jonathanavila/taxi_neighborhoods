{
 "cells": [
  {
   "cell_type": "code",
   "execution_count": 3,
   "metadata": {},
   "outputs": [
    {
     "name": "stdout",
     "output_type": "stream",
     "text": [
      "Collecting scikit-learn\n",
      "  Downloading https://files.pythonhosted.org/packages/3d/2d/9fbc7baa5f44bc9e88ffb7ed32721b879bfa416573e85031e16f52569bc9/scikit_learn-0.19.1-cp36-cp36m-manylinux1_x86_64.whl (12.4MB)\n",
      "\u001b[K    100% |████████████████████████████████| 12.4MB 44kB/s  eta 0:00:01 1% |▍                               | 143kB 2.1MB/s eta 0:00:06    23% |███████▍                        | 2.9MB 3.4MB/s eta 0:00:03    61% |███████████████████▉            | 7.7MB 9.0MB/s eta 0:00:01    93% |█████████████████████████████▉  | 11.6MB 9.0MB/s eta 0:00:01\n",
      "\u001b[?25hInstalling collected packages: scikit-learn\n",
      "  Found existing installation: scikit-learn 0.18.2\n",
      "    Uninstalling scikit-learn-0.18.2:\n",
      "      Successfully uninstalled scikit-learn-0.18.2\n",
      "Successfully installed scikit-learn-0.19.1\n",
      "\u001b[33mYou are using pip version 9.0.1, however version 10.0.1 is available.\n",
      "You should consider upgrading via the 'pip install --upgrade pip' command.\u001b[0m\n"
     ]
    }
   ],
   "source": [
    "! pip install -U scikit-learn"
   ]
  },
  {
   "cell_type": "code",
   "execution_count": 4,
   "metadata": {},
   "outputs": [
    {
     "name": "stdout",
     "output_type": "stream",
     "text": [
      "Collecting lightning-python\n",
      "  Downloading https://files.pythonhosted.org/packages/9c/ae/36f6dc88f0f8fcd59de9e2ebe517923229de05f7b437b6efd11b58c50f42/lightning-python-1.2.1.tar.gz (522kB)\n",
      "\u001b[K    100% |████████████████████████████████| 522kB 529kB/s ta 0:00:01\n",
      "\u001b[?25hRequirement already satisfied: setuptools in /opt/conda/lib/python3.6/site-packages (from lightning-python)\n",
      "Requirement already satisfied: requests in /opt/conda/lib/python3.6/site-packages (from lightning-python)\n",
      "Requirement already satisfied: numpy in /opt/conda/lib/python3.6/site-packages (from lightning-python)\n",
      "Collecting pytest (from lightning-python)\n",
      "  Downloading https://files.pythonhosted.org/packages/76/52/fc48d02492d9e6070cb672d9133382e83084f567f88eff1c27bd2c6c27a8/pytest-3.5.1-py2.py3-none-any.whl (192kB)\n",
      "\u001b[K    100% |████████████████████████████████| 194kB 983kB/s ta 0:00:01\n",
      "\u001b[?25hRequirement already satisfied: matplotlib in /opt/conda/lib/python3.6/site-packages (from lightning-python)\n",
      "Requirement already satisfied: six in /opt/conda/lib/python3.6/site-packages (from lightning-python)\n",
      "Requirement already satisfied: jinja2 in /opt/conda/lib/python3.6/site-packages (from lightning-python)\n",
      "Requirement already satisfied: chardet<3.1.0,>=3.0.2 in /opt/conda/lib/python3.6/site-packages (from requests->lightning-python)\n",
      "Requirement already satisfied: idna<2.7,>=2.5 in /opt/conda/lib/python3.6/site-packages (from requests->lightning-python)\n",
      "Requirement already satisfied: urllib3<1.23,>=1.21.1 in /opt/conda/lib/python3.6/site-packages (from requests->lightning-python)\n",
      "Requirement already satisfied: certifi>=2017.4.17 in /opt/conda/lib/python3.6/site-packages (from requests->lightning-python)\n",
      "Collecting attrs>=17.4.0 (from pytest->lightning-python)\n",
      "  Downloading https://files.pythonhosted.org/packages/b5/60/4e178c1e790fd60f1229a9b3cb2f8bc2f4cc6ff2c8838054c142c70b5adc/attrs-17.4.0-py2.py3-none-any.whl\n",
      "Collecting more-itertools>=4.0.0 (from pytest->lightning-python)\n",
      "  Downloading https://files.pythonhosted.org/packages/7a/46/886917c6a4ce49dd3fff250c01c5abac5390d57992751384fe61befc4877/more_itertools-4.1.0-py3-none-any.whl (47kB)\n",
      "\u001b[K    100% |████████████████████████████████| 51kB 4.2MB/s eta 0:00:01\n",
      "\u001b[?25hCollecting pluggy<0.7,>=0.5 (from pytest->lightning-python)\n",
      "  Downloading https://files.pythonhosted.org/packages/ba/65/ded3bc40bbf8d887f262f150fbe1ae6637765b5c9534bd55690ed2c0b0f7/pluggy-0.6.0-py3-none-any.whl\n",
      "Collecting py>=1.5.0 (from pytest->lightning-python)\n",
      "  Downloading https://files.pythonhosted.org/packages/67/a5/f77982214dd4c8fd104b066f249adea2c49e25e8703d284382eb5e9ab35a/py-1.5.3-py2.py3-none-any.whl (84kB)\n",
      "\u001b[K    100% |████████████████████████████████| 92kB 4.0MB/s eta 0:00:01\n",
      "\u001b[?25hRequirement already satisfied: cycler>=0.10 in /opt/conda/lib/python3.6/site-packages/cycler-0.10.0-py3.6.egg (from matplotlib->lightning-python)\n",
      "Requirement already satisfied: pyparsing!=2.0.4,!=2.1.2,!=2.1.6,>=2.0.1 in /opt/conda/lib/python3.6/site-packages (from matplotlib->lightning-python)\n",
      "Requirement already satisfied: python-dateutil>=2.1 in /opt/conda/lib/python3.6/site-packages (from matplotlib->lightning-python)\n",
      "Requirement already satisfied: pytz in /opt/conda/lib/python3.6/site-packages (from matplotlib->lightning-python)\n",
      "Requirement already satisfied: kiwisolver>=1.0.1 in /opt/conda/lib/python3.6/site-packages (from matplotlib->lightning-python)\n",
      "Requirement already satisfied: MarkupSafe>=0.23 in /opt/conda/lib/python3.6/site-packages (from jinja2->lightning-python)\n",
      "Building wheels for collected packages: lightning-python\n",
      "  Running setup.py bdist_wheel for lightning-python ... \u001b[?25ldone\n",
      "\u001b[?25h  Stored in directory: /home/jovyan/.cache/pip/wheels/49/74/72/341c3f2a6093a7c3aaa700368e1d031665e2b4e4ba17091fc1\n",
      "Successfully built lightning-python\n",
      "Installing collected packages: attrs, more-itertools, pluggy, py, pytest, lightning-python\n",
      "Successfully installed attrs-17.4.0 lightning-python-1.2.1 more-itertools-4.1.0 pluggy-0.6.0 py-1.5.3 pytest-3.5.1\n",
      "\u001b[33mYou are using pip version 9.0.1, however version 10.0.1 is available.\n",
      "You should consider upgrading via the 'pip install --upgrade pip' command.\u001b[0m\n"
     ]
    }
   ],
   "source": [
    "! pip install lightning-python"
   ]
  },
  {
   "cell_type": "code",
   "execution_count": 5,
   "metadata": {},
   "outputs": [
    {
     "name": "stdout",
     "output_type": "stream",
     "text": [
      "Collecting py4j\n",
      "  Downloading https://files.pythonhosted.org/packages/e3/53/c737818eb9a7dc32a7cd4f1396e787bd94200c3997c72c1dbe028587bd76/py4j-0.10.7-py2.py3-none-any.whl (197kB)\n",
      "\u001b[K    100% |████████████████████████████████| 204kB 1.7MB/s ta 0:00:01\n",
      "\u001b[?25hInstalling collected packages: py4j\n",
      "Successfully installed py4j-0.10.7\n",
      "\u001b[33mYou are using pip version 9.0.1, however version 10.0.1 is available.\n",
      "You should consider upgrading via the 'pip install --upgrade pip' command.\u001b[0m\n"
     ]
    }
   ],
   "source": [
    "! pip install py4j"
   ]
  },
  {
   "cell_type": "code",
   "execution_count": 6,
   "metadata": {},
   "outputs": [],
   "source": [
    "import matplotlib.pyplot as plt \n",
    "from pyspark.sql import SparkSession\n",
    "from pyspark import SparkContext, SparkConf\n",
    "from pyspark.sql.types import *\n",
    "import pyspark.sql.functions as F\n",
    "from pyspark.sql.functions import udf\n",
    "from pyspark.sql.functions import when\n",
    "from pyspark import SparkContext as sc\n",
    "from pyspark.sql.functions import col, split, ltrim, substring\n",
    "import pyspark.sql as SQL\n",
    "from pyspark.sql.functions import *\n",
    "import datetime\n",
    "import calendar\n",
    "import pandas as pd\n",
    "from pyspark.ml.linalg import Vectors\n",
    "from pyspark.ml.regression import LinearRegression\n",
    "from pyspark.sql.types import *\n",
    "import matplotlib.pyplot as plt\n",
    "import numpy as np\n",
    "from pyspark.mllib.linalg import Vectors\n",
    "from pyspark.mllib.linalg.distributed import RowMatrix\n",
    "from pyspark.ml.feature import *\n",
    "from pyspark.ml.linalg import Vectors\n",
    "from pyspark.ml.classification import MultilayerPerceptronClassifier\n",
    "from pyspark.ml.evaluation import MulticlassClassificationEvaluator\n"
   ]
  },
  {
   "cell_type": "code",
   "execution_count": 7,
   "metadata": {},
   "outputs": [],
   "source": [
    "conf = SparkConf().setAppName(\"Jan-01\").setMaster(\"local[*]\")\n",
    "sc = SparkContext(conf=conf)"
   ]
  },
  {
   "cell_type": "code",
   "execution_count": 8,
   "metadata": {},
   "outputs": [],
   "source": [
    "spark = SparkSession.builder.appName('Jan-01').getOrCreate()"
   ]
  },
  {
   "cell_type": "code",
   "execution_count": 12,
   "metadata": {},
   "outputs": [],
   "source": [
    "# Download and decompress data into your Jupyter environment; abreviated jan 2017 data\n",
    "jan_2017 = spark.read.format(\"csv\").load('yellow_tripdata_2017-01.csv', header = True)\n",
    "#jan_2017.count()"
   ]
  },
  {
   "cell_type": "code",
   "execution_count": 13,
   "metadata": {},
   "outputs": [],
   "source": [
    "prefix = 'yellow_tripdata_2017-'\n",
    "numbers = ['02', '03', '04', '05', '06', '07', '08', '09', '10', '11', '12']\n",
    "for i in numbers:\n",
    "    filepath = prefix + i + '.csv'\n",
    "    temp = spark.read.format(\"csv\").load(filepath, header = True)\n",
    "    jan_2017 = jan_2017.union(temp)\n",
    "    "
   ]
  },
  {
   "cell_type": "code",
   "execution_count": null,
   "metadata": {},
   "outputs": [],
   "source": []
  },
  {
   "cell_type": "code",
   "execution_count": 14,
   "metadata": {},
   "outputs": [],
   "source": [
    "#need to get two dataframes to merge on, or else get cartesian product error\n",
    "taxi_zone = spark.read.format(\"csv\").load('taxi+_zone_lookup.csv', header = True)"
   ]
  },
  {
   "cell_type": "code",
   "execution_count": 15,
   "metadata": {},
   "outputs": [],
   "source": [
    "#merging to get destination information\n",
    "jan_2017 = jan_2017.join(taxi_zone, jan_2017.PULocationID == taxi_zone.LocationID, \"left_outer\"). \\\n",
    "                withColumnRenamed(\"Borough\", \"PUBorough\").withColumnRenamed(\"Zone\", \"PUZone\").withColumnRenamed(\"service_zone\", \"PUServiceZone\").\\\n",
    "                withColumnRenamed(\"neighborhood\", \"PUneighbor\").cache()"
   ]
  },
  {
   "cell_type": "code",
   "execution_count": 16,
   "metadata": {},
   "outputs": [],
   "source": [
    "manhattan = [263,262,261,249,246,244,243,239,\\\n",
    "238,237,236,234,\\\n",
    "233,232,231,230,\\\n",
    "229,224,211,209,\\\n",
    "202,194,186,170,\\\n",
    "166,164,163,162,\\\n",
    "161,158,153,152,\\\n",
    "151,148,144,143,\\\n",
    "142,141,140,137,128,\\\n",
    "127,125,120,116,\\\n",
    "114,113,107,105,\\\n",
    "104,103,100,90,\\\n",
    "88,87,79,75,\\\n",
    "74,68,50,48,45,43,42,41,24,13,12,4]"
   ]
  },
  {
   "cell_type": "code",
   "execution_count": null,
   "metadata": {},
   "outputs": [],
   "source": []
  },
  {
   "cell_type": "code",
   "execution_count": 17,
   "metadata": {},
   "outputs": [],
   "source": [
    "#make unique ID\n",
    "jan_2017 = jan_2017.withColumn(\"uniqueIdColumn\", monotonically_increasing_id())"
   ]
  },
  {
   "cell_type": "code",
   "execution_count": 18,
   "metadata": {},
   "outputs": [],
   "source": [
    "jan_2017 = jan_2017.drop(\"LocationID\")"
   ]
  },
  {
   "cell_type": "code",
   "execution_count": 19,
   "metadata": {},
   "outputs": [],
   "source": [
    "#encoding if pickup is an aiport\n",
    "jan_2017 = jan_2017.withColumn(\"AirportPU\", \\\n",
    "                               F.when((jan_2017[\"PULocationID\"] == '138' ) | \\\n",
    "                                      (jan_2017[\"PULocationID\"] == '132') |\\\n",
    "                                      (jan_2017[\"PULocationID\"] == '1'),1).otherwise(0))"
   ]
  },
  {
   "cell_type": "code",
   "execution_count": 20,
   "metadata": {},
   "outputs": [],
   "source": [
    "#cleaning data\n",
    "jan_2017 = jan_2017.where((jan_2017['PUBorough'] != 'Unknown'))"
   ]
  },
  {
   "cell_type": "code",
   "execution_count": 21,
   "metadata": {},
   "outputs": [],
   "source": [
    "#splitting up time and date\n",
    "split_pickup_col = split(jan_2017['tpep_pickup_datetime'], ' ')\n",
    "jan_2017 = jan_2017.withColumn(\"PUDate\", split_pickup_col.getItem(0).cast(DateType()))\n",
    "jan_2017 = jan_2017.withColumn(\"PUTime\", split_pickup_col.getItem(1))"
   ]
  },
  {
   "cell_type": "code",
   "execution_count": 22,
   "metadata": {},
   "outputs": [],
   "source": [
    "#splitting time into hour and minute; will round minute to nearest 5 minutes\n",
    "split_PUTime = split(jan_2017['PUTime'], ':')\n",
    "jan_2017 = jan_2017.withColumn(\"PUHour\", split_PUTime.getItem(0).cast(IntegerType()))\n",
    "jan_2017 = jan_2017.withColumn(\"PUMinute\", split_PUTime.getItem(1).cast(IntegerType()))"
   ]
  },
  {
   "cell_type": "code",
   "execution_count": 23,
   "metadata": {},
   "outputs": [],
   "source": [
    "#rush hour\n",
    "jan_2017 = jan_2017.withColumn(\"MorningRushHour\", \\\n",
    "                               F.when((jan_2017[\"PUHour\"] >= 6 ) & \\\n",
    "                                      (jan_2017[\"PUHour\"] < 9),1).otherwise(0))"
   ]
  },
  {
   "cell_type": "code",
   "execution_count": 24,
   "metadata": {},
   "outputs": [],
   "source": [
    "jan_2017 = jan_2017.withColumn(\"EveningRushHour\", \\\n",
    "                               F.when((jan_2017[\"PUHour\"] >= 17 ) & \\\n",
    "                                      (jan_2017[\"PUHour\"] < 21),1).otherwise(0))"
   ]
  },
  {
   "cell_type": "code",
   "execution_count": 25,
   "metadata": {},
   "outputs": [],
   "source": [
    "jan_2017 = jan_2017.withColumn(\"PUDay\", dayofyear(jan_2017.PUDate))"
   ]
  },
  {
   "cell_type": "code",
   "execution_count": 26,
   "metadata": {},
   "outputs": [],
   "source": [
    "#rounding down mintue to closest 5 minute mark (computationally easier)\n",
    "#jan_2017 = jan_2017.withColumn(\"DOMinute\", (jan_2017.DOMinute - jan_2017.DOMinute%5))\n",
    "jan_2017 = jan_2017.withColumn(\"PUMinute\", (jan_2017.PUMinute - jan_2017.PUMinute%5))"
   ]
  },
  {
   "cell_type": "code",
   "execution_count": 27,
   "metadata": {},
   "outputs": [],
   "source": [
    "#DOW gives you 1 (Monday) - 7 (Sunday)\n",
    "jan_2017 = jan_2017.withColumn(\"PU_DOW\",  date_format(jan_2017.PUDate, 'u').cast(ShortType()))\n",
    "#jan_2017 = jan_2017.withColumn(\"DO_DOW\",  date_format(jan_2017.DODate, 'u').cast(ShortType()))"
   ]
  },
  {
   "cell_type": "code",
   "execution_count": 28,
   "metadata": {},
   "outputs": [],
   "source": [
    "#encoding if destination is a weekend\n",
    "jan_2017 = jan_2017.withColumn(\"Weekend\", \\\n",
    "                               F.when((jan_2017[\"PU_DOW\"] == 7) | \\\n",
    "                                      (jan_2017[\"PU_DOW\"] == 6),1).otherwise(0))"
   ]
  },
  {
   "cell_type": "code",
   "execution_count": 29,
   "metadata": {},
   "outputs": [],
   "source": [
    "jan_2017 = jan_2017.withColumn(\"WorkingHour\", \\\n",
    "                               F.when((((jan_2017[\"PUHour\"] >= 9 ) & (jan_2017[\"PUHour\"] < 17))\\\n",
    "                                       & (jan_2017[\"Weekend\"] == 0)) ,1).otherwise(0))"
   ]
  },
  {
   "cell_type": "code",
   "execution_count": 30,
   "metadata": {},
   "outputs": [],
   "source": [
    "# jan_2017.show()"
   ]
  },
  {
   "cell_type": "code",
   "execution_count": 31,
   "metadata": {},
   "outputs": [],
   "source": [
    "#casting data types to primitives\n",
    "\n",
    "#1= Creative Mobile Technologies, LLC; 2= VeriFone Inc.\n",
    "jan_2017 = jan_2017.withColumn(\"VendorID\", jan_2017[\"VendorID\"].cast(ShortType()))\n",
    "\n",
    "jan_2017 = jan_2017.withColumn(\"passenger_count\", jan_2017[\"passenger_count\"].cast(ShortType()))\n",
    "\n",
    "#in miles\n",
    "jan_2017 = jan_2017.withColumn(\"trip_distance\", jan_2017[\"trip_distance\"].cast(FloatType()))\n",
    "\n",
    "#1= Credit card\n",
    "#2= Cash\n",
    "#3= No charge\n",
    "#4= Dispute\n",
    "#5= Unknown\n",
    "#6= Voided trip\n",
    "jan_2017 = jan_2017.withColumn(\"payment_type\", jan_2017[\"payment_type\"].cast(ShortType()))\n",
    "jan_2017 = jan_2017.withColumn(\"fare_amount\", jan_2017[\"fare_amount\"].cast(FloatType()))\n",
    "\n",
    "#0.50 and $1 rush hour and overnight charges.\n",
    "jan_2017 = jan_2017.withColumn(\"extra\", jan_2017[\"extra\"].cast(FloatType()))\n",
    "#.50, automatic MTA charge\n",
    "jan_2017 = jan_2017.withColumn(\"mta_tax\", jan_2017[\"mta_tax\"].cast(FloatType()))\n",
    "\n",
    "\n",
    "jan_2017 = jan_2017.withColumn(\"tip_amount\", jan_2017[\"tip_amount\"].cast(FloatType()))\n",
    "jan_2017 = jan_2017.withColumn(\"tolls_amount\", jan_2017[\"tolls_amount\"].cast(FloatType()))\n",
    "jan_2017 = jan_2017.withColumn(\"improvement_surcharge\", jan_2017[\"improvement_surcharge\"].cast(FloatType()))\n",
    "jan_2017 = jan_2017.withColumn(\"total_amount\", jan_2017[\"total_amount\"].cast(FloatType()))\n",
    "\n",
    "\n",
    "jan_2017 = jan_2017.withColumn(\"RateCodeID\", jan_2017[\"RateCodeID\"].cast(ShortType()))\n",
    "#1= Standard rate\n",
    "#2=JFK -> $52 flat fare\n",
    "#3=Newark\n",
    "#4=Nassau or Westchester\n",
    "#5=Negotiated fare\n",
    "#6=Group ride"
   ]
  },
  {
   "cell_type": "code",
   "execution_count": 32,
   "metadata": {},
   "outputs": [],
   "source": [
    "#basic fare cleaning, ensure that all values are above zero\n",
    "jan_2017 = jan_2017.filter(jan_2017.tip_amount >= 0)"
   ]
  },
  {
   "cell_type": "code",
   "execution_count": 33,
   "metadata": {},
   "outputs": [],
   "source": [
    "#basic fare cleaning, ensure that all values are above zero\n",
    "jan_2017 = jan_2017.filter(jan_2017.tolls_amount >= 0.0) "
   ]
  },
  {
   "cell_type": "code",
   "execution_count": 34,
   "metadata": {},
   "outputs": [],
   "source": [
    "#basic fare cleaning, ensure that all values are above zero\n",
    "jan_2017 = jan_2017.filter(jan_2017.total_amount >= 3.30)"
   ]
  },
  {
   "cell_type": "code",
   "execution_count": 35,
   "metadata": {},
   "outputs": [],
   "source": [
    "#basic fare cleaning, ensure that all values are above zero\n",
    "jan_2017 = jan_2017.filter(jan_2017.extra >= 0.00)"
   ]
  },
  {
   "cell_type": "code",
   "execution_count": 36,
   "metadata": {},
   "outputs": [],
   "source": [
    "#minimum fare amounts according to NYC Taxi data standards\n",
    "jan_2017 = jan_2017.filter((jan_2017.fare_amount >= 2.50))"
   ]
  },
  {
   "cell_type": "code",
   "execution_count": 37,
   "metadata": {},
   "outputs": [],
   "source": [
    "#minimum fare amounts according to NYC Taxi data standards\n",
    "jan_2017 = jan_2017.filter(jan_2017.improvement_surcharge >= 0.3)"
   ]
  },
  {
   "cell_type": "code",
   "execution_count": 38,
   "metadata": {},
   "outputs": [],
   "source": [
    "#minimum fare amounts according to NYC Taxi data standards\n",
    "jan_2017 = jan_2017.filter(jan_2017.mta_tax >= 0.5)"
   ]
  },
  {
   "cell_type": "code",
   "execution_count": 39,
   "metadata": {},
   "outputs": [],
   "source": [
    "jan_2017 = jan_2017.withColumn(\"PLocationID\", jan_2017.PULocationID.cast(IntegerType())).drop(\"PULocationID\")\n",
    "jan_2017 = jan_2017.withColumn(\"DLocationID\", jan_2017.DOLocationID.cast(IntegerType())).drop(\"DOLocationID\")\n",
    "#sampe.printSchema()\n",
    "\n",
    "jan_2017 = jan_2017.filter(jan_2017.PLocationID.isin(manhattan) & jan_2017.DLocationID.isin(manhattan))\n"
   ]
  },
  {
   "cell_type": "code",
   "execution_count": 40,
   "metadata": {},
   "outputs": [],
   "source": [
    "# jan_2017.printSchema()\n",
    "jan_2017 = jan_2017.drop('tpep_pickup_datetime')\n",
    "jan_2017 = jan_2017.drop('tpep_dropoff_datetime')"
   ]
  },
  {
   "cell_type": "code",
   "execution_count": 41,
   "metadata": {},
   "outputs": [],
   "source": [
    "jan_2017 = jan_2017.drop('payment_type')\n",
    "jan_2017 = jan_2017.drop('fare_amount')\n",
    "jan_2017 = jan_2017.drop('extra')\n",
    "jan_2017 = jan_2017.drop('mta_tax')\n",
    "jan_2017 = jan_2017.drop('tip_amount')\n",
    "jan_2017 = jan_2017.drop('tolls_amount')\n",
    "jan_2017 = jan_2017.drop('improvement_surcharge')\n",
    "jan_2017 = jan_2017.drop('total_amount')"
   ]
  },
  {
   "cell_type": "code",
   "execution_count": 42,
   "metadata": {},
   "outputs": [],
   "source": [
    "jan_2017 = jan_2017.drop('trip_distance')\n",
    "jan_2017 = jan_2017.drop('store_and_fwd_flag')"
   ]
  },
  {
   "cell_type": "code",
   "execution_count": 43,
   "metadata": {},
   "outputs": [],
   "source": [
    "#load weather data for merging\n",
    "weather_data = spark.read.format(\"csv\").load('weather.csv', header = True)"
   ]
  },
  {
   "cell_type": "code",
   "execution_count": 44,
   "metadata": {},
   "outputs": [],
   "source": [
    "# weather_data.createOrReplaceTempView('weather_data_sdf')"
   ]
  },
  {
   "cell_type": "code",
   "execution_count": 45,
   "metadata": {},
   "outputs": [],
   "source": [
    "# weather_data = spark.sql('SELECT CAST(split(value, \",\")[0] as string) AS date, '\\\n",
    "#                         'CAST(split(value, \",\")[1] as string) as time, '\\\n",
    "#                         'CAST(split(value, \",\")[2] as float) as temp, '\\\n",
    "#                         'CAST(split(value, \",\")[3] as float) as windchill, '\\\n",
    "#                         'CAST(split(value, \",\")[4] as float) as dewpoint, '\\\n",
    "#                         'CAST(split(value, \",\")[5] as float) as humidity, '\\\n",
    "#                         'CAST(split(value, \",\")[6] as float) as pressure, '\\\n",
    "#                         'CAST(split(value, \",\")[7] as float) as visibility, '\\\n",
    "#                         'CAST(split(value, \",\")[8] as string) as windDir, '\\\n",
    "#                         'CAST(split(value, \",\")[9] as float) as windSpeed, '\\\n",
    "#                         'CAST(split(value, \",\")[10] as float) as gustSpeed, '\\\n",
    "#                         'CAST(split(value, \",\")[11] as float) as Precip, '\\\n",
    "#                         'CAST(split(value, \",\")[12] as string) as Events, '\\\n",
    "#                         'CAST(split(value, \",\")[13] as string) as Conditions '\\\n",
    "#                          'FROM weather_data_sdf')\n",
    "weather_data = weather_data.withColumn(\"temp\", weather_data[\"tempTemperature\"].cast(DoubleType())).drop('tempTemperature')\n",
    "weather_data = weather_data.withColumn(\"windChill\", weather_data[\"tempFeelsLike\"].cast(DoubleType())).drop('tempFeelsLike')\n",
    "weather_data = weather_data.withColumn(\"dewpoint\", weather_data[\"tempDewpoint\"].cast(DoubleType())).drop('tempDewpoint')\n",
    "weather_data = weather_data.withColumn(\"humidity\", weather_data[\"tempHumidity\"].cast(DoubleType())).drop('tempHumidity')\n",
    "weather_data = weather_data.withColumn(\"pressure\", weather_data[\"tempPressure\"].cast(DoubleType())).drop('tempPressure')\n",
    "weather_data = weather_data.withColumn(\"visibility\", weather_data[\"tempVisibility\"].cast(DoubleType())).drop('tempVisibility')\n",
    "\n",
    "\n",
    "weather_data = weather_data.withColumn(\"windSpeed\", weather_data[\"tempWindSpeed\"].cast(DoubleType())).drop('tempWindSpeed')\n",
    "weather_data = weather_data.withColumn(\"gustSpeed\", weather_data[\"tempGustSpeed\"].cast(DoubleType())).drop('tempGustSpeed')\n",
    "weather_data = weather_data.withColumn(\"Precip\", weather_data[\"tempPrecip\"].cast(DoubleType())).drop('tempPrecip')"
   ]
  },
  {
   "cell_type": "code",
   "execution_count": 46,
   "metadata": {},
   "outputs": [
    {
     "name": "stdout",
     "output_type": "stream",
     "text": [
      "+----------+--------+-------+------+-------------+----+---------+--------+--------+--------+----------+---------+---------+------+\n",
      "|      date|    time|windDir|Events|    Condition|temp|windChill|dewpoint|humidity|pressure|visibility|windSpeed|gustSpeed|Precip|\n",
      "+----------+--------+-------+------+-------------+----+---------+--------+--------+--------+----------+---------+---------+------+\n",
      "|2017-12-31| 9:51 PM|     NW|  None|        Clear|10.0|     -5.2|    -5.1|    51.0|   30.32|      10.0|     12.7|     21.9|   0.0|\n",
      "|2017-12-31|10:51 PM|    WNW|  None|        Clear|10.0|     -4.5|    -4.0|    53.0|   30.32|      10.0|     11.5|     18.4|   0.0|\n",
      "|2017-12-31|11:51 PM|    WNW|  None|        Clear| 9.0|     -4.2|    -4.0|    56.0|   30.31|      10.0|      9.2|     19.6|   0.0|\n",
      "|2017-12-31| 7:51 PM|    WNW|  None|        Clear|12.0|     -2.0|    -5.1|    46.0|   30.32|      10.0|     11.5|     19.6|   0.0|\n",
      "|2017-12-31| 8:51 PM|    WNW|  None|        Clear|10.9|     -1.8|    -5.1|    49.0|   30.33|      10.0|      9.2|     20.7|   0.0|\n",
      "|2017-12-31| 5:51 PM|     NW|  None|        Clear|12.9|     -0.9|    -5.1|    45.0|    30.3|      10.0|     11.5|     17.3|   0.0|\n",
      "|2017-12-29| 2:51 AM|     NW|  None|        Clear|10.9|     -0.8|    -2.9|    54.0|   30.38|      10.0|      8.1|      0.0|   0.0|\n",
      "|2017-12-31| 7:51 AM|     NW|  None|        Clear|14.0|     -0.8|    -2.9|    47.0|   30.22|      10.0|     13.8|     21.9|   0.0|\n",
      "|2017-12-28|10:51 PM|    WNW|  None|        Clear|12.0|     -0.4|    -4.0|    49.0|   30.42|      10.0|      9.2|     16.1|   0.0|\n",
      "|2017-12-31| 6:51 PM|    WNW|  None|        Clear|12.0|     -0.4|    -5.1|    46.0|   30.32|      10.0|      9.2|     18.4|   0.0|\n",
      "|2017-12-28| 5:51 AM|     NW|  None|        Clear|14.0|      0.5|    -0.9|    52.0|    30.5|      10.0|     11.5|     20.7|   0.0|\n",
      "|2017-12-28|11:51 PM|     NW|  None|        Clear|12.0|      0.5|    -4.0|    49.0|   30.42|      10.0|      8.1|      0.0|   0.0|\n",
      "|2017-12-28| 8:51 AM|    WNW|  None|        Clear|12.9|      0.7|    -5.1|    45.0|   30.56|      10.0|      9.2|     23.0|   0.0|\n",
      "|2017-12-28| 7:51 AM|     NW|  None|        Clear|12.9|      0.7|    -2.0|    51.0|   30.55|      10.0|      9.2|      0.0|   0.0|\n",
      "|2017-12-28| 8:51 PM|     NW|  None|        Clear|12.9|      0.7|    -6.0|    43.0|   30.47|      10.0|      9.2|     19.6|   0.0|\n",
      "|2017-12-31| 9:51 AM|    WNW|  None|        Clear|12.9|      0.7|    -4.0|    47.0|   30.29|      10.0|      9.2|     20.7|   0.0|\n",
      "|2017-12-28| 7:51 PM|    WNW|  None|        Clear|15.1|      1.1|    -6.0|    39.0|   30.48|      10.0|     12.7|     21.9|   0.0|\n",
      "|2017-12-28| 4:51 AM|   West|  None|        Clear|14.0|      1.2|     0.0|    54.0|    30.5|      10.0|     10.4|     17.3|   0.0|\n",
      "|2017-12-29|12:51 AM|   West|  None|        Clear|10.9|      1.4|    -2.9|    54.0|    30.4|      10.0|      5.8|      0.0|   0.0|\n",
      "|2017-12-29| 3:51 AM|    WNW|  None|Mostly Cloudy|12.0|      1.5|    -2.0|    53.0|   30.37|      10.0|      6.9|      0.0|   0.0|\n",
      "+----------+--------+-------+------+-------------+----+---------+--------+--------+--------+----------+---------+---------+------+\n",
      "only showing top 20 rows\n",
      "\n"
     ]
    }
   ],
   "source": [
    "weather_data.show()"
   ]
  },
  {
   "cell_type": "code",
   "execution_count": 47,
   "metadata": {},
   "outputs": [],
   "source": [
    "#cast date to date type\n",
    "weather_data = weather_data.withColumn(\"date\", weather_data.date.cast(DateType()))"
   ]
  },
  {
   "cell_type": "code",
   "execution_count": 48,
   "metadata": {},
   "outputs": [],
   "source": [
    "#data to change\n",
    "def period(x):\n",
    "    return split(split(x, ':')[1], \" \")[1]"
   ]
  },
  {
   "cell_type": "code",
   "execution_count": 49,
   "metadata": {},
   "outputs": [],
   "source": [
    "#data to change\n",
    "def toHour(x):\n",
    "    first_split = split(x, ':')\n",
    "    retval = first_split[0].cast(IntegerType()) % 12\n",
    "    return retval "
   ]
  },
  {
   "cell_type": "code",
   "execution_count": 50,
   "metadata": {},
   "outputs": [],
   "source": [
    "#get am or pm\n",
    "weather_data = weather_data.withColumn(\"period\", period(\"time\"))"
   ]
  },
  {
   "cell_type": "code",
   "execution_count": 51,
   "metadata": {},
   "outputs": [],
   "source": [
    "#make hour military time\n",
    "weather_data = weather_data.withColumn(\"hour\", when(weather_data.period == 'PM', toHour(\"time\") + 12).otherwise(toHour(\"time\")))"
   ]
  },
  {
   "cell_type": "code",
   "execution_count": 52,
   "metadata": {
    "scrolled": true
   },
   "outputs": [
    {
     "name": "stdout",
     "output_type": "stream",
     "text": [
      "+----------+--------+-------+------+-------------+----+---------+--------+--------+--------+----------+---------+---------+------+------+----+\n",
      "|      date|    time|windDir|Events|    Condition|temp|windChill|dewpoint|humidity|pressure|visibility|windSpeed|gustSpeed|Precip|period|hour|\n",
      "+----------+--------+-------+------+-------------+----+---------+--------+--------+--------+----------+---------+---------+------+------+----+\n",
      "|2017-12-31| 9:51 PM|     NW|  None|        Clear|10.0|     -5.2|    -5.1|    51.0|   30.32|      10.0|     12.7|     21.9|   0.0|    PM|  21|\n",
      "|2017-12-31|10:51 PM|    WNW|  None|        Clear|10.0|     -4.5|    -4.0|    53.0|   30.32|      10.0|     11.5|     18.4|   0.0|    PM|  22|\n",
      "|2017-12-31|11:51 PM|    WNW|  None|        Clear| 9.0|     -4.2|    -4.0|    56.0|   30.31|      10.0|      9.2|     19.6|   0.0|    PM|  23|\n",
      "|2017-12-31| 7:51 PM|    WNW|  None|        Clear|12.0|     -2.0|    -5.1|    46.0|   30.32|      10.0|     11.5|     19.6|   0.0|    PM|  19|\n",
      "|2017-12-31| 8:51 PM|    WNW|  None|        Clear|10.9|     -1.8|    -5.1|    49.0|   30.33|      10.0|      9.2|     20.7|   0.0|    PM|  20|\n",
      "|2017-12-31| 5:51 PM|     NW|  None|        Clear|12.9|     -0.9|    -5.1|    45.0|    30.3|      10.0|     11.5|     17.3|   0.0|    PM|  17|\n",
      "|2017-12-29| 2:51 AM|     NW|  None|        Clear|10.9|     -0.8|    -2.9|    54.0|   30.38|      10.0|      8.1|      0.0|   0.0|    AM|   2|\n",
      "|2017-12-31| 7:51 AM|     NW|  None|        Clear|14.0|     -0.8|    -2.9|    47.0|   30.22|      10.0|     13.8|     21.9|   0.0|    AM|   7|\n",
      "|2017-12-28|10:51 PM|    WNW|  None|        Clear|12.0|     -0.4|    -4.0|    49.0|   30.42|      10.0|      9.2|     16.1|   0.0|    PM|  22|\n",
      "|2017-12-31| 6:51 PM|    WNW|  None|        Clear|12.0|     -0.4|    -5.1|    46.0|   30.32|      10.0|      9.2|     18.4|   0.0|    PM|  18|\n",
      "|2017-12-28| 5:51 AM|     NW|  None|        Clear|14.0|      0.5|    -0.9|    52.0|    30.5|      10.0|     11.5|     20.7|   0.0|    AM|   5|\n",
      "|2017-12-28|11:51 PM|     NW|  None|        Clear|12.0|      0.5|    -4.0|    49.0|   30.42|      10.0|      8.1|      0.0|   0.0|    PM|  23|\n",
      "|2017-12-28| 8:51 AM|    WNW|  None|        Clear|12.9|      0.7|    -5.1|    45.0|   30.56|      10.0|      9.2|     23.0|   0.0|    AM|   8|\n",
      "|2017-12-28| 7:51 AM|     NW|  None|        Clear|12.9|      0.7|    -2.0|    51.0|   30.55|      10.0|      9.2|      0.0|   0.0|    AM|   7|\n",
      "|2017-12-28| 8:51 PM|     NW|  None|        Clear|12.9|      0.7|    -6.0|    43.0|   30.47|      10.0|      9.2|     19.6|   0.0|    PM|  20|\n",
      "|2017-12-31| 9:51 AM|    WNW|  None|        Clear|12.9|      0.7|    -4.0|    47.0|   30.29|      10.0|      9.2|     20.7|   0.0|    AM|   9|\n",
      "|2017-12-28| 7:51 PM|    WNW|  None|        Clear|15.1|      1.1|    -6.0|    39.0|   30.48|      10.0|     12.7|     21.9|   0.0|    PM|  19|\n",
      "|2017-12-28| 4:51 AM|   West|  None|        Clear|14.0|      1.2|     0.0|    54.0|    30.5|      10.0|     10.4|     17.3|   0.0|    AM|   4|\n",
      "|2017-12-29|12:51 AM|   West|  None|        Clear|10.9|      1.4|    -2.9|    54.0|    30.4|      10.0|      5.8|      0.0|   0.0|    AM|   0|\n",
      "|2017-12-29| 3:51 AM|    WNW|  None|Mostly Cloudy|12.0|      1.5|    -2.0|    53.0|   30.37|      10.0|      6.9|      0.0|   0.0|    AM|   3|\n",
      "+----------+--------+-------+------+-------------+----+---------+--------+--------+--------+----------+---------+---------+------+------+----+\n",
      "only showing top 20 rows\n",
      "\n"
     ]
    }
   ],
   "source": [
    "weather_data.show()"
   ]
  },
  {
   "cell_type": "code",
   "execution_count": 53,
   "metadata": {},
   "outputs": [],
   "source": [
    "# #fill any nulls\n",
    "weather_data = weather_data.na.fill(0)"
   ]
  },
  {
   "cell_type": "code",
   "execution_count": 54,
   "metadata": {},
   "outputs": [],
   "source": [
    "#data to join\n",
    "jan_2017 = jan_2017.join(weather_data, (jan_2017.PUDate == weather_data.date) & \\\n",
    "                         (jan_2017.PUHour == weather_data.hour), \"left_outer\")"
   ]
  },
  {
   "cell_type": "code",
   "execution_count": 55,
   "metadata": {},
   "outputs": [],
   "source": [
    "jan_2017 = jan_2017.dropDuplicates(['uniqueIdColumn'])"
   ]
  },
  {
   "cell_type": "code",
   "execution_count": 56,
   "metadata": {},
   "outputs": [],
   "source": [
    "#extra, payment type, fare amount, mta_tax, tip_amount, tollsamount, total_amount, improvement surcharge\n",
    "\n",
    "# Categorical Features\n",
    "# RateCodeID\n",
    "# store_and_fwd_flag\n",
    "# PULocationID\n",
    "# DOLocationID\n",
    "# LocationID (1 to 256)\n",
    "# PUBorough (comes from taxi+_lookup_zone)\n",
    "# PUZone (Name for Location ID)\n",
    "# PUServiceZone (Categorical)\n",
    "# PUNeighbor (Demographics Neighborhood)\n",
    "# PUDay (1-365)\n",
    "# PU_DOW (Day of week)\n",
    "# PUEvents\n",
    "# PUConditions\n",
    "# PUPeriod (AM or PM)\n",
    "\n",
    "jan_2017 = jan_2017.drop('PUDate')\n",
    "jan_2017 = jan_2017.drop('PUTime')\n",
    "jan_2017 = jan_2017.drop('date')\n",
    "jan_2017 = jan_2017.drop('time')"
   ]
  },
  {
   "cell_type": "code",
   "execution_count": 57,
   "metadata": {},
   "outputs": [],
   "source": [
    "jan_2017 = jan_2017.drop('hour')\n"
   ]
  },
  {
   "cell_type": "code",
   "execution_count": 58,
   "metadata": {},
   "outputs": [],
   "source": [
    "PUdemographics = spark.read.format(\"csv\").load('demographics.csv', header = True).cache()\n"
   ]
  },
  {
   "cell_type": "code",
   "execution_count": 59,
   "metadata": {},
   "outputs": [],
   "source": [
    "PUnames = PUdemographics.schema.names\n",
    "i = 0\n",
    "for name in PUnames:\n",
    "    if (i != 0):\n",
    "        PUdemographics = PUdemographics.withColumn(\"PU\" + name, col(name).cast(FloatType())).drop(name)\n",
    "    i += 1"
   ]
  },
  {
   "cell_type": "code",
   "execution_count": 60,
   "metadata": {},
   "outputs": [],
   "source": [
    "#PUdemographics.printSchema()"
   ]
  },
  {
   "cell_type": "code",
   "execution_count": 61,
   "metadata": {},
   "outputs": [],
   "source": [
    "# One hot encoding categorical variables\n"
   ]
  },
  {
   "cell_type": "code",
   "execution_count": 62,
   "metadata": {},
   "outputs": [],
   "source": [
    "jan_2017 = jan_2017.join(PUdemographics, jan_2017.PUneighbor == PUdemographics.neighborhood, \"left_outer\")\n",
    "jan_2017 = jan_2017.dropDuplicates(['uniqueIdColumn'])\n",
    "jan_2017 = jan_2017.drop('neighborhood')"
   ]
  },
  {
   "cell_type": "code",
   "execution_count": null,
   "metadata": {},
   "outputs": [],
   "source": []
  },
  {
   "cell_type": "code",
   "execution_count": 63,
   "metadata": {},
   "outputs": [],
   "source": [
    "# Categorical Features\n",
    "# RateCodeID\n",
    "# store_and_fwd_flag\n",
    "# PULocationID\n",
    "# DOLocationID\n",
    "# LocationID (1 to 256)\n",
    "# PUBorough (comes from taxi+_lookup_zone)\n",
    "# PUZone (Name for Location ID)\n",
    "# PUServiceZone (Categorical)\n",
    "# PUNeighbor (Demographics Neighborhood)\n",
    "# PUDay (1-365)\n",
    "# PU_DOW (Day of week)\n",
    "# PUEvents\n",
    "# PUConditions\n",
    "# PUPeriod (AM or PM)\n",
    "#jan_2017.printSchema()"
   ]
  },
  {
   "cell_type": "code",
   "execution_count": 64,
   "metadata": {},
   "outputs": [
    {
     "ename": "KeyboardInterrupt",
     "evalue": "",
     "output_type": "error",
     "traceback": [
      "\u001b[0;31m\u001b[0m",
      "\u001b[0;31mKeyboardInterrupt\u001b[0mTraceback (most recent call last)",
      "\u001b[0;32m<ipython-input-64-f20b34d2d13c>\u001b[0m in \u001b[0;36m<module>\u001b[0;34m()\u001b[0m\n\u001b[0;32m----> 1\u001b[0;31m \u001b[0mjan_2017\u001b[0m\u001b[0;34m.\u001b[0m\u001b[0mcount\u001b[0m\u001b[0;34m(\u001b[0m\u001b[0;34m)\u001b[0m\u001b[0;34m\u001b[0m\u001b[0m\n\u001b[0m",
      "\u001b[0;32m/usr/local/spark/python/pyspark/sql/dataframe.py\u001b[0m in \u001b[0;36mcount\u001b[0;34m(self)\u001b[0m\n\u001b[1;32m    453\u001b[0m         \u001b[0;36m2\u001b[0m\u001b[0;34m\u001b[0m\u001b[0m\n\u001b[1;32m    454\u001b[0m         \"\"\"\n\u001b[0;32m--> 455\u001b[0;31m         \u001b[0;32mreturn\u001b[0m \u001b[0mint\u001b[0m\u001b[0;34m(\u001b[0m\u001b[0mself\u001b[0m\u001b[0;34m.\u001b[0m\u001b[0m_jdf\u001b[0m\u001b[0;34m.\u001b[0m\u001b[0mcount\u001b[0m\u001b[0;34m(\u001b[0m\u001b[0;34m)\u001b[0m\u001b[0;34m)\u001b[0m\u001b[0;34m\u001b[0m\u001b[0m\n\u001b[0m\u001b[1;32m    456\u001b[0m \u001b[0;34m\u001b[0m\u001b[0m\n\u001b[1;32m    457\u001b[0m     \u001b[0;34m@\u001b[0m\u001b[0mignore_unicode_prefix\u001b[0m\u001b[0;34m\u001b[0m\u001b[0m\n",
      "\u001b[0;32m/opt/conda/lib/python3.6/site-packages/py4j/java_gateway.py\u001b[0m in \u001b[0;36m__call__\u001b[0;34m(self, *args)\u001b[0m\n\u001b[1;32m   1253\u001b[0m             \u001b[0mproto\u001b[0m\u001b[0;34m.\u001b[0m\u001b[0mEND_COMMAND_PART\u001b[0m\u001b[0;34m\u001b[0m\u001b[0m\n\u001b[1;32m   1254\u001b[0m \u001b[0;34m\u001b[0m\u001b[0m\n\u001b[0;32m-> 1255\u001b[0;31m         \u001b[0manswer\u001b[0m \u001b[0;34m=\u001b[0m \u001b[0mself\u001b[0m\u001b[0;34m.\u001b[0m\u001b[0mgateway_client\u001b[0m\u001b[0;34m.\u001b[0m\u001b[0msend_command\u001b[0m\u001b[0;34m(\u001b[0m\u001b[0mcommand\u001b[0m\u001b[0;34m)\u001b[0m\u001b[0;34m\u001b[0m\u001b[0m\n\u001b[0m\u001b[1;32m   1256\u001b[0m         return_value = get_return_value(\n\u001b[1;32m   1257\u001b[0m             answer, self.gateway_client, self.target_id, self.name)\n",
      "\u001b[0;32m/opt/conda/lib/python3.6/site-packages/py4j/java_gateway.py\u001b[0m in \u001b[0;36msend_command\u001b[0;34m(self, command, retry, binary)\u001b[0m\n\u001b[1;32m    983\u001b[0m         \u001b[0mconnection\u001b[0m \u001b[0;34m=\u001b[0m \u001b[0mself\u001b[0m\u001b[0;34m.\u001b[0m\u001b[0m_get_connection\u001b[0m\u001b[0;34m(\u001b[0m\u001b[0;34m)\u001b[0m\u001b[0;34m\u001b[0m\u001b[0m\n\u001b[1;32m    984\u001b[0m         \u001b[0;32mtry\u001b[0m\u001b[0;34m:\u001b[0m\u001b[0;34m\u001b[0m\u001b[0m\n\u001b[0;32m--> 985\u001b[0;31m             \u001b[0mresponse\u001b[0m \u001b[0;34m=\u001b[0m \u001b[0mconnection\u001b[0m\u001b[0;34m.\u001b[0m\u001b[0msend_command\u001b[0m\u001b[0;34m(\u001b[0m\u001b[0mcommand\u001b[0m\u001b[0;34m)\u001b[0m\u001b[0;34m\u001b[0m\u001b[0m\n\u001b[0m\u001b[1;32m    986\u001b[0m             \u001b[0;32mif\u001b[0m \u001b[0mbinary\u001b[0m\u001b[0;34m:\u001b[0m\u001b[0;34m\u001b[0m\u001b[0m\n\u001b[1;32m    987\u001b[0m                 \u001b[0;32mreturn\u001b[0m \u001b[0mresponse\u001b[0m\u001b[0;34m,\u001b[0m \u001b[0mself\u001b[0m\u001b[0;34m.\u001b[0m\u001b[0m_create_connection_guard\u001b[0m\u001b[0;34m(\u001b[0m\u001b[0mconnection\u001b[0m\u001b[0;34m)\u001b[0m\u001b[0;34m\u001b[0m\u001b[0m\n",
      "\u001b[0;32m/opt/conda/lib/python3.6/site-packages/py4j/java_gateway.py\u001b[0m in \u001b[0;36msend_command\u001b[0;34m(self, command)\u001b[0m\n\u001b[1;32m   1150\u001b[0m \u001b[0;34m\u001b[0m\u001b[0m\n\u001b[1;32m   1151\u001b[0m         \u001b[0;32mtry\u001b[0m\u001b[0;34m:\u001b[0m\u001b[0;34m\u001b[0m\u001b[0m\n\u001b[0;32m-> 1152\u001b[0;31m             \u001b[0manswer\u001b[0m \u001b[0;34m=\u001b[0m \u001b[0msmart_decode\u001b[0m\u001b[0;34m(\u001b[0m\u001b[0mself\u001b[0m\u001b[0;34m.\u001b[0m\u001b[0mstream\u001b[0m\u001b[0;34m.\u001b[0m\u001b[0mreadline\u001b[0m\u001b[0;34m(\u001b[0m\u001b[0;34m)\u001b[0m\u001b[0;34m[\u001b[0m\u001b[0;34m:\u001b[0m\u001b[0;34m-\u001b[0m\u001b[0;36m1\u001b[0m\u001b[0;34m]\u001b[0m\u001b[0;34m)\u001b[0m\u001b[0;34m\u001b[0m\u001b[0m\n\u001b[0m\u001b[1;32m   1153\u001b[0m             \u001b[0mlogger\u001b[0m\u001b[0;34m.\u001b[0m\u001b[0mdebug\u001b[0m\u001b[0;34m(\u001b[0m\u001b[0;34m\"Answer received: {0}\"\u001b[0m\u001b[0;34m.\u001b[0m\u001b[0mformat\u001b[0m\u001b[0;34m(\u001b[0m\u001b[0manswer\u001b[0m\u001b[0;34m)\u001b[0m\u001b[0;34m)\u001b[0m\u001b[0;34m\u001b[0m\u001b[0m\n\u001b[1;32m   1154\u001b[0m             \u001b[0;32mif\u001b[0m \u001b[0manswer\u001b[0m\u001b[0;34m.\u001b[0m\u001b[0mstartswith\u001b[0m\u001b[0;34m(\u001b[0m\u001b[0mproto\u001b[0m\u001b[0;34m.\u001b[0m\u001b[0mRETURN_MESSAGE\u001b[0m\u001b[0;34m)\u001b[0m\u001b[0;34m:\u001b[0m\u001b[0;34m\u001b[0m\u001b[0m\n",
      "\u001b[0;32m/opt/conda/lib/python3.6/socket.py\u001b[0m in \u001b[0;36mreadinto\u001b[0;34m(self, b)\u001b[0m\n\u001b[1;32m    584\u001b[0m         \u001b[0;32mwhile\u001b[0m \u001b[0;32mTrue\u001b[0m\u001b[0;34m:\u001b[0m\u001b[0;34m\u001b[0m\u001b[0m\n\u001b[1;32m    585\u001b[0m             \u001b[0;32mtry\u001b[0m\u001b[0;34m:\u001b[0m\u001b[0;34m\u001b[0m\u001b[0m\n\u001b[0;32m--> 586\u001b[0;31m                 \u001b[0;32mreturn\u001b[0m \u001b[0mself\u001b[0m\u001b[0;34m.\u001b[0m\u001b[0m_sock\u001b[0m\u001b[0;34m.\u001b[0m\u001b[0mrecv_into\u001b[0m\u001b[0;34m(\u001b[0m\u001b[0mb\u001b[0m\u001b[0;34m)\u001b[0m\u001b[0;34m\u001b[0m\u001b[0m\n\u001b[0m\u001b[1;32m    587\u001b[0m             \u001b[0;32mexcept\u001b[0m \u001b[0mtimeout\u001b[0m\u001b[0;34m:\u001b[0m\u001b[0;34m\u001b[0m\u001b[0m\n\u001b[1;32m    588\u001b[0m                 \u001b[0mself\u001b[0m\u001b[0;34m.\u001b[0m\u001b[0m_timeout_occurred\u001b[0m \u001b[0;34m=\u001b[0m \u001b[0;32mTrue\u001b[0m\u001b[0;34m\u001b[0m\u001b[0m\n",
      "\u001b[0;31mKeyboardInterrupt\u001b[0m: "
     ]
    }
   ],
   "source": [
    "# jan_2017.count()"
   ]
  },
  {
   "cell_type": "code",
   "execution_count": 65,
   "metadata": {},
   "outputs": [
    {
     "ename": "Py4JJavaError",
     "evalue": "An error occurred while calling o1051.cache.\n: org.apache.spark.sql.catalyst.errors.package$TreeNodeException: execute, tree:\nSortAggregate(key=[uniqueIdColumn#1256L], functions=[first(VendorID#1653, false), first(passenger_count#1687, false), first(RateCodeID#2027, false), first(PUBorough#845, false), first(PUZone#868, false), first(PUServiceZone#891, false), first(PUneighbor#914, false), first(AirportPU#1302, false), first(PUHour#1378, false), first(PUMinute#1523, false), first(MorningRushHour#1433, false), first(EveningRushHour#1462, false), first(PUDay#1492, false), first(PU_DOW#1554, false), first(Weekend#1586, false), first(WorkingHour#1619, false), first(PLocationID#2068, false), first(DLocationID#2136, false), first(windDir#2541, false), first(Events#2545, false), first(Condition#2546, false), first(temp#3017, false), first(windChill#3018, false), first(dewpoint#3019, false), ... 50 more fields], output=[VendorID#1653, passenger_count#1687, RateCodeID#2027, PUBorough#845, PUZone#868, PUServiceZone#891, PUneighbor#914, uniqueIdColumn#1256L, AirportPU#1302, PUHour#1378, PUMinute#1523, MorningRushHour#1433, EveningRushHour#1462, PUDay#1492, PU_DOW#1554, Weekend#1586, WorkingHour#1619, PLocationID#2068, DLocationID#2136, windDir#2541, Events#2545, Condition#2546, temp#3017, windChill#3018, ... 51 more fields])\n+- SortAggregate(key=[uniqueIdColumn#1256L], functions=[partial_first(VendorID#1653, false), partial_first(passenger_count#1687, false), partial_first(RateCodeID#2027, false), partial_first(PUBorough#845, false), partial_first(PUZone#868, false), partial_first(PUServiceZone#891, false), partial_first(PUneighbor#914, false), partial_first(AirportPU#1302, false), partial_first(PUHour#1378, false), partial_first(PUMinute#1523, false), partial_first(MorningRushHour#1433, false), partial_first(EveningRushHour#1462, false), partial_first(PUDay#1492, false), partial_first(PU_DOW#1554, false), partial_first(Weekend#1586, false), partial_first(WorkingHour#1619, false), partial_first(PLocationID#2068, false), partial_first(DLocationID#2136, false), partial_first(windDir#2541, false), partial_first(Events#2545, false), partial_first(Condition#2546, false), partial_first(temp#3017, false), partial_first(windChill#3018, false), partial_first(dewpoint#3019, false), ... 50 more fields], output=[uniqueIdColumn#1256L, first#9053, valueSet#9054, first#9055, valueSet#9056, first#9057, valueSet#9058, first#9059, valueSet#9060, first#9061, valueSet#9062, first#9063, valueSet#9064, first#9065, valueSet#9066, first#9067, valueSet#9068, first#9069, valueSet#9070, first#9071, valueSet#9072, first#9073, valueSet#9074, first#9075, ... 125 more fields])\n   +- *(5) Sort [uniqueIdColumn#1256L ASC NULLS FIRST], false, 0\n      +- *(5) Project [VendorID#1653, passenger_count#1687, RateCodeID#2027, PUBorough#845, PUZone#868, PUServiceZone#891, PUneighbor#914, uniqueIdColumn#1256L, AirportPU#1302, PUHour#1378, PUMinute#1523, MorningRushHour#1433, EveningRushHour#1462, PUDay#1492, PU_DOW#1554, Weekend#1586, WorkingHour#1619, PLocationID#2068, DLocationID#2136, windDir#2541, Events#2545, Condition#2546, temp#3017, windChill#3018, ... 51 more fields]\n         +- *(5) BroadcastHashJoin [PUneighbor#914], [neighborhood#3335], LeftOuter, BuildRight\n            :- SortAggregate(key=[uniqueIdColumn#1256L], functions=[first(VendorID#1653, false), first(passenger_count#1687, false), first(RateCodeID#2027, false), first(PUBorough#845, false), first(PUZone#868, false), first(PUServiceZone#891, false), first(PUneighbor#914, false), first(AirportPU#1302, false), first(PUHour#1378, false), first(PUMinute#1523, false), first(MorningRushHour#1433, false), first(EveningRushHour#1462, false), first(PUDay#1492, false), first(PU_DOW#1554, false), first(Weekend#1586, false), first(WorkingHour#1619, false), first(PLocationID#2068, false), first(DLocationID#2136, false), first(windDir#2541, false), first(Events#2545, false), first(Condition#2546, false), first(temp#3017, false), first(windChill#3018, false), first(dewpoint#3019, false), ... 7 more fields], output=[VendorID#1653, passenger_count#1687, RateCodeID#2027, PUBorough#845, PUZone#868, PUServiceZone#891, PUneighbor#914, uniqueIdColumn#1256L, AirportPU#1302, PUHour#1378, PUMinute#1523, MorningRushHour#1433, EveningRushHour#1462, PUDay#1492, PU_DOW#1554, Weekend#1586, WorkingHour#1619, PLocationID#2068, DLocationID#2136, windDir#2541, Events#2545, Condition#2546, temp#3017, windChill#3018, ... 8 more fields])\n            :  +- *(3) Sort [uniqueIdColumn#1256L ASC NULLS FIRST], false, 0\n            :     +- Exchange hashpartitioning(uniqueIdColumn#1256L, 200)\n            :        +- SortAggregate(key=[uniqueIdColumn#1256L], functions=[partial_first(VendorID#1653, false), partial_first(passenger_count#1687, false), partial_first(RateCodeID#2027, false), partial_first(PUBorough#845, false), partial_first(PUZone#868, false), partial_first(PUServiceZone#891, false), partial_first(PUneighbor#914, false), partial_first(AirportPU#1302, false), partial_first(PUHour#1378, false), partial_first(PUMinute#1523, false), partial_first(MorningRushHour#1433, false), partial_first(EveningRushHour#1462, false), partial_first(PUDay#1492, false), partial_first(PU_DOW#1554, false), partial_first(Weekend#1586, false), partial_first(WorkingHour#1619, false), partial_first(PLocationID#2068, false), partial_first(DLocationID#2136, false), partial_first(windDir#2541, false), partial_first(Events#2545, false), partial_first(Condition#2546, false), partial_first(temp#3017, false), partial_first(windChill#3018, false), partial_first(dewpoint#3019, false), ... 7 more fields], output=[uniqueIdColumn#1256L, first#9263, valueSet#9264, first#9265, valueSet#9266, first#9267, valueSet#9268, first#9269, valueSet#9270, first#9271, valueSet#9272, first#9273, valueSet#9274, first#9275, valueSet#9276, first#9277, valueSet#9278, first#9279, valueSet#9280, first#9281, valueSet#9282, first#9283, valueSet#9284, first#9285, ... 39 more fields])\n            :           +- *(2) Sort [uniqueIdColumn#1256L ASC NULLS FIRST], false, 0\n            :              +- *(2) Project [VendorID#1653, passenger_count#1687, RateCodeID#2027, PUBorough#845, PUZone#868, PUServiceZone#891, PUneighbor#914, uniqueIdColumn#1256L, AirportPU#1302, PUHour#1378, PUMinute#1523, MorningRushHour#1433, EveningRushHour#1462, PUDay#1492, PU_DOW#1554, Weekend#1586, WorkingHour#1619, PLocationID#2068, DLocationID#2136, windDir#2541, Events#2545, Condition#2546, temp#3017, windChill#3018, ... 8 more fields]\n            :                 +- *(2) BroadcastHashJoin [PUDate#1327, PUHour#1378], [date#2889, hour#3026], LeftOuter, BuildRight\n            :                    :- *(2) Project [cast(VendorID#54 as smallint) AS VendorID#1653, cast(passenger_count#57 as smallint) AS passenger_count#1687, cast(RateCodeID#59 as smallint) AS RateCodeID#2027, PUBorough#845, PUZone#868, PUServiceZone#891, PUneighbor#914, uniqueIdColumn#1256L, CASE WHEN (((PULocationID#61 = 138) || (PULocationID#61 = 132)) || (PULocationID#61 = 1)) THEN 1 ELSE 0 END AS AirportPU#1302, cast(split(tpep_pickup_datetime#55,  )[0] as date) AS PUDate#1327, cast(split(split(tpep_pickup_datetime#55,  )[1], :)[0] as int) AS PUHour#1378, (cast(split(split(tpep_pickup_datetime#55,  )[1], :)[1] as int) - (cast(split(split(tpep_pickup_datetime#55,  )[1], :)[1] as int) % 5)) AS PUMinute#1523, CASE WHEN ((cast(split(split(tpep_pickup_datetime#55,  )[1], :)[0] as int) >= 6) && (cast(split(split(tpep_pickup_datetime#55,  )[1], :)[0] as int) < 9)) THEN 1 ELSE 0 END AS MorningRushHour#1433, CASE WHEN ((cast(split(split(tpep_pickup_datetime#55,  )[1], :)[0] as int) >= 17) && (cast(split(split(tpep_pickup_datetime#55,  )[1], :)[0] as int) < 21)) THEN 1 ELSE 0 END AS EveningRushHour#1462, dayofyear(cast(split(tpep_pickup_datetime#55,  )[0] as date)) AS PUDay#1492, cast(date_format(cast(cast(split(tpep_pickup_datetime#55,  )[0] as date) as timestamp), u, Some(Etc/UTC)) as smallint) AS PU_DOW#1554, CASE WHEN ((cast(cast(date_format(cast(cast(split(tpep_pickup_datetime#55,  )[0] as date) as timestamp), u, Some(Etc/UTC)) as smallint) as int) = 7) || (cast(cast(date_format(cast(cast(split(tpep_pickup_datetime#55,  )[0] as date) as timestamp), u, Some(Etc/UTC)) as smallint) as int) = 6)) THEN 1 ELSE 0 END AS Weekend#1586, CASE WHEN (((cast(split(split(tpep_pickup_datetime#55,  )[1], :)[0] as int) >= 9) && (cast(split(split(tpep_pickup_datetime#55,  )[1], :)[0] as int) < 17)) && (CASE WHEN ((cast(cast(date_format(cast(cast(split(tpep_pickup_datetime#55,  )[0] as date) as timestamp), u, Some(Etc/UTC)) as smallint) as int) = 7) || (cast(cast(date_format(cast(cast(split(tpep_pickup_datetime#55,  )[0] as date) as timestamp), u, Some(Etc/UTC)) as smallint) as int) = 6)) THEN 1 ELSE 0 END = 0)) THEN 1 ELSE 0 END AS WorkingHour#1619, cast(PULocationID#61 as int) AS PLocationID#2068, cast(DOLocationID#62 as int) AS DLocationID#2136]\n            :                    :  +- *(2) Filter (((((((((((((((((isnotnull(tip_amount#67) && isnotnull(extra#65)) && isnotnull(improvement_surcharge#69)) && isnotnull(total_amount#70)) && isnotnull(fare_amount#64)) && isnotnull(PUBorough#845)) && isnotnull(tolls_amount#68)) && isnotnull(mta_tax#66)) && NOT (PUBorough#845 = Unknown)) && (cast(tip_amount#67 as float) >= 0.0)) && (cast(cast(tolls_amount#68 as float) as double) >= 0.0)) && (cast(cast(total_amount#70 as float) as double) >= 3.3)) && (cast(cast(extra#65 as float) as double) >= 0.0)) && (cast(cast(fare_amount#64 as float) as double) >= 2.5)) && (cast(cast(improvement_surcharge#69 as float) as double) >= 0.3)) && (cast(cast(mta_tax#66 as float) as double) >= 0.5)) && cast(PULocationID#61 as int) INSET (249,234,88,170,120,202,142,153,42,24,125,152,261,164,211,238,116,243,74,233,137,229,224,141,13,41,128,237,105,244,166,148,45,161,12,144,236,113,230,103,140,162,209,194,48,263,50,127,143,43,231,87,104,158,186,114,75,246,151,262,107,239,4,79,163,68,90,232,100)) && cast(DOLocationID#62 as int) INSET (249,234,88,170,120,202,142,153,42,24,125,152,261,164,211,238,116,243,74,233,137,229,224,141,13,41,128,237,105,244,166,148,45,161,12,144,236,113,230,103,140,162,209,194,48,263,50,127,143,43,231,87,104,158,186,114,75,246,151,262,107,239,4,79,163,68,90,232,100))\n            :                    :     +- *(2) Project [VendorID#54, tpep_pickup_datetime#55, passenger_count#57, RatecodeID#59, PULocationID#61, DOLocationID#62, fare_amount#64, extra#65, mta_tax#66, tip_amount#67, tolls_amount#68, improvement_surcharge#69, total_amount#70, PUBorough#845, PUZone#868, PUServiceZone#891, PUneighbor#914, monotonically_increasing_id() AS uniqueIdColumn#1256L]\n            :                    :        +- InMemoryTableScan [VendorID#54, tpep_pickup_datetime#55, tpep_dropoff_datetime#56, passenger_count#57, trip_distance#58, RatecodeID#59, store_and_fwd_flag#60, PULocationID#61, DOLocationID#62, payment_type#63, fare_amount#64, extra#65, mta_tax#66, tip_amount#67, tolls_amount#68, improvement_surcharge#69, total_amount#70, LocationID#769, PUBorough#845, PUZone#868, PUServiceZone#891, PUneighbor#914]\n            :                    :              +- InMemoryRelation [VendorID#54, tpep_pickup_datetime#55, tpep_dropoff_datetime#56, passenger_count#57, trip_distance#58, RatecodeID#59, store_and_fwd_flag#60, PULocationID#61, DOLocationID#62, payment_type#63, fare_amount#64, extra#65, mta_tax#66, tip_amount#67, tolls_amount#68, improvement_surcharge#69, total_amount#70, LocationID#769, PUBorough#845, PUZone#868, PUServiceZone#891, PUneighbor#914], true, 10000, StorageLevel(disk, memory, deserialized, 1 replicas)\n            :                    :                    +- *(14) Project [VendorID#54, tpep_pickup_datetime#55, tpep_dropoff_datetime#56, passenger_count#57, trip_distance#58, RatecodeID#59, store_and_fwd_flag#60, PULocationID#61, DOLocationID#62, payment_type#63, fare_amount#64, extra#65, mta_tax#66, tip_amount#67, tolls_amount#68, improvement_surcharge#69, total_amount#70, LocationID#769, Borough#770 AS PUBorough#845, Zone#771 AS PUZone#868, service_zone#772 AS PUServiceZone#891, neighborhood#773 AS PUneighbor#914]\n            :                    :                       +- *(14) BroadcastHashJoin [PULocationID#61], [LocationID#769], LeftOuter, BuildRight\n            :                    :                          :- Union\n            :                    :                          :  :- *(1) FileScan csv [VendorID#54,tpep_pickup_datetime#55,tpep_dropoff_datetime#56,passenger_count#57,trip_distance#58,RatecodeID#59,store_and_fwd_flag#60,PULocationID#61,DOLocationID#62,payment_type#63,fare_amount#64,extra#65,mta_tax#66,tip_amount#67,tolls_amount#68,improvement_surcharge#69,total_amount#70] Batched: false, Format: CSV, Location: InMemoryFileIndex[file:/home/jovyan/work/PROJECT/yellow_tripdata_2017-01.csv], PartitionFilters: [], PushedFilters: [], ReadSchema: struct<VendorID:string,tpep_pickup_datetime:string,tpep_dropoff_datetime:string,passenger_count:s...\n            :                    :                          :  :- *(2) FileScan csv [VendorID#98,tpep_pickup_datetime#99,tpep_dropoff_datetime#100,passenger_count#101,trip_distance#102,RatecodeID#103,store_and_fwd_flag#104,PULocationID#105,DOLocationID#106,payment_type#107,fare_amount#108,extra#109,mta_tax#110,tip_amount#111,tolls_amount#112,improvement_surcharge#113,total_amount#114] Batched: false, Format: CSV, Location: InMemoryFileIndex[file:/home/jovyan/work/PROJECT/yellow_tripdata_2017-02.csv], PartitionFilters: [], PushedFilters: [], ReadSchema: struct<VendorID:string,tpep_pickup_datetime:string,tpep_dropoff_datetime:string,passenger_count:s...\n            :                    :                          :  :- *(3) FileScan csv [VendorID#159,tpep_pickup_datetime#160,tpep_dropoff_datetime#161,passenger_count#162,trip_distance#163,RatecodeID#164,store_and_fwd_flag#165,PULocationID#166,DOLocationID#167,payment_type#168,fare_amount#169,extra#170,mta_tax#171,tip_amount#172,tolls_amount#173,improvement_surcharge#174,total_amount#175] Batched: false, Format: CSV, Location: InMemoryFileIndex[file:/home/jovyan/work/PROJECT/yellow_tripdata_2017-03.csv], PartitionFilters: [], PushedFilters: [], ReadSchema: struct<VendorID:string,tpep_pickup_datetime:string,tpep_dropoff_datetime:string,passenger_count:s...\n            :                    :                          :  :- *(4) FileScan csv [VendorID#220,tpep_pickup_datetime#221,tpep_dropoff_datetime#222,passenger_count#223,trip_distance#224,RatecodeID#225,store_and_fwd_flag#226,PULocationID#227,DOLocationID#228,payment_type#229,fare_amount#230,extra#231,mta_tax#232,tip_amount#233,tolls_amount#234,improvement_surcharge#235,total_amount#236] Batched: false, Format: CSV, Location: InMemoryFileIndex[file:/home/jovyan/work/PROJECT/yellow_tripdata_2017-04.csv], PartitionFilters: [], PushedFilters: [], ReadSchema: struct<VendorID:string,tpep_pickup_datetime:string,tpep_dropoff_datetime:string,passenger_count:s...\n            :                    :                          :  :- *(5) FileScan csv [VendorID#281,tpep_pickup_datetime#282,tpep_dropoff_datetime#283,passenger_count#284,trip_distance#285,RatecodeID#286,store_and_fwd_flag#287,PULocationID#288,DOLocationID#289,payment_type#290,fare_amount#291,extra#292,mta_tax#293,tip_amount#294,tolls_amount#295,improvement_surcharge#296,total_amount#297] Batched: false, Format: CSV, Location: InMemoryFileIndex[file:/home/jovyan/work/PROJECT/yellow_tripdata_2017-05.csv], PartitionFilters: [], PushedFilters: [], ReadSchema: struct<VendorID:string,tpep_pickup_datetime:string,tpep_dropoff_datetime:string,passenger_count:s...\n            :                    :                          :  :- *(6) FileScan csv [VendorID#342,tpep_pickup_datetime#343,tpep_dropoff_datetime#344,passenger_count#345,trip_distance#346,RatecodeID#347,store_and_fwd_flag#348,PULocationID#349,DOLocationID#350,payment_type#351,fare_amount#352,extra#353,mta_tax#354,tip_amount#355,tolls_amount#356,improvement_surcharge#357,total_amount#358] Batched: false, Format: CSV, Location: InMemoryFileIndex[file:/home/jovyan/work/PROJECT/yellow_tripdata_2017-06.csv], PartitionFilters: [], PushedFilters: [], ReadSchema: struct<VendorID:string,tpep_pickup_datetime:string,tpep_dropoff_datetime:string,passenger_count:s...\n            :                    :                          :  :- *(7) FileScan csv [VendorID#403,tpep_pickup_datetime#404,tpep_dropoff_datetime#405,passenger_count#406,trip_distance#407,RatecodeID#408,store_and_fwd_flag#409,PULocationID#410,DOLocationID#411,payment_type#412,fare_amount#413,extra#414,mta_tax#415,tip_amount#416,tolls_amount#417,improvement_surcharge#418,total_amount#419] Batched: false, Format: CSV, Location: InMemoryFileIndex[file:/home/jovyan/work/PROJECT/yellow_tripdata_2017-07.csv], PartitionFilters: [], PushedFilters: [], ReadSchema: struct<VendorID:string,tpep_pickup_datetime:string,tpep_dropoff_datetime:string,passenger_count:s...\n            :                    :                          :  :- *(8) FileScan csv [VendorID#464,tpep_pickup_datetime#465,tpep_dropoff_datetime#466,passenger_count#467,trip_distance#468,RatecodeID#469,store_and_fwd_flag#470,PULocationID#471,DOLocationID#472,payment_type#473,fare_amount#474,extra#475,mta_tax#476,tip_amount#477,tolls_amount#478,improvement_surcharge#479,total_amount#480] Batched: false, Format: CSV, Location: InMemoryFileIndex[file:/home/jovyan/work/PROJECT/yellow_tripdata_2017-08.csv], PartitionFilters: [], PushedFilters: [], ReadSchema: struct<VendorID:string,tpep_pickup_datetime:string,tpep_dropoff_datetime:string,passenger_count:s...\n            :                    :                          :  :- *(9) FileScan csv [VendorID#525,tpep_pickup_datetime#526,tpep_dropoff_datetime#527,passenger_count#528,trip_distance#529,RatecodeID#530,store_and_fwd_flag#531,PULocationID#532,DOLocationID#533,payment_type#534,fare_amount#535,extra#536,mta_tax#537,tip_amount#538,tolls_amount#539,improvement_surcharge#540,total_amount#541] Batched: false, Format: CSV, Location: InMemoryFileIndex[file:/home/jovyan/work/PROJECT/yellow_tripdata_2017-09.csv], PartitionFilters: [], PushedFilters: [], ReadSchema: struct<VendorID:string,tpep_pickup_datetime:string,tpep_dropoff_datetime:string,passenger_count:s...\n            :                    :                          :  :- *(10) FileScan csv [VendorID#586,tpep_pickup_datetime#587,tpep_dropoff_datetime#588,passenger_count#589,trip_distance#590,RatecodeID#591,store_and_fwd_flag#592,PULocationID#593,DOLocationID#594,payment_type#595,fare_amount#596,extra#597,mta_tax#598,tip_amount#599,tolls_amount#600,improvement_surcharge#601,total_amount#602] Batched: false, Format: CSV, Location: InMemoryFileIndex[file:/home/jovyan/work/PROJECT/yellow_tripdata_2017-10.csv], PartitionFilters: [], PushedFilters: [], ReadSchema: struct<VendorID:string,tpep_pickup_datetime:string,tpep_dropoff_datetime:string,passenger_count:s...\n            :                    :                          :  :- *(11) FileScan csv [VendorID#647,tpep_pickup_datetime#648,tpep_dropoff_datetime#649,passenger_count#650,trip_distance#651,RatecodeID#652,store_and_fwd_flag#653,PULocationID#654,DOLocationID#655,payment_type#656,fare_amount#657,extra#658,mta_tax#659,tip_amount#660,tolls_amount#661,improvement_surcharge#662,total_amount#663] Batched: false, Format: CSV, Location: InMemoryFileIndex[file:/home/jovyan/work/PROJECT/yellow_tripdata_2017-11.csv], PartitionFilters: [], PushedFilters: [], ReadSchema: struct<VendorID:string,tpep_pickup_datetime:string,tpep_dropoff_datetime:string,passenger_count:s...\n            :                    :                          :  +- *(12) FileScan csv [VendorID#708,tpep_pickup_datetime#709,tpep_dropoff_datetime#710,passenger_count#711,trip_distance#712,RatecodeID#713,store_and_fwd_flag#714,PULocationID#715,DOLocationID#716,payment_type#717,fare_amount#718,extra#719,mta_tax#720,tip_amount#721,tolls_amount#722,improvement_surcharge#723,total_amount#724] Batched: false, Format: CSV, Location: InMemoryFileIndex[file:/home/jovyan/work/PROJECT/yellow_tripdata_2017-12.csv], PartitionFilters: [], PushedFilters: [], ReadSchema: struct<VendorID:string,tpep_pickup_datetime:string,tpep_dropoff_datetime:string,passenger_count:s...\n            :                    :                          +- BroadcastExchange HashedRelationBroadcastMode(List(input[0, string, true]))\n            :                    :                             +- *(13) FileScan csv [LocationID#769,Borough#770,Zone#771,service_zone#772,neighborhood#773] Batched: false, Format: CSV, Location: InMemoryFileIndex[file:/home/jovyan/work/PROJECT/taxi+_zone_lookup.csv], PartitionFilters: [], PushedFilters: [], ReadSchema: struct<LocationID:string,Borough:string,Zone:string,service_zone:string,neighborhood:string>\n            :                    +- BroadcastExchange HashedRelationBroadcastMode(List(input[0, date, true], input[14, int, false]))\n            :                       +- *(1) Project [cast(date#2533 as date) AS date#2889, windDir#2541, Events#2545, Condition#2546, coalesce(nanvl(cast(tempTemperature#2535 as double), null), 0.0) AS temp#3017, coalesce(nanvl(cast(tempFeelsLike#2536 as double), null), 0.0) AS windChill#3018, coalesce(nanvl(cast(tempDewpoint#2537 as double), null), 0.0) AS dewpoint#3019, coalesce(nanvl(cast(tempHumidity#2538 as double), null), 0.0) AS humidity#3020, coalesce(nanvl(cast(tempPressure#2539 as double), null), 0.0) AS pressure#3021, coalesce(nanvl(cast(tempVisibility#2540 as double), null), 0.0) AS visibility#3022, coalesce(nanvl(cast(tempWindSpeed#2542 as double), null), 0.0) AS windSpeed#3023, coalesce(nanvl(cast(tempGustSpeed#2543 as double), null), 0.0) AS gustSpeed#3024, coalesce(nanvl(cast(tempPrecip#2544 as double), null), 0.0) AS Precip#3025, split(split(time#2534, :)[1],  )[1] AS period#2904, coalesce(CASE WHEN (split(split(time#2534, :)[1],  )[1] = PM) THEN ((cast(split(time#2534, :)[0] as int) % 12) + 12) ELSE (cast(split(time#2534, :)[0] as int) % 12) END, 0) AS hour#3026]\n            :                          +- *(1) FileScan csv [date#2533,time#2534,tempTemperature#2535,tempFeelsLike#2536,tempDewpoint#2537,tempHumidity#2538,tempPressure#2539,tempVisibility#2540,windDir#2541,tempWindSpeed#2542,tempGustSpeed#2543,tempPrecip#2544,Events#2545,Condition#2546] Batched: false, Format: CSV, Location: InMemoryFileIndex[file:/home/jovyan/work/PROJECT/weather.csv], PartitionFilters: [], PushedFilters: [], ReadSchema: struct<date:string,time:string,tempTemperature:string,tempFeelsLike:string,tempDewpoint:string,te...\n            +- BroadcastExchange HashedRelationBroadcastMode(List(input[0, string, true]))\n               +- *(4) Project [neighborhood#3335, cast(alone_hhld#3336 as float) AS PUalone_hhld#3687, cast(bachelor_higher#3337 as float) AS PUbachelor_higher#3777, cast(bornstate#3338 as float) AS PUbornstate#3867, cast(carfree#3339 as float) AS PUcarfree#3957, cast(commutetime#3340 as float) AS PUcommutetime#4047, cast(disabled#3341 as float) AS PUdisabled#4137, cast(disconnected#3342 as float) AS PUdisconnected#4227, cast(foreign#3343 as float) AS PUforeign#4317, cast(gross_rent_adj#3344 as float) AS PUgross_rent_adj#4407, cast(hhu18#3345 as float) AS PUhhu18#4497, cast(homeownership#3346 as float) AS PUhomeownership#4587, cast(housing_units#3347 as float) AS PUhousing_units#4677, cast(income_diversity_ratio#3348 as float) AS PUincome_diversity_ratio#4767, cast(laborforcerate#3349 as float) AS PUlaborforcerate#4857, cast(medhhincome_adj#3350 as float) AS PUmedhhincome_adj#4947, cast(medhhincome_own_adj#3351 as float) AS PUmedhhincome_own_adj#5037, cast(medhhincome_rent_adj#3352 as float) AS PUmedhhincome_rent_adj#5127, cast(nohsdiploma#3353 as float) AS PUnohsdiploma#5217, cast(park_share#3354 as float) AS PUpark_share#5307, cast(pasian#3355 as float) AS PUpasian#5397, cast(pblack#3356 as float) AS PUpblack#5487, cast(phisp#3357 as float) AS PUphisp#5577, cast(pop65#3358 as float) AS PUpop65#5667, ... 20 more fields]\n                  +- InMemoryTableScan [alone_hhld#3336, bachelor_higher#3337, bornstate#3338, carfree#3339, commutetime#3340, disabled#3341, disconnected#3342, foreign#3343, gross_rent_adj#3344, hhu18#3345, homeownership#3346, housing_units#3347, income_diversity_ratio#3348, laborforcerate#3349, medhhincome_adj#3350, medhhincome_own_adj#3351, medhhincome_rent_adj#3352, neighborhood#3335, nohsdiploma#3353, park_share#3354, pasian#3355, pblack#3356, phisp#3357, pop65#3358, ... 20 more fields]\n                        +- InMemoryRelation [neighborhood#3335, alone_hhld#3336, bachelor_higher#3337, bornstate#3338, carfree#3339, commutetime#3340, disabled#3341, disconnected#3342, foreign#3343, gross_rent_adj#3344, hhu18#3345, homeownership#3346, housing_units#3347, income_diversity_ratio#3348, laborforcerate#3349, medhhincome_adj#3350, medhhincome_own_adj#3351, medhhincome_rent_adj#3352, nohsdiploma#3353, park_share#3354, pasian#3355, pblack#3356, phisp#3357, pop65#3358, ... 20 more fields], true, 10000, StorageLevel(disk, memory, deserialized, 1 replicas)\n                              +- *(1) FileScan csv [neighborhood#3335,alone_hhld#3336,bachelor_higher#3337,bornstate#3338,carfree#3339,commutetime#3340,disabled#3341,disconnected#3342,foreign#3343,gross_rent_adj#3344,hhu18#3345,homeownership#3346,housing_units#3347,income_diversity_ratio#3348,laborforcerate#3349,medhhincome_adj#3350,medhhincome_own_adj#3351,medhhincome_rent_adj#3352,nohsdiploma#3353,park_share#3354,pasian#3355,pblack#3356,phisp#3357,pop65#3358,... 20 more fields] Batched: false, Format: CSV, Location: InMemoryFileIndex[file:/home/jovyan/work/PROJECT/demographics.csv], PartitionFilters: [], PushedFilters: [], ReadSchema: struct<neighborhood:string,alone_hhld:string,bachelor_higher:string,bornstate:string,carfree:stri...\n\n\tat org.apache.spark.sql.catalyst.errors.package$.attachTree(package.scala:56)\n\tat org.apache.spark.sql.execution.aggregate.SortAggregateExec.doExecute(SortAggregateExec.scala:75)\n\tat org.apache.spark.sql.execution.SparkPlan$$anonfun$execute$1.apply(SparkPlan.scala:131)\n\tat org.apache.spark.sql.execution.SparkPlan$$anonfun$execute$1.apply(SparkPlan.scala:127)\n\tat org.apache.spark.sql.execution.SparkPlan$$anonfun$executeQuery$1.apply(SparkPlan.scala:155)\n\tat org.apache.spark.rdd.RDDOperationScope$.withScope(RDDOperationScope.scala:151)\n\tat org.apache.spark.sql.execution.SparkPlan.executeQuery(SparkPlan.scala:152)\n\tat org.apache.spark.sql.execution.SparkPlan.execute(SparkPlan.scala:127)\n\tat org.apache.spark.sql.execution.InputAdapter.inputRDDs(WholeStageCodegenExec.scala:371)\n\tat org.apache.spark.sql.execution.FilterExec.inputRDDs(basicPhysicalOperators.scala:121)\n\tat org.apache.spark.sql.execution.WholeStageCodegenExec.doExecute(WholeStageCodegenExec.scala:605)\n\tat org.apache.spark.sql.execution.SparkPlan$$anonfun$execute$1.apply(SparkPlan.scala:131)\n\tat org.apache.spark.sql.execution.SparkPlan$$anonfun$execute$1.apply(SparkPlan.scala:127)\n\tat org.apache.spark.sql.execution.SparkPlan$$anonfun$executeQuery$1.apply(SparkPlan.scala:155)\n\tat org.apache.spark.rdd.RDDOperationScope$.withScope(RDDOperationScope.scala:151)\n\tat org.apache.spark.sql.execution.SparkPlan.executeQuery(SparkPlan.scala:152)\n\tat org.apache.spark.sql.execution.SparkPlan.execute(SparkPlan.scala:127)\n\tat org.apache.spark.sql.execution.columnar.InMemoryRelation.buildBuffers(InMemoryRelation.scala:97)\n\tat org.apache.spark.sql.execution.columnar.InMemoryRelation.<init>(InMemoryRelation.scala:92)\n\tat org.apache.spark.sql.execution.columnar.InMemoryRelation$.apply(InMemoryRelation.scala:42)\n\tat org.apache.spark.sql.execution.CacheManager$$anonfun$cacheQuery$1.apply(CacheManager.scala:97)\n\tat org.apache.spark.sql.execution.CacheManager.writeLock(CacheManager.scala:67)\n\tat org.apache.spark.sql.execution.CacheManager.cacheQuery(CacheManager.scala:91)\n\tat org.apache.spark.sql.Dataset.persist(Dataset.scala:2902)\n\tat org.apache.spark.sql.Dataset.cache(Dataset.scala:2912)\n\tat sun.reflect.NativeMethodAccessorImpl.invoke0(Native Method)\n\tat sun.reflect.NativeMethodAccessorImpl.invoke(NativeMethodAccessorImpl.java:62)\n\tat sun.reflect.DelegatingMethodAccessorImpl.invoke(DelegatingMethodAccessorImpl.java:43)\n\tat java.lang.reflect.Method.invoke(Method.java:498)\n\tat py4j.reflection.MethodInvoker.invoke(MethodInvoker.java:244)\n\tat py4j.reflection.ReflectionEngine.invoke(ReflectionEngine.java:357)\n\tat py4j.Gateway.invoke(Gateway.java:282)\n\tat py4j.commands.AbstractCommand.invokeMethod(AbstractCommand.java:132)\n\tat py4j.commands.CallCommand.execute(CallCommand.java:79)\n\tat py4j.GatewayConnection.run(GatewayConnection.java:214)\n\tat java.lang.Thread.run(Thread.java:748)\nCaused by: org.apache.spark.sql.catalyst.errors.package$TreeNodeException: execute, tree:\nSortAggregate(key=[uniqueIdColumn#1256L], functions=[partial_first(VendorID#1653, false), partial_first(passenger_count#1687, false), partial_first(RateCodeID#2027, false), partial_first(PUBorough#845, false), partial_first(PUZone#868, false), partial_first(PUServiceZone#891, false), partial_first(PUneighbor#914, false), partial_first(AirportPU#1302, false), partial_first(PUHour#1378, false), partial_first(PUMinute#1523, false), partial_first(MorningRushHour#1433, false), partial_first(EveningRushHour#1462, false), partial_first(PUDay#1492, false), partial_first(PU_DOW#1554, false), partial_first(Weekend#1586, false), partial_first(WorkingHour#1619, false), partial_first(PLocationID#2068, false), partial_first(DLocationID#2136, false), partial_first(windDir#2541, false), partial_first(Events#2545, false), partial_first(Condition#2546, false), partial_first(temp#3017, false), partial_first(windChill#3018, false), partial_first(dewpoint#3019, false), ... 50 more fields], output=[uniqueIdColumn#1256L, first#9053, valueSet#9054, first#9055, valueSet#9056, first#9057, valueSet#9058, first#9059, valueSet#9060, first#9061, valueSet#9062, first#9063, valueSet#9064, first#9065, valueSet#9066, first#9067, valueSet#9068, first#9069, valueSet#9070, first#9071, valueSet#9072, first#9073, valueSet#9074, first#9075, ... 125 more fields])\n+- *(5) Sort [uniqueIdColumn#1256L ASC NULLS FIRST], false, 0\n   +- *(5) Project [VendorID#1653, passenger_count#1687, RateCodeID#2027, PUBorough#845, PUZone#868, PUServiceZone#891, PUneighbor#914, uniqueIdColumn#1256L, AirportPU#1302, PUHour#1378, PUMinute#1523, MorningRushHour#1433, EveningRushHour#1462, PUDay#1492, PU_DOW#1554, Weekend#1586, WorkingHour#1619, PLocationID#2068, DLocationID#2136, windDir#2541, Events#2545, Condition#2546, temp#3017, windChill#3018, ... 51 more fields]\n      +- *(5) BroadcastHashJoin [PUneighbor#914], [neighborhood#3335], LeftOuter, BuildRight\n         :- SortAggregate(key=[uniqueIdColumn#1256L], functions=[first(VendorID#1653, false), first(passenger_count#1687, false), first(RateCodeID#2027, false), first(PUBorough#845, false), first(PUZone#868, false), first(PUServiceZone#891, false), first(PUneighbor#914, false), first(AirportPU#1302, false), first(PUHour#1378, false), first(PUMinute#1523, false), first(MorningRushHour#1433, false), first(EveningRushHour#1462, false), first(PUDay#1492, false), first(PU_DOW#1554, false), first(Weekend#1586, false), first(WorkingHour#1619, false), first(PLocationID#2068, false), first(DLocationID#2136, false), first(windDir#2541, false), first(Events#2545, false), first(Condition#2546, false), first(temp#3017, false), first(windChill#3018, false), first(dewpoint#3019, false), ... 7 more fields], output=[VendorID#1653, passenger_count#1687, RateCodeID#2027, PUBorough#845, PUZone#868, PUServiceZone#891, PUneighbor#914, uniqueIdColumn#1256L, AirportPU#1302, PUHour#1378, PUMinute#1523, MorningRushHour#1433, EveningRushHour#1462, PUDay#1492, PU_DOW#1554, Weekend#1586, WorkingHour#1619, PLocationID#2068, DLocationID#2136, windDir#2541, Events#2545, Condition#2546, temp#3017, windChill#3018, ... 8 more fields])\n         :  +- *(3) Sort [uniqueIdColumn#1256L ASC NULLS FIRST], false, 0\n         :     +- Exchange hashpartitioning(uniqueIdColumn#1256L, 200)\n         :        +- SortAggregate(key=[uniqueIdColumn#1256L], functions=[partial_first(VendorID#1653, false), partial_first(passenger_count#1687, false), partial_first(RateCodeID#2027, false), partial_first(PUBorough#845, false), partial_first(PUZone#868, false), partial_first(PUServiceZone#891, false), partial_first(PUneighbor#914, false), partial_first(AirportPU#1302, false), partial_first(PUHour#1378, false), partial_first(PUMinute#1523, false), partial_first(MorningRushHour#1433, false), partial_first(EveningRushHour#1462, false), partial_first(PUDay#1492, false), partial_first(PU_DOW#1554, false), partial_first(Weekend#1586, false), partial_first(WorkingHour#1619, false), partial_first(PLocationID#2068, false), partial_first(DLocationID#2136, false), partial_first(windDir#2541, false), partial_first(Events#2545, false), partial_first(Condition#2546, false), partial_first(temp#3017, false), partial_first(windChill#3018, false), partial_first(dewpoint#3019, false), ... 7 more fields], output=[uniqueIdColumn#1256L, first#9263, valueSet#9264, first#9265, valueSet#9266, first#9267, valueSet#9268, first#9269, valueSet#9270, first#9271, valueSet#9272, first#9273, valueSet#9274, first#9275, valueSet#9276, first#9277, valueSet#9278, first#9279, valueSet#9280, first#9281, valueSet#9282, first#9283, valueSet#9284, first#9285, ... 39 more fields])\n         :           +- *(2) Sort [uniqueIdColumn#1256L ASC NULLS FIRST], false, 0\n         :              +- *(2) Project [VendorID#1653, passenger_count#1687, RateCodeID#2027, PUBorough#845, PUZone#868, PUServiceZone#891, PUneighbor#914, uniqueIdColumn#1256L, AirportPU#1302, PUHour#1378, PUMinute#1523, MorningRushHour#1433, EveningRushHour#1462, PUDay#1492, PU_DOW#1554, Weekend#1586, WorkingHour#1619, PLocationID#2068, DLocationID#2136, windDir#2541, Events#2545, Condition#2546, temp#3017, windChill#3018, ... 8 more fields]\n         :                 +- *(2) BroadcastHashJoin [PUDate#1327, PUHour#1378], [date#2889, hour#3026], LeftOuter, BuildRight\n         :                    :- *(2) Project [cast(VendorID#54 as smallint) AS VendorID#1653, cast(passenger_count#57 as smallint) AS passenger_count#1687, cast(RateCodeID#59 as smallint) AS RateCodeID#2027, PUBorough#845, PUZone#868, PUServiceZone#891, PUneighbor#914, uniqueIdColumn#1256L, CASE WHEN (((PULocationID#61 = 138) || (PULocationID#61 = 132)) || (PULocationID#61 = 1)) THEN 1 ELSE 0 END AS AirportPU#1302, cast(split(tpep_pickup_datetime#55,  )[0] as date) AS PUDate#1327, cast(split(split(tpep_pickup_datetime#55,  )[1], :)[0] as int) AS PUHour#1378, (cast(split(split(tpep_pickup_datetime#55,  )[1], :)[1] as int) - (cast(split(split(tpep_pickup_datetime#55,  )[1], :)[1] as int) % 5)) AS PUMinute#1523, CASE WHEN ((cast(split(split(tpep_pickup_datetime#55,  )[1], :)[0] as int) >= 6) && (cast(split(split(tpep_pickup_datetime#55,  )[1], :)[0] as int) < 9)) THEN 1 ELSE 0 END AS MorningRushHour#1433, CASE WHEN ((cast(split(split(tpep_pickup_datetime#55,  )[1], :)[0] as int) >= 17) && (cast(split(split(tpep_pickup_datetime#55,  )[1], :)[0] as int) < 21)) THEN 1 ELSE 0 END AS EveningRushHour#1462, dayofyear(cast(split(tpep_pickup_datetime#55,  )[0] as date)) AS PUDay#1492, cast(date_format(cast(cast(split(tpep_pickup_datetime#55,  )[0] as date) as timestamp), u, Some(Etc/UTC)) as smallint) AS PU_DOW#1554, CASE WHEN ((cast(cast(date_format(cast(cast(split(tpep_pickup_datetime#55,  )[0] as date) as timestamp), u, Some(Etc/UTC)) as smallint) as int) = 7) || (cast(cast(date_format(cast(cast(split(tpep_pickup_datetime#55,  )[0] as date) as timestamp), u, Some(Etc/UTC)) as smallint) as int) = 6)) THEN 1 ELSE 0 END AS Weekend#1586, CASE WHEN (((cast(split(split(tpep_pickup_datetime#55,  )[1], :)[0] as int) >= 9) && (cast(split(split(tpep_pickup_datetime#55,  )[1], :)[0] as int) < 17)) && (CASE WHEN ((cast(cast(date_format(cast(cast(split(tpep_pickup_datetime#55,  )[0] as date) as timestamp), u, Some(Etc/UTC)) as smallint) as int) = 7) || (cast(cast(date_format(cast(cast(split(tpep_pickup_datetime#55,  )[0] as date) as timestamp), u, Some(Etc/UTC)) as smallint) as int) = 6)) THEN 1 ELSE 0 END = 0)) THEN 1 ELSE 0 END AS WorkingHour#1619, cast(PULocationID#61 as int) AS PLocationID#2068, cast(DOLocationID#62 as int) AS DLocationID#2136]\n         :                    :  +- *(2) Filter (((((((((((((((((isnotnull(tip_amount#67) && isnotnull(extra#65)) && isnotnull(improvement_surcharge#69)) && isnotnull(total_amount#70)) && isnotnull(fare_amount#64)) && isnotnull(PUBorough#845)) && isnotnull(tolls_amount#68)) && isnotnull(mta_tax#66)) && NOT (PUBorough#845 = Unknown)) && (cast(tip_amount#67 as float) >= 0.0)) && (cast(cast(tolls_amount#68 as float) as double) >= 0.0)) && (cast(cast(total_amount#70 as float) as double) >= 3.3)) && (cast(cast(extra#65 as float) as double) >= 0.0)) && (cast(cast(fare_amount#64 as float) as double) >= 2.5)) && (cast(cast(improvement_surcharge#69 as float) as double) >= 0.3)) && (cast(cast(mta_tax#66 as float) as double) >= 0.5)) && cast(PULocationID#61 as int) INSET (249,234,88,170,120,202,142,153,42,24,125,152,261,164,211,238,116,243,74,233,137,229,224,141,13,41,128,237,105,244,166,148,45,161,12,144,236,113,230,103,140,162,209,194,48,263,50,127,143,43,231,87,104,158,186,114,75,246,151,262,107,239,4,79,163,68,90,232,100)) && cast(DOLocationID#62 as int) INSET (249,234,88,170,120,202,142,153,42,24,125,152,261,164,211,238,116,243,74,233,137,229,224,141,13,41,128,237,105,244,166,148,45,161,12,144,236,113,230,103,140,162,209,194,48,263,50,127,143,43,231,87,104,158,186,114,75,246,151,262,107,239,4,79,163,68,90,232,100))\n         :                    :     +- *(2) Project [VendorID#54, tpep_pickup_datetime#55, passenger_count#57, RatecodeID#59, PULocationID#61, DOLocationID#62, fare_amount#64, extra#65, mta_tax#66, tip_amount#67, tolls_amount#68, improvement_surcharge#69, total_amount#70, PUBorough#845, PUZone#868, PUServiceZone#891, PUneighbor#914, monotonically_increasing_id() AS uniqueIdColumn#1256L]\n         :                    :        +- InMemoryTableScan [VendorID#54, tpep_pickup_datetime#55, tpep_dropoff_datetime#56, passenger_count#57, trip_distance#58, RatecodeID#59, store_and_fwd_flag#60, PULocationID#61, DOLocationID#62, payment_type#63, fare_amount#64, extra#65, mta_tax#66, tip_amount#67, tolls_amount#68, improvement_surcharge#69, total_amount#70, LocationID#769, PUBorough#845, PUZone#868, PUServiceZone#891, PUneighbor#914]\n         :                    :              +- InMemoryRelation [VendorID#54, tpep_pickup_datetime#55, tpep_dropoff_datetime#56, passenger_count#57, trip_distance#58, RatecodeID#59, store_and_fwd_flag#60, PULocationID#61, DOLocationID#62, payment_type#63, fare_amount#64, extra#65, mta_tax#66, tip_amount#67, tolls_amount#68, improvement_surcharge#69, total_amount#70, LocationID#769, PUBorough#845, PUZone#868, PUServiceZone#891, PUneighbor#914], true, 10000, StorageLevel(disk, memory, deserialized, 1 replicas)\n         :                    :                    +- *(14) Project [VendorID#54, tpep_pickup_datetime#55, tpep_dropoff_datetime#56, passenger_count#57, trip_distance#58, RatecodeID#59, store_and_fwd_flag#60, PULocationID#61, DOLocationID#62, payment_type#63, fare_amount#64, extra#65, mta_tax#66, tip_amount#67, tolls_amount#68, improvement_surcharge#69, total_amount#70, LocationID#769, Borough#770 AS PUBorough#845, Zone#771 AS PUZone#868, service_zone#772 AS PUServiceZone#891, neighborhood#773 AS PUneighbor#914]\n         :                    :                       +- *(14) BroadcastHashJoin [PULocationID#61], [LocationID#769], LeftOuter, BuildRight\n         :                    :                          :- Union\n         :                    :                          :  :- *(1) FileScan csv [VendorID#54,tpep_pickup_datetime#55,tpep_dropoff_datetime#56,passenger_count#57,trip_distance#58,RatecodeID#59,store_and_fwd_flag#60,PULocationID#61,DOLocationID#62,payment_type#63,fare_amount#64,extra#65,mta_tax#66,tip_amount#67,tolls_amount#68,improvement_surcharge#69,total_amount#70] Batched: false, Format: CSV, Location: InMemoryFileIndex[file:/home/jovyan/work/PROJECT/yellow_tripdata_2017-01.csv], PartitionFilters: [], PushedFilters: [], ReadSchema: struct<VendorID:string,tpep_pickup_datetime:string,tpep_dropoff_datetime:string,passenger_count:s...\n         :                    :                          :  :- *(2) FileScan csv [VendorID#98,tpep_pickup_datetime#99,tpep_dropoff_datetime#100,passenger_count#101,trip_distance#102,RatecodeID#103,store_and_fwd_flag#104,PULocationID#105,DOLocationID#106,payment_type#107,fare_amount#108,extra#109,mta_tax#110,tip_amount#111,tolls_amount#112,improvement_surcharge#113,total_amount#114] Batched: false, Format: CSV, Location: InMemoryFileIndex[file:/home/jovyan/work/PROJECT/yellow_tripdata_2017-02.csv], PartitionFilters: [], PushedFilters: [], ReadSchema: struct<VendorID:string,tpep_pickup_datetime:string,tpep_dropoff_datetime:string,passenger_count:s...\n         :                    :                          :  :- *(3) FileScan csv [VendorID#159,tpep_pickup_datetime#160,tpep_dropoff_datetime#161,passenger_count#162,trip_distance#163,RatecodeID#164,store_and_fwd_flag#165,PULocationID#166,DOLocationID#167,payment_type#168,fare_amount#169,extra#170,mta_tax#171,tip_amount#172,tolls_amount#173,improvement_surcharge#174,total_amount#175] Batched: false, Format: CSV, Location: InMemoryFileIndex[file:/home/jovyan/work/PROJECT/yellow_tripdata_2017-03.csv], PartitionFilters: [], PushedFilters: [], ReadSchema: struct<VendorID:string,tpep_pickup_datetime:string,tpep_dropoff_datetime:string,passenger_count:s...\n         :                    :                          :  :- *(4) FileScan csv [VendorID#220,tpep_pickup_datetime#221,tpep_dropoff_datetime#222,passenger_count#223,trip_distance#224,RatecodeID#225,store_and_fwd_flag#226,PULocationID#227,DOLocationID#228,payment_type#229,fare_amount#230,extra#231,mta_tax#232,tip_amount#233,tolls_amount#234,improvement_surcharge#235,total_amount#236] Batched: false, Format: CSV, Location: InMemoryFileIndex[file:/home/jovyan/work/PROJECT/yellow_tripdata_2017-04.csv], PartitionFilters: [], PushedFilters: [], ReadSchema: struct<VendorID:string,tpep_pickup_datetime:string,tpep_dropoff_datetime:string,passenger_count:s...\n         :                    :                          :  :- *(5) FileScan csv [VendorID#281,tpep_pickup_datetime#282,tpep_dropoff_datetime#283,passenger_count#284,trip_distance#285,RatecodeID#286,store_and_fwd_flag#287,PULocationID#288,DOLocationID#289,payment_type#290,fare_amount#291,extra#292,mta_tax#293,tip_amount#294,tolls_amount#295,improvement_surcharge#296,total_amount#297] Batched: false, Format: CSV, Location: InMemoryFileIndex[file:/home/jovyan/work/PROJECT/yellow_tripdata_2017-05.csv], PartitionFilters: [], PushedFilters: [], ReadSchema: struct<VendorID:string,tpep_pickup_datetime:string,tpep_dropoff_datetime:string,passenger_count:s...\n         :                    :                          :  :- *(6) FileScan csv [VendorID#342,tpep_pickup_datetime#343,tpep_dropoff_datetime#344,passenger_count#345,trip_distance#346,RatecodeID#347,store_and_fwd_flag#348,PULocationID#349,DOLocationID#350,payment_type#351,fare_amount#352,extra#353,mta_tax#354,tip_amount#355,tolls_amount#356,improvement_surcharge#357,total_amount#358] Batched: false, Format: CSV, Location: InMemoryFileIndex[file:/home/jovyan/work/PROJECT/yellow_tripdata_2017-06.csv], PartitionFilters: [], PushedFilters: [], ReadSchema: struct<VendorID:string,tpep_pickup_datetime:string,tpep_dropoff_datetime:string,passenger_count:s...\n         :                    :                          :  :- *(7) FileScan csv [VendorID#403,tpep_pickup_datetime#404,tpep_dropoff_datetime#405,passenger_count#406,trip_distance#407,RatecodeID#408,store_and_fwd_flag#409,PULocationID#410,DOLocationID#411,payment_type#412,fare_amount#413,extra#414,mta_tax#415,tip_amount#416,tolls_amount#417,improvement_surcharge#418,total_amount#419] Batched: false, Format: CSV, Location: InMemoryFileIndex[file:/home/jovyan/work/PROJECT/yellow_tripdata_2017-07.csv], PartitionFilters: [], PushedFilters: [], ReadSchema: struct<VendorID:string,tpep_pickup_datetime:string,tpep_dropoff_datetime:string,passenger_count:s...\n         :                    :                          :  :- *(8) FileScan csv [VendorID#464,tpep_pickup_datetime#465,tpep_dropoff_datetime#466,passenger_count#467,trip_distance#468,RatecodeID#469,store_and_fwd_flag#470,PULocationID#471,DOLocationID#472,payment_type#473,fare_amount#474,extra#475,mta_tax#476,tip_amount#477,tolls_amount#478,improvement_surcharge#479,total_amount#480] Batched: false, Format: CSV, Location: InMemoryFileIndex[file:/home/jovyan/work/PROJECT/yellow_tripdata_2017-08.csv], PartitionFilters: [], PushedFilters: [], ReadSchema: struct<VendorID:string,tpep_pickup_datetime:string,tpep_dropoff_datetime:string,passenger_count:s...\n         :                    :                          :  :- *(9) FileScan csv [VendorID#525,tpep_pickup_datetime#526,tpep_dropoff_datetime#527,passenger_count#528,trip_distance#529,RatecodeID#530,store_and_fwd_flag#531,PULocationID#532,DOLocationID#533,payment_type#534,fare_amount#535,extra#536,mta_tax#537,tip_amount#538,tolls_amount#539,improvement_surcharge#540,total_amount#541] Batched: false, Format: CSV, Location: InMemoryFileIndex[file:/home/jovyan/work/PROJECT/yellow_tripdata_2017-09.csv], PartitionFilters: [], PushedFilters: [], ReadSchema: struct<VendorID:string,tpep_pickup_datetime:string,tpep_dropoff_datetime:string,passenger_count:s...\n         :                    :                          :  :- *(10) FileScan csv [VendorID#586,tpep_pickup_datetime#587,tpep_dropoff_datetime#588,passenger_count#589,trip_distance#590,RatecodeID#591,store_and_fwd_flag#592,PULocationID#593,DOLocationID#594,payment_type#595,fare_amount#596,extra#597,mta_tax#598,tip_amount#599,tolls_amount#600,improvement_surcharge#601,total_amount#602] Batched: false, Format: CSV, Location: InMemoryFileIndex[file:/home/jovyan/work/PROJECT/yellow_tripdata_2017-10.csv], PartitionFilters: [], PushedFilters: [], ReadSchema: struct<VendorID:string,tpep_pickup_datetime:string,tpep_dropoff_datetime:string,passenger_count:s...\n         :                    :                          :  :- *(11) FileScan csv [VendorID#647,tpep_pickup_datetime#648,tpep_dropoff_datetime#649,passenger_count#650,trip_distance#651,RatecodeID#652,store_and_fwd_flag#653,PULocationID#654,DOLocationID#655,payment_type#656,fare_amount#657,extra#658,mta_tax#659,tip_amount#660,tolls_amount#661,improvement_surcharge#662,total_amount#663] Batched: false, Format: CSV, Location: InMemoryFileIndex[file:/home/jovyan/work/PROJECT/yellow_tripdata_2017-11.csv], PartitionFilters: [], PushedFilters: [], ReadSchema: struct<VendorID:string,tpep_pickup_datetime:string,tpep_dropoff_datetime:string,passenger_count:s...\n         :                    :                          :  +- *(12) FileScan csv [VendorID#708,tpep_pickup_datetime#709,tpep_dropoff_datetime#710,passenger_count#711,trip_distance#712,RatecodeID#713,store_and_fwd_flag#714,PULocationID#715,DOLocationID#716,payment_type#717,fare_amount#718,extra#719,mta_tax#720,tip_amount#721,tolls_amount#722,improvement_surcharge#723,total_amount#724] Batched: false, Format: CSV, Location: InMemoryFileIndex[file:/home/jovyan/work/PROJECT/yellow_tripdata_2017-12.csv], PartitionFilters: [], PushedFilters: [], ReadSchema: struct<VendorID:string,tpep_pickup_datetime:string,tpep_dropoff_datetime:string,passenger_count:s...\n         :                    :                          +- BroadcastExchange HashedRelationBroadcastMode(List(input[0, string, true]))\n         :                    :                             +- *(13) FileScan csv [LocationID#769,Borough#770,Zone#771,service_zone#772,neighborhood#773] Batched: false, Format: CSV, Location: InMemoryFileIndex[file:/home/jovyan/work/PROJECT/taxi+_zone_lookup.csv], PartitionFilters: [], PushedFilters: [], ReadSchema: struct<LocationID:string,Borough:string,Zone:string,service_zone:string,neighborhood:string>\n         :                    +- BroadcastExchange HashedRelationBroadcastMode(List(input[0, date, true], input[14, int, false]))\n         :                       +- *(1) Project [cast(date#2533 as date) AS date#2889, windDir#2541, Events#2545, Condition#2546, coalesce(nanvl(cast(tempTemperature#2535 as double), null), 0.0) AS temp#3017, coalesce(nanvl(cast(tempFeelsLike#2536 as double), null), 0.0) AS windChill#3018, coalesce(nanvl(cast(tempDewpoint#2537 as double), null), 0.0) AS dewpoint#3019, coalesce(nanvl(cast(tempHumidity#2538 as double), null), 0.0) AS humidity#3020, coalesce(nanvl(cast(tempPressure#2539 as double), null), 0.0) AS pressure#3021, coalesce(nanvl(cast(tempVisibility#2540 as double), null), 0.0) AS visibility#3022, coalesce(nanvl(cast(tempWindSpeed#2542 as double), null), 0.0) AS windSpeed#3023, coalesce(nanvl(cast(tempGustSpeed#2543 as double), null), 0.0) AS gustSpeed#3024, coalesce(nanvl(cast(tempPrecip#2544 as double), null), 0.0) AS Precip#3025, split(split(time#2534, :)[1],  )[1] AS period#2904, coalesce(CASE WHEN (split(split(time#2534, :)[1],  )[1] = PM) THEN ((cast(split(time#2534, :)[0] as int) % 12) + 12) ELSE (cast(split(time#2534, :)[0] as int) % 12) END, 0) AS hour#3026]\n         :                          +- *(1) FileScan csv [date#2533,time#2534,tempTemperature#2535,tempFeelsLike#2536,tempDewpoint#2537,tempHumidity#2538,tempPressure#2539,tempVisibility#2540,windDir#2541,tempWindSpeed#2542,tempGustSpeed#2543,tempPrecip#2544,Events#2545,Condition#2546] Batched: false, Format: CSV, Location: InMemoryFileIndex[file:/home/jovyan/work/PROJECT/weather.csv], PartitionFilters: [], PushedFilters: [], ReadSchema: struct<date:string,time:string,tempTemperature:string,tempFeelsLike:string,tempDewpoint:string,te...\n         +- BroadcastExchange HashedRelationBroadcastMode(List(input[0, string, true]))\n            +- *(4) Project [neighborhood#3335, cast(alone_hhld#3336 as float) AS PUalone_hhld#3687, cast(bachelor_higher#3337 as float) AS PUbachelor_higher#3777, cast(bornstate#3338 as float) AS PUbornstate#3867, cast(carfree#3339 as float) AS PUcarfree#3957, cast(commutetime#3340 as float) AS PUcommutetime#4047, cast(disabled#3341 as float) AS PUdisabled#4137, cast(disconnected#3342 as float) AS PUdisconnected#4227, cast(foreign#3343 as float) AS PUforeign#4317, cast(gross_rent_adj#3344 as float) AS PUgross_rent_adj#4407, cast(hhu18#3345 as float) AS PUhhu18#4497, cast(homeownership#3346 as float) AS PUhomeownership#4587, cast(housing_units#3347 as float) AS PUhousing_units#4677, cast(income_diversity_ratio#3348 as float) AS PUincome_diversity_ratio#4767, cast(laborforcerate#3349 as float) AS PUlaborforcerate#4857, cast(medhhincome_adj#3350 as float) AS PUmedhhincome_adj#4947, cast(medhhincome_own_adj#3351 as float) AS PUmedhhincome_own_adj#5037, cast(medhhincome_rent_adj#3352 as float) AS PUmedhhincome_rent_adj#5127, cast(nohsdiploma#3353 as float) AS PUnohsdiploma#5217, cast(park_share#3354 as float) AS PUpark_share#5307, cast(pasian#3355 as float) AS PUpasian#5397, cast(pblack#3356 as float) AS PUpblack#5487, cast(phisp#3357 as float) AS PUphisp#5577, cast(pop65#3358 as float) AS PUpop65#5667, ... 20 more fields]\n               +- InMemoryTableScan [alone_hhld#3336, bachelor_higher#3337, bornstate#3338, carfree#3339, commutetime#3340, disabled#3341, disconnected#3342, foreign#3343, gross_rent_adj#3344, hhu18#3345, homeownership#3346, housing_units#3347, income_diversity_ratio#3348, laborforcerate#3349, medhhincome_adj#3350, medhhincome_own_adj#3351, medhhincome_rent_adj#3352, neighborhood#3335, nohsdiploma#3353, park_share#3354, pasian#3355, pblack#3356, phisp#3357, pop65#3358, ... 20 more fields]\n                     +- InMemoryRelation [neighborhood#3335, alone_hhld#3336, bachelor_higher#3337, bornstate#3338, carfree#3339, commutetime#3340, disabled#3341, disconnected#3342, foreign#3343, gross_rent_adj#3344, hhu18#3345, homeownership#3346, housing_units#3347, income_diversity_ratio#3348, laborforcerate#3349, medhhincome_adj#3350, medhhincome_own_adj#3351, medhhincome_rent_adj#3352, nohsdiploma#3353, park_share#3354, pasian#3355, pblack#3356, phisp#3357, pop65#3358, ... 20 more fields], true, 10000, StorageLevel(disk, memory, deserialized, 1 replicas)\n                           +- *(1) FileScan csv [neighborhood#3335,alone_hhld#3336,bachelor_higher#3337,bornstate#3338,carfree#3339,commutetime#3340,disabled#3341,disconnected#3342,foreign#3343,gross_rent_adj#3344,hhu18#3345,homeownership#3346,housing_units#3347,income_diversity_ratio#3348,laborforcerate#3349,medhhincome_adj#3350,medhhincome_own_adj#3351,medhhincome_rent_adj#3352,nohsdiploma#3353,park_share#3354,pasian#3355,pblack#3356,phisp#3357,pop65#3358,... 20 more fields] Batched: false, Format: CSV, Location: InMemoryFileIndex[file:/home/jovyan/work/PROJECT/demographics.csv], PartitionFilters: [], PushedFilters: [], ReadSchema: struct<neighborhood:string,alone_hhld:string,bachelor_higher:string,bornstate:string,carfree:stri...\n\n\tat org.apache.spark.sql.catalyst.errors.package$.attachTree(package.scala:56)\n\tat org.apache.spark.sql.execution.aggregate.SortAggregateExec.doExecute(SortAggregateExec.scala:75)\n\tat org.apache.spark.sql.execution.SparkPlan$$anonfun$execute$1.apply(SparkPlan.scala:131)\n\tat org.apache.spark.sql.execution.SparkPlan$$anonfun$execute$1.apply(SparkPlan.scala:127)\n\tat org.apache.spark.sql.execution.SparkPlan$$anonfun$executeQuery$1.apply(SparkPlan.scala:155)\n\tat org.apache.spark.rdd.RDDOperationScope$.withScope(RDDOperationScope.scala:151)\n\tat org.apache.spark.sql.execution.SparkPlan.executeQuery(SparkPlan.scala:152)\n\tat org.apache.spark.sql.execution.SparkPlan.execute(SparkPlan.scala:127)\n\tat org.apache.spark.sql.execution.aggregate.SortAggregateExec$$anonfun$doExecute$1.apply(SortAggregateExec.scala:77)\n\tat org.apache.spark.sql.execution.aggregate.SortAggregateExec$$anonfun$doExecute$1.apply(SortAggregateExec.scala:75)\n\tat org.apache.spark.sql.catalyst.errors.package$.attachTree(package.scala:52)\n\t... 35 more\nCaused by: java.util.concurrent.TimeoutException: Futures timed out after [300 seconds]\n\tat scala.concurrent.impl.Promise$DefaultPromise.ready(Promise.scala:219)\n\tat scala.concurrent.impl.Promise$DefaultPromise.result(Promise.scala:223)\n\tat org.apache.spark.util.ThreadUtils$.awaitResult(ThreadUtils.scala:201)\n\tat org.apache.spark.sql.execution.exchange.BroadcastExchangeExec.doExecuteBroadcast(BroadcastExchangeExec.scala:136)\n\tat org.apache.spark.sql.execution.InputAdapter.doExecuteBroadcast(WholeStageCodegenExec.scala:367)\n\tat org.apache.spark.sql.execution.SparkPlan$$anonfun$executeBroadcast$1.apply(SparkPlan.scala:144)\n\tat org.apache.spark.sql.execution.SparkPlan$$anonfun$executeBroadcast$1.apply(SparkPlan.scala:140)\n\tat org.apache.spark.sql.execution.SparkPlan$$anonfun$executeQuery$1.apply(SparkPlan.scala:155)\n\tat org.apache.spark.rdd.RDDOperationScope$.withScope(RDDOperationScope.scala:151)\n\tat org.apache.spark.sql.execution.SparkPlan.executeQuery(SparkPlan.scala:152)\n\tat org.apache.spark.sql.execution.SparkPlan.executeBroadcast(SparkPlan.scala:140)\n\tat org.apache.spark.sql.execution.joins.BroadcastHashJoinExec.prepareBroadcast(BroadcastHashJoinExec.scala:135)\n\tat org.apache.spark.sql.execution.joins.BroadcastHashJoinExec.codegenOuter(BroadcastHashJoinExec.scala:280)\n\tat org.apache.spark.sql.execution.joins.BroadcastHashJoinExec.doConsume(BroadcastHashJoinExec.scala:103)\n\tat org.apache.spark.sql.execution.CodegenSupport$class.consume(WholeStageCodegenExec.scala:181)\n\tat org.apache.spark.sql.execution.InputAdapter.consume(WholeStageCodegenExec.scala:354)\n\tat org.apache.spark.sql.execution.InputAdapter.doProduce(WholeStageCodegenExec.scala:383)\n\tat org.apache.spark.sql.execution.CodegenSupport$$anonfun$produce$1.apply(WholeStageCodegenExec.scala:88)\n\tat org.apache.spark.sql.execution.CodegenSupport$$anonfun$produce$1.apply(WholeStageCodegenExec.scala:83)\n\tat org.apache.spark.sql.execution.SparkPlan$$anonfun$executeQuery$1.apply(SparkPlan.scala:155)\n\tat org.apache.spark.rdd.RDDOperationScope$.withScope(RDDOperationScope.scala:151)\n\tat org.apache.spark.sql.execution.SparkPlan.executeQuery(SparkPlan.scala:152)\n\tat org.apache.spark.sql.execution.CodegenSupport$class.produce(WholeStageCodegenExec.scala:83)\n\tat org.apache.spark.sql.execution.InputAdapter.produce(WholeStageCodegenExec.scala:354)\n\tat org.apache.spark.sql.execution.joins.BroadcastHashJoinExec.doProduce(BroadcastHashJoinExec.scala:97)\n\tat org.apache.spark.sql.execution.CodegenSupport$$anonfun$produce$1.apply(WholeStageCodegenExec.scala:88)\n\tat org.apache.spark.sql.execution.CodegenSupport$$anonfun$produce$1.apply(WholeStageCodegenExec.scala:83)\n\tat org.apache.spark.sql.execution.SparkPlan$$anonfun$executeQuery$1.apply(SparkPlan.scala:155)\n\tat org.apache.spark.rdd.RDDOperationScope$.withScope(RDDOperationScope.scala:151)\n\tat org.apache.spark.sql.execution.SparkPlan.executeQuery(SparkPlan.scala:152)\n\tat org.apache.spark.sql.execution.CodegenSupport$class.produce(WholeStageCodegenExec.scala:83)\n\tat org.apache.spark.sql.execution.joins.BroadcastHashJoinExec.produce(BroadcastHashJoinExec.scala:39)\n\tat org.apache.spark.sql.execution.ProjectExec.doProduce(basicPhysicalOperators.scala:45)\n\tat org.apache.spark.sql.execution.CodegenSupport$$anonfun$produce$1.apply(WholeStageCodegenExec.scala:88)\n\tat org.apache.spark.sql.execution.CodegenSupport$$anonfun$produce$1.apply(WholeStageCodegenExec.scala:83)\n\tat org.apache.spark.sql.execution.SparkPlan$$anonfun$executeQuery$1.apply(SparkPlan.scala:155)\n\tat org.apache.spark.rdd.RDDOperationScope$.withScope(RDDOperationScope.scala:151)\n\tat org.apache.spark.sql.execution.SparkPlan.executeQuery(SparkPlan.scala:152)\n\tat org.apache.spark.sql.execution.CodegenSupport$class.produce(WholeStageCodegenExec.scala:83)\n\tat org.apache.spark.sql.execution.ProjectExec.produce(basicPhysicalOperators.scala:35)\n\tat org.apache.spark.sql.execution.SortExec.doProduce(SortExec.scala:153)\n\tat org.apache.spark.sql.execution.CodegenSupport$$anonfun$produce$1.apply(WholeStageCodegenExec.scala:88)\n\tat org.apache.spark.sql.execution.CodegenSupport$$anonfun$produce$1.apply(WholeStageCodegenExec.scala:83)\n\tat org.apache.spark.sql.execution.SparkPlan$$anonfun$executeQuery$1.apply(SparkPlan.scala:155)\n\tat org.apache.spark.rdd.RDDOperationScope$.withScope(RDDOperationScope.scala:151)\n\tat org.apache.spark.sql.execution.SparkPlan.executeQuery(SparkPlan.scala:152)\n\tat org.apache.spark.sql.execution.CodegenSupport$class.produce(WholeStageCodegenExec.scala:83)\n\tat org.apache.spark.sql.execution.SortExec.produce(SortExec.scala:37)\n\tat org.apache.spark.sql.execution.WholeStageCodegenExec.doCodeGen(WholeStageCodegenExec.scala:524)\n\tat org.apache.spark.sql.execution.WholeStageCodegenExec.doExecute(WholeStageCodegenExec.scala:576)\n\tat org.apache.spark.sql.execution.SparkPlan$$anonfun$execute$1.apply(SparkPlan.scala:131)\n\tat org.apache.spark.sql.execution.SparkPlan$$anonfun$execute$1.apply(SparkPlan.scala:127)\n\tat org.apache.spark.sql.execution.SparkPlan$$anonfun$executeQuery$1.apply(SparkPlan.scala:155)\n\tat org.apache.spark.rdd.RDDOperationScope$.withScope(RDDOperationScope.scala:151)\n\tat org.apache.spark.sql.execution.SparkPlan.executeQuery(SparkPlan.scala:152)\n\tat org.apache.spark.sql.execution.SparkPlan.execute(SparkPlan.scala:127)\n\tat org.apache.spark.sql.execution.aggregate.SortAggregateExec$$anonfun$doExecute$1.apply(SortAggregateExec.scala:77)\n\tat org.apache.spark.sql.execution.aggregate.SortAggregateExec$$anonfun$doExecute$1.apply(SortAggregateExec.scala:75)\n\tat org.apache.spark.sql.catalyst.errors.package$.attachTree(package.scala:52)\n\t... 45 more\n",
     "output_type": "error",
     "traceback": [
      "\u001b[0;31m\u001b[0m",
      "\u001b[0;31mPy4JJavaError\u001b[0mTraceback (most recent call last)",
      "\u001b[0;32m<ipython-input-65-51c897d00205>\u001b[0m in \u001b[0;36m<module>\u001b[0;34m()\u001b[0m\n\u001b[1;32m      1\u001b[0m \u001b[0;31m#dropping only 0.004527722963% of the data\u001b[0m\u001b[0;34m\u001b[0m\u001b[0;34m\u001b[0m\u001b[0m\n\u001b[0;32m----> 2\u001b[0;31m \u001b[0mjan_2017\u001b[0m \u001b[0;34m=\u001b[0m \u001b[0mjan_2017\u001b[0m\u001b[0;34m.\u001b[0m\u001b[0mna\u001b[0m\u001b[0;34m.\u001b[0m\u001b[0mdrop\u001b[0m\u001b[0;34m(\u001b[0m\u001b[0;34m)\u001b[0m\u001b[0;34m.\u001b[0m\u001b[0mcache\u001b[0m\u001b[0;34m(\u001b[0m\u001b[0;34m)\u001b[0m\u001b[0;34m\u001b[0m\u001b[0m\n\u001b[0m",
      "\u001b[0;32m/usr/local/spark/python/pyspark/sql/dataframe.py\u001b[0m in \u001b[0;36mcache\u001b[0;34m(self)\u001b[0m\n\u001b[1;32m    536\u001b[0m         \"\"\"\n\u001b[1;32m    537\u001b[0m         \u001b[0mself\u001b[0m\u001b[0;34m.\u001b[0m\u001b[0mis_cached\u001b[0m \u001b[0;34m=\u001b[0m \u001b[0;32mTrue\u001b[0m\u001b[0;34m\u001b[0m\u001b[0m\n\u001b[0;32m--> 538\u001b[0;31m         \u001b[0mself\u001b[0m\u001b[0;34m.\u001b[0m\u001b[0m_jdf\u001b[0m\u001b[0;34m.\u001b[0m\u001b[0mcache\u001b[0m\u001b[0;34m(\u001b[0m\u001b[0;34m)\u001b[0m\u001b[0;34m\u001b[0m\u001b[0m\n\u001b[0m\u001b[1;32m    539\u001b[0m         \u001b[0;32mreturn\u001b[0m \u001b[0mself\u001b[0m\u001b[0;34m\u001b[0m\u001b[0m\n\u001b[1;32m    540\u001b[0m \u001b[0;34m\u001b[0m\u001b[0m\n",
      "\u001b[0;32m/opt/conda/lib/python3.6/site-packages/py4j/java_gateway.py\u001b[0m in \u001b[0;36m__call__\u001b[0;34m(self, *args)\u001b[0m\n\u001b[1;32m   1255\u001b[0m         \u001b[0manswer\u001b[0m \u001b[0;34m=\u001b[0m \u001b[0mself\u001b[0m\u001b[0;34m.\u001b[0m\u001b[0mgateway_client\u001b[0m\u001b[0;34m.\u001b[0m\u001b[0msend_command\u001b[0m\u001b[0;34m(\u001b[0m\u001b[0mcommand\u001b[0m\u001b[0;34m)\u001b[0m\u001b[0;34m\u001b[0m\u001b[0m\n\u001b[1;32m   1256\u001b[0m         return_value = get_return_value(\n\u001b[0;32m-> 1257\u001b[0;31m             answer, self.gateway_client, self.target_id, self.name)\n\u001b[0m\u001b[1;32m   1258\u001b[0m \u001b[0;34m\u001b[0m\u001b[0m\n\u001b[1;32m   1259\u001b[0m         \u001b[0;32mfor\u001b[0m \u001b[0mtemp_arg\u001b[0m \u001b[0;32min\u001b[0m \u001b[0mtemp_args\u001b[0m\u001b[0;34m:\u001b[0m\u001b[0;34m\u001b[0m\u001b[0m\n",
      "\u001b[0;32m/usr/local/spark/python/pyspark/sql/utils.py\u001b[0m in \u001b[0;36mdeco\u001b[0;34m(*a, **kw)\u001b[0m\n\u001b[1;32m     61\u001b[0m     \u001b[0;32mdef\u001b[0m \u001b[0mdeco\u001b[0m\u001b[0;34m(\u001b[0m\u001b[0;34m*\u001b[0m\u001b[0ma\u001b[0m\u001b[0;34m,\u001b[0m \u001b[0;34m**\u001b[0m\u001b[0mkw\u001b[0m\u001b[0;34m)\u001b[0m\u001b[0;34m:\u001b[0m\u001b[0;34m\u001b[0m\u001b[0m\n\u001b[1;32m     62\u001b[0m         \u001b[0;32mtry\u001b[0m\u001b[0;34m:\u001b[0m\u001b[0;34m\u001b[0m\u001b[0m\n\u001b[0;32m---> 63\u001b[0;31m             \u001b[0;32mreturn\u001b[0m \u001b[0mf\u001b[0m\u001b[0;34m(\u001b[0m\u001b[0;34m*\u001b[0m\u001b[0ma\u001b[0m\u001b[0;34m,\u001b[0m \u001b[0;34m**\u001b[0m\u001b[0mkw\u001b[0m\u001b[0;34m)\u001b[0m\u001b[0;34m\u001b[0m\u001b[0m\n\u001b[0m\u001b[1;32m     64\u001b[0m         \u001b[0;32mexcept\u001b[0m \u001b[0mpy4j\u001b[0m\u001b[0;34m.\u001b[0m\u001b[0mprotocol\u001b[0m\u001b[0;34m.\u001b[0m\u001b[0mPy4JJavaError\u001b[0m \u001b[0;32mas\u001b[0m \u001b[0me\u001b[0m\u001b[0;34m:\u001b[0m\u001b[0;34m\u001b[0m\u001b[0m\n\u001b[1;32m     65\u001b[0m             \u001b[0ms\u001b[0m \u001b[0;34m=\u001b[0m \u001b[0me\u001b[0m\u001b[0;34m.\u001b[0m\u001b[0mjava_exception\u001b[0m\u001b[0;34m.\u001b[0m\u001b[0mtoString\u001b[0m\u001b[0;34m(\u001b[0m\u001b[0;34m)\u001b[0m\u001b[0;34m\u001b[0m\u001b[0m\n",
      "\u001b[0;32m/opt/conda/lib/python3.6/site-packages/py4j/protocol.py\u001b[0m in \u001b[0;36mget_return_value\u001b[0;34m(answer, gateway_client, target_id, name)\u001b[0m\n\u001b[1;32m    326\u001b[0m                 raise Py4JJavaError(\n\u001b[1;32m    327\u001b[0m                     \u001b[0;34m\"An error occurred while calling {0}{1}{2}.\\n\"\u001b[0m\u001b[0;34m.\u001b[0m\u001b[0;34m\u001b[0m\u001b[0m\n\u001b[0;32m--> 328\u001b[0;31m                     format(target_id, \".\", name), value)\n\u001b[0m\u001b[1;32m    329\u001b[0m             \u001b[0;32melse\u001b[0m\u001b[0;34m:\u001b[0m\u001b[0;34m\u001b[0m\u001b[0m\n\u001b[1;32m    330\u001b[0m                 raise Py4JError(\n",
      "\u001b[0;31mPy4JJavaError\u001b[0m: An error occurred while calling o1051.cache.\n: org.apache.spark.sql.catalyst.errors.package$TreeNodeException: execute, tree:\nSortAggregate(key=[uniqueIdColumn#1256L], functions=[first(VendorID#1653, false), first(passenger_count#1687, false), first(RateCodeID#2027, false), first(PUBorough#845, false), first(PUZone#868, false), first(PUServiceZone#891, false), first(PUneighbor#914, false), first(AirportPU#1302, false), first(PUHour#1378, false), first(PUMinute#1523, false), first(MorningRushHour#1433, false), first(EveningRushHour#1462, false), first(PUDay#1492, false), first(PU_DOW#1554, false), first(Weekend#1586, false), first(WorkingHour#1619, false), first(PLocationID#2068, false), first(DLocationID#2136, false), first(windDir#2541, false), first(Events#2545, false), first(Condition#2546, false), first(temp#3017, false), first(windChill#3018, false), first(dewpoint#3019, false), ... 50 more fields], output=[VendorID#1653, passenger_count#1687, RateCodeID#2027, PUBorough#845, PUZone#868, PUServiceZone#891, PUneighbor#914, uniqueIdColumn#1256L, AirportPU#1302, PUHour#1378, PUMinute#1523, MorningRushHour#1433, EveningRushHour#1462, PUDay#1492, PU_DOW#1554, Weekend#1586, WorkingHour#1619, PLocationID#2068, DLocationID#2136, windDir#2541, Events#2545, Condition#2546, temp#3017, windChill#3018, ... 51 more fields])\n+- SortAggregate(key=[uniqueIdColumn#1256L], functions=[partial_first(VendorID#1653, false), partial_first(passenger_count#1687, false), partial_first(RateCodeID#2027, false), partial_first(PUBorough#845, false), partial_first(PUZone#868, false), partial_first(PUServiceZone#891, false), partial_first(PUneighbor#914, false), partial_first(AirportPU#1302, false), partial_first(PUHour#1378, false), partial_first(PUMinute#1523, false), partial_first(MorningRushHour#1433, false), partial_first(EveningRushHour#1462, false), partial_first(PUDay#1492, false), partial_first(PU_DOW#1554, false), partial_first(Weekend#1586, false), partial_first(WorkingHour#1619, false), partial_first(PLocationID#2068, false), partial_first(DLocationID#2136, false), partial_first(windDir#2541, false), partial_first(Events#2545, false), partial_first(Condition#2546, false), partial_first(temp#3017, false), partial_first(windChill#3018, false), partial_first(dewpoint#3019, false), ... 50 more fields], output=[uniqueIdColumn#1256L, first#9053, valueSet#9054, first#9055, valueSet#9056, first#9057, valueSet#9058, first#9059, valueSet#9060, first#9061, valueSet#9062, first#9063, valueSet#9064, first#9065, valueSet#9066, first#9067, valueSet#9068, first#9069, valueSet#9070, first#9071, valueSet#9072, first#9073, valueSet#9074, first#9075, ... 125 more fields])\n   +- *(5) Sort [uniqueIdColumn#1256L ASC NULLS FIRST], false, 0\n      +- *(5) Project [VendorID#1653, passenger_count#1687, RateCodeID#2027, PUBorough#845, PUZone#868, PUServiceZone#891, PUneighbor#914, uniqueIdColumn#1256L, AirportPU#1302, PUHour#1378, PUMinute#1523, MorningRushHour#1433, EveningRushHour#1462, PUDay#1492, PU_DOW#1554, Weekend#1586, WorkingHour#1619, PLocationID#2068, DLocationID#2136, windDir#2541, Events#2545, Condition#2546, temp#3017, windChill#3018, ... 51 more fields]\n         +- *(5) BroadcastHashJoin [PUneighbor#914], [neighborhood#3335], LeftOuter, BuildRight\n            :- SortAggregate(key=[uniqueIdColumn#1256L], functions=[first(VendorID#1653, false), first(passenger_count#1687, false), first(RateCodeID#2027, false), first(PUBorough#845, false), first(PUZone#868, false), first(PUServiceZone#891, false), first(PUneighbor#914, false), first(AirportPU#1302, false), first(PUHour#1378, false), first(PUMinute#1523, false), first(MorningRushHour#1433, false), first(EveningRushHour#1462, false), first(PUDay#1492, false), first(PU_DOW#1554, false), first(Weekend#1586, false), first(WorkingHour#1619, false), first(PLocationID#2068, false), first(DLocationID#2136, false), first(windDir#2541, false), first(Events#2545, false), first(Condition#2546, false), first(temp#3017, false), first(windChill#3018, false), first(dewpoint#3019, false), ... 7 more fields], output=[VendorID#1653, passenger_count#1687, RateCodeID#2027, PUBorough#845, PUZone#868, PUServiceZone#891, PUneighbor#914, uniqueIdColumn#1256L, AirportPU#1302, PUHour#1378, PUMinute#1523, MorningRushHour#1433, EveningRushHour#1462, PUDay#1492, PU_DOW#1554, Weekend#1586, WorkingHour#1619, PLocationID#2068, DLocationID#2136, windDir#2541, Events#2545, Condition#2546, temp#3017, windChill#3018, ... 8 more fields])\n            :  +- *(3) Sort [uniqueIdColumn#1256L ASC NULLS FIRST], false, 0\n            :     +- Exchange hashpartitioning(uniqueIdColumn#1256L, 200)\n            :        +- SortAggregate(key=[uniqueIdColumn#1256L], functions=[partial_first(VendorID#1653, false), partial_first(passenger_count#1687, false), partial_first(RateCodeID#2027, false), partial_first(PUBorough#845, false), partial_first(PUZone#868, false), partial_first(PUServiceZone#891, false), partial_first(PUneighbor#914, false), partial_first(AirportPU#1302, false), partial_first(PUHour#1378, false), partial_first(PUMinute#1523, false), partial_first(MorningRushHour#1433, false), partial_first(EveningRushHour#1462, false), partial_first(PUDay#1492, false), partial_first(PU_DOW#1554, false), partial_first(Weekend#1586, false), partial_first(WorkingHour#1619, false), partial_first(PLocationID#2068, false), partial_first(DLocationID#2136, false), partial_first(windDir#2541, false), partial_first(Events#2545, false), partial_first(Condition#2546, false), partial_first(temp#3017, false), partial_first(windChill#3018, false), partial_first(dewpoint#3019, false), ... 7 more fields], output=[uniqueIdColumn#1256L, first#9263, valueSet#9264, first#9265, valueSet#9266, first#9267, valueSet#9268, first#9269, valueSet#9270, first#9271, valueSet#9272, first#9273, valueSet#9274, first#9275, valueSet#9276, first#9277, valueSet#9278, first#9279, valueSet#9280, first#9281, valueSet#9282, first#9283, valueSet#9284, first#9285, ... 39 more fields])\n            :           +- *(2) Sort [uniqueIdColumn#1256L ASC NULLS FIRST], false, 0\n            :              +- *(2) Project [VendorID#1653, passenger_count#1687, RateCodeID#2027, PUBorough#845, PUZone#868, PUServiceZone#891, PUneighbor#914, uniqueIdColumn#1256L, AirportPU#1302, PUHour#1378, PUMinute#1523, MorningRushHour#1433, EveningRushHour#1462, PUDay#1492, PU_DOW#1554, Weekend#1586, WorkingHour#1619, PLocationID#2068, DLocationID#2136, windDir#2541, Events#2545, Condition#2546, temp#3017, windChill#3018, ... 8 more fields]\n            :                 +- *(2) BroadcastHashJoin [PUDate#1327, PUHour#1378], [date#2889, hour#3026], LeftOuter, BuildRight\n            :                    :- *(2) Project [cast(VendorID#54 as smallint) AS VendorID#1653, cast(passenger_count#57 as smallint) AS passenger_count#1687, cast(RateCodeID#59 as smallint) AS RateCodeID#2027, PUBorough#845, PUZone#868, PUServiceZone#891, PUneighbor#914, uniqueIdColumn#1256L, CASE WHEN (((PULocationID#61 = 138) || (PULocationID#61 = 132)) || (PULocationID#61 = 1)) THEN 1 ELSE 0 END AS AirportPU#1302, cast(split(tpep_pickup_datetime#55,  )[0] as date) AS PUDate#1327, cast(split(split(tpep_pickup_datetime#55,  )[1], :)[0] as int) AS PUHour#1378, (cast(split(split(tpep_pickup_datetime#55,  )[1], :)[1] as int) - (cast(split(split(tpep_pickup_datetime#55,  )[1], :)[1] as int) % 5)) AS PUMinute#1523, CASE WHEN ((cast(split(split(tpep_pickup_datetime#55,  )[1], :)[0] as int) >= 6) && (cast(split(split(tpep_pickup_datetime#55,  )[1], :)[0] as int) < 9)) THEN 1 ELSE 0 END AS MorningRushHour#1433, CASE WHEN ((cast(split(split(tpep_pickup_datetime#55,  )[1], :)[0] as int) >= 17) && (cast(split(split(tpep_pickup_datetime#55,  )[1], :)[0] as int) < 21)) THEN 1 ELSE 0 END AS EveningRushHour#1462, dayofyear(cast(split(tpep_pickup_datetime#55,  )[0] as date)) AS PUDay#1492, cast(date_format(cast(cast(split(tpep_pickup_datetime#55,  )[0] as date) as timestamp), u, Some(Etc/UTC)) as smallint) AS PU_DOW#1554, CASE WHEN ((cast(cast(date_format(cast(cast(split(tpep_pickup_datetime#55,  )[0] as date) as timestamp), u, Some(Etc/UTC)) as smallint) as int) = 7) || (cast(cast(date_format(cast(cast(split(tpep_pickup_datetime#55,  )[0] as date) as timestamp), u, Some(Etc/UTC)) as smallint) as int) = 6)) THEN 1 ELSE 0 END AS Weekend#1586, CASE WHEN (((cast(split(split(tpep_pickup_datetime#55,  )[1], :)[0] as int) >= 9) && (cast(split(split(tpep_pickup_datetime#55,  )[1], :)[0] as int) < 17)) && (CASE WHEN ((cast(cast(date_format(cast(cast(split(tpep_pickup_datetime#55,  )[0] as date) as timestamp), u, Some(Etc/UTC)) as smallint) as int) = 7) || (cast(cast(date_format(cast(cast(split(tpep_pickup_datetime#55,  )[0] as date) as timestamp), u, Some(Etc/UTC)) as smallint) as int) = 6)) THEN 1 ELSE 0 END = 0)) THEN 1 ELSE 0 END AS WorkingHour#1619, cast(PULocationID#61 as int) AS PLocationID#2068, cast(DOLocationID#62 as int) AS DLocationID#2136]\n            :                    :  +- *(2) Filter (((((((((((((((((isnotnull(tip_amount#67) && isnotnull(extra#65)) && isnotnull(improvement_surcharge#69)) && isnotnull(total_amount#70)) && isnotnull(fare_amount#64)) && isnotnull(PUBorough#845)) && isnotnull(tolls_amount#68)) && isnotnull(mta_tax#66)) && NOT (PUBorough#845 = Unknown)) && (cast(tip_amount#67 as float) >= 0.0)) && (cast(cast(tolls_amount#68 as float) as double) >= 0.0)) && (cast(cast(total_amount#70 as float) as double) >= 3.3)) && (cast(cast(extra#65 as float) as double) >= 0.0)) && (cast(cast(fare_amount#64 as float) as double) >= 2.5)) && (cast(cast(improvement_surcharge#69 as float) as double) >= 0.3)) && (cast(cast(mta_tax#66 as float) as double) >= 0.5)) && cast(PULocationID#61 as int) INSET (249,234,88,170,120,202,142,153,42,24,125,152,261,164,211,238,116,243,74,233,137,229,224,141,13,41,128,237,105,244,166,148,45,161,12,144,236,113,230,103,140,162,209,194,48,263,50,127,143,43,231,87,104,158,186,114,75,246,151,262,107,239,4,79,163,68,90,232,100)) && cast(DOLocationID#62 as int) INSET (249,234,88,170,120,202,142,153,42,24,125,152,261,164,211,238,116,243,74,233,137,229,224,141,13,41,128,237,105,244,166,148,45,161,12,144,236,113,230,103,140,162,209,194,48,263,50,127,143,43,231,87,104,158,186,114,75,246,151,262,107,239,4,79,163,68,90,232,100))\n            :                    :     +- *(2) Project [VendorID#54, tpep_pickup_datetime#55, passenger_count#57, RatecodeID#59, PULocationID#61, DOLocationID#62, fare_amount#64, extra#65, mta_tax#66, tip_amount#67, tolls_amount#68, improvement_surcharge#69, total_amount#70, PUBorough#845, PUZone#868, PUServiceZone#891, PUneighbor#914, monotonically_increasing_id() AS uniqueIdColumn#1256L]\n            :                    :        +- InMemoryTableScan [VendorID#54, tpep_pickup_datetime#55, tpep_dropoff_datetime#56, passenger_count#57, trip_distance#58, RatecodeID#59, store_and_fwd_flag#60, PULocationID#61, DOLocationID#62, payment_type#63, fare_amount#64, extra#65, mta_tax#66, tip_amount#67, tolls_amount#68, improvement_surcharge#69, total_amount#70, LocationID#769, PUBorough#845, PUZone#868, PUServiceZone#891, PUneighbor#914]\n            :                    :              +- InMemoryRelation [VendorID#54, tpep_pickup_datetime#55, tpep_dropoff_datetime#56, passenger_count#57, trip_distance#58, RatecodeID#59, store_and_fwd_flag#60, PULocationID#61, DOLocationID#62, payment_type#63, fare_amount#64, extra#65, mta_tax#66, tip_amount#67, tolls_amount#68, improvement_surcharge#69, total_amount#70, LocationID#769, PUBorough#845, PUZone#868, PUServiceZone#891, PUneighbor#914], true, 10000, StorageLevel(disk, memory, deserialized, 1 replicas)\n            :                    :                    +- *(14) Project [VendorID#54, tpep_pickup_datetime#55, tpep_dropoff_datetime#56, passenger_count#57, trip_distance#58, RatecodeID#59, store_and_fwd_flag#60, PULocationID#61, DOLocationID#62, payment_type#63, fare_amount#64, extra#65, mta_tax#66, tip_amount#67, tolls_amount#68, improvement_surcharge#69, total_amount#70, LocationID#769, Borough#770 AS PUBorough#845, Zone#771 AS PUZone#868, service_zone#772 AS PUServiceZone#891, neighborhood#773 AS PUneighbor#914]\n            :                    :                       +- *(14) BroadcastHashJoin [PULocationID#61], [LocationID#769], LeftOuter, BuildRight\n            :                    :                          :- Union\n            :                    :                          :  :- *(1) FileScan csv [VendorID#54,tpep_pickup_datetime#55,tpep_dropoff_datetime#56,passenger_count#57,trip_distance#58,RatecodeID#59,store_and_fwd_flag#60,PULocationID#61,DOLocationID#62,payment_type#63,fare_amount#64,extra#65,mta_tax#66,tip_amount#67,tolls_amount#68,improvement_surcharge#69,total_amount#70] Batched: false, Format: CSV, Location: InMemoryFileIndex[file:/home/jovyan/work/PROJECT/yellow_tripdata_2017-01.csv], PartitionFilters: [], PushedFilters: [], ReadSchema: struct<VendorID:string,tpep_pickup_datetime:string,tpep_dropoff_datetime:string,passenger_count:s...\n            :                    :                          :  :- *(2) FileScan csv [VendorID#98,tpep_pickup_datetime#99,tpep_dropoff_datetime#100,passenger_count#101,trip_distance#102,RatecodeID#103,store_and_fwd_flag#104,PULocationID#105,DOLocationID#106,payment_type#107,fare_amount#108,extra#109,mta_tax#110,tip_amount#111,tolls_amount#112,improvement_surcharge#113,total_amount#114] Batched: false, Format: CSV, Location: InMemoryFileIndex[file:/home/jovyan/work/PROJECT/yellow_tripdata_2017-02.csv], PartitionFilters: [], PushedFilters: [], ReadSchema: struct<VendorID:string,tpep_pickup_datetime:string,tpep_dropoff_datetime:string,passenger_count:s...\n            :                    :                          :  :- *(3) FileScan csv [VendorID#159,tpep_pickup_datetime#160,tpep_dropoff_datetime#161,passenger_count#162,trip_distance#163,RatecodeID#164,store_and_fwd_flag#165,PULocationID#166,DOLocationID#167,payment_type#168,fare_amount#169,extra#170,mta_tax#171,tip_amount#172,tolls_amount#173,improvement_surcharge#174,total_amount#175] Batched: false, Format: CSV, Location: InMemoryFileIndex[file:/home/jovyan/work/PROJECT/yellow_tripdata_2017-03.csv], PartitionFilters: [], PushedFilters: [], ReadSchema: struct<VendorID:string,tpep_pickup_datetime:string,tpep_dropoff_datetime:string,passenger_count:s...\n            :                    :                          :  :- *(4) FileScan csv [VendorID#220,tpep_pickup_datetime#221,tpep_dropoff_datetime#222,passenger_count#223,trip_distance#224,RatecodeID#225,store_and_fwd_flag#226,PULocationID#227,DOLocationID#228,payment_type#229,fare_amount#230,extra#231,mta_tax#232,tip_amount#233,tolls_amount#234,improvement_surcharge#235,total_amount#236] Batched: false, Format: CSV, Location: InMemoryFileIndex[file:/home/jovyan/work/PROJECT/yellow_tripdata_2017-04.csv], PartitionFilters: [], PushedFilters: [], ReadSchema: struct<VendorID:string,tpep_pickup_datetime:string,tpep_dropoff_datetime:string,passenger_count:s...\n            :                    :                          :  :- *(5) FileScan csv [VendorID#281,tpep_pickup_datetime#282,tpep_dropoff_datetime#283,passenger_count#284,trip_distance#285,RatecodeID#286,store_and_fwd_flag#287,PULocationID#288,DOLocationID#289,payment_type#290,fare_amount#291,extra#292,mta_tax#293,tip_amount#294,tolls_amount#295,improvement_surcharge#296,total_amount#297] Batched: false, Format: CSV, Location: InMemoryFileIndex[file:/home/jovyan/work/PROJECT/yellow_tripdata_2017-05.csv], PartitionFilters: [], PushedFilters: [], ReadSchema: struct<VendorID:string,tpep_pickup_datetime:string,tpep_dropoff_datetime:string,passenger_count:s...\n            :                    :                          :  :- *(6) FileScan csv [VendorID#342,tpep_pickup_datetime#343,tpep_dropoff_datetime#344,passenger_count#345,trip_distance#346,RatecodeID#347,store_and_fwd_flag#348,PULocationID#349,DOLocationID#350,payment_type#351,fare_amount#352,extra#353,mta_tax#354,tip_amount#355,tolls_amount#356,improvement_surcharge#357,total_amount#358] Batched: false, Format: CSV, Location: InMemoryFileIndex[file:/home/jovyan/work/PROJECT/yellow_tripdata_2017-06.csv], PartitionFilters: [], PushedFilters: [], ReadSchema: struct<VendorID:string,tpep_pickup_datetime:string,tpep_dropoff_datetime:string,passenger_count:s...\n            :                    :                          :  :- *(7) FileScan csv [VendorID#403,tpep_pickup_datetime#404,tpep_dropoff_datetime#405,passenger_count#406,trip_distance#407,RatecodeID#408,store_and_fwd_flag#409,PULocationID#410,DOLocationID#411,payment_type#412,fare_amount#413,extra#414,mta_tax#415,tip_amount#416,tolls_amount#417,improvement_surcharge#418,total_amount#419] Batched: false, Format: CSV, Location: InMemoryFileIndex[file:/home/jovyan/work/PROJECT/yellow_tripdata_2017-07.csv], PartitionFilters: [], PushedFilters: [], ReadSchema: struct<VendorID:string,tpep_pickup_datetime:string,tpep_dropoff_datetime:string,passenger_count:s...\n            :                    :                          :  :- *(8) FileScan csv [VendorID#464,tpep_pickup_datetime#465,tpep_dropoff_datetime#466,passenger_count#467,trip_distance#468,RatecodeID#469,store_and_fwd_flag#470,PULocationID#471,DOLocationID#472,payment_type#473,fare_amount#474,extra#475,mta_tax#476,tip_amount#477,tolls_amount#478,improvement_surcharge#479,total_amount#480] Batched: false, Format: CSV, Location: InMemoryFileIndex[file:/home/jovyan/work/PROJECT/yellow_tripdata_2017-08.csv], PartitionFilters: [], PushedFilters: [], ReadSchema: struct<VendorID:string,tpep_pickup_datetime:string,tpep_dropoff_datetime:string,passenger_count:s...\n            :                    :                          :  :- *(9) FileScan csv [VendorID#525,tpep_pickup_datetime#526,tpep_dropoff_datetime#527,passenger_count#528,trip_distance#529,RatecodeID#530,store_and_fwd_flag#531,PULocationID#532,DOLocationID#533,payment_type#534,fare_amount#535,extra#536,mta_tax#537,tip_amount#538,tolls_amount#539,improvement_surcharge#540,total_amount#541] Batched: false, Format: CSV, Location: InMemoryFileIndex[file:/home/jovyan/work/PROJECT/yellow_tripdata_2017-09.csv], PartitionFilters: [], PushedFilters: [], ReadSchema: struct<VendorID:string,tpep_pickup_datetime:string,tpep_dropoff_datetime:string,passenger_count:s...\n            :                    :                          :  :- *(10) FileScan csv [VendorID#586,tpep_pickup_datetime#587,tpep_dropoff_datetime#588,passenger_count#589,trip_distance#590,RatecodeID#591,store_and_fwd_flag#592,PULocationID#593,DOLocationID#594,payment_type#595,fare_amount#596,extra#597,mta_tax#598,tip_amount#599,tolls_amount#600,improvement_surcharge#601,total_amount#602] Batched: false, Format: CSV, Location: InMemoryFileIndex[file:/home/jovyan/work/PROJECT/yellow_tripdata_2017-10.csv], PartitionFilters: [], PushedFilters: [], ReadSchema: struct<VendorID:string,tpep_pickup_datetime:string,tpep_dropoff_datetime:string,passenger_count:s...\n            :                    :                          :  :- *(11) FileScan csv [VendorID#647,tpep_pickup_datetime#648,tpep_dropoff_datetime#649,passenger_count#650,trip_distance#651,RatecodeID#652,store_and_fwd_flag#653,PULocationID#654,DOLocationID#655,payment_type#656,fare_amount#657,extra#658,mta_tax#659,tip_amount#660,tolls_amount#661,improvement_surcharge#662,total_amount#663] Batched: false, Format: CSV, Location: InMemoryFileIndex[file:/home/jovyan/work/PROJECT/yellow_tripdata_2017-11.csv], PartitionFilters: [], PushedFilters: [], ReadSchema: struct<VendorID:string,tpep_pickup_datetime:string,tpep_dropoff_datetime:string,passenger_count:s...\n            :                    :                          :  +- *(12) FileScan csv [VendorID#708,tpep_pickup_datetime#709,tpep_dropoff_datetime#710,passenger_count#711,trip_distance#712,RatecodeID#713,store_and_fwd_flag#714,PULocationID#715,DOLocationID#716,payment_type#717,fare_amount#718,extra#719,mta_tax#720,tip_amount#721,tolls_amount#722,improvement_surcharge#723,total_amount#724] Batched: false, Format: CSV, Location: InMemoryFileIndex[file:/home/jovyan/work/PROJECT/yellow_tripdata_2017-12.csv], PartitionFilters: [], PushedFilters: [], ReadSchema: struct<VendorID:string,tpep_pickup_datetime:string,tpep_dropoff_datetime:string,passenger_count:s...\n            :                    :                          +- BroadcastExchange HashedRelationBroadcastMode(List(input[0, string, true]))\n            :                    :                             +- *(13) FileScan csv [LocationID#769,Borough#770,Zone#771,service_zone#772,neighborhood#773] Batched: false, Format: CSV, Location: InMemoryFileIndex[file:/home/jovyan/work/PROJECT/taxi+_zone_lookup.csv], PartitionFilters: [], PushedFilters: [], ReadSchema: struct<LocationID:string,Borough:string,Zone:string,service_zone:string,neighborhood:string>\n            :                    +- BroadcastExchange HashedRelationBroadcastMode(List(input[0, date, true], input[14, int, false]))\n            :                       +- *(1) Project [cast(date#2533 as date) AS date#2889, windDir#2541, Events#2545, Condition#2546, coalesce(nanvl(cast(tempTemperature#2535 as double), null), 0.0) AS temp#3017, coalesce(nanvl(cast(tempFeelsLike#2536 as double), null), 0.0) AS windChill#3018, coalesce(nanvl(cast(tempDewpoint#2537 as double), null), 0.0) AS dewpoint#3019, coalesce(nanvl(cast(tempHumidity#2538 as double), null), 0.0) AS humidity#3020, coalesce(nanvl(cast(tempPressure#2539 as double), null), 0.0) AS pressure#3021, coalesce(nanvl(cast(tempVisibility#2540 as double), null), 0.0) AS visibility#3022, coalesce(nanvl(cast(tempWindSpeed#2542 as double), null), 0.0) AS windSpeed#3023, coalesce(nanvl(cast(tempGustSpeed#2543 as double), null), 0.0) AS gustSpeed#3024, coalesce(nanvl(cast(tempPrecip#2544 as double), null), 0.0) AS Precip#3025, split(split(time#2534, :)[1],  )[1] AS period#2904, coalesce(CASE WHEN (split(split(time#2534, :)[1],  )[1] = PM) THEN ((cast(split(time#2534, :)[0] as int) % 12) + 12) ELSE (cast(split(time#2534, :)[0] as int) % 12) END, 0) AS hour#3026]\n            :                          +- *(1) FileScan csv [date#2533,time#2534,tempTemperature#2535,tempFeelsLike#2536,tempDewpoint#2537,tempHumidity#2538,tempPressure#2539,tempVisibility#2540,windDir#2541,tempWindSpeed#2542,tempGustSpeed#2543,tempPrecip#2544,Events#2545,Condition#2546] Batched: false, Format: CSV, Location: InMemoryFileIndex[file:/home/jovyan/work/PROJECT/weather.csv], PartitionFilters: [], PushedFilters: [], ReadSchema: struct<date:string,time:string,tempTemperature:string,tempFeelsLike:string,tempDewpoint:string,te...\n            +- BroadcastExchange HashedRelationBroadcastMode(List(input[0, string, true]))\n               +- *(4) Project [neighborhood#3335, cast(alone_hhld#3336 as float) AS PUalone_hhld#3687, cast(bachelor_higher#3337 as float) AS PUbachelor_higher#3777, cast(bornstate#3338 as float) AS PUbornstate#3867, cast(carfree#3339 as float) AS PUcarfree#3957, cast(commutetime#3340 as float) AS PUcommutetime#4047, cast(disabled#3341 as float) AS PUdisabled#4137, cast(disconnected#3342 as float) AS PUdisconnected#4227, cast(foreign#3343 as float) AS PUforeign#4317, cast(gross_rent_adj#3344 as float) AS PUgross_rent_adj#4407, cast(hhu18#3345 as float) AS PUhhu18#4497, cast(homeownership#3346 as float) AS PUhomeownership#4587, cast(housing_units#3347 as float) AS PUhousing_units#4677, cast(income_diversity_ratio#3348 as float) AS PUincome_diversity_ratio#4767, cast(laborforcerate#3349 as float) AS PUlaborforcerate#4857, cast(medhhincome_adj#3350 as float) AS PUmedhhincome_adj#4947, cast(medhhincome_own_adj#3351 as float) AS PUmedhhincome_own_adj#5037, cast(medhhincome_rent_adj#3352 as float) AS PUmedhhincome_rent_adj#5127, cast(nohsdiploma#3353 as float) AS PUnohsdiploma#5217, cast(park_share#3354 as float) AS PUpark_share#5307, cast(pasian#3355 as float) AS PUpasian#5397, cast(pblack#3356 as float) AS PUpblack#5487, cast(phisp#3357 as float) AS PUphisp#5577, cast(pop65#3358 as float) AS PUpop65#5667, ... 20 more fields]\n                  +- InMemoryTableScan [alone_hhld#3336, bachelor_higher#3337, bornstate#3338, carfree#3339, commutetime#3340, disabled#3341, disconnected#3342, foreign#3343, gross_rent_adj#3344, hhu18#3345, homeownership#3346, housing_units#3347, income_diversity_ratio#3348, laborforcerate#3349, medhhincome_adj#3350, medhhincome_own_adj#3351, medhhincome_rent_adj#3352, neighborhood#3335, nohsdiploma#3353, park_share#3354, pasian#3355, pblack#3356, phisp#3357, pop65#3358, ... 20 more fields]\n                        +- InMemoryRelation [neighborhood#3335, alone_hhld#3336, bachelor_higher#3337, bornstate#3338, carfree#3339, commutetime#3340, disabled#3341, disconnected#3342, foreign#3343, gross_rent_adj#3344, hhu18#3345, homeownership#3346, housing_units#3347, income_diversity_ratio#3348, laborforcerate#3349, medhhincome_adj#3350, medhhincome_own_adj#3351, medhhincome_rent_adj#3352, nohsdiploma#3353, park_share#3354, pasian#3355, pblack#3356, phisp#3357, pop65#3358, ... 20 more fields], true, 10000, StorageLevel(disk, memory, deserialized, 1 replicas)\n                              +- *(1) FileScan csv [neighborhood#3335,alone_hhld#3336,bachelor_higher#3337,bornstate#3338,carfree#3339,commutetime#3340,disabled#3341,disconnected#3342,foreign#3343,gross_rent_adj#3344,hhu18#3345,homeownership#3346,housing_units#3347,income_diversity_ratio#3348,laborforcerate#3349,medhhincome_adj#3350,medhhincome_own_adj#3351,medhhincome_rent_adj#3352,nohsdiploma#3353,park_share#3354,pasian#3355,pblack#3356,phisp#3357,pop65#3358,... 20 more fields] Batched: false, Format: CSV, Location: InMemoryFileIndex[file:/home/jovyan/work/PROJECT/demographics.csv], PartitionFilters: [], PushedFilters: [], ReadSchema: struct<neighborhood:string,alone_hhld:string,bachelor_higher:string,bornstate:string,carfree:stri...\n\n\tat org.apache.spark.sql.catalyst.errors.package$.attachTree(package.scala:56)\n\tat org.apache.spark.sql.execution.aggregate.SortAggregateExec.doExecute(SortAggregateExec.scala:75)\n\tat org.apache.spark.sql.execution.SparkPlan$$anonfun$execute$1.apply(SparkPlan.scala:131)\n\tat org.apache.spark.sql.execution.SparkPlan$$anonfun$execute$1.apply(SparkPlan.scala:127)\n\tat org.apache.spark.sql.execution.SparkPlan$$anonfun$executeQuery$1.apply(SparkPlan.scala:155)\n\tat org.apache.spark.rdd.RDDOperationScope$.withScope(RDDOperationScope.scala:151)\n\tat org.apache.spark.sql.execution.SparkPlan.executeQuery(SparkPlan.scala:152)\n\tat org.apache.spark.sql.execution.SparkPlan.execute(SparkPlan.scala:127)\n\tat org.apache.spark.sql.execution.InputAdapter.inputRDDs(WholeStageCodegenExec.scala:371)\n\tat org.apache.spark.sql.execution.FilterExec.inputRDDs(basicPhysicalOperators.scala:121)\n\tat org.apache.spark.sql.execution.WholeStageCodegenExec.doExecute(WholeStageCodegenExec.scala:605)\n\tat org.apache.spark.sql.execution.SparkPlan$$anonfun$execute$1.apply(SparkPlan.scala:131)\n\tat org.apache.spark.sql.execution.SparkPlan$$anonfun$execute$1.apply(SparkPlan.scala:127)\n\tat org.apache.spark.sql.execution.SparkPlan$$anonfun$executeQuery$1.apply(SparkPlan.scala:155)\n\tat org.apache.spark.rdd.RDDOperationScope$.withScope(RDDOperationScope.scala:151)\n\tat org.apache.spark.sql.execution.SparkPlan.executeQuery(SparkPlan.scala:152)\n\tat org.apache.spark.sql.execution.SparkPlan.execute(SparkPlan.scala:127)\n\tat org.apache.spark.sql.execution.columnar.InMemoryRelation.buildBuffers(InMemoryRelation.scala:97)\n\tat org.apache.spark.sql.execution.columnar.InMemoryRelation.<init>(InMemoryRelation.scala:92)\n\tat org.apache.spark.sql.execution.columnar.InMemoryRelation$.apply(InMemoryRelation.scala:42)\n\tat org.apache.spark.sql.execution.CacheManager$$anonfun$cacheQuery$1.apply(CacheManager.scala:97)\n\tat org.apache.spark.sql.execution.CacheManager.writeLock(CacheManager.scala:67)\n\tat org.apache.spark.sql.execution.CacheManager.cacheQuery(CacheManager.scala:91)\n\tat org.apache.spark.sql.Dataset.persist(Dataset.scala:2902)\n\tat org.apache.spark.sql.Dataset.cache(Dataset.scala:2912)\n\tat sun.reflect.NativeMethodAccessorImpl.invoke0(Native Method)\n\tat sun.reflect.NativeMethodAccessorImpl.invoke(NativeMethodAccessorImpl.java:62)\n\tat sun.reflect.DelegatingMethodAccessorImpl.invoke(DelegatingMethodAccessorImpl.java:43)\n\tat java.lang.reflect.Method.invoke(Method.java:498)\n\tat py4j.reflection.MethodInvoker.invoke(MethodInvoker.java:244)\n\tat py4j.reflection.ReflectionEngine.invoke(ReflectionEngine.java:357)\n\tat py4j.Gateway.invoke(Gateway.java:282)\n\tat py4j.commands.AbstractCommand.invokeMethod(AbstractCommand.java:132)\n\tat py4j.commands.CallCommand.execute(CallCommand.java:79)\n\tat py4j.GatewayConnection.run(GatewayConnection.java:214)\n\tat java.lang.Thread.run(Thread.java:748)\nCaused by: org.apache.spark.sql.catalyst.errors.package$TreeNodeException: execute, tree:\nSortAggregate(key=[uniqueIdColumn#1256L], functions=[partial_first(VendorID#1653, false), partial_first(passenger_count#1687, false), partial_first(RateCodeID#2027, false), partial_first(PUBorough#845, false), partial_first(PUZone#868, false), partial_first(PUServiceZone#891, false), partial_first(PUneighbor#914, false), partial_first(AirportPU#1302, false), partial_first(PUHour#1378, false), partial_first(PUMinute#1523, false), partial_first(MorningRushHour#1433, false), partial_first(EveningRushHour#1462, false), partial_first(PUDay#1492, false), partial_first(PU_DOW#1554, false), partial_first(Weekend#1586, false), partial_first(WorkingHour#1619, false), partial_first(PLocationID#2068, false), partial_first(DLocationID#2136, false), partial_first(windDir#2541, false), partial_first(Events#2545, false), partial_first(Condition#2546, false), partial_first(temp#3017, false), partial_first(windChill#3018, false), partial_first(dewpoint#3019, false), ... 50 more fields], output=[uniqueIdColumn#1256L, first#9053, valueSet#9054, first#9055, valueSet#9056, first#9057, valueSet#9058, first#9059, valueSet#9060, first#9061, valueSet#9062, first#9063, valueSet#9064, first#9065, valueSet#9066, first#9067, valueSet#9068, first#9069, valueSet#9070, first#9071, valueSet#9072, first#9073, valueSet#9074, first#9075, ... 125 more fields])\n+- *(5) Sort [uniqueIdColumn#1256L ASC NULLS FIRST], false, 0\n   +- *(5) Project [VendorID#1653, passenger_count#1687, RateCodeID#2027, PUBorough#845, PUZone#868, PUServiceZone#891, PUneighbor#914, uniqueIdColumn#1256L, AirportPU#1302, PUHour#1378, PUMinute#1523, MorningRushHour#1433, EveningRushHour#1462, PUDay#1492, PU_DOW#1554, Weekend#1586, WorkingHour#1619, PLocationID#2068, DLocationID#2136, windDir#2541, Events#2545, Condition#2546, temp#3017, windChill#3018, ... 51 more fields]\n      +- *(5) BroadcastHashJoin [PUneighbor#914], [neighborhood#3335], LeftOuter, BuildRight\n         :- SortAggregate(key=[uniqueIdColumn#1256L], functions=[first(VendorID#1653, false), first(passenger_count#1687, false), first(RateCodeID#2027, false), first(PUBorough#845, false), first(PUZone#868, false), first(PUServiceZone#891, false), first(PUneighbor#914, false), first(AirportPU#1302, false), first(PUHour#1378, false), first(PUMinute#1523, false), first(MorningRushHour#1433, false), first(EveningRushHour#1462, false), first(PUDay#1492, false), first(PU_DOW#1554, false), first(Weekend#1586, false), first(WorkingHour#1619, false), first(PLocationID#2068, false), first(DLocationID#2136, false), first(windDir#2541, false), first(Events#2545, false), first(Condition#2546, false), first(temp#3017, false), first(windChill#3018, false), first(dewpoint#3019, false), ... 7 more fields], output=[VendorID#1653, passenger_count#1687, RateCodeID#2027, PUBorough#845, PUZone#868, PUServiceZone#891, PUneighbor#914, uniqueIdColumn#1256L, AirportPU#1302, PUHour#1378, PUMinute#1523, MorningRushHour#1433, EveningRushHour#1462, PUDay#1492, PU_DOW#1554, Weekend#1586, WorkingHour#1619, PLocationID#2068, DLocationID#2136, windDir#2541, Events#2545, Condition#2546, temp#3017, windChill#3018, ... 8 more fields])\n         :  +- *(3) Sort [uniqueIdColumn#1256L ASC NULLS FIRST], false, 0\n         :     +- Exchange hashpartitioning(uniqueIdColumn#1256L, 200)\n         :        +- SortAggregate(key=[uniqueIdColumn#1256L], functions=[partial_first(VendorID#1653, false), partial_first(passenger_count#1687, false), partial_first(RateCodeID#2027, false), partial_first(PUBorough#845, false), partial_first(PUZone#868, false), partial_first(PUServiceZone#891, false), partial_first(PUneighbor#914, false), partial_first(AirportPU#1302, false), partial_first(PUHour#1378, false), partial_first(PUMinute#1523, false), partial_first(MorningRushHour#1433, false), partial_first(EveningRushHour#1462, false), partial_first(PUDay#1492, false), partial_first(PU_DOW#1554, false), partial_first(Weekend#1586, false), partial_first(WorkingHour#1619, false), partial_first(PLocationID#2068, false), partial_first(DLocationID#2136, false), partial_first(windDir#2541, false), partial_first(Events#2545, false), partial_first(Condition#2546, false), partial_first(temp#3017, false), partial_first(windChill#3018, false), partial_first(dewpoint#3019, false), ... 7 more fields], output=[uniqueIdColumn#1256L, first#9263, valueSet#9264, first#9265, valueSet#9266, first#9267, valueSet#9268, first#9269, valueSet#9270, first#9271, valueSet#9272, first#9273, valueSet#9274, first#9275, valueSet#9276, first#9277, valueSet#9278, first#9279, valueSet#9280, first#9281, valueSet#9282, first#9283, valueSet#9284, first#9285, ... 39 more fields])\n         :           +- *(2) Sort [uniqueIdColumn#1256L ASC NULLS FIRST], false, 0\n         :              +- *(2) Project [VendorID#1653, passenger_count#1687, RateCodeID#2027, PUBorough#845, PUZone#868, PUServiceZone#891, PUneighbor#914, uniqueIdColumn#1256L, AirportPU#1302, PUHour#1378, PUMinute#1523, MorningRushHour#1433, EveningRushHour#1462, PUDay#1492, PU_DOW#1554, Weekend#1586, WorkingHour#1619, PLocationID#2068, DLocationID#2136, windDir#2541, Events#2545, Condition#2546, temp#3017, windChill#3018, ... 8 more fields]\n         :                 +- *(2) BroadcastHashJoin [PUDate#1327, PUHour#1378], [date#2889, hour#3026], LeftOuter, BuildRight\n         :                    :- *(2) Project [cast(VendorID#54 as smallint) AS VendorID#1653, cast(passenger_count#57 as smallint) AS passenger_count#1687, cast(RateCodeID#59 as smallint) AS RateCodeID#2027, PUBorough#845, PUZone#868, PUServiceZone#891, PUneighbor#914, uniqueIdColumn#1256L, CASE WHEN (((PULocationID#61 = 138) || (PULocationID#61 = 132)) || (PULocationID#61 = 1)) THEN 1 ELSE 0 END AS AirportPU#1302, cast(split(tpep_pickup_datetime#55,  )[0] as date) AS PUDate#1327, cast(split(split(tpep_pickup_datetime#55,  )[1], :)[0] as int) AS PUHour#1378, (cast(split(split(tpep_pickup_datetime#55,  )[1], :)[1] as int) - (cast(split(split(tpep_pickup_datetime#55,  )[1], :)[1] as int) % 5)) AS PUMinute#1523, CASE WHEN ((cast(split(split(tpep_pickup_datetime#55,  )[1], :)[0] as int) >= 6) && (cast(split(split(tpep_pickup_datetime#55,  )[1], :)[0] as int) < 9)) THEN 1 ELSE 0 END AS MorningRushHour#1433, CASE WHEN ((cast(split(split(tpep_pickup_datetime#55,  )[1], :)[0] as int) >= 17) && (cast(split(split(tpep_pickup_datetime#55,  )[1], :)[0] as int) < 21)) THEN 1 ELSE 0 END AS EveningRushHour#1462, dayofyear(cast(split(tpep_pickup_datetime#55,  )[0] as date)) AS PUDay#1492, cast(date_format(cast(cast(split(tpep_pickup_datetime#55,  )[0] as date) as timestamp), u, Some(Etc/UTC)) as smallint) AS PU_DOW#1554, CASE WHEN ((cast(cast(date_format(cast(cast(split(tpep_pickup_datetime#55,  )[0] as date) as timestamp), u, Some(Etc/UTC)) as smallint) as int) = 7) || (cast(cast(date_format(cast(cast(split(tpep_pickup_datetime#55,  )[0] as date) as timestamp), u, Some(Etc/UTC)) as smallint) as int) = 6)) THEN 1 ELSE 0 END AS Weekend#1586, CASE WHEN (((cast(split(split(tpep_pickup_datetime#55,  )[1], :)[0] as int) >= 9) && (cast(split(split(tpep_pickup_datetime#55,  )[1], :)[0] as int) < 17)) && (CASE WHEN ((cast(cast(date_format(cast(cast(split(tpep_pickup_datetime#55,  )[0] as date) as timestamp), u, Some(Etc/UTC)) as smallint) as int) = 7) || (cast(cast(date_format(cast(cast(split(tpep_pickup_datetime#55,  )[0] as date) as timestamp), u, Some(Etc/UTC)) as smallint) as int) = 6)) THEN 1 ELSE 0 END = 0)) THEN 1 ELSE 0 END AS WorkingHour#1619, cast(PULocationID#61 as int) AS PLocationID#2068, cast(DOLocationID#62 as int) AS DLocationID#2136]\n         :                    :  +- *(2) Filter (((((((((((((((((isnotnull(tip_amount#67) && isnotnull(extra#65)) && isnotnull(improvement_surcharge#69)) && isnotnull(total_amount#70)) && isnotnull(fare_amount#64)) && isnotnull(PUBorough#845)) && isnotnull(tolls_amount#68)) && isnotnull(mta_tax#66)) && NOT (PUBorough#845 = Unknown)) && (cast(tip_amount#67 as float) >= 0.0)) && (cast(cast(tolls_amount#68 as float) as double) >= 0.0)) && (cast(cast(total_amount#70 as float) as double) >= 3.3)) && (cast(cast(extra#65 as float) as double) >= 0.0)) && (cast(cast(fare_amount#64 as float) as double) >= 2.5)) && (cast(cast(improvement_surcharge#69 as float) as double) >= 0.3)) && (cast(cast(mta_tax#66 as float) as double) >= 0.5)) && cast(PULocationID#61 as int) INSET (249,234,88,170,120,202,142,153,42,24,125,152,261,164,211,238,116,243,74,233,137,229,224,141,13,41,128,237,105,244,166,148,45,161,12,144,236,113,230,103,140,162,209,194,48,263,50,127,143,43,231,87,104,158,186,114,75,246,151,262,107,239,4,79,163,68,90,232,100)) && cast(DOLocationID#62 as int) INSET (249,234,88,170,120,202,142,153,42,24,125,152,261,164,211,238,116,243,74,233,137,229,224,141,13,41,128,237,105,244,166,148,45,161,12,144,236,113,230,103,140,162,209,194,48,263,50,127,143,43,231,87,104,158,186,114,75,246,151,262,107,239,4,79,163,68,90,232,100))\n         :                    :     +- *(2) Project [VendorID#54, tpep_pickup_datetime#55, passenger_count#57, RatecodeID#59, PULocationID#61, DOLocationID#62, fare_amount#64, extra#65, mta_tax#66, tip_amount#67, tolls_amount#68, improvement_surcharge#69, total_amount#70, PUBorough#845, PUZone#868, PUServiceZone#891, PUneighbor#914, monotonically_increasing_id() AS uniqueIdColumn#1256L]\n         :                    :        +- InMemoryTableScan [VendorID#54, tpep_pickup_datetime#55, tpep_dropoff_datetime#56, passenger_count#57, trip_distance#58, RatecodeID#59, store_and_fwd_flag#60, PULocationID#61, DOLocationID#62, payment_type#63, fare_amount#64, extra#65, mta_tax#66, tip_amount#67, tolls_amount#68, improvement_surcharge#69, total_amount#70, LocationID#769, PUBorough#845, PUZone#868, PUServiceZone#891, PUneighbor#914]\n         :                    :              +- InMemoryRelation [VendorID#54, tpep_pickup_datetime#55, tpep_dropoff_datetime#56, passenger_count#57, trip_distance#58, RatecodeID#59, store_and_fwd_flag#60, PULocationID#61, DOLocationID#62, payment_type#63, fare_amount#64, extra#65, mta_tax#66, tip_amount#67, tolls_amount#68, improvement_surcharge#69, total_amount#70, LocationID#769, PUBorough#845, PUZone#868, PUServiceZone#891, PUneighbor#914], true, 10000, StorageLevel(disk, memory, deserialized, 1 replicas)\n         :                    :                    +- *(14) Project [VendorID#54, tpep_pickup_datetime#55, tpep_dropoff_datetime#56, passenger_count#57, trip_distance#58, RatecodeID#59, store_and_fwd_flag#60, PULocationID#61, DOLocationID#62, payment_type#63, fare_amount#64, extra#65, mta_tax#66, tip_amount#67, tolls_amount#68, improvement_surcharge#69, total_amount#70, LocationID#769, Borough#770 AS PUBorough#845, Zone#771 AS PUZone#868, service_zone#772 AS PUServiceZone#891, neighborhood#773 AS PUneighbor#914]\n         :                    :                       +- *(14) BroadcastHashJoin [PULocationID#61], [LocationID#769], LeftOuter, BuildRight\n         :                    :                          :- Union\n         :                    :                          :  :- *(1) FileScan csv [VendorID#54,tpep_pickup_datetime#55,tpep_dropoff_datetime#56,passenger_count#57,trip_distance#58,RatecodeID#59,store_and_fwd_flag#60,PULocationID#61,DOLocationID#62,payment_type#63,fare_amount#64,extra#65,mta_tax#66,tip_amount#67,tolls_amount#68,improvement_surcharge#69,total_amount#70] Batched: false, Format: CSV, Location: InMemoryFileIndex[file:/home/jovyan/work/PROJECT/yellow_tripdata_2017-01.csv], PartitionFilters: [], PushedFilters: [], ReadSchema: struct<VendorID:string,tpep_pickup_datetime:string,tpep_dropoff_datetime:string,passenger_count:s...\n         :                    :                          :  :- *(2) FileScan csv [VendorID#98,tpep_pickup_datetime#99,tpep_dropoff_datetime#100,passenger_count#101,trip_distance#102,RatecodeID#103,store_and_fwd_flag#104,PULocationID#105,DOLocationID#106,payment_type#107,fare_amount#108,extra#109,mta_tax#110,tip_amount#111,tolls_amount#112,improvement_surcharge#113,total_amount#114] Batched: false, Format: CSV, Location: InMemoryFileIndex[file:/home/jovyan/work/PROJECT/yellow_tripdata_2017-02.csv], PartitionFilters: [], PushedFilters: [], ReadSchema: struct<VendorID:string,tpep_pickup_datetime:string,tpep_dropoff_datetime:string,passenger_count:s...\n         :                    :                          :  :- *(3) FileScan csv [VendorID#159,tpep_pickup_datetime#160,tpep_dropoff_datetime#161,passenger_count#162,trip_distance#163,RatecodeID#164,store_and_fwd_flag#165,PULocationID#166,DOLocationID#167,payment_type#168,fare_amount#169,extra#170,mta_tax#171,tip_amount#172,tolls_amount#173,improvement_surcharge#174,total_amount#175] Batched: false, Format: CSV, Location: InMemoryFileIndex[file:/home/jovyan/work/PROJECT/yellow_tripdata_2017-03.csv], PartitionFilters: [], PushedFilters: [], ReadSchema: struct<VendorID:string,tpep_pickup_datetime:string,tpep_dropoff_datetime:string,passenger_count:s...\n         :                    :                          :  :- *(4) FileScan csv [VendorID#220,tpep_pickup_datetime#221,tpep_dropoff_datetime#222,passenger_count#223,trip_distance#224,RatecodeID#225,store_and_fwd_flag#226,PULocationID#227,DOLocationID#228,payment_type#229,fare_amount#230,extra#231,mta_tax#232,tip_amount#233,tolls_amount#234,improvement_surcharge#235,total_amount#236] Batched: false, Format: CSV, Location: InMemoryFileIndex[file:/home/jovyan/work/PROJECT/yellow_tripdata_2017-04.csv], PartitionFilters: [], PushedFilters: [], ReadSchema: struct<VendorID:string,tpep_pickup_datetime:string,tpep_dropoff_datetime:string,passenger_count:s...\n         :                    :                          :  :- *(5) FileScan csv [VendorID#281,tpep_pickup_datetime#282,tpep_dropoff_datetime#283,passenger_count#284,trip_distance#285,RatecodeID#286,store_and_fwd_flag#287,PULocationID#288,DOLocationID#289,payment_type#290,fare_amount#291,extra#292,mta_tax#293,tip_amount#294,tolls_amount#295,improvement_surcharge#296,total_amount#297] Batched: false, Format: CSV, Location: InMemoryFileIndex[file:/home/jovyan/work/PROJECT/yellow_tripdata_2017-05.csv], PartitionFilters: [], PushedFilters: [], ReadSchema: struct<VendorID:string,tpep_pickup_datetime:string,tpep_dropoff_datetime:string,passenger_count:s...\n         :                    :                          :  :- *(6) FileScan csv [VendorID#342,tpep_pickup_datetime#343,tpep_dropoff_datetime#344,passenger_count#345,trip_distance#346,RatecodeID#347,store_and_fwd_flag#348,PULocationID#349,DOLocationID#350,payment_type#351,fare_amount#352,extra#353,mta_tax#354,tip_amount#355,tolls_amount#356,improvement_surcharge#357,total_amount#358] Batched: false, Format: CSV, Location: InMemoryFileIndex[file:/home/jovyan/work/PROJECT/yellow_tripdata_2017-06.csv], PartitionFilters: [], PushedFilters: [], ReadSchema: struct<VendorID:string,tpep_pickup_datetime:string,tpep_dropoff_datetime:string,passenger_count:s...\n         :                    :                          :  :- *(7) FileScan csv [VendorID#403,tpep_pickup_datetime#404,tpep_dropoff_datetime#405,passenger_count#406,trip_distance#407,RatecodeID#408,store_and_fwd_flag#409,PULocationID#410,DOLocationID#411,payment_type#412,fare_amount#413,extra#414,mta_tax#415,tip_amount#416,tolls_amount#417,improvement_surcharge#418,total_amount#419] Batched: false, Format: CSV, Location: InMemoryFileIndex[file:/home/jovyan/work/PROJECT/yellow_tripdata_2017-07.csv], PartitionFilters: [], PushedFilters: [], ReadSchema: struct<VendorID:string,tpep_pickup_datetime:string,tpep_dropoff_datetime:string,passenger_count:s...\n         :                    :                          :  :- *(8) FileScan csv [VendorID#464,tpep_pickup_datetime#465,tpep_dropoff_datetime#466,passenger_count#467,trip_distance#468,RatecodeID#469,store_and_fwd_flag#470,PULocationID#471,DOLocationID#472,payment_type#473,fare_amount#474,extra#475,mta_tax#476,tip_amount#477,tolls_amount#478,improvement_surcharge#479,total_amount#480] Batched: false, Format: CSV, Location: InMemoryFileIndex[file:/home/jovyan/work/PROJECT/yellow_tripdata_2017-08.csv], PartitionFilters: [], PushedFilters: [], ReadSchema: struct<VendorID:string,tpep_pickup_datetime:string,tpep_dropoff_datetime:string,passenger_count:s...\n         :                    :                          :  :- *(9) FileScan csv [VendorID#525,tpep_pickup_datetime#526,tpep_dropoff_datetime#527,passenger_count#528,trip_distance#529,RatecodeID#530,store_and_fwd_flag#531,PULocationID#532,DOLocationID#533,payment_type#534,fare_amount#535,extra#536,mta_tax#537,tip_amount#538,tolls_amount#539,improvement_surcharge#540,total_amount#541] Batched: false, Format: CSV, Location: InMemoryFileIndex[file:/home/jovyan/work/PROJECT/yellow_tripdata_2017-09.csv], PartitionFilters: [], PushedFilters: [], ReadSchema: struct<VendorID:string,tpep_pickup_datetime:string,tpep_dropoff_datetime:string,passenger_count:s...\n         :                    :                          :  :- *(10) FileScan csv [VendorID#586,tpep_pickup_datetime#587,tpep_dropoff_datetime#588,passenger_count#589,trip_distance#590,RatecodeID#591,store_and_fwd_flag#592,PULocationID#593,DOLocationID#594,payment_type#595,fare_amount#596,extra#597,mta_tax#598,tip_amount#599,tolls_amount#600,improvement_surcharge#601,total_amount#602] Batched: false, Format: CSV, Location: InMemoryFileIndex[file:/home/jovyan/work/PROJECT/yellow_tripdata_2017-10.csv], PartitionFilters: [], PushedFilters: [], ReadSchema: struct<VendorID:string,tpep_pickup_datetime:string,tpep_dropoff_datetime:string,passenger_count:s...\n         :                    :                          :  :- *(11) FileScan csv [VendorID#647,tpep_pickup_datetime#648,tpep_dropoff_datetime#649,passenger_count#650,trip_distance#651,RatecodeID#652,store_and_fwd_flag#653,PULocationID#654,DOLocationID#655,payment_type#656,fare_amount#657,extra#658,mta_tax#659,tip_amount#660,tolls_amount#661,improvement_surcharge#662,total_amount#663] Batched: false, Format: CSV, Location: InMemoryFileIndex[file:/home/jovyan/work/PROJECT/yellow_tripdata_2017-11.csv], PartitionFilters: [], PushedFilters: [], ReadSchema: struct<VendorID:string,tpep_pickup_datetime:string,tpep_dropoff_datetime:string,passenger_count:s...\n         :                    :                          :  +- *(12) FileScan csv [VendorID#708,tpep_pickup_datetime#709,tpep_dropoff_datetime#710,passenger_count#711,trip_distance#712,RatecodeID#713,store_and_fwd_flag#714,PULocationID#715,DOLocationID#716,payment_type#717,fare_amount#718,extra#719,mta_tax#720,tip_amount#721,tolls_amount#722,improvement_surcharge#723,total_amount#724] Batched: false, Format: CSV, Location: InMemoryFileIndex[file:/home/jovyan/work/PROJECT/yellow_tripdata_2017-12.csv], PartitionFilters: [], PushedFilters: [], ReadSchema: struct<VendorID:string,tpep_pickup_datetime:string,tpep_dropoff_datetime:string,passenger_count:s...\n         :                    :                          +- BroadcastExchange HashedRelationBroadcastMode(List(input[0, string, true]))\n         :                    :                             +- *(13) FileScan csv [LocationID#769,Borough#770,Zone#771,service_zone#772,neighborhood#773] Batched: false, Format: CSV, Location: InMemoryFileIndex[file:/home/jovyan/work/PROJECT/taxi+_zone_lookup.csv], PartitionFilters: [], PushedFilters: [], ReadSchema: struct<LocationID:string,Borough:string,Zone:string,service_zone:string,neighborhood:string>\n         :                    +- BroadcastExchange HashedRelationBroadcastMode(List(input[0, date, true], input[14, int, false]))\n         :                       +- *(1) Project [cast(date#2533 as date) AS date#2889, windDir#2541, Events#2545, Condition#2546, coalesce(nanvl(cast(tempTemperature#2535 as double), null), 0.0) AS temp#3017, coalesce(nanvl(cast(tempFeelsLike#2536 as double), null), 0.0) AS windChill#3018, coalesce(nanvl(cast(tempDewpoint#2537 as double), null), 0.0) AS dewpoint#3019, coalesce(nanvl(cast(tempHumidity#2538 as double), null), 0.0) AS humidity#3020, coalesce(nanvl(cast(tempPressure#2539 as double), null), 0.0) AS pressure#3021, coalesce(nanvl(cast(tempVisibility#2540 as double), null), 0.0) AS visibility#3022, coalesce(nanvl(cast(tempWindSpeed#2542 as double), null), 0.0) AS windSpeed#3023, coalesce(nanvl(cast(tempGustSpeed#2543 as double), null), 0.0) AS gustSpeed#3024, coalesce(nanvl(cast(tempPrecip#2544 as double), null), 0.0) AS Precip#3025, split(split(time#2534, :)[1],  )[1] AS period#2904, coalesce(CASE WHEN (split(split(time#2534, :)[1],  )[1] = PM) THEN ((cast(split(time#2534, :)[0] as int) % 12) + 12) ELSE (cast(split(time#2534, :)[0] as int) % 12) END, 0) AS hour#3026]\n         :                          +- *(1) FileScan csv [date#2533,time#2534,tempTemperature#2535,tempFeelsLike#2536,tempDewpoint#2537,tempHumidity#2538,tempPressure#2539,tempVisibility#2540,windDir#2541,tempWindSpeed#2542,tempGustSpeed#2543,tempPrecip#2544,Events#2545,Condition#2546] Batched: false, Format: CSV, Location: InMemoryFileIndex[file:/home/jovyan/work/PROJECT/weather.csv], PartitionFilters: [], PushedFilters: [], ReadSchema: struct<date:string,time:string,tempTemperature:string,tempFeelsLike:string,tempDewpoint:string,te...\n         +- BroadcastExchange HashedRelationBroadcastMode(List(input[0, string, true]))\n            +- *(4) Project [neighborhood#3335, cast(alone_hhld#3336 as float) AS PUalone_hhld#3687, cast(bachelor_higher#3337 as float) AS PUbachelor_higher#3777, cast(bornstate#3338 as float) AS PUbornstate#3867, cast(carfree#3339 as float) AS PUcarfree#3957, cast(commutetime#3340 as float) AS PUcommutetime#4047, cast(disabled#3341 as float) AS PUdisabled#4137, cast(disconnected#3342 as float) AS PUdisconnected#4227, cast(foreign#3343 as float) AS PUforeign#4317, cast(gross_rent_adj#3344 as float) AS PUgross_rent_adj#4407, cast(hhu18#3345 as float) AS PUhhu18#4497, cast(homeownership#3346 as float) AS PUhomeownership#4587, cast(housing_units#3347 as float) AS PUhousing_units#4677, cast(income_diversity_ratio#3348 as float) AS PUincome_diversity_ratio#4767, cast(laborforcerate#3349 as float) AS PUlaborforcerate#4857, cast(medhhincome_adj#3350 as float) AS PUmedhhincome_adj#4947, cast(medhhincome_own_adj#3351 as float) AS PUmedhhincome_own_adj#5037, cast(medhhincome_rent_adj#3352 as float) AS PUmedhhincome_rent_adj#5127, cast(nohsdiploma#3353 as float) AS PUnohsdiploma#5217, cast(park_share#3354 as float) AS PUpark_share#5307, cast(pasian#3355 as float) AS PUpasian#5397, cast(pblack#3356 as float) AS PUpblack#5487, cast(phisp#3357 as float) AS PUphisp#5577, cast(pop65#3358 as float) AS PUpop65#5667, ... 20 more fields]\n               +- InMemoryTableScan [alone_hhld#3336, bachelor_higher#3337, bornstate#3338, carfree#3339, commutetime#3340, disabled#3341, disconnected#3342, foreign#3343, gross_rent_adj#3344, hhu18#3345, homeownership#3346, housing_units#3347, income_diversity_ratio#3348, laborforcerate#3349, medhhincome_adj#3350, medhhincome_own_adj#3351, medhhincome_rent_adj#3352, neighborhood#3335, nohsdiploma#3353, park_share#3354, pasian#3355, pblack#3356, phisp#3357, pop65#3358, ... 20 more fields]\n                     +- InMemoryRelation [neighborhood#3335, alone_hhld#3336, bachelor_higher#3337, bornstate#3338, carfree#3339, commutetime#3340, disabled#3341, disconnected#3342, foreign#3343, gross_rent_adj#3344, hhu18#3345, homeownership#3346, housing_units#3347, income_diversity_ratio#3348, laborforcerate#3349, medhhincome_adj#3350, medhhincome_own_adj#3351, medhhincome_rent_adj#3352, nohsdiploma#3353, park_share#3354, pasian#3355, pblack#3356, phisp#3357, pop65#3358, ... 20 more fields], true, 10000, StorageLevel(disk, memory, deserialized, 1 replicas)\n                           +- *(1) FileScan csv [neighborhood#3335,alone_hhld#3336,bachelor_higher#3337,bornstate#3338,carfree#3339,commutetime#3340,disabled#3341,disconnected#3342,foreign#3343,gross_rent_adj#3344,hhu18#3345,homeownership#3346,housing_units#3347,income_diversity_ratio#3348,laborforcerate#3349,medhhincome_adj#3350,medhhincome_own_adj#3351,medhhincome_rent_adj#3352,nohsdiploma#3353,park_share#3354,pasian#3355,pblack#3356,phisp#3357,pop65#3358,... 20 more fields] Batched: false, Format: CSV, Location: InMemoryFileIndex[file:/home/jovyan/work/PROJECT/demographics.csv], PartitionFilters: [], PushedFilters: [], ReadSchema: struct<neighborhood:string,alone_hhld:string,bachelor_higher:string,bornstate:string,carfree:stri...\n\n\tat org.apache.spark.sql.catalyst.errors.package$.attachTree(package.scala:56)\n\tat org.apache.spark.sql.execution.aggregate.SortAggregateExec.doExecute(SortAggregateExec.scala:75)\n\tat org.apache.spark.sql.execution.SparkPlan$$anonfun$execute$1.apply(SparkPlan.scala:131)\n\tat org.apache.spark.sql.execution.SparkPlan$$anonfun$execute$1.apply(SparkPlan.scala:127)\n\tat org.apache.spark.sql.execution.SparkPlan$$anonfun$executeQuery$1.apply(SparkPlan.scala:155)\n\tat org.apache.spark.rdd.RDDOperationScope$.withScope(RDDOperationScope.scala:151)\n\tat org.apache.spark.sql.execution.SparkPlan.executeQuery(SparkPlan.scala:152)\n\tat org.apache.spark.sql.execution.SparkPlan.execute(SparkPlan.scala:127)\n\tat org.apache.spark.sql.execution.aggregate.SortAggregateExec$$anonfun$doExecute$1.apply(SortAggregateExec.scala:77)\n\tat org.apache.spark.sql.execution.aggregate.SortAggregateExec$$anonfun$doExecute$1.apply(SortAggregateExec.scala:75)\n\tat org.apache.spark.sql.catalyst.errors.package$.attachTree(package.scala:52)\n\t... 35 more\nCaused by: java.util.concurrent.TimeoutException: Futures timed out after [300 seconds]\n\tat scala.concurrent.impl.Promise$DefaultPromise.ready(Promise.scala:219)\n\tat scala.concurrent.impl.Promise$DefaultPromise.result(Promise.scala:223)\n\tat org.apache.spark.util.ThreadUtils$.awaitResult(ThreadUtils.scala:201)\n\tat org.apache.spark.sql.execution.exchange.BroadcastExchangeExec.doExecuteBroadcast(BroadcastExchangeExec.scala:136)\n\tat org.apache.spark.sql.execution.InputAdapter.doExecuteBroadcast(WholeStageCodegenExec.scala:367)\n\tat org.apache.spark.sql.execution.SparkPlan$$anonfun$executeBroadcast$1.apply(SparkPlan.scala:144)\n\tat org.apache.spark.sql.execution.SparkPlan$$anonfun$executeBroadcast$1.apply(SparkPlan.scala:140)\n\tat org.apache.spark.sql.execution.SparkPlan$$anonfun$executeQuery$1.apply(SparkPlan.scala:155)\n\tat org.apache.spark.rdd.RDDOperationScope$.withScope(RDDOperationScope.scala:151)\n\tat org.apache.spark.sql.execution.SparkPlan.executeQuery(SparkPlan.scala:152)\n\tat org.apache.spark.sql.execution.SparkPlan.executeBroadcast(SparkPlan.scala:140)\n\tat org.apache.spark.sql.execution.joins.BroadcastHashJoinExec.prepareBroadcast(BroadcastHashJoinExec.scala:135)\n\tat org.apache.spark.sql.execution.joins.BroadcastHashJoinExec.codegenOuter(BroadcastHashJoinExec.scala:280)\n\tat org.apache.spark.sql.execution.joins.BroadcastHashJoinExec.doConsume(BroadcastHashJoinExec.scala:103)\n\tat org.apache.spark.sql.execution.CodegenSupport$class.consume(WholeStageCodegenExec.scala:181)\n\tat org.apache.spark.sql.execution.InputAdapter.consume(WholeStageCodegenExec.scala:354)\n\tat org.apache.spark.sql.execution.InputAdapter.doProduce(WholeStageCodegenExec.scala:383)\n\tat org.apache.spark.sql.execution.CodegenSupport$$anonfun$produce$1.apply(WholeStageCodegenExec.scala:88)\n\tat org.apache.spark.sql.execution.CodegenSupport$$anonfun$produce$1.apply(WholeStageCodegenExec.scala:83)\n\tat org.apache.spark.sql.execution.SparkPlan$$anonfun$executeQuery$1.apply(SparkPlan.scala:155)\n\tat org.apache.spark.rdd.RDDOperationScope$.withScope(RDDOperationScope.scala:151)\n\tat org.apache.spark.sql.execution.SparkPlan.executeQuery(SparkPlan.scala:152)\n\tat org.apache.spark.sql.execution.CodegenSupport$class.produce(WholeStageCodegenExec.scala:83)\n\tat org.apache.spark.sql.execution.InputAdapter.produce(WholeStageCodegenExec.scala:354)\n\tat org.apache.spark.sql.execution.joins.BroadcastHashJoinExec.doProduce(BroadcastHashJoinExec.scala:97)\n\tat org.apache.spark.sql.execution.CodegenSupport$$anonfun$produce$1.apply(WholeStageCodegenExec.scala:88)\n\tat org.apache.spark.sql.execution.CodegenSupport$$anonfun$produce$1.apply(WholeStageCodegenExec.scala:83)\n\tat org.apache.spark.sql.execution.SparkPlan$$anonfun$executeQuery$1.apply(SparkPlan.scala:155)\n\tat org.apache.spark.rdd.RDDOperationScope$.withScope(RDDOperationScope.scala:151)\n\tat org.apache.spark.sql.execution.SparkPlan.executeQuery(SparkPlan.scala:152)\n\tat org.apache.spark.sql.execution.CodegenSupport$class.produce(WholeStageCodegenExec.scala:83)\n\tat org.apache.spark.sql.execution.joins.BroadcastHashJoinExec.produce(BroadcastHashJoinExec.scala:39)\n\tat org.apache.spark.sql.execution.ProjectExec.doProduce(basicPhysicalOperators.scala:45)\n\tat org.apache.spark.sql.execution.CodegenSupport$$anonfun$produce$1.apply(WholeStageCodegenExec.scala:88)\n\tat org.apache.spark.sql.execution.CodegenSupport$$anonfun$produce$1.apply(WholeStageCodegenExec.scala:83)\n\tat org.apache.spark.sql.execution.SparkPlan$$anonfun$executeQuery$1.apply(SparkPlan.scala:155)\n\tat org.apache.spark.rdd.RDDOperationScope$.withScope(RDDOperationScope.scala:151)\n\tat org.apache.spark.sql.execution.SparkPlan.executeQuery(SparkPlan.scala:152)\n\tat org.apache.spark.sql.execution.CodegenSupport$class.produce(WholeStageCodegenExec.scala:83)\n\tat org.apache.spark.sql.execution.ProjectExec.produce(basicPhysicalOperators.scala:35)\n\tat org.apache.spark.sql.execution.SortExec.doProduce(SortExec.scala:153)\n\tat org.apache.spark.sql.execution.CodegenSupport$$anonfun$produce$1.apply(WholeStageCodegenExec.scala:88)\n\tat org.apache.spark.sql.execution.CodegenSupport$$anonfun$produce$1.apply(WholeStageCodegenExec.scala:83)\n\tat org.apache.spark.sql.execution.SparkPlan$$anonfun$executeQuery$1.apply(SparkPlan.scala:155)\n\tat org.apache.spark.rdd.RDDOperationScope$.withScope(RDDOperationScope.scala:151)\n\tat org.apache.spark.sql.execution.SparkPlan.executeQuery(SparkPlan.scala:152)\n\tat org.apache.spark.sql.execution.CodegenSupport$class.produce(WholeStageCodegenExec.scala:83)\n\tat org.apache.spark.sql.execution.SortExec.produce(SortExec.scala:37)\n\tat org.apache.spark.sql.execution.WholeStageCodegenExec.doCodeGen(WholeStageCodegenExec.scala:524)\n\tat org.apache.spark.sql.execution.WholeStageCodegenExec.doExecute(WholeStageCodegenExec.scala:576)\n\tat org.apache.spark.sql.execution.SparkPlan$$anonfun$execute$1.apply(SparkPlan.scala:131)\n\tat org.apache.spark.sql.execution.SparkPlan$$anonfun$execute$1.apply(SparkPlan.scala:127)\n\tat org.apache.spark.sql.execution.SparkPlan$$anonfun$executeQuery$1.apply(SparkPlan.scala:155)\n\tat org.apache.spark.rdd.RDDOperationScope$.withScope(RDDOperationScope.scala:151)\n\tat org.apache.spark.sql.execution.SparkPlan.executeQuery(SparkPlan.scala:152)\n\tat org.apache.spark.sql.execution.SparkPlan.execute(SparkPlan.scala:127)\n\tat org.apache.spark.sql.execution.aggregate.SortAggregateExec$$anonfun$doExecute$1.apply(SortAggregateExec.scala:77)\n\tat org.apache.spark.sql.execution.aggregate.SortAggregateExec$$anonfun$doExecute$1.apply(SortAggregateExec.scala:75)\n\tat org.apache.spark.sql.catalyst.errors.package$.attachTree(package.scala:52)\n\t... 45 more\n"
     ]
    }
   ],
   "source": [
    "#dropping only 0.004527722963% of the data\n",
    "jan_2017 = jan_2017.na.drop().cache()"
   ]
  },
  {
   "cell_type": "code",
   "execution_count": null,
   "metadata": {},
   "outputs": [],
   "source": [
    "# jan_2017.show(100)"
   ]
  },
  {
   "cell_type": "code",
   "execution_count": null,
   "metadata": {},
   "outputs": [],
   "source": [
    "# jan_2017.printSchema()"
   ]
  },
  {
   "cell_type": "code",
   "execution_count": null,
   "metadata": {},
   "outputs": [],
   "source": [
    "indexer = StringIndexer(inputCol=\"PUZone\", outputCol=\"PUZoneIndex\")\n",
    "jan_2017 = indexer.fit(jan_2017).transform(jan_2017)\n",
    "encoder = OneHotEncoder(inputCol='PUZoneIndex', outputCol=\"PUZoneVect\")\n",
    "jan_2017 = encoder.transform(jan_2017).drop('PUZoneIndex')"
   ]
  },
  {
   "cell_type": "code",
   "execution_count": null,
   "metadata": {},
   "outputs": [],
   "source": [
    "encoder = OneHotEncoder(inputCol='RateCodeID', outputCol=\"RateCodeIDVect\")\n",
    "jan_2017 = encoder.transform(jan_2017).drop('RateCodeID')"
   ]
  },
  {
   "cell_type": "code",
   "execution_count": null,
   "metadata": {},
   "outputs": [],
   "source": [
    "encoder = OneHotEncoder(inputCol='PLocationID', outputCol=\"PLocationIDVect\")\n",
    "jan_2017 = encoder.transform(jan_2017).drop('PLocationID')"
   ]
  },
  {
   "cell_type": "code",
   "execution_count": null,
   "metadata": {},
   "outputs": [],
   "source": [
    "# # indexer = StringIndexer(inputCol=\"PUBorough\", outputCol=\"PUBoroughIndex\")\n",
    "# # jan_2017 = indexer.fit(jan_2017).transform(jan_2017)\n",
    "# # encoder = OneHotEncoder(inputCol='PUBoroughIndex', outputCol=\"PUBoroughVect\")\n",
    "# jan_2017 = jan_2017.drop('PUBoroughIndex')"
   ]
  },
  {
   "cell_type": "code",
   "execution_count": null,
   "metadata": {},
   "outputs": [],
   "source": [
    "indexer = StringIndexer(inputCol=\"PUServiceZone\", outputCol=\"PUServiceZoneIndex\")\n",
    "jan_2017 = indexer.fit(jan_2017).transform(jan_2017)\n",
    "encoder = OneHotEncoder(inputCol='PUServiceZoneIndex', outputCol=\"PUServiceZoneVect\")\n",
    "jan_2017 = encoder.transform(jan_2017).drop('PUServiceZoneIndex')"
   ]
  },
  {
   "cell_type": "code",
   "execution_count": null,
   "metadata": {},
   "outputs": [],
   "source": [
    "encoder = OneHotEncoder(inputCol='PU_DOW', outputCol=\"PU_DOWVect\")\n",
    "jan_2017 = encoder.transform(jan_2017).drop('PU_DOW')"
   ]
  },
  {
   "cell_type": "code",
   "execution_count": null,
   "metadata": {},
   "outputs": [],
   "source": [
    "indexer = StringIndexer(inputCol=\"Events\", outputCol=\"EventsIndex\")\n",
    "jan_2017 = indexer.fit(jan_2017).transform(jan_2017)\n",
    "encoder = OneHotEncoder(inputCol='EventsIndex', outputCol=\"EventsVector\")\n",
    "jan_2017 = encoder.transform(jan_2017).drop('EventsIndex')"
   ]
  },
  {
   "cell_type": "code",
   "execution_count": null,
   "metadata": {},
   "outputs": [],
   "source": [
    "indexer = StringIndexer(inputCol=\"Condition\", outputCol=\"ConditionsIndex\")\n",
    "jan_2017 = indexer.fit(jan_2017).transform(jan_2017)\n",
    "\n",
    "encoder = OneHotEncoder(inputCol='ConditionsIndex', outputCol=\"ConditionsVect\")\n",
    "jan_2017 = encoder.transform(jan_2017).drop('ConditionsIndex')"
   ]
  },
  {
   "cell_type": "code",
   "execution_count": null,
   "metadata": {},
   "outputs": [],
   "source": [
    "indexer = StringIndexer(inputCol=\"period\", outputCol=\"periodIndex\")\n",
    "jan_2017 = indexer.fit(jan_2017).transform(jan_2017)\n",
    "encoder = OneHotEncoder(inputCol='periodIndex', outputCol=\"periodVect\")\n",
    "jan_2017 = encoder.transform(jan_2017).drop('periodIndex')"
   ]
  },
  {
   "cell_type": "code",
   "execution_count": null,
   "metadata": {},
   "outputs": [],
   "source": [
    "encoder = OneHotEncoder(inputCol='PUDay', outputCol=\"PUDayVect\")\n",
    "jan_2017 = encoder.transform(jan_2017).drop('PUDay')"
   ]
  },
  {
   "cell_type": "code",
   "execution_count": null,
   "metadata": {},
   "outputs": [],
   "source": [
    "jan_2017.show(1)"
   ]
  },
  {
   "cell_type": "code",
   "execution_count": null,
   "metadata": {},
   "outputs": [],
   "source": [
    "indexer = StringIndexer(inputCol=\"windDir\", outputCol=\"windDirIndex\")\n",
    "jan_2017 = indexer.fit(jan_2017).transform(jan_2017)\n",
    "encoder = OneHotEncoder(inputCol='windDirIndex', outputCol=\"windDirVect\")\n",
    "jan_2017 = encoder.transform(jan_2017).drop('windDirIndex')"
   ]
  },
  {
   "cell_type": "code",
   "execution_count": null,
   "metadata": {},
   "outputs": [],
   "source": [
    "# Drop any string columns except 'PUZone'\n",
    "str_names = ['PUZone','tpep_pickup_datetime','tpep_dropoff_datetime','store_and_fwd_flag','PULocationID',\\\n",
    "             'LocationID','PUBorough','PUServiceZone','PUneighbor','PUTime','PUTemptime',\\\n",
    "             'windDir','Events','Condition','period','neighborhood','PUDate', 'PUTempdate']\n",
    "for col in str_names:\n",
    "    jan_2017=jan_2017.drop(col)"
   ]
  },
  {
   "cell_type": "code",
   "execution_count": null,
   "metadata": {},
   "outputs": [],
   "source": [
    "mapping_df = spark.read.format(\"csv\").load('mappings.csv', header = True)"
   ]
  },
  {
   "cell_type": "code",
   "execution_count": null,
   "metadata": {},
   "outputs": [],
   "source": [
    "# sampe = jan_2017.sample(False,0.0001,0).cache()\n",
    "sampe = jan_2017.join(mapping_df, jan_2017.DLocationID == mapping_df.taxi, \"left_outer\")"
   ]
  },
  {
   "cell_type": "code",
   "execution_count": null,
   "metadata": {},
   "outputs": [],
   "source": [
    "sampe.count()"
   ]
  },
  {
   "cell_type": "code",
   "execution_count": null,
   "metadata": {},
   "outputs": [],
   "source": [
    "sampe = sampe.withColumn(\"label\", sampe[\"label\"].cast(IntegerType())).drop('DLocationID').drop('taxi')"
   ]
  },
  {
   "cell_type": "code",
   "execution_count": null,
   "metadata": {},
   "outputs": [],
   "source": [
    "colum = sampe.schema.names"
   ]
  },
  {
   "cell_type": "code",
   "execution_count": null,
   "metadata": {},
   "outputs": [],
   "source": [
    "colum.remove('DLocationID')"
   ]
  },
  {
   "cell_type": "code",
   "execution_count": null,
   "metadata": {},
   "outputs": [],
   "source": [
    "assembler = VectorAssembler(\n",
    "    inputCols=colum,\n",
    "    outputCol=\"features\")"
   ]
  },
  {
   "cell_type": "code",
   "execution_count": null,
   "metadata": {},
   "outputs": [],
   "source": []
  },
  {
   "cell_type": "code",
   "execution_count": null,
   "metadata": {},
   "outputs": [],
   "source": [
    "output = assembler.transform(sampe)"
   ]
  },
  {
   "cell_type": "code",
   "execution_count": null,
   "metadata": {},
   "outputs": [],
   "source": [
    "# train = output.select([\"DLocationID\",\"features\"])"
   ]
  },
  {
   "cell_type": "code",
   "execution_count": null,
   "metadata": {},
   "outputs": [],
   "source": [
    "# train = train.withColumn(\"label\", train[\"DLocationID\"]).drop(\"DLocationID\")"
   ]
  },
  {
   "cell_type": "code",
   "execution_count": null,
   "metadata": {},
   "outputs": [],
   "source": [
    "# train.select('features').limit(1).collect()"
   ]
  },
  {
   "cell_type": "code",
   "execution_count": null,
   "metadata": {},
   "outputs": [],
   "source": [
    "# train = train.select([\"label\",\"features\"]).cache()"
   ]
  },
  {
   "cell_type": "code",
   "execution_count": null,
   "metadata": {},
   "outputs": [],
   "source": [
    "jan_2017.show(1)"
   ]
  },
  {
   "cell_type": "code",
   "execution_count": null,
   "metadata": {},
   "outputs": [],
   "source": [
    "train.show(1)"
   ]
  },
  {
   "cell_type": "code",
   "execution_count": null,
   "metadata": {},
   "outputs": [],
   "source": [
    "output.select(\"label\", \"features\").write.save(\"total.parquet\", format=\"parquet\")"
   ]
  },
  {
   "cell_type": "code",
   "execution_count": null,
   "metadata": {},
   "outputs": [],
   "source": []
  },
  {
   "cell_type": "code",
   "execution_count": null,
   "metadata": {},
   "outputs": [],
   "source": [
    "# output.select(\"*\").write.save(\"training3.json\", format=\"json\")"
   ]
  },
  {
   "cell_type": "code",
   "execution_count": null,
   "metadata": {},
   "outputs": [],
   "source": []
  },
  {
   "cell_type": "code",
   "execution_count": null,
   "metadata": {},
   "outputs": [],
   "source": []
  },
  {
   "cell_type": "code",
   "execution_count": null,
   "metadata": {},
   "outputs": [],
   "source": []
  },
  {
   "cell_type": "code",
   "execution_count": null,
   "metadata": {},
   "outputs": [],
   "source": []
  },
  {
   "cell_type": "code",
   "execution_count": null,
   "metadata": {},
   "outputs": [],
   "source": []
  },
  {
   "cell_type": "code",
   "execution_count": null,
   "metadata": {},
   "outputs": [],
   "source": []
  },
  {
   "cell_type": "code",
   "execution_count": null,
   "metadata": {},
   "outputs": [],
   "source": []
  }
 ],
 "metadata": {
  "kernelspec": {
   "display_name": "Python 3",
   "language": "python",
   "name": "python3"
  },
  "language_info": {
   "codemirror_mode": {
    "name": "ipython",
    "version": 3
   },
   "file_extension": ".py",
   "mimetype": "text/x-python",
   "name": "python",
   "nbconvert_exporter": "python",
   "pygments_lexer": "ipython3",
   "version": "3.6.5"
  }
 },
 "nbformat": 4,
 "nbformat_minor": 2
}
