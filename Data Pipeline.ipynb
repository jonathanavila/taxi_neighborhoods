{
 "cells": [
  {
   "cell_type": "code",
   "execution_count": 89,
   "metadata": {},
   "outputs": [
    {
     "name": "stdout",
     "output_type": "stream",
     "text": [
      "Requirement already up-to-date: scikit-learn in /opt/conda/lib/python3.6/site-packages\n",
      "\u001b[33mYou are using pip version 9.0.1, however version 10.0.1 is available.\n",
      "You should consider upgrading via the 'pip install --upgrade pip' command.\u001b[0m\n"
     ]
    }
   ],
   "source": [
    "! pip install -U scikit-learn"
   ]
  },
  {
   "cell_type": "code",
   "execution_count": 90,
   "metadata": {},
   "outputs": [
    {
     "name": "stdout",
     "output_type": "stream",
     "text": [
      "Requirement already satisfied: lightning-python in /opt/conda/lib/python3.6/site-packages\n",
      "Requirement already satisfied: requests in /opt/conda/lib/python3.6/site-packages (from lightning-python)\n",
      "Requirement already satisfied: numpy in /opt/conda/lib/python3.6/site-packages (from lightning-python)\n",
      "Requirement already satisfied: matplotlib in /opt/conda/lib/python3.6/site-packages (from lightning-python)\n",
      "Requirement already satisfied: setuptools in /opt/conda/lib/python3.6/site-packages (from lightning-python)\n",
      "Requirement already satisfied: jinja2 in /opt/conda/lib/python3.6/site-packages (from lightning-python)\n",
      "Requirement already satisfied: six in /opt/conda/lib/python3.6/site-packages (from lightning-python)\n",
      "Requirement already satisfied: pytest in /opt/conda/lib/python3.6/site-packages (from lightning-python)\n",
      "Requirement already satisfied: chardet<3.1.0,>=3.0.2 in /opt/conda/lib/python3.6/site-packages (from requests->lightning-python)\n",
      "Requirement already satisfied: idna<2.7,>=2.5 in /opt/conda/lib/python3.6/site-packages (from requests->lightning-python)\n",
      "Requirement already satisfied: urllib3<1.23,>=1.21.1 in /opt/conda/lib/python3.6/site-packages (from requests->lightning-python)\n",
      "Requirement already satisfied: certifi>=2017.4.17 in /opt/conda/lib/python3.6/site-packages (from requests->lightning-python)\n",
      "Requirement already satisfied: python-dateutil>=2.0 in /opt/conda/lib/python3.6/site-packages (from matplotlib->lightning-python)\n",
      "Requirement already satisfied: pytz in /opt/conda/lib/python3.6/site-packages (from matplotlib->lightning-python)\n",
      "Requirement already satisfied: cycler>=0.10 in /opt/conda/lib/python3.6/site-packages/cycler-0.10.0-py3.6.egg (from matplotlib->lightning-python)\n",
      "Requirement already satisfied: pyparsing!=2.0.4,!=2.1.2,!=2.1.6,>=2.0.1 in /opt/conda/lib/python3.6/site-packages (from matplotlib->lightning-python)\n",
      "Requirement already satisfied: MarkupSafe>=0.23 in /opt/conda/lib/python3.6/site-packages (from jinja2->lightning-python)\n",
      "Requirement already satisfied: more-itertools>=4.0.0 in /opt/conda/lib/python3.6/site-packages (from pytest->lightning-python)\n",
      "Requirement already satisfied: attrs>=17.4.0 in /opt/conda/lib/python3.6/site-packages (from pytest->lightning-python)\n",
      "Requirement already satisfied: pluggy<0.7,>=0.5 in /opt/conda/lib/python3.6/site-packages (from pytest->lightning-python)\n",
      "Requirement already satisfied: py>=1.5.0 in /opt/conda/lib/python3.6/site-packages (from pytest->lightning-python)\n",
      "\u001b[33mYou are using pip version 9.0.1, however version 10.0.1 is available.\n",
      "You should consider upgrading via the 'pip install --upgrade pip' command.\u001b[0m\n"
     ]
    }
   ],
   "source": [
    "! pip install lightning-python"
   ]
  },
  {
   "cell_type": "code",
   "execution_count": 169,
   "metadata": {},
   "outputs": [],
   "source": [
    "import matplotlib.pyplot as plt \n",
    "from pyspark.sql import SparkSession\n",
    "from pyspark.sql.types import *\n",
    "import pyspark.sql.functions as F\n",
    "from pyspark.sql.functions import udf\n",
    "from pyspark.sql.functions import when\n",
    "from pyspark import SparkContext as sc\n",
    "from pyspark.sql.functions import col, split, ltrim, substring\n",
    "import pyspark.sql as SQL\n",
    "from pyspark.sql.functions import unix_timestamp, from_unixtime, date_format, \\\n",
    "        from_utc_timestamp, to_utc_timestamp, date_format, dayofmonth, monotonically_increasing_id\n",
    "import datetime\n",
    "import calendar\n",
    "import pandas as pd\n",
    "from pyspark.ml.linalg import Vectors\n",
    "from pyspark.ml.regression import LinearRegression\n",
    "from pyspark.sql.types import *\n",
    "import matplotlib.pyplot as plt\n",
    "import numpy as np\n",
    "from sklearn.preprocessing import OneHotEncoder"
   ]
  },
  {
   "cell_type": "code",
   "execution_count": 160,
   "metadata": {},
   "outputs": [],
   "source": [
    "spark = SparkSession.builder.appName('Jan-01').getOrCreate()"
   ]
  },
  {
   "cell_type": "code",
   "execution_count": 161,
   "metadata": {},
   "outputs": [
    {
     "data": {
      "text/plain": [
       "5044667"
      ]
     },
     "execution_count": 161,
     "metadata": {},
     "output_type": "execute_result"
    }
   ],
   "source": [
    "# Download and decompress data into your Jupyter environment; abreviated jan 2017 data\n",
    "jan_2017 = spark.read.format(\"csv\").load('yellow_tripdata_half.csv', header = True).cache()\n",
    "jan_2017.count()"
   ]
  },
  {
   "cell_type": "code",
   "execution_count": 162,
   "metadata": {},
   "outputs": [],
   "source": [
    "#need to get two dataframes to merge on, or else get cartesian product error\n",
    "taxi_zone = spark.read.format(\"csv\").load('taxi+_zone_lookup.csv', header = True)\n",
    "# taxi_zone2 = spark.read.format(\"csv\").load('taxi+_zone_lookup.csv', header = True)\n"
   ]
  },
  {
   "cell_type": "code",
   "execution_count": 163,
   "metadata": {},
   "outputs": [],
   "source": [
    "#taxi_zone.printSchema()"
   ]
  },
  {
   "cell_type": "code",
   "execution_count": 164,
   "metadata": {},
   "outputs": [],
   "source": [
    "#merging to get destination information\n",
    "jan_2017 = jan_2017.join(taxi_zone, jan_2017.PULocationID == taxi_zone.LocationID, \"left_outer\"). \\\n",
    "                withColumnRenamed(\"Borough\", \"PUBorough\").withColumnRenamed(\"Zone\", \"PUZone\").withColumnRenamed(\"service_zone\", \"PUServiceZone\").\\\n",
    "                withColumnRenamed(\"neighborhood\", \"PUneighbor\").cache()\n",
    "    "
   ]
  },
  {
   "cell_type": "code",
   "execution_count": 170,
   "metadata": {},
   "outputs": [],
   "source": [
    "jan_2017 = jan_2017.withColumn(\"uniqueIdColumn\", monotonically_increasing_id())"
   ]
  },
  {
   "cell_type": "code",
   "execution_count": 97,
   "metadata": {},
   "outputs": [],
   "source": [
    "# #merging to get destination information\n",
    "# jan_2017 = jan_2017.join(taxi_zone2, jan_2017.DOLocationID == taxi_zone2.LocationID, \"left_outer\"). \\\n",
    "#                 withColumnRenamed(\"Borough\", \"DOBorough\").withColumnRenamed(\"Zone\", \"DOZone\").withColumnRenamed(\"service_zone\", \"DOServiceZone\").\\\n",
    "#                 withColumnRenamed(\"neighborhood\", \"DOneighbor\")"
   ]
  },
  {
   "cell_type": "code",
   "execution_count": 98,
   "metadata": {},
   "outputs": [],
   "source": [
    "#jan_2017 = jan_2017.drop(\"LocationID\")"
   ]
  },
  {
   "cell_type": "code",
   "execution_count": 171,
   "metadata": {},
   "outputs": [],
   "source": [
    "#encoding if pickup is an aiport\n",
    "jan_2017 = jan_2017.withColumn(\"AirportPU\", \\\n",
    "                               F.when((jan_2017[\"PULocationID\"] == '138' ) & \\\n",
    "                                      (jan_2017[\"PULocationID\"] == '132'),1).otherwise(0))\n",
    "\n"
   ]
  },
  {
   "cell_type": "code",
   "execution_count": 100,
   "metadata": {},
   "outputs": [],
   "source": [
    "#jan_2017.count()"
   ]
  },
  {
   "cell_type": "code",
   "execution_count": 101,
   "metadata": {},
   "outputs": [],
   "source": [
    "#jan_2017.printSchema()"
   ]
  },
  {
   "cell_type": "code",
   "execution_count": 102,
   "metadata": {},
   "outputs": [],
   "source": [
    "#jan_2017.show(10)"
   ]
  },
  {
   "cell_type": "code",
   "execution_count": 172,
   "metadata": {},
   "outputs": [
    {
     "data": {
      "text/plain": [
       "4953802"
      ]
     },
     "execution_count": 172,
     "metadata": {},
     "output_type": "execute_result"
    }
   ],
   "source": [
    "jan_2017 = jan_2017.where((jan_2017['PUBorough'] != 'Unknown'))\n",
    "jan_2017.count()"
   ]
  },
  {
   "cell_type": "code",
   "execution_count": 173,
   "metadata": {},
   "outputs": [],
   "source": [
    "#splitting date and time into different columns, casting date into date type\n",
    "split_pickup_col = split(jan_2017['tpep_pickup_datetime'], ' ')\n",
    "# split_dropoff_col = split(jan_2017['tpep_dropoff_datetime'], ' ')\n",
    "jan_2017 = jan_2017.withColumn(\"PUDate\", split_pickup_col.getItem(0).cast(DateType()))\n",
    "jan_2017 = jan_2017.withColumn(\"PUTime\", split_pickup_col.getItem(1))\n",
    "# jan_2017 = jan_2017.withColumn(\"DODate\", split_dropoff_col.getItem(0).cast(DateType()))\n",
    "# jan_2017 = jan_2017.withColumn(\"DOTime\", split_dropoff_col.getItem(1))"
   ]
  },
  {
   "cell_type": "code",
   "execution_count": 174,
   "metadata": {},
   "outputs": [],
   "source": [
    "#splitting time into hour and minute; will round minute to nearest 5 minutes\n",
    "split_PUTime = split(jan_2017['PUTime'], ':')\n",
    "jan_2017 = jan_2017.withColumn(\"PUHour\", split_PUTime.getItem(0).cast(IntegerType()))\n",
    "jan_2017 = jan_2017.withColumn(\"PUMinute\", split_PUTime.getItem(1).cast(IntegerType()))\n",
    "\n",
    "# split_DOTime = split(jan_2017['DOTime'], ':')\n",
    "# jan_2017 = jan_2017.withColumn(\"DOHour\", split_DOTime.getItem(0).cast(IntegerType()))\n",
    "# jan_2017 = jan_2017.withColumn(\"DOMinute\", split_DOTime.getItem(1).cast(IntegerType()))"
   ]
  },
  {
   "cell_type": "code",
   "execution_count": 175,
   "metadata": {},
   "outputs": [],
   "source": [
    "jan_2017 = jan_2017.withColumn(\"MorningRushHour\", \\\n",
    "                               F.when((jan_2017[\"PUHour\"] >= 6 ) & \\\n",
    "                                      (jan_2017[\"PUHour\"] < 9),1).otherwise(0))"
   ]
  },
  {
   "cell_type": "code",
   "execution_count": 176,
   "metadata": {},
   "outputs": [],
   "source": [
    "jan_2017 = jan_2017.withColumn(\"EveningRushHour\", \\\n",
    "                               F.when((jan_2017[\"PUHour\"] >= 17 ) & \\\n",
    "                                      (jan_2017[\"PUHour\"] < 21),1).otherwise(0))"
   ]
  },
  {
   "cell_type": "code",
   "execution_count": null,
   "metadata": {},
   "outputs": [],
   "source": []
  },
  {
   "cell_type": "code",
   "execution_count": 177,
   "metadata": {},
   "outputs": [],
   "source": [
    "#rounding down mintue to closest 5 minute mark (computationally easier)\n",
    "#jan_2017 = jan_2017.withColumn(\"DOMinute\", (jan_2017.DOMinute - jan_2017.DOMinute%5))\n",
    "jan_2017 = jan_2017.withColumn(\"PUMinute\", (jan_2017.PUMinute - jan_2017.PUMinute%5))"
   ]
  },
  {
   "cell_type": "code",
   "execution_count": 178,
   "metadata": {},
   "outputs": [],
   "source": [
    "#DOW gives you 1 (Monday) - 7 (Sunday)\n",
    "jan_2017 = jan_2017.withColumn(\"PU_DOW\",  date_format(jan_2017.PUDate, 'u').cast(ShortType()))\n",
    "#jan_2017 = jan_2017.withColumn(\"DO_DOW\",  date_format(jan_2017.DODate, 'u').cast(ShortType()))"
   ]
  },
  {
   "cell_type": "code",
   "execution_count": 179,
   "metadata": {},
   "outputs": [],
   "source": [
    "#encoding if destination is a weekend\n",
    "jan_2017 = jan_2017.withColumn(\"Weekend\", \\\n",
    "                               F.when((jan_2017[\"PU_DOW\"] == 7) | \\\n",
    "                                      (jan_2017[\"PU_DOW\"] == 6),1).otherwise(0))"
   ]
  },
  {
   "cell_type": "code",
   "execution_count": 180,
   "metadata": {},
   "outputs": [],
   "source": [
    "jan_2017 = jan_2017.withColumn(\"WorkingHour\", \\\n",
    "                               F.when((((jan_2017[\"PUHour\"] >= 9 ) & (jan_2017[\"PUHour\"] < 17))\\\n",
    "                                       & (jan_2017[\"Weekend\"] == 0)) ,1).otherwise(0))"
   ]
  },
  {
   "cell_type": "code",
   "execution_count": 181,
   "metadata": {},
   "outputs": [],
   "source": [
    "#casting data types to primitives\n",
    "\n",
    "#1= Creative Mobile Technologies, LLC; 2= VeriFone Inc.\n",
    "jan_2017 = jan_2017.withColumn(\"VendorID\", jan_2017[\"VendorID\"].cast(ShortType()))\n",
    "\n",
    "jan_2017 = jan_2017.withColumn(\"passenger_count\", jan_2017[\"passenger_count\"].cast(ShortType()))\n",
    "\n",
    "#in miles\n",
    "jan_2017 = jan_2017.withColumn(\"trip_distance\", jan_2017[\"trip_distance\"].cast(FloatType()))\n",
    "\n",
    "#1= Credit card\n",
    "#2= Cash\n",
    "#3= No charge\n",
    "#4= Dispute\n",
    "#5= Unknown\n",
    "#6= Voided trip\n",
    "jan_2017 = jan_2017.withColumn(\"payment_type\", jan_2017[\"payment_type\"].cast(ShortType()))\n",
    "jan_2017 = jan_2017.withColumn(\"fare_amount\", jan_2017[\"fare_amount\"].cast(FloatType()))\n",
    "\n",
    "#0.50 and $1 rush hour and overnight charges.\n",
    "jan_2017 = jan_2017.withColumn(\"extra\", jan_2017[\"extra\"].cast(FloatType()))\n",
    "#.50, automatic MTA charge\n",
    "jan_2017 = jan_2017.withColumn(\"mta_tax\", jan_2017[\"mta_tax\"].cast(FloatType()))\n",
    "\n",
    "\n",
    "jan_2017 = jan_2017.withColumn(\"tip_amount\", jan_2017[\"tip_amount\"].cast(FloatType()))\n",
    "jan_2017 = jan_2017.withColumn(\"tolls_amount\", jan_2017[\"tolls_amount\"].cast(FloatType()))\n",
    "jan_2017 = jan_2017.withColumn(\"improvement_surcharge\", jan_2017[\"improvement_surcharge\"].cast(FloatType()))\n",
    "jan_2017 = jan_2017.withColumn(\"total_amount\", jan_2017[\"total_amount\"].cast(FloatType()))\n",
    "\n",
    "\n",
    "jan_2017 = jan_2017.withColumn(\"RateCodeID\", jan_2017[\"RateCodeID\"].cast(ShortType()))\n",
    "#1= Standard rate\n",
    "#2=JFK -> $52 flat fare\n",
    "#3=Newark\n",
    "#4=Nassau or Westchester\n",
    "#5=Negotiated fare\n",
    "#6=Group ride"
   ]
  },
  {
   "cell_type": "code",
   "execution_count": 182,
   "metadata": {},
   "outputs": [],
   "source": [
    "#column for looking at average dollar/mile, will used for filtering: should be around $2.5 per mile according to MTA\n",
    "#use fare amount because tips can be large if generous \n",
    "# jan_2017 = jan_2017.withColumn(\"cost_per_mile\", (jan_2017[\"fare_amount\"]/jan_2017[\"trip_distance\"]).cast(FloatType()))\n",
    "#column for looking at average miles per dollar, will be used for filtering: should be around 0.4 miles per dollar\n",
    "#use fare amount because tips can be large if generous \n",
    "# jan_2017 = jan_2017.withColumn(\"miles_per_dollar\", (jan_2017[\"trip_distance\"]/jan_2017[\"fare_amount\"]).cast(FloatType()))\n",
    "\n",
    "#use fare amount because tips can be large if generous \n",
    "# jan_2017 = jan_2017.withColumn(\"missing_money\", (jan_2017[\"total_amount\"]-jan_2017[\"fare_amount\"]-jan_2017[\"extra\"] \\\n",
    "#                                                  - jan_2017[\"mta_tax\"] - jan_2017[\"tip_amount\"] - jan_2017[\"tolls_amount\"] \\\n",
    "#                                                  - jan_2017[\"improvement_surcharge\"]).cast(FloatType()))\n",
    "                                                \n",
    "                                    "
   ]
  },
  {
   "cell_type": "code",
   "execution_count": 183,
   "metadata": {},
   "outputs": [
    {
     "data": {
      "text/plain": [
       "4925213"
      ]
     },
     "execution_count": 183,
     "metadata": {},
     "output_type": "execute_result"
    }
   ],
   "source": [
    "#basic fare cleaning, ensure that all values are above zero\n",
    "jan_2017 = jan_2017.filter(jan_2017.tip_amount >= 0)\n",
    "jan_2017 = jan_2017.filter(jan_2017.tolls_amount >= 0.0) \n",
    "jan_2017 = jan_2017.filter(jan_2017.total_amount >= 3.30)\n",
    "jan_2017 = jan_2017.filter(jan_2017.extra >= 0.00)\n",
    "#jan_2017 = jan_2017.filter(jan_2017.cost_per_mile.isNotNull())\n",
    "\n",
    "\n",
    "#minimum fare amounts according to NYC Taxi data standards\n",
    "jan_2017 = jan_2017.filter((jan_2017.fare_amount >= 2.50))\n",
    "jan_2017 = jan_2017.filter(jan_2017.improvement_surcharge >= 0.3)\n",
    "jan_2017 = jan_2017.filter(jan_2017.mta_tax >= 0.5)\n",
    "\n",
    "#maximum fare amount, no (logical) fares were greater than 600 although some tips might be \n",
    "#jan_2017 = jan_2017.filter((jan_2017.fare_amount < 600.0))\n",
    "#all trips being filtered out of the max cost per mile going < 0.1 miles \n",
    "#there were MANY trips that had a cost per mile of 1733.3334 with the total trip distance being exactly 0.03 and the fare amount being exactly 52\n",
    "\n",
    "jan_2017.count()\n",
    "\n",
    "\n",
    "#jan_2017.describe(\"fare_amount\").show()\n",
    "\n",
    "#jan_2017.describe(\"DOLocationID\").show()\n",
    "\n",
    "#jan_2017.count()\n",
    "#0.646167527% of trips invalidated using basic filters of fare amounts"
   ]
  },
  {
   "cell_type": "code",
   "execution_count": 184,
   "metadata": {},
   "outputs": [],
   "source": [
    "#missing money description\n",
    "#jan_2017.describe(\"missing_money\").show()\n",
    "#jan_2017.sort('missing_money', ascending=False).select([\"missing_money\"]).show(50)"
   ]
  },
  {
   "cell_type": "code",
   "execution_count": 116,
   "metadata": {},
   "outputs": [],
   "source": [
    "#jan_2017.sort('fare_amount', ascending=False).select([\"fare_amount\", \"trip_distance\", \"cost_per_mile\"]).show(50)"
   ]
  },
  {
   "cell_type": "code",
   "execution_count": 117,
   "metadata": {},
   "outputs": [],
   "source": [
    "#jan_2017.sort('trip_distance', ascending=False).select([\"fare_amount\", \"trip_distance\", \"cost_per_mile\"]).show(50)"
   ]
  },
  {
   "cell_type": "code",
   "execution_count": 118,
   "metadata": {},
   "outputs": [],
   "source": [
    "#jan_2017.describe(\"cost_per_mile\").show()\n",
    "\n",
    "#jan_2017.describe(\"miles_per_dollar\").show()"
   ]
  },
  {
   "cell_type": "code",
   "execution_count": 119,
   "metadata": {},
   "outputs": [],
   "source": [
    "#jan_2017.describe(\"tip_amount\").show()\n",
    "#jan_2017.sort('tip_amount', ascending=False).select(\"tip_amount\").show(50)"
   ]
  },
  {
   "cell_type": "code",
   "execution_count": 120,
   "metadata": {},
   "outputs": [],
   "source": [
    "#jan_2017.sort('cost_per_mile', ascending=False).select([\"miles_per_dollar\", \"cost_per_mile\", \"trip_distance\",  \"total_amount\",  \"fare_amount\", \"tip_amount\", \"tolls_amount\"]).show(50)\n",
    "#upper bound of cost per mile is currently  1733.34"
   ]
  },
  {
   "cell_type": "code",
   "execution_count": 121,
   "metadata": {},
   "outputs": [],
   "source": [
    "#jan_2017.sort('cost_per_mile', ascending=True).select([\"cost_per_mile\", \"trip_distance\",  \"total_amount\",  \"fare_amount\",\"extra\", \"tip_amount\", \"tolls_amount\", \"improvement_surcharge\" ]).show(50)\n",
    "\n",
    "#lower bound of cost per mile is currently "
   ]
  },
  {
   "cell_type": "code",
   "execution_count": 122,
   "metadata": {},
   "outputs": [],
   "source": [
    "#jan_2017.describe(\"total_amount\").show()\n",
    "#jan_2017.sort('total_amount', ascending=False).select(\"total_amount\").show(50)"
   ]
  },
  {
   "cell_type": "code",
   "execution_count": 123,
   "metadata": {},
   "outputs": [],
   "source": [
    "#jan_2017.describe(\"improvement_surcharge\").show()"
   ]
  },
  {
   "cell_type": "code",
   "execution_count": 124,
   "metadata": {},
   "outputs": [],
   "source": [
    "#jan_2017.describe(\"trip_distance\").show()\n",
    "#jan_2017.sort('trip_distance', ascending=False).select(\"trip_distance\").show(50)"
   ]
  },
  {
   "cell_type": "code",
   "execution_count": 125,
   "metadata": {},
   "outputs": [],
   "source": [
    "#jan_2017.select('tpep_pickup_datetime').show(10)"
   ]
  },
  {
   "cell_type": "code",
   "execution_count": 126,
   "metadata": {},
   "outputs": [],
   "source": [
    "#jan_2017.select('PUDate').distinct().show()\n"
   ]
  },
  {
   "cell_type": "code",
   "execution_count": 127,
   "metadata": {},
   "outputs": [],
   "source": [
    "weather_data = spark.read.load('weather.txt', format=\"text\")\n",
    "#weather_data.show()"
   ]
  },
  {
   "cell_type": "code",
   "execution_count": 128,
   "metadata": {},
   "outputs": [],
   "source": [
    "weather_data.createOrReplaceTempView('weather_data_sdf')\n",
    "\n",
    "#spark.sql('select * FROM weather_data_sdf').show()"
   ]
  },
  {
   "cell_type": "code",
   "execution_count": 129,
   "metadata": {},
   "outputs": [],
   "source": [
    "weather_data = spark.sql('SELECT CAST(split(value, \",\")[0] as string) AS date, '\\\n",
    "                        'CAST(split(value, \",\")[1] as string) as time, '\\\n",
    "                        'CAST(split(value, \",\")[2] as float) as temp, '\\\n",
    "                        'CAST(split(value, \",\")[3] as float) as windchill, '\\\n",
    "                        'CAST(split(value, \",\")[4] as float) as dewpoint, '\\\n",
    "                        'CAST(split(value, \",\")[5] as float) as humidity, '\\\n",
    "                        'CAST(split(value, \",\")[6] as float) as pressure, '\\\n",
    "                        'CAST(split(value, \",\")[7] as float) as visibility, '\\\n",
    "                        'CAST(split(value, \",\")[8] as string) as windDir, '\\\n",
    "                        'CAST(split(value, \",\")[9] as float) as windSpeed, '\\\n",
    "                        'CAST(split(value, \",\")[10] as float) as gustSpeed, '\\\n",
    "                        'CAST(split(value, \",\")[11] as float) as Precip, '\\\n",
    "                        'CAST(split(value, \",\")[12] as string) as Events, '\\\n",
    "                        'CAST(split(value, \",\")[13] as string) as Conditions '\\\n",
    "                         'FROM weather_data_sdf')"
   ]
  },
  {
   "cell_type": "code",
   "execution_count": 130,
   "metadata": {},
   "outputs": [],
   "source": [
    "#cast date to date type\n",
    "weather_data = weather_data.withColumn(\"date\", weather_data.date.cast(DateType()))"
   ]
  },
  {
   "cell_type": "code",
   "execution_count": 131,
   "metadata": {},
   "outputs": [],
   "source": [
    "def period(x):\n",
    "    return split(split(x, ':')[1], \" \")[1]"
   ]
  },
  {
   "cell_type": "code",
   "execution_count": 132,
   "metadata": {},
   "outputs": [],
   "source": [
    "def toHour(x):\n",
    "    first_split = split(x, ':')\n",
    "    retval = first_split[0].cast(IntegerType()) % 12\n",
    "    return retval "
   ]
  },
  {
   "cell_type": "code",
   "execution_count": 133,
   "metadata": {},
   "outputs": [],
   "source": [
    "weather_data = weather_data.withColumn(\"period\", period(\"time\"))"
   ]
  },
  {
   "cell_type": "code",
   "execution_count": 134,
   "metadata": {},
   "outputs": [],
   "source": [
    "#make hour military time\n",
    "weather_data = weather_data.withColumn(\"hour\", when(weather_data.period == 'PM', toHour(\"time\") + 12).otherwise(toHour(\"time\")))"
   ]
  },
  {
   "cell_type": "code",
   "execution_count": 135,
   "metadata": {},
   "outputs": [],
   "source": [
    "#fill any nulls\n",
    "weather_data = weather_data.na.fill(0)"
   ]
  },
  {
   "cell_type": "code",
   "execution_count": 136,
   "metadata": {},
   "outputs": [],
   "source": [
    "#weather_data.printSchema()"
   ]
  },
  {
   "cell_type": "code",
   "execution_count": 137,
   "metadata": {},
   "outputs": [],
   "source": [
    "#make temporary views for joining\n",
    "weather_data.createOrReplaceTempView('weather_data_sdf')\n",
    "\n",
    "weather_data_pu = spark.sql('SELECT date AS PUTempdate, '\\\n",
    "                            'time as PUTemptime, ' \\\n",
    "                            'temp as PUtemp, '\\\n",
    "                            'windchill as PUwindchill, '\\\n",
    "                            'dewpoint as PUdewpoint, '\\\n",
    "                            'pressure as PUpressure, '\\\n",
    "                            'visibility as PUvisibility, '\\\n",
    "                            'windDir as PUwindDir, '\\\n",
    "                            'gustSpeed as PUgustSpeed, '\\\n",
    "                            'Precip as PUPrecip, '\\\n",
    "                            'Events as PUEvents, '\\\n",
    "                            'Conditions as PUConditions, '\\\n",
    "                            'period as PUperiod, '\\\n",
    "                            'hour as PUTemphour '\\\n",
    "                            'FROM weather_data_sdf')\n",
    "\n",
    "# weather_data_do = spark.sql('SELECT date AS DOTempdate, '\\\n",
    "#                             'time as DOTemptime, ' \\\n",
    "#                             'temp as DOtemp, '\\\n",
    "#                             'windchill as DOwindchill, '\\\n",
    "#                             'dewpoint as DOdewpoint, '\\\n",
    "#                             'pressure as DOpressure, '\\\n",
    "#                             'visibility as DOvisibility, '\\\n",
    "#                             'windDir as DOwindDir, '\\\n",
    "#                             'gustSpeed as DOgustSpeed, '\\\n",
    "#                             'Precip as DOPrecip, '\\\n",
    "#                             'Events as DOEvents, '\\\n",
    "#                             'Conditions as DOConditions, '\\\n",
    "#                             'period as DOperiod, '\\\n",
    "#                             'hour as DOTemphour '\\\n",
    "#                             'FROM weather_data_sdf')"
   ]
  },
  {
   "cell_type": "code",
   "execution_count": 138,
   "metadata": {},
   "outputs": [],
   "source": [
    "jan_2017 = jan_2017.join(weather_data_pu, (jan_2017.PUDate == weather_data_pu.PUTempdate) & \\\n",
    "                         (jan_2017.PUHour == weather_data_pu.PUTemphour), \"left_outer\")\n"
   ]
  },
  {
   "cell_type": "code",
   "execution_count": 187,
   "metadata": {},
   "outputs": [],
   "source": [
    "jan_2017 = jan_2017.dropDuplicates(['uniqueIdColumn'])"
   ]
  },
  {
   "cell_type": "code",
   "execution_count": 188,
   "metadata": {},
   "outputs": [
    {
     "data": {
      "text/plain": [
       "4925213"
      ]
     },
     "execution_count": 188,
     "metadata": {},
     "output_type": "execute_result"
    }
   ],
   "source": [
    "# jan_2017 = jan_2017.join(weather_data_do, (jan_2017.DODate == weather_data_do.DOTempdate) & \\\n",
    "#                          (jan_2017.DOHour == weather_data_do.DOTemphour), \"left_outer\")\n",
    "jan_2017.count()"
   ]
  },
  {
   "cell_type": "code",
   "execution_count": 190,
   "metadata": {},
   "outputs": [
    {
     "name": "stdout",
     "output_type": "stream",
     "text": [
      "root\n",
      " |-- VendorID: short (nullable = true)\n",
      " |-- tpep_pickup_datetime: string (nullable = true)\n",
      " |-- tpep_dropoff_datetime: string (nullable = true)\n",
      " |-- passenger_count: short (nullable = true)\n",
      " |-- trip_distance: float (nullable = true)\n",
      " |-- RateCodeID: short (nullable = true)\n",
      " |-- store_and_fwd_flag: string (nullable = true)\n",
      " |-- PULocationID: string (nullable = true)\n",
      " |-- DOLocationID: string (nullable = true)\n",
      " |-- payment_type: short (nullable = true)\n",
      " |-- fare_amount: float (nullable = true)\n",
      " |-- extra: float (nullable = true)\n",
      " |-- mta_tax: float (nullable = true)\n",
      " |-- tip_amount: float (nullable = true)\n",
      " |-- tolls_amount: float (nullable = true)\n",
      " |-- improvement_surcharge: float (nullable = true)\n",
      " |-- total_amount: float (nullable = true)\n",
      " |-- LocationID: string (nullable = true)\n",
      " |-- PUBorough: string (nullable = true)\n",
      " |-- PUZone: string (nullable = true)\n",
      " |-- PUServiceZone: string (nullable = true)\n",
      " |-- PUneighbor: string (nullable = true)\n",
      " |-- uniqueIdColumn: long (nullable = false)\n",
      " |-- AirportPU: integer (nullable = false)\n",
      " |-- PUDate: date (nullable = true)\n",
      " |-- PUTime: string (nullable = true)\n",
      " |-- PUHour: integer (nullable = true)\n",
      " |-- PUMinute: integer (nullable = true)\n",
      " |-- MorningRushHour: integer (nullable = false)\n",
      " |-- EveningRushHour: integer (nullable = false)\n",
      " |-- PU_DOW: short (nullable = true)\n",
      " |-- Weekend: integer (nullable = false)\n",
      " |-- WorkingHour: integer (nullable = false)\n",
      "\n"
     ]
    }
   ],
   "source": [
    "jan_2017.printSchema()\n",
    "\n",
    "#extra, payment type, fare amount, mta_tax, tip_amount, tollsamount, total_amount, improvement surcharge"
   ]
  },
  {
   "cell_type": "code",
   "execution_count": 191,
   "metadata": {},
   "outputs": [],
   "source": [
    "jan_2017.createOrReplaceTempView('jan_2017_sdf')"
   ]
  },
  {
   "cell_type": "code",
   "execution_count": null,
   "metadata": {},
   "outputs": [],
   "source": []
  },
  {
   "cell_type": "code",
   "execution_count": 192,
   "metadata": {},
   "outputs": [],
   "source": [
    "PUdemographics = spark.read.format(\"csv\").load('demographics.csv', header = True).cache()\n",
    "#DOdemographics = spark.read.format(\"csv\").load('demographics.csv', header = True).cache()"
   ]
  },
  {
   "cell_type": "code",
   "execution_count": 193,
   "metadata": {},
   "outputs": [],
   "source": [
    "PUnames = PUdemographics.schema.names\n",
    "i = 0\n",
    "for name in PUnames:\n",
    "    if (i != 0):\n",
    "        PUdemographics = PUdemographics.withColumn(\"PU\" + name, col(name).cast(FloatType())).drop(name)\n",
    "  #      DOdemographics = DOdemographics.withColumn(\"DO\" + name, col(name).cast(FloatType())).drop(name)\n",
    "    else:\n",
    "        PUdemographics = PUdemographics.withColumnRenamed(name, \"PU\" + name)\n",
    " #       DOdemographics = DOdemographics.withColumnRenamed(name, \"DO\" + name)\n",
    "\n",
    "    i += 1"
   ]
  },
  {
   "cell_type": "code",
   "execution_count": null,
   "metadata": {},
   "outputs": [],
   "source": []
  },
  {
   "cell_type": "code",
   "execution_count": null,
   "metadata": {},
   "outputs": [],
   "source": []
  },
  {
   "cell_type": "code",
   "execution_count": 194,
   "metadata": {},
   "outputs": [
    {
     "name": "stdout",
     "output_type": "stream",
     "text": [
      "root\n",
      " |-- PUneighborhood: string (nullable = true)\n",
      " |-- PUpopulation_2016: float (nullable = true)\n",
      " |-- PUpopulation_rank: float (nullable = true)\n",
      " |-- PUrace_idx_2016: float (nullable = true)\n",
      " |-- PUrace_idx_rank: float (nullable = true)\n",
      " |-- PUhouses_w_kids_2016: float (nullable = true)\n",
      " |-- PUhouses_w_kids_rank: float (nullable = true)\n",
      " |-- PUpop_65+_2016: float (nullable = true)\n",
      " |-- PUpop_65+_rank: float (nullable = true)\n",
      " |-- PUforeign_pop_2016: float (nullable = true)\n",
      " |-- PUforeign_pop_rank: float (nullable = true)\n",
      " |-- PUmedian_house_income_2016: float (nullable = true)\n",
      " |-- PUmedian_house_income_rank: float (nullable = true)\n",
      " |-- PUmedian_homeowner_income_2016: float (nullable = true)\n",
      " |-- PUmedian_homeowner_income_rank: float (nullable = true)\n",
      " |-- PUmedian_rent_income_2016: float (nullable = true)\n",
      " |-- PUmedian_rent_income_rank: float (nullable = true)\n",
      " |-- PUpoverty_rate_2016: float (nullable = true)\n",
      " |-- PUpoverty_rate_rank: float (nullable = true)\n",
      " |-- PUpoverty_rate_65_2016: float (nullable = true)\n",
      " |-- PUpoverty_rate_65_rank: float (nullable = true)\n",
      " |-- PUpoverty_rate_18_2016: float (nullable = true)\n",
      " |-- PUpoverty_rate_18_rank: float (nullable = true)\n",
      " |-- PUlabor_force_rate_2016: float (nullable = true)\n",
      " |-- PUlabor_force_rate_rank: float (nullable = true)\n",
      " |-- PUunemployment_rate_2016: float (nullable = true)\n",
      " |-- PUunemployment_rate_rank: float (nullable = true)\n",
      " |-- PUbachelors_2016: float (nullable = true)\n",
      " |-- PUbachelors_rank: float (nullable = true)\n",
      " |-- PUwo_highschool_2016: float (nullable = true)\n",
      " |-- PUwo_highschool_rank: float (nullable = true)\n",
      " |-- PUsingle_2016: float (nullable = true)\n",
      " |-- PUsingle_rank: float (nullable = true)\n",
      " |-- PUborn_nyc_2016: float (nullable = true)\n",
      " |-- PUborn_nyc_rank: float (nullable = true)\n",
      " |-- PUpercent_asian_2016: float (nullable = true)\n",
      " |-- PUpercent_asian_rank: float (nullable = true)\n",
      " |-- PUpercent_black_2016: float (nullable = true)\n",
      " |-- PUpercent_black_rank: float (nullable = true)\n",
      " |-- PUpercent_hispanic_2016: float (nullable = true)\n",
      " |-- PUpercent_hispanic_rank: float (nullable = true)\n",
      " |-- PUpercent_white_2016: float (nullable = true)\n",
      " |-- PUpercent_white_rank: float (nullable = true)\n",
      " |-- PUdisabled_2016: float (nullable = true)\n",
      " |-- PUdisable_rank: float (nullable = true)\n",
      " |-- PUincome_divers_ratio_2016: float (nullable = true)\n",
      " |-- PUincome_divers_ratio_rank: float (nullable = true)\n",
      " |-- PUrefinance_loan_rate_2016: float (nullable = true)\n",
      " |-- PUrefinance_loan_rate_rank: float (nullable = true)\n",
      " |-- PUfha_loan_2016: float (nullable = true)\n",
      " |-- PUfha_loan_rank: float (nullable = true)\n",
      " |-- PUhi_cost_home_purch_loan_2016: float (nullable = true)\n",
      " |-- PUhi_cost_home_purch_loan_rank: float (nullable = true)\n",
      " |-- PUhi_cost_refinance_2016: float (nullable = true)\n",
      " |-- PUhi_cost_refinance_rank: float (nullable = true)\n",
      " |-- PUlmi_loans_tracts_2016: float (nullable = true)\n",
      " |-- PUlmi_loans_tracts_rank: float (nullable = true)\n",
      " |-- PUlmi_loans_borrow_2016: float (nullable = true)\n",
      " |-- PUlmi_loans_borrow_rank: float (nullable = true)\n",
      " |-- PUsales_vol_2016: float (nullable = true)\n",
      " |-- PUsales_vol_rank: float (nullable = true)\n",
      " |-- PUsales_vol_1fam_2016: float (nullable = true)\n",
      " |-- PUsales_vol_1fam_rank: float (nullable = true)\n",
      " |-- PUsales_vol_4fam_2016: float (nullable = true)\n",
      " |-- PUsales_vol_4fam_rank: float (nullable = true)\n",
      " |-- PUsales_vol_5fam_2016: float (nullable = true)\n",
      " |-- PUsales_vol_5fam_rank: float (nullable = true)\n",
      " |-- PUsales_vol_condo_2016: float (nullable = true)\n",
      " |-- PUsales_vol_condo_rank: float (nullable = true)\n",
      " |-- PUsales_price_1fam_2016: float (nullable = true)\n",
      " |-- PUsales_price_1fam_rank: float (nullable = true)\n",
      " |-- PUsales_price_4fam_2016: float (nullable = true)\n",
      " |-- PUsales_price_4fam_rank: float (nullable = true)\n",
      " |-- PUsales_price_5fam_2016: float (nullable = true)\n",
      " |-- PUsales_price_5fam_rank: float (nullable = true)\n",
      " |-- PUsales_price_condo_2016: float (nullable = true)\n",
      " |-- PUsales_price_condo_rank: float (nullable = true)\n",
      " |-- PUhouse_apprec_1fam_2016: float (nullable = true)\n",
      " |-- PUhouse_apprec_1fam_rank: float (nullable = true)\n",
      " |-- PUhouse_apprec_4fam_2016: float (nullable = true)\n",
      " |-- PUhouse_apprec_4fam_rank: float (nullable = true)\n",
      " |-- PUhouse_apprec_all_2016: float (nullable = true)\n",
      " |-- PUhouse_apprec_all_rank: float (nullable = true)\n",
      " |-- PUhouse_apprec_condo_2016: float (nullable = true)\n",
      " |-- PUhouse_apprec_condo_rank: float (nullable = true)\n",
      " |-- PUhouse_apprec_5fam_2016: float (nullable = true)\n",
      " |-- PUhouse_apprec_5fam_rank: float (nullable = true)\n",
      " |-- PUsrs_house_violations_2016: float (nullable = true)\n",
      " |-- PUsrs_house_violations_rank: float (nullable = true)\n",
      " |-- PUhouse_violations_2016: float (nullable = true)\n",
      " |-- PUhouse_violations_rank: float (nullable = true)\n",
      " |-- PUpre_forecolsure_rate_2016: float (nullable = true)\n",
      " |-- PUpre_forecolsure_rate_rank: float (nullable = true)\n",
      " |-- PUpre_foreclosure_notice_2016: float (nullable = true)\n",
      " |-- PUpre_foreclosure_notice_rank: float (nullable = true)\n",
      " |-- PUforeclosure_notice_all_2016: float (nullable = true)\n",
      " |-- PUforeclosure_notice_all_rank: float (nullable = true)\n",
      " |-- PUforeclosure_notice_rate_2016: float (nullable = true)\n",
      " |-- PUforeclosure_notice_rate_rank: float (nullable = true)\n",
      " |-- PUforeclosure_notice_intial_2016: float (nullable = true)\n",
      " |-- PUforeclosure_notice_intial_rank: float (nullable = true)\n",
      " |-- PUforeclosure_repeat_2016: float (nullable = true)\n",
      " |-- PUforeclosure_repeat_rank: float (nullable = true)\n",
      " |-- PUreo_2016: float (nullable = true)\n",
      " |-- PUreo_rank: float (nullable = true)\n",
      " |-- PUhousing_units_2016: float (nullable = true)\n",
      " |-- PUhousing_units_rank: float (nullable = true)\n",
      " |-- PUhouseownership_rate_2016: float (nullable = true)\n",
      " |-- PUhouseownership_rate_rank: float (nullable = true)\n",
      " |-- PUvacancy_rate_2016: float (nullable = true)\n",
      " |-- PUvacancy_rate_rank: float (nullable = true)\n",
      " |-- PUsevere_crowding_rate_2016: float (nullable = true)\n",
      " |-- PUsevere_crowding_rate_rank: float (nullable = true)\n",
      " |-- PUloan_rate_2016: float (nullable = true)\n",
      " |-- PUloan_rate_rank: float (nullable = true)\n",
      " |-- PUnew_building_permits_2016: float (nullable = true)\n",
      " |-- PUnew_building_permits_rank: float (nullable = true)\n",
      " |-- PUnew_occupancy_certificates_2016: float (nullable = true)\n",
      " |-- PUnew_occupancy_certificates_rank: float (nullable = true)\n",
      " |-- PUpop_density_2016: float (nullable = true)\n",
      " |-- PUpop_density_rank: float (nullable = true)\n",
      " |-- PUres_units_within_sub_station_2016: float (nullable = true)\n",
      " |-- PUres_units_within_sub_station_rank: float (nullable = true)\n",
      " |-- PUres_units_within_park_2016: float (nullable = true)\n",
      " |-- PUres_units_within_park_rank: float (nullable = true)\n",
      " |-- PUcrime_property_2016: float (nullable = true)\n",
      " |-- PUcrime_property_rank: float (nullable = true)\n",
      " |-- PUcrime_violent_2016: float (nullable = true)\n",
      " |-- PUcrime_violent_rank: float (nullable = true)\n",
      " |-- PUcrime_srs_2016: float (nullable = true)\n",
      " |-- PUcrime_srs_rank: float (nullable = true)\n",
      " |-- PUstudent_math_2016: float (nullable = true)\n",
      " |-- PUstudent_math_rank: float (nullable = true)\n",
      " |-- PUstudent_english_2016: float (nullable = true)\n",
      " |-- PUstudent_english_rank: float (nullable = true)\n",
      " |-- PUcar_free_commute_2016: float (nullable = true)\n",
      " |-- PUcar_free_commute_rank: float (nullable = true)\n",
      " |-- PUmean_work_travel_time_2016: float (nullable = true)\n",
      " |-- PUmean_work_travel_time_rank: float (nullable = true)\n",
      " |-- PUhouse_vouchers_2016: float (nullable = true)\n",
      " |-- PUhouse_vouchers_rank: float (nullable = true)\n",
      " |-- PUmedian_rent_asking_2016: float (nullable = true)\n",
      " |-- PUmedian_rent_asking_rank: float (nullable = true)\n",
      " |-- PUmod_rent_burdened_households_2016: float (nullable = true)\n",
      " |-- PUmod_rent_burdened_households_rank: float (nullable = true)\n",
      " |-- PUmedian_rent_all_2016: float (nullable = true)\n",
      " |-- PUmedian_rent_all_rank: float (nullable = true)\n",
      " |-- PUsrs_rent_burdened_households_2016: float (nullable = true)\n",
      " |-- PUsrs_rent_burdened_households_rank: float (nullable = true)\n",
      " |-- PU30_ami_2016: float (nullable = true)\n",
      " |-- PU30_ami_rank: float (nullable = true)\n",
      " |-- PU80_ami_2016: float (nullable = true)\n",
      " |-- PU80_ami_rank: float (nullable = true)\n",
      " |-- PU120_ami_2016: float (nullable = true)\n",
      " |-- PU120_ami_rank: float (nullable = true)\n",
      " |-- PUlow_income_mrbh_2016: float (nullable = true)\n",
      " |-- PUlow_income_mrbh_rank: float (nullable = true)\n",
      " |-- PUmod_income_mrbh_2016: float (nullable = true)\n",
      " |-- PUmod_income_mrbh_rank: float (nullable = true)\n",
      " |-- PUlow_income_srbh_2016: float (nullable = true)\n",
      " |-- PUlow_income_srbh_rank: float (nullable = true)\n",
      " |-- PUmod_income_srbh_2016: float (nullable = true)\n",
      " |-- PUmod_income_srbh_rank: float (nullable = true)\n",
      "\n"
     ]
    }
   ],
   "source": [
    "PUdemographics.printSchema()"
   ]
  },
  {
   "cell_type": "code",
   "execution_count": 195,
   "metadata": {},
   "outputs": [],
   "source": [
    "jan_2017 = jan_2017.join(PUdemographics, jan_2017.PUneighbor == PUdemographics.PUneighborhood, \"left_outer\")\n",
    "jan_2017 = jan_2017.dropDuplicates(['uniqueIdColumn'])"
   ]
  },
  {
   "cell_type": "code",
   "execution_count": 196,
   "metadata": {},
   "outputs": [],
   "source": [
    "#jan_2017 = jan_2017.join(DOdemographics, jan_2017.DOneighbor == DOdemographics.DOneighborhood, \"left_outer\")\n"
   ]
  },
  {
   "cell_type": "code",
   "execution_count": 197,
   "metadata": {},
   "outputs": [],
   "source": [
    "#jan_2017.printSchema()"
   ]
  },
  {
   "cell_type": "code",
   "execution_count": 198,
   "metadata": {},
   "outputs": [
    {
     "data": {
      "text/plain": [
       "4925213"
      ]
     },
     "execution_count": 198,
     "metadata": {},
     "output_type": "execute_result"
    }
   ],
   "source": [
    "#len(jan_2017.schema.names)\n",
    "\n",
    "jan_2017.count()"
   ]
  },
  {
   "cell_type": "code",
   "execution_count": 200,
   "metadata": {},
   "outputs": [],
   "source": [
    "jan_2017.createOrReplaceTempView('jan_2017_cleaning')\n"
   ]
  },
  {
   "cell_type": "code",
   "execution_count": 202,
   "metadata": {},
   "outputs": [
    {
     "name": "stdout",
     "output_type": "stream",
     "text": [
      "+--------+--------------------+---------------------+---------------+-------------+----------+------------------+------------+------------+------------+-----------+-----+-------+----------+------------+---------------------+------------+----------+---------+-----------------+-------------+----------+--------------+---------+----------+--------+------+--------+---------------+---------------+------+-------+-----------+--------------+-----------------+-----------------+---------------+---------------+--------------------+--------------------+--------------+--------------+------------------+------------------+--------------------------+--------------------------+------------------------------+------------------------------+-------------------------+-------------------------+-------------------+-------------------+----------------------+----------------------+----------------------+----------------------+-----------------------+-----------------------+------------------------+------------------------+----------------+----------------+--------------------+--------------------+-------------+-------------+---------------+---------------+--------------------+--------------------+--------------------+--------------------+-----------------------+-----------------------+--------------------+--------------------+---------------+--------------+--------------------------+--------------------------+--------------------------+--------------------------+---------------+---------------+------------------------------+------------------------------+------------------------+------------------------+-----------------------+-----------------------+-----------------------+-----------------------+----------------+----------------+---------------------+---------------------+---------------------+---------------------+---------------------+---------------------+----------------------+----------------------+-----------------------+-----------------------+-----------------------+-----------------------+-----------------------+-----------------------+------------------------+------------------------+------------------------+------------------------+------------------------+------------------------+-----------------------+-----------------------+-------------------------+-------------------------+------------------------+------------------------+---------------------------+---------------------------+-----------------------+-----------------------+---------------------------+---------------------------+-----------------------------+-----------------------------+-----------------------------+-----------------------------+------------------------------+------------------------------+--------------------------------+--------------------------------+-------------------------+-------------------------+----------+----------+--------------------+--------------------+--------------------------+--------------------------+-------------------+-------------------+---------------------------+---------------------------+----------------+----------------+---------------------------+---------------------------+---------------------------------+---------------------------------+------------------+------------------+-----------------------------------+-----------------------------------+----------------------------+----------------------------+---------------------+---------------------+--------------------+--------------------+----------------+----------------+-------------------+-------------------+----------------------+----------------------+-----------------------+-----------------------+----------------------------+----------------------------+---------------------+---------------------+-------------------------+-------------------------+-----------------------------------+-----------------------------------+----------------------+----------------------+-----------------------------------+-----------------------------------+-------------+-------------+-------------+-------------+--------------+--------------+----------------------+----------------------+----------------------+----------------------+----------------------+----------------------+----------------------+----------------------+\n",
      "|VendorID|tpep_pickup_datetime|tpep_dropoff_datetime|passenger_count|trip_distance|RateCodeID|store_and_fwd_flag|PULocationID|DOLocationID|payment_type|fare_amount|extra|mta_tax|tip_amount|tolls_amount|improvement_surcharge|total_amount|LocationID|PUBorough|           PUZone|PUServiceZone|PUneighbor|uniqueIdColumn|AirportPU|    PUDate|  PUTime|PUHour|PUMinute|MorningRushHour|EveningRushHour|PU_DOW|Weekend|WorkingHour|PUneighborhood|PUpopulation_2016|PUpopulation_rank|PUrace_idx_2016|PUrace_idx_rank|PUhouses_w_kids_2016|PUhouses_w_kids_rank|PUpop_65+_2016|PUpop_65+_rank|PUforeign_pop_2016|PUforeign_pop_rank|PUmedian_house_income_2016|PUmedian_house_income_rank|PUmedian_homeowner_income_2016|PUmedian_homeowner_income_rank|PUmedian_rent_income_2016|PUmedian_rent_income_rank|PUpoverty_rate_2016|PUpoverty_rate_rank|PUpoverty_rate_65_2016|PUpoverty_rate_65_rank|PUpoverty_rate_18_2016|PUpoverty_rate_18_rank|PUlabor_force_rate_2016|PUlabor_force_rate_rank|PUunemployment_rate_2016|PUunemployment_rate_rank|PUbachelors_2016|PUbachelors_rank|PUwo_highschool_2016|PUwo_highschool_rank|PUsingle_2016|PUsingle_rank|PUborn_nyc_2016|PUborn_nyc_rank|PUpercent_asian_2016|PUpercent_asian_rank|PUpercent_black_2016|PUpercent_black_rank|PUpercent_hispanic_2016|PUpercent_hispanic_rank|PUpercent_white_2016|PUpercent_white_rank|PUdisabled_2016|PUdisable_rank|PUincome_divers_ratio_2016|PUincome_divers_ratio_rank|PUrefinance_loan_rate_2016|PUrefinance_loan_rate_rank|PUfha_loan_2016|PUfha_loan_rank|PUhi_cost_home_purch_loan_2016|PUhi_cost_home_purch_loan_rank|PUhi_cost_refinance_2016|PUhi_cost_refinance_rank|PUlmi_loans_tracts_2016|PUlmi_loans_tracts_rank|PUlmi_loans_borrow_2016|PUlmi_loans_borrow_rank|PUsales_vol_2016|PUsales_vol_rank|PUsales_vol_1fam_2016|PUsales_vol_1fam_rank|PUsales_vol_4fam_2016|PUsales_vol_4fam_rank|PUsales_vol_5fam_2016|PUsales_vol_5fam_rank|PUsales_vol_condo_2016|PUsales_vol_condo_rank|PUsales_price_1fam_2016|PUsales_price_1fam_rank|PUsales_price_4fam_2016|PUsales_price_4fam_rank|PUsales_price_5fam_2016|PUsales_price_5fam_rank|PUsales_price_condo_2016|PUsales_price_condo_rank|PUhouse_apprec_1fam_2016|PUhouse_apprec_1fam_rank|PUhouse_apprec_4fam_2016|PUhouse_apprec_4fam_rank|PUhouse_apprec_all_2016|PUhouse_apprec_all_rank|PUhouse_apprec_condo_2016|PUhouse_apprec_condo_rank|PUhouse_apprec_5fam_2016|PUhouse_apprec_5fam_rank|PUsrs_house_violations_2016|PUsrs_house_violations_rank|PUhouse_violations_2016|PUhouse_violations_rank|PUpre_forecolsure_rate_2016|PUpre_forecolsure_rate_rank|PUpre_foreclosure_notice_2016|PUpre_foreclosure_notice_rank|PUforeclosure_notice_all_2016|PUforeclosure_notice_all_rank|PUforeclosure_notice_rate_2016|PUforeclosure_notice_rate_rank|PUforeclosure_notice_intial_2016|PUforeclosure_notice_intial_rank|PUforeclosure_repeat_2016|PUforeclosure_repeat_rank|PUreo_2016|PUreo_rank|PUhousing_units_2016|PUhousing_units_rank|PUhouseownership_rate_2016|PUhouseownership_rate_rank|PUvacancy_rate_2016|PUvacancy_rate_rank|PUsevere_crowding_rate_2016|PUsevere_crowding_rate_rank|PUloan_rate_2016|PUloan_rate_rank|PUnew_building_permits_2016|PUnew_building_permits_rank|PUnew_occupancy_certificates_2016|PUnew_occupancy_certificates_rank|PUpop_density_2016|PUpop_density_rank|PUres_units_within_sub_station_2016|PUres_units_within_sub_station_rank|PUres_units_within_park_2016|PUres_units_within_park_rank|PUcrime_property_2016|PUcrime_property_rank|PUcrime_violent_2016|PUcrime_violent_rank|PUcrime_srs_2016|PUcrime_srs_rank|PUstudent_math_2016|PUstudent_math_rank|PUstudent_english_2016|PUstudent_english_rank|PUcar_free_commute_2016|PUcar_free_commute_rank|PUmean_work_travel_time_2016|PUmean_work_travel_time_rank|PUhouse_vouchers_2016|PUhouse_vouchers_rank|PUmedian_rent_asking_2016|PUmedian_rent_asking_rank|PUmod_rent_burdened_households_2016|PUmod_rent_burdened_households_rank|PUmedian_rent_all_2016|PUmedian_rent_all_rank|PUsrs_rent_burdened_households_2016|PUsrs_rent_burdened_households_rank|PU30_ami_2016|PU30_ami_rank|PU80_ami_2016|PU80_ami_rank|PU120_ami_2016|PU120_ami_rank|PUlow_income_mrbh_2016|PUlow_income_mrbh_rank|PUmod_income_mrbh_2016|PUmod_income_mrbh_rank|PUlow_income_srbh_2016|PUlow_income_srbh_rank|PUmod_income_srbh_2016|PUmod_income_srbh_rank|\n",
      "+--------+--------------------+---------------------+---------------+-------------+----------+------------------+------------+------------+------------+-----------+-----+-------+----------+------------+---------------------+------------+----------+---------+-----------------+-------------+----------+--------------+---------+----------+--------+------+--------+---------------+---------------+------+-------+-----------+--------------+-----------------+-----------------+---------------+---------------+--------------------+--------------------+--------------+--------------+------------------+------------------+--------------------------+--------------------------+------------------------------+------------------------------+-------------------------+-------------------------+-------------------+-------------------+----------------------+----------------------+----------------------+----------------------+-----------------------+-----------------------+------------------------+------------------------+----------------+----------------+--------------------+--------------------+-------------+-------------+---------------+---------------+--------------------+--------------------+--------------------+--------------------+-----------------------+-----------------------+--------------------+--------------------+---------------+--------------+--------------------------+--------------------------+--------------------------+--------------------------+---------------+---------------+------------------------------+------------------------------+------------------------+------------------------+-----------------------+-----------------------+-----------------------+-----------------------+----------------+----------------+---------------------+---------------------+---------------------+---------------------+---------------------+---------------------+----------------------+----------------------+-----------------------+-----------------------+-----------------------+-----------------------+-----------------------+-----------------------+------------------------+------------------------+------------------------+------------------------+------------------------+------------------------+-----------------------+-----------------------+-------------------------+-------------------------+------------------------+------------------------+---------------------------+---------------------------+-----------------------+-----------------------+---------------------------+---------------------------+-----------------------------+-----------------------------+-----------------------------+-----------------------------+------------------------------+------------------------------+--------------------------------+--------------------------------+-------------------------+-------------------------+----------+----------+--------------------+--------------------+--------------------------+--------------------------+-------------------+-------------------+---------------------------+---------------------------+----------------+----------------+---------------------------+---------------------------+---------------------------------+---------------------------------+------------------+------------------+-----------------------------------+-----------------------------------+----------------------------+----------------------------+---------------------+---------------------+--------------------+--------------------+----------------+----------------+-------------------+-------------------+----------------------+----------------------+-----------------------+-----------------------+----------------------------+----------------------------+---------------------+---------------------+-------------------------+-------------------------+-----------------------------------+-----------------------------------+----------------------+----------------------+-----------------------------------+-----------------------------------+-------------+-------------+-------------+-------------+--------------+--------------+----------------------+----------------------+----------------------+----------------------+----------------------+----------------------+----------------------+----------------------+\n",
      "|       2| 2017-01-01 07:22:02|  2017-01-01 07:32:53|              6|         5.06|         1|                 N|         132|         218|           1|       16.0|  0.0|    0.5|       0.0|         0.0|                  0.3|        16.8|       132|   Queens|      JFK Airport|     Airports|   airport|          2214|        0|2017-01-01|07:22:02|     7|      20|              1|              0|     7|      1|          0|          null|             null|             null|           null|           null|                null|                null|          null|          null|              null|              null|                      null|                      null|                          null|                          null|                     null|                     null|               null|               null|                  null|                  null|                  null|                  null|                   null|                   null|                    null|                    null|            null|            null|                null|                null|         null|         null|           null|           null|                null|                null|                null|                null|                   null|                   null|                null|                null|           null|          null|                      null|                      null|                      null|                      null|           null|           null|                          null|                          null|                    null|                    null|                   null|                   null|                   null|                   null|            null|            null|                 null|                 null|                 null|                 null|                 null|                 null|                  null|                  null|                   null|                   null|                   null|                   null|                   null|                   null|                    null|                    null|                    null|                    null|                    null|                    null|                   null|                   null|                     null|                     null|                    null|                    null|                       null|                       null|                   null|                   null|                       null|                       null|                         null|                         null|                         null|                         null|                          null|                          null|                            null|                            null|                     null|                     null|      null|      null|                null|                null|                      null|                      null|               null|               null|                       null|                       null|            null|            null|                       null|                       null|                             null|                             null|              null|              null|                               null|                               null|                        null|                        null|                 null|                 null|                null|                null|            null|            null|               null|               null|                  null|                  null|                   null|                   null|                        null|                        null|                 null|                 null|                     null|                     null|                               null|                               null|                  null|                  null|                               null|                               null|         null|         null|         null|         null|          null|          null|                  null|                  null|                  null|                  null|                  null|                  null|                  null|                  null|\n",
      "|       2| 2017-01-01 08:36:44|  2017-01-01 08:58:59|              1|        11.55|         1|                 N|         138|         230|           2|       33.5|  0.0|    0.5|       0.0|        5.54|                  0.3|       39.84|       138|   Queens|LaGuardia Airport|     Airports|   airport|          7225|        0|2017-01-01|08:36:44|     8|      35|              1|              0|     7|      1|          0|          null|             null|             null|           null|           null|                null|                null|          null|          null|              null|              null|                      null|                      null|                          null|                          null|                     null|                     null|               null|               null|                  null|                  null|                  null|                  null|                   null|                   null|                    null|                    null|            null|            null|                null|                null|         null|         null|           null|           null|                null|                null|                null|                null|                   null|                   null|                null|                null|           null|          null|                      null|                      null|                      null|                      null|           null|           null|                          null|                          null|                    null|                    null|                   null|                   null|                   null|                   null|            null|            null|                 null|                 null|                 null|                 null|                 null|                 null|                  null|                  null|                   null|                   null|                   null|                   null|                   null|                   null|                    null|                    null|                    null|                    null|                    null|                    null|                   null|                   null|                     null|                     null|                    null|                    null|                       null|                       null|                   null|                   null|                       null|                       null|                         null|                         null|                         null|                         null|                          null|                          null|                            null|                            null|                     null|                     null|      null|      null|                null|                null|                      null|                      null|               null|               null|                       null|                       null|            null|            null|                       null|                       null|                             null|                             null|              null|              null|                               null|                               null|                        null|                        null|                 null|                 null|                null|                null|            null|            null|               null|               null|                  null|                  null|                   null|                   null|                        null|                        null|                 null|                 null|                     null|                     null|                               null|                               null|                  null|                  null|                               null|                               null|         null|         null|         null|         null|          null|          null|                  null|                  null|                  null|                  null|                  null|                  null|                  null|                  null|\n",
      "|       2| 2017-01-01 09:24:56|  2017-01-01 09:43:42|              1|         9.57|         1|                 N|         138|         100|           2|       27.5|  0.0|    0.5|       0.0|        5.54|                  0.3|       33.84|       138|   Queens|LaGuardia Airport|     Airports|   airport|         10959|        0|2017-01-01|09:24:56|     9|      20|              0|              0|     7|      1|          0|          null|             null|             null|           null|           null|                null|                null|          null|          null|              null|              null|                      null|                      null|                          null|                          null|                     null|                     null|               null|               null|                  null|                  null|                  null|                  null|                   null|                   null|                    null|                    null|            null|            null|                null|                null|         null|         null|           null|           null|                null|                null|                null|                null|                   null|                   null|                null|                null|           null|          null|                      null|                      null|                      null|                      null|           null|           null|                          null|                          null|                    null|                    null|                   null|                   null|                   null|                   null|            null|            null|                 null|                 null|                 null|                 null|                 null|                 null|                  null|                  null|                   null|                   null|                   null|                   null|                   null|                   null|                    null|                    null|                    null|                    null|                    null|                    null|                   null|                   null|                     null|                     null|                    null|                    null|                       null|                       null|                   null|                   null|                       null|                       null|                         null|                         null|                         null|                         null|                          null|                          null|                            null|                            null|                     null|                     null|      null|      null|                null|                null|                      null|                      null|               null|               null|                       null|                       null|            null|            null|                       null|                       null|                             null|                             null|              null|              null|                               null|                               null|                        null|                        null|                 null|                 null|                null|                null|            null|            null|               null|               null|                  null|                  null|                   null|                   null|                        null|                        null|                 null|                 null|                     null|                     null|                               null|                               null|                  null|                  null|                               null|                               null|         null|         null|         null|         null|          null|          null|                  null|                  null|                  null|                  null|                  null|                  null|                  null|                  null|\n",
      "|       1| 2017-01-01 09:51:50|  2017-01-01 10:28:01|              1|         18.5|         2|                 N|         132|         163|           2|       52.0|  0.0|    0.5|       0.0|        5.54|                  0.3|       58.34|       132|   Queens|      JFK Airport|     Airports|   airport|         13638|        0|2017-01-01|09:51:50|     9|      50|              0|              0|     7|      1|          0|          null|             null|             null|           null|           null|                null|                null|          null|          null|              null|              null|                      null|                      null|                          null|                          null|                     null|                     null|               null|               null|                  null|                  null|                  null|                  null|                   null|                   null|                    null|                    null|            null|            null|                null|                null|         null|         null|           null|           null|                null|                null|                null|                null|                   null|                   null|                null|                null|           null|          null|                      null|                      null|                      null|                      null|           null|           null|                          null|                          null|                    null|                    null|                   null|                   null|                   null|                   null|            null|            null|                 null|                 null|                 null|                 null|                 null|                 null|                  null|                  null|                   null|                   null|                   null|                   null|                   null|                   null|                    null|                    null|                    null|                    null|                    null|                    null|                   null|                   null|                     null|                     null|                    null|                    null|                       null|                       null|                   null|                   null|                       null|                       null|                         null|                         null|                         null|                         null|                          null|                          null|                            null|                            null|                     null|                     null|      null|      null|                null|                null|                      null|                      null|               null|               null|                       null|                       null|            null|            null|                       null|                       null|                             null|                             null|              null|              null|                               null|                               null|                        null|                        null|                 null|                 null|                null|                null|            null|            null|               null|               null|                  null|                  null|                   null|                   null|                        null|                        null|                 null|                 null|                     null|                     null|                               null|                               null|                  null|                  null|                               null|                               null|         null|         null|         null|         null|          null|          null|                  null|                  null|                  null|                  null|                  null|                  null|                  null|                  null|\n",
      "|       2| 2017-01-01 09:52:33|  2017-01-01 10:07:26|              1|        12.62|         1|                 N|         138|         219|           1|       34.0|  0.0|    0.5|      6.96|         0.0|                  0.3|       41.76|       138|   Queens|LaGuardia Airport|     Airports|   airport|         13723|        0|2017-01-01|09:52:33|     9|      50|              0|              0|     7|      1|          0|          null|             null|             null|           null|           null|                null|                null|          null|          null|              null|              null|                      null|                      null|                          null|                          null|                     null|                     null|               null|               null|                  null|                  null|                  null|                  null|                   null|                   null|                    null|                    null|            null|            null|                null|                null|         null|         null|           null|           null|                null|                null|                null|                null|                   null|                   null|                null|                null|           null|          null|                      null|                      null|                      null|                      null|           null|           null|                          null|                          null|                    null|                    null|                   null|                   null|                   null|                   null|            null|            null|                 null|                 null|                 null|                 null|                 null|                 null|                  null|                  null|                   null|                   null|                   null|                   null|                   null|                   null|                    null|                    null|                    null|                    null|                    null|                    null|                   null|                   null|                     null|                     null|                    null|                    null|                       null|                       null|                   null|                   null|                       null|                       null|                         null|                         null|                         null|                         null|                          null|                          null|                            null|                            null|                     null|                     null|      null|      null|                null|                null|                      null|                      null|               null|               null|                       null|                       null|            null|            null|                       null|                       null|                             null|                             null|              null|              null|                               null|                               null|                        null|                        null|                 null|                 null|                null|                null|            null|            null|               null|               null|                  null|                  null|                   null|                   null|                        null|                        null|                 null|                 null|                     null|                     null|                               null|                               null|                  null|                  null|                               null|                               null|         null|         null|         null|         null|          null|          null|                  null|                  null|                  null|                  null|                  null|                  null|                  null|                  null|\n",
      "|       1| 2017-01-01 09:56:15|  2017-01-01 10:18:40|              2|          9.5|         1|                 N|         132|          35|           1|       29.0|  0.0|    0.5|      5.95|         0.0|                  0.3|       35.75|       132|   Queens|      JFK Airport|     Airports|   airport|         14117|        0|2017-01-01|09:56:15|     9|      55|              0|              0|     7|      1|          0|          null|             null|             null|           null|           null|                null|                null|          null|          null|              null|              null|                      null|                      null|                          null|                          null|                     null|                     null|               null|               null|                  null|                  null|                  null|                  null|                   null|                   null|                    null|                    null|            null|            null|                null|                null|         null|         null|           null|           null|                null|                null|                null|                null|                   null|                   null|                null|                null|           null|          null|                      null|                      null|                      null|                      null|           null|           null|                          null|                          null|                    null|                    null|                   null|                   null|                   null|                   null|            null|            null|                 null|                 null|                 null|                 null|                 null|                 null|                  null|                  null|                   null|                   null|                   null|                   null|                   null|                   null|                    null|                    null|                    null|                    null|                    null|                    null|                   null|                   null|                     null|                     null|                    null|                    null|                       null|                       null|                   null|                   null|                       null|                       null|                         null|                         null|                         null|                         null|                          null|                          null|                            null|                            null|                     null|                     null|      null|      null|                null|                null|                      null|                      null|               null|               null|                       null|                       null|            null|            null|                       null|                       null|                             null|                             null|              null|              null|                               null|                               null|                        null|                        null|                 null|                 null|                null|                null|            null|            null|               null|               null|                  null|                  null|                   null|                   null|                        null|                        null|                 null|                 null|                     null|                     null|                               null|                               null|                  null|                  null|                               null|                               null|         null|         null|         null|         null|          null|          null|                  null|                  null|                  null|                  null|                  null|                  null|                  null|                  null|\n",
      "|       2| 2017-01-01 10:32:58|  2017-01-01 10:36:22|              1|         0.54|         1|                 N|          43|         230|           2|        4.0|  0.0|    0.5|       0.0|         0.0|                  0.3|         4.8|        43|Manhattan|     Central Park|  Yellow Zone|   airport|         18628|        0|2017-01-01|10:32:58|    10|      30|              0|              0|     7|      1|          0|          null|             null|             null|           null|           null|                null|                null|          null|          null|              null|              null|                      null|                      null|                          null|                          null|                     null|                     null|               null|               null|                  null|                  null|                  null|                  null|                   null|                   null|                    null|                    null|            null|            null|                null|                null|         null|         null|           null|           null|                null|                null|                null|                null|                   null|                   null|                null|                null|           null|          null|                      null|                      null|                      null|                      null|           null|           null|                          null|                          null|                    null|                    null|                   null|                   null|                   null|                   null|            null|            null|                 null|                 null|                 null|                 null|                 null|                 null|                  null|                  null|                   null|                   null|                   null|                   null|                   null|                   null|                    null|                    null|                    null|                    null|                    null|                    null|                   null|                   null|                     null|                     null|                    null|                    null|                       null|                       null|                   null|                   null|                       null|                       null|                         null|                         null|                         null|                         null|                          null|                          null|                            null|                            null|                     null|                     null|      null|      null|                null|                null|                      null|                      null|               null|               null|                       null|                       null|            null|            null|                       null|                       null|                             null|                             null|              null|              null|                               null|                               null|                        null|                        null|                 null|                 null|                null|                null|            null|            null|               null|               null|                  null|                  null|                   null|                   null|                        null|                        null|                 null|                 null|                     null|                     null|                               null|                               null|                  null|                  null|                               null|                               null|         null|         null|         null|         null|          null|          null|                  null|                  null|                  null|                  null|                  null|                  null|                  null|                  null|\n",
      "|       2| 2017-01-01 10:36:46|  2017-01-01 10:36:50|              2|          0.0|         5|                 N|         132|         132|           1|       68.0|  0.0|    0.5|     13.76|         0.0|                  0.3|       82.56|       132|   Queens|      JFK Airport|     Airports|   airport|         19163|        0|2017-01-01|10:36:46|    10|      35|              0|              0|     7|      1|          0|          null|             null|             null|           null|           null|                null|                null|          null|          null|              null|              null|                      null|                      null|                          null|                          null|                     null|                     null|               null|               null|                  null|                  null|                  null|                  null|                   null|                   null|                    null|                    null|            null|            null|                null|                null|         null|         null|           null|           null|                null|                null|                null|                null|                   null|                   null|                null|                null|           null|          null|                      null|                      null|                      null|                      null|           null|           null|                          null|                          null|                    null|                    null|                   null|                   null|                   null|                   null|            null|            null|                 null|                 null|                 null|                 null|                 null|                 null|                  null|                  null|                   null|                   null|                   null|                   null|                   null|                   null|                    null|                    null|                    null|                    null|                    null|                    null|                   null|                   null|                     null|                     null|                    null|                    null|                       null|                       null|                   null|                   null|                       null|                       null|                         null|                         null|                         null|                         null|                          null|                          null|                            null|                            null|                     null|                     null|      null|      null|                null|                null|                      null|                      null|               null|               null|                       null|                       null|            null|            null|                       null|                       null|                             null|                             null|              null|              null|                               null|                               null|                        null|                        null|                 null|                 null|                null|                null|            null|            null|               null|               null|                  null|                  null|                   null|                   null|                        null|                        null|                 null|                 null|                     null|                     null|                               null|                               null|                  null|                  null|                               null|                               null|         null|         null|         null|         null|          null|          null|                  null|                  null|                  null|                  null|                  null|                  null|                  null|                  null|\n",
      "|       2| 2017-01-01 10:49:11|  2017-01-01 11:19:42|              1|        12.31|         1|                 N|         132|         265|           2|       36.0|  0.0|    0.5|       0.0|         0.0|                  0.3|        36.8|       132|   Queens|      JFK Airport|     Airports|   airport|         21209|        0|2017-01-01|10:49:11|    10|      45|              0|              0|     7|      1|          0|          null|             null|             null|           null|           null|                null|                null|          null|          null|              null|              null|                      null|                      null|                          null|                          null|                     null|                     null|               null|               null|                  null|                  null|                  null|                  null|                   null|                   null|                    null|                    null|            null|            null|                null|                null|         null|         null|           null|           null|                null|                null|                null|                null|                   null|                   null|                null|                null|           null|          null|                      null|                      null|                      null|                      null|           null|           null|                          null|                          null|                    null|                    null|                   null|                   null|                   null|                   null|            null|            null|                 null|                 null|                 null|                 null|                 null|                 null|                  null|                  null|                   null|                   null|                   null|                   null|                   null|                   null|                    null|                    null|                    null|                    null|                    null|                    null|                   null|                   null|                     null|                     null|                    null|                    null|                       null|                       null|                   null|                   null|                       null|                       null|                         null|                         null|                         null|                         null|                          null|                          null|                            null|                            null|                     null|                     null|      null|      null|                null|                null|                      null|                      null|               null|               null|                       null|                       null|            null|            null|                       null|                       null|                             null|                             null|              null|              null|                               null|                               null|                        null|                        null|                 null|                 null|                null|                null|            null|            null|               null|               null|                  null|                  null|                   null|                   null|                        null|                        null|                 null|                 null|                     null|                     null|                               null|                               null|                  null|                  null|                               null|                               null|         null|         null|         null|         null|          null|          null|                  null|                  null|                  null|                  null|                  null|                  null|                  null|                  null|\n",
      "|       2| 2017-01-01 10:54:59|  2017-01-01 11:23:12|              5|         6.93|         1|                 N|          43|          45|           2|       25.0|  0.0|    0.5|       0.0|         0.0|                  0.3|        25.8|        43|Manhattan|     Central Park|  Yellow Zone|   airport|         22129|        0|2017-01-01|10:54:59|    10|      50|              0|              0|     7|      1|          0|          null|             null|             null|           null|           null|                null|                null|          null|          null|              null|              null|                      null|                      null|                          null|                          null|                     null|                     null|               null|               null|                  null|                  null|                  null|                  null|                   null|                   null|                    null|                    null|            null|            null|                null|                null|         null|         null|           null|           null|                null|                null|                null|                null|                   null|                   null|                null|                null|           null|          null|                      null|                      null|                      null|                      null|           null|           null|                          null|                          null|                    null|                    null|                   null|                   null|                   null|                   null|            null|            null|                 null|                 null|                 null|                 null|                 null|                 null|                  null|                  null|                   null|                   null|                   null|                   null|                   null|                   null|                    null|                    null|                    null|                    null|                    null|                    null|                   null|                   null|                     null|                     null|                    null|                    null|                       null|                       null|                   null|                   null|                       null|                       null|                         null|                         null|                         null|                         null|                          null|                          null|                            null|                            null|                     null|                     null|      null|      null|                null|                null|                      null|                      null|               null|               null|                       null|                       null|            null|            null|                       null|                       null|                             null|                             null|              null|              null|                               null|                               null|                        null|                        null|                 null|                 null|                null|                null|            null|            null|               null|               null|                  null|                  null|                   null|                   null|                        null|                        null|                 null|                 null|                     null|                     null|                               null|                               null|                  null|                  null|                               null|                               null|         null|         null|         null|         null|          null|          null|                  null|                  null|                  null|                  null|                  null|                  null|                  null|                  null|\n",
      "|       1| 2017-01-01 11:23:09|  2017-01-01 11:50:58|              4|         12.1|         1|                 N|         138|          48|           2|       35.5|  0.0|    0.5|       0.0|        5.54|                  0.3|       41.84|       138|   Queens|LaGuardia Airport|     Airports|   airport|         26543|        0|2017-01-01|11:23:09|    11|      20|              0|              0|     7|      1|          0|          null|             null|             null|           null|           null|                null|                null|          null|          null|              null|              null|                      null|                      null|                          null|                          null|                     null|                     null|               null|               null|                  null|                  null|                  null|                  null|                   null|                   null|                    null|                    null|            null|            null|                null|                null|         null|         null|           null|           null|                null|                null|                null|                null|                   null|                   null|                null|                null|           null|          null|                      null|                      null|                      null|                      null|           null|           null|                          null|                          null|                    null|                    null|                   null|                   null|                   null|                   null|            null|            null|                 null|                 null|                 null|                 null|                 null|                 null|                  null|                  null|                   null|                   null|                   null|                   null|                   null|                   null|                    null|                    null|                    null|                    null|                    null|                    null|                   null|                   null|                     null|                     null|                    null|                    null|                       null|                       null|                   null|                   null|                       null|                       null|                         null|                         null|                         null|                         null|                          null|                          null|                            null|                            null|                     null|                     null|      null|      null|                null|                null|                      null|                      null|               null|               null|                       null|                       null|            null|            null|                       null|                       null|                             null|                             null|              null|              null|                               null|                               null|                        null|                        null|                 null|                 null|                null|                null|            null|            null|               null|               null|                  null|                  null|                   null|                   null|                        null|                        null|                 null|                 null|                     null|                     null|                               null|                               null|                  null|                  null|                               null|                               null|         null|         null|         null|         null|          null|          null|                  null|                  null|                  null|                  null|                  null|                  null|                  null|                  null|\n",
      "|       2| 2017-01-01 12:08:44|  2017-01-01 12:30:11|              1|         9.48|         1|                 N|         132|         177|           2|       28.5|  0.0|    0.5|       0.0|         0.0|                  0.3|        29.3|       132|   Queens|      JFK Airport|     Airports|   airport|         35148|        0|2017-01-01|12:08:44|    12|       5|              0|              0|     7|      1|          0|          null|             null|             null|           null|           null|                null|                null|          null|          null|              null|              null|                      null|                      null|                          null|                          null|                     null|                     null|               null|               null|                  null|                  null|                  null|                  null|                   null|                   null|                    null|                    null|            null|            null|                null|                null|         null|         null|           null|           null|                null|                null|                null|                null|                   null|                   null|                null|                null|           null|          null|                      null|                      null|                      null|                      null|           null|           null|                          null|                          null|                    null|                    null|                   null|                   null|                   null|                   null|            null|            null|                 null|                 null|                 null|                 null|                 null|                 null|                  null|                  null|                   null|                   null|                   null|                   null|                   null|                   null|                    null|                    null|                    null|                    null|                    null|                    null|                   null|                   null|                     null|                     null|                    null|                    null|                       null|                       null|                   null|                   null|                       null|                       null|                         null|                         null|                         null|                         null|                          null|                          null|                            null|                            null|                     null|                     null|      null|      null|                null|                null|                      null|                      null|               null|               null|                       null|                       null|            null|            null|                       null|                       null|                             null|                             null|              null|              null|                               null|                               null|                        null|                        null|                 null|                 null|                null|                null|            null|            null|               null|               null|                  null|                  null|                   null|                   null|                        null|                        null|                 null|                 null|                     null|                     null|                               null|                               null|                  null|                  null|                               null|                               null|         null|         null|         null|         null|          null|          null|                  null|                  null|                  null|                  null|                  null|                  null|                  null|                  null|\n",
      "|       1| 2017-01-01 12:30:50|  2017-01-01 12:48:33|              2|         10.5|         1|                 N|         138|          25|           2|       30.0|  0.0|    0.5|       0.0|         0.0|                  0.3|        30.8|       138|   Queens|LaGuardia Airport|     Airports|   airport|         39473|        0|2017-01-01|12:30:50|    12|      30|              0|              0|     7|      1|          0|          null|             null|             null|           null|           null|                null|                null|          null|          null|              null|              null|                      null|                      null|                          null|                          null|                     null|                     null|               null|               null|                  null|                  null|                  null|                  null|                   null|                   null|                    null|                    null|            null|            null|                null|                null|         null|         null|           null|           null|                null|                null|                null|                null|                   null|                   null|                null|                null|           null|          null|                      null|                      null|                      null|                      null|           null|           null|                          null|                          null|                    null|                    null|                   null|                   null|                   null|                   null|            null|            null|                 null|                 null|                 null|                 null|                 null|                 null|                  null|                  null|                   null|                   null|                   null|                   null|                   null|                   null|                    null|                    null|                    null|                    null|                    null|                    null|                   null|                   null|                     null|                     null|                    null|                    null|                       null|                       null|                   null|                   null|                       null|                       null|                         null|                         null|                         null|                         null|                          null|                          null|                            null|                            null|                     null|                     null|      null|      null|                null|                null|                      null|                      null|               null|               null|                       null|                       null|            null|            null|                       null|                       null|                             null|                             null|              null|              null|                               null|                               null|                        null|                        null|                 null|                 null|                null|                null|            null|            null|               null|               null|                  null|                  null|                   null|                   null|                        null|                        null|                 null|                 null|                     null|                     null|                               null|                               null|                  null|                  null|                               null|                               null|         null|         null|         null|         null|          null|          null|                  null|                  null|                  null|                  null|                  null|                  null|                  null|                  null|\n",
      "|       2| 2017-01-01 12:36:32|  2017-01-01 12:52:56|              3|         4.17|         1|                 N|          43|          79|           1|       15.5|  0.0|    0.5|      4.08|         0.0|                  0.3|       20.38|        43|Manhattan|     Central Park|  Yellow Zone|   airport|         40634|        0|2017-01-01|12:36:32|    12|      35|              0|              0|     7|      1|          0|          null|             null|             null|           null|           null|                null|                null|          null|          null|              null|              null|                      null|                      null|                          null|                          null|                     null|                     null|               null|               null|                  null|                  null|                  null|                  null|                   null|                   null|                    null|                    null|            null|            null|                null|                null|         null|         null|           null|           null|                null|                null|                null|                null|                   null|                   null|                null|                null|           null|          null|                      null|                      null|                      null|                      null|           null|           null|                          null|                          null|                    null|                    null|                   null|                   null|                   null|                   null|            null|            null|                 null|                 null|                 null|                 null|                 null|                 null|                  null|                  null|                   null|                   null|                   null|                   null|                   null|                   null|                    null|                    null|                    null|                    null|                    null|                    null|                   null|                   null|                     null|                     null|                    null|                    null|                       null|                       null|                   null|                   null|                       null|                       null|                         null|                         null|                         null|                         null|                          null|                          null|                            null|                            null|                     null|                     null|      null|      null|                null|                null|                      null|                      null|               null|               null|                       null|                       null|            null|            null|                       null|                       null|                             null|                             null|              null|              null|                               null|                               null|                        null|                        null|                 null|                 null|                null|                null|            null|            null|               null|               null|                  null|                  null|                   null|                   null|                        null|                        null|                 null|                 null|                     null|                     null|                               null|                               null|                  null|                  null|                               null|                               null|         null|         null|         null|         null|          null|          null|                  null|                  null|                  null|                  null|                  null|                  null|                  null|                  null|\n",
      "|       2| 2017-01-01 12:53:02|  2017-01-01 13:16:01|              1|         7.95|         1|                 N|         132|         258|           2|       25.5|  0.0|    0.5|       0.0|         0.0|                  0.3|        26.3|       132|   Queens|      JFK Airport|     Airports|   airport|         44134|        0|2017-01-01|12:53:02|    12|      50|              0|              0|     7|      1|          0|          null|             null|             null|           null|           null|                null|                null|          null|          null|              null|              null|                      null|                      null|                          null|                          null|                     null|                     null|               null|               null|                  null|                  null|                  null|                  null|                   null|                   null|                    null|                    null|            null|            null|                null|                null|         null|         null|           null|           null|                null|                null|                null|                null|                   null|                   null|                null|                null|           null|          null|                      null|                      null|                      null|                      null|           null|           null|                          null|                          null|                    null|                    null|                   null|                   null|                   null|                   null|            null|            null|                 null|                 null|                 null|                 null|                 null|                 null|                  null|                  null|                   null|                   null|                   null|                   null|                   null|                   null|                    null|                    null|                    null|                    null|                    null|                    null|                   null|                   null|                     null|                     null|                    null|                    null|                       null|                       null|                   null|                   null|                       null|                       null|                         null|                         null|                         null|                         null|                          null|                          null|                            null|                            null|                     null|                     null|      null|      null|                null|                null|                      null|                      null|               null|               null|                       null|                       null|            null|            null|                       null|                       null|                             null|                             null|              null|              null|                               null|                               null|                        null|                        null|                 null|                 null|                null|                null|            null|            null|               null|               null|                  null|                  null|                   null|                   null|                        null|                        null|                 null|                 null|                     null|                     null|                               null|                               null|                  null|                  null|                               null|                               null|         null|         null|         null|         null|          null|          null|                  null|                  null|                  null|                  null|                  null|                  null|                  null|                  null|\n",
      "|       1| 2017-01-01 12:57:45|  2017-01-01 13:22:35|              2|          9.6|         1|                 N|         138|         239|           2|       29.0|  0.0|    0.5|       0.0|        5.54|                  0.3|       35.34|       138|   Queens|LaGuardia Airport|     Airports|   airport|         45166|        0|2017-01-01|12:57:45|    12|      55|              0|              0|     7|      1|          0|          null|             null|             null|           null|           null|                null|                null|          null|          null|              null|              null|                      null|                      null|                          null|                          null|                     null|                     null|               null|               null|                  null|                  null|                  null|                  null|                   null|                   null|                    null|                    null|            null|            null|                null|                null|         null|         null|           null|           null|                null|                null|                null|                null|                   null|                   null|                null|                null|           null|          null|                      null|                      null|                      null|                      null|           null|           null|                          null|                          null|                    null|                    null|                   null|                   null|                   null|                   null|            null|            null|                 null|                 null|                 null|                 null|                 null|                 null|                  null|                  null|                   null|                   null|                   null|                   null|                   null|                   null|                    null|                    null|                    null|                    null|                    null|                    null|                   null|                   null|                     null|                     null|                    null|                    null|                       null|                       null|                   null|                   null|                       null|                       null|                         null|                         null|                         null|                         null|                          null|                          null|                            null|                            null|                     null|                     null|      null|      null|                null|                null|                      null|                      null|               null|               null|                       null|                       null|            null|            null|                       null|                       null|                             null|                             null|              null|              null|                               null|                               null|                        null|                        null|                 null|                 null|                null|                null|            null|            null|               null|               null|                  null|                  null|                   null|                   null|                        null|                        null|                 null|                 null|                     null|                     null|                               null|                               null|                  null|                  null|                               null|                               null|         null|         null|         null|         null|          null|          null|                  null|                  null|                  null|                  null|                  null|                  null|                  null|                  null|\n",
      "|       1| 2017-01-01 13:16:23|  2017-01-01 13:21:24|              1|          1.3|         1|                 N|          43|         233|           1|        6.0|  0.0|    0.5|      1.35|         0.0|                  0.3|        8.15|        43|Manhattan|     Central Park|  Yellow Zone|   airport|         49048|        0|2017-01-01|13:16:23|    13|      15|              0|              0|     7|      1|          0|          null|             null|             null|           null|           null|                null|                null|          null|          null|              null|              null|                      null|                      null|                          null|                          null|                     null|                     null|               null|               null|                  null|                  null|                  null|                  null|                   null|                   null|                    null|                    null|            null|            null|                null|                null|         null|         null|           null|           null|                null|                null|                null|                null|                   null|                   null|                null|                null|           null|          null|                      null|                      null|                      null|                      null|           null|           null|                          null|                          null|                    null|                    null|                   null|                   null|                   null|                   null|            null|            null|                 null|                 null|                 null|                 null|                 null|                 null|                  null|                  null|                   null|                   null|                   null|                   null|                   null|                   null|                    null|                    null|                    null|                    null|                    null|                    null|                   null|                   null|                     null|                     null|                    null|                    null|                       null|                       null|                   null|                   null|                       null|                       null|                         null|                         null|                         null|                         null|                          null|                          null|                            null|                            null|                     null|                     null|      null|      null|                null|                null|                      null|                      null|               null|               null|                       null|                       null|            null|            null|                       null|                       null|                             null|                             null|              null|              null|                               null|                               null|                        null|                        null|                 null|                 null|                null|                null|            null|            null|               null|               null|                  null|                  null|                   null|                   null|                        null|                        null|                 null|                 null|                     null|                     null|                               null|                               null|                  null|                  null|                               null|                               null|         null|         null|         null|         null|          null|          null|                  null|                  null|                  null|                  null|                  null|                  null|                  null|                  null|\n",
      "|       2| 2017-01-01 13:19:46|  2017-01-01 13:24:05|              1|          1.4|         1|                 N|          43|         237|           2|        6.5|  0.0|    0.5|       0.0|         0.0|                  0.3|         7.3|        43|Manhattan|     Central Park|  Yellow Zone|   airport|         49754|        0|2017-01-01|13:19:46|    13|      15|              0|              0|     7|      1|          0|          null|             null|             null|           null|           null|                null|                null|          null|          null|              null|              null|                      null|                      null|                          null|                          null|                     null|                     null|               null|               null|                  null|                  null|                  null|                  null|                   null|                   null|                    null|                    null|            null|            null|                null|                null|         null|         null|           null|           null|                null|                null|                null|                null|                   null|                   null|                null|                null|           null|          null|                      null|                      null|                      null|                      null|           null|           null|                          null|                          null|                    null|                    null|                   null|                   null|                   null|                   null|            null|            null|                 null|                 null|                 null|                 null|                 null|                 null|                  null|                  null|                   null|                   null|                   null|                   null|                   null|                   null|                    null|                    null|                    null|                    null|                    null|                    null|                   null|                   null|                     null|                     null|                    null|                    null|                       null|                       null|                   null|                   null|                       null|                       null|                         null|                         null|                         null|                         null|                          null|                          null|                            null|                            null|                     null|                     null|      null|      null|                null|                null|                      null|                      null|               null|               null|                       null|                       null|            null|            null|                       null|                       null|                             null|                             null|              null|              null|                               null|                               null|                        null|                        null|                 null|                 null|                null|                null|            null|            null|               null|               null|                  null|                  null|                   null|                   null|                        null|                        null|                 null|                 null|                     null|                     null|                               null|                               null|                  null|                  null|                               null|                               null|         null|         null|         null|         null|          null|          null|                  null|                  null|                  null|                  null|                  null|                  null|                  null|                  null|\n",
      "|       2| 2017-01-01 13:44:47|  2017-01-01 14:20:13|              5|        20.48|         2|                 N|         132|         238|           1|       52.0|  0.0|    0.5|     11.67|        5.54|                  0.3|       70.01|       132|   Queens|      JFK Airport|     Airports|   airport|         54899|        0|2017-01-01|13:44:47|    13|      40|              0|              0|     7|      1|          0|          null|             null|             null|           null|           null|                null|                null|          null|          null|              null|              null|                      null|                      null|                          null|                          null|                     null|                     null|               null|               null|                  null|                  null|                  null|                  null|                   null|                   null|                    null|                    null|            null|            null|                null|                null|         null|         null|           null|           null|                null|                null|                null|                null|                   null|                   null|                null|                null|           null|          null|                      null|                      null|                      null|                      null|           null|           null|                          null|                          null|                    null|                    null|                   null|                   null|                   null|                   null|            null|            null|                 null|                 null|                 null|                 null|                 null|                 null|                  null|                  null|                   null|                   null|                   null|                   null|                   null|                   null|                    null|                    null|                    null|                    null|                    null|                    null|                   null|                   null|                     null|                     null|                    null|                    null|                       null|                       null|                   null|                   null|                       null|                       null|                         null|                         null|                         null|                         null|                          null|                          null|                            null|                            null|                     null|                     null|      null|      null|                null|                null|                      null|                      null|               null|               null|                       null|                       null|            null|            null|                       null|                       null|                             null|                             null|              null|              null|                               null|                               null|                        null|                        null|                 null|                 null|                null|                null|            null|            null|               null|               null|                  null|                  null|                   null|                   null|                        null|                        null|                 null|                 null|                     null|                     null|                               null|                               null|                  null|                  null|                               null|                               null|         null|         null|         null|         null|          null|          null|                  null|                  null|                  null|                  null|                  null|                  null|                  null|                  null|\n",
      "|       2| 2017-01-01 14:01:46|  2017-01-01 14:49:48|              1|        21.25|         2|                 N|         132|         230|           2|       52.0|  0.0|    0.5|       0.0|        5.54|                  0.3|       58.34|       132|   Queens|      JFK Airport|     Airports|   airport|         58509|        0|2017-01-01|14:01:46|    14|       0|              0|              0|     7|      1|          0|          null|             null|             null|           null|           null|                null|                null|          null|          null|              null|              null|                      null|                      null|                          null|                          null|                     null|                     null|               null|               null|                  null|                  null|                  null|                  null|                   null|                   null|                    null|                    null|            null|            null|                null|                null|         null|         null|           null|           null|                null|                null|                null|                null|                   null|                   null|                null|                null|           null|          null|                      null|                      null|                      null|                      null|           null|           null|                          null|                          null|                    null|                    null|                   null|                   null|                   null|                   null|            null|            null|                 null|                 null|                 null|                 null|                 null|                 null|                  null|                  null|                   null|                   null|                   null|                   null|                   null|                   null|                    null|                    null|                    null|                    null|                    null|                    null|                   null|                   null|                     null|                     null|                    null|                    null|                       null|                       null|                   null|                   null|                       null|                       null|                         null|                         null|                         null|                         null|                          null|                          null|                            null|                            null|                     null|                     null|      null|      null|                null|                null|                      null|                      null|               null|               null|                       null|                       null|            null|            null|                       null|                       null|                             null|                             null|              null|              null|                               null|                               null|                        null|                        null|                 null|                 null|                null|                null|            null|            null|               null|               null|                  null|                  null|                   null|                   null|                        null|                        null|                 null|                 null|                     null|                     null|                               null|                               null|                  null|                  null|                               null|                               null|         null|         null|         null|         null|          null|          null|                  null|                  null|                  null|                  null|                  null|                  null|                  null|                  null|\n",
      "+--------+--------------------+---------------------+---------------+-------------+----------+------------------+------------+------------+------------+-----------+-----+-------+----------+------------+---------------------+------------+----------+---------+-----------------+-------------+----------+--------------+---------+----------+--------+------+--------+---------------+---------------+------+-------+-----------+--------------+-----------------+-----------------+---------------+---------------+--------------------+--------------------+--------------+--------------+------------------+------------------+--------------------------+--------------------------+------------------------------+------------------------------+-------------------------+-------------------------+-------------------+-------------------+----------------------+----------------------+----------------------+----------------------+-----------------------+-----------------------+------------------------+------------------------+----------------+----------------+--------------------+--------------------+-------------+-------------+---------------+---------------+--------------------+--------------------+--------------------+--------------------+-----------------------+-----------------------+--------------------+--------------------+---------------+--------------+--------------------------+--------------------------+--------------------------+--------------------------+---------------+---------------+------------------------------+------------------------------+------------------------+------------------------+-----------------------+-----------------------+-----------------------+-----------------------+----------------+----------------+---------------------+---------------------+---------------------+---------------------+---------------------+---------------------+----------------------+----------------------+-----------------------+-----------------------+-----------------------+-----------------------+-----------------------+-----------------------+------------------------+------------------------+------------------------+------------------------+------------------------+------------------------+-----------------------+-----------------------+-------------------------+-------------------------+------------------------+------------------------+---------------------------+---------------------------+-----------------------+-----------------------+---------------------------+---------------------------+-----------------------------+-----------------------------+-----------------------------+-----------------------------+------------------------------+------------------------------+--------------------------------+--------------------------------+-------------------------+-------------------------+----------+----------+--------------------+--------------------+--------------------------+--------------------------+-------------------+-------------------+---------------------------+---------------------------+----------------+----------------+---------------------------+---------------------------+---------------------------------+---------------------------------+------------------+------------------+-----------------------------------+-----------------------------------+----------------------------+----------------------------+---------------------+---------------------+--------------------+--------------------+----------------+----------------+-------------------+-------------------+----------------------+----------------------+-----------------------+-----------------------+----------------------------+----------------------------+---------------------+---------------------+-------------------------+-------------------------+-----------------------------------+-----------------------------------+----------------------+----------------------+-----------------------------------+-----------------------------------+-------------+-------------+-------------+-------------+--------------+--------------+----------------------+----------------------+----------------------+----------------------+----------------------+----------------------+----------------------+----------------------+\n",
      "only showing top 20 rows\n",
      "\n"
     ]
    }
   ],
   "source": [
    "spark.sql('select * FROM jan_2017_cleaning WHERE PUneighbor == \"airport\"').show()\n",
    "\n",
    "\n",
    "#NA\n",
    "#NV"
   ]
  },
  {
   "cell_type": "code",
   "execution_count": null,
   "metadata": {},
   "outputs": [],
   "source": []
  },
  {
   "cell_type": "code",
   "execution_count": 151,
   "metadata": {},
   "outputs": [],
   "source": [
    "#spark.sql('select PUZone, DOZone, count(*) FROM jan_2017_cleaning WHERE (PUBorough != \"Manhattan\") OR (DOBorough != \"Manhattan\")  GROUP BY 1, 2 ORDER BY COUNT(*) DESC').cache().show(50)\n"
   ]
  },
  {
   "cell_type": "code",
   "execution_count": 152,
   "metadata": {},
   "outputs": [],
   "source": [
    "# spark.sql('select PUZone, DOZone, count(*) FROM jan_2017_cleaning  GROUP BY 1, 2 ORDER BY COUNT(*) ASC').cache().show(50)\n"
   ]
  },
  {
   "cell_type": "code",
   "execution_count": 153,
   "metadata": {},
   "outputs": [],
   "source": [
    "# top_hours = spark.sql('select PUHour, count(*) FROM jan_2017_cleaning GROUP BY 1 ORDER BY COUNT(*) DESC').cache()\n"
   ]
  },
  {
   "cell_type": "code",
   "execution_count": 154,
   "metadata": {},
   "outputs": [],
   "source": [
    "# top_hours_per_week = spark.sql('select PU_DOW, PUHour, count(*) FROM jan_2017_cleaning GROUP BY 1, 2 ORDER BY COUNT(*) DESC').cache()\n"
   ]
  },
  {
   "cell_type": "code",
   "execution_count": 155,
   "metadata": {},
   "outputs": [],
   "source": [
    "# top_hours_per_week.show()"
   ]
  },
  {
   "cell_type": "code",
   "execution_count": 156,
   "metadata": {},
   "outputs": [],
   "source": [
    "# hours_per_day = spark.sql('select PUHour, count(*) FROM jan_2017_cleaning GROUP BY 1 ORDER BY PUHour ASC ').cache()\n",
    "# hours_per_day.show()"
   ]
  },
  {
   "cell_type": "code",
   "execution_count": 157,
   "metadata": {},
   "outputs": [],
   "source": [
    "# hours_per_week.show(168)\n"
   ]
  },
  {
   "cell_type": "code",
   "execution_count": 158,
   "metadata": {},
   "outputs": [],
   "source": [
    "\n",
    "# # create some random data\n",
    "# y = np.array(hours_per_week.select('count(1)').collect())\n",
    "# x = np.arange(len(y))\n",
    "\n",
    "\n",
    "\n",
    "# # plot it\n",
    "# fig, ax = plt.subplots(1,1,figsize=(10,3))\n",
    "# plt.plot(y, color='k')\n",
    "# plt.xticks(np.arange(min(x), max(x)+1, 12.0))\n",
    "\n",
    "\n",
    "# #show it\n",
    "# plt.show()"
   ]
  },
  {
   "cell_type": "code",
   "execution_count": 1044,
   "metadata": {
    "collapsed": true
   },
   "outputs": [
    {
     "data": {
      "text/plain": [
       "[<matplotlib.lines.Line2D at 0x7f2d785a2ac8>]"
      ]
     },
     "execution_count": 1044,
     "metadata": {},
     "output_type": "execute_result"
    },
    {
     "data": {
      "image/png": "[encoded data removed]",
      "text/plain": [
       "<matplotlib.figure.Figure at 0x7f2d7862fac8>"
      ]
     },
     "metadata": {},
     "output_type": "display_data"
    }
   ],
   "source": [
    "# plt.plot(x, y, linewidth=2.0)\n"
   ]
  },
  {
   "cell_type": "code",
   "execution_count": 1046,
   "metadata": {},
   "outputs": [],
   "source": [
    "#next steps\n",
    "#dropping fields that related to drop off (except DOLocationID which is what we're trying to predict)\n",
    "\n",
    "#one hot encode\n",
    "#store all the data"
   ]
  },
  {
   "cell_type": "code",
   "execution_count": null,
   "metadata": {},
   "outputs": [],
   "source": []
  }
 ],
 "metadata": {
  "kernelspec": {
   "display_name": "Python 3",
   "language": "python",
   "name": "python3"
  },
  "language_info": {
   "codemirror_mode": {
    "name": "ipython",
    "version": 3
   },
   "file_extension": ".py",
   "mimetype": "text/x-python",
   "name": "python",
   "nbconvert_exporter": "python",
   "pygments_lexer": "ipython3",
   "version": "3.6.4"
  }
 },
 "nbformat": 4,
 "nbformat_minor": 2
}
