{
 "cells": [
  {
   "cell_type": "code",
   "execution_count": 1,
   "metadata": {},
   "outputs": [
    {
     "name": "stdout",
     "output_type": "stream",
     "text": [
      "Requirement already up-to-date: scikit-learn in /opt/conda/lib/python3.6/site-packages\n",
      "\u001b[33mYou are using pip version 9.0.1, however version 10.0.1 is available.\n",
      "You should consider upgrading via the 'pip install --upgrade pip' command.\u001b[0m\n"
     ]
    }
   ],
   "source": [
    "! pip install -U scikit-learn"
   ]
  },
  {
   "cell_type": "code",
   "execution_count": 2,
   "metadata": {},
   "outputs": [
    {
     "name": "stdout",
     "output_type": "stream",
     "text": [
      "Requirement already satisfied: lightning-python in /opt/conda/lib/python3.6/site-packages\n",
      "Requirement already satisfied: requests in /opt/conda/lib/python3.6/site-packages (from lightning-python)\n",
      "Requirement already satisfied: six in /opt/conda/lib/python3.6/site-packages (from lightning-python)\n",
      "Requirement already satisfied: pytest in /opt/conda/lib/python3.6/site-packages (from lightning-python)\n",
      "Requirement already satisfied: matplotlib in /opt/conda/lib/python3.6/site-packages (from lightning-python)\n",
      "Requirement already satisfied: jinja2 in /opt/conda/lib/python3.6/site-packages (from lightning-python)\n",
      "Requirement already satisfied: setuptools in /opt/conda/lib/python3.6/site-packages (from lightning-python)\n",
      "Requirement already satisfied: numpy in /opt/conda/lib/python3.6/site-packages (from lightning-python)\n",
      "Requirement already satisfied: chardet<3.1.0,>=3.0.2 in /opt/conda/lib/python3.6/site-packages (from requests->lightning-python)\n",
      "Requirement already satisfied: idna<2.7,>=2.5 in /opt/conda/lib/python3.6/site-packages (from requests->lightning-python)\n",
      "Requirement already satisfied: urllib3<1.23,>=1.21.1 in /opt/conda/lib/python3.6/site-packages (from requests->lightning-python)\n",
      "Requirement already satisfied: certifi>=2017.4.17 in /opt/conda/lib/python3.6/site-packages (from requests->lightning-python)\n",
      "Requirement already satisfied: pluggy<0.7,>=0.5 in /opt/conda/lib/python3.6/site-packages (from pytest->lightning-python)\n",
      "Requirement already satisfied: more-itertools>=4.0.0 in /opt/conda/lib/python3.6/site-packages (from pytest->lightning-python)\n",
      "Requirement already satisfied: py>=1.5.0 in /opt/conda/lib/python3.6/site-packages (from pytest->lightning-python)\n",
      "Requirement already satisfied: attrs>=17.4.0 in /opt/conda/lib/python3.6/site-packages (from pytest->lightning-python)\n",
      "Requirement already satisfied: python-dateutil>=2.0 in /opt/conda/lib/python3.6/site-packages (from matplotlib->lightning-python)\n",
      "Requirement already satisfied: pytz in /opt/conda/lib/python3.6/site-packages (from matplotlib->lightning-python)\n",
      "Requirement already satisfied: cycler>=0.10 in /opt/conda/lib/python3.6/site-packages/cycler-0.10.0-py3.6.egg (from matplotlib->lightning-python)\n",
      "Requirement already satisfied: pyparsing!=2.0.4,!=2.1.2,!=2.1.6,>=2.0.1 in /opt/conda/lib/python3.6/site-packages (from matplotlib->lightning-python)\n",
      "Requirement already satisfied: MarkupSafe>=0.23 in /opt/conda/lib/python3.6/site-packages (from jinja2->lightning-python)\n",
      "\u001b[33mYou are using pip version 9.0.1, however version 10.0.1 is available.\n",
      "You should consider upgrading via the 'pip install --upgrade pip' command.\u001b[0m\n"
     ]
    }
   ],
   "source": [
    "! pip install lightning-python"
   ]
  },
  {
   "cell_type": "code",
   "execution_count": 2,
   "metadata": {},
   "outputs": [],
   "source": [
    "import matplotlib.pyplot as plt \n",
    "from pyspark.sql import SparkSession\n",
    "from pyspark import SparkContext, SparkConf\n",
    "from pyspark.sql.types import *\n",
    "import pyspark.sql.functions as F\n",
    "from pyspark.sql.functions import udf\n",
    "from pyspark.sql.functions import when\n",
    "from pyspark import SparkContext as sc\n",
    "from pyspark.sql.functions import col, split, ltrim, substring\n",
    "import pyspark.sql as SQL\n",
    "from pyspark.sql.functions import *\n",
    "import datetime\n",
    "import calendar\n",
    "import pandas as pd\n",
    "from pyspark.ml.linalg import Vectors\n",
    "from pyspark.ml.regression import LinearRegression\n",
    "from pyspark.sql.types import *\n",
    "import matplotlib.pyplot as plt\n",
    "import numpy as np\n",
    "from pyspark.mllib.linalg import Vectors\n",
    "from pyspark.mllib.linalg.distributed import RowMatrix\n",
    "from pyspark.ml.feature import *\n",
    "from pyspark.ml.linalg import Vectors\n",
    "from pyspark.ml.classification import MultilayerPerceptronClassifier\n",
    "from pyspark.ml.evaluation import MulticlassClassificationEvaluator\n"
   ]
  },
  {
   "cell_type": "code",
   "execution_count": 3,
   "metadata": {},
   "outputs": [],
   "source": [
    "conf = SparkConf().setAppName(\"Jan-01\").setMaster(\"local[*]\")\n",
    "sc = SparkContext(conf=conf)"
   ]
  },
  {
   "cell_type": "code",
   "execution_count": 4,
   "metadata": {},
   "outputs": [],
   "source": [
    "spark = SparkSession.builder.appName('Jan-01').getOrCreate()"
   ]
  },
  {
   "cell_type": "code",
   "execution_count": 5,
   "metadata": {},
   "outputs": [],
   "source": [
    "# Download and decompress data into your Jupyter environment; abreviated jan 2017 data\n",
    "jan_2017 = spark.read.format(\"csv\").load('yellow_tripdata_half.csv', header = True)\n",
    "#jan_2017.count()"
   ]
  },
  {
   "cell_type": "code",
   "execution_count": 6,
   "metadata": {},
   "outputs": [],
   "source": [
    "#need to get two dataframes to merge on, or else get cartesian product error\n",
    "taxi_zone = spark.read.format(\"csv\").load('taxi+_zone_lookup.csv', header = True)"
   ]
  },
  {
   "cell_type": "code",
   "execution_count": 7,
   "metadata": {},
   "outputs": [],
   "source": [
    "#merging to get destination information\n",
    "jan_2017 = jan_2017.join(taxi_zone, jan_2017.PULocationID == taxi_zone.LocationID, \"left_outer\"). \\\n",
    "                withColumnRenamed(\"Borough\", \"PUBorough\").withColumnRenamed(\"Zone\", \"PUZone\").withColumnRenamed(\"service_zone\", \"PUServiceZone\").\\\n",
    "                withColumnRenamed(\"neighborhood\", \"PUneighbor\").cache()"
   ]
  },
  {
   "cell_type": "code",
   "execution_count": 8,
   "metadata": {},
   "outputs": [],
   "source": [
    "manhattan = [263,262,261,249,246,244,243,239,\\\n",
    "238,237,236,234,\\\n",
    "233,232,231,230,\\\n",
    "229,224,211,209,\\\n",
    "202,194,186,170,\\\n",
    "166,164,163,162,\\\n",
    "161,158,153,152,\\\n",
    "151,148,144,143,\\\n",
    "142,141,140,137,128,\\\n",
    "127,125,120,116,\\\n",
    "114,113,107,105,\\\n",
    "104,103,100,90,\\\n",
    "88,87,79,75,\\\n",
    "74,68,50,48,45,43,42,41,24,13,12,4]"
   ]
  },
  {
   "cell_type": "code",
   "execution_count": null,
   "metadata": {},
   "outputs": [],
   "source": []
  },
  {
   "cell_type": "code",
   "execution_count": 9,
   "metadata": {},
   "outputs": [],
   "source": [
    "#make unique ID\n",
    "jan_2017 = jan_2017.withColumn(\"uniqueIdColumn\", monotonically_increasing_id())"
   ]
  },
  {
   "cell_type": "code",
   "execution_count": 10,
   "metadata": {},
   "outputs": [],
   "source": [
    "jan_2017 = jan_2017.drop(\"LocationID\")"
   ]
  },
  {
   "cell_type": "code",
   "execution_count": 11,
   "metadata": {},
   "outputs": [],
   "source": [
    "#encoding if pickup is an aiport\n",
    "jan_2017 = jan_2017.withColumn(\"AirportPU\", \\\n",
    "                               F.when((jan_2017[\"PULocationID\"] == '138' ) | \\\n",
    "                                      (jan_2017[\"PULocationID\"] == '132') |\\\n",
    "                                      (jan_2017[\"PULocationID\"] == '1'),1).otherwise(0))"
   ]
  },
  {
   "cell_type": "code",
   "execution_count": 12,
   "metadata": {},
   "outputs": [],
   "source": [
    "#cleaning data\n",
    "jan_2017 = jan_2017.where((jan_2017['PUBorough'] != 'Unknown'))"
   ]
  },
  {
   "cell_type": "code",
   "execution_count": 13,
   "metadata": {},
   "outputs": [],
   "source": [
    "#splitting up time and date\n",
    "split_pickup_col = split(jan_2017['tpep_pickup_datetime'], ' ')\n",
    "jan_2017 = jan_2017.withColumn(\"PUDate\", split_pickup_col.getItem(0).cast(DateType()))\n",
    "jan_2017 = jan_2017.withColumn(\"PUTime\", split_pickup_col.getItem(1))"
   ]
  },
  {
   "cell_type": "code",
   "execution_count": 14,
   "metadata": {},
   "outputs": [],
   "source": [
    "#splitting time into hour and minute; will round minute to nearest 5 minutes\n",
    "split_PUTime = split(jan_2017['PUTime'], ':')\n",
    "jan_2017 = jan_2017.withColumn(\"PUHour\", split_PUTime.getItem(0).cast(IntegerType()))\n",
    "jan_2017 = jan_2017.withColumn(\"PUMinute\", split_PUTime.getItem(1).cast(IntegerType()))"
   ]
  },
  {
   "cell_type": "code",
   "execution_count": 15,
   "metadata": {},
   "outputs": [],
   "source": [
    "#rush hour\n",
    "jan_2017 = jan_2017.withColumn(\"MorningRushHour\", \\\n",
    "                               F.when((jan_2017[\"PUHour\"] >= 6 ) & \\\n",
    "                                      (jan_2017[\"PUHour\"] < 9),1).otherwise(0))"
   ]
  },
  {
   "cell_type": "code",
   "execution_count": 16,
   "metadata": {},
   "outputs": [],
   "source": [
    "jan_2017 = jan_2017.withColumn(\"EveningRushHour\", \\\n",
    "                               F.when((jan_2017[\"PUHour\"] >= 17 ) & \\\n",
    "                                      (jan_2017[\"PUHour\"] < 21),1).otherwise(0))"
   ]
  },
  {
   "cell_type": "code",
   "execution_count": 17,
   "metadata": {},
   "outputs": [],
   "source": [
    "jan_2017 = jan_2017.withColumn(\"PUDay\", dayofyear(jan_2017.PUDate))"
   ]
  },
  {
   "cell_type": "code",
   "execution_count": 18,
   "metadata": {},
   "outputs": [],
   "source": [
    "#rounding down mintue to closest 5 minute mark (computationally easier)\n",
    "#jan_2017 = jan_2017.withColumn(\"DOMinute\", (jan_2017.DOMinute - jan_2017.DOMinute%5))\n",
    "jan_2017 = jan_2017.withColumn(\"PUMinute\", (jan_2017.PUMinute - jan_2017.PUMinute%5))"
   ]
  },
  {
   "cell_type": "code",
   "execution_count": 19,
   "metadata": {},
   "outputs": [],
   "source": [
    "#DOW gives you 1 (Monday) - 7 (Sunday)\n",
    "jan_2017 = jan_2017.withColumn(\"PU_DOW\",  date_format(jan_2017.PUDate, 'u').cast(ShortType()))\n",
    "#jan_2017 = jan_2017.withColumn(\"DO_DOW\",  date_format(jan_2017.DODate, 'u').cast(ShortType()))"
   ]
  },
  {
   "cell_type": "code",
   "execution_count": 20,
   "metadata": {},
   "outputs": [],
   "source": [
    "#encoding if destination is a weekend\n",
    "jan_2017 = jan_2017.withColumn(\"Weekend\", \\\n",
    "                               F.when((jan_2017[\"PU_DOW\"] == 7) | \\\n",
    "                                      (jan_2017[\"PU_DOW\"] == 6),1).otherwise(0))"
   ]
  },
  {
   "cell_type": "code",
   "execution_count": 21,
   "metadata": {},
   "outputs": [],
   "source": [
    "jan_2017 = jan_2017.withColumn(\"WorkingHour\", \\\n",
    "                               F.when((((jan_2017[\"PUHour\"] >= 9 ) & (jan_2017[\"PUHour\"] < 17))\\\n",
    "                                       & (jan_2017[\"Weekend\"] == 0)) ,1).otherwise(0))"
   ]
  },
  {
   "cell_type": "code",
   "execution_count": 22,
   "metadata": {},
   "outputs": [],
   "source": [
    "# jan_2017.show()"
   ]
  },
  {
   "cell_type": "code",
   "execution_count": 23,
   "metadata": {},
   "outputs": [],
   "source": [
    "#casting data types to primitives\n",
    "\n",
    "#1= Creative Mobile Technologies, LLC; 2= VeriFone Inc.\n",
    "jan_2017 = jan_2017.withColumn(\"VendorID\", jan_2017[\"VendorID\"].cast(ShortType()))\n",
    "\n",
    "jan_2017 = jan_2017.withColumn(\"passenger_count\", jan_2017[\"passenger_count\"].cast(ShortType()))\n",
    "\n",
    "#in miles\n",
    "jan_2017 = jan_2017.withColumn(\"trip_distance\", jan_2017[\"trip_distance\"].cast(FloatType()))\n",
    "\n",
    "#1= Credit card\n",
    "#2= Cash\n",
    "#3= No charge\n",
    "#4= Dispute\n",
    "#5= Unknown\n",
    "#6= Voided trip\n",
    "jan_2017 = jan_2017.withColumn(\"payment_type\", jan_2017[\"payment_type\"].cast(ShortType()))\n",
    "jan_2017 = jan_2017.withColumn(\"fare_amount\", jan_2017[\"fare_amount\"].cast(FloatType()))\n",
    "\n",
    "#0.50 and $1 rush hour and overnight charges.\n",
    "jan_2017 = jan_2017.withColumn(\"extra\", jan_2017[\"extra\"].cast(FloatType()))\n",
    "#.50, automatic MTA charge\n",
    "jan_2017 = jan_2017.withColumn(\"mta_tax\", jan_2017[\"mta_tax\"].cast(FloatType()))\n",
    "\n",
    "\n",
    "jan_2017 = jan_2017.withColumn(\"tip_amount\", jan_2017[\"tip_amount\"].cast(FloatType()))\n",
    "jan_2017 = jan_2017.withColumn(\"tolls_amount\", jan_2017[\"tolls_amount\"].cast(FloatType()))\n",
    "jan_2017 = jan_2017.withColumn(\"improvement_surcharge\", jan_2017[\"improvement_surcharge\"].cast(FloatType()))\n",
    "jan_2017 = jan_2017.withColumn(\"total_amount\", jan_2017[\"total_amount\"].cast(FloatType()))\n",
    "\n",
    "\n",
    "jan_2017 = jan_2017.withColumn(\"RateCodeID\", jan_2017[\"RateCodeID\"].cast(ShortType()))\n",
    "#1= Standard rate\n",
    "#2=JFK -> $52 flat fare\n",
    "#3=Newark\n",
    "#4=Nassau or Westchester\n",
    "#5=Negotiated fare\n",
    "#6=Group ride"
   ]
  },
  {
   "cell_type": "code",
   "execution_count": 24,
   "metadata": {},
   "outputs": [],
   "source": [
    "#basic fare cleaning, ensure that all values are above zero\n",
    "jan_2017 = jan_2017.filter(jan_2017.tip_amount >= 0)"
   ]
  },
  {
   "cell_type": "code",
   "execution_count": 25,
   "metadata": {},
   "outputs": [],
   "source": [
    "#basic fare cleaning, ensure that all values are above zero\n",
    "jan_2017 = jan_2017.filter(jan_2017.tolls_amount >= 0.0) "
   ]
  },
  {
   "cell_type": "code",
   "execution_count": 26,
   "metadata": {},
   "outputs": [],
   "source": [
    "#basic fare cleaning, ensure that all values are above zero\n",
    "jan_2017 = jan_2017.filter(jan_2017.total_amount >= 3.30)"
   ]
  },
  {
   "cell_type": "code",
   "execution_count": 27,
   "metadata": {},
   "outputs": [],
   "source": [
    "#basic fare cleaning, ensure that all values are above zero\n",
    "jan_2017 = jan_2017.filter(jan_2017.extra >= 0.00)"
   ]
  },
  {
   "cell_type": "code",
   "execution_count": 28,
   "metadata": {},
   "outputs": [],
   "source": [
    "#minimum fare amounts according to NYC Taxi data standards\n",
    "jan_2017 = jan_2017.filter((jan_2017.fare_amount >= 2.50))"
   ]
  },
  {
   "cell_type": "code",
   "execution_count": 29,
   "metadata": {},
   "outputs": [],
   "source": [
    "#minimum fare amounts according to NYC Taxi data standards\n",
    "jan_2017 = jan_2017.filter(jan_2017.improvement_surcharge >= 0.3)"
   ]
  },
  {
   "cell_type": "code",
   "execution_count": 30,
   "metadata": {},
   "outputs": [],
   "source": [
    "#minimum fare amounts according to NYC Taxi data standards\n",
    "jan_2017 = jan_2017.filter(jan_2017.mta_tax >= 0.5)"
   ]
  },
  {
   "cell_type": "code",
   "execution_count": 31,
   "metadata": {},
   "outputs": [],
   "source": [
    "jan_2017 = jan_2017.withColumn(\"PLocationID\", jan_2017.PULocationID.cast(IntegerType())).drop(\"PULocationID\")\n",
    "jan_2017 = jan_2017.withColumn(\"DLocationID\", jan_2017.DOLocationID.cast(IntegerType())).drop(\"DOLocationID\")\n",
    "#sampe.printSchema()\n",
    "\n",
    "jan_2017 = jan_2017.filter(jan_2017.PLocationID.isin(manhattan) & jan_2017.DLocationID.isin(manhattan))\n"
   ]
  },
  {
   "cell_type": "code",
   "execution_count": 32,
   "metadata": {},
   "outputs": [],
   "source": [
    "# jan_2017.printSchema()\n",
    "jan_2017 = jan_2017.drop('tpep_pickup_datetime')\n",
    "jan_2017 = jan_2017.drop('tpep_dropoff_datetime')"
   ]
  },
  {
   "cell_type": "code",
   "execution_count": 33,
   "metadata": {},
   "outputs": [],
   "source": [
    "jan_2017 = jan_2017.drop('payment_type')\n",
    "jan_2017 = jan_2017.drop('fare_amount')\n",
    "jan_2017 = jan_2017.drop('extra')\n",
    "jan_2017 = jan_2017.drop('mta_tax')\n",
    "jan_2017 = jan_2017.drop('tip_amount')\n",
    "jan_2017 = jan_2017.drop('tolls_amount')\n",
    "jan_2017 = jan_2017.drop('improvement_surcharge')\n",
    "jan_2017 = jan_2017.drop('total_amount')"
   ]
  },
  {
   "cell_type": "code",
   "execution_count": 34,
   "metadata": {},
   "outputs": [],
   "source": [
    "jan_2017 = jan_2017.drop('trip_distance')\n",
    "jan_2017 = jan_2017.drop('store_and_fwd_flag')"
   ]
  },
  {
   "cell_type": "code",
   "execution_count": 35,
   "metadata": {},
   "outputs": [],
   "source": [
    "#load weather data for merging\n",
    "weather_data = spark.read.format(\"csv\").load('weather.csv', header = True)"
   ]
  },
  {
   "cell_type": "code",
   "execution_count": 36,
   "metadata": {},
   "outputs": [],
   "source": [
    "# weather_data.createOrReplaceTempView('weather_data_sdf')"
   ]
  },
  {
   "cell_type": "code",
   "execution_count": 37,
   "metadata": {},
   "outputs": [],
   "source": [
    "# weather_data = spark.sql('SELECT CAST(split(value, \",\")[0] as string) AS date, '\\\n",
    "#                         'CAST(split(value, \",\")[1] as string) as time, '\\\n",
    "#                         'CAST(split(value, \",\")[2] as float) as temp, '\\\n",
    "#                         'CAST(split(value, \",\")[3] as float) as windchill, '\\\n",
    "#                         'CAST(split(value, \",\")[4] as float) as dewpoint, '\\\n",
    "#                         'CAST(split(value, \",\")[5] as float) as humidity, '\\\n",
    "#                         'CAST(split(value, \",\")[6] as float) as pressure, '\\\n",
    "#                         'CAST(split(value, \",\")[7] as float) as visibility, '\\\n",
    "#                         'CAST(split(value, \",\")[8] as string) as windDir, '\\\n",
    "#                         'CAST(split(value, \",\")[9] as float) as windSpeed, '\\\n",
    "#                         'CAST(split(value, \",\")[10] as float) as gustSpeed, '\\\n",
    "#                         'CAST(split(value, \",\")[11] as float) as Precip, '\\\n",
    "#                         'CAST(split(value, \",\")[12] as string) as Events, '\\\n",
    "#                         'CAST(split(value, \",\")[13] as string) as Conditions '\\\n",
    "#                          'FROM weather_data_sdf')\n",
    "weather_data = weather_data.withColumn(\"temp\", weather_data[\"tempTemperature\"].cast(DoubleType())).drop('tempTemperature')\n",
    "weather_data = weather_data.withColumn(\"windChill\", weather_data[\"tempFeelsLike\"].cast(DoubleType())).drop('tempFeelsLike')\n",
    "weather_data = weather_data.withColumn(\"dewpoint\", weather_data[\"tempDewpoint\"].cast(DoubleType())).drop('tempDewpoint')\n",
    "weather_data = weather_data.withColumn(\"humidity\", weather_data[\"tempHumidity\"].cast(DoubleType())).drop('tempHumidity')\n",
    "weather_data = weather_data.withColumn(\"pressure\", weather_data[\"tempPressure\"].cast(DoubleType())).drop('tempPressure')\n",
    "weather_data = weather_data.withColumn(\"visibility\", weather_data[\"tempVisibility\"].cast(DoubleType())).drop('tempVisibility')\n",
    "\n",
    "\n",
    "weather_data = weather_data.withColumn(\"windSpeed\", weather_data[\"tempWindSpeed\"].cast(DoubleType())).drop('tempWindSpeed')\n",
    "weather_data = weather_data.withColumn(\"gustSpeed\", weather_data[\"tempGustSpeed\"].cast(DoubleType())).drop('tempGustSpeed')\n",
    "weather_data = weather_data.withColumn(\"Precip\", weather_data[\"tempPrecip\"].cast(DoubleType())).drop('tempPrecip')"
   ]
  },
  {
   "cell_type": "code",
   "execution_count": 38,
   "metadata": {},
   "outputs": [
    {
     "name": "stdout",
     "output_type": "stream",
     "text": [
      "+----------+--------+-------+------+-------------+----+---------+--------+--------+--------+----------+---------+---------+------+\n",
      "|      date|    time|windDir|Events|    Condition|temp|windChill|dewpoint|humidity|pressure|visibility|windSpeed|gustSpeed|Precip|\n",
      "+----------+--------+-------+------+-------------+----+---------+--------+--------+--------+----------+---------+---------+------+\n",
      "|2017-12-31| 9:51 PM|     NW|  None|        Clear|10.0|     -5.2|    -5.1|    51.0|   30.32|      10.0|     12.7|     21.9|   0.0|\n",
      "|2017-12-31|10:51 PM|    WNW|  None|        Clear|10.0|     -4.5|    -4.0|    53.0|   30.32|      10.0|     11.5|     18.4|   0.0|\n",
      "|2017-12-31|11:51 PM|    WNW|  None|        Clear| 9.0|     -4.2|    -4.0|    56.0|   30.31|      10.0|      9.2|     19.6|   0.0|\n",
      "|2017-12-31| 7:51 PM|    WNW|  None|        Clear|12.0|     -2.0|    -5.1|    46.0|   30.32|      10.0|     11.5|     19.6|   0.0|\n",
      "|2017-12-31| 8:51 PM|    WNW|  None|        Clear|10.9|     -1.8|    -5.1|    49.0|   30.33|      10.0|      9.2|     20.7|   0.0|\n",
      "|2017-12-31| 5:51 PM|     NW|  None|        Clear|12.9|     -0.9|    -5.1|    45.0|    30.3|      10.0|     11.5|     17.3|   0.0|\n",
      "|2017-12-29| 2:51 AM|     NW|  None|        Clear|10.9|     -0.8|    -2.9|    54.0|   30.38|      10.0|      8.1|      0.0|   0.0|\n",
      "|2017-12-31| 7:51 AM|     NW|  None|        Clear|14.0|     -0.8|    -2.9|    47.0|   30.22|      10.0|     13.8|     21.9|   0.0|\n",
      "|2017-12-28|10:51 PM|    WNW|  None|        Clear|12.0|     -0.4|    -4.0|    49.0|   30.42|      10.0|      9.2|     16.1|   0.0|\n",
      "|2017-12-31| 6:51 PM|    WNW|  None|        Clear|12.0|     -0.4|    -5.1|    46.0|   30.32|      10.0|      9.2|     18.4|   0.0|\n",
      "|2017-12-28| 5:51 AM|     NW|  None|        Clear|14.0|      0.5|    -0.9|    52.0|    30.5|      10.0|     11.5|     20.7|   0.0|\n",
      "|2017-12-28|11:51 PM|     NW|  None|        Clear|12.0|      0.5|    -4.0|    49.0|   30.42|      10.0|      8.1|      0.0|   0.0|\n",
      "|2017-12-28| 8:51 AM|    WNW|  None|        Clear|12.9|      0.7|    -5.1|    45.0|   30.56|      10.0|      9.2|     23.0|   0.0|\n",
      "|2017-12-28| 7:51 AM|     NW|  None|        Clear|12.9|      0.7|    -2.0|    51.0|   30.55|      10.0|      9.2|      0.0|   0.0|\n",
      "|2017-12-28| 8:51 PM|     NW|  None|        Clear|12.9|      0.7|    -6.0|    43.0|   30.47|      10.0|      9.2|     19.6|   0.0|\n",
      "|2017-12-31| 9:51 AM|    WNW|  None|        Clear|12.9|      0.7|    -4.0|    47.0|   30.29|      10.0|      9.2|     20.7|   0.0|\n",
      "|2017-12-28| 7:51 PM|    WNW|  None|        Clear|15.1|      1.1|    -6.0|    39.0|   30.48|      10.0|     12.7|     21.9|   0.0|\n",
      "|2017-12-28| 4:51 AM|   West|  None|        Clear|14.0|      1.2|     0.0|    54.0|    30.5|      10.0|     10.4|     17.3|   0.0|\n",
      "|2017-12-29|12:51 AM|   West|  None|        Clear|10.9|      1.4|    -2.9|    54.0|    30.4|      10.0|      5.8|      0.0|   0.0|\n",
      "|2017-12-29| 3:51 AM|    WNW|  None|Mostly Cloudy|12.0|      1.5|    -2.0|    53.0|   30.37|      10.0|      6.9|      0.0|   0.0|\n",
      "+----------+--------+-------+------+-------------+----+---------+--------+--------+--------+----------+---------+---------+------+\n",
      "only showing top 20 rows\n",
      "\n"
     ]
    }
   ],
   "source": [
    "weather_data.show()"
   ]
  },
  {
   "cell_type": "code",
   "execution_count": 39,
   "metadata": {},
   "outputs": [],
   "source": [
    "#cast date to date type\n",
    "weather_data = weather_data.withColumn(\"date\", weather_data.date.cast(DateType()))"
   ]
  },
  {
   "cell_type": "code",
   "execution_count": 40,
   "metadata": {},
   "outputs": [],
   "source": [
    "#data to change\n",
    "def period(x):\n",
    "    return split(split(x, ':')[1], \" \")[1]"
   ]
  },
  {
   "cell_type": "code",
   "execution_count": 41,
   "metadata": {},
   "outputs": [],
   "source": [
    "#data to change\n",
    "def toHour(x):\n",
    "    first_split = split(x, ':')\n",
    "    retval = first_split[0].cast(IntegerType()) % 12\n",
    "    return retval "
   ]
  },
  {
   "cell_type": "code",
   "execution_count": 42,
   "metadata": {},
   "outputs": [],
   "source": [
    "#get am or pm\n",
    "weather_data = weather_data.withColumn(\"period\", period(\"time\"))"
   ]
  },
  {
   "cell_type": "code",
   "execution_count": 43,
   "metadata": {},
   "outputs": [],
   "source": [
    "#make hour military time\n",
    "weather_data = weather_data.withColumn(\"hour\", when(weather_data.period == 'PM', toHour(\"time\") + 12).otherwise(toHour(\"time\")))"
   ]
  },
  {
   "cell_type": "code",
   "execution_count": 44,
   "metadata": {
    "scrolled": true
   },
   "outputs": [
    {
     "name": "stdout",
     "output_type": "stream",
     "text": [
      "+----------+--------+-------+------+-------------+----+---------+--------+--------+--------+----------+---------+---------+------+------+----+\n",
      "|      date|    time|windDir|Events|    Condition|temp|windChill|dewpoint|humidity|pressure|visibility|windSpeed|gustSpeed|Precip|period|hour|\n",
      "+----------+--------+-------+------+-------------+----+---------+--------+--------+--------+----------+---------+---------+------+------+----+\n",
      "|2017-12-31| 9:51 PM|     NW|  None|        Clear|10.0|     -5.2|    -5.1|    51.0|   30.32|      10.0|     12.7|     21.9|   0.0|    PM|  21|\n",
      "|2017-12-31|10:51 PM|    WNW|  None|        Clear|10.0|     -4.5|    -4.0|    53.0|   30.32|      10.0|     11.5|     18.4|   0.0|    PM|  22|\n",
      "|2017-12-31|11:51 PM|    WNW|  None|        Clear| 9.0|     -4.2|    -4.0|    56.0|   30.31|      10.0|      9.2|     19.6|   0.0|    PM|  23|\n",
      "|2017-12-31| 7:51 PM|    WNW|  None|        Clear|12.0|     -2.0|    -5.1|    46.0|   30.32|      10.0|     11.5|     19.6|   0.0|    PM|  19|\n",
      "|2017-12-31| 8:51 PM|    WNW|  None|        Clear|10.9|     -1.8|    -5.1|    49.0|   30.33|      10.0|      9.2|     20.7|   0.0|    PM|  20|\n",
      "|2017-12-31| 5:51 PM|     NW|  None|        Clear|12.9|     -0.9|    -5.1|    45.0|    30.3|      10.0|     11.5|     17.3|   0.0|    PM|  17|\n",
      "|2017-12-29| 2:51 AM|     NW|  None|        Clear|10.9|     -0.8|    -2.9|    54.0|   30.38|      10.0|      8.1|      0.0|   0.0|    AM|   2|\n",
      "|2017-12-31| 7:51 AM|     NW|  None|        Clear|14.0|     -0.8|    -2.9|    47.0|   30.22|      10.0|     13.8|     21.9|   0.0|    AM|   7|\n",
      "|2017-12-28|10:51 PM|    WNW|  None|        Clear|12.0|     -0.4|    -4.0|    49.0|   30.42|      10.0|      9.2|     16.1|   0.0|    PM|  22|\n",
      "|2017-12-31| 6:51 PM|    WNW|  None|        Clear|12.0|     -0.4|    -5.1|    46.0|   30.32|      10.0|      9.2|     18.4|   0.0|    PM|  18|\n",
      "|2017-12-28| 5:51 AM|     NW|  None|        Clear|14.0|      0.5|    -0.9|    52.0|    30.5|      10.0|     11.5|     20.7|   0.0|    AM|   5|\n",
      "|2017-12-28|11:51 PM|     NW|  None|        Clear|12.0|      0.5|    -4.0|    49.0|   30.42|      10.0|      8.1|      0.0|   0.0|    PM|  23|\n",
      "|2017-12-28| 8:51 AM|    WNW|  None|        Clear|12.9|      0.7|    -5.1|    45.0|   30.56|      10.0|      9.2|     23.0|   0.0|    AM|   8|\n",
      "|2017-12-28| 7:51 AM|     NW|  None|        Clear|12.9|      0.7|    -2.0|    51.0|   30.55|      10.0|      9.2|      0.0|   0.0|    AM|   7|\n",
      "|2017-12-28| 8:51 PM|     NW|  None|        Clear|12.9|      0.7|    -6.0|    43.0|   30.47|      10.0|      9.2|     19.6|   0.0|    PM|  20|\n",
      "|2017-12-31| 9:51 AM|    WNW|  None|        Clear|12.9|      0.7|    -4.0|    47.0|   30.29|      10.0|      9.2|     20.7|   0.0|    AM|   9|\n",
      "|2017-12-28| 7:51 PM|    WNW|  None|        Clear|15.1|      1.1|    -6.0|    39.0|   30.48|      10.0|     12.7|     21.9|   0.0|    PM|  19|\n",
      "|2017-12-28| 4:51 AM|   West|  None|        Clear|14.0|      1.2|     0.0|    54.0|    30.5|      10.0|     10.4|     17.3|   0.0|    AM|   4|\n",
      "|2017-12-29|12:51 AM|   West|  None|        Clear|10.9|      1.4|    -2.9|    54.0|    30.4|      10.0|      5.8|      0.0|   0.0|    AM|   0|\n",
      "|2017-12-29| 3:51 AM|    WNW|  None|Mostly Cloudy|12.0|      1.5|    -2.0|    53.0|   30.37|      10.0|      6.9|      0.0|   0.0|    AM|   3|\n",
      "+----------+--------+-------+------+-------------+----+---------+--------+--------+--------+----------+---------+---------+------+------+----+\n",
      "only showing top 20 rows\n",
      "\n"
     ]
    }
   ],
   "source": [
    "weather_data.show()"
   ]
  },
  {
   "cell_type": "code",
   "execution_count": 45,
   "metadata": {},
   "outputs": [],
   "source": [
    "# #fill any nulls\n",
    "weather_data = weather_data.na.fill(0)"
   ]
  },
  {
   "cell_type": "code",
   "execution_count": 46,
   "metadata": {},
   "outputs": [],
   "source": [
    "#data to join\n",
    "jan_2017 = jan_2017.join(weather_data, (jan_2017.PUDate == weather_data.date) & \\\n",
    "                         (jan_2017.PUHour == weather_data.hour), \"left_outer\")"
   ]
  },
  {
   "cell_type": "code",
   "execution_count": 47,
   "metadata": {},
   "outputs": [],
   "source": [
    "jan_2017 = jan_2017.dropDuplicates(['uniqueIdColumn'])"
   ]
  },
  {
   "cell_type": "code",
   "execution_count": 48,
   "metadata": {},
   "outputs": [],
   "source": [
    "#extra, payment type, fare amount, mta_tax, tip_amount, tollsamount, total_amount, improvement surcharge\n",
    "\n",
    "# Categorical Features\n",
    "# RateCodeID\n",
    "# store_and_fwd_flag\n",
    "# PULocationID\n",
    "# DOLocationID\n",
    "# LocationID (1 to 256)\n",
    "# PUBorough (comes from taxi+_lookup_zone)\n",
    "# PUZone (Name for Location ID)\n",
    "# PUServiceZone (Categorical)\n",
    "# PUNeighbor (Demographics Neighborhood)\n",
    "# PUDay (1-365)\n",
    "# PU_DOW (Day of week)\n",
    "# PUEvents\n",
    "# PUConditions\n",
    "# PUPeriod (AM or PM)\n",
    "\n",
    "jan_2017 = jan_2017.drop('PUDate')\n",
    "jan_2017 = jan_2017.drop('PUTime')\n",
    "jan_2017 = jan_2017.drop('date')\n",
    "jan_2017 = jan_2017.drop('time')"
   ]
  },
  {
   "cell_type": "code",
   "execution_count": 49,
   "metadata": {},
   "outputs": [],
   "source": [
    "jan_2017 = jan_2017.drop('hour')\n"
   ]
  },
  {
   "cell_type": "code",
   "execution_count": 50,
   "metadata": {},
   "outputs": [],
   "source": [
    "PUdemographics = spark.read.format(\"csv\").load('demographics.csv', header = True).cache()\n"
   ]
  },
  {
   "cell_type": "code",
   "execution_count": 51,
   "metadata": {},
   "outputs": [],
   "source": [
    "PUnames = PUdemographics.schema.names\n",
    "i = 0\n",
    "for name in PUnames:\n",
    "    if (i != 0):\n",
    "        PUdemographics = PUdemographics.withColumn(\"PU\" + name, col(name).cast(FloatType())).drop(name)\n",
    "    i += 1"
   ]
  },
  {
   "cell_type": "code",
   "execution_count": 52,
   "metadata": {},
   "outputs": [],
   "source": [
    "#PUdemographics.printSchema()"
   ]
  },
  {
   "cell_type": "code",
   "execution_count": 53,
   "metadata": {},
   "outputs": [],
   "source": [
    "# One hot encoding categorical variables\n"
   ]
  },
  {
   "cell_type": "code",
   "execution_count": 54,
   "metadata": {},
   "outputs": [],
   "source": [
    "jan_2017 = jan_2017.join(PUdemographics, jan_2017.PUneighbor == PUdemographics.neighborhood, \"left_outer\")\n",
    "jan_2017 = jan_2017.dropDuplicates(['uniqueIdColumn'])\n",
    "jan_2017 = jan_2017.drop('neighborhood')"
   ]
  },
  {
   "cell_type": "code",
   "execution_count": null,
   "metadata": {},
   "outputs": [],
   "source": []
  },
  {
   "cell_type": "code",
   "execution_count": 55,
   "metadata": {},
   "outputs": [],
   "source": [
    "# Categorical Features\n",
    "# RateCodeID\n",
    "# store_and_fwd_flag\n",
    "# PULocationID\n",
    "# DOLocationID\n",
    "# LocationID (1 to 256)\n",
    "# PUBorough (comes from taxi+_lookup_zone)\n",
    "# PUZone (Name for Location ID)\n",
    "# PUServiceZone (Categorical)\n",
    "# PUNeighbor (Demographics Neighborhood)\n",
    "# PUDay (1-365)\n",
    "# PU_DOW (Day of week)\n",
    "# PUEvents\n",
    "# PUConditions\n",
    "# PUPeriod (AM or PM)\n",
    "#jan_2017.printSchema()"
   ]
  },
  {
   "cell_type": "code",
   "execution_count": 56,
   "metadata": {},
   "outputs": [
    {
     "data": {
      "text/plain": [
       "4230796"
      ]
     },
     "execution_count": 56,
     "metadata": {},
     "output_type": "execute_result"
    }
   ],
   "source": [
    "jan_2017.count()"
   ]
  },
  {
   "cell_type": "code",
   "execution_count": 57,
   "metadata": {},
   "outputs": [],
   "source": [
    "#dropping only 0.004527722963% of the data\n",
    "jan_2017 = jan_2017.na.drop().cache()"
   ]
  },
  {
   "cell_type": "code",
   "execution_count": 58,
   "metadata": {},
   "outputs": [
    {
     "name": "stdout",
     "output_type": "stream",
     "text": [
      "+--------+---------------+----------+---------+--------------------+-------------+--------------------+--------------+---------+------+--------+---------------+---------------+-----+------+-------+-----------+-----------+-----------+--------+------+----------------+----+---------+--------+--------+--------+----------+---------+---------+------+------+------------+-----------------+-----------+----------+-------------+-----------+--------------+----------+----------------+-----------+---------------+---------------+------------------------+----------------+-----------------+---------------------+----------------------+-------------+------------+-----------+-----------+-----------+-----------+------------+--------------------+------------+----------+------------+--------------+---------------+---------+----------+----------+----------------+-------------+-------------------+-----------+--------------+---------+-----------------+-----------+---------+-----------+\n",
      "|VendorID|passenger_count|RateCodeID|PUBorough|              PUZone|PUServiceZone|          PUneighbor|uniqueIdColumn|AirportPU|PUHour|PUMinute|MorningRushHour|EveningRushHour|PUDay|PU_DOW|Weekend|WorkingHour|PLocationID|DLocationID| windDir|Events|       Condition|temp|windChill|dewpoint|humidity|pressure|visibility|windSpeed|gustSpeed|Precip|period|PUalone_hhld|PUbachelor_higher|PUbornstate| PUcarfree|PUcommutetime| PUdisabled|PUdisconnected| PUforeign|PUgross_rent_adj|    PUhhu18|PUhomeownership|PUhousing_units|PUincome_diversity_ratio|PUlaborforcerate|PUmedhhincome_adj|PUmedhhincome_own_adj|PUmedhhincome_rent_adj|PUnohsdiploma|PUpark_share|   PUpasian|   PUpblack|    PUphisp|    PUpop65|PUpopulation|PUpopulation_density|PUpov65older| PUpovrate|PUpovunder18|PUprof_pct_ela|PUprof_pct_math|PUprop_rt|  PUpwhite| PUrdindex|PUrent_pct_nycha|PUrentvacrate|PUserious_viol_rate| PUsevcrowd|PUsubway_share| PUtot_rt|PUtotal_viol_rate|PUunemprate|PUviol_rt|PUvolume_al|\n",
      "+--------+---------------+----------+---------+--------------------+-------------+--------------------+--------------+---------+------+--------+---------------+---------------+-----+------+-------+-----------+-----------+-----------+--------+------+----------------+----+---------+--------+--------+--------+----------+---------+---------+------+------+------------+-----------------+-----------+----------+-------------+-----------+--------------+----------+----------------+-----------+---------------+---------------+------------------------+----------------+-----------------+---------------------+----------------------+-------------+------------+-----------+-----------+-----------+-----------+------------+--------------------+------------+----------+------------+--------------+---------------+---------+----------+----------+----------------+-------------+-------------------+-----------+--------------+---------+-----------------+-----------+---------+-----------+\n",
      "|       2|              1|         1|Manhattan|        East Chelsea|  Yellow Zone|     clinton-chelsea|            26|        0|     0|       0|              0|              0|    1|     7|      1|          0|         68|         48|Variable|  None|        Overcast|44.1|     42.5|    25.0|    47.0|   29.89|      10.0|      3.5|      0.0|   0.0|    AM|    0.591151|       0.78122497| 0.33588597|0.90639603|    26.175892|0.062489986|   0.037558686| 0.3098248|          2230.0|0.093174405|     0.21923822|       103852.0|               7.4342103|      0.75694627|         101550.0|             146530.0|               92250.0|   0.04280816|  0.72745204|  0.1828203| 0.04275314| 0.12741806| 0.11623065|    140247.0|           45.638466|   0.1820139|0.12677234| 0.045115486|    0.67155427|     0.65895957|18.528742| 0.6118348|0.57417166|     0.037422866|  0.049581673|          20.406475| 0.02438232|           1.0|23.265049|         81.90703| 0.03342539|4.7363067|      511.0|\n",
      "|       1|              1|         1|Manhattan|        Clinton West|  Yellow Zone|     clinton-chelsea|           474|        0|     6|      55|              1|              0|    1|     7|      1|          0|         50|        161|   North|  None|           Clear|44.1|      0.0|    25.0|    47.0|   30.01|      10.0|      0.0|      0.0|   0.0|    AM|    0.591151|       0.78122497| 0.33588597|0.90639603|    26.175892|0.062489986|   0.037558686| 0.3098248|          2230.0|0.093174405|     0.21923822|       103852.0|               7.4342103|      0.75694627|         101550.0|             146530.0|               92250.0|   0.04280816|  0.72745204|  0.1828203| 0.04275314| 0.12741806| 0.11623065|    140247.0|           45.638466|   0.1820139|0.12677234| 0.045115486|    0.67155427|     0.65895957|18.528742| 0.6118348|0.57417166|     0.037422866|  0.049581673|          20.406475| 0.02438232|           1.0|23.265049|         81.90703| 0.03342539|4.7363067|      511.0|\n",
      "|       1|              1|         1|Manhattan|            Union Sq|  Yellow Zone|greenwich-village...|           964|        0|     7|       0|              1|              0|    1|     7|      1|          0|        234|        137|    West|  None|           Clear|44.1|     39.5|    26.1|    49.0|   30.04|      10.0|      8.1|      0.0|   0.0|    AM|  0.45126778|        0.8014709| 0.38359955| 0.8863079|    25.633043|0.034581628|   0.009830509|0.22653177|          2530.0| 0.18245585|      0.2802751|        87577.0|                5.135714|      0.75197864|         137210.0|             210110.0|              120130.0|   0.04194736|  0.96378475| 0.13909811|0.018316505|0.056559324|  0.1164626|    152813.0|           51.538956|  0.09101661| 0.0800945|   0.0475287|    0.76760566|      0.8181818|21.751688| 0.7583452|0.40202987|             0.0|  0.043694243|          24.540657| 0.03217399|           1.0|25.417704|       106.459404|0.039233375| 3.666015|      407.0|\n",
      "|       2|              2|         1|Manhattan|      Yorkville West|  Yellow Zone|     upper-east-side|          1677|        0|     7|      10|              1|              0|    1|     7|      1|          0|        263|        238|    West|  None|           Clear|44.1|     39.5|    26.1|    49.0|   30.04|      10.0|      8.1|      0.0|   0.0|    AM|  0.46506497|       0.80853724| 0.47733375| 0.8295214|     32.54397|0.041147184|   0.020695144|0.23663951|          2250.0| 0.17837445|      0.3747926|       133836.0|               6.0869565|      0.71909726|         116970.0|             184050.0|              101250.0|   0.03111998|  0.65935075| 0.10555515|0.022816936| 0.12078775| 0.18090537|    219004.0|          108.525276|  0.11705447|0.06525908|  0.02266688|     0.7605263|     0.74580646|7.5072756| 0.7274022| 0.4446338|     0.030676179|   0.04657141|           14.20692|0.018507127|     0.8794264| 8.562204|         69.43284|0.033834368| 1.054929|      734.0|\n",
      "|       1|              1|         1|Manhattan|         Murray Hill|  Yellow Zone|stuyvesant-town-t...|          1697|        0|     7|      10|              1|              0|    1|     7|      1|          0|        170|        140|    West|  None|           Clear|44.1|     39.5|    26.1|    49.0|   30.04|      10.0|      8.1|      0.0|   0.0|    AM|  0.57164156|       0.80019236| 0.41157678| 0.9135697|    26.305624|0.044648167|    0.05526512|0.22056927|          2530.0| 0.12217326|     0.32273003|        94974.0|               5.2222223|       0.7165772|         110400.0|             125900.0|              101740.0|  0.040741675|  0.82974327| 0.15852708|0.024298323| 0.07261869| 0.17719358|    141162.0|           86.021935|   0.0650062|0.07110356|  0.01811925|    0.76632303|     0.73754156| 8.967039| 0.7207889|0.44946867|     0.009126321|  0.046181545|           8.167574|0.021643117|    0.98522085| 10.80248|         45.30133|0.033180363|1.8354409|      528.0|\n",
      "|       2|              4|         1|Manhattan|     Lower East Side|  Yellow Zone|lower-east-side-c...|          1950|        0|     7|      15|              1|              0|    1|     7|      1|          0|        148|        140|    West|  None|           Clear|44.1|     39.5|    26.1|    49.0|   30.04|      10.0|      8.1|      0.0|   0.0|    AM|  0.50196373|       0.43150792| 0.37473005|0.87019444|    32.774166|0.078546755|    0.04097804|0.36311647|          1050.0| 0.14044213|    0.109666236|        81611.0|                8.077465|      0.57301885|          41210.0|              90180.0|               37080.0|   0.26552936|   0.9519986|   0.335112|0.088721626| 0.22383487|  0.1713163|    159296.0|             91.1826|   0.3653434|0.25478825|  0.25430053|     0.4923208|      0.5964467|10.154523|0.33174717| 0.7196702|      0.23975927|   0.03353153|          29.267155|0.033436134|     0.8903183|14.698947|        137.58318|0.055613495|4.5444245|      137.0|\n",
      "|       1|              1|         1|Manhattan| UN/Turtle Bay South|  Yellow Zone|stuyvesant-town-t...|          2040|        0|     7|      15|              1|              0|    1|     7|      1|          0|        233|        186|    West|  None|           Clear|44.1|     39.5|    26.1|    49.0|   30.04|      10.0|      8.1|      0.0|   0.0|    AM|  0.57164156|       0.80019236| 0.41157678| 0.9135697|    26.305624|0.044648167|    0.05526512|0.22056927|          2530.0| 0.12217326|     0.32273003|        94974.0|               5.2222223|       0.7165772|         110400.0|             125900.0|              101740.0|  0.040741675|  0.82974327| 0.15852708|0.024298323| 0.07261869| 0.17719358|    141162.0|           86.021935|   0.0650062|0.07110356|  0.01811925|    0.76632303|     0.73754156| 8.967039| 0.7207889|0.44946867|     0.009126321|  0.046181545|           8.167574|0.021643117|    0.98522085| 10.80248|         45.30133|0.033180363|1.8354409|      528.0|\n",
      "|       1|              1|         1|Manhattan|West Chelsea/Huds...|  Yellow Zone|     clinton-chelsea|          2250|        0|     7|      20|              1|              0|    1|     7|      1|          0|        246|        158|    West|  None|           Clear|44.1|     39.5|    26.1|    49.0|   30.04|      10.0|      8.1|      0.0|   0.0|    AM|    0.591151|       0.78122497| 0.33588597|0.90639603|    26.175892|0.062489986|   0.037558686| 0.3098248|          2230.0|0.093174405|     0.21923822|       103852.0|               7.4342103|      0.75694627|         101550.0|             146530.0|               92250.0|   0.04280816|  0.72745204|  0.1828203| 0.04275314| 0.12741806| 0.11623065|    140247.0|           45.638466|   0.1820139|0.12677234| 0.045115486|    0.67155427|     0.65895957|18.528742| 0.6118348|0.57417166|     0.037422866|  0.049581673|          20.406475| 0.02438232|           1.0|23.265049|         81.90703| 0.03342539|4.7363067|      511.0|\n",
      "|       2|              1|         1|Manhattan|        East Village|  Yellow Zone|lower-east-side-c...|          2453|        0|     7|      25|              1|              0|    1|     7|      1|          0|         79|        243|    West|  None|           Clear|44.1|     39.5|    26.1|    49.0|   30.04|      10.0|      8.1|      0.0|   0.0|    AM|  0.50196373|       0.43150792| 0.37473005|0.87019444|    32.774166|0.078546755|    0.04097804|0.36311647|          1050.0| 0.14044213|    0.109666236|        81611.0|                8.077465|      0.57301885|          41210.0|              90180.0|               37080.0|   0.26552936|   0.9519986|   0.335112|0.088721626| 0.22383487|  0.1713163|    159296.0|             91.1826|   0.3653434|0.25478825|  0.25430053|     0.4923208|      0.5964467|10.154523|0.33174717| 0.7196702|      0.23975927|   0.03353153|          29.267155|0.033436134|     0.8903183|14.698947|        137.58318|0.055613495|4.5444245|      137.0|\n",
      "|       1|              1|         1|Manhattan|Financial Distric...|  Yellow Zone|  financial-district|          2509|        0|     7|      25|              1|              0|    1|     7|      1|          0|         88|         79|    West|  None|           Clear|44.1|     39.5|    26.1|    49.0|   30.04|      10.0|      8.1|      0.0|   0.0|    AM|  0.45126778|        0.8014709| 0.38359955| 0.8863079|    25.633043|0.034581628|   0.009830509|0.22653177|          2530.0| 0.18245585|      0.2802751|        87577.0|                5.135714|      0.75197864|         137210.0|             210110.0|              120130.0|   0.04194736|  0.96071637| 0.13909811|0.018316505|0.056559324|  0.1164626|    152813.0|           51.538956|  0.09101661| 0.0800945|   0.0475287|    0.78488374|      0.7842566|15.333399| 0.7583452|0.40202987|             0.0|  0.043694243|           4.570739| 0.03217399|           1.0| 17.58011|        16.515028|0.039233375| 2.246712|      640.0|\n",
      "|       1|              1|         1|Manhattan|   East Harlem South|    Boro Zone|         east-harlem|          2529|        0|     7|      25|              1|              0|    1|     7|      1|          0|         75|        158|    West|  None|           Clear|44.1|     39.5|    26.1|    49.0|   30.04|      10.0|      8.1|      0.0|   0.0|    AM|   0.3637099|        0.3439601|  0.5733063|0.88738096|     34.26356|  0.1323463|    0.08449107|   0.23405|           880.0| 0.30465183|     0.06595396|        55045.0|               7.3636365|      0.52156085|          34420.0|             117600.0|               31910.0|   0.23028079|   0.9761329|0.082656264|  0.3032194|  0.4351388| 0.11987727|    134279.0|           58.028954|  0.31760353|0.32297394|  0.47027472|    0.34538153|      0.3220339| 7.534582|0.15861006|  0.686723|      0.35252094|   0.03111407|           62.63302| 0.03813734|     0.9890883|16.123009|          312.557| 0.07252062| 8.588428|      154.0|\n",
      "|       1|              1|         1|Manhattan|        East Village|  Yellow Zone|lower-east-side-c...|          3091|        0|     7|      30|              1|              0|    1|     7|      1|          0|         79|        148|    West|  None|           Clear|44.1|     39.5|    26.1|    49.0|   30.04|      10.0|      8.1|      0.0|   0.0|    AM|  0.50196373|       0.43150792| 0.37473005|0.87019444|    32.774166|0.078546755|    0.04097804|0.36311647|          1050.0| 0.14044213|    0.109666236|        81611.0|                8.077465|      0.57301885|          41210.0|              90180.0|               37080.0|   0.26552936|   0.9519986|   0.335112|0.088721626| 0.22383487|  0.1713163|    159296.0|             91.1826|   0.3653434|0.25478825|  0.25430053|     0.4923208|      0.5964467|10.154523|0.33174717| 0.7196702|      0.23975927|   0.03353153|          29.267155|0.033436134|     0.8903183|14.698947|        137.58318|0.055613495|4.5444245|      137.0|\n",
      "|       1|              1|         1|Manhattan|     Lenox Hill East|  Yellow Zone|morningside-heigh...|          3506|        0|     7|      40|              1|              0|    1|     7|      1|          0|        140|        170|    West|  None|           Clear|44.1|     39.5|    26.1|    49.0|   30.04|      10.0|      8.1|      0.0|   0.0|    AM|   0.3552802|       0.44870257| 0.40801948|0.90347266|    37.221275| 0.07675715|   0.038899988|0.31709734|          1240.0| 0.25539184|     0.15434249|        51246.0|                8.306123|       0.5971975|          49030.0|             101010.0|               40230.0|   0.19263513|   0.9958424|0.086129636| 0.21649426|  0.3685131|0.117424816|    125195.0|            74.12374|   0.2647905|0.27508485|   0.3645468|    0.23991507|     0.26391754|6.1346908|0.28778306| 0.7270909|      0.10797298|    0.0417013|           100.4414|0.033677794|           1.0|10.953508|          463.742|0.073518835| 4.818818|       93.0|\n",
      "|       2|              1|         1|Manhattan|        East Village|  Yellow Zone|lower-east-side-c...|          3764|        0|     7|      40|              1|              0|    1|     7|      1|          0|         79|        234|    West|  None|           Clear|44.1|     39.5|    26.1|    49.0|   30.04|      10.0|      8.1|      0.0|   0.0|    AM|  0.50196373|       0.43150792| 0.37473005|0.87019444|    32.774166|0.078546755|    0.04097804|0.36311647|          1050.0| 0.14044213|    0.109666236|        81611.0|                8.077465|      0.57301885|          41210.0|              90180.0|               37080.0|   0.26552936|   0.9519986|   0.335112|0.088721626| 0.22383487|  0.1713163|    159296.0|             91.1826|   0.3653434|0.25478825|  0.25430053|     0.4923208|      0.5964467|10.154523|0.33174717| 0.7196702|      0.23975927|   0.03353153|          29.267155|0.033436134|     0.8903183|14.698947|        137.58318|0.055613495|4.5444245|      137.0|\n",
      "|       1|              1|         1|Manhattan|        East Chelsea|  Yellow Zone|     clinton-chelsea|          4894|        0|     8|       0|              1|              0|    1|     7|      1|          0|         68|        234|Variable|  None|           Clear|44.1|     40.8|    26.1|    49.0|   30.09|      10.0|      5.8|     18.4|   0.0|    AM|    0.591151|       0.78122497| 0.33588597|0.90639603|    26.175892|0.062489986|   0.037558686| 0.3098248|          2230.0|0.093174405|     0.21923822|       103852.0|               7.4342103|      0.75694627|         101550.0|             146530.0|               92250.0|   0.04280816|  0.72745204|  0.1828203| 0.04275314| 0.12741806| 0.11623065|    140247.0|           45.638466|   0.1820139|0.12677234| 0.045115486|    0.67155427|     0.65895957|18.528742| 0.6118348|0.57417166|     0.037422866|  0.049581673|          20.406475| 0.02438232|           1.0|23.265049|         81.90703| 0.03342539|4.7363067|      511.0|\n",
      "|       1|              1|         1|Manhattan|        East Village|  Yellow Zone|lower-east-side-c...|          5385|        0|     8|       5|              1|              0|    1|     7|      1|          0|         79|        234|Variable|  None|           Clear|44.1|     40.8|    26.1|    49.0|   30.09|      10.0|      5.8|     18.4|   0.0|    AM|  0.50196373|       0.43150792| 0.37473005|0.87019444|    32.774166|0.078546755|    0.04097804|0.36311647|          1050.0| 0.14044213|    0.109666236|        81611.0|                8.077465|      0.57301885|          41210.0|              90180.0|               37080.0|   0.26552936|   0.9519986|   0.335112|0.088721626| 0.22383487|  0.1713163|    159296.0|             91.1826|   0.3653434|0.25478825|  0.25430053|     0.4923208|      0.5964467|10.154523|0.33174717| 0.7196702|      0.23975927|   0.03353153|          29.267155|0.033436134|     0.8903183|14.698947|        137.58318|0.055613495|4.5444245|      137.0|\n",
      "|       1|              3|         1|Manhattan|            Flatiron|  Yellow Zone|             midtown|          5409|        0|     8|       5|              1|              0|    1|     7|      1|          0|         90|        148|Variable|  None|           Clear|44.1|     40.8|    26.1|    49.0|   30.09|      10.0|      5.8|     18.4|   0.0|    AM|    0.591151|       0.78122497| 0.33588597|0.90639603|    26.175892|0.062489986|   0.037558686| 0.3098248|          2230.0|0.093174405|     0.21923822|       103852.0|               7.4342103|      0.75694627|         101550.0|             146530.0|               92250.0|   0.04280816|  0.61124855|  0.1828203| 0.04275314| 0.12741806| 0.11623065|    140247.0|           45.638466|   0.1820139|0.12677234| 0.045115486|    0.51428574|     0.85714287| 82.94467| 0.6118348|0.57417166|             0.0|  0.049581673|           6.582432| 0.02438232|           1.0| 94.32392|        46.568813| 0.03342539|11.379251|      475.0|\n",
      "|       2|              1|         1|Manhattan|         Murray Hill|  Yellow Zone|stuyvesant-town-t...|          5556|        0|     8|      10|              1|              0|    1|     7|      1|          0|        170|        141|Variable|  None|           Clear|44.1|     40.8|    26.1|    49.0|   30.09|      10.0|      5.8|     18.4|   0.0|    AM|  0.57164156|       0.80019236| 0.41157678| 0.9135697|    26.305624|0.044648167|    0.05526512|0.22056927|          2530.0| 0.12217326|     0.32273003|        94974.0|               5.2222223|       0.7165772|         110400.0|             125900.0|              101740.0|  0.040741675|  0.82974327| 0.15852708|0.024298323| 0.07261869| 0.17719358|    141162.0|           86.021935|   0.0650062|0.07110356|  0.01811925|    0.76632303|     0.73754156| 8.967039| 0.7207889|0.44946867|     0.009126321|  0.046181545|           8.167574|0.021643117|    0.98522085| 10.80248|         45.30133|0.033180363|1.8354409|      528.0|\n",
      "|       2|              1|         1|Manhattan|Stuy Town/Peter C...|  Yellow Zone|stuyvesant-town-t...|          7747|        0|     8|      40|              1|              0|    1|     7|      1|          0|        224|        186|Variable|  None|           Clear|44.1|     40.8|    26.1|    49.0|   30.09|      10.0|      5.8|     18.4|   0.0|    AM|  0.57164156|       0.80019236| 0.41157678| 0.9135697|    26.305624|0.044648167|    0.05526512|0.22056927|          2530.0| 0.12217326|     0.32273003|        94974.0|               5.2222223|       0.7165772|         110400.0|             125900.0|              101740.0|  0.040741675|  0.82974327| 0.15852708|0.024298323| 0.07261869| 0.17719358|    141162.0|           86.021935|   0.0650062|0.07110356|  0.01811925|    0.76632303|     0.73754156| 8.967039| 0.7207889|0.44946867|     0.009126321|  0.046181545|           8.167574|0.021643117|    0.98522085| 10.80248|         45.30133|0.033180363|1.8354409|      528.0|\n",
      "|       1|              1|         1|Manhattan|      Yorkville West|  Yellow Zone|     upper-east-side|          8075|        0|     8|      45|              1|              0|    1|     7|      1|          0|        263|        170|Variable|  None|           Clear|44.1|     40.8|    26.1|    49.0|   30.09|      10.0|      5.8|     18.4|   0.0|    AM|  0.46506497|       0.80853724| 0.47733375| 0.8295214|     32.54397|0.041147184|   0.020695144|0.23663951|          2250.0| 0.17837445|      0.3747926|       133836.0|               6.0869565|      0.71909726|         116970.0|             184050.0|              101250.0|   0.03111998|  0.65935075| 0.10555515|0.022816936| 0.12078775| 0.18090537|    219004.0|          108.525276|  0.11705447|0.06525908|  0.02266688|     0.7605263|     0.74580646|7.5072756| 0.7274022| 0.4446338|     0.030676179|   0.04657141|           14.20692|0.018507127|     0.8794264| 8.562204|         69.43284|0.033834368| 1.054929|      734.0|\n",
      "|       1|              1|         1|Manhattan|Financial Distric...|  Yellow Zone|  financial-district|          8484|        0|     8|      50|              1|              0|    1|     7|      1|          0|         87|        249|Variable|  None|           Clear|44.1|     40.8|    26.1|    49.0|   30.09|      10.0|      5.8|     18.4|   0.0|    AM|  0.45126778|        0.8014709| 0.38359955| 0.8863079|    25.633043|0.034581628|   0.009830509|0.22653177|          2530.0| 0.18245585|      0.2802751|        87577.0|                5.135714|      0.75197864|         137210.0|             210110.0|              120130.0|   0.04194736|  0.96071637| 0.13909811|0.018316505|0.056559324|  0.1164626|    152813.0|           51.538956|  0.09101661| 0.0800945|   0.0475287|    0.78488374|      0.7842566|15.333399| 0.7583452|0.40202987|             0.0|  0.043694243|           4.570739| 0.03217399|           1.0| 17.58011|        16.515028|0.039233375| 2.246712|      640.0|\n",
      "|       1|              1|         1|Manhattan|     Lenox Hill East|  Yellow Zone|morningside-heigh...|          9458|        0|     9|       5|              0|              0|    1|     7|      1|          0|        140|        209|     WNW|  None|Scattered Clouds|46.0|     41.4|    28.0|    50.0|   30.14|      10.0|      9.2|     19.6|   0.0|    AM|   0.3552802|       0.44870257| 0.40801948|0.90347266|    37.221275| 0.07675715|   0.038899988|0.31709734|          1240.0| 0.25539184|     0.15434249|        51246.0|                8.306123|       0.5971975|          49030.0|             101010.0|               40230.0|   0.19263513|   0.9958424|0.086129636| 0.21649426|  0.3685131|0.117424816|    125195.0|            74.12374|   0.2647905|0.27508485|   0.3645468|    0.23991507|     0.26391754|6.1346908|0.28778306| 0.7270909|      0.10797298|    0.0417013|           100.4414|0.033677794|           1.0|10.953508|          463.742|0.073518835| 4.818818|       93.0|\n",
      "|       1|              1|         1|Manhattan|Upper East Side N...|  Yellow Zone|     upper-east-side|          9715|        0|     9|       5|              0|              0|    1|     7|      1|          0|        236|        186|     WNW|  None|Scattered Clouds|46.0|     41.4|    28.0|    50.0|   30.14|      10.0|      9.2|     19.6|   0.0|    AM|  0.46506497|       0.80853724| 0.47733375| 0.8295214|     32.54397|0.041147184|   0.020695144|0.23663951|          2250.0| 0.17837445|      0.3747926|       133836.0|               6.0869565|      0.71909726|         116970.0|             184050.0|              101250.0|   0.03111998|  0.65935075| 0.10555515|0.022816936| 0.12078775| 0.18090537|    219004.0|          108.525276|  0.11705447|0.06525908|  0.02266688|     0.7605263|     0.74580646|7.5072756| 0.7274022| 0.4446338|     0.030676179|   0.04657141|           14.20692|0.018507127|     0.8794264| 8.562204|         69.43284|0.033834368| 1.054929|      734.0|\n",
      "|       2|              1|         1|Manhattan|Washington Height...|    Boro Zone|washington-height...|          9945|        0|     9|      10|              0|              0|    1|     7|      1|          0|        244|        237|     WNW|  None|Scattered Clouds|46.0|     41.4|    28.0|    50.0|   30.14|      10.0|      9.2|     19.6|   0.0|    AM|  0.29079476|       0.34288928|  0.3524265| 0.8508098|    40.880135|  0.0993034|     0.0727746|0.48756695|          1300.0| 0.29542887|      0.0962008|        81198.0|               5.5555553|      0.66674495|          52030.0|             100980.0|               50480.0|   0.27242628|   0.9540048|0.028673265| 0.08792548|  0.6729673| 0.13449126|    238759.0|           80.039894|  0.26390702|0.22223072|  0.32282886|    0.28710938|     0.28273246| 5.804652| 0.1900745|0.50243366|     0.035508495|   0.01475566|          103.68393|0.051667213|           1.0|10.277865|        492.71542|0.090337664| 4.473213|      111.0|\n",
      "|       2|              1|         1|Manhattan|       Alphabet City|  Yellow Zone|lower-east-side-c...|          9968|        0|     9|      10|              0|              0|    1|     7|      1|          0|          4|        100|     WNW|  None|Scattered Clouds|46.0|     41.4|    28.0|    50.0|   30.14|      10.0|      9.2|     19.6|   0.0|    AM|  0.50196373|       0.43150792| 0.37473005|0.87019444|    32.774166|0.078546755|    0.04097804|0.36311647|          1050.0| 0.14044213|    0.109666236|        81611.0|                8.077465|      0.57301885|          41210.0|              90180.0|               37080.0|   0.26552936|   0.9519986|   0.335112|0.088721626| 0.22383487|  0.1713163|    159296.0|             91.1826|   0.3653434|0.25478825|  0.25430053|     0.4923208|      0.5964467|10.154523|0.33174717| 0.7196702|      0.23975927|   0.03353153|          29.267155|0.033436134|     0.8903183|14.698947|        137.58318|0.055613495|4.5444245|      137.0|\n",
      "|       1|              2|         1|Manhattan|            Gramercy|  Yellow Zone|stuyvesant-town-t...|          9978|        0|     9|      10|              0|              0|    1|     7|      1|          0|        107|        186|     WNW|  None|Scattered Clouds|46.0|     41.4|    28.0|    50.0|   30.14|      10.0|      9.2|     19.6|   0.0|    AM|  0.57164156|       0.80019236| 0.41157678| 0.9135697|    26.305624|0.044648167|    0.05526512|0.22056927|          2530.0| 0.12217326|     0.32273003|        94974.0|               5.2222223|       0.7165772|         110400.0|             125900.0|              101740.0|  0.040741675|  0.82974327| 0.15852708|0.024298323| 0.07261869| 0.17719358|    141162.0|           86.021935|   0.0650062|0.07110356|  0.01811925|    0.76632303|     0.73754156| 8.967039| 0.7207889|0.44946867|     0.009126321|  0.046181545|           8.167574|0.021643117|    0.98522085| 10.80248|         45.30133|0.033180363|1.8354409|      528.0|\n",
      "|       2|              1|         1|Manhattan|Stuy Town/Peter C...|  Yellow Zone|stuyvesant-town-t...|         10156|        0|     9|      15|              0|              0|    1|     7|      1|          0|        224|        163|     WNW|  None|Scattered Clouds|46.0|     41.4|    28.0|    50.0|   30.14|      10.0|      9.2|     19.6|   0.0|    AM|  0.57164156|       0.80019236| 0.41157678| 0.9135697|    26.305624|0.044648167|    0.05526512|0.22056927|          2530.0| 0.12217326|     0.32273003|        94974.0|               5.2222223|       0.7165772|         110400.0|             125900.0|              101740.0|  0.040741675|  0.82974327| 0.15852708|0.024298323| 0.07261869| 0.17719358|    141162.0|           86.021935|   0.0650062|0.07110356|  0.01811925|    0.76632303|     0.73754156| 8.967039| 0.7207889|0.44946867|     0.009126321|  0.046181545|           8.167574|0.021643117|    0.98522085| 10.80248|         45.30133|0.033180363|1.8354409|      528.0|\n",
      "|       2|              2|         1|Manhattan|    Garment District|  Yellow Zone|             midtown|         10422|        0|     9|      15|              0|              0|    1|     7|      1|          0|        100|         12|     WNW|  None|Scattered Clouds|46.0|     41.4|    28.0|    50.0|   30.14|      10.0|      9.2|     19.6|   0.0|    AM|    0.591151|       0.78122497| 0.33588597|0.90639603|    26.175892|0.062489986|   0.037558686| 0.3098248|          2230.0|0.093174405|     0.21923822|       103852.0|               7.4342103|      0.75694627|         101550.0|             146530.0|               92250.0|   0.04280816|  0.61124855|  0.1828203| 0.04275314| 0.12741806| 0.11623065|    140247.0|           45.638466|   0.1820139|0.12677234| 0.045115486|    0.51428574|     0.85714287| 82.94467| 0.6118348|0.57417166|             0.0|  0.049581673|           6.582432| 0.02438232|           1.0| 94.32392|        46.568813| 0.03342539|11.379251|      475.0|\n",
      "|       1|              1|         1|Manhattan| UN/Turtle Bay South|  Yellow Zone|stuyvesant-town-t...|         11276|        0|     9|      25|              0|              0|    1|     7|      1|          0|        233|        186|     WNW|  None|Scattered Clouds|46.0|     41.4|    28.0|    50.0|   30.14|      10.0|      9.2|     19.6|   0.0|    AM|  0.57164156|       0.80019236| 0.41157678| 0.9135697|    26.305624|0.044648167|    0.05526512|0.22056927|          2530.0| 0.12217326|     0.32273003|        94974.0|               5.2222223|       0.7165772|         110400.0|             125900.0|              101740.0|  0.040741675|  0.82974327| 0.15852708|0.024298323| 0.07261869| 0.17719358|    141162.0|           86.021935|   0.0650062|0.07110356|  0.01811925|    0.76632303|     0.73754156| 8.967039| 0.7207889|0.44946867|     0.009126321|  0.046181545|           8.167574|0.021643117|    0.98522085| 10.80248|         45.30133|0.033180363|1.8354409|      528.0|\n",
      "|       1|              2|         1|Manhattan|        East Chelsea|  Yellow Zone|     clinton-chelsea|         11434|        0|     9|      30|              0|              0|    1|     7|      1|          0|         68|        186|     WNW|  None|Scattered Clouds|46.0|     41.4|    28.0|    50.0|   30.14|      10.0|      9.2|     19.6|   0.0|    AM|    0.591151|       0.78122497| 0.33588597|0.90639603|    26.175892|0.062489986|   0.037558686| 0.3098248|          2230.0|0.093174405|     0.21923822|       103852.0|               7.4342103|      0.75694627|         101550.0|             146530.0|               92250.0|   0.04280816|  0.72745204|  0.1828203| 0.04275314| 0.12741806| 0.11623065|    140247.0|           45.638466|   0.1820139|0.12677234| 0.045115486|    0.67155427|     0.65895957|18.528742| 0.6118348|0.57417166|     0.037422866|  0.049581673|          20.406475| 0.02438232|           1.0|23.265049|         81.90703| 0.03342539|4.7363067|      511.0|\n",
      "|       2|              1|         1|Manhattan|       Midtown South|  Yellow Zone|             midtown|         11567|        0|     9|      30|              0|              0|    1|     7|      1|          0|        164|         43|     WNW|  None|Scattered Clouds|46.0|     41.4|    28.0|    50.0|   30.14|      10.0|      9.2|     19.6|   0.0|    AM|    0.591151|       0.78122497| 0.33588597|0.90639603|    26.175892|0.062489986|   0.037558686| 0.3098248|          2230.0|0.093174405|     0.21923822|       103852.0|               7.4342103|      0.75694627|         101550.0|             146530.0|               92250.0|   0.04280816|  0.61124855|  0.1828203| 0.04275314| 0.12741806| 0.11623065|    140247.0|           45.638466|   0.1820139|0.12677234| 0.045115486|    0.51428574|     0.85714287| 82.94467| 0.6118348|0.57417166|             0.0|  0.049581673|           6.582432| 0.02438232|           1.0| 94.32392|        46.568813| 0.03342539|11.379251|      475.0|\n",
      "|       2|              1|         1|Manhattan|            Gramercy|  Yellow Zone|stuyvesant-town-t...|         11619|        0|     9|      30|              0|              0|    1|     7|      1|          0|        107|        137|     WNW|  None|Scattered Clouds|46.0|     41.4|    28.0|    50.0|   30.14|      10.0|      9.2|     19.6|   0.0|    AM|  0.57164156|       0.80019236| 0.41157678| 0.9135697|    26.305624|0.044648167|    0.05526512|0.22056927|          2530.0| 0.12217326|     0.32273003|        94974.0|               5.2222223|       0.7165772|         110400.0|             125900.0|              101740.0|  0.040741675|  0.82974327| 0.15852708|0.024298323| 0.07261869| 0.17719358|    141162.0|           86.021935|   0.0650062|0.07110356|  0.01811925|    0.76632303|     0.73754156| 8.967039| 0.7207889|0.44946867|     0.009126321|  0.046181545|           8.167574|0.021643117|    0.98522085| 10.80248|         45.30133|0.033180363|1.8354409|      528.0|\n",
      "|       1|              1|         1|Manhattan|     Lenox Hill East|  Yellow Zone|morningside-heigh...|         11625|        0|     9|      30|              0|              0|    1|     7|      1|          0|        140|        142|     WNW|  None|Scattered Clouds|46.0|     41.4|    28.0|    50.0|   30.14|      10.0|      9.2|     19.6|   0.0|    AM|   0.3552802|       0.44870257| 0.40801948|0.90347266|    37.221275| 0.07675715|   0.038899988|0.31709734|          1240.0| 0.25539184|     0.15434249|        51246.0|                8.306123|       0.5971975|          49030.0|             101010.0|               40230.0|   0.19263513|   0.9958424|0.086129636| 0.21649426|  0.3685131|0.117424816|    125195.0|            74.12374|   0.2647905|0.27508485|   0.3645468|    0.23991507|     0.26391754|6.1346908|0.28778306| 0.7270909|      0.10797298|    0.0417013|           100.4414|0.033677794|           1.0|10.953508|          463.742|0.073518835| 4.818818|       93.0|\n",
      "|       1|              1|         1|Manhattan|    Garment District|  Yellow Zone|             midtown|         11938|        0|     9|      35|              0|              0|    1|     7|      1|          0|        100|         48|     WNW|  None|Scattered Clouds|46.0|     41.4|    28.0|    50.0|   30.14|      10.0|      9.2|     19.6|   0.0|    AM|    0.591151|       0.78122497| 0.33588597|0.90639603|    26.175892|0.062489986|   0.037558686| 0.3098248|          2230.0|0.093174405|     0.21923822|       103852.0|               7.4342103|      0.75694627|         101550.0|             146530.0|               92250.0|   0.04280816|  0.61124855|  0.1828203| 0.04275314| 0.12741806| 0.11623065|    140247.0|           45.638466|   0.1820139|0.12677234| 0.045115486|    0.51428574|     0.85714287| 82.94467| 0.6118348|0.57417166|             0.0|  0.049581673|           6.582432| 0.02438232|           1.0| 94.32392|        46.568813| 0.03342539|11.379251|      475.0|\n",
      "|       2|              6|         1|Manhattan|            Union Sq|  Yellow Zone|greenwich-village...|         11945|        0|     9|      35|              0|              0|    1|     7|      1|          0|        234|        186|     WNW|  None|Scattered Clouds|46.0|     41.4|    28.0|    50.0|   30.14|      10.0|      9.2|     19.6|   0.0|    AM|  0.45126778|        0.8014709| 0.38359955| 0.8863079|    25.633043|0.034581628|   0.009830509|0.22653177|          2530.0| 0.18245585|      0.2802751|        87577.0|                5.135714|      0.75197864|         137210.0|             210110.0|              120130.0|   0.04194736|  0.96378475| 0.13909811|0.018316505|0.056559324|  0.1164626|    152813.0|           51.538956|  0.09101661| 0.0800945|   0.0475287|    0.76760566|      0.8181818|21.751688| 0.7583452|0.40202987|             0.0|  0.043694243|          24.540657| 0.03217399|           1.0|25.417704|       106.459404|0.039233375| 3.666015|      407.0|\n",
      "|       2|              1|         1|Manhattan|         Murray Hill|  Yellow Zone|stuyvesant-town-t...|         12044|        0|     9|      35|              0|              0|    1|     7|      1|          0|        170|        237|     WNW|  None|Scattered Clouds|46.0|     41.4|    28.0|    50.0|   30.14|      10.0|      9.2|     19.6|   0.0|    AM|  0.57164156|       0.80019236| 0.41157678| 0.9135697|    26.305624|0.044648167|    0.05526512|0.22056927|          2530.0| 0.12217326|     0.32273003|        94974.0|               5.2222223|       0.7165772|         110400.0|             125900.0|              101740.0|  0.040741675|  0.82974327| 0.15852708|0.024298323| 0.07261869| 0.17719358|    141162.0|           86.021935|   0.0650062|0.07110356|  0.01811925|    0.76632303|     0.73754156| 8.967039| 0.7207889|0.44946867|     0.009126321|  0.046181545|           8.167574|0.021643117|    0.98522085| 10.80248|         45.30133|0.033180363|1.8354409|      528.0|\n",
      "|       1|              2|         1|Manhattan| Lincoln Square West|  Yellow Zone|     upper-west-side|         12568|        0|     9|      40|              0|              0|    1|     7|      1|          0|        143|        163|     WNW|  None|Scattered Clouds|46.0|     41.4|    28.0|    50.0|   30.14|      10.0|      9.2|     19.6|   0.0|    AM|   0.4867244|         0.769494| 0.39426467|0.87823796|     32.20823|0.050530247|   0.045412634|0.23620522|          2160.0| 0.13936588|      0.3519269|       121595.0|                9.666667|       0.6914995|         111270.0|             176250.0|               87190.0|   0.03898483|  0.96885693| 0.10445296|0.053785913| 0.13055961| 0.21933907|    189492.0|            64.21281|  0.10707777|0.10397336| 0.072338976|      0.702454|      0.6916077|6.7915287| 0.6956969|0.48515666|     0.090372376|   0.04756198|          18.520918| 0.02069342|           1.0|8.6041975|         99.29089|0.051767234|1.8126686|      564.0|\n",
      "|       2|              1|         1|Manhattan|Upper East Side S...|  Yellow Zone|     upper-east-side|         13098|        0|     9|      45|              0|              0|    1|     7|      1|          0|        237|        262|     WNW|  None|Scattered Clouds|46.0|     41.4|    28.0|    50.0|   30.14|      10.0|      9.2|     19.6|   0.0|    AM|  0.46506497|       0.80853724| 0.47733375| 0.8295214|     32.54397|0.041147184|   0.020695144|0.23663951|          2250.0| 0.17837445|      0.3747926|       133836.0|               6.0869565|      0.71909726|         116970.0|             184050.0|              101250.0|   0.03111998|  0.65935075| 0.10555515|0.022816936| 0.12078775| 0.18090537|    219004.0|          108.525276|  0.11705447|0.06525908|  0.02266688|     0.7605263|     0.74580646|7.5072756| 0.7274022| 0.4446338|     0.030676179|   0.04657141|           14.20692|0.018507127|     0.8794264| 8.562204|         69.43284|0.033834368| 1.054929|      734.0|\n",
      "|       1|              1|         1|Manhattan| Lincoln Square East|  Yellow Zone|     upper-west-side|         13248|        0|     9|      45|              0|              0|    1|     7|      1|          0|        142|        230|     WNW|  None|Scattered Clouds|46.0|     41.4|    28.0|    50.0|   30.14|      10.0|      9.2|     19.6|   0.0|    AM|   0.4867244|         0.769494| 0.39426467|0.87823796|     32.20823|0.050530247|   0.045412634|0.23620522|          2160.0| 0.13936588|      0.3519269|       121595.0|                9.666667|       0.6914995|         111270.0|             176250.0|               87190.0|   0.03898483|  0.96885693| 0.10445296|0.053785913| 0.13055961| 0.21933907|    189492.0|            64.21281|  0.10707777|0.10397336| 0.072338976|      0.702454|      0.6916077|6.7915287| 0.6956969|0.48515666|     0.090372376|   0.04756198|          18.520918| 0.02069342|           1.0|8.6041975|         99.29089|0.051767234|1.8126686|      564.0|\n",
      "|       1|              1|         1|Manhattan|TriBeCa/Civic Center|  Yellow Zone|  financial-district|         13401|        0|     9|      45|              0|              0|    1|     7|      1|          0|        231|         13|     WNW|  None|Scattered Clouds|46.0|     41.4|    28.0|    50.0|   30.14|      10.0|      9.2|     19.6|   0.0|    AM|  0.45126778|        0.8014709| 0.38359955| 0.8863079|    25.633043|0.034581628|   0.009830509|0.22653177|          2530.0| 0.18245585|      0.2802751|        87577.0|                5.135714|      0.75197864|         137210.0|             210110.0|              120130.0|   0.04194736|  0.96071637| 0.13909811|0.018316505|0.056559324|  0.1164626|    152813.0|           51.538956|  0.09101661| 0.0800945|   0.0475287|    0.78488374|      0.7842566|15.333399| 0.7583452|0.40202987|             0.0|  0.043694243|           4.570739| 0.03217399|           1.0| 17.58011|        16.515028|0.039233375| 2.246712|      640.0|\n",
      "|       1|              1|         1|Manhattan|Washington Height...|    Boro Zone|washington-height...|         13518|        0|     9|      50|              0|              0|    1|     7|      1|          0|        244|         74|     WNW|  None|Scattered Clouds|46.0|     41.4|    28.0|    50.0|   30.14|      10.0|      9.2|     19.6|   0.0|    AM|  0.29079476|       0.34288928|  0.3524265| 0.8508098|    40.880135|  0.0993034|     0.0727746|0.48756695|          1300.0| 0.29542887|      0.0962008|        81198.0|               5.5555553|      0.66674495|          52030.0|             100980.0|               50480.0|   0.27242628|   0.9540048|0.028673265| 0.08792548|  0.6729673| 0.13449126|    238759.0|           80.039894|  0.26390702|0.22223072|  0.32282886|    0.28710938|     0.28273246| 5.804652| 0.1900745|0.50243366|     0.035508495|   0.01475566|          103.68393|0.051667213|           1.0|10.277865|        492.71542|0.090337664| 4.473213|      111.0|\n",
      "|       2|              1|         1|Manhattan|TriBeCa/Civic Center|  Yellow Zone|  financial-district|         14719|        0|    10|       0|              0|              0|    1|     7|      1|          0|        231|         68|      NW|  None|           Clear|45.0|     39.3|    23.0|    42.0|   30.16|      10.0|     11.5|     18.4|   0.0|    AM|  0.45126778|        0.8014709| 0.38359955| 0.8863079|    25.633043|0.034581628|   0.009830509|0.22653177|          2530.0| 0.18245585|      0.2802751|        87577.0|                5.135714|      0.75197864|         137210.0|             210110.0|              120130.0|   0.04194736|  0.96071637| 0.13909811|0.018316505|0.056559324|  0.1164626|    152813.0|           51.538956|  0.09101661| 0.0800945|   0.0475287|    0.78488374|      0.7842566|15.333399| 0.7583452|0.40202987|             0.0|  0.043694243|           4.570739| 0.03217399|           1.0| 17.58011|        16.515028|0.039233375| 2.246712|      640.0|\n",
      "|       1|              1|         1|Manhattan|      Central Harlem|    Boro Zone|      central-harlem|         14846|        0|    10|       0|              0|              0|    1|     7|      1|          0|         41|        234|      NW|  None|           Clear|45.0|     39.3|    23.0|    42.0|   30.16|      10.0|     11.5|     18.4|   0.0|    AM|  0.44332412|       0.37046662|   0.519169|0.89886457|    38.388714| 0.10195173|   0.096136406|0.25294277|           990.0| 0.24230036|     0.11716509|        65056.0|               7.4055557|       0.6504965|          45640.0|              92060.0|               39390.0|   0.16842882|  0.87152594|0.048889447|  0.5279224| 0.26739705| 0.10545206|    143487.0|            99.16171|  0.28048047|0.27184147|  0.42604193|    0.21003135|     0.17457886| 8.891923|0.13258344| 0.6298282|      0.15708356|  0.046548955|           63.74305|0.021259606|           1.0|17.775204|        299.54294| 0.08123331| 8.883282|      260.0|\n",
      "|       2|              1|         1|Manhattan|     Lenox Hill East|  Yellow Zone|morningside-heigh...|         15057|        0|    10|       0|              0|              0|    1|     7|      1|          0|        140|        246|      NW|  None|           Clear|45.0|     39.3|    23.0|    42.0|   30.16|      10.0|     11.5|     18.4|   0.0|    AM|   0.3552802|       0.44870257| 0.40801948|0.90347266|    37.221275| 0.07675715|   0.038899988|0.31709734|          1240.0| 0.25539184|     0.15434249|        51246.0|                8.306123|       0.5971975|          49030.0|             101010.0|               40230.0|   0.19263513|   0.9958424|0.086129636| 0.21649426|  0.3685131|0.117424816|    125195.0|            74.12374|   0.2647905|0.27508485|   0.3645468|    0.23991507|     0.26391754|6.1346908|0.28778306| 0.7270909|      0.10797298|    0.0417013|           100.4414|0.033677794|           1.0|10.953508|          463.742|0.073518835| 4.818818|       93.0|\n",
      "|       2|              1|         1|Manhattan|     Lenox Hill West|  Yellow Zone|morningside-heigh...|         15173|        0|    10|       5|              0|              0|    1|     7|      1|          0|        141|        262|      NW|  None|           Clear|45.0|     39.3|    23.0|    42.0|   30.16|      10.0|     11.5|     18.4|   0.0|    AM|   0.3552802|       0.44870257| 0.40801948|0.90347266|    37.221275| 0.07675715|   0.038899988|0.31709734|          1240.0| 0.25539184|     0.15434249|        51246.0|                8.306123|       0.5971975|          49030.0|             101010.0|               40230.0|   0.19263513|   0.9958424|0.086129636| 0.21649426|  0.3685131|0.117424816|    125195.0|            74.12374|   0.2647905|0.27508485|   0.3645468|    0.23991507|     0.26391754|6.1346908|0.28778306| 0.7270909|      0.10797298|    0.0417013|           100.4414|0.033677794|           1.0|10.953508|          463.742|0.073518835| 4.818818|       93.0|\n",
      "|       1|              1|         1|Manhattan| UN/Turtle Bay South|  Yellow Zone|stuyvesant-town-t...|         15194|        0|    10|       5|              0|              0|    1|     7|      1|          0|        233|        237|      NW|  None|           Clear|45.0|     39.3|    23.0|    42.0|   30.16|      10.0|     11.5|     18.4|   0.0|    AM|  0.57164156|       0.80019236| 0.41157678| 0.9135697|    26.305624|0.044648167|    0.05526512|0.22056927|          2530.0| 0.12217326|     0.32273003|        94974.0|               5.2222223|       0.7165772|         110400.0|             125900.0|              101740.0|  0.040741675|  0.82974327| 0.15852708|0.024298323| 0.07261869| 0.17719358|    141162.0|           86.021935|   0.0650062|0.07110356|  0.01811925|    0.76632303|     0.73754156| 8.967039| 0.7207889|0.44946867|     0.009126321|  0.046181545|           8.167574|0.021643117|    0.98522085| 10.80248|         45.30133|0.033180363|1.8354409|      528.0|\n",
      "|       2|              2|         1|Manhattan|       Alphabet City|  Yellow Zone|lower-east-side-c...|         15237|        0|    10|       5|              0|              0|    1|     7|      1|          0|          4|        224|      NW|  None|           Clear|45.0|     39.3|    23.0|    42.0|   30.16|      10.0|     11.5|     18.4|   0.0|    AM|  0.50196373|       0.43150792| 0.37473005|0.87019444|    32.774166|0.078546755|    0.04097804|0.36311647|          1050.0| 0.14044213|    0.109666236|        81611.0|                8.077465|      0.57301885|          41210.0|              90180.0|               37080.0|   0.26552936|   0.9519986|   0.335112|0.088721626| 0.22383487|  0.1713163|    159296.0|             91.1826|   0.3653434|0.25478825|  0.25430053|     0.4923208|      0.5964467|10.154523|0.33174717| 0.7196702|      0.23975927|   0.03353153|          29.267155|0.033436134|     0.8903183|14.698947|        137.58318|0.055613495|4.5444245|      137.0|\n",
      "|       2|              2|         1|Manhattan| Lincoln Square East|  Yellow Zone|     upper-west-side|         15322|        0|    10|       5|              0|              0|    1|     7|      1|          0|        142|        186|      NW|  None|           Clear|45.0|     39.3|    23.0|    42.0|   30.16|      10.0|     11.5|     18.4|   0.0|    AM|   0.4867244|         0.769494| 0.39426467|0.87823796|     32.20823|0.050530247|   0.045412634|0.23620522|          2160.0| 0.13936588|      0.3519269|       121595.0|                9.666667|       0.6914995|         111270.0|             176250.0|               87190.0|   0.03898483|  0.96885693| 0.10445296|0.053785913| 0.13055961| 0.21933907|    189492.0|            64.21281|  0.10707777|0.10397336| 0.072338976|      0.702454|      0.6916077|6.7915287| 0.6956969|0.48515666|     0.090372376|   0.04756198|          18.520918| 0.02069342|           1.0|8.6041975|         99.29089|0.051767234|1.8126686|      564.0|\n",
      "|       2|              2|         1|Manhattan|Times Sq/Theatre ...|  Yellow Zone|             midtown|         15371|        0|    10|       5|              0|              0|    1|     7|      1|          0|        230|        142|      NW|  None|           Clear|45.0|     39.3|    23.0|    42.0|   30.16|      10.0|     11.5|     18.4|   0.0|    AM|    0.591151|       0.78122497| 0.33588597|0.90639603|    26.175892|0.062489986|   0.037558686| 0.3098248|          2230.0|0.093174405|     0.21923822|       103852.0|               7.4342103|      0.75694627|         101550.0|             146530.0|               92250.0|   0.04280816|  0.61124855|  0.1828203| 0.04275314| 0.12741806| 0.11623065|    140247.0|           45.638466|   0.1820139|0.12677234| 0.045115486|    0.51428574|     0.85714287| 82.94467| 0.6118348|0.57417166|             0.0|  0.049581673|           6.582432| 0.02438232|           1.0| 94.32392|        46.568813| 0.03342539|11.379251|      475.0|\n",
      "|       1|              1|         1|Manhattan|        East Village|  Yellow Zone|lower-east-side-c...|         15375|        0|    10|       5|              0|              0|    1|     7|      1|          0|         79|        170|      NW|  None|           Clear|45.0|     39.3|    23.0|    42.0|   30.16|      10.0|     11.5|     18.4|   0.0|    AM|  0.50196373|       0.43150792| 0.37473005|0.87019444|    32.774166|0.078546755|    0.04097804|0.36311647|          1050.0| 0.14044213|    0.109666236|        81611.0|                8.077465|      0.57301885|          41210.0|              90180.0|               37080.0|   0.26552936|   0.9519986|   0.335112|0.088721626| 0.22383487|  0.1713163|    159296.0|             91.1826|   0.3653434|0.25478825|  0.25430053|     0.4923208|      0.5964467|10.154523|0.33174717| 0.7196702|      0.23975927|   0.03353153|          29.267155|0.033436134|     0.8903183|14.698947|        137.58318|0.055613495|4.5444245|      137.0|\n",
      "|       1|              4|         1|Manhattan|   Battery Park City|  Yellow Zone|  financial-district|         15432|        0|    10|       5|              0|              0|    1|     7|      1|          0|         13|         68|      NW|  None|           Clear|45.0|     39.3|    23.0|    42.0|   30.16|      10.0|     11.5|     18.4|   0.0|    AM|  0.45126778|        0.8014709| 0.38359955| 0.8863079|    25.633043|0.034581628|   0.009830509|0.22653177|          2530.0| 0.18245585|      0.2802751|        87577.0|                5.135714|      0.75197864|         137210.0|             210110.0|              120130.0|   0.04194736|  0.96071637| 0.13909811|0.018316505|0.056559324|  0.1164626|    152813.0|           51.538956|  0.09101661| 0.0800945|   0.0475287|    0.78488374|      0.7842566|15.333399| 0.7583452|0.40202987|             0.0|  0.043694243|           4.570739| 0.03217399|           1.0| 17.58011|        16.515028|0.039233375| 2.246712|      640.0|\n",
      "|       1|              1|         1|Manhattan|       Midtown North|  Yellow Zone|             midtown|         15663|        0|    10|       5|              0|              0|    1|     7|      1|          0|        163|        246|      NW|  None|           Clear|45.0|     39.3|    23.0|    42.0|   30.16|      10.0|     11.5|     18.4|   0.0|    AM|    0.591151|       0.78122497| 0.33588597|0.90639603|    26.175892|0.062489986|   0.037558686| 0.3098248|          2230.0|0.093174405|     0.21923822|       103852.0|               7.4342103|      0.75694627|         101550.0|             146530.0|               92250.0|   0.04280816|  0.61124855|  0.1828203| 0.04275314| 0.12741806| 0.11623065|    140247.0|           45.638466|   0.1820139|0.12677234| 0.045115486|    0.51428574|     0.85714287| 82.94467| 0.6118348|0.57417166|             0.0|  0.049581673|           6.582432| 0.02438232|           1.0| 94.32392|        46.568813| 0.03342539|11.379251|      475.0|\n",
      "|       2|              2|         1|Manhattan|Greenwich Village...|  Yellow Zone|greenwich-village...|         15846|        0|    10|      10|              0|              0|    1|     7|      1|          0|        113|        137|      NW|  None|           Clear|45.0|     39.3|    23.0|    42.0|   30.16|      10.0|     11.5|     18.4|   0.0|    AM|  0.45126778|        0.8014709| 0.38359955| 0.8863079|    25.633043|0.034581628|   0.009830509|0.22653177|          2530.0| 0.18245585|      0.2802751|        87577.0|                5.135714|      0.75197864|         137210.0|             210110.0|              120130.0|   0.04194736|  0.96378475| 0.13909811|0.018316505|0.056559324|  0.1164626|    152813.0|           51.538956|  0.09101661| 0.0800945|   0.0475287|    0.76760566|      0.8181818|21.751688| 0.7583452|0.40202987|             0.0|  0.043694243|          24.540657| 0.03217399|           1.0|25.417704|       106.459404|0.039233375| 3.666015|      407.0|\n",
      "|       1|              1|         1|Manhattan|   Battery Park City|  Yellow Zone|  financial-district|         16530|        0|    10|      15|              0|              0|    1|     7|      1|          0|         13|        233|      NW|  None|           Clear|45.0|     39.3|    23.0|    42.0|   30.16|      10.0|     11.5|     18.4|   0.0|    AM|  0.45126778|        0.8014709| 0.38359955| 0.8863079|    25.633043|0.034581628|   0.009830509|0.22653177|          2530.0| 0.18245585|      0.2802751|        87577.0|                5.135714|      0.75197864|         137210.0|             210110.0|              120130.0|   0.04194736|  0.96071637| 0.13909811|0.018316505|0.056559324|  0.1164626|    152813.0|           51.538956|  0.09101661| 0.0800945|   0.0475287|    0.78488374|      0.7842566|15.333399| 0.7583452|0.40202987|             0.0|  0.043694243|           4.570739| 0.03217399|           1.0| 17.58011|        16.515028|0.039233375| 2.246712|      640.0|\n",
      "|       1|              1|         1|Manhattan|        Clinton East|  Yellow Zone|     clinton-chelsea|         16742|        0|    10|      15|              0|              0|    1|     7|      1|          0|         48|         79|      NW|  None|           Clear|45.0|     39.3|    23.0|    42.0|   30.16|      10.0|     11.5|     18.4|   0.0|    AM|    0.591151|       0.78122497| 0.33588597|0.90639603|    26.175892|0.062489986|   0.037558686| 0.3098248|          2230.0|0.093174405|     0.21923822|       103852.0|               7.4342103|      0.75694627|         101550.0|             146530.0|               92250.0|   0.04280816|  0.72745204|  0.1828203| 0.04275314| 0.12741806| 0.11623065|    140247.0|           45.638466|   0.1820139|0.12677234| 0.045115486|    0.67155427|     0.65895957|18.528742| 0.6118348|0.57417166|     0.037422866|  0.049581673|          20.406475| 0.02438232|           1.0|23.265049|         81.90703| 0.03342539|4.7363067|      511.0|\n",
      "|       2|              2|         1|Manhattan|        West Village|  Yellow Zone|greenwich-village...|         16896|        0|    10|      20|              0|              0|    1|     7|      1|          0|        249|         50|      NW|  None|           Clear|45.0|     39.3|    23.0|    42.0|   30.16|      10.0|     11.5|     18.4|   0.0|    AM|  0.45126778|        0.8014709| 0.38359955| 0.8863079|    25.633043|0.034581628|   0.009830509|0.22653177|          2530.0| 0.18245585|      0.2802751|        87577.0|                5.135714|      0.75197864|         137210.0|             210110.0|              120130.0|   0.04194736|  0.96378475| 0.13909811|0.018316505|0.056559324|  0.1164626|    152813.0|           51.538956|  0.09101661| 0.0800945|   0.0475287|    0.76760566|      0.8181818|21.751688| 0.7583452|0.40202987|             0.0|  0.043694243|          24.540657| 0.03217399|           1.0|25.417704|       106.459404|0.039233375| 3.666015|      407.0|\n",
      "|       1|              1|         1|Manhattan|            Union Sq|  Yellow Zone|greenwich-village...|         17043|        0|    10|      20|              0|              0|    1|     7|      1|          0|        234|        249|      NW|  None|           Clear|45.0|     39.3|    23.0|    42.0|   30.16|      10.0|     11.5|     18.4|   0.0|    AM|  0.45126778|        0.8014709| 0.38359955| 0.8863079|    25.633043|0.034581628|   0.009830509|0.22653177|          2530.0| 0.18245585|      0.2802751|        87577.0|                5.135714|      0.75197864|         137210.0|             210110.0|              120130.0|   0.04194736|  0.96378475| 0.13909811|0.018316505|0.056559324|  0.1164626|    152813.0|           51.538956|  0.09101661| 0.0800945|   0.0475287|    0.76760566|      0.8181818|21.751688| 0.7583452|0.40202987|             0.0|  0.043694243|          24.540657| 0.03217399|           1.0|25.417704|       106.459404|0.039233375| 3.666015|      407.0|\n",
      "|       2|              2|         1|Manhattan|       Midtown South|  Yellow Zone|             midtown|         17048|        0|    10|      20|              0|              0|    1|     7|      1|          0|        164|         13|      NW|  None|           Clear|45.0|     39.3|    23.0|    42.0|   30.16|      10.0|     11.5|     18.4|   0.0|    AM|    0.591151|       0.78122497| 0.33588597|0.90639603|    26.175892|0.062489986|   0.037558686| 0.3098248|          2230.0|0.093174405|     0.21923822|       103852.0|               7.4342103|      0.75694627|         101550.0|             146530.0|               92250.0|   0.04280816|  0.61124855|  0.1828203| 0.04275314| 0.12741806| 0.11623065|    140247.0|           45.638466|   0.1820139|0.12677234| 0.045115486|    0.51428574|     0.85714287| 82.94467| 0.6118348|0.57417166|             0.0|  0.049581673|           6.582432| 0.02438232|           1.0| 94.32392|        46.568813| 0.03342539|11.379251|      475.0|\n",
      "|       2|              5|         1|Manhattan| Lincoln Square East|  Yellow Zone|     upper-west-side|         17499|        0|    10|      20|              0|              0|    1|     7|      1|          0|        142|        141|      NW|  None|           Clear|45.0|     39.3|    23.0|    42.0|   30.16|      10.0|     11.5|     18.4|   0.0|    AM|   0.4867244|         0.769494| 0.39426467|0.87823796|     32.20823|0.050530247|   0.045412634|0.23620522|          2160.0| 0.13936588|      0.3519269|       121595.0|                9.666667|       0.6914995|         111270.0|             176250.0|               87190.0|   0.03898483|  0.96885693| 0.10445296|0.053785913| 0.13055961| 0.21933907|    189492.0|            64.21281|  0.10707777|0.10397336| 0.072338976|      0.702454|      0.6916077|6.7915287| 0.6956969|0.48515666|     0.090372376|   0.04756198|          18.520918| 0.02069342|           1.0|8.6041975|         99.29089|0.051767234|1.8126686|      564.0|\n",
      "|       1|              1|         1|Manhattan|     Lower East Side|  Yellow Zone|lower-east-side-c...|         17703|        0|    10|      25|              0|              0|    1|     7|      1|          0|        148|        249|      NW|  None|           Clear|45.0|     39.3|    23.0|    42.0|   30.16|      10.0|     11.5|     18.4|   0.0|    AM|  0.50196373|       0.43150792| 0.37473005|0.87019444|    32.774166|0.078546755|    0.04097804|0.36311647|          1050.0| 0.14044213|    0.109666236|        81611.0|                8.077465|      0.57301885|          41210.0|              90180.0|               37080.0|   0.26552936|   0.9519986|   0.335112|0.088721626| 0.22383487|  0.1713163|    159296.0|             91.1826|   0.3653434|0.25478825|  0.25430053|     0.4923208|      0.5964467|10.154523|0.33174717| 0.7196702|      0.23975927|   0.03353153|          29.267155|0.033436134|     0.8903183|14.698947|        137.58318|0.055613495|4.5444245|      137.0|\n",
      "|       2|              5|         1|Manhattan|      Yorkville East|  Yellow Zone|     upper-east-side|         17971|        0|    10|      25|              0|              0|    1|     7|      1|          0|        262|        162|      NW|  None|           Clear|45.0|     39.3|    23.0|    42.0|   30.16|      10.0|     11.5|     18.4|   0.0|    AM|  0.46506497|       0.80853724| 0.47733375| 0.8295214|     32.54397|0.041147184|   0.020695144|0.23663951|          2250.0| 0.17837445|      0.3747926|       133836.0|               6.0869565|      0.71909726|         116970.0|             184050.0|              101250.0|   0.03111998|  0.65935075| 0.10555515|0.022816936| 0.12078775| 0.18090537|    219004.0|          108.525276|  0.11705447|0.06525908|  0.02266688|     0.7605263|     0.74580646|7.5072756| 0.7274022| 0.4446338|     0.030676179|   0.04657141|           14.20692|0.018507127|     0.8794264| 8.562204|         69.43284|0.033834368| 1.054929|      734.0|\n",
      "|       1|              4|         1|Manhattan|        Midtown East|  Yellow Zone|             midtown|         17979|        0|    10|      25|              0|              0|    1|     7|      1|          0|        162|         42|      NW|  None|           Clear|45.0|     39.3|    23.0|    42.0|   30.16|      10.0|     11.5|     18.4|   0.0|    AM|    0.591151|       0.78122497| 0.33588597|0.90639603|    26.175892|0.062489986|   0.037558686| 0.3098248|          2230.0|0.093174405|     0.21923822|       103852.0|               7.4342103|      0.75694627|         101550.0|             146530.0|               92250.0|   0.04280816|  0.61124855|  0.1828203| 0.04275314| 0.12741806| 0.11623065|    140247.0|           45.638466|   0.1820139|0.12677234| 0.045115486|    0.51428574|     0.85714287| 82.94467| 0.6118348|0.57417166|             0.0|  0.049581673|           6.582432| 0.02438232|           1.0| 94.32392|        46.568813| 0.03342539|11.379251|      475.0|\n",
      "|       2|              1|         1|Manhattan|     Lenox Hill West|  Yellow Zone|morningside-heigh...|         18147|        0|    10|      25|              0|              0|    1|     7|      1|          0|        141|        142|      NW|  None|           Clear|45.0|     39.3|    23.0|    42.0|   30.16|      10.0|     11.5|     18.4|   0.0|    AM|   0.3552802|       0.44870257| 0.40801948|0.90347266|    37.221275| 0.07675715|   0.038899988|0.31709734|          1240.0| 0.25539184|     0.15434249|        51246.0|                8.306123|       0.5971975|          49030.0|             101010.0|               40230.0|   0.19263513|   0.9958424|0.086129636| 0.21649426|  0.3685131|0.117424816|    125195.0|            74.12374|   0.2647905|0.27508485|   0.3645468|    0.23991507|     0.26391754|6.1346908|0.28778306| 0.7270909|      0.10797298|    0.0417013|           100.4414|0.033677794|           1.0|10.953508|          463.742|0.073518835| 4.818818|       93.0|\n",
      "|       1|              2|         1|Manhattan|         Murray Hill|  Yellow Zone|stuyvesant-town-t...|         18196|        0|    10|      30|              0|              0|    1|     7|      1|          0|        170|        231|      NW|  None|           Clear|45.0|     39.3|    23.0|    42.0|   30.16|      10.0|     11.5|     18.4|   0.0|    AM|  0.57164156|       0.80019236| 0.41157678| 0.9135697|    26.305624|0.044648167|    0.05526512|0.22056927|          2530.0| 0.12217326|     0.32273003|        94974.0|               5.2222223|       0.7165772|         110400.0|             125900.0|              101740.0|  0.040741675|  0.82974327| 0.15852708|0.024298323| 0.07261869| 0.17719358|    141162.0|           86.021935|   0.0650062|0.07110356|  0.01811925|    0.76632303|     0.73754156| 8.967039| 0.7207889|0.44946867|     0.009126321|  0.046181545|           8.167574|0.021643117|    0.98522085| 10.80248|         45.30133|0.033180363|1.8354409|      528.0|\n",
      "|       1|              1|         1|Manhattan|   Battery Park City|  Yellow Zone|  financial-district|         18295|        0|    10|      30|              0|              0|    1|     7|      1|          0|         13|        211|      NW|  None|           Clear|45.0|     39.3|    23.0|    42.0|   30.16|      10.0|     11.5|     18.4|   0.0|    AM|  0.45126778|        0.8014709| 0.38359955| 0.8863079|    25.633043|0.034581628|   0.009830509|0.22653177|          2530.0| 0.18245585|      0.2802751|        87577.0|                5.135714|      0.75197864|         137210.0|             210110.0|              120130.0|   0.04194736|  0.96071637| 0.13909811|0.018316505|0.056559324|  0.1164626|    152813.0|           51.538956|  0.09101661| 0.0800945|   0.0475287|    0.78488374|      0.7842566|15.333399| 0.7583452|0.40202987|             0.0|  0.043694243|           4.570739| 0.03217399|           1.0| 17.58011|        16.515028|0.039233375| 2.246712|      640.0|\n",
      "|       2|              1|         1|Manhattan|Times Sq/Theatre ...|  Yellow Zone|             midtown|         18348|        0|    10|      30|              0|              0|    1|     7|      1|          0|        230|        230|      NW|  None|           Clear|45.0|     39.3|    23.0|    42.0|   30.16|      10.0|     11.5|     18.4|   0.0|    AM|    0.591151|       0.78122497| 0.33588597|0.90639603|    26.175892|0.062489986|   0.037558686| 0.3098248|          2230.0|0.093174405|     0.21923822|       103852.0|               7.4342103|      0.75694627|         101550.0|             146530.0|               92250.0|   0.04280816|  0.61124855|  0.1828203| 0.04275314| 0.12741806| 0.11623065|    140247.0|           45.638466|   0.1820139|0.12677234| 0.045115486|    0.51428574|     0.85714287| 82.94467| 0.6118348|0.57417166|             0.0|  0.049581673|           6.582432| 0.02438232|           1.0| 94.32392|        46.568813| 0.03342539|11.379251|      475.0|\n",
      "|       2|              1|         1|Manhattan|        Central Park|  Yellow Zone|             airport|         18628|        0|    10|      30|              0|              0|    1|     7|      1|          0|         43|        230|      NW|  None|           Clear|45.0|     39.3|    23.0|    42.0|   30.16|      10.0|     11.5|     18.4|   0.0|    AM|  0.31938934|        0.3668484|  0.4788116|0.71624535|     41.35221|0.085213274|     0.0651378|0.36546013|       1430.8474| 0.30090275|      0.3113571|       63980.76|                5.601235|       0.6363629|         61706.61|             96132.03|             49947.965|   0.18914981|   0.7203781| 0.13247497|   0.216347|  0.2968986| 0.13313518|   155454.36|           43.645905|  0.19992936|0.19560525|  0.25153065|    0.44093007|      0.4430428| 8.647801|0.32453018|0.57453614|      0.09607554|  0.035720024|           48.23682|0.042730317|     0.8177633| 13.48251|        232.27821| 0.07035005|4.8347077|  456.18643|\n",
      "|       2|              1|         1|Manhattan|   East Harlem North|    Boro Zone|         east-harlem|         18730|        0|    10|      30|              0|              0|    1|     7|      1|          0|         74|         74|      NW|  None|           Clear|45.0|     39.3|    23.0|    42.0|   30.16|      10.0|     11.5|     18.4|   0.0|    AM|   0.3637099|        0.3439601|  0.5733063|0.88738096|     34.26356|  0.1323463|    0.08449107|   0.23405|           880.0| 0.30465183|     0.06595396|        55045.0|               7.3636365|      0.52156085|          34420.0|             117600.0|               31910.0|   0.23028079|   0.9761329|0.082656264|  0.3032194|  0.4351388| 0.11987727|    134279.0|           58.028954|  0.31760353|0.32297394|  0.47027472|    0.34538153|      0.3220339| 7.534582|0.15861006|  0.686723|      0.35252094|   0.03111407|           62.63302| 0.03813734|     0.9890883|16.123009|          312.557| 0.07252062| 8.588428|      154.0|\n",
      "|       2|              5|         1|Manhattan|      Midtown Center|  Yellow Zone|             midtown|         19158|        0|    10|      35|              0|              0|    1|     7|      1|          0|        161|         41|      NW|  None|           Clear|45.0|     39.3|    23.0|    42.0|   30.16|      10.0|     11.5|     18.4|   0.0|    AM|    0.591151|       0.78122497| 0.33588597|0.90639603|    26.175892|0.062489986|   0.037558686| 0.3098248|          2230.0|0.093174405|     0.21923822|       103852.0|               7.4342103|      0.75694627|         101550.0|             146530.0|               92250.0|   0.04280816|  0.61124855|  0.1828203| 0.04275314| 0.12741806| 0.11623065|    140247.0|           45.638466|   0.1820139|0.12677234| 0.045115486|    0.51428574|     0.85714287| 82.94467| 0.6118348|0.57417166|             0.0|  0.049581673|           6.582432| 0.02438232|           1.0| 94.32392|        46.568813| 0.03342539|11.379251|      475.0|\n",
      "|       1|              1|         1|Manhattan|     Lenox Hill West|  Yellow Zone|morningside-heigh...|         19771|        0|    10|      40|              0|              0|    1|     7|      1|          0|        141|         41|      NW|  None|           Clear|45.0|     39.3|    23.0|    42.0|   30.16|      10.0|     11.5|     18.4|   0.0|    AM|   0.3552802|       0.44870257| 0.40801948|0.90347266|    37.221275| 0.07675715|   0.038899988|0.31709734|          1240.0| 0.25539184|     0.15434249|        51246.0|                8.306123|       0.5971975|          49030.0|             101010.0|               40230.0|   0.19263513|   0.9958424|0.086129636| 0.21649426|  0.3685131|0.117424816|    125195.0|            74.12374|   0.2647905|0.27508485|   0.3645468|    0.23991507|     0.26391754|6.1346908|0.28778306| 0.7270909|      0.10797298|    0.0417013|           100.4414|0.033677794|           1.0|10.953508|          463.742|0.073518835| 4.818818|       93.0|\n",
      "|       2|              1|         1|Manhattan|Upper West Side N...|  Yellow Zone|     upper-west-side|         19907|        0|    10|      40|              0|              0|    1|     7|      1|          0|        238|         74|      NW|  None|           Clear|45.0|     39.3|    23.0|    42.0|   30.16|      10.0|     11.5|     18.4|   0.0|    AM|   0.4867244|         0.769494| 0.39426467|0.87823796|     32.20823|0.050530247|   0.045412634|0.23620522|          2160.0| 0.13936588|      0.3519269|       121595.0|                9.666667|       0.6914995|         111270.0|             176250.0|               87190.0|   0.03898483|  0.96885693| 0.10445296|0.053785913| 0.13055961| 0.21933907|    189492.0|            64.21281|  0.10707777|0.10397336| 0.072338976|      0.702454|      0.6916077|6.7915287| 0.6956969|0.48515666|     0.090372376|   0.04756198|          18.520918| 0.02069342|           1.0|8.6041975|         99.29089|0.051767234|1.8126686|      564.0|\n",
      "|       2|              1|         1|Manhattan|            Gramercy|  Yellow Zone|stuyvesant-town-t...|         19979|        0|    10|      40|              0|              0|    1|     7|      1|          0|        107|        114|      NW|  None|           Clear|45.0|     39.3|    23.0|    42.0|   30.16|      10.0|     11.5|     18.4|   0.0|    AM|  0.57164156|       0.80019236| 0.41157678| 0.9135697|    26.305624|0.044648167|    0.05526512|0.22056927|          2530.0| 0.12217326|     0.32273003|        94974.0|               5.2222223|       0.7165772|         110400.0|             125900.0|              101740.0|  0.040741675|  0.82974327| 0.15852708|0.024298323| 0.07261869| 0.17719358|    141162.0|           86.021935|   0.0650062|0.07110356|  0.01811925|    0.76632303|     0.73754156| 8.967039| 0.7207889|0.44946867|     0.009126321|  0.046181545|           8.167574|0.021643117|    0.98522085| 10.80248|         45.30133|0.033180363|1.8354409|      528.0|\n",
      "|       1|              1|         1|Manhattan|Upper East Side N...|  Yellow Zone|     upper-east-side|         21223|        0|    10|      45|              0|              0|    1|     7|      1|          0|        236|        161|      NW|  None|           Clear|45.0|     39.3|    23.0|    42.0|   30.16|      10.0|     11.5|     18.4|   0.0|    AM|  0.46506497|       0.80853724| 0.47733375| 0.8295214|     32.54397|0.041147184|   0.020695144|0.23663951|          2250.0| 0.17837445|      0.3747926|       133836.0|               6.0869565|      0.71909726|         116970.0|             184050.0|              101250.0|   0.03111998|  0.65935075| 0.10555515|0.022816936| 0.12078775| 0.18090537|    219004.0|          108.525276|  0.11705447|0.06525908|  0.02266688|     0.7605263|     0.74580646|7.5072756| 0.7274022| 0.4446338|     0.030676179|   0.04657141|           14.20692|0.018507127|     0.8794264| 8.562204|         69.43284|0.033834368| 1.054929|      734.0|\n",
      "|       1|              2|         1|Manhattan|                SoHo|  Yellow Zone|greenwich-village...|         21899|        0|    10|      50|              0|              0|    1|     7|      1|          0|        211|        161|      NW|  None|           Clear|45.0|     39.3|    23.0|    42.0|   30.16|      10.0|     11.5|     18.4|   0.0|    AM|  0.45126778|        0.8014709| 0.38359955| 0.8863079|    25.633043|0.034581628|   0.009830509|0.22653177|          2530.0| 0.18245585|      0.2802751|        87577.0|                5.135714|      0.75197864|         137210.0|             210110.0|              120130.0|   0.04194736|  0.96378475| 0.13909811|0.018316505|0.056559324|  0.1164626|    152813.0|           51.538956|  0.09101661| 0.0800945|   0.0475287|    0.76760566|      0.8181818|21.751688| 0.7583452|0.40202987|             0.0|  0.043694243|          24.540657| 0.03217399|           1.0|25.417704|       106.459404|0.039233375| 3.666015|      407.0|\n",
      "|       2|              1|         1|Manhattan|Upper West Side N...|  Yellow Zone|     upper-west-side|         21965|        0|    10|      50|              0|              0|    1|     7|      1|          0|        238|        239|      NW|  None|           Clear|45.0|     39.3|    23.0|    42.0|   30.16|      10.0|     11.5|     18.4|   0.0|    AM|   0.4867244|         0.769494| 0.39426467|0.87823796|     32.20823|0.050530247|   0.045412634|0.23620522|          2160.0| 0.13936588|      0.3519269|       121595.0|                9.666667|       0.6914995|         111270.0|             176250.0|               87190.0|   0.03898483|  0.96885693| 0.10445296|0.053785913| 0.13055961| 0.21933907|    189492.0|            64.21281|  0.10707777|0.10397336| 0.072338976|      0.702454|      0.6916077|6.7915287| 0.6956969|0.48515666|     0.090372376|   0.04756198|          18.520918| 0.02069342|           1.0|8.6041975|         99.29089|0.051767234|1.8126686|      564.0|\n",
      "|       2|              5|         1|Manhattan|        Central Park|  Yellow Zone|             airport|         22129|        0|    10|      50|              0|              0|    1|     7|      1|          0|         43|         45|      NW|  None|           Clear|45.0|     39.3|    23.0|    42.0|   30.16|      10.0|     11.5|     18.4|   0.0|    AM|  0.31938934|        0.3668484|  0.4788116|0.71624535|     41.35221|0.085213274|     0.0651378|0.36546013|       1430.8474| 0.30090275|      0.3113571|       63980.76|                5.601235|       0.6363629|         61706.61|             96132.03|             49947.965|   0.18914981|   0.7203781| 0.13247497|   0.216347|  0.2968986| 0.13313518|   155454.36|           43.645905|  0.19992936|0.19560525|  0.25153065|    0.44093007|      0.4430428| 8.647801|0.32453018|0.57453614|      0.09607554|  0.035720024|           48.23682|0.042730317|     0.8177633| 13.48251|        232.27821| 0.07035005|4.8347077|  456.18643|\n",
      "|       1|              3|         1|Manhattan|      Midtown Center|  Yellow Zone|             midtown|         22165|        0|    10|      55|              0|              0|    1|     7|      1|          0|        161|         43|      NW|  None|           Clear|45.0|     39.3|    23.0|    42.0|   30.16|      10.0|     11.5|     18.4|   0.0|    AM|    0.591151|       0.78122497| 0.33588597|0.90639603|    26.175892|0.062489986|   0.037558686| 0.3098248|          2230.0|0.093174405|     0.21923822|       103852.0|               7.4342103|      0.75694627|         101550.0|             146530.0|               92250.0|   0.04280816|  0.61124855|  0.1828203| 0.04275314| 0.12741806| 0.11623065|    140247.0|           45.638466|   0.1820139|0.12677234| 0.045115486|    0.51428574|     0.85714287| 82.94467| 0.6118348|0.57417166|             0.0|  0.049581673|           6.582432| 0.02438232|           1.0| 94.32392|        46.568813| 0.03342539|11.379251|      475.0|\n",
      "|       2|              1|         1|Manhattan|      Midtown Center|  Yellow Zone|             midtown|         22201|        0|    10|      55|              0|              0|    1|     7|      1|          0|        161|        161|      NW|  None|           Clear|45.0|     39.3|    23.0|    42.0|   30.16|      10.0|     11.5|     18.4|   0.0|    AM|    0.591151|       0.78122497| 0.33588597|0.90639603|    26.175892|0.062489986|   0.037558686| 0.3098248|          2230.0|0.093174405|     0.21923822|       103852.0|               7.4342103|      0.75694627|         101550.0|             146530.0|               92250.0|   0.04280816|  0.61124855|  0.1828203| 0.04275314| 0.12741806| 0.11623065|    140247.0|           45.638466|   0.1820139|0.12677234| 0.045115486|    0.51428574|     0.85714287| 82.94467| 0.6118348|0.57417166|             0.0|  0.049581673|           6.582432| 0.02438232|           1.0| 94.32392|        46.568813| 0.03342539|11.379251|      475.0|\n",
      "|       1|              1|         1|Manhattan|      Midtown Center|  Yellow Zone|             midtown|         22245|        0|    10|      55|              0|              0|    1|     7|      1|          0|        161|         45|      NW|  None|           Clear|45.0|     39.3|    23.0|    42.0|   30.16|      10.0|     11.5|     18.4|   0.0|    AM|    0.591151|       0.78122497| 0.33588597|0.90639603|    26.175892|0.062489986|   0.037558686| 0.3098248|          2230.0|0.093174405|     0.21923822|       103852.0|               7.4342103|      0.75694627|         101550.0|             146530.0|               92250.0|   0.04280816|  0.61124855|  0.1828203| 0.04275314| 0.12741806| 0.11623065|    140247.0|           45.638466|   0.1820139|0.12677234| 0.045115486|    0.51428574|     0.85714287| 82.94467| 0.6118348|0.57417166|             0.0|  0.049581673|           6.582432| 0.02438232|           1.0| 94.32392|        46.568813| 0.03342539|11.379251|      475.0|\n",
      "|       1|              1|         1|Manhattan|           Hudson Sq|  Yellow Zone|greenwich-village...|         23019|        0|    11|       0|              0|              0|    1|     7|      1|          0|        125|        230|   North|  None|           Clear|46.0|      0.0|    23.0|    40.0|   30.17|      10.0|      0.0|      0.0|   0.0|    AM|  0.45126778|        0.8014709| 0.38359955| 0.8863079|    25.633043|0.034581628|   0.009830509|0.22653177|          2530.0| 0.18245585|      0.2802751|        87577.0|                5.135714|      0.75197864|         137210.0|             210110.0|              120130.0|   0.04194736|  0.96378475| 0.13909811|0.018316505|0.056559324|  0.1164626|    152813.0|           51.538956|  0.09101661| 0.0800945|   0.0475287|    0.76760566|      0.8181818|21.751688| 0.7583452|0.40202987|             0.0|  0.043694243|          24.540657| 0.03217399|           1.0|25.417704|       106.459404|0.039233375| 3.666015|      407.0|\n",
      "|       1|              4|         1|Manhattan|    Garment District|  Yellow Zone|             midtown|         23116|        0|    11|       0|              0|              0|    1|     7|      1|          0|        100|        144|   North|  None|           Clear|46.0|      0.0|    23.0|    40.0|   30.17|      10.0|      0.0|      0.0|   0.0|    AM|    0.591151|       0.78122497| 0.33588597|0.90639603|    26.175892|0.062489986|   0.037558686| 0.3098248|          2230.0|0.093174405|     0.21923822|       103852.0|               7.4342103|      0.75694627|         101550.0|             146530.0|               92250.0|   0.04280816|  0.61124855|  0.1828203| 0.04275314| 0.12741806| 0.11623065|    140247.0|           45.638466|   0.1820139|0.12677234| 0.045115486|    0.51428574|     0.85714287| 82.94467| 0.6118348|0.57417166|             0.0|  0.049581673|           6.582432| 0.02438232|           1.0| 94.32392|        46.568813| 0.03342539|11.379251|      475.0|\n",
      "|       1|              3|         1|Manhattan|Upper West Side S...|  Yellow Zone|     upper-west-side|         23492|        0|    11|       0|              0|              0|    1|     7|      1|          0|        239|         68|   North|  None|           Clear|46.0|      0.0|    23.0|    40.0|   30.17|      10.0|      0.0|      0.0|   0.0|    AM|   0.4867244|         0.769494| 0.39426467|0.87823796|     32.20823|0.050530247|   0.045412634|0.23620522|          2160.0| 0.13936588|      0.3519269|       121595.0|                9.666667|       0.6914995|         111270.0|             176250.0|               87190.0|   0.03898483|  0.96885693| 0.10445296|0.053785913| 0.13055961| 0.21933907|    189492.0|            64.21281|  0.10707777|0.10397336| 0.072338976|      0.702454|      0.6916077|6.7915287| 0.6956969|0.48515666|     0.090372376|   0.04756198|          18.520918| 0.02069342|           1.0|8.6041975|         99.29089|0.051767234|1.8126686|      564.0|\n",
      "|       2|              1|         1|Manhattan|      Yorkville West|  Yellow Zone|     upper-east-side|         23506|        0|    11|       0|              0|              0|    1|     7|      1|          0|        263|        125|   North|  None|           Clear|46.0|      0.0|    23.0|    40.0|   30.17|      10.0|      0.0|      0.0|   0.0|    AM|  0.46506497|       0.80853724| 0.47733375| 0.8295214|     32.54397|0.041147184|   0.020695144|0.23663951|          2250.0| 0.17837445|      0.3747926|       133836.0|               6.0869565|      0.71909726|         116970.0|             184050.0|              101250.0|   0.03111998|  0.65935075| 0.10555515|0.022816936| 0.12078775| 0.18090537|    219004.0|          108.525276|  0.11705447|0.06525908|  0.02266688|     0.7605263|     0.74580646|7.5072756| 0.7274022| 0.4446338|     0.030676179|   0.04657141|           14.20692|0.018507127|     0.8794264| 8.562204|         69.43284|0.033834368| 1.054929|      734.0|\n",
      "|       2|              1|         1|Manhattan|Upper West Side S...|  Yellow Zone|     upper-west-side|         23766|        0|    11|       5|              0|              0|    1|     7|      1|          0|        239|        186|   North|  None|           Clear|46.0|      0.0|    23.0|    40.0|   30.17|      10.0|      0.0|      0.0|   0.0|    AM|   0.4867244|         0.769494| 0.39426467|0.87823796|     32.20823|0.050530247|   0.045412634|0.23620522|          2160.0| 0.13936588|      0.3519269|       121595.0|                9.666667|       0.6914995|         111270.0|             176250.0|               87190.0|   0.03898483|  0.96885693| 0.10445296|0.053785913| 0.13055961| 0.21933907|    189492.0|            64.21281|  0.10707777|0.10397336| 0.072338976|      0.702454|      0.6916077|6.7915287| 0.6956969|0.48515666|     0.090372376|   0.04756198|          18.520918| 0.02069342|           1.0|8.6041975|         99.29089|0.051767234|1.8126686|      564.0|\n",
      "|       1|              1|         1|Manhattan|Upper East Side N...|  Yellow Zone|     upper-east-side|         25084|        0|    11|      10|              0|              0|    1|     7|      1|          0|        236|        236|   North|  None|           Clear|46.0|      0.0|    23.0|    40.0|   30.17|      10.0|      0.0|      0.0|   0.0|    AM|  0.46506497|       0.80853724| 0.47733375| 0.8295214|     32.54397|0.041147184|   0.020695144|0.23663951|          2250.0| 0.17837445|      0.3747926|       133836.0|               6.0869565|      0.71909726|         116970.0|             184050.0|              101250.0|   0.03111998|  0.65935075| 0.10555515|0.022816936| 0.12078775| 0.18090537|    219004.0|          108.525276|  0.11705447|0.06525908|  0.02266688|     0.7605263|     0.74580646|7.5072756| 0.7274022| 0.4446338|     0.030676179|   0.04657141|           14.20692|0.018507127|     0.8794264| 8.562204|         69.43284|0.033834368| 1.054929|      734.0|\n",
      "|       2|              1|         1|Manhattan|            Flatiron|  Yellow Zone|             midtown|         25207|        0|    11|      10|              0|              0|    1|     7|      1|          0|         90|        211|   North|  None|           Clear|46.0|      0.0|    23.0|    40.0|   30.17|      10.0|      0.0|      0.0|   0.0|    AM|    0.591151|       0.78122497| 0.33588597|0.90639603|    26.175892|0.062489986|   0.037558686| 0.3098248|          2230.0|0.093174405|     0.21923822|       103852.0|               7.4342103|      0.75694627|         101550.0|             146530.0|               92250.0|   0.04280816|  0.61124855|  0.1828203| 0.04275314| 0.12741806| 0.11623065|    140247.0|           45.638466|   0.1820139|0.12677234| 0.045115486|    0.51428574|     0.85714287| 82.94467| 0.6118348|0.57417166|             0.0|  0.049581673|           6.582432| 0.02438232|           1.0| 94.32392|        46.568813| 0.03342539|11.379251|      475.0|\n",
      "|       1|              1|         1|Manhattan|            Kips Bay|  Yellow Zone|stuyvesant-town-t...|         25479|        0|    11|      15|              0|              0|    1|     7|      1|          0|        137|         87|   North|  None|           Clear|46.0|      0.0|    23.0|    40.0|   30.17|      10.0|      0.0|      0.0|   0.0|    AM|  0.57164156|       0.80019236| 0.41157678| 0.9135697|    26.305624|0.044648167|    0.05526512|0.22056927|          2530.0| 0.12217326|     0.32273003|        94974.0|               5.2222223|       0.7165772|         110400.0|             125900.0|              101740.0|  0.040741675|  0.82974327| 0.15852708|0.024298323| 0.07261869| 0.17719358|    141162.0|           86.021935|   0.0650062|0.07110356|  0.01811925|    0.76632303|     0.73754156| 8.967039| 0.7207889|0.44946867|     0.009126321|  0.046181545|           8.167574|0.021643117|    0.98522085| 10.80248|         45.30133|0.033180363|1.8354409|      528.0|\n",
      "|       1|              1|         1|Manhattan|            Flatiron|  Yellow Zone|             midtown|         25649|        0|    11|      15|              0|              0|    1|     7|      1|          0|         90|        186|   North|  None|           Clear|46.0|      0.0|    23.0|    40.0|   30.17|      10.0|      0.0|      0.0|   0.0|    AM|    0.591151|       0.78122497| 0.33588597|0.90639603|    26.175892|0.062489986|   0.037558686| 0.3098248|          2230.0|0.093174405|     0.21923822|       103852.0|               7.4342103|      0.75694627|         101550.0|             146530.0|               92250.0|   0.04280816|  0.61124855|  0.1828203| 0.04275314| 0.12741806| 0.11623065|    140247.0|           45.638466|   0.1820139|0.12677234| 0.045115486|    0.51428574|     0.85714287| 82.94467| 0.6118348|0.57417166|             0.0|  0.049581673|           6.582432| 0.02438232|           1.0| 94.32392|        46.568813| 0.03342539|11.379251|      475.0|\n",
      "|       1|              1|         1|Manhattan|      Yorkville East|  Yellow Zone|     upper-east-side|         25826|        0|    11|      15|              0|              0|    1|     7|      1|          0|        262|        237|   North|  None|           Clear|46.0|      0.0|    23.0|    40.0|   30.17|      10.0|      0.0|      0.0|   0.0|    AM|  0.46506497|       0.80853724| 0.47733375| 0.8295214|     32.54397|0.041147184|   0.020695144|0.23663951|          2250.0| 0.17837445|      0.3747926|       133836.0|               6.0869565|      0.71909726|         116970.0|             184050.0|              101250.0|   0.03111998|  0.65935075| 0.10555515|0.022816936| 0.12078775| 0.18090537|    219004.0|          108.525276|  0.11705447|0.06525908|  0.02266688|     0.7605263|     0.74580646|7.5072756| 0.7274022| 0.4446338|     0.030676179|   0.04657141|           14.20692|0.018507127|     0.8794264| 8.562204|         69.43284|0.033834368| 1.054929|      734.0|\n",
      "|       1|              4|         1|Manhattan|           Chinatown|  Yellow Zone|lower-east-side-c...|         26486|        0|    11|      20|              0|              0|    1|     7|      1|          0|         45|        158|   North|  None|           Clear|46.0|      0.0|    23.0|    40.0|   30.17|      10.0|      0.0|      0.0|   0.0|    AM|  0.50196373|       0.43150792| 0.37473005|0.87019444|    32.774166|0.078546755|    0.04097804|0.36311647|          1050.0| 0.14044213|    0.109666236|        81611.0|                8.077465|      0.57301885|          41210.0|              90180.0|               37080.0|   0.26552936|   0.9519986|   0.335112|0.088721626| 0.22383487|  0.1713163|    159296.0|             91.1826|   0.3653434|0.25478825|  0.25430053|     0.4923208|      0.5964467|10.154523|0.33174717| 0.7196702|      0.23975927|   0.03353153|          29.267155|0.033436134|     0.8903183|14.698947|        137.58318|0.055613495|4.5444245|      137.0|\n",
      "|       2|              1|         1|Manhattan|        West Village|  Yellow Zone|greenwich-village...|         27255|        0|    11|      25|              0|              0|    1|     7|      1|          0|        249|        144|   North|  None|           Clear|46.0|      0.0|    23.0|    40.0|   30.17|      10.0|      0.0|      0.0|   0.0|    AM|  0.45126778|        0.8014709| 0.38359955| 0.8863079|    25.633043|0.034581628|   0.009830509|0.22653177|          2530.0| 0.18245585|      0.2802751|        87577.0|                5.135714|      0.75197864|         137210.0|             210110.0|              120130.0|   0.04194736|  0.96378475| 0.13909811|0.018316505|0.056559324|  0.1164626|    152813.0|           51.538956|  0.09101661| 0.0800945|   0.0475287|    0.76760566|      0.8181818|21.751688| 0.7583452|0.40202987|             0.0|  0.043694243|          24.540657| 0.03217399|           1.0|25.417704|       106.459404|0.039233375| 3.666015|      407.0|\n",
      "|       2|              2|         1|Manhattan|Greenwich Village...|  Yellow Zone|greenwich-village...|         27469|        0|    11|      25|              0|              0|    1|     7|      1|          0|        114|        163|   North|  None|           Clear|46.0|      0.0|    23.0|    40.0|   30.17|      10.0|      0.0|      0.0|   0.0|    AM|  0.45126778|        0.8014709| 0.38359955| 0.8863079|    25.633043|0.034581628|   0.009830509|0.22653177|          2530.0| 0.18245585|      0.2802751|        87577.0|                5.135714|      0.75197864|         137210.0|             210110.0|              120130.0|   0.04194736|  0.96378475| 0.13909811|0.018316505|0.056559324|  0.1164626|    152813.0|           51.538956|  0.09101661| 0.0800945|   0.0475287|    0.76760566|      0.8181818|21.751688| 0.7583452|0.40202987|             0.0|  0.043694243|          24.540657| 0.03217399|           1.0|25.417704|       106.459404|0.039233375| 3.666015|      407.0|\n",
      "|       2|              5|         1|Manhattan|      Yorkville East|  Yellow Zone|     upper-east-side|         27651|        0|    11|      25|              0|              0|    1|     7|      1|          0|        262|        239|   North|  None|           Clear|46.0|      0.0|    23.0|    40.0|   30.17|      10.0|      0.0|      0.0|   0.0|    AM|  0.46506497|       0.80853724| 0.47733375| 0.8295214|     32.54397|0.041147184|   0.020695144|0.23663951|          2250.0| 0.17837445|      0.3747926|       133836.0|               6.0869565|      0.71909726|         116970.0|             184050.0|              101250.0|   0.03111998|  0.65935075| 0.10555515|0.022816936| 0.12078775| 0.18090537|    219004.0|          108.525276|  0.11705447|0.06525908|  0.02266688|     0.7605263|     0.74580646|7.5072756| 0.7274022| 0.4446338|     0.030676179|   0.04657141|           14.20692|0.018507127|     0.8794264| 8.562204|         69.43284|0.033834368| 1.054929|      734.0|\n",
      "|       2|              1|         1|Manhattan|    Manhattan Valley|  Yellow Zone|     upper-west-side|         27919|        0|    11|      30|              0|              0|    1|     7|      1|          0|        151|        152|   North|  None|           Clear|46.0|      0.0|    23.0|    40.0|   30.17|      10.0|      0.0|      0.0|   0.0|    AM|   0.4867244|         0.769494| 0.39426467|0.87823796|     32.20823|0.050530247|   0.045412634|0.23620522|          2160.0| 0.13936588|      0.3519269|       121595.0|                9.666667|       0.6914995|         111270.0|             176250.0|               87190.0|   0.03898483|  0.96885693| 0.10445296|0.053785913| 0.13055961| 0.21933907|    189492.0|            64.21281|  0.10707777|0.10397336| 0.072338976|      0.702454|      0.6916077|6.7915287| 0.6956969|0.48515666|     0.090372376|   0.04756198|          18.520918| 0.02069342|           1.0|8.6041975|         99.29089|0.051767234|1.8126686|      564.0|\n",
      "|       1|              1|         1|Manhattan| Lincoln Square East|  Yellow Zone|     upper-west-side|         28078|        0|    11|      30|              0|              0|    1|     7|      1|          0|        142|        238|   North|  None|           Clear|46.0|      0.0|    23.0|    40.0|   30.17|      10.0|      0.0|      0.0|   0.0|    AM|   0.4867244|         0.769494| 0.39426467|0.87823796|     32.20823|0.050530247|   0.045412634|0.23620522|          2160.0| 0.13936588|      0.3519269|       121595.0|                9.666667|       0.6914995|         111270.0|             176250.0|               87190.0|   0.03898483|  0.96885693| 0.10445296|0.053785913| 0.13055961| 0.21933907|    189492.0|            64.21281|  0.10707777|0.10397336| 0.072338976|      0.702454|      0.6916077|6.7915287| 0.6956969|0.48515666|     0.090372376|   0.04756198|          18.520918| 0.02069342|           1.0|8.6041975|         99.29089|0.051767234|1.8126686|      564.0|\n",
      "|       2|              1|         1|Manhattan| UN/Turtle Bay South|  Yellow Zone|stuyvesant-town-t...|         28242|        0|    11|      30|              0|              0|    1|     7|      1|          0|        233|        107|   North|  None|           Clear|46.0|      0.0|    23.0|    40.0|   30.17|      10.0|      0.0|      0.0|   0.0|    AM|  0.57164156|       0.80019236| 0.41157678| 0.9135697|    26.305624|0.044648167|    0.05526512|0.22056927|          2530.0| 0.12217326|     0.32273003|        94974.0|               5.2222223|       0.7165772|         110400.0|             125900.0|              101740.0|  0.040741675|  0.82974327| 0.15852708|0.024298323| 0.07261869| 0.17719358|    141162.0|           86.021935|   0.0650062|0.07110356|  0.01811925|    0.76632303|     0.73754156| 8.967039| 0.7207889|0.44946867|     0.009126321|  0.046181545|           8.167574|0.021643117|    0.98522085| 10.80248|         45.30133|0.033180363|1.8354409|      528.0|\n",
      "|       1|              1|         1|Manhattan|West Chelsea/Huds...|  Yellow Zone|     clinton-chelsea|         28728|        0|    11|      35|              0|              0|    1|     7|      1|          0|        246|         88|   North|  None|           Clear|46.0|      0.0|    23.0|    40.0|   30.17|      10.0|      0.0|      0.0|   0.0|    AM|    0.591151|       0.78122497| 0.33588597|0.90639603|    26.175892|0.062489986|   0.037558686| 0.3098248|          2230.0|0.093174405|     0.21923822|       103852.0|               7.4342103|      0.75694627|         101550.0|             146530.0|               92250.0|   0.04280816|  0.72745204|  0.1828203| 0.04275314| 0.12741806| 0.11623065|    140247.0|           45.638466|   0.1820139|0.12677234| 0.045115486|    0.67155427|     0.65895957|18.528742| 0.6118348|0.57417166|     0.037422866|  0.049581673|          20.406475| 0.02438232|           1.0|23.265049|         81.90703| 0.03342539|4.7363067|      511.0|\n",
      "|       2|              3|         1|Manhattan|   East Harlem South|    Boro Zone|         east-harlem|         28762|        0|    11|      35|              0|              0|    1|     7|      1|          0|         75|        239|   North|  None|           Clear|46.0|      0.0|    23.0|    40.0|   30.17|      10.0|      0.0|      0.0|   0.0|    AM|   0.3637099|        0.3439601|  0.5733063|0.88738096|     34.26356|  0.1323463|    0.08449107|   0.23405|           880.0| 0.30465183|     0.06595396|        55045.0|               7.3636365|      0.52156085|          34420.0|             117600.0|               31910.0|   0.23028079|   0.9761329|0.082656264|  0.3032194|  0.4351388| 0.11987727|    134279.0|           58.028954|  0.31760353|0.32297394|  0.47027472|    0.34538153|      0.3220339| 7.534582|0.15861006|  0.686723|      0.35252094|   0.03111407|           62.63302| 0.03813734|     0.9890883|16.123009|          312.557| 0.07252062| 8.588428|      154.0|\n",
      "|       2|              1|         1|Manhattan|       Midtown North|  Yellow Zone|             midtown|         29018|        0|    11|      35|              0|              0|    1|     7|      1|          0|        163|        237|   North|  None|           Clear|46.0|      0.0|    23.0|    40.0|   30.17|      10.0|      0.0|      0.0|   0.0|    AM|    0.591151|       0.78122497| 0.33588597|0.90639603|    26.175892|0.062489986|   0.037558686| 0.3098248|          2230.0|0.093174405|     0.21923822|       103852.0|               7.4342103|      0.75694627|         101550.0|             146530.0|               92250.0|   0.04280816|  0.61124855|  0.1828203| 0.04275314| 0.12741806| 0.11623065|    140247.0|           45.638466|   0.1820139|0.12677234| 0.045115486|    0.51428574|     0.85714287| 82.94467| 0.6118348|0.57417166|             0.0|  0.049581673|           6.582432| 0.02438232|           1.0| 94.32392|        46.568813| 0.03342539|11.379251|      475.0|\n",
      "|       1|              3|         1|Manhattan|            Gramercy|  Yellow Zone|stuyvesant-town-t...|         29089|        0|    11|      35|              0|              0|    1|     7|      1|          0|        107|         48|   North|  None|           Clear|46.0|      0.0|    23.0|    40.0|   30.17|      10.0|      0.0|      0.0|   0.0|    AM|  0.57164156|       0.80019236| 0.41157678| 0.9135697|    26.305624|0.044648167|    0.05526512|0.22056927|          2530.0| 0.12217326|     0.32273003|        94974.0|               5.2222223|       0.7165772|         110400.0|             125900.0|              101740.0|  0.040741675|  0.82974327| 0.15852708|0.024298323| 0.07261869| 0.17719358|    141162.0|           86.021935|   0.0650062|0.07110356|  0.01811925|    0.76632303|     0.73754156| 8.967039| 0.7207889|0.44946867|     0.009126321|  0.046181545|           8.167574|0.021643117|    0.98522085| 10.80248|         45.30133|0.033180363|1.8354409|      528.0|\n",
      "+--------+---------------+----------+---------+--------------------+-------------+--------------------+--------------+---------+------+--------+---------------+---------------+-----+------+-------+-----------+-----------+-----------+--------+------+----------------+----+---------+--------+--------+--------+----------+---------+---------+------+------+------------+-----------------+-----------+----------+-------------+-----------+--------------+----------+----------------+-----------+---------------+---------------+------------------------+----------------+-----------------+---------------------+----------------------+-------------+------------+-----------+-----------+-----------+-----------+------------+--------------------+------------+----------+------------+--------------+---------------+---------+----------+----------+----------------+-------------+-------------------+-----------+--------------+---------+-----------------+-----------+---------+-----------+\n",
      "only showing top 100 rows\n",
      "\n"
     ]
    }
   ],
   "source": [
    "jan_2017.show(100)"
   ]
  },
  {
   "cell_type": "code",
   "execution_count": 59,
   "metadata": {},
   "outputs": [
    {
     "name": "stdout",
     "output_type": "stream",
     "text": [
      "root\n",
      " |-- VendorID: short (nullable = true)\n",
      " |-- passenger_count: short (nullable = true)\n",
      " |-- RateCodeID: short (nullable = true)\n",
      " |-- PUBorough: string (nullable = true)\n",
      " |-- PUZone: string (nullable = true)\n",
      " |-- PUServiceZone: string (nullable = true)\n",
      " |-- PUneighbor: string (nullable = true)\n",
      " |-- uniqueIdColumn: long (nullable = false)\n",
      " |-- AirportPU: integer (nullable = false)\n",
      " |-- PUHour: integer (nullable = true)\n",
      " |-- PUMinute: integer (nullable = true)\n",
      " |-- MorningRushHour: integer (nullable = false)\n",
      " |-- EveningRushHour: integer (nullable = false)\n",
      " |-- PUDay: integer (nullable = true)\n",
      " |-- PU_DOW: short (nullable = true)\n",
      " |-- Weekend: integer (nullable = false)\n",
      " |-- WorkingHour: integer (nullable = false)\n",
      " |-- PLocationID: integer (nullable = true)\n",
      " |-- DLocationID: integer (nullable = true)\n",
      " |-- windDir: string (nullable = true)\n",
      " |-- Events: string (nullable = true)\n",
      " |-- Condition: string (nullable = true)\n",
      " |-- temp: double (nullable = true)\n",
      " |-- windChill: double (nullable = true)\n",
      " |-- dewpoint: double (nullable = true)\n",
      " |-- humidity: double (nullable = true)\n",
      " |-- pressure: double (nullable = true)\n",
      " |-- visibility: double (nullable = true)\n",
      " |-- windSpeed: double (nullable = true)\n",
      " |-- gustSpeed: double (nullable = true)\n",
      " |-- Precip: double (nullable = true)\n",
      " |-- period: string (nullable = true)\n",
      " |-- PUalone_hhld: float (nullable = true)\n",
      " |-- PUbachelor_higher: float (nullable = true)\n",
      " |-- PUbornstate: float (nullable = true)\n",
      " |-- PUcarfree: float (nullable = true)\n",
      " |-- PUcommutetime: float (nullable = true)\n",
      " |-- PUdisabled: float (nullable = true)\n",
      " |-- PUdisconnected: float (nullable = true)\n",
      " |-- PUforeign: float (nullable = true)\n",
      " |-- PUgross_rent_adj: float (nullable = true)\n",
      " |-- PUhhu18: float (nullable = true)\n",
      " |-- PUhomeownership: float (nullable = true)\n",
      " |-- PUhousing_units: float (nullable = true)\n",
      " |-- PUincome_diversity_ratio: float (nullable = true)\n",
      " |-- PUlaborforcerate: float (nullable = true)\n",
      " |-- PUmedhhincome_adj: float (nullable = true)\n",
      " |-- PUmedhhincome_own_adj: float (nullable = true)\n",
      " |-- PUmedhhincome_rent_adj: float (nullable = true)\n",
      " |-- PUnohsdiploma: float (nullable = true)\n",
      " |-- PUpark_share: float (nullable = true)\n",
      " |-- PUpasian: float (nullable = true)\n",
      " |-- PUpblack: float (nullable = true)\n",
      " |-- PUphisp: float (nullable = true)\n",
      " |-- PUpop65: float (nullable = true)\n",
      " |-- PUpopulation: float (nullable = true)\n",
      " |-- PUpopulation_density: float (nullable = true)\n",
      " |-- PUpov65older: float (nullable = true)\n",
      " |-- PUpovrate: float (nullable = true)\n",
      " |-- PUpovunder18: float (nullable = true)\n",
      " |-- PUprof_pct_ela: float (nullable = true)\n",
      " |-- PUprof_pct_math: float (nullable = true)\n",
      " |-- PUprop_rt: float (nullable = true)\n",
      " |-- PUpwhite: float (nullable = true)\n",
      " |-- PUrdindex: float (nullable = true)\n",
      " |-- PUrent_pct_nycha: float (nullable = true)\n",
      " |-- PUrentvacrate: float (nullable = true)\n",
      " |-- PUserious_viol_rate: float (nullable = true)\n",
      " |-- PUsevcrowd: float (nullable = true)\n",
      " |-- PUsubway_share: float (nullable = true)\n",
      " |-- PUtot_rt: float (nullable = true)\n",
      " |-- PUtotal_viol_rate: float (nullable = true)\n",
      " |-- PUunemprate: float (nullable = true)\n",
      " |-- PUviol_rt: float (nullable = true)\n",
      " |-- PUvolume_al: float (nullable = true)\n",
      "\n"
     ]
    }
   ],
   "source": [
    "jan_2017.printSchema()"
   ]
  },
  {
   "cell_type": "code",
   "execution_count": 60,
   "metadata": {},
   "outputs": [],
   "source": [
    "indexer = StringIndexer(inputCol=\"PUZone\", outputCol=\"PUZoneIndex\")\n",
    "jan_2017 = indexer.fit(jan_2017).transform(jan_2017)\n",
    "encoder = OneHotEncoder(inputCol='PUZoneIndex', outputCol=\"PUZoneVect\")\n",
    "jan_2017 = encoder.transform(jan_2017).drop('PUZoneIndex')"
   ]
  },
  {
   "cell_type": "code",
   "execution_count": 61,
   "metadata": {},
   "outputs": [],
   "source": [
    "encoder = OneHotEncoder(inputCol='RateCodeID', outputCol=\"RateCodeIDVect\")\n",
    "jan_2017 = encoder.transform(jan_2017).drop('RateCodeID')"
   ]
  },
  {
   "cell_type": "code",
   "execution_count": 62,
   "metadata": {},
   "outputs": [],
   "source": [
    "encoder = OneHotEncoder(inputCol='PLocationID', outputCol=\"PLocationIDVect\")\n",
    "jan_2017 = encoder.transform(jan_2017).drop('PLocationID')"
   ]
  },
  {
   "cell_type": "code",
   "execution_count": 63,
   "metadata": {},
   "outputs": [],
   "source": [
    "# # indexer = StringIndexer(inputCol=\"PUBorough\", outputCol=\"PUBoroughIndex\")\n",
    "# # jan_2017 = indexer.fit(jan_2017).transform(jan_2017)\n",
    "# # encoder = OneHotEncoder(inputCol='PUBoroughIndex', outputCol=\"PUBoroughVect\")\n",
    "# jan_2017 = jan_2017.drop('PUBoroughIndex')"
   ]
  },
  {
   "cell_type": "code",
   "execution_count": 64,
   "metadata": {},
   "outputs": [],
   "source": [
    "indexer = StringIndexer(inputCol=\"PUServiceZone\", outputCol=\"PUServiceZoneIndex\")\n",
    "jan_2017 = indexer.fit(jan_2017).transform(jan_2017)\n",
    "encoder = OneHotEncoder(inputCol='PUServiceZoneIndex', outputCol=\"PUServiceZoneVect\")\n",
    "jan_2017 = encoder.transform(jan_2017).drop('PUServiceZoneIndex')"
   ]
  },
  {
   "cell_type": "code",
   "execution_count": 65,
   "metadata": {},
   "outputs": [],
   "source": [
    "encoder = OneHotEncoder(inputCol='PU_DOW', outputCol=\"PU_DOWVect\")\n",
    "jan_2017 = encoder.transform(jan_2017).drop('PU_DOW')"
   ]
  },
  {
   "cell_type": "code",
   "execution_count": 66,
   "metadata": {},
   "outputs": [],
   "source": [
    "indexer = StringIndexer(inputCol=\"Events\", outputCol=\"EventsIndex\")\n",
    "jan_2017 = indexer.fit(jan_2017).transform(jan_2017)\n",
    "encoder = OneHotEncoder(inputCol='EventsIndex', outputCol=\"EventsVector\")\n",
    "jan_2017 = encoder.transform(jan_2017).drop('EventsIndex')"
   ]
  },
  {
   "cell_type": "code",
   "execution_count": 67,
   "metadata": {},
   "outputs": [],
   "source": [
    "indexer = StringIndexer(inputCol=\"Condition\", outputCol=\"ConditionsIndex\")\n",
    "jan_2017 = indexer.fit(jan_2017).transform(jan_2017)\n",
    "\n",
    "encoder = OneHotEncoder(inputCol='ConditionsIndex', outputCol=\"ConditionsVect\")\n",
    "jan_2017 = encoder.transform(jan_2017).drop('ConditionsIndex')"
   ]
  },
  {
   "cell_type": "code",
   "execution_count": 68,
   "metadata": {},
   "outputs": [],
   "source": [
    "indexer = StringIndexer(inputCol=\"period\", outputCol=\"periodIndex\")\n",
    "jan_2017 = indexer.fit(jan_2017).transform(jan_2017)\n",
    "encoder = OneHotEncoder(inputCol='periodIndex', outputCol=\"periodVect\")\n",
    "jan_2017 = encoder.transform(jan_2017).drop('periodIndex')"
   ]
  },
  {
   "cell_type": "code",
   "execution_count": 69,
   "metadata": {},
   "outputs": [],
   "source": [
    "encoder = OneHotEncoder(inputCol='PUDay', outputCol=\"PUDayVect\")\n",
    "jan_2017 = encoder.transform(jan_2017).drop('PUDay')"
   ]
  },
  {
   "cell_type": "code",
   "execution_count": 70,
   "metadata": {},
   "outputs": [
    {
     "name": "stdout",
     "output_type": "stream",
     "text": [
      "+--------+---------------+---------+------------+-------------+---------------+--------------+---------+------+--------+---------------+---------------+-------+-----------+-----------+--------+------+---------+----+---------+--------+--------+--------+----------+---------+---------+------+------+------------+-----------------+-----------+----------+-------------+-----------+--------------+---------+----------------+-----------+---------------+---------------+------------------------+----------------+-----------------+---------------------+----------------------+-------------+------------+---------+----------+----------+----------+------------+--------------------+------------+----------+------------+--------------+---------------+---------+---------+----------+----------------+-------------+-------------------+----------+--------------+---------+-----------------+-----------+---------+-----------+---------------+--------------+----------------+-----------------+----------+-------------+--------------+----------+--------------+\n",
      "|VendorID|passenger_count|PUBorough|      PUZone|PUServiceZone|     PUneighbor|uniqueIdColumn|AirportPU|PUHour|PUMinute|MorningRushHour|EveningRushHour|Weekend|WorkingHour|DLocationID| windDir|Events|Condition|temp|windChill|dewpoint|humidity|pressure|visibility|windSpeed|gustSpeed|Precip|period|PUalone_hhld|PUbachelor_higher|PUbornstate| PUcarfree|PUcommutetime| PUdisabled|PUdisconnected|PUforeign|PUgross_rent_adj|    PUhhu18|PUhomeownership|PUhousing_units|PUincome_diversity_ratio|PUlaborforcerate|PUmedhhincome_adj|PUmedhhincome_own_adj|PUmedhhincome_rent_adj|PUnohsdiploma|PUpark_share| PUpasian|  PUpblack|   PUphisp|   PUpop65|PUpopulation|PUpopulation_density|PUpov65older| PUpovrate|PUpovunder18|PUprof_pct_ela|PUprof_pct_math|PUprop_rt| PUpwhite| PUrdindex|PUrent_pct_nycha|PUrentvacrate|PUserious_viol_rate|PUsevcrowd|PUsubway_share| PUtot_rt|PUtotal_viol_rate|PUunemprate|PUviol_rt|PUvolume_al|     PUZoneVect|RateCodeIDVect| PLocationIDVect|PUServiceZoneVect|PU_DOWVect| EventsVector|ConditionsVect|periodVect|     PUDayVect|\n",
      "+--------+---------------+---------+------------+-------------+---------------+--------------+---------+------+--------+---------------+---------------+-------+-----------+-----------+--------+------+---------+----+---------+--------+--------+--------+----------+---------+---------+------+------+------------+-----------------+-----------+----------+-------------+-----------+--------------+---------+----------------+-----------+---------------+---------------+------------------------+----------------+-----------------+---------------------+----------------------+-------------+------------+---------+----------+----------+----------+------------+--------------------+------------+----------+------------+--------------+---------------+---------+---------+----------+----------------+-------------+-------------------+----------+--------------+---------+-----------------+-----------+---------+-----------+---------------+--------------+----------------+-----------------+----------+-------------+--------------+----------+--------------+\n",
      "|       2|              1|Manhattan|East Chelsea|  Yellow Zone|clinton-chelsea|            26|        0|     0|       0|              0|              0|      1|          0|         48|Variable|  None| Overcast|44.1|     42.5|    25.0|    47.0|   29.89|      10.0|      3.5|      0.0|   0.0|    AM|    0.591151|       0.78122497| 0.33588597|0.90639603|    26.175892|0.062489986|   0.037558686|0.3098248|          2230.0|0.093174405|     0.21923822|       103852.0|               7.4342103|      0.75694627|         101550.0|             146530.0|               92250.0|   0.04280816|  0.72745204|0.1828203|0.04275314|0.12741806|0.11623065|    140247.0|           45.638466|   0.1820139|0.12677234| 0.045115486|    0.67155427|     0.65895957|18.528742|0.6118348|0.57417166|     0.037422866|  0.049581673|          20.406475|0.02438232|           1.0|23.265049|         81.90703| 0.03342539|4.7363067|      511.0|(66,[15],[1.0])| (6,[1],[1.0])|(263,[68],[1.0])|    (1,[0],[1.0])| (7,[],[])|(4,[0],[1.0])|(11,[0],[1.0])| (1,[],[])|(31,[1],[1.0])|\n",
      "+--------+---------------+---------+------------+-------------+---------------+--------------+---------+------+--------+---------------+---------------+-------+-----------+-----------+--------+------+---------+----+---------+--------+--------+--------+----------+---------+---------+------+------+------------+-----------------+-----------+----------+-------------+-----------+--------------+---------+----------------+-----------+---------------+---------------+------------------------+----------------+-----------------+---------------------+----------------------+-------------+------------+---------+----------+----------+----------+------------+--------------------+------------+----------+------------+--------------+---------------+---------+---------+----------+----------------+-------------+-------------------+----------+--------------+---------+-----------------+-----------+---------+-----------+---------------+--------------+----------------+-----------------+----------+-------------+--------------+----------+--------------+\n",
      "only showing top 1 row\n",
      "\n"
     ]
    }
   ],
   "source": [
    "jan_2017.show(1)"
   ]
  },
  {
   "cell_type": "code",
   "execution_count": 71,
   "metadata": {},
   "outputs": [],
   "source": [
    "indexer = StringIndexer(inputCol=\"windDir\", outputCol=\"windDirIndex\")\n",
    "jan_2017 = indexer.fit(jan_2017).transform(jan_2017)\n",
    "encoder = OneHotEncoder(inputCol='windDirIndex', outputCol=\"windDirVect\")\n",
    "jan_2017 = encoder.transform(jan_2017).drop('windDirIndex')"
   ]
  },
  {
   "cell_type": "code",
   "execution_count": 72,
   "metadata": {},
   "outputs": [],
   "source": [
    "# Drop any string columns except 'PUZone'\n",
    "str_names = ['PUZone','tpep_pickup_datetime','tpep_dropoff_datetime','store_and_fwd_flag','PULocationID',\\\n",
    "             'LocationID','PUBorough','PUServiceZone','PUneighbor','PUTime','PUTemptime',\\\n",
    "             'windDir','Events','Condition','period','neighborhood','PUDate', 'PUTempdate']\n",
    "for col in str_names:\n",
    "    jan_2017=jan_2017.drop(col)"
   ]
  },
  {
   "cell_type": "code",
   "execution_count": 73,
   "metadata": {},
   "outputs": [],
   "source": [
    "mapping_df = spark.read.format(\"csv\").load('mappings.csv', header = True)"
   ]
  },
  {
   "cell_type": "code",
   "execution_count": 74,
   "metadata": {},
   "outputs": [],
   "source": [
    "# sampe = jan_2017.sample(False,0.0001,0).cache()\n",
    "sampe = jan_2017.join(mapping_df, jan_2017.DLocationID == mapping_df.taxi, \"left_outer\")"
   ]
  },
  {
   "cell_type": "code",
   "execution_count": 75,
   "metadata": {},
   "outputs": [
    {
     "data": {
      "text/plain": [
       "4230796"
      ]
     },
     "execution_count": 75,
     "metadata": {},
     "output_type": "execute_result"
    }
   ],
   "source": [
    "sampe.count()"
   ]
  },
  {
   "cell_type": "code",
   "execution_count": null,
   "metadata": {},
   "outputs": [],
   "source": [
    "sampe = sampe.withColumn(\"label\", sampe[\"label\"].cast(IntegerType())).drop('DLocationID').drop('taxi')"
   ]
  },
  {
   "cell_type": "code",
   "execution_count": 88,
   "metadata": {},
   "outputs": [],
   "source": [
    "colum = sampe.schema.names"
   ]
  },
  {
   "cell_type": "code",
   "execution_count": 89,
   "metadata": {},
   "outputs": [],
   "source": [
    "colum.remove('DLocationID')"
   ]
  },
  {
   "cell_type": "code",
   "execution_count": 90,
   "metadata": {},
   "outputs": [],
   "source": [
    "assembler = VectorAssembler(\n",
    "    inputCols=colum,\n",
    "    outputCol=\"features\")"
   ]
  },
  {
   "cell_type": "code",
   "execution_count": 99,
   "metadata": {},
   "outputs": [
    {
     "name": "stderr",
     "output_type": "stream",
     "text": [
      "ERROR:root:Exception while sending command.\n",
      "Traceback (most recent call last):\n",
      "  File \"/usr/local/spark/python/lib/py4j-0.10.4-src.zip/py4j/java_gateway.py\", line 1035, in send_command\n",
      "    raise Py4JNetworkError(\"Answer from Java side is empty\")\n",
      "py4j.protocol.Py4JNetworkError: Answer from Java side is empty\n",
      "\n",
      "During handling of the above exception, another exception occurred:\n",
      "\n",
      "Traceback (most recent call last):\n",
      "  File \"/usr/local/spark/python/lib/py4j-0.10.4-src.zip/py4j/java_gateway.py\", line 883, in send_command\n",
      "    response = connection.send_command(command)\n",
      "  File \"/usr/local/spark/python/lib/py4j-0.10.4-src.zip/py4j/java_gateway.py\", line 1040, in send_command\n",
      "    \"Error while receiving\", e, proto.ERROR_ON_RECEIVE)\n",
      "py4j.protocol.Py4JNetworkError: Error while receiving\n"
     ]
    },
    {
     "ename": "Py4JError",
     "evalue": "An error occurred while calling o1248.schema",
     "output_type": "error",
     "traceback": [
      "\u001b[0;31m\u001b[0m",
      "\u001b[0;31mPy4JError\u001b[0mTraceback (most recent call last)",
      "\u001b[0;32m<ipython-input-99-d3a9994ed629>\u001b[0m in \u001b[0;36m<module>\u001b[0;34m()\u001b[0m\n\u001b[0;32m----> 1\u001b[0;31m \u001b[0moutput\u001b[0m\u001b[0;34m.\u001b[0m\u001b[0mprintSchema\u001b[0m\u001b[0;34m(\u001b[0m\u001b[0;34m)\u001b[0m\u001b[0;34m\u001b[0m\u001b[0m\n\u001b[0m",
      "\u001b[0;32m/usr/local/spark/python/pyspark/sql/dataframe.py\u001b[0m in \u001b[0;36mprintSchema\u001b[0;34m(self)\u001b[0m\n\u001b[1;32m    259\u001b[0m         \u001b[0;34m<\u001b[0m\u001b[0mBLANKLINE\u001b[0m\u001b[0;34m>\u001b[0m\u001b[0;34m\u001b[0m\u001b[0m\n\u001b[1;32m    260\u001b[0m         \"\"\"\n\u001b[0;32m--> 261\u001b[0;31m         \u001b[0mprint\u001b[0m\u001b[0;34m(\u001b[0m\u001b[0mself\u001b[0m\u001b[0;34m.\u001b[0m\u001b[0m_jdf\u001b[0m\u001b[0;34m.\u001b[0m\u001b[0mschema\u001b[0m\u001b[0;34m(\u001b[0m\u001b[0;34m)\u001b[0m\u001b[0;34m.\u001b[0m\u001b[0mtreeString\u001b[0m\u001b[0;34m(\u001b[0m\u001b[0;34m)\u001b[0m\u001b[0;34m)\u001b[0m\u001b[0;34m\u001b[0m\u001b[0m\n\u001b[0m\u001b[1;32m    262\u001b[0m \u001b[0;34m\u001b[0m\u001b[0m\n\u001b[1;32m    263\u001b[0m     \u001b[0;34m@\u001b[0m\u001b[0msince\u001b[0m\u001b[0;34m(\u001b[0m\u001b[0;36m1.3\u001b[0m\u001b[0;34m)\u001b[0m\u001b[0;34m\u001b[0m\u001b[0m\n",
      "\u001b[0;32m/usr/local/spark/python/lib/py4j-0.10.4-src.zip/py4j/java_gateway.py\u001b[0m in \u001b[0;36m__call__\u001b[0;34m(self, *args)\u001b[0m\n\u001b[1;32m   1131\u001b[0m         \u001b[0manswer\u001b[0m \u001b[0;34m=\u001b[0m \u001b[0mself\u001b[0m\u001b[0;34m.\u001b[0m\u001b[0mgateway_client\u001b[0m\u001b[0;34m.\u001b[0m\u001b[0msend_command\u001b[0m\u001b[0;34m(\u001b[0m\u001b[0mcommand\u001b[0m\u001b[0;34m)\u001b[0m\u001b[0;34m\u001b[0m\u001b[0m\n\u001b[1;32m   1132\u001b[0m         return_value = get_return_value(\n\u001b[0;32m-> 1133\u001b[0;31m             answer, self.gateway_client, self.target_id, self.name)\n\u001b[0m\u001b[1;32m   1134\u001b[0m \u001b[0;34m\u001b[0m\u001b[0m\n\u001b[1;32m   1135\u001b[0m         \u001b[0;32mfor\u001b[0m \u001b[0mtemp_arg\u001b[0m \u001b[0;32min\u001b[0m \u001b[0mtemp_args\u001b[0m\u001b[0;34m:\u001b[0m\u001b[0;34m\u001b[0m\u001b[0m\n",
      "\u001b[0;32m/usr/local/spark/python/pyspark/sql/utils.py\u001b[0m in \u001b[0;36mdeco\u001b[0;34m(*a, **kw)\u001b[0m\n\u001b[1;32m     61\u001b[0m     \u001b[0;32mdef\u001b[0m \u001b[0mdeco\u001b[0m\u001b[0;34m(\u001b[0m\u001b[0;34m*\u001b[0m\u001b[0ma\u001b[0m\u001b[0;34m,\u001b[0m \u001b[0;34m**\u001b[0m\u001b[0mkw\u001b[0m\u001b[0;34m)\u001b[0m\u001b[0;34m:\u001b[0m\u001b[0;34m\u001b[0m\u001b[0m\n\u001b[1;32m     62\u001b[0m         \u001b[0;32mtry\u001b[0m\u001b[0;34m:\u001b[0m\u001b[0;34m\u001b[0m\u001b[0m\n\u001b[0;32m---> 63\u001b[0;31m             \u001b[0;32mreturn\u001b[0m \u001b[0mf\u001b[0m\u001b[0;34m(\u001b[0m\u001b[0;34m*\u001b[0m\u001b[0ma\u001b[0m\u001b[0;34m,\u001b[0m \u001b[0;34m**\u001b[0m\u001b[0mkw\u001b[0m\u001b[0;34m)\u001b[0m\u001b[0;34m\u001b[0m\u001b[0m\n\u001b[0m\u001b[1;32m     64\u001b[0m         \u001b[0;32mexcept\u001b[0m \u001b[0mpy4j\u001b[0m\u001b[0;34m.\u001b[0m\u001b[0mprotocol\u001b[0m\u001b[0;34m.\u001b[0m\u001b[0mPy4JJavaError\u001b[0m \u001b[0;32mas\u001b[0m \u001b[0me\u001b[0m\u001b[0;34m:\u001b[0m\u001b[0;34m\u001b[0m\u001b[0m\n\u001b[1;32m     65\u001b[0m             \u001b[0ms\u001b[0m \u001b[0;34m=\u001b[0m \u001b[0me\u001b[0m\u001b[0;34m.\u001b[0m\u001b[0mjava_exception\u001b[0m\u001b[0;34m.\u001b[0m\u001b[0mtoString\u001b[0m\u001b[0;34m(\u001b[0m\u001b[0;34m)\u001b[0m\u001b[0;34m\u001b[0m\u001b[0m\n",
      "\u001b[0;32m/usr/local/spark/python/lib/py4j-0.10.4-src.zip/py4j/protocol.py\u001b[0m in \u001b[0;36mget_return_value\u001b[0;34m(answer, gateway_client, target_id, name)\u001b[0m\n\u001b[1;32m    325\u001b[0m             raise Py4JError(\n\u001b[1;32m    326\u001b[0m                 \u001b[0;34m\"An error occurred while calling {0}{1}{2}\"\u001b[0m\u001b[0;34m.\u001b[0m\u001b[0;34m\u001b[0m\u001b[0m\n\u001b[0;32m--> 327\u001b[0;31m                 format(target_id, \".\", name))\n\u001b[0m\u001b[1;32m    328\u001b[0m     \u001b[0;32melse\u001b[0m\u001b[0;34m:\u001b[0m\u001b[0;34m\u001b[0m\u001b[0m\n\u001b[1;32m    329\u001b[0m         \u001b[0mtype\u001b[0m \u001b[0;34m=\u001b[0m \u001b[0manswer\u001b[0m\u001b[0;34m[\u001b[0m\u001b[0;36m1\u001b[0m\u001b[0;34m]\u001b[0m\u001b[0;34m\u001b[0m\u001b[0m\n",
      "\u001b[0;31mPy4JError\u001b[0m: An error occurred while calling o1248.schema"
     ]
    }
   ],
   "source": []
  },
  {
   "cell_type": "code",
   "execution_count": 91,
   "metadata": {},
   "outputs": [],
   "source": [
    "output = assembler.transform(sampe)"
   ]
  },
  {
   "cell_type": "code",
   "execution_count": null,
   "metadata": {},
   "outputs": [],
   "source": [
    "# train = output.select([\"DLocationID\",\"features\"])"
   ]
  },
  {
   "cell_type": "code",
   "execution_count": null,
   "metadata": {},
   "outputs": [],
   "source": [
    "# train = train.withColumn(\"label\", train[\"DLocationID\"]).drop(\"DLocationID\")"
   ]
  },
  {
   "cell_type": "code",
   "execution_count": null,
   "metadata": {},
   "outputs": [],
   "source": [
    "# train.select('features').limit(1).collect()"
   ]
  },
  {
   "cell_type": "code",
   "execution_count": null,
   "metadata": {},
   "outputs": [],
   "source": [
    "# train = train.select([\"label\",\"features\"]).cache()"
   ]
  },
  {
   "cell_type": "code",
   "execution_count": null,
   "metadata": {},
   "outputs": [],
   "source": [
    "jan_2017.show(1)"
   ]
  },
  {
   "cell_type": "code",
   "execution_count": null,
   "metadata": {},
   "outputs": [],
   "source": [
    "train.show(1)"
   ]
  },
  {
   "cell_type": "code",
   "execution_count": 94,
   "metadata": {},
   "outputs": [],
   "source": [
    "output.select(\"label\", \"features\").write.save(\"training.parquet\", format=\"parquet\")"
   ]
  },
  {
   "cell_type": "code",
   "execution_count": null,
   "metadata": {},
   "outputs": [],
   "source": []
  },
  {
   "cell_type": "code",
   "execution_count": 98,
   "metadata": {},
   "outputs": [
    {
     "ename": "Py4JJavaError",
     "evalue": "An error occurred while calling o1515.save.\n: org.apache.spark.SparkException: Job aborted.\n\tat org.apache.spark.sql.execution.datasources.FileFormatWriter$$anonfun$write$1.apply$mcV$sp(FileFormatWriter.scala:215)\n\tat org.apache.spark.sql.execution.datasources.FileFormatWriter$$anonfun$write$1.apply(FileFormatWriter.scala:173)\n\tat org.apache.spark.sql.execution.datasources.FileFormatWriter$$anonfun$write$1.apply(FileFormatWriter.scala:173)\n\tat org.apache.spark.sql.execution.SQLExecution$.withNewExecutionId(SQLExecution.scala:65)\n\tat org.apache.spark.sql.execution.datasources.FileFormatWriter$.write(FileFormatWriter.scala:173)\n\tat org.apache.spark.sql.execution.datasources.InsertIntoHadoopFsRelationCommand.run(InsertIntoHadoopFsRelationCommand.scala:145)\n\tat org.apache.spark.sql.execution.command.ExecutedCommandExec.sideEffectResult$lzycompute(commands.scala:58)\n\tat org.apache.spark.sql.execution.command.ExecutedCommandExec.sideEffectResult(commands.scala:56)\n\tat org.apache.spark.sql.execution.command.ExecutedCommandExec.doExecute(commands.scala:74)\n\tat org.apache.spark.sql.execution.SparkPlan$$anonfun$execute$1.apply(SparkPlan.scala:117)\n\tat org.apache.spark.sql.execution.SparkPlan$$anonfun$execute$1.apply(SparkPlan.scala:117)\n\tat org.apache.spark.sql.execution.SparkPlan$$anonfun$executeQuery$1.apply(SparkPlan.scala:138)\n\tat org.apache.spark.rdd.RDDOperationScope$.withScope(RDDOperationScope.scala:151)\n\tat org.apache.spark.sql.execution.SparkPlan.executeQuery(SparkPlan.scala:135)\n\tat org.apache.spark.sql.execution.SparkPlan.execute(SparkPlan.scala:116)\n\tat org.apache.spark.sql.execution.QueryExecution.toRdd$lzycompute(QueryExecution.scala:92)\n\tat org.apache.spark.sql.execution.QueryExecution.toRdd(QueryExecution.scala:92)\n\tat org.apache.spark.sql.execution.datasources.DataSource.writeInFileFormat(DataSource.scala:438)\n\tat org.apache.spark.sql.execution.datasources.DataSource.write(DataSource.scala:474)\n\tat org.apache.spark.sql.execution.datasources.SaveIntoDataSourceCommand.run(SaveIntoDataSourceCommand.scala:48)\n\tat org.apache.spark.sql.execution.command.ExecutedCommandExec.sideEffectResult$lzycompute(commands.scala:58)\n\tat org.apache.spark.sql.execution.command.ExecutedCommandExec.sideEffectResult(commands.scala:56)\n\tat org.apache.spark.sql.execution.command.ExecutedCommandExec.doExecute(commands.scala:74)\n\tat org.apache.spark.sql.execution.SparkPlan$$anonfun$execute$1.apply(SparkPlan.scala:117)\n\tat org.apache.spark.sql.execution.SparkPlan$$anonfun$execute$1.apply(SparkPlan.scala:117)\n\tat org.apache.spark.sql.execution.SparkPlan$$anonfun$executeQuery$1.apply(SparkPlan.scala:138)\n\tat org.apache.spark.rdd.RDDOperationScope$.withScope(RDDOperationScope.scala:151)\n\tat org.apache.spark.sql.execution.SparkPlan.executeQuery(SparkPlan.scala:135)\n\tat org.apache.spark.sql.execution.SparkPlan.execute(SparkPlan.scala:116)\n\tat org.apache.spark.sql.execution.QueryExecution.toRdd$lzycompute(QueryExecution.scala:92)\n\tat org.apache.spark.sql.execution.QueryExecution.toRdd(QueryExecution.scala:92)\n\tat org.apache.spark.sql.DataFrameWriter.runCommand(DataFrameWriter.scala:610)\n\tat org.apache.spark.sql.DataFrameWriter.save(DataFrameWriter.scala:233)\n\tat org.apache.spark.sql.DataFrameWriter.save(DataFrameWriter.scala:217)\n\tat sun.reflect.NativeMethodAccessorImpl.invoke0(Native Method)\n\tat sun.reflect.NativeMethodAccessorImpl.invoke(NativeMethodAccessorImpl.java:62)\n\tat sun.reflect.DelegatingMethodAccessorImpl.invoke(DelegatingMethodAccessorImpl.java:43)\n\tat java.lang.reflect.Method.invoke(Method.java:498)\n\tat py4j.reflection.MethodInvoker.invoke(MethodInvoker.java:244)\n\tat py4j.reflection.ReflectionEngine.invoke(ReflectionEngine.java:357)\n\tat py4j.Gateway.invoke(Gateway.java:280)\n\tat py4j.commands.AbstractCommand.invokeMethod(AbstractCommand.java:132)\n\tat py4j.commands.CallCommand.execute(CallCommand.java:79)\n\tat py4j.GatewayConnection.run(GatewayConnection.java:214)\n\tat java.lang.Thread.run(Thread.java:748)\nCaused by: org.apache.spark.SparkException: Job aborted due to stage failure: Task 30 in stage 62.0 failed 1 times, most recent failure: Lost task 30.0 in stage 62.0 (TID 4452, localhost, executor driver): org.apache.spark.SparkException: Task failed while writing rows\n\tat org.apache.spark.sql.execution.datasources.FileFormatWriter$.org$apache$spark$sql$execution$datasources$FileFormatWriter$$executeTask(FileFormatWriter.scala:272)\n\tat org.apache.spark.sql.execution.datasources.FileFormatWriter$$anonfun$write$1$$anonfun$apply$mcV$sp$1.apply(FileFormatWriter.scala:191)\n\tat org.apache.spark.sql.execution.datasources.FileFormatWriter$$anonfun$write$1$$anonfun$apply$mcV$sp$1.apply(FileFormatWriter.scala:190)\n\tat org.apache.spark.scheduler.ResultTask.runTask(ResultTask.scala:87)\n\tat org.apache.spark.scheduler.Task.run(Task.scala:108)\n\tat org.apache.spark.executor.Executor$TaskRunner.run(Executor.scala:335)\n\tat java.util.concurrent.ThreadPoolExecutor.runWorker(ThreadPoolExecutor.java:1149)\n\tat java.util.concurrent.ThreadPoolExecutor$Worker.run(ThreadPoolExecutor.java:624)\n\tat java.lang.Thread.run(Thread.java:748)\nCaused by: org.apache.hadoop.fs.FSError: java.io.IOException: No space left on device\n\tat org.apache.hadoop.fs.RawLocalFileSystem$LocalFSFileOutputStream.write(RawLocalFileSystem.java:248)\n\tat java.io.BufferedOutputStream.flushBuffer(BufferedOutputStream.java:82)\n\tat java.io.BufferedOutputStream.write(BufferedOutputStream.java:126)\n\tat org.apache.hadoop.fs.FSDataOutputStream$PositionCache.write(FSDataOutputStream.java:58)\n\tat java.io.DataOutputStream.write(DataOutputStream.java:107)\n\tat org.apache.hadoop.fs.ChecksumFileSystem$ChecksumFSOutputSummer.writeChunk(ChecksumFileSystem.java:424)\n\tat org.apache.hadoop.fs.FSOutputSummer.writeChecksumChunks(FSOutputSummer.java:206)\n\tat org.apache.hadoop.fs.FSOutputSummer.write1(FSOutputSummer.java:124)\n\tat org.apache.hadoop.fs.FSOutputSummer.write(FSOutputSummer.java:110)\n\tat org.apache.hadoop.fs.FSDataOutputStream$PositionCache.write(FSDataOutputStream.java:58)\n\tat java.io.DataOutputStream.write(DataOutputStream.java:107)\n\tat sun.nio.cs.StreamEncoder.writeBytes(StreamEncoder.java:221)\n\tat sun.nio.cs.StreamEncoder.implWrite(StreamEncoder.java:282)\n\tat sun.nio.cs.StreamEncoder.write(StreamEncoder.java:125)\n\tat java.io.OutputStreamWriter.write(OutputStreamWriter.java:207)\n\tat com.fasterxml.jackson.core.json.WriterBasedJsonGenerator._flushBuffer(WriterBasedJsonGenerator.java:1888)\n\tat com.fasterxml.jackson.core.json.WriterBasedJsonGenerator._writeString(WriterBasedJsonGenerator.java:925)\n\tat com.fasterxml.jackson.core.json.WriterBasedJsonGenerator._writeFieldName(WriterBasedJsonGenerator.java:220)\n\tat com.fasterxml.jackson.core.json.WriterBasedJsonGenerator.writeFieldName(WriterBasedJsonGenerator.java:111)\n\tat org.apache.spark.sql.catalyst.json.JacksonGenerator.org$apache$spark$sql$catalyst$json$JacksonGenerator$$writeFields(JacksonGenerator.scala:145)\n\tat org.apache.spark.sql.catalyst.json.JacksonGenerator$$anonfun$write$1.apply$mcV$sp(JacksonGenerator.scala:196)\n\tat org.apache.spark.sql.catalyst.json.JacksonGenerator.org$apache$spark$sql$catalyst$json$JacksonGenerator$$writeObject(JacksonGenerator.scala:135)\n\tat org.apache.spark.sql.catalyst.json.JacksonGenerator.write(JacksonGenerator.scala:196)\n\tat org.apache.spark.sql.execution.datasources.json.JsonOutputWriter.write(JsonFileFormat.scala:146)\n\tat org.apache.spark.sql.execution.datasources.FileFormatWriter$SingleDirectoryWriteTask.execute(FileFormatWriter.scala:327)\n\tat org.apache.spark.sql.execution.datasources.FileFormatWriter$$anonfun$org$apache$spark$sql$execution$datasources$FileFormatWriter$$executeTask$3.apply(FileFormatWriter.scala:258)\n\tat org.apache.spark.sql.execution.datasources.FileFormatWriter$$anonfun$org$apache$spark$sql$execution$datasources$FileFormatWriter$$executeTask$3.apply(FileFormatWriter.scala:256)\n\tat org.apache.spark.util.Utils$.tryWithSafeFinallyAndFailureCallbacks(Utils.scala:1375)\n\tat org.apache.spark.sql.execution.datasources.FileFormatWriter$.org$apache$spark$sql$execution$datasources$FileFormatWriter$$executeTask(FileFormatWriter.scala:261)\n\t... 8 more\n\tSuppressed: org.apache.hadoop.fs.FSError: java.io.IOException: No space left on device\n\t\tat org.apache.hadoop.fs.RawLocalFileSystem$LocalFSFileOutputStream.write(RawLocalFileSystem.java:248)\n\t\tat java.io.BufferedOutputStream.flushBuffer(BufferedOutputStream.java:82)\n\t\tat java.io.BufferedOutputStream.write(BufferedOutputStream.java:126)\n\t\tat org.apache.hadoop.fs.FSDataOutputStream$PositionCache.write(FSDataOutputStream.java:58)\n\t\tat java.io.DataOutputStream.write(DataOutputStream.java:107)\n\t\tat org.apache.hadoop.fs.ChecksumFileSystem$ChecksumFSOutputSummer.writeChunk(ChecksumFileSystem.java:424)\n\t\tat org.apache.hadoop.fs.FSOutputSummer.writeChecksumChunks(FSOutputSummer.java:206)\n\t\tat org.apache.hadoop.fs.FSOutputSummer.flushBuffer(FSOutputSummer.java:163)\n\t\tat org.apache.hadoop.fs.FSOutputSummer.flushBuffer(FSOutputSummer.java:144)\n\t\tat org.apache.hadoop.fs.ChecksumFileSystem$ChecksumFSOutputSummer.close(ChecksumFileSystem.java:412)\n\t\tat org.apache.hadoop.fs.FSDataOutputStream$PositionCache.close(FSDataOutputStream.java:72)\n\t\tat org.apache.hadoop.fs.FSDataOutputStream.close(FSDataOutputStream.java:106)\n\t\tat sun.nio.cs.StreamEncoder.implClose(StreamEncoder.java:320)\n\t\tat sun.nio.cs.StreamEncoder.close(StreamEncoder.java:149)\n\t\tat java.io.OutputStreamWriter.close(OutputStreamWriter.java:233)\n\t\tat com.fasterxml.jackson.core.json.WriterBasedJsonGenerator.close(WriterBasedJsonGenerator.java:883)\n\t\tat org.apache.spark.sql.catalyst.json.JacksonGenerator.close(JacksonGenerator.scala:187)\n\t\tat org.apache.spark.sql.execution.datasources.json.JsonOutputWriter.close(JsonFileFormat.scala:151)\n\t\tat org.apache.spark.sql.execution.datasources.FileFormatWriter$SingleDirectoryWriteTask.releaseResources(FileFormatWriter.scala:337)\n\t\tat org.apache.spark.sql.execution.datasources.FileFormatWriter$$anonfun$org$apache$spark$sql$execution$datasources$FileFormatWriter$$executeTask$1.apply$mcV$sp(FileFormatWriter.scala:264)\n\t\tat org.apache.spark.util.Utils$.tryWithSafeFinallyAndFailureCallbacks(Utils.scala:1384)\n\t\t... 9 more\n\tCaused by: java.io.IOException: No space left on device\n\t\tat java.io.FileOutputStream.writeBytes(Native Method)\n\t\tat java.io.FileOutputStream.write(FileOutputStream.java:326)\n\t\tat org.apache.hadoop.fs.RawLocalFileSystem$LocalFSFileOutputStream.write(RawLocalFileSystem.java:246)\n\t\t... 29 more\nCaused by: java.io.IOException: No space left on device\n\tat java.io.FileOutputStream.writeBytes(Native Method)\n\tat java.io.FileOutputStream.write(FileOutputStream.java:326)\n\tat org.apache.hadoop.fs.RawLocalFileSystem$LocalFSFileOutputStream.write(RawLocalFileSystem.java:246)\n\t... 36 more\n\nDriver stacktrace:\n\tat org.apache.spark.scheduler.DAGScheduler.org$apache$spark$scheduler$DAGScheduler$$failJobAndIndependentStages(DAGScheduler.scala:1499)\n\tat org.apache.spark.scheduler.DAGScheduler$$anonfun$abortStage$1.apply(DAGScheduler.scala:1487)\n\tat org.apache.spark.scheduler.DAGScheduler$$anonfun$abortStage$1.apply(DAGScheduler.scala:1486)\n\tat scala.collection.mutable.ResizableArray$class.foreach(ResizableArray.scala:59)\n\tat scala.collection.mutable.ArrayBuffer.foreach(ArrayBuffer.scala:48)\n\tat org.apache.spark.scheduler.DAGScheduler.abortStage(DAGScheduler.scala:1486)\n\tat org.apache.spark.scheduler.DAGScheduler$$anonfun$handleTaskSetFailed$1.apply(DAGScheduler.scala:814)\n\tat org.apache.spark.scheduler.DAGScheduler$$anonfun$handleTaskSetFailed$1.apply(DAGScheduler.scala:814)\n\tat scala.Option.foreach(Option.scala:257)\n\tat org.apache.spark.scheduler.DAGScheduler.handleTaskSetFailed(DAGScheduler.scala:814)\n\tat org.apache.spark.scheduler.DAGSchedulerEventProcessLoop.doOnReceive(DAGScheduler.scala:1714)\n\tat org.apache.spark.scheduler.DAGSchedulerEventProcessLoop.onReceive(DAGScheduler.scala:1669)\n\tat org.apache.spark.scheduler.DAGSchedulerEventProcessLoop.onReceive(DAGScheduler.scala:1658)\n\tat org.apache.spark.util.EventLoop$$anon$1.run(EventLoop.scala:48)\n\tat org.apache.spark.scheduler.DAGScheduler.runJob(DAGScheduler.scala:630)\n\tat org.apache.spark.SparkContext.runJob(SparkContext.scala:2022)\n\tat org.apache.spark.sql.execution.datasources.FileFormatWriter$$anonfun$write$1.apply$mcV$sp(FileFormatWriter.scala:188)\n\t... 44 more\nCaused by: org.apache.spark.SparkException: Task failed while writing rows\n\tat org.apache.spark.sql.execution.datasources.FileFormatWriter$.org$apache$spark$sql$execution$datasources$FileFormatWriter$$executeTask(FileFormatWriter.scala:272)\n\tat org.apache.spark.sql.execution.datasources.FileFormatWriter$$anonfun$write$1$$anonfun$apply$mcV$sp$1.apply(FileFormatWriter.scala:191)\n\tat org.apache.spark.sql.execution.datasources.FileFormatWriter$$anonfun$write$1$$anonfun$apply$mcV$sp$1.apply(FileFormatWriter.scala:190)\n\tat org.apache.spark.scheduler.ResultTask.runTask(ResultTask.scala:87)\n\tat org.apache.spark.scheduler.Task.run(Task.scala:108)\n\tat org.apache.spark.executor.Executor$TaskRunner.run(Executor.scala:335)\n\tat java.util.concurrent.ThreadPoolExecutor.runWorker(ThreadPoolExecutor.java:1149)\n\tat java.util.concurrent.ThreadPoolExecutor$Worker.run(ThreadPoolExecutor.java:624)\n\t... 1 more\nCaused by: org.apache.hadoop.fs.FSError: java.io.IOException: No space left on device\n\tat org.apache.hadoop.fs.RawLocalFileSystem$LocalFSFileOutputStream.write(RawLocalFileSystem.java:248)\n\tat java.io.BufferedOutputStream.flushBuffer(BufferedOutputStream.java:82)\n\tat java.io.BufferedOutputStream.write(BufferedOutputStream.java:126)\n\tat org.apache.hadoop.fs.FSDataOutputStream$PositionCache.write(FSDataOutputStream.java:58)\n\tat java.io.DataOutputStream.write(DataOutputStream.java:107)\n\tat org.apache.hadoop.fs.ChecksumFileSystem$ChecksumFSOutputSummer.writeChunk(ChecksumFileSystem.java:424)\n\tat org.apache.hadoop.fs.FSOutputSummer.writeChecksumChunks(FSOutputSummer.java:206)\n\tat org.apache.hadoop.fs.FSOutputSummer.write1(FSOutputSummer.java:124)\n\tat org.apache.hadoop.fs.FSOutputSummer.write(FSOutputSummer.java:110)\n\tat org.apache.hadoop.fs.FSDataOutputStream$PositionCache.write(FSDataOutputStream.java:58)\n\tat java.io.DataOutputStream.write(DataOutputStream.java:107)\n\tat sun.nio.cs.StreamEncoder.writeBytes(StreamEncoder.java:221)\n\tat sun.nio.cs.StreamEncoder.implWrite(StreamEncoder.java:282)\n\tat sun.nio.cs.StreamEncoder.write(StreamEncoder.java:125)\n\tat java.io.OutputStreamWriter.write(OutputStreamWriter.java:207)\n\tat com.fasterxml.jackson.core.json.WriterBasedJsonGenerator._flushBuffer(WriterBasedJsonGenerator.java:1888)\n\tat com.fasterxml.jackson.core.json.WriterBasedJsonGenerator._writeString(WriterBasedJsonGenerator.java:925)\n\tat com.fasterxml.jackson.core.json.WriterBasedJsonGenerator._writeFieldName(WriterBasedJsonGenerator.java:220)\n\tat com.fasterxml.jackson.core.json.WriterBasedJsonGenerator.writeFieldName(WriterBasedJsonGenerator.java:111)\n\tat org.apache.spark.sql.catalyst.json.JacksonGenerator.org$apache$spark$sql$catalyst$json$JacksonGenerator$$writeFields(JacksonGenerator.scala:145)\n\tat org.apache.spark.sql.catalyst.json.JacksonGenerator$$anonfun$write$1.apply$mcV$sp(JacksonGenerator.scala:196)\n\tat org.apache.spark.sql.catalyst.json.JacksonGenerator.org$apache$spark$sql$catalyst$json$JacksonGenerator$$writeObject(JacksonGenerator.scala:135)\n\tat org.apache.spark.sql.catalyst.json.JacksonGenerator.write(JacksonGenerator.scala:196)\n\tat org.apache.spark.sql.execution.datasources.json.JsonOutputWriter.write(JsonFileFormat.scala:146)\n\tat org.apache.spark.sql.execution.datasources.FileFormatWriter$SingleDirectoryWriteTask.execute(FileFormatWriter.scala:327)\n\tat org.apache.spark.sql.execution.datasources.FileFormatWriter$$anonfun$org$apache$spark$sql$execution$datasources$FileFormatWriter$$executeTask$3.apply(FileFormatWriter.scala:258)\n\tat org.apache.spark.sql.execution.datasources.FileFormatWriter$$anonfun$org$apache$spark$sql$execution$datasources$FileFormatWriter$$executeTask$3.apply(FileFormatWriter.scala:256)\n\tat org.apache.spark.util.Utils$.tryWithSafeFinallyAndFailureCallbacks(Utils.scala:1375)\n\tat org.apache.spark.sql.execution.datasources.FileFormatWriter$.org$apache$spark$sql$execution$datasources$FileFormatWriter$$executeTask(FileFormatWriter.scala:261)\n\t... 8 more\n\tSuppressed: org.apache.hadoop.fs.FSError: java.io.IOException: No space left on device\n\t\tat org.apache.hadoop.fs.RawLocalFileSystem$LocalFSFileOutputStream.write(RawLocalFileSystem.java:248)\n\t\tat java.io.BufferedOutputStream.flushBuffer(BufferedOutputStream.java:82)\n\t\tat java.io.BufferedOutputStream.write(BufferedOutputStream.java:126)\n\t\tat org.apache.hadoop.fs.FSDataOutputStream$PositionCache.write(FSDataOutputStream.java:58)\n\t\tat java.io.DataOutputStream.write(DataOutputStream.java:107)\n\t\tat org.apache.hadoop.fs.ChecksumFileSystem$ChecksumFSOutputSummer.writeChunk(ChecksumFileSystem.java:424)\n\t\tat org.apache.hadoop.fs.FSOutputSummer.writeChecksumChunks(FSOutputSummer.java:206)\n\t\tat org.apache.hadoop.fs.FSOutputSummer.flushBuffer(FSOutputSummer.java:163)\n\t\tat org.apache.hadoop.fs.FSOutputSummer.flushBuffer(FSOutputSummer.java:144)\n\t\tat org.apache.hadoop.fs.ChecksumFileSystem$ChecksumFSOutputSummer.close(ChecksumFileSystem.java:412)\n\t\tat org.apache.hadoop.fs.FSDataOutputStream$PositionCache.close(FSDataOutputStream.java:72)\n\t\tat org.apache.hadoop.fs.FSDataOutputStream.close(FSDataOutputStream.java:106)\n\t\tat sun.nio.cs.StreamEncoder.implClose(StreamEncoder.java:320)\n\t\tat sun.nio.cs.StreamEncoder.close(StreamEncoder.java:149)\n\t\tat java.io.OutputStreamWriter.close(OutputStreamWriter.java:233)\n\t\tat com.fasterxml.jackson.core.json.WriterBasedJsonGenerator.close(WriterBasedJsonGenerator.java:883)\n\t\tat org.apache.spark.sql.catalyst.json.JacksonGenerator.close(JacksonGenerator.scala:187)\n\t\tat org.apache.spark.sql.execution.datasources.json.JsonOutputWriter.close(JsonFileFormat.scala:151)\n\t\tat org.apache.spark.sql.execution.datasources.FileFormatWriter$SingleDirectoryWriteTask.releaseResources(FileFormatWriter.scala:337)\n\t\tat org.apache.spark.sql.execution.datasources.FileFormatWriter$$anonfun$org$apache$spark$sql$execution$datasources$FileFormatWriter$$executeTask$1.apply$mcV$sp(FileFormatWriter.scala:264)\n\t\tat org.apache.spark.util.Utils$.tryWithSafeFinallyAndFailureCallbacks(Utils.scala:1384)\n\t\t... 9 more\n\tCaused by: java.io.IOException: No space left on device\n\t\tat java.io.FileOutputStream.writeBytes(Native Method)\n\t\tat java.io.FileOutputStream.write(FileOutputStream.java:326)\n\t\tat org.apache.hadoop.fs.RawLocalFileSystem$LocalFSFileOutputStream.write(RawLocalFileSystem.java:246)\n\t\t... 29 more\nCaused by: java.io.IOException: No space left on device\n\tat java.io.FileOutputStream.writeBytes(Native Method)\n\tat java.io.FileOutputStream.write(FileOutputStream.java:326)\n\tat org.apache.hadoop.fs.RawLocalFileSystem$LocalFSFileOutputStream.write(RawLocalFileSystem.java:246)\n\t... 36 more\n",
     "output_type": "error",
     "traceback": [
      "\u001b[0;31m\u001b[0m",
      "\u001b[0;31mPy4JJavaError\u001b[0mTraceback (most recent call last)",
      "\u001b[0;32m<ipython-input-98-e244a58fca4a>\u001b[0m in \u001b[0;36m<module>\u001b[0;34m()\u001b[0m\n\u001b[0;32m----> 1\u001b[0;31m \u001b[0moutput\u001b[0m\u001b[0;34m.\u001b[0m\u001b[0mselect\u001b[0m\u001b[0;34m(\u001b[0m\u001b[0;34m\"*\"\u001b[0m\u001b[0;34m)\u001b[0m\u001b[0;34m.\u001b[0m\u001b[0mwrite\u001b[0m\u001b[0;34m.\u001b[0m\u001b[0msave\u001b[0m\u001b[0;34m(\u001b[0m\u001b[0;34m\"training3.json\"\u001b[0m\u001b[0;34m,\u001b[0m \u001b[0mformat\u001b[0m\u001b[0;34m=\u001b[0m\u001b[0;34m\"json\"\u001b[0m\u001b[0;34m)\u001b[0m\u001b[0;34m\u001b[0m\u001b[0m\n\u001b[0m",
      "\u001b[0;32m/usr/local/spark/python/pyspark/sql/readwriter.py\u001b[0m in \u001b[0;36msave\u001b[0;34m(self, path, format, mode, partitionBy, **options)\u001b[0m\n\u001b[1;32m    593\u001b[0m             \u001b[0mself\u001b[0m\u001b[0;34m.\u001b[0m\u001b[0m_jwrite\u001b[0m\u001b[0;34m.\u001b[0m\u001b[0msave\u001b[0m\u001b[0;34m(\u001b[0m\u001b[0;34m)\u001b[0m\u001b[0;34m\u001b[0m\u001b[0m\n\u001b[1;32m    594\u001b[0m         \u001b[0;32melse\u001b[0m\u001b[0;34m:\u001b[0m\u001b[0;34m\u001b[0m\u001b[0m\n\u001b[0;32m--> 595\u001b[0;31m             \u001b[0mself\u001b[0m\u001b[0;34m.\u001b[0m\u001b[0m_jwrite\u001b[0m\u001b[0;34m.\u001b[0m\u001b[0msave\u001b[0m\u001b[0;34m(\u001b[0m\u001b[0mpath\u001b[0m\u001b[0;34m)\u001b[0m\u001b[0;34m\u001b[0m\u001b[0m\n\u001b[0m\u001b[1;32m    596\u001b[0m \u001b[0;34m\u001b[0m\u001b[0m\n\u001b[1;32m    597\u001b[0m     \u001b[0;34m@\u001b[0m\u001b[0msince\u001b[0m\u001b[0;34m(\u001b[0m\u001b[0;36m1.4\u001b[0m\u001b[0;34m)\u001b[0m\u001b[0;34m\u001b[0m\u001b[0m\n",
      "\u001b[0;32m/usr/local/spark/python/lib/py4j-0.10.4-src.zip/py4j/java_gateway.py\u001b[0m in \u001b[0;36m__call__\u001b[0;34m(self, *args)\u001b[0m\n\u001b[1;32m   1131\u001b[0m         \u001b[0manswer\u001b[0m \u001b[0;34m=\u001b[0m \u001b[0mself\u001b[0m\u001b[0;34m.\u001b[0m\u001b[0mgateway_client\u001b[0m\u001b[0;34m.\u001b[0m\u001b[0msend_command\u001b[0m\u001b[0;34m(\u001b[0m\u001b[0mcommand\u001b[0m\u001b[0;34m)\u001b[0m\u001b[0;34m\u001b[0m\u001b[0m\n\u001b[1;32m   1132\u001b[0m         return_value = get_return_value(\n\u001b[0;32m-> 1133\u001b[0;31m             answer, self.gateway_client, self.target_id, self.name)\n\u001b[0m\u001b[1;32m   1134\u001b[0m \u001b[0;34m\u001b[0m\u001b[0m\n\u001b[1;32m   1135\u001b[0m         \u001b[0;32mfor\u001b[0m \u001b[0mtemp_arg\u001b[0m \u001b[0;32min\u001b[0m \u001b[0mtemp_args\u001b[0m\u001b[0;34m:\u001b[0m\u001b[0;34m\u001b[0m\u001b[0m\n",
      "\u001b[0;32m/usr/local/spark/python/pyspark/sql/utils.py\u001b[0m in \u001b[0;36mdeco\u001b[0;34m(*a, **kw)\u001b[0m\n\u001b[1;32m     61\u001b[0m     \u001b[0;32mdef\u001b[0m \u001b[0mdeco\u001b[0m\u001b[0;34m(\u001b[0m\u001b[0;34m*\u001b[0m\u001b[0ma\u001b[0m\u001b[0;34m,\u001b[0m \u001b[0;34m**\u001b[0m\u001b[0mkw\u001b[0m\u001b[0;34m)\u001b[0m\u001b[0;34m:\u001b[0m\u001b[0;34m\u001b[0m\u001b[0m\n\u001b[1;32m     62\u001b[0m         \u001b[0;32mtry\u001b[0m\u001b[0;34m:\u001b[0m\u001b[0;34m\u001b[0m\u001b[0m\n\u001b[0;32m---> 63\u001b[0;31m             \u001b[0;32mreturn\u001b[0m \u001b[0mf\u001b[0m\u001b[0;34m(\u001b[0m\u001b[0;34m*\u001b[0m\u001b[0ma\u001b[0m\u001b[0;34m,\u001b[0m \u001b[0;34m**\u001b[0m\u001b[0mkw\u001b[0m\u001b[0;34m)\u001b[0m\u001b[0;34m\u001b[0m\u001b[0m\n\u001b[0m\u001b[1;32m     64\u001b[0m         \u001b[0;32mexcept\u001b[0m \u001b[0mpy4j\u001b[0m\u001b[0;34m.\u001b[0m\u001b[0mprotocol\u001b[0m\u001b[0;34m.\u001b[0m\u001b[0mPy4JJavaError\u001b[0m \u001b[0;32mas\u001b[0m \u001b[0me\u001b[0m\u001b[0;34m:\u001b[0m\u001b[0;34m\u001b[0m\u001b[0m\n\u001b[1;32m     65\u001b[0m             \u001b[0ms\u001b[0m \u001b[0;34m=\u001b[0m \u001b[0me\u001b[0m\u001b[0;34m.\u001b[0m\u001b[0mjava_exception\u001b[0m\u001b[0;34m.\u001b[0m\u001b[0mtoString\u001b[0m\u001b[0;34m(\u001b[0m\u001b[0;34m)\u001b[0m\u001b[0;34m\u001b[0m\u001b[0m\n",
      "\u001b[0;32m/usr/local/spark/python/lib/py4j-0.10.4-src.zip/py4j/protocol.py\u001b[0m in \u001b[0;36mget_return_value\u001b[0;34m(answer, gateway_client, target_id, name)\u001b[0m\n\u001b[1;32m    317\u001b[0m                 raise Py4JJavaError(\n\u001b[1;32m    318\u001b[0m                     \u001b[0;34m\"An error occurred while calling {0}{1}{2}.\\n\"\u001b[0m\u001b[0;34m.\u001b[0m\u001b[0;34m\u001b[0m\u001b[0m\n\u001b[0;32m--> 319\u001b[0;31m                     format(target_id, \".\", name), value)\n\u001b[0m\u001b[1;32m    320\u001b[0m             \u001b[0;32melse\u001b[0m\u001b[0;34m:\u001b[0m\u001b[0;34m\u001b[0m\u001b[0m\n\u001b[1;32m    321\u001b[0m                 raise Py4JError(\n",
      "\u001b[0;31mPy4JJavaError\u001b[0m: An error occurred while calling o1515.save.\n: org.apache.spark.SparkException: Job aborted.\n\tat org.apache.spark.sql.execution.datasources.FileFormatWriter$$anonfun$write$1.apply$mcV$sp(FileFormatWriter.scala:215)\n\tat org.apache.spark.sql.execution.datasources.FileFormatWriter$$anonfun$write$1.apply(FileFormatWriter.scala:173)\n\tat org.apache.spark.sql.execution.datasources.FileFormatWriter$$anonfun$write$1.apply(FileFormatWriter.scala:173)\n\tat org.apache.spark.sql.execution.SQLExecution$.withNewExecutionId(SQLExecution.scala:65)\n\tat org.apache.spark.sql.execution.datasources.FileFormatWriter$.write(FileFormatWriter.scala:173)\n\tat org.apache.spark.sql.execution.datasources.InsertIntoHadoopFsRelationCommand.run(InsertIntoHadoopFsRelationCommand.scala:145)\n\tat org.apache.spark.sql.execution.command.ExecutedCommandExec.sideEffectResult$lzycompute(commands.scala:58)\n\tat org.apache.spark.sql.execution.command.ExecutedCommandExec.sideEffectResult(commands.scala:56)\n\tat org.apache.spark.sql.execution.command.ExecutedCommandExec.doExecute(commands.scala:74)\n\tat org.apache.spark.sql.execution.SparkPlan$$anonfun$execute$1.apply(SparkPlan.scala:117)\n\tat org.apache.spark.sql.execution.SparkPlan$$anonfun$execute$1.apply(SparkPlan.scala:117)\n\tat org.apache.spark.sql.execution.SparkPlan$$anonfun$executeQuery$1.apply(SparkPlan.scala:138)\n\tat org.apache.spark.rdd.RDDOperationScope$.withScope(RDDOperationScope.scala:151)\n\tat org.apache.spark.sql.execution.SparkPlan.executeQuery(SparkPlan.scala:135)\n\tat org.apache.spark.sql.execution.SparkPlan.execute(SparkPlan.scala:116)\n\tat org.apache.spark.sql.execution.QueryExecution.toRdd$lzycompute(QueryExecution.scala:92)\n\tat org.apache.spark.sql.execution.QueryExecution.toRdd(QueryExecution.scala:92)\n\tat org.apache.spark.sql.execution.datasources.DataSource.writeInFileFormat(DataSource.scala:438)\n\tat org.apache.spark.sql.execution.datasources.DataSource.write(DataSource.scala:474)\n\tat org.apache.spark.sql.execution.datasources.SaveIntoDataSourceCommand.run(SaveIntoDataSourceCommand.scala:48)\n\tat org.apache.spark.sql.execution.command.ExecutedCommandExec.sideEffectResult$lzycompute(commands.scala:58)\n\tat org.apache.spark.sql.execution.command.ExecutedCommandExec.sideEffectResult(commands.scala:56)\n\tat org.apache.spark.sql.execution.command.ExecutedCommandExec.doExecute(commands.scala:74)\n\tat org.apache.spark.sql.execution.SparkPlan$$anonfun$execute$1.apply(SparkPlan.scala:117)\n\tat org.apache.spark.sql.execution.SparkPlan$$anonfun$execute$1.apply(SparkPlan.scala:117)\n\tat org.apache.spark.sql.execution.SparkPlan$$anonfun$executeQuery$1.apply(SparkPlan.scala:138)\n\tat org.apache.spark.rdd.RDDOperationScope$.withScope(RDDOperationScope.scala:151)\n\tat org.apache.spark.sql.execution.SparkPlan.executeQuery(SparkPlan.scala:135)\n\tat org.apache.spark.sql.execution.SparkPlan.execute(SparkPlan.scala:116)\n\tat org.apache.spark.sql.execution.QueryExecution.toRdd$lzycompute(QueryExecution.scala:92)\n\tat org.apache.spark.sql.execution.QueryExecution.toRdd(QueryExecution.scala:92)\n\tat org.apache.spark.sql.DataFrameWriter.runCommand(DataFrameWriter.scala:610)\n\tat org.apache.spark.sql.DataFrameWriter.save(DataFrameWriter.scala:233)\n\tat org.apache.spark.sql.DataFrameWriter.save(DataFrameWriter.scala:217)\n\tat sun.reflect.NativeMethodAccessorImpl.invoke0(Native Method)\n\tat sun.reflect.NativeMethodAccessorImpl.invoke(NativeMethodAccessorImpl.java:62)\n\tat sun.reflect.DelegatingMethodAccessorImpl.invoke(DelegatingMethodAccessorImpl.java:43)\n\tat java.lang.reflect.Method.invoke(Method.java:498)\n\tat py4j.reflection.MethodInvoker.invoke(MethodInvoker.java:244)\n\tat py4j.reflection.ReflectionEngine.invoke(ReflectionEngine.java:357)\n\tat py4j.Gateway.invoke(Gateway.java:280)\n\tat py4j.commands.AbstractCommand.invokeMethod(AbstractCommand.java:132)\n\tat py4j.commands.CallCommand.execute(CallCommand.java:79)\n\tat py4j.GatewayConnection.run(GatewayConnection.java:214)\n\tat java.lang.Thread.run(Thread.java:748)\nCaused by: org.apache.spark.SparkException: Job aborted due to stage failure: Task 30 in stage 62.0 failed 1 times, most recent failure: Lost task 30.0 in stage 62.0 (TID 4452, localhost, executor driver): org.apache.spark.SparkException: Task failed while writing rows\n\tat org.apache.spark.sql.execution.datasources.FileFormatWriter$.org$apache$spark$sql$execution$datasources$FileFormatWriter$$executeTask(FileFormatWriter.scala:272)\n\tat org.apache.spark.sql.execution.datasources.FileFormatWriter$$anonfun$write$1$$anonfun$apply$mcV$sp$1.apply(FileFormatWriter.scala:191)\n\tat org.apache.spark.sql.execution.datasources.FileFormatWriter$$anonfun$write$1$$anonfun$apply$mcV$sp$1.apply(FileFormatWriter.scala:190)\n\tat org.apache.spark.scheduler.ResultTask.runTask(ResultTask.scala:87)\n\tat org.apache.spark.scheduler.Task.run(Task.scala:108)\n\tat org.apache.spark.executor.Executor$TaskRunner.run(Executor.scala:335)\n\tat java.util.concurrent.ThreadPoolExecutor.runWorker(ThreadPoolExecutor.java:1149)\n\tat java.util.concurrent.ThreadPoolExecutor$Worker.run(ThreadPoolExecutor.java:624)\n\tat java.lang.Thread.run(Thread.java:748)\nCaused by: org.apache.hadoop.fs.FSError: java.io.IOException: No space left on device\n\tat org.apache.hadoop.fs.RawLocalFileSystem$LocalFSFileOutputStream.write(RawLocalFileSystem.java:248)\n\tat java.io.BufferedOutputStream.flushBuffer(BufferedOutputStream.java:82)\n\tat java.io.BufferedOutputStream.write(BufferedOutputStream.java:126)\n\tat org.apache.hadoop.fs.FSDataOutputStream$PositionCache.write(FSDataOutputStream.java:58)\n\tat java.io.DataOutputStream.write(DataOutputStream.java:107)\n\tat org.apache.hadoop.fs.ChecksumFileSystem$ChecksumFSOutputSummer.writeChunk(ChecksumFileSystem.java:424)\n\tat org.apache.hadoop.fs.FSOutputSummer.writeChecksumChunks(FSOutputSummer.java:206)\n\tat org.apache.hadoop.fs.FSOutputSummer.write1(FSOutputSummer.java:124)\n\tat org.apache.hadoop.fs.FSOutputSummer.write(FSOutputSummer.java:110)\n\tat org.apache.hadoop.fs.FSDataOutputStream$PositionCache.write(FSDataOutputStream.java:58)\n\tat java.io.DataOutputStream.write(DataOutputStream.java:107)\n\tat sun.nio.cs.StreamEncoder.writeBytes(StreamEncoder.java:221)\n\tat sun.nio.cs.StreamEncoder.implWrite(StreamEncoder.java:282)\n\tat sun.nio.cs.StreamEncoder.write(StreamEncoder.java:125)\n\tat java.io.OutputStreamWriter.write(OutputStreamWriter.java:207)\n\tat com.fasterxml.jackson.core.json.WriterBasedJsonGenerator._flushBuffer(WriterBasedJsonGenerator.java:1888)\n\tat com.fasterxml.jackson.core.json.WriterBasedJsonGenerator._writeString(WriterBasedJsonGenerator.java:925)\n\tat com.fasterxml.jackson.core.json.WriterBasedJsonGenerator._writeFieldName(WriterBasedJsonGenerator.java:220)\n\tat com.fasterxml.jackson.core.json.WriterBasedJsonGenerator.writeFieldName(WriterBasedJsonGenerator.java:111)\n\tat org.apache.spark.sql.catalyst.json.JacksonGenerator.org$apache$spark$sql$catalyst$json$JacksonGenerator$$writeFields(JacksonGenerator.scala:145)\n\tat org.apache.spark.sql.catalyst.json.JacksonGenerator$$anonfun$write$1.apply$mcV$sp(JacksonGenerator.scala:196)\n\tat org.apache.spark.sql.catalyst.json.JacksonGenerator.org$apache$spark$sql$catalyst$json$JacksonGenerator$$writeObject(JacksonGenerator.scala:135)\n\tat org.apache.spark.sql.catalyst.json.JacksonGenerator.write(JacksonGenerator.scala:196)\n\tat org.apache.spark.sql.execution.datasources.json.JsonOutputWriter.write(JsonFileFormat.scala:146)\n\tat org.apache.spark.sql.execution.datasources.FileFormatWriter$SingleDirectoryWriteTask.execute(FileFormatWriter.scala:327)\n\tat org.apache.spark.sql.execution.datasources.FileFormatWriter$$anonfun$org$apache$spark$sql$execution$datasources$FileFormatWriter$$executeTask$3.apply(FileFormatWriter.scala:258)\n\tat org.apache.spark.sql.execution.datasources.FileFormatWriter$$anonfun$org$apache$spark$sql$execution$datasources$FileFormatWriter$$executeTask$3.apply(FileFormatWriter.scala:256)\n\tat org.apache.spark.util.Utils$.tryWithSafeFinallyAndFailureCallbacks(Utils.scala:1375)\n\tat org.apache.spark.sql.execution.datasources.FileFormatWriter$.org$apache$spark$sql$execution$datasources$FileFormatWriter$$executeTask(FileFormatWriter.scala:261)\n\t... 8 more\n\tSuppressed: org.apache.hadoop.fs.FSError: java.io.IOException: No space left on device\n\t\tat org.apache.hadoop.fs.RawLocalFileSystem$LocalFSFileOutputStream.write(RawLocalFileSystem.java:248)\n\t\tat java.io.BufferedOutputStream.flushBuffer(BufferedOutputStream.java:82)\n\t\tat java.io.BufferedOutputStream.write(BufferedOutputStream.java:126)\n\t\tat org.apache.hadoop.fs.FSDataOutputStream$PositionCache.write(FSDataOutputStream.java:58)\n\t\tat java.io.DataOutputStream.write(DataOutputStream.java:107)\n\t\tat org.apache.hadoop.fs.ChecksumFileSystem$ChecksumFSOutputSummer.writeChunk(ChecksumFileSystem.java:424)\n\t\tat org.apache.hadoop.fs.FSOutputSummer.writeChecksumChunks(FSOutputSummer.java:206)\n\t\tat org.apache.hadoop.fs.FSOutputSummer.flushBuffer(FSOutputSummer.java:163)\n\t\tat org.apache.hadoop.fs.FSOutputSummer.flushBuffer(FSOutputSummer.java:144)\n\t\tat org.apache.hadoop.fs.ChecksumFileSystem$ChecksumFSOutputSummer.close(ChecksumFileSystem.java:412)\n\t\tat org.apache.hadoop.fs.FSDataOutputStream$PositionCache.close(FSDataOutputStream.java:72)\n\t\tat org.apache.hadoop.fs.FSDataOutputStream.close(FSDataOutputStream.java:106)\n\t\tat sun.nio.cs.StreamEncoder.implClose(StreamEncoder.java:320)\n\t\tat sun.nio.cs.StreamEncoder.close(StreamEncoder.java:149)\n\t\tat java.io.OutputStreamWriter.close(OutputStreamWriter.java:233)\n\t\tat com.fasterxml.jackson.core.json.WriterBasedJsonGenerator.close(WriterBasedJsonGenerator.java:883)\n\t\tat org.apache.spark.sql.catalyst.json.JacksonGenerator.close(JacksonGenerator.scala:187)\n\t\tat org.apache.spark.sql.execution.datasources.json.JsonOutputWriter.close(JsonFileFormat.scala:151)\n\t\tat org.apache.spark.sql.execution.datasources.FileFormatWriter$SingleDirectoryWriteTask.releaseResources(FileFormatWriter.scala:337)\n\t\tat org.apache.spark.sql.execution.datasources.FileFormatWriter$$anonfun$org$apache$spark$sql$execution$datasources$FileFormatWriter$$executeTask$1.apply$mcV$sp(FileFormatWriter.scala:264)\n\t\tat org.apache.spark.util.Utils$.tryWithSafeFinallyAndFailureCallbacks(Utils.scala:1384)\n\t\t... 9 more\n\tCaused by: java.io.IOException: No space left on device\n\t\tat java.io.FileOutputStream.writeBytes(Native Method)\n\t\tat java.io.FileOutputStream.write(FileOutputStream.java:326)\n\t\tat org.apache.hadoop.fs.RawLocalFileSystem$LocalFSFileOutputStream.write(RawLocalFileSystem.java:246)\n\t\t... 29 more\nCaused by: java.io.IOException: No space left on device\n\tat java.io.FileOutputStream.writeBytes(Native Method)\n\tat java.io.FileOutputStream.write(FileOutputStream.java:326)\n\tat org.apache.hadoop.fs.RawLocalFileSystem$LocalFSFileOutputStream.write(RawLocalFileSystem.java:246)\n\t... 36 more\n\nDriver stacktrace:\n\tat org.apache.spark.scheduler.DAGScheduler.org$apache$spark$scheduler$DAGScheduler$$failJobAndIndependentStages(DAGScheduler.scala:1499)\n\tat org.apache.spark.scheduler.DAGScheduler$$anonfun$abortStage$1.apply(DAGScheduler.scala:1487)\n\tat org.apache.spark.scheduler.DAGScheduler$$anonfun$abortStage$1.apply(DAGScheduler.scala:1486)\n\tat scala.collection.mutable.ResizableArray$class.foreach(ResizableArray.scala:59)\n\tat scala.collection.mutable.ArrayBuffer.foreach(ArrayBuffer.scala:48)\n\tat org.apache.spark.scheduler.DAGScheduler.abortStage(DAGScheduler.scala:1486)\n\tat org.apache.spark.scheduler.DAGScheduler$$anonfun$handleTaskSetFailed$1.apply(DAGScheduler.scala:814)\n\tat org.apache.spark.scheduler.DAGScheduler$$anonfun$handleTaskSetFailed$1.apply(DAGScheduler.scala:814)\n\tat scala.Option.foreach(Option.scala:257)\n\tat org.apache.spark.scheduler.DAGScheduler.handleTaskSetFailed(DAGScheduler.scala:814)\n\tat org.apache.spark.scheduler.DAGSchedulerEventProcessLoop.doOnReceive(DAGScheduler.scala:1714)\n\tat org.apache.spark.scheduler.DAGSchedulerEventProcessLoop.onReceive(DAGScheduler.scala:1669)\n\tat org.apache.spark.scheduler.DAGSchedulerEventProcessLoop.onReceive(DAGScheduler.scala:1658)\n\tat org.apache.spark.util.EventLoop$$anon$1.run(EventLoop.scala:48)\n\tat org.apache.spark.scheduler.DAGScheduler.runJob(DAGScheduler.scala:630)\n\tat org.apache.spark.SparkContext.runJob(SparkContext.scala:2022)\n\tat org.apache.spark.sql.execution.datasources.FileFormatWriter$$anonfun$write$1.apply$mcV$sp(FileFormatWriter.scala:188)\n\t... 44 more\nCaused by: org.apache.spark.SparkException: Task failed while writing rows\n\tat org.apache.spark.sql.execution.datasources.FileFormatWriter$.org$apache$spark$sql$execution$datasources$FileFormatWriter$$executeTask(FileFormatWriter.scala:272)\n\tat org.apache.spark.sql.execution.datasources.FileFormatWriter$$anonfun$write$1$$anonfun$apply$mcV$sp$1.apply(FileFormatWriter.scala:191)\n\tat org.apache.spark.sql.execution.datasources.FileFormatWriter$$anonfun$write$1$$anonfun$apply$mcV$sp$1.apply(FileFormatWriter.scala:190)\n\tat org.apache.spark.scheduler.ResultTask.runTask(ResultTask.scala:87)\n\tat org.apache.spark.scheduler.Task.run(Task.scala:108)\n\tat org.apache.spark.executor.Executor$TaskRunner.run(Executor.scala:335)\n\tat java.util.concurrent.ThreadPoolExecutor.runWorker(ThreadPoolExecutor.java:1149)\n\tat java.util.concurrent.ThreadPoolExecutor$Worker.run(ThreadPoolExecutor.java:624)\n\t... 1 more\nCaused by: org.apache.hadoop.fs.FSError: java.io.IOException: No space left on device\n\tat org.apache.hadoop.fs.RawLocalFileSystem$LocalFSFileOutputStream.write(RawLocalFileSystem.java:248)\n\tat java.io.BufferedOutputStream.flushBuffer(BufferedOutputStream.java:82)\n\tat java.io.BufferedOutputStream.write(BufferedOutputStream.java:126)\n\tat org.apache.hadoop.fs.FSDataOutputStream$PositionCache.write(FSDataOutputStream.java:58)\n\tat java.io.DataOutputStream.write(DataOutputStream.java:107)\n\tat org.apache.hadoop.fs.ChecksumFileSystem$ChecksumFSOutputSummer.writeChunk(ChecksumFileSystem.java:424)\n\tat org.apache.hadoop.fs.FSOutputSummer.writeChecksumChunks(FSOutputSummer.java:206)\n\tat org.apache.hadoop.fs.FSOutputSummer.write1(FSOutputSummer.java:124)\n\tat org.apache.hadoop.fs.FSOutputSummer.write(FSOutputSummer.java:110)\n\tat org.apache.hadoop.fs.FSDataOutputStream$PositionCache.write(FSDataOutputStream.java:58)\n\tat java.io.DataOutputStream.write(DataOutputStream.java:107)\n\tat sun.nio.cs.StreamEncoder.writeBytes(StreamEncoder.java:221)\n\tat sun.nio.cs.StreamEncoder.implWrite(StreamEncoder.java:282)\n\tat sun.nio.cs.StreamEncoder.write(StreamEncoder.java:125)\n\tat java.io.OutputStreamWriter.write(OutputStreamWriter.java:207)\n\tat com.fasterxml.jackson.core.json.WriterBasedJsonGenerator._flushBuffer(WriterBasedJsonGenerator.java:1888)\n\tat com.fasterxml.jackson.core.json.WriterBasedJsonGenerator._writeString(WriterBasedJsonGenerator.java:925)\n\tat com.fasterxml.jackson.core.json.WriterBasedJsonGenerator._writeFieldName(WriterBasedJsonGenerator.java:220)\n\tat com.fasterxml.jackson.core.json.WriterBasedJsonGenerator.writeFieldName(WriterBasedJsonGenerator.java:111)\n\tat org.apache.spark.sql.catalyst.json.JacksonGenerator.org$apache$spark$sql$catalyst$json$JacksonGenerator$$writeFields(JacksonGenerator.scala:145)\n\tat org.apache.spark.sql.catalyst.json.JacksonGenerator$$anonfun$write$1.apply$mcV$sp(JacksonGenerator.scala:196)\n\tat org.apache.spark.sql.catalyst.json.JacksonGenerator.org$apache$spark$sql$catalyst$json$JacksonGenerator$$writeObject(JacksonGenerator.scala:135)\n\tat org.apache.spark.sql.catalyst.json.JacksonGenerator.write(JacksonGenerator.scala:196)\n\tat org.apache.spark.sql.execution.datasources.json.JsonOutputWriter.write(JsonFileFormat.scala:146)\n\tat org.apache.spark.sql.execution.datasources.FileFormatWriter$SingleDirectoryWriteTask.execute(FileFormatWriter.scala:327)\n\tat org.apache.spark.sql.execution.datasources.FileFormatWriter$$anonfun$org$apache$spark$sql$execution$datasources$FileFormatWriter$$executeTask$3.apply(FileFormatWriter.scala:258)\n\tat org.apache.spark.sql.execution.datasources.FileFormatWriter$$anonfun$org$apache$spark$sql$execution$datasources$FileFormatWriter$$executeTask$3.apply(FileFormatWriter.scala:256)\n\tat org.apache.spark.util.Utils$.tryWithSafeFinallyAndFailureCallbacks(Utils.scala:1375)\n\tat org.apache.spark.sql.execution.datasources.FileFormatWriter$.org$apache$spark$sql$execution$datasources$FileFormatWriter$$executeTask(FileFormatWriter.scala:261)\n\t... 8 more\n\tSuppressed: org.apache.hadoop.fs.FSError: java.io.IOException: No space left on device\n\t\tat org.apache.hadoop.fs.RawLocalFileSystem$LocalFSFileOutputStream.write(RawLocalFileSystem.java:248)\n\t\tat java.io.BufferedOutputStream.flushBuffer(BufferedOutputStream.java:82)\n\t\tat java.io.BufferedOutputStream.write(BufferedOutputStream.java:126)\n\t\tat org.apache.hadoop.fs.FSDataOutputStream$PositionCache.write(FSDataOutputStream.java:58)\n\t\tat java.io.DataOutputStream.write(DataOutputStream.java:107)\n\t\tat org.apache.hadoop.fs.ChecksumFileSystem$ChecksumFSOutputSummer.writeChunk(ChecksumFileSystem.java:424)\n\t\tat org.apache.hadoop.fs.FSOutputSummer.writeChecksumChunks(FSOutputSummer.java:206)\n\t\tat org.apache.hadoop.fs.FSOutputSummer.flushBuffer(FSOutputSummer.java:163)\n\t\tat org.apache.hadoop.fs.FSOutputSummer.flushBuffer(FSOutputSummer.java:144)\n\t\tat org.apache.hadoop.fs.ChecksumFileSystem$ChecksumFSOutputSummer.close(ChecksumFileSystem.java:412)\n\t\tat org.apache.hadoop.fs.FSDataOutputStream$PositionCache.close(FSDataOutputStream.java:72)\n\t\tat org.apache.hadoop.fs.FSDataOutputStream.close(FSDataOutputStream.java:106)\n\t\tat sun.nio.cs.StreamEncoder.implClose(StreamEncoder.java:320)\n\t\tat sun.nio.cs.StreamEncoder.close(StreamEncoder.java:149)\n\t\tat java.io.OutputStreamWriter.close(OutputStreamWriter.java:233)\n\t\tat com.fasterxml.jackson.core.json.WriterBasedJsonGenerator.close(WriterBasedJsonGenerator.java:883)\n\t\tat org.apache.spark.sql.catalyst.json.JacksonGenerator.close(JacksonGenerator.scala:187)\n\t\tat org.apache.spark.sql.execution.datasources.json.JsonOutputWriter.close(JsonFileFormat.scala:151)\n\t\tat org.apache.spark.sql.execution.datasources.FileFormatWriter$SingleDirectoryWriteTask.releaseResources(FileFormatWriter.scala:337)\n\t\tat org.apache.spark.sql.execution.datasources.FileFormatWriter$$anonfun$org$apache$spark$sql$execution$datasources$FileFormatWriter$$executeTask$1.apply$mcV$sp(FileFormatWriter.scala:264)\n\t\tat org.apache.spark.util.Utils$.tryWithSafeFinallyAndFailureCallbacks(Utils.scala:1384)\n\t\t... 9 more\n\tCaused by: java.io.IOException: No space left on device\n\t\tat java.io.FileOutputStream.writeBytes(Native Method)\n\t\tat java.io.FileOutputStream.write(FileOutputStream.java:326)\n\t\tat org.apache.hadoop.fs.RawLocalFileSystem$LocalFSFileOutputStream.write(RawLocalFileSystem.java:246)\n\t\t... 29 more\nCaused by: java.io.IOException: No space left on device\n\tat java.io.FileOutputStream.writeBytes(Native Method)\n\tat java.io.FileOutputStream.write(FileOutputStream.java:326)\n\tat org.apache.hadoop.fs.RawLocalFileSystem$LocalFSFileOutputStream.write(RawLocalFileSystem.java:246)\n\t... 36 more\n"
     ]
    }
   ],
   "source": [
    "output.select(\"*\").write.save(\"training3.json\", format=\"json\")"
   ]
  },
  {
   "cell_type": "code",
   "execution_count": null,
   "metadata": {},
   "outputs": [],
   "source": []
  },
  {
   "cell_type": "code",
   "execution_count": null,
   "metadata": {},
   "outputs": [],
   "source": []
  },
  {
   "cell_type": "code",
   "execution_count": null,
   "metadata": {},
   "outputs": [],
   "source": []
  },
  {
   "cell_type": "code",
   "execution_count": null,
   "metadata": {},
   "outputs": [],
   "source": []
  },
  {
   "cell_type": "code",
   "execution_count": null,
   "metadata": {},
   "outputs": [],
   "source": []
  },
  {
   "cell_type": "code",
   "execution_count": null,
   "metadata": {},
   "outputs": [],
   "source": []
  }
 ],
 "metadata": {
  "kernelspec": {
   "display_name": "Python 3",
   "language": "python",
   "name": "python3"
  },
  "language_info": {
   "codemirror_mode": {
    "name": "ipython",
    "version": 3
   },
   "file_extension": ".py",
   "mimetype": "text/x-python",
   "name": "python",
   "nbconvert_exporter": "python",
   "pygments_lexer": "ipython3",
   "version": "3.6.4"
  }
 },
 "nbformat": 4,
 "nbformat_minor": 2
}
