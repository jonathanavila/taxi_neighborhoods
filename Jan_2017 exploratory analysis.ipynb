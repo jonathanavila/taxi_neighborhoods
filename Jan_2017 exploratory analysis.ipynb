{
 "cells": [
  {
   "cell_type": "code",
   "execution_count": 1,
   "metadata": {},
   "outputs": [
    {
     "name": "stdout",
     "output_type": "stream",
     "text": [
      "Requirement already up-to-date: scikit-learn in /opt/conda/lib/python3.6/site-packages\n",
      "\u001b[33mYou are using pip version 9.0.1, however version 10.0.1 is available.\n",
      "You should consider upgrading via the 'pip install --upgrade pip' command.\u001b[0m\n"
     ]
    }
   ],
   "source": [
    "! pip install -U scikit-learn"
   ]
  },
  {
   "cell_type": "code",
   "execution_count": 4,
   "metadata": {},
   "outputs": [],
   "source": [
    "import matplotlib.pyplot as plt \n",
    "from pyspark.sql import SparkSession\n",
    "from pyspark.sql.types import *\n",
    "import pyspark.sql.functions as F\n",
    "\n",
    "from pyspark import SparkContext as sc\n",
    "from pyspark.sql.functions import col, split\n",
    "import pyspark.sql as SQL\n",
    "from pyspark.sql.functions import unix_timestamp, from_unixtime, date_format, \\\n",
    "        from_utc_timestamp, to_utc_timestamp, date_format, dayofmonth\n",
    "import datetime\n",
    "import calendar\n",
    "import pandas as pd\n",
    "from pyspark.ml.linalg import Vectors\n",
    "from pyspark.ml.regression import LinearRegression\n",
    "#from pyspark.ml.feature import OneHotEncoderEstimator\n"
   ]
  },
  {
   "cell_type": "code",
   "execution_count": 5,
   "metadata": {},
   "outputs": [],
   "source": [
    "spark = SparkSession.builder.appName('Jan-01').getOrCreate()"
   ]
  },
  {
   "cell_type": "code",
   "execution_count": 6,
   "metadata": {},
   "outputs": [],
   "source": [
    "# Download and decompress data into your Jupyter environment; abreviated jan 2017 data\n",
    "jan_2017 = spark.read.format(\"csv\").load('yellow_tripdata_half.csv', header = True).cache()"
   ]
  },
  {
   "cell_type": "code",
   "execution_count": 7,
   "metadata": {},
   "outputs": [],
   "source": [
    "#need to get two dataframes to merge on, or else get cartesian product error\n",
    "taxi_zone = spark.read.format(\"csv\").load('taxi+_zone_lookup.csv', header = True)\n",
    "taxi_zone2 = spark.read.format(\"csv\").load('taxi+_zone_lookup.csv', header = True)\n"
   ]
  },
  {
   "cell_type": "code",
   "execution_count": 8,
   "metadata": {},
   "outputs": [
    {
     "name": "stdout",
     "output_type": "stream",
     "text": [
      "root\n",
      " |-- LocationID: string (nullable = true)\n",
      " |-- Borough: string (nullable = true)\n",
      " |-- Zone: string (nullable = true)\n",
      " |-- service_zone: string (nullable = true)\n",
      "\n"
     ]
    }
   ],
   "source": [
    "taxi_zone.printSchema()"
   ]
  },
  {
   "cell_type": "code",
   "execution_count": 9,
   "metadata": {},
   "outputs": [],
   "source": [
    "#merging to get destination information\n",
    "jan_2017 = jan_2017.join(taxi_zone, jan_2017.PULocationID == taxi_zone.LocationID, \"left_outer\"). \\\n",
    "                withColumnRenamed(\"Borough\", \"PUBorough\").withColumnRenamed(\"Zone\", \"PUZone\").withColumnRenamed(\"service_zone\", \"PUServiceZone\").cache()"
   ]
  },
  {
   "cell_type": "code",
   "execution_count": 10,
   "metadata": {},
   "outputs": [],
   "source": [
    "#merging to get destination information\n",
    "jan_2017 = jan_2017.join(taxi_zone2, jan_2017.DOLocationID == taxi_zone2.LocationID, \"left_outer\"). \\\n",
    "                withColumnRenamed(\"Borough\", \"DOBorough\").withColumnRenamed(\"Zone\", \"DOZone\").withColumnRenamed(\"service_zone\", \"DOServiceZone\")"
   ]
  },
  {
   "cell_type": "code",
   "execution_count": 11,
   "metadata": {},
   "outputs": [],
   "source": [
    "#jan_2017 = jan_2017.drop(\"LocationID\")"
   ]
  },
  {
   "cell_type": "code",
   "execution_count": 12,
   "metadata": {},
   "outputs": [],
   "source": [
    "#encoding if destination is an aiport\n",
    "jan_2017 = jan_2017.withColumn(\"AirportDO\", \\\n",
    "                               F.when((jan_2017[\"DOLocationID\"] == '138' ) & \\\n",
    "                                      (jan_2017[\"DOLocationID\"] == '132'),1).otherwise(0))"
   ]
  },
  {
   "cell_type": "code",
   "execution_count": 13,
   "metadata": {},
   "outputs": [
    {
     "data": {
      "text/plain": [
       "5044667"
      ]
     },
     "execution_count": 13,
     "metadata": {},
     "output_type": "execute_result"
    }
   ],
   "source": [
    "jan_2017.count()"
   ]
  },
  {
   "cell_type": "code",
   "execution_count": 14,
   "metadata": {},
   "outputs": [
    {
     "name": "stdout",
     "output_type": "stream",
     "text": [
      "root\n",
      " |-- VendorID: string (nullable = true)\n",
      " |-- tpep_pickup_datetime: string (nullable = true)\n",
      " |-- tpep_dropoff_datetime: string (nullable = true)\n",
      " |-- passenger_count: string (nullable = true)\n",
      " |-- trip_distance: string (nullable = true)\n",
      " |-- RatecodeID: string (nullable = true)\n",
      " |-- store_and_fwd_flag: string (nullable = true)\n",
      " |-- PULocationID: string (nullable = true)\n",
      " |-- DOLocationID: string (nullable = true)\n",
      " |-- payment_type: string (nullable = true)\n",
      " |-- fare_amount: string (nullable = true)\n",
      " |-- extra: string (nullable = true)\n",
      " |-- mta_tax: string (nullable = true)\n",
      " |-- tip_amount: string (nullable = true)\n",
      " |-- tolls_amount: string (nullable = true)\n",
      " |-- improvement_surcharge: string (nullable = true)\n",
      " |-- total_amount: string (nullable = true)\n",
      " |-- LocationID: string (nullable = true)\n",
      " |-- PUBorough: string (nullable = true)\n",
      " |-- PUZone: string (nullable = true)\n",
      " |-- PUServiceZone: string (nullable = true)\n",
      " |-- LocationID: string (nullable = true)\n",
      " |-- DOBorough: string (nullable = true)\n",
      " |-- DOZone: string (nullable = true)\n",
      " |-- DOServiceZone: string (nullable = true)\n",
      " |-- AirportDO: integer (nullable = false)\n",
      "\n"
     ]
    }
   ],
   "source": [
    "jan_2017.printSchema()"
   ]
  },
  {
   "cell_type": "code",
   "execution_count": 15,
   "metadata": {},
   "outputs": [
    {
     "name": "stdout",
     "output_type": "stream",
     "text": [
      "+--------+--------------------+---------------------+---------------+-------------+----------+------------------+------------+------------+------------+-----------+-----+-------+----------+------------+---------------------+------------+----------+---------+---------+-------------+----------+---------+-------------------+-------------+---------+\n",
      "|VendorID|tpep_pickup_datetime|tpep_dropoff_datetime|passenger_count|trip_distance|RatecodeID|store_and_fwd_flag|PULocationID|DOLocationID|payment_type|fare_amount|extra|mta_tax|tip_amount|tolls_amount|improvement_surcharge|total_amount|LocationID|PUBorough|   PUZone|PUServiceZone|LocationID|DOBorough|             DOZone|DOServiceZone|AirportDO|\n",
      "+--------+--------------------+---------------------+---------------+-------------+----------+------------------+------------+------------+------------+-----------+-----+-------+----------+------------+---------------------+------------+----------+---------+---------+-------------+----------+---------+-------------------+-------------+---------+\n",
      "|       1| 2017-01-01 00:00:12|  2017-01-01 00:12:53|              1|         1.70|         1|                 N|         125|          45|           2|        9.5|  0.5|    0.5|         0|           0|                  0.3|        10.8|       125|Manhattan|Hudson Sq|  Yellow Zone|        45|Manhattan|          Chinatown|  Yellow Zone|        0|\n",
      "|       2| 2017-01-01 00:01:00|  2017-01-01 00:23:03|              1|         5.91|         1|                 N|         125|          37|           1|         21|  0.5|    0.5|      4.46|           0|                  0.3|       26.76|       125|Manhattan|Hudson Sq|  Yellow Zone|        37| Brooklyn|     Bushwick South|    Boro Zone|        0|\n",
      "|       2| 2017-01-01 06:57:25|  2017-01-01 07:02:33|              1|         1.31|         1|                 N|         125|         249|           2|          6|    0|    0.5|         0|           0|                  0.3|         6.8|       125|Manhattan|Hudson Sq|  Yellow Zone|       249|Manhattan|       West Village|  Yellow Zone|        0|\n",
      "|       1| 2017-01-01 06:58:44|  2017-01-01 07:13:38|              2|         4.30|         1|                 N|         125|          17|           2|         16|    0|    0.5|         0|           0|                  0.3|        16.8|       125|Manhattan|Hudson Sq|  Yellow Zone|        17| Brooklyn|            Bedford|    Boro Zone|        0|\n",
      "|       2| 2017-01-01 07:13:56|  2017-01-01 07:20:25|              2|         1.62|         1|                 N|         125|         261|           1|          7|    0|    0.5|      2.34|           0|                  0.3|       10.14|       125|Manhattan|Hudson Sq|  Yellow Zone|       261|Manhattan| World Trade Center|  Yellow Zone|        0|\n",
      "|       2| 2017-01-01 07:28:04|  2017-01-01 07:55:11|              3|        18.55|         2|                 N|         125|         132|           1|         52|    0|    0.5|         0|           0|                  0.3|        52.8|       125|Manhattan|Hudson Sq|  Yellow Zone|       132|   Queens|        JFK Airport|     Airports|        0|\n",
      "|       2| 2017-01-01 07:34:38|  2017-01-01 07:54:12|              1|         5.74|         1|                 N|         125|          61|           2|       20.5|    0|    0.5|         0|           0|                  0.3|        21.3|       125|Manhattan|Hudson Sq|  Yellow Zone|        61| Brooklyn|Crown Heights North|    Boro Zone|        0|\n",
      "|       2| 2017-01-01 07:49:57|  2017-01-01 07:58:07|              2|         2.95|         1|                 N|         125|         162|           2|       10.5|    0|    0.5|         0|           0|                  0.3|        11.3|       125|Manhattan|Hudson Sq|  Yellow Zone|       162|Manhattan|       Midtown East|  Yellow Zone|        0|\n",
      "|       2| 2017-01-01 07:50:52|  2017-01-01 07:57:08|              5|         2.75|         1|                 N|         125|          48|           2|        9.5|    0|    0.5|         0|           0|                  0.3|        10.3|       125|Manhattan|Hudson Sq|  Yellow Zone|        48|Manhattan|       Clinton East|  Yellow Zone|        0|\n",
      "|       2| 2017-01-01 07:58:21|  2017-01-01 08:05:52|              2|         3.20|         1|                 N|         125|         161|           1|       10.5|    0|    0.5|      2.26|           0|                  0.3|       13.56|       125|Manhattan|Hudson Sq|  Yellow Zone|       161|Manhattan|     Midtown Center|  Yellow Zone|        0|\n",
      "+--------+--------------------+---------------------+---------------+-------------+----------+------------------+------------+------------+------------+-----------+-----+-------+----------+------------+---------------------+------------+----------+---------+---------+-------------+----------+---------+-------------------+-------------+---------+\n",
      "only showing top 10 rows\n",
      "\n"
     ]
    }
   ],
   "source": [
    "jan_2017.show(10)"
   ]
  },
  {
   "cell_type": "code",
   "execution_count": 16,
   "metadata": {},
   "outputs": [],
   "source": [
    "#splitting date and time into different columns, casting date into date type\n",
    "split_pickup_col = split(jan_2017['tpep_pickup_datetime'], ' ')\n",
    "split_dropoff_col = split(jan_2017['tpep_pickup_datetime'], ' ')\n",
    "jan_2017 = jan_2017.withColumn(\"PUDate\", split_pickup_col.getItem(0).cast(DateType()))\n",
    "jan_2017 = jan_2017.withColumn(\"PUTime\", split_pickup_col.getItem(1))\n",
    "jan_2017 = jan_2017.withColumn(\"DODate\", split_dropoff_col.getItem(0).cast(DateType()))\n",
    "jan_2017 = jan_2017.withColumn(\"DOTime\", split_dropoff_col.getItem(1))"
   ]
  },
  {
   "cell_type": "code",
   "execution_count": 17,
   "metadata": {},
   "outputs": [],
   "source": [
    "#splitting time into hour and minute; will round minute to nearest 5 minutes\n",
    "split_PUTime = split(jan_2017['PUTime'], ':')\n",
    "jan_2017 = jan_2017.withColumn(\"PUHour\", split_PUTime.getItem(0).cast(IntegerType()))\n",
    "jan_2017 = jan_2017.withColumn(\"PUMinute\", split_PUTime.getItem(1).cast(IntegerType()))\n",
    "\n",
    "split_DOTime = split(jan_2017['DOTime'], ':')\n",
    "jan_2017 = jan_2017.withColumn(\"DOHour\", split_DOTime.getItem(0).cast(IntegerType()))\n",
    "jan_2017 = jan_2017.withColumn(\"DOMinute\", split_DOTime.getItem(1).cast(IntegerType()))"
   ]
  },
  {
   "cell_type": "code",
   "execution_count": 19,
   "metadata": {},
   "outputs": [],
   "source": [
    "#rounding down mintue to closest 5 minute mark (computationally easier)\n",
    "jan_2017 = jan_2017.withColumn(\"DOMinute\", (jan_2017.DOMinute - jan_2017.DOMinute%5))\n",
    "jan_2017 = jan_2017.withColumn(\"PUMinute\", (jan_2017.PUMinute - jan_2017.PUMinute%5))"
   ]
  },
  {
   "cell_type": "code",
   "execution_count": 27,
   "metadata": {},
   "outputs": [],
   "source": [
    "#DOW gives you 1 (Monday) - 7 (Sunday)\n",
    "jan_2017 = jan_2017.withColumn(\"PU_DOW\",  date_format(jan_2017.PUDate, 'u').cast(ShortType()))\n",
    "jan_2017 = jan_2017.withColumn(\"DO_DOW\",  date_format(jan_2017.DODate, 'u').cast(ShortType()))"
   ]
  },
  {
   "cell_type": "code",
   "execution_count": 26,
   "metadata": {},
   "outputs": [],
   "source": [
    "#encoding if destination is a weekend\n",
    "jan_2017 = jan_2017.withColumn(\"Weekend\", \\\n",
    "                               F.when((jan_2017[\"PU_DOW\"] == 7) | \\\n",
    "                                      (jan_2017[\"PU_DOW\"] == 6) | \\\n",
    "                                      (jan_2017[\"DO_DOW\"] == 7) |\n",
    "                                      (jan_2017[\"PU_DOW\"] == 7),1).otherwise(0))"
   ]
  },
  {
   "cell_type": "code",
   "execution_count": null,
   "metadata": {},
   "outputs": [],
   "source": []
  },
  {
   "cell_type": "code",
   "execution_count": 30,
   "metadata": {},
   "outputs": [],
   "source": [
    "#casting data types to primitives\n",
    "\n",
    "#1= Creative Mobile Technologies, LLC; 2= VeriFone Inc.\n",
    "jan_2017 = jan_2017.withColumn(\"VendorID\", jan_2017[\"VendorID\"].cast(ShortType()))\n",
    "\n",
    "jan_2017 = jan_2017.withColumn(\"passenger_count\", jan_2017[\"passenger_count\"].cast(ShortType()))\n",
    "\n",
    "#in miles\n",
    "jan_2017 = jan_2017.withColumn(\"trip_distance\", jan_2017[\"trip_distance\"].cast(FloatType()))\n",
    "\n",
    "#1= Credit card\n",
    "#2= Cash\n",
    "#3= No charge\n",
    "#4= Dispute\n",
    "#5= Unknown\n",
    "#6= Voided trip\n",
    "jan_2017 = jan_2017.withColumn(\"payment_type\", jan_2017[\"payment_type\"].cast(ShortType()))\n",
    "jan_2017 = jan_2017.withColumn(\"fare_amount\", jan_2017[\"fare_amount\"].cast(FloatType()))\n",
    "\n",
    "#0.50 and $1 rush hour and overnight charges.\n",
    "jan_2017 = jan_2017.withColumn(\"extra\", jan_2017[\"extra\"].cast(FloatType()))\n",
    "#.50, automatic MTA charge\n",
    "jan_2017 = jan_2017.withColumn(\"mta_tax\", jan_2017[\"mta_tax\"].cast(FloatType()))\n",
    "\n",
    "\n",
    "jan_2017 = jan_2017.withColumn(\"tip_amount\", jan_2017[\"tip_amount\"].cast(FloatType()))\n",
    "jan_2017 = jan_2017.withColumn(\"tolls_amount\", jan_2017[\"tolls_amount\"].cast(FloatType()))\n",
    "jan_2017 = jan_2017.withColumn(\"improvement_surcharge\", jan_2017[\"improvement_surcharge\"].cast(FloatType()))\n",
    "jan_2017 = jan_2017.withColumn(\"total_amount\", jan_2017[\"total_amount\"].cast(FloatType()))\n",
    "\n",
    "\n",
    "jan_2017 = jan_2017.withColumn(\"RateCodeID\", jan_2017[\"RateCodeID\"].cast(ShortType()))\n",
    "#1= Standard rate\n",
    "#2=JFK -> $52 flat fare\n",
    "#3=Newark\n",
    "#4=Nassau or Westchester\n",
    "#5=Negotiated fare\n",
    "#6=Group ride"
   ]
  },
  {
   "cell_type": "code",
   "execution_count": 28,
   "metadata": {},
   "outputs": [
    {
     "name": "stdout",
     "output_type": "stream",
     "text": [
      "root\n",
      " |-- VendorID: short (nullable = true)\n",
      " |-- tpep_pickup_datetime: string (nullable = true)\n",
      " |-- tpep_dropoff_datetime: string (nullable = true)\n",
      " |-- passenger_count: short (nullable = true)\n",
      " |-- trip_distance: float (nullable = true)\n",
      " |-- RatecodeID: string (nullable = true)\n",
      " |-- store_and_fwd_flag: string (nullable = true)\n",
      " |-- PULocationID: string (nullable = true)\n",
      " |-- DOLocationID: string (nullable = true)\n",
      " |-- payment_type: short (nullable = true)\n",
      " |-- fare_amount: float (nullable = true)\n",
      " |-- extra: float (nullable = true)\n",
      " |-- mta_tax: float (nullable = true)\n",
      " |-- tip_amount: float (nullable = true)\n",
      " |-- tolls_amount: float (nullable = true)\n",
      " |-- improvement_surcharge: float (nullable = true)\n",
      " |-- total_amount: float (nullable = true)\n",
      " |-- LocationID: string (nullable = true)\n",
      " |-- PUBorough: string (nullable = true)\n",
      " |-- PUZone: string (nullable = true)\n",
      " |-- PUServiceZone: string (nullable = true)\n",
      " |-- LocationID: string (nullable = true)\n",
      " |-- DOBorough: string (nullable = true)\n",
      " |-- DOZone: string (nullable = true)\n",
      " |-- DOServiceZone: string (nullable = true)\n",
      " |-- AirportDO: integer (nullable = false)\n",
      " |-- PUDate: date (nullable = true)\n",
      " |-- PUTime: string (nullable = true)\n",
      " |-- DODate: date (nullable = true)\n",
      " |-- DOTime: string (nullable = true)\n",
      " |-- PUHour: integer (nullable = true)\n",
      " |-- PUMinute: integer (nullable = true)\n",
      " |-- DOHour: integer (nullable = true)\n",
      " |-- DOMinute: integer (nullable = true)\n",
      " |-- PU_DOW: short (nullable = true)\n",
      " |-- DO_DOW: short (nullable = true)\n",
      " |-- Weekend: integer (nullable = false)\n",
      "\n"
     ]
    }
   ],
   "source": [
    "jan_2017.printSchema()"
   ]
  },
  {
   "cell_type": "code",
   "execution_count": null,
   "metadata": {},
   "outputs": [],
   "source": []
  },
  {
   "cell_type": "code",
   "execution_count": 29,
   "metadata": {},
   "outputs": [],
   "source": [
    "#column for looking at average dollar/mile, will used for filtering: should be around $2.5 per mile according to MTA\n",
    "#use fare amount because tips can be large if generous \n",
    "jan_2017 = jan_2017.withColumn(\"cost_per_mile\", (jan_2017[\"fare_amount\"]/jan_2017[\"trip_distance\"]).cast(FloatType()))\n",
    "#column for looking at average miles per dollar, will be used for filtering: should be around 0.4 miles per dollar\n",
    "#use fare amount because tips can be large if generous \n",
    "jan_2017 = jan_2017.withColumn(\"miles_per_dollar\", (jan_2017[\"trip_distance\"]/jan_2017[\"fare_amount\"]).cast(FloatType()))\n",
    "\n",
    "#use fare amount because tips can be large if generous \n",
    "jan_2017 = jan_2017.withColumn(\"missing_money\", (jan_2017[\"total_amount\"]-jan_2017[\"fare_amount\"]-jan_2017[\"extra\"] \\\n",
    "                                                 - jan_2017[\"mta_tax\"] - jan_2017[\"tip_amount\"] - jan_2017[\"tolls_amount\"] \\\n",
    "                                                 - jan_2017[\"improvement_surcharge\"]).cast(FloatType()))\n",
    "                                                \n",
    "                                    "
   ]
  },
  {
   "cell_type": "code",
   "execution_count": 31,
   "metadata": {},
   "outputs": [
    {
     "name": "stdout",
     "output_type": "stream",
     "text": [
      "+-------+------------------+\n",
      "|summary|       fare_amount|\n",
      "+-------+------------------+\n",
      "|  count|           4992919|\n",
      "|   mean|12.063494577015529|\n",
      "| stddev|10.042401989316064|\n",
      "|    min|               2.5|\n",
      "|    max|             512.0|\n",
      "+-------+------------------+\n",
      "\n",
      "+-------+------------------+\n",
      "|summary|      DOLocationID|\n",
      "+-------+------------------+\n",
      "|  count|           4992919|\n",
      "|   mean|161.34633047321617|\n",
      "| stddev| 70.69606380549166|\n",
      "|    min|                 1|\n",
      "|    max|                99|\n",
      "+-------+------------------+\n",
      "\n"
     ]
    },
    {
     "data": {
      "text/plain": [
       "4992919"
      ]
     },
     "execution_count": 31,
     "metadata": {},
     "output_type": "execute_result"
    }
   ],
   "source": [
    "#basic fare cleaning, ensure that all values are above zero\n",
    "jan_2017 = jan_2017.filter(jan_2017.tip_amount >= 0)\n",
    "jan_2017 = jan_2017.filter(jan_2017.tolls_amount >= 0.0) \n",
    "jan_2017 = jan_2017.filter(jan_2017.total_amount >= 3.30)\n",
    "jan_2017 = jan_2017.filter(jan_2017.extra >= 0.00)\n",
    "jan_2017 = jan_2017.filter(jan_2017.cost_per_mile.isNotNull())\n",
    "\n",
    "\n",
    "#minimum fare amounts according to NYC Taxi data standards\n",
    "jan_2017 = jan_2017.filter((jan_2017.fare_amount >= 2.50))\n",
    "jan_2017 = jan_2017.filter(jan_2017.improvement_surcharge >= 0.3)\n",
    "jan_2017 = jan_2017.filter(jan_2017.mta_tax >= 0.5)\n",
    "\n",
    "#maximum fare amount, no (logical) fares were greater than 600 although some tips might be \n",
    "#jan_2017 = jan_2017.filter((jan_2017.fare_amount < 600.0))\n",
    "#all trips being filtered out of the max cost per mile going < 0.1 miles \n",
    "#there were MANY trips that had a cost per mile of 1733.3334 with the total trip distance being exactly 0.03 and the fare amount being exactly 52\n",
    "\n",
    "\n",
    "\n",
    "\n",
    "jan_2017.describe(\"fare_amount\").show()\n",
    "\n",
    "jan_2017.describe(\"DOLocationID\").show()\n",
    "\n",
    "jan_2017.count()\n",
    "#0.646167527% of trips invalidated using basic filters of fare amounts"
   ]
  },
  {
   "cell_type": "code",
   "execution_count": 32,
   "metadata": {},
   "outputs": [
    {
     "name": "stdout",
     "output_type": "stream",
     "text": [
      "+-------+--------------------+\n",
      "|summary|       missing_money|\n",
      "+-------+--------------------+\n",
      "|  count|             4992919|\n",
      "|   mean|0.004416116147229376|\n",
      "| stddev| 0.09976741859311734|\n",
      "|    min|        -1.603365E-5|\n",
      "|    max|            9.900002|\n",
      "+-------+--------------------+\n",
      "\n",
      "+-------------+\n",
      "|missing_money|\n",
      "+-------------+\n",
      "|     9.900002|\n",
      "|     9.900001|\n",
      "|     9.899997|\n",
      "|     9.899997|\n",
      "|    4.9500027|\n",
      "|    4.9500027|\n",
      "|    4.9500027|\n",
      "|    4.9500027|\n",
      "|    4.9500027|\n",
      "|    4.9500017|\n",
      "|    4.9500017|\n",
      "|    4.9500012|\n",
      "|    4.9500012|\n",
      "|    4.9500012|\n",
      "|    4.9500012|\n",
      "|    4.9500012|\n",
      "|    4.9500012|\n",
      "|    4.9500012|\n",
      "|    4.9500012|\n",
      "|     4.950001|\n",
      "|     4.950001|\n",
      "|     4.950001|\n",
      "|     4.950001|\n",
      "|     4.950001|\n",
      "|     4.950001|\n",
      "|     4.950001|\n",
      "|     4.950001|\n",
      "|     4.950001|\n",
      "|     4.950001|\n",
      "|     4.950001|\n",
      "|     4.950001|\n",
      "|     4.950001|\n",
      "|     4.950001|\n",
      "|     4.950001|\n",
      "|     4.950001|\n",
      "|     4.950001|\n",
      "|     4.950001|\n",
      "|     4.950001|\n",
      "|     4.950001|\n",
      "|     4.950001|\n",
      "|     4.950001|\n",
      "|     4.950001|\n",
      "|     4.950001|\n",
      "|     4.950001|\n",
      "|     4.950001|\n",
      "|     4.950001|\n",
      "|     4.950001|\n",
      "|     4.950001|\n",
      "|     4.950001|\n",
      "|     4.950001|\n",
      "+-------------+\n",
      "only showing top 50 rows\n",
      "\n"
     ]
    }
   ],
   "source": [
    "#missing money description\n",
    "jan_2017.describe(\"missing_money\").show()\n",
    "jan_2017.sort('missing_money', ascending=False).select([\"missing_money\"]).show(50)"
   ]
  },
  {
   "cell_type": "code",
   "execution_count": 33,
   "metadata": {},
   "outputs": [
    {
     "name": "stdout",
     "output_type": "stream",
     "text": [
      "+-----------+-------------+-------------+\n",
      "|fare_amount|trip_distance|cost_per_mile|\n",
      "+-----------+-------------+-------------+\n",
      "|      512.0|        112.0|     4.571429|\n",
      "|      400.0|       156.17|    2.5613115|\n",
      "|      400.0|         2.87|    139.37283|\n",
      "|      384.0|         82.7|     4.643289|\n",
      "|      366.0|        84.71|    4.3206234|\n",
      "|      360.0|         1.54|    233.76624|\n",
      "|      350.0|       139.17|    2.5149097|\n",
      "|      339.0|         70.9|     4.781382|\n",
      "|      310.0|        122.3|    2.5347505|\n",
      "|      307.0|        56.39|    5.4442277|\n",
      "|      300.0|        88.05|    3.4071548|\n",
      "|      300.0|         8.29|     36.18818|\n",
      "|      300.0|        38.06|     7.882291|\n",
      "|      300.0|        59.66|     5.028495|\n",
      "|      297.0|        68.83|    4.3149786|\n",
      "|     295.55|        30.51|     9.686988|\n",
      "|      293.0|        12.79|    22.908522|\n",
      "|      282.0|       109.95|    2.5648022|\n",
      "|      281.0|        69.57|    4.0390973|\n",
      "|      280.0|         55.1|      5.08167|\n",
      "|      279.0|        24.74|    11.277284|\n",
      "|      276.0|        61.45|    4.4914565|\n",
      "|      275.0|        63.98|    4.2982183|\n",
      "|      275.0|        52.48|    5.2400913|\n",
      "|     274.25|        54.86|     4.999089|\n",
      "|      272.0|          0.2|       1360.0|\n",
      "|      265.5|        57.18|     4.643232|\n",
      "|      262.0|         29.2|     8.972603|\n",
      "|      260.0|         0.18|    1444.4443|\n",
      "|      259.0|        28.02|     9.243398|\n",
      "|      255.0|        54.49|    4.6797576|\n",
      "|      255.0|        11.67|    21.850899|\n",
      "|      253.0|        10.56|    23.958332|\n",
      "|      250.0|        51.55|    4.8496604|\n",
      "|      250.0|        32.87|    7.6057196|\n",
      "|      250.0|        51.03|    4.8990793|\n",
      "|      250.0|         0.01|      25000.0|\n",
      "|      250.0|        47.27|    5.2887664|\n",
      "|      250.0|         1.61|     155.2795|\n",
      "|      249.5|        50.68|    4.9230466|\n",
      "|      247.0|         53.4|    4.6254683|\n",
      "|      244.5|        49.21|    4.9685025|\n",
      "|      242.0|        54.28|     4.458364|\n",
      "|      242.0|        36.17|     6.690628|\n",
      "|      241.5|        48.92|     4.936631|\n",
      "|      237.0|        50.65|    4.6791706|\n",
      "|      235.0|         0.01|      23500.0|\n",
      "|      235.0|        58.34|     4.028111|\n",
      "|      234.5|        51.44|     4.558709|\n",
      "|      234.0|        45.42|    5.1519156|\n",
      "+-----------+-------------+-------------+\n",
      "only showing top 50 rows\n",
      "\n"
     ]
    }
   ],
   "source": [
    "jan_2017.sort('fare_amount', ascending=False).select([\"fare_amount\", \"trip_distance\", \"cost_per_mile\"]).show(50)"
   ]
  },
  {
   "cell_type": "code",
   "execution_count": 34,
   "metadata": {},
   "outputs": [
    {
     "name": "stdout",
     "output_type": "stream",
     "text": [
      "+-----------+-------------+-------------+\n",
      "|fare_amount|trip_distance|cost_per_mile|\n",
      "+-----------+-------------+-------------+\n",
      "|        3.0|        173.2|  0.017321017|\n",
      "|      400.0|       156.17|    2.5613115|\n",
      "|      350.0|       139.17|    2.5149097|\n",
      "|      310.0|        122.3|    2.5347505|\n",
      "|       52.0|       122.25|   0.42535788|\n",
      "|      512.0|        112.0|     4.571429|\n",
      "|      282.0|       109.95|    2.5648022|\n",
      "|       52.0|       108.97|   0.47719556|\n",
      "|       52.0|         95.5|    0.5445026|\n",
      "|      300.0|        88.05|    3.4071548|\n",
      "|      200.0|        85.88|     2.328831|\n",
      "|      366.0|        84.71|    4.3206234|\n",
      "|      213.5|         83.5|    2.5568862|\n",
      "|      384.0|         82.7|     4.643289|\n",
      "|      215.5|        82.36|    2.6165614|\n",
      "|       52.0|         80.9|   0.64276886|\n",
      "|      222.0|        80.63|    2.7533178|\n",
      "|      150.0|        76.67|    1.9564368|\n",
      "|      150.0|         73.8|    2.0325203|\n",
      "|      220.0|         73.2|    3.0054646|\n",
      "|      220.0|         73.2|    3.0054646|\n",
      "|       52.0|        71.98|   0.72242284|\n",
      "|       52.0|        71.02|   0.73218817|\n",
      "|      339.0|         70.9|     4.781382|\n",
      "|      188.0|         70.8|    2.6553671|\n",
      "|      183.5|         70.6|    2.5991502|\n",
      "|      281.0|        69.57|    4.0390973|\n",
      "|      297.0|        68.83|    4.3149786|\n",
      "|      174.5|         66.9|    2.6083705|\n",
      "|      172.0|         66.5|     2.586466|\n",
      "|      200.0|        66.11|     3.025261|\n",
      "|      200.0|        65.58|    3.0497103|\n",
      "|       80.0|        65.44|    1.2224939|\n",
      "|      169.5|         64.7|    2.6197836|\n",
      "|      132.5|        64.56|    2.0523546|\n",
      "|      199.0|        64.55|    3.0828815|\n",
      "|      275.0|        63.98|    4.2982183|\n",
      "|      215.0|        63.55|     3.383163|\n",
      "|      172.5|        63.35|    2.7229676|\n",
      "|      217.5|         62.4|    3.4855769|\n",
      "|      233.0|         62.1|     3.752013|\n",
      "|      200.0|        61.64|    3.2446463|\n",
      "|      276.0|        61.45|    4.4914565|\n",
      "|      160.5|        61.24|     2.620836|\n",
      "|      161.0|        61.12|    2.6341624|\n",
      "|      157.0|        59.84|    2.6236632|\n",
      "|      300.0|        59.66|     5.028495|\n",
      "|       52.0|        59.11|    0.8797158|\n",
      "|      234.0|        58.54|    3.9972668|\n",
      "|      150.0|         58.5|    2.5641026|\n",
      "+-----------+-------------+-------------+\n",
      "only showing top 50 rows\n",
      "\n"
     ]
    }
   ],
   "source": [
    "jan_2017.sort('trip_distance', ascending=False).select([\"fare_amount\", \"trip_distance\", \"cost_per_mile\"]).show(50)"
   ]
  },
  {
   "cell_type": "code",
   "execution_count": 43,
   "metadata": {},
   "outputs": [
    {
     "name": "stdout",
     "output_type": "stream",
     "text": [
      "+-------+-----------------+\n",
      "|summary|    cost_per_mile|\n",
      "+-------+-----------------+\n",
      "|  count|          4992919|\n",
      "|   mean|6.475433751279496|\n",
      "| stddev|49.42269620379219|\n",
      "|    min|      0.017321017|\n",
      "|    max|          25000.0|\n",
      "+-------+-----------------+\n",
      "\n",
      "+-------+-------------------+\n",
      "|summary|   miles_per_dollar|\n",
      "+-------+-------------------+\n",
      "|  count|            4992919|\n",
      "|   mean| 0.1964336613874987|\n",
      "| stddev|0.08364914420765267|\n",
      "|    min|             4.0E-5|\n",
      "|    max|          57.733334|\n",
      "+-------+-------------------+\n",
      "\n"
     ]
    }
   ],
   "source": [
    "jan_2017.describe(\"cost_per_mile\").show()\n",
    "\n",
    "jan_2017.describe(\"miles_per_dollar\").show()"
   ]
  },
  {
   "cell_type": "code",
   "execution_count": 36,
   "metadata": {},
   "outputs": [
    {
     "name": "stdout",
     "output_type": "stream",
     "text": [
      "+-------+------------------+\n",
      "|summary|        tip_amount|\n",
      "+-------+------------------+\n",
      "|  count|           4992919|\n",
      "|   mean|1.6831354700390813|\n",
      "| stddev| 2.322129974152001|\n",
      "|    min|               0.0|\n",
      "|    max|            393.94|\n",
      "+-------+------------------+\n",
      "\n",
      "+----------+\n",
      "|tip_amount|\n",
      "+----------+\n",
      "|    393.94|\n",
      "|     371.0|\n",
      "|     366.0|\n",
      "|     306.0|\n",
      "|     300.0|\n",
      "|     260.0|\n",
      "|     258.0|\n",
      "|     243.7|\n",
      "|    222.64|\n",
      "|     220.0|\n",
      "|     219.7|\n",
      "|     201.1|\n",
      "|     200.0|\n",
      "|     200.0|\n",
      "|     192.0|\n",
      "|     190.7|\n",
      "|     190.0|\n",
      "|     187.0|\n",
      "|     186.2|\n",
      "|     150.0|\n",
      "|     125.7|\n",
      "|     125.0|\n",
      "|     115.0|\n",
      "|     115.0|\n",
      "|     115.0|\n",
      "|    111.49|\n",
      "|     110.0|\n",
      "|     110.0|\n",
      "|     108.0|\n",
      "|     106.0|\n",
      "|     102.1|\n",
      "|     101.0|\n",
      "|     100.0|\n",
      "|     100.0|\n",
      "|     100.0|\n",
      "|     100.0|\n",
      "|     100.0|\n",
      "|     100.0|\n",
      "|     100.0|\n",
      "|     100.0|\n",
      "|      97.0|\n",
      "|      95.0|\n",
      "|     91.23|\n",
      "|      90.0|\n",
      "|      90.0|\n",
      "|      89.0|\n",
      "|      88.0|\n",
      "|      88.0|\n",
      "|      85.0|\n",
      "|      85.0|\n",
      "+----------+\n",
      "only showing top 50 rows\n",
      "\n"
     ]
    }
   ],
   "source": [
    "jan_2017.describe(\"tip_amount\").show()\n",
    "jan_2017.sort('tip_amount', ascending=False).select(\"tip_amount\").show(50)"
   ]
  },
  {
   "cell_type": "code",
   "execution_count": 37,
   "metadata": {},
   "outputs": [
    {
     "name": "stdout",
     "output_type": "stream",
     "text": [
      "+----------------+-------------+-------------+------------+-----------+----------+------------+\n",
      "|miles_per_dollar|cost_per_mile|trip_distance|total_amount|fare_amount|tip_amount|tolls_amount|\n",
      "+----------------+-------------+-------------+------------+-----------+----------+------------+\n",
      "|          4.0E-5|      25000.0|         0.01|       270.8|      250.0|      20.0|         0.0|\n",
      "|     4.255319E-5|      23500.0|         0.01|      306.54|      235.0|     70.74|         0.0|\n",
      "|    5.5555553E-5|      18000.0|         0.01|       210.8|      180.0|      30.0|         0.0|\n",
      "|     6.060606E-5|      16500.0|         0.01|       165.8|      165.0|       0.0|         0.0|\n",
      "|     6.666667E-5|      15000.0|         0.01|       150.8|      150.0|       0.0|         0.0|\n",
      "|     6.666667E-5|      15000.0|         0.01|       150.8|      150.0|       0.0|         0.0|\n",
      "|     7.142857E-5|      14000.0|         0.01|       216.8|      140.0|      76.0|         0.0|\n",
      "|     7.407407E-5|      13500.0|         0.01|       150.8|      135.0|      15.0|         0.0|\n",
      "|    9.5238094E-5|      10500.0|         0.01|      126.96|      105.0|     21.16|         0.0|\n",
      "|          1.0E-4|      10000.0|         0.01|       100.8|      100.0|       0.0|         0.0|\n",
      "|    1.0869565E-4|       9200.0|         0.01|      120.64|       92.0|     27.84|         0.0|\n",
      "|   1.11111105E-4|       9000.0|         0.01|      108.96|       90.0|     18.16|         0.0|\n",
      "|   1.11111105E-4|       9000.0|         0.01|      108.96|       90.0|     18.16|         0.0|\n",
      "|    1.2499999E-4|       8000.0|         0.01|        90.8|       80.0|      10.0|         0.0|\n",
      "|    1.2499999E-4|       8000.0|         0.01|       80.81|       80.0|      0.01|         0.0|\n",
      "|    1.2499999E-4|       8000.0|         0.01|        80.8|       80.0|       0.0|         0.0|\n",
      "|    1.2903225E-4|       7750.0|         0.01|       93.96|       77.5|     15.66|         0.0|\n",
      "|    1.4705882E-4|       6800.0|         0.01|        68.8|       68.0|       0.0|         0.0|\n",
      "|    1.5384615E-4|       6500.0|         0.01|       78.96|       65.0|     13.16|         0.0|\n",
      "|    1.5873015E-4|       6300.0|         0.01|       76.56|       63.0|     12.76|         0.0|\n",
      "|    1.6129031E-4|       6200.0|         0.01|       75.36|       62.0|     12.56|         0.0|\n",
      "|    1.6393443E-4|       6100.0|         0.01|       74.16|       61.0|     12.36|         0.0|\n",
      "|    1.6666666E-4|       6000.0|         0.01|        60.8|       60.0|       0.0|         0.0|\n",
      "|    1.6666666E-4|       6000.0|         0.01|        70.8|       60.0|      10.0|         0.0|\n",
      "|    1.6666666E-4|       6000.0|         0.01|       72.96|       60.0|     12.16|         0.0|\n",
      "|    1.6666666E-4|       6000.0|         0.01|       72.96|       60.0|     12.16|         0.0|\n",
      "|    1.6949153E-4|       5900.0|         0.01|        69.8|       59.0|      10.0|         0.0|\n",
      "|    1.6949153E-4|       5900.0|         0.01|       71.76|       59.0|     11.96|         0.0|\n",
      "|    1.6949153E-4|       5900.0|         0.01|        69.8|       59.0|      10.0|         0.0|\n",
      "|    1.6949153E-4|       5900.0|         0.01|        67.0|       59.0|       7.2|         0.0|\n",
      "|    1.6949153E-4|       5900.0|         0.01|        69.8|       59.0|      10.0|         0.0|\n",
      "|    1.7241378E-4|       5800.0|         0.01|       70.56|       58.0|     11.76|         0.0|\n",
      "|    1.7241378E-4|       5800.0|         0.01|        73.5|       58.0|      14.7|         0.0|\n",
      "|    1.9230769E-4|       5200.0|         0.01|       70.01|       52.0|     11.67|        5.54|\n",
      "|    1.9230769E-4|       5200.0|         0.01|       70.01|       52.0|     11.67|        5.54|\n",
      "|    1.9230769E-4|       5200.0|         0.01|        52.8|       52.0|       0.0|         0.0|\n",
      "|    1.9230769E-4|       5200.0|         0.01|        52.8|       52.0|       0.0|         0.0|\n",
      "|    1.9230769E-4|       5200.0|         0.01|       54.75|       52.0|       0.0|         0.0|\n",
      "|    1.9230769E-4|       5200.0|         0.01|       78.36|       52.0|     13.06|        12.5|\n",
      "|    1.9230769E-4|       5200.0|         0.01|       58.34|       52.0|       0.0|        5.54|\n",
      "|    1.9230769E-4|       5200.0|         0.01|       65.34|       52.0|       7.0|        5.54|\n",
      "|    1.9230769E-4|       5200.0|         0.01|        52.8|       52.0|       0.0|         0.0|\n",
      "|    1.9230769E-4|       5200.0|         0.01|       72.92|       52.0|     14.58|        5.54|\n",
      "|    1.9230769E-4|       5200.0|         0.01|        52.8|       52.0|       0.0|         0.0|\n",
      "|    1.9230769E-4|       5200.0|         0.01|        52.8|       52.0|       0.0|         0.0|\n",
      "|    1.9230769E-4|       5200.0|         0.01|        52.8|       52.0|       0.0|         0.0|\n",
      "|    1.9230769E-4|       5200.0|         0.01|        57.8|       52.0|       5.0|         0.0|\n",
      "|    1.9230769E-4|       5200.0|         0.01|       72.92|       52.0|     14.58|        5.54|\n",
      "|    1.9230769E-4|       5200.0|         0.01|       81.69|       52.0|     18.85|        5.54|\n",
      "|    1.9230769E-4|       5200.0|         0.01|       60.34|       52.0|       2.0|        5.54|\n",
      "+----------------+-------------+-------------+------------+-----------+----------+------------+\n",
      "only showing top 50 rows\n",
      "\n"
     ]
    }
   ],
   "source": [
    "jan_2017.sort('cost_per_mile', ascending=False).select([\"miles_per_dollar\", \"cost_per_mile\", \"trip_distance\",  \"total_amount\",  \"fare_amount\", \"tip_amount\", \"tolls_amount\"]).show(50)\n",
    "#upper bound of cost per mile is currently  1733.34"
   ]
  },
  {
   "cell_type": "code",
   "execution_count": 38,
   "metadata": {},
   "outputs": [
    {
     "name": "stdout",
     "output_type": "stream",
     "text": [
      "+-------------+-------------+------------+-----------+-----+----------+------------+---------------------+\n",
      "|cost_per_mile|trip_distance|total_amount|fare_amount|extra|tip_amount|tolls_amount|improvement_surcharge|\n",
      "+-------------+-------------+------------+-----------+-----+----------+------------+---------------------+\n",
      "|  0.017321017|        173.2|         9.3|        3.0|  5.5|       0.0|         0.0|                  0.3|\n",
      "|  0.071633235|         34.9|       113.3|        2.5|  0.0|      20.0|        90.0|                  0.3|\n",
      "|   0.07575758|         33.0|         3.8|        2.5|  0.5|       0.0|         0.0|                  0.3|\n",
      "|   0.07911392|         31.6|         3.8|        2.5|  0.5|       0.0|         0.0|                  0.3|\n",
      "|   0.09225092|         27.1|       13.84|        2.5|  5.0|       0.0|        5.54|                  0.3|\n",
      "|   0.09960159|         25.1|         3.8|        2.5|  0.5|       0.0|         0.0|                  0.3|\n",
      "|    0.1059322|         23.6|         4.3|        2.5|  1.0|       0.0|         0.0|                  0.3|\n",
      "|   0.10683761|         23.4|         3.8|        2.5|  0.5|       0.0|         0.0|                  0.3|\n",
      "|   0.10822511|         23.1|         5.8|        2.5|  0.5|       2.0|         0.0|                  0.3|\n",
      "|   0.10822511|         23.1|         3.8|        2.5|  0.5|       0.0|         0.0|                  0.3|\n",
      "|   0.10964913|         22.8|         3.8|        2.5|  0.5|       0.0|         0.0|                  0.3|\n",
      "|   0.11111111|         22.5|         3.8|        2.5|  0.5|       0.0|         0.0|                  0.3|\n",
      "|   0.11792453|         21.2|         3.8|        2.5|  0.5|       0.0|         0.0|                  0.3|\n",
      "|   0.11904762|         21.0|         4.3|        2.5|  1.0|       0.0|         0.0|                  0.3|\n",
      "|  0.119617224|         20.9|         3.8|        2.5|  0.5|       0.0|         0.0|                  0.3|\n",
      "|   0.12254902|         20.4|         3.8|        2.5|  0.5|       0.0|         0.0|                  0.3|\n",
      "|   0.12315271|         20.3|        28.3|        2.5|  0.0|      25.0|         0.0|                  0.3|\n",
      "|   0.12315271|         20.3|         3.8|        2.5|  0.5|       0.0|         0.0|                  0.3|\n",
      "|   0.12437811|         20.1|         3.8|        2.5|  0.5|       0.0|         0.0|                  0.3|\n",
      "|   0.12626263|         19.8|         4.3|        2.5|  1.0|       0.0|         0.0|                  0.3|\n",
      "|   0.12626263|         19.8|         4.3|        2.5|  1.0|       0.0|         0.0|                  0.3|\n",
      "|   0.12690355|         19.7|         3.8|        2.5|  0.5|       0.0|         0.0|                  0.3|\n",
      "|   0.12690355|         19.7|         4.3|        2.5|  1.0|       0.0|         0.0|                  0.3|\n",
      "|   0.12755102|         19.6|         4.3|        2.5|  1.0|       0.0|         0.0|                  0.3|\n",
      "|   0.12953368|         19.3|         8.8|        2.5|  0.5|       5.0|         0.0|                  0.3|\n",
      "|   0.13089006|         19.1|         3.8|        2.5|  0.5|       0.0|         0.0|                  0.3|\n",
      "|   0.13157895|         19.0|         3.8|        2.5|  0.5|       0.0|         0.0|                  0.3|\n",
      "|   0.13227513|         18.9|         3.8|        2.5|  0.5|       0.0|         0.0|                  0.3|\n",
      "|   0.13227513|         18.9|         3.8|        2.5|  0.5|       0.0|         0.0|                  0.3|\n",
      "|   0.13227513|         18.9|         3.8|        2.5|  0.5|       0.0|         0.0|                  0.3|\n",
      "|   0.13227513|         18.9|         3.8|        2.5|  0.5|       0.0|         0.0|                  0.3|\n",
      "|   0.13333334|         22.5|         4.8|        3.0|  1.0|       0.0|         0.0|                  0.3|\n",
      "|   0.13368984|         18.7|         6.3|        2.5|  0.0|       3.0|         0.0|                  0.3|\n",
      "|   0.13368984|         18.7|         4.3|        2.5|  0.0|       1.0|         0.0|                  0.3|\n",
      "|    0.1344086|         18.6|         4.3|        2.5|  1.0|       0.0|         0.0|                  0.3|\n",
      "|    0.1344086|         18.6|         4.3|        2.5|  1.0|       0.0|         0.0|                  0.3|\n",
      "|   0.13513513|         18.5|         4.3|        2.5|  1.0|       0.0|         0.0|                  0.3|\n",
      "|   0.13586956|         18.4|        10.0|        2.5|  0.0|       6.7|         0.0|                  0.3|\n",
      "|   0.13586956|         18.4|         3.8|        2.5|  0.5|       0.0|         0.0|                  0.3|\n",
      "|    0.1388889|         18.0|         4.3|        2.5|  1.0|       0.0|         0.0|                  0.3|\n",
      "|   0.13966481|         17.9|         3.8|        2.5|  0.5|       0.0|         0.0|                  0.3|\n",
      "|   0.13966481|         17.9|         3.8|        2.5|  0.5|       0.0|         0.0|                  0.3|\n",
      "|   0.13966481|         17.9|         3.8|        2.5|  0.5|       0.0|         0.0|                  0.3|\n",
      "|   0.13966481|         17.9|         4.3|        2.5|  1.0|       0.0|         0.0|                  0.3|\n",
      "|   0.14044945|         17.8|         3.8|        2.5|  0.5|       0.0|         0.0|                  0.3|\n",
      "|   0.14044945|         17.8|         4.3|        2.5|  1.0|       0.0|         0.0|                  0.3|\n",
      "|   0.14124294|         17.7|         4.3|        2.5|  1.0|       0.0|         0.0|                  0.3|\n",
      "|   0.14124294|         17.7|        4.75|        2.5|  0.5|      0.95|         0.0|                  0.3|\n",
      "|   0.14204545|         17.6|         3.8|        2.5|  0.5|       0.0|         0.0|                  0.3|\n",
      "|   0.14204545|         17.6|        13.8|        2.5|  0.0|       0.0|        10.5|                  0.3|\n",
      "+-------------+-------------+------------+-----------+-----+----------+------------+---------------------+\n",
      "only showing top 50 rows\n",
      "\n"
     ]
    }
   ],
   "source": [
    "jan_2017.sort('cost_per_mile', ascending=True).select([\"cost_per_mile\", \"trip_distance\",  \"total_amount\",  \"fare_amount\",\"extra\", \"tip_amount\", \"tolls_amount\", \"improvement_surcharge\" ]).show(50)\n",
    "\n",
    "#lower bound of cost per mile is currently "
   ]
  },
  {
   "cell_type": "code",
   "execution_count": 39,
   "metadata": {},
   "outputs": [
    {
     "name": "stdout",
     "output_type": "stream",
     "text": [
      "+-------+------------------+\n",
      "|summary|      total_amount|\n",
      "+-------+------------------+\n",
      "|  count|           4992919|\n",
      "|   mean|  15.1093943040766|\n",
      "| stddev|12.363551155207466|\n",
      "|    min|              3.31|\n",
      "|    max|            930.34|\n",
      "+-------+------------------+\n",
      "\n",
      "+------------+\n",
      "|total_amount|\n",
      "+------------+\n",
      "|      930.34|\n",
      "|       611.3|\n",
      "|      608.34|\n",
      "|      608.24|\n",
      "|      592.84|\n",
      "|      590.22|\n",
      "|      538.84|\n",
      "|      534.88|\n",
      "|      518.34|\n",
      "|      446.74|\n",
      "|      432.96|\n",
      "|      425.04|\n",
      "|      419.37|\n",
      "|       400.8|\n",
      "|      387.34|\n",
      "|      380.14|\n",
      "|       378.8|\n",
      "|      378.41|\n",
      "|       377.8|\n",
      "|      372.36|\n",
      "|      372.34|\n",
      "|       358.8|\n",
      "|       350.8|\n",
      "|       349.3|\n",
      "|      344.05|\n",
      "|      343.06|\n",
      "|       339.8|\n",
      "|      335.76|\n",
      "|      331.89|\n",
      "|      320.38|\n",
      "|       320.3|\n",
      "|       316.8|\n",
      "|       310.8|\n",
      "|      306.54|\n",
      "|      306.34|\n",
      "|       306.3|\n",
      "|      304.01|\n",
      "|       300.8|\n",
      "|       300.8|\n",
      "|       300.3|\n",
      "|      298.63|\n",
      "|      298.01|\n",
      "|      294.95|\n",
      "|      294.84|\n",
      "|       294.8|\n",
      "|      291.05|\n",
      "|       290.8|\n",
      "|      290.21|\n",
      "|      289.61|\n",
      "|       286.8|\n",
      "+------------+\n",
      "only showing top 50 rows\n",
      "\n"
     ]
    }
   ],
   "source": [
    "jan_2017.describe(\"total_amount\").show()\n",
    "jan_2017.sort('total_amount', ascending=False).select(\"total_amount\").show(50)"
   ]
  },
  {
   "cell_type": "code",
   "execution_count": 40,
   "metadata": {},
   "outputs": [
    {
     "name": "stdout",
     "output_type": "stream",
     "text": [
      "+-------+---------------------+\n",
      "|summary|improvement_surcharge|\n",
      "+-------+---------------------+\n",
      "|  count|              4992919|\n",
      "|   mean|  0.30000001192092896|\n",
      "| stddev|                  0.0|\n",
      "|    min|                  0.3|\n",
      "|    max|                  0.3|\n",
      "+-------+---------------------+\n",
      "\n"
     ]
    }
   ],
   "source": [
    "jan_2017.describe(\"improvement_surcharge\").show()"
   ]
  },
  {
   "cell_type": "code",
   "execution_count": 41,
   "metadata": {},
   "outputs": [
    {
     "name": "stdout",
     "output_type": "stream",
     "text": [
      "+-------+------------------+\n",
      "|summary|     trip_distance|\n",
      "+-------+------------------+\n",
      "|  count|           4992919|\n",
      "|   mean|2.8367406499200527|\n",
      "| stddev|3.5843179181452034|\n",
      "|    min|              0.01|\n",
      "|    max|             173.2|\n",
      "+-------+------------------+\n",
      "\n",
      "+-------------+\n",
      "|trip_distance|\n",
      "+-------------+\n",
      "|        173.2|\n",
      "|       156.17|\n",
      "|       139.17|\n",
      "|        122.3|\n",
      "|       122.25|\n",
      "|        112.0|\n",
      "|       109.95|\n",
      "|       108.97|\n",
      "|         95.5|\n",
      "|        88.05|\n",
      "|        85.88|\n",
      "|        84.71|\n",
      "|         83.5|\n",
      "|         82.7|\n",
      "|        82.36|\n",
      "|         80.9|\n",
      "|        80.63|\n",
      "|        76.67|\n",
      "|         73.8|\n",
      "|         73.2|\n",
      "|         73.2|\n",
      "|        71.98|\n",
      "|        71.02|\n",
      "|         70.9|\n",
      "|         70.8|\n",
      "|         70.6|\n",
      "|        69.57|\n",
      "|        68.83|\n",
      "|         66.9|\n",
      "|         66.5|\n",
      "|        66.11|\n",
      "|        65.58|\n",
      "|        65.44|\n",
      "|         64.7|\n",
      "|        64.56|\n",
      "|        64.55|\n",
      "|        63.98|\n",
      "|        63.55|\n",
      "|        63.35|\n",
      "|         62.4|\n",
      "|         62.1|\n",
      "|        61.64|\n",
      "|        61.45|\n",
      "|        61.24|\n",
      "|        61.12|\n",
      "|        59.84|\n",
      "|        59.66|\n",
      "|        59.11|\n",
      "|        58.54|\n",
      "|         58.5|\n",
      "+-------------+\n",
      "only showing top 50 rows\n",
      "\n"
     ]
    }
   ],
   "source": [
    "jan_2017.describe(\"trip_distance\").show()\n",
    "jan_2017.sort('trip_distance', ascending=False).select(\"trip_distance\").show(50)"
   ]
  },
  {
   "cell_type": "code",
   "execution_count": 42,
   "metadata": {},
   "outputs": [
    {
     "name": "stdout",
     "output_type": "stream",
     "text": [
      "+--------------------+\n",
      "|tpep_pickup_datetime|\n",
      "+--------------------+\n",
      "| 2017-01-01 00:00:12|\n",
      "| 2017-01-01 00:01:00|\n",
      "| 2017-01-01 06:57:25|\n",
      "| 2017-01-01 06:58:44|\n",
      "| 2017-01-01 07:13:56|\n",
      "| 2017-01-01 07:28:04|\n",
      "| 2017-01-01 07:34:38|\n",
      "| 2017-01-01 07:49:57|\n",
      "| 2017-01-01 07:50:52|\n",
      "| 2017-01-01 07:58:21|\n",
      "+--------------------+\n",
      "only showing top 10 rows\n",
      "\n"
     ]
    }
   ],
   "source": [
    "jan_2017.select('tpep_pickup_datetime').show(10)"
   ]
  },
  {
   "cell_type": "code",
   "execution_count": 47,
   "metadata": {},
   "outputs": [
    {
     "name": "stdout",
     "output_type": "stream",
     "text": [
      "+----------+\n",
      "|    PUDate|\n",
      "+----------+\n",
      "|2017-01-06|\n",
      "|2017-01-30|\n",
      "|2017-01-04|\n",
      "|2017-01-10|\n",
      "|2017-01-21|\n",
      "|2017-01-05|\n",
      "|2017-01-13|\n",
      "|2017-01-01|\n",
      "|2017-01-20|\n",
      "|2017-01-11|\n",
      "|2017-01-17|\n",
      "|2017-01-19|\n",
      "|2017-01-08|\n",
      "|2017-01-07|\n",
      "|2017-01-12|\n",
      "|2017-01-31|\n",
      "|2017-01-16|\n",
      "|2017-01-09|\n",
      "|2017-01-22|\n",
      "|2017-01-15|\n",
      "+----------+\n",
      "only showing top 20 rows\n",
      "\n"
     ]
    }
   ],
   "source": [
    "jan_2017.select('PUDate').distinct().show()\n"
   ]
  },
  {
   "cell_type": "code",
   "execution_count": null,
   "metadata": {},
   "outputs": [],
   "source": []
  },
  {
   "cell_type": "code",
   "execution_count": null,
   "metadata": {},
   "outputs": [],
   "source": []
  }
 ],
 "metadata": {
  "kernelspec": {
   "display_name": "Python 3",
   "language": "python",
   "name": "python3"
  },
  "language_info": {
   "codemirror_mode": {
    "name": "ipython",
    "version": 3
   },
   "file_extension": ".py",
   "mimetype": "text/x-python",
   "name": "python",
   "nbconvert_exporter": "python",
   "pygments_lexer": "ipython3",
   "version": "3.6.4"
  }
 },
 "nbformat": 4,
 "nbformat_minor": 2
}
