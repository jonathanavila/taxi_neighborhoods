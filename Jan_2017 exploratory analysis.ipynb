{
 "cells": [
  {
   "cell_type": "code",
   "execution_count": 653,
   "metadata": {},
   "outputs": [
    {
     "name": "stdout",
     "output_type": "stream",
     "text": [
      "Requirement already up-to-date: scikit-learn in /opt/conda/lib/python3.6/site-packages\n",
      "\u001b[33mYou are using pip version 9.0.1, however version 10.0.1 is available.\n",
      "You should consider upgrading via the 'pip install --upgrade pip' command.\u001b[0m\n"
     ]
    }
   ],
   "source": [
    "! pip install -U scikit-learn"
   ]
  },
  {
   "cell_type": "code",
   "execution_count": 654,
   "metadata": {},
   "outputs": [],
   "source": [
    "import matplotlib.pyplot as plt \n",
    "from pyspark.sql import SparkSession\n",
    "from pyspark.sql.types import *\n",
    "import pyspark.sql.functions as F\n",
    "from pyspark.sql.functions import udf\n",
    "from pyspark.sql.functions import when\n",
    "from pyspark import SparkContext as sc\n",
    "from pyspark.sql.functions import col, split, ltrim, substring\n",
    "import pyspark.sql as SQL\n",
    "from pyspark.sql.functions import unix_timestamp, from_unixtime, date_format, \\\n",
    "        from_utc_timestamp, to_utc_timestamp, date_format, dayofmonth\n",
    "import datetime\n",
    "import calendar\n",
    "import pandas as pd\n",
    "from pyspark.ml.linalg import Vectors\n",
    "from pyspark.ml.regression import LinearRegression\n",
    "#from pyspark.ml.feature import OneHotEncoderEstimator\n"
   ]
  },
  {
   "cell_type": "code",
   "execution_count": 655,
   "metadata": {},
   "outputs": [],
   "source": [
    "spark = SparkSession.builder.appName('Jan-01').getOrCreate()"
   ]
  },
  {
   "cell_type": "code",
   "execution_count": 656,
   "metadata": {},
   "outputs": [],
   "source": [
    "# Download and decompress data into your Jupyter environment; abreviated jan 2017 data\n",
    "jan_2017 = spark.read.format(\"csv\").load('yellow_tripdata_half.csv', header = True).cache()"
   ]
  },
  {
   "cell_type": "code",
   "execution_count": 657,
   "metadata": {},
   "outputs": [],
   "source": [
    "#need to get two dataframes to merge on, or else get cartesian product error\n",
    "taxi_zone = spark.read.format(\"csv\").load('taxi+_zone_lookup.csv', header = True)\n",
    "taxi_zone2 = spark.read.format(\"csv\").load('taxi+_zone_lookup.csv', header = True)\n"
   ]
  },
  {
   "cell_type": "code",
   "execution_count": 658,
   "metadata": {
    "collapsed": true
   },
   "outputs": [
    {
     "name": "stdout",
     "output_type": "stream",
     "text": [
      "root\n",
      " |-- LocationID: string (nullable = true)\n",
      " |-- Borough: string (nullable = true)\n",
      " |-- Zone: string (nullable = true)\n",
      " |-- service_zone: string (nullable = true)\n",
      "\n"
     ]
    }
   ],
   "source": [
    "#taxi_zone.printSchema()"
   ]
  },
  {
   "cell_type": "code",
   "execution_count": 659,
   "metadata": {},
   "outputs": [],
   "source": [
    "#merging to get destination information\n",
    "jan_2017 = jan_2017.join(taxi_zone, jan_2017.PULocationID == taxi_zone.LocationID, \"left_outer\"). \\\n",
    "                withColumnRenamed(\"Borough\", \"PUBorough\").withColumnRenamed(\"Zone\", \"PUZone\").withColumnRenamed(\"service_zone\", \"PUServiceZone\").cache()"
   ]
  },
  {
   "cell_type": "code",
   "execution_count": 660,
   "metadata": {},
   "outputs": [],
   "source": [
    "#merging to get destination information\n",
    "jan_2017 = jan_2017.join(taxi_zone2, jan_2017.DOLocationID == taxi_zone2.LocationID, \"left_outer\"). \\\n",
    "                withColumnRenamed(\"Borough\", \"DOBorough\").withColumnRenamed(\"Zone\", \"DOZone\").withColumnRenamed(\"service_zone\", \"DOServiceZone\")"
   ]
  },
  {
   "cell_type": "code",
   "execution_count": 661,
   "metadata": {},
   "outputs": [],
   "source": [
    "#jan_2017 = jan_2017.drop(\"LocationID\")"
   ]
  },
  {
   "cell_type": "code",
   "execution_count": 662,
   "metadata": {},
   "outputs": [],
   "source": [
    "#encoding if destination is an aiport\n",
    "jan_2017 = jan_2017.withColumn(\"AirportDO\", \\\n",
    "                               F.when((jan_2017[\"DOLocationID\"] == '138' ) & \\\n",
    "                                      (jan_2017[\"DOLocationID\"] == '132'),1).otherwise(0))"
   ]
  },
  {
   "cell_type": "code",
   "execution_count": 663,
   "metadata": {},
   "outputs": [
    {
     "data": {
      "text/plain": [
       "5044667"
      ]
     },
     "execution_count": 663,
     "metadata": {},
     "output_type": "execute_result"
    }
   ],
   "source": [
    "#jan_2017.count()"
   ]
  },
  {
   "cell_type": "code",
   "execution_count": 664,
   "metadata": {},
   "outputs": [
    {
     "name": "stdout",
     "output_type": "stream",
     "text": [
      "root\n",
      " |-- VendorID: string (nullable = true)\n",
      " |-- tpep_pickup_datetime: string (nullable = true)\n",
      " |-- tpep_dropoff_datetime: string (nullable = true)\n",
      " |-- passenger_count: string (nullable = true)\n",
      " |-- trip_distance: string (nullable = true)\n",
      " |-- RatecodeID: string (nullable = true)\n",
      " |-- store_and_fwd_flag: string (nullable = true)\n",
      " |-- PULocationID: string (nullable = true)\n",
      " |-- DOLocationID: string (nullable = true)\n",
      " |-- payment_type: string (nullable = true)\n",
      " |-- fare_amount: string (nullable = true)\n",
      " |-- extra: string (nullable = true)\n",
      " |-- mta_tax: string (nullable = true)\n",
      " |-- tip_amount: string (nullable = true)\n",
      " |-- tolls_amount: string (nullable = true)\n",
      " |-- improvement_surcharge: string (nullable = true)\n",
      " |-- total_amount: string (nullable = true)\n",
      " |-- LocationID: string (nullable = true)\n",
      " |-- PUBorough: string (nullable = true)\n",
      " |-- PUZone: string (nullable = true)\n",
      " |-- PUServiceZone: string (nullable = true)\n",
      " |-- LocationID: string (nullable = true)\n",
      " |-- DOBorough: string (nullable = true)\n",
      " |-- DOZone: string (nullable = true)\n",
      " |-- DOServiceZone: string (nullable = true)\n",
      " |-- AirportDO: integer (nullable = false)\n",
      "\n"
     ]
    }
   ],
   "source": [
    "#jan_2017.printSchema()"
   ]
  },
  {
   "cell_type": "code",
   "execution_count": 665,
   "metadata": {},
   "outputs": [],
   "source": [
    "#jan_2017.show(10)"
   ]
  },
  {
   "cell_type": "code",
   "execution_count": 666,
   "metadata": {},
   "outputs": [],
   "source": [
    "#splitting date and time into different columns, casting date into date type\n",
    "split_pickup_col = split(jan_2017['tpep_pickup_datetime'], ' ')\n",
    "split_dropoff_col = split(jan_2017['tpep_pickup_datetime'], ' ')\n",
    "jan_2017 = jan_2017.withColumn(\"PUDate\", split_pickup_col.getItem(0).cast(DateType()))\n",
    "jan_2017 = jan_2017.withColumn(\"PUTime\", split_pickup_col.getItem(1))\n",
    "jan_2017 = jan_2017.withColumn(\"DODate\", split_dropoff_col.getItem(0).cast(DateType()))\n",
    "jan_2017 = jan_2017.withColumn(\"DOTime\", split_dropoff_col.getItem(1))"
   ]
  },
  {
   "cell_type": "code",
   "execution_count": 667,
   "metadata": {},
   "outputs": [],
   "source": [
    "#splitting time into hour and minute; will round minute to nearest 5 minutes\n",
    "split_PUTime = split(jan_2017['PUTime'], ':')\n",
    "jan_2017 = jan_2017.withColumn(\"PUHour\", split_PUTime.getItem(0).cast(IntegerType()))\n",
    "jan_2017 = jan_2017.withColumn(\"PUMinute\", split_PUTime.getItem(1).cast(IntegerType()))\n",
    "\n",
    "split_DOTime = split(jan_2017['DOTime'], ':')\n",
    "jan_2017 = jan_2017.withColumn(\"DOHour\", split_DOTime.getItem(0).cast(IntegerType()))\n",
    "jan_2017 = jan_2017.withColumn(\"DOMinute\", split_DOTime.getItem(1).cast(IntegerType()))"
   ]
  },
  {
   "cell_type": "code",
   "execution_count": 668,
   "metadata": {},
   "outputs": [],
   "source": [
    "#rounding down mintue to closest 5 minute mark (computationally easier)\n",
    "jan_2017 = jan_2017.withColumn(\"DOMinute\", (jan_2017.DOMinute - jan_2017.DOMinute%5))\n",
    "jan_2017 = jan_2017.withColumn(\"PUMinute\", (jan_2017.PUMinute - jan_2017.PUMinute%5))"
   ]
  },
  {
   "cell_type": "code",
   "execution_count": 669,
   "metadata": {},
   "outputs": [],
   "source": [
    "#DOW gives you 1 (Monday) - 7 (Sunday)\n",
    "jan_2017 = jan_2017.withColumn(\"PU_DOW\",  date_format(jan_2017.PUDate, 'u').cast(ShortType()))\n",
    "jan_2017 = jan_2017.withColumn(\"DO_DOW\",  date_format(jan_2017.DODate, 'u').cast(ShortType()))"
   ]
  },
  {
   "cell_type": "code",
   "execution_count": 670,
   "metadata": {},
   "outputs": [],
   "source": [
    "#encoding if destination is a weekend\n",
    "jan_2017 = jan_2017.withColumn(\"Weekend\", \\\n",
    "                               F.when((jan_2017[\"PU_DOW\"] == 7) | \\\n",
    "                                      (jan_2017[\"PU_DOW\"] == 6) | \\\n",
    "                                      (jan_2017[\"DO_DOW\"] == 7) |\n",
    "                                      (jan_2017[\"PU_DOW\"] == 7),1).otherwise(0))"
   ]
  },
  {
   "cell_type": "code",
   "execution_count": 671,
   "metadata": {},
   "outputs": [],
   "source": [
    "#casting data types to primitives\n",
    "\n",
    "#1= Creative Mobile Technologies, LLC; 2= VeriFone Inc.\n",
    "jan_2017 = jan_2017.withColumn(\"VendorID\", jan_2017[\"VendorID\"].cast(ShortType()))\n",
    "\n",
    "jan_2017 = jan_2017.withColumn(\"passenger_count\", jan_2017[\"passenger_count\"].cast(ShortType()))\n",
    "\n",
    "#in miles\n",
    "jan_2017 = jan_2017.withColumn(\"trip_distance\", jan_2017[\"trip_distance\"].cast(FloatType()))\n",
    "\n",
    "#1= Credit card\n",
    "#2= Cash\n",
    "#3= No charge\n",
    "#4= Dispute\n",
    "#5= Unknown\n",
    "#6= Voided trip\n",
    "jan_2017 = jan_2017.withColumn(\"payment_type\", jan_2017[\"payment_type\"].cast(ShortType()))\n",
    "jan_2017 = jan_2017.withColumn(\"fare_amount\", jan_2017[\"fare_amount\"].cast(FloatType()))\n",
    "\n",
    "#0.50 and $1 rush hour and overnight charges.\n",
    "jan_2017 = jan_2017.withColumn(\"extra\", jan_2017[\"extra\"].cast(FloatType()))\n",
    "#.50, automatic MTA charge\n",
    "jan_2017 = jan_2017.withColumn(\"mta_tax\", jan_2017[\"mta_tax\"].cast(FloatType()))\n",
    "\n",
    "\n",
    "jan_2017 = jan_2017.withColumn(\"tip_amount\", jan_2017[\"tip_amount\"].cast(FloatType()))\n",
    "jan_2017 = jan_2017.withColumn(\"tolls_amount\", jan_2017[\"tolls_amount\"].cast(FloatType()))\n",
    "jan_2017 = jan_2017.withColumn(\"improvement_surcharge\", jan_2017[\"improvement_surcharge\"].cast(FloatType()))\n",
    "jan_2017 = jan_2017.withColumn(\"total_amount\", jan_2017[\"total_amount\"].cast(FloatType()))\n",
    "\n",
    "\n",
    "jan_2017 = jan_2017.withColumn(\"RateCodeID\", jan_2017[\"RateCodeID\"].cast(ShortType()))\n",
    "#1= Standard rate\n",
    "#2=JFK -> $52 flat fare\n",
    "#3=Newark\n",
    "#4=Nassau or Westchester\n",
    "#5=Negotiated fare\n",
    "#6=Group ride"
   ]
  },
  {
   "cell_type": "code",
   "execution_count": 672,
   "metadata": {},
   "outputs": [],
   "source": [
    "#column for looking at average dollar/mile, will used for filtering: should be around $2.5 per mile according to MTA\n",
    "#use fare amount because tips can be large if generous \n",
    "jan_2017 = jan_2017.withColumn(\"cost_per_mile\", (jan_2017[\"fare_amount\"]/jan_2017[\"trip_distance\"]).cast(FloatType()))\n",
    "#column for looking at average miles per dollar, will be used for filtering: should be around 0.4 miles per dollar\n",
    "#use fare amount because tips can be large if generous \n",
    "jan_2017 = jan_2017.withColumn(\"miles_per_dollar\", (jan_2017[\"trip_distance\"]/jan_2017[\"fare_amount\"]).cast(FloatType()))\n",
    "\n",
    "#use fare amount because tips can be large if generous \n",
    "jan_2017 = jan_2017.withColumn(\"missing_money\", (jan_2017[\"total_amount\"]-jan_2017[\"fare_amount\"]-jan_2017[\"extra\"] \\\n",
    "                                                 - jan_2017[\"mta_tax\"] - jan_2017[\"tip_amount\"] - jan_2017[\"tolls_amount\"] \\\n",
    "                                                 - jan_2017[\"improvement_surcharge\"]).cast(FloatType()))\n",
    "                                                \n",
    "                                    "
   ]
  },
  {
   "cell_type": "code",
   "execution_count": 673,
   "metadata": {},
   "outputs": [],
   "source": [
    "#basic fare cleaning, ensure that all values are above zero\n",
    "jan_2017 = jan_2017.filter(jan_2017.tip_amount >= 0)\n",
    "jan_2017 = jan_2017.filter(jan_2017.tolls_amount >= 0.0) \n",
    "jan_2017 = jan_2017.filter(jan_2017.total_amount >= 3.30)\n",
    "jan_2017 = jan_2017.filter(jan_2017.extra >= 0.00)\n",
    "jan_2017 = jan_2017.filter(jan_2017.cost_per_mile.isNotNull())\n",
    "\n",
    "\n",
    "#minimum fare amounts according to NYC Taxi data standards\n",
    "jan_2017 = jan_2017.filter((jan_2017.fare_amount >= 2.50))\n",
    "jan_2017 = jan_2017.filter(jan_2017.improvement_surcharge >= 0.3)\n",
    "jan_2017 = jan_2017.filter(jan_2017.mta_tax >= 0.5)\n",
    "\n",
    "#maximum fare amount, no (logical) fares were greater than 600 although some tips might be \n",
    "#jan_2017 = jan_2017.filter((jan_2017.fare_amount < 600.0))\n",
    "#all trips being filtered out of the max cost per mile going < 0.1 miles \n",
    "#there were MANY trips that had a cost per mile of 1733.3334 with the total trip distance being exactly 0.03 and the fare amount being exactly 52\n",
    "\n",
    "\n",
    "\n",
    "\n",
    "#jan_2017.describe(\"fare_amount\").show()\n",
    "\n",
    "#jan_2017.describe(\"DOLocationID\").show()\n",
    "\n",
    "#jan_2017.count()\n",
    "#0.646167527% of trips invalidated using basic filters of fare amounts"
   ]
  },
  {
   "cell_type": "code",
   "execution_count": 674,
   "metadata": {},
   "outputs": [],
   "source": [
    "#missing money description\n",
    "#jan_2017.describe(\"missing_money\").show()\n",
    "#jan_2017.sort('missing_money', ascending=False).select([\"missing_money\"]).show(50)"
   ]
  },
  {
   "cell_type": "code",
   "execution_count": 675,
   "metadata": {},
   "outputs": [],
   "source": [
    "#jan_2017.sort('fare_amount', ascending=False).select([\"fare_amount\", \"trip_distance\", \"cost_per_mile\"]).show(50)"
   ]
  },
  {
   "cell_type": "code",
   "execution_count": 676,
   "metadata": {},
   "outputs": [],
   "source": [
    "#jan_2017.sort('trip_distance', ascending=False).select([\"fare_amount\", \"trip_distance\", \"cost_per_mile\"]).show(50)"
   ]
  },
  {
   "cell_type": "code",
   "execution_count": 677,
   "metadata": {},
   "outputs": [],
   "source": [
    "#jan_2017.describe(\"cost_per_mile\").show()\n",
    "\n",
    "#jan_2017.describe(\"miles_per_dollar\").show()"
   ]
  },
  {
   "cell_type": "code",
   "execution_count": 678,
   "metadata": {},
   "outputs": [],
   "source": [
    "#jan_2017.describe(\"tip_amount\").show()\n",
    "#jan_2017.sort('tip_amount', ascending=False).select(\"tip_amount\").show(50)"
   ]
  },
  {
   "cell_type": "code",
   "execution_count": 679,
   "metadata": {},
   "outputs": [
    {
     "name": "stdout",
     "output_type": "stream",
     "text": [
      "+----------------+-------------+-------------+------------+-----------+----------+------------+\n",
      "|miles_per_dollar|cost_per_mile|trip_distance|total_amount|fare_amount|tip_amount|tolls_amount|\n",
      "+----------------+-------------+-------------+------------+-----------+----------+------------+\n",
      "|          4.0E-5|      25000.0|         0.01|       270.8|      250.0|      20.0|         0.0|\n",
      "|     4.255319E-5|      23500.0|         0.01|      306.54|      235.0|     70.74|         0.0|\n",
      "|    5.5555553E-5|      18000.0|         0.01|       210.8|      180.0|      30.0|         0.0|\n",
      "|     6.060606E-5|      16500.0|         0.01|       165.8|      165.0|       0.0|         0.0|\n",
      "|     6.666667E-5|      15000.0|         0.01|       150.8|      150.0|       0.0|         0.0|\n",
      "|     6.666667E-5|      15000.0|         0.01|       150.8|      150.0|       0.0|         0.0|\n",
      "|     7.142857E-5|      14000.0|         0.01|       216.8|      140.0|      76.0|         0.0|\n",
      "|     7.407407E-5|      13500.0|         0.01|       150.8|      135.0|      15.0|         0.0|\n",
      "|    9.5238094E-5|      10500.0|         0.01|      126.96|      105.0|     21.16|         0.0|\n",
      "|          1.0E-4|      10000.0|         0.01|       100.8|      100.0|       0.0|         0.0|\n",
      "|    1.0869565E-4|       9200.0|         0.01|      120.64|       92.0|     27.84|         0.0|\n",
      "|   1.11111105E-4|       9000.0|         0.01|      108.96|       90.0|     18.16|         0.0|\n",
      "|   1.11111105E-4|       9000.0|         0.01|      108.96|       90.0|     18.16|         0.0|\n",
      "|    1.2499999E-4|       8000.0|         0.01|        90.8|       80.0|      10.0|         0.0|\n",
      "|    1.2499999E-4|       8000.0|         0.01|       80.81|       80.0|      0.01|         0.0|\n",
      "|    1.2499999E-4|       8000.0|         0.01|        80.8|       80.0|       0.0|         0.0|\n",
      "|    1.2903225E-4|       7750.0|         0.01|       93.96|       77.5|     15.66|         0.0|\n",
      "|    1.4705882E-4|       6800.0|         0.01|        68.8|       68.0|       0.0|         0.0|\n",
      "|    1.5384615E-4|       6500.0|         0.01|       78.96|       65.0|     13.16|         0.0|\n",
      "|    1.5873015E-4|       6300.0|         0.01|       76.56|       63.0|     12.76|         0.0|\n",
      "|    1.6129031E-4|       6200.0|         0.01|       75.36|       62.0|     12.56|         0.0|\n",
      "|    1.6393443E-4|       6100.0|         0.01|       74.16|       61.0|     12.36|         0.0|\n",
      "|    1.6666666E-4|       6000.0|         0.01|        60.8|       60.0|       0.0|         0.0|\n",
      "|    1.6666666E-4|       6000.0|         0.01|        70.8|       60.0|      10.0|         0.0|\n",
      "|    1.6666666E-4|       6000.0|         0.01|       72.96|       60.0|     12.16|         0.0|\n",
      "|    1.6666666E-4|       6000.0|         0.01|       72.96|       60.0|     12.16|         0.0|\n",
      "|    1.6949153E-4|       5900.0|         0.01|        69.8|       59.0|      10.0|         0.0|\n",
      "|    1.6949153E-4|       5900.0|         0.01|       71.76|       59.0|     11.96|         0.0|\n",
      "|    1.6949153E-4|       5900.0|         0.01|        69.8|       59.0|      10.0|         0.0|\n",
      "|    1.6949153E-4|       5900.0|         0.01|        67.0|       59.0|       7.2|         0.0|\n",
      "|    1.6949153E-4|       5900.0|         0.01|        69.8|       59.0|      10.0|         0.0|\n",
      "|    1.7241378E-4|       5800.0|         0.01|       70.56|       58.0|     11.76|         0.0|\n",
      "|    1.7241378E-4|       5800.0|         0.01|        73.5|       58.0|      14.7|         0.0|\n",
      "|    1.9230769E-4|       5200.0|         0.01|       70.01|       52.0|     11.67|        5.54|\n",
      "|    1.9230769E-4|       5200.0|         0.01|       70.01|       52.0|     11.67|        5.54|\n",
      "|    1.9230769E-4|       5200.0|         0.01|        52.8|       52.0|       0.0|         0.0|\n",
      "|    1.9230769E-4|       5200.0|         0.01|        52.8|       52.0|       0.0|         0.0|\n",
      "|    1.9230769E-4|       5200.0|         0.01|       54.75|       52.0|       0.0|         0.0|\n",
      "|    1.9230769E-4|       5200.0|         0.01|       78.36|       52.0|     13.06|        12.5|\n",
      "|    1.9230769E-4|       5200.0|         0.01|       58.34|       52.0|       0.0|        5.54|\n",
      "|    1.9230769E-4|       5200.0|         0.01|       65.34|       52.0|       7.0|        5.54|\n",
      "|    1.9230769E-4|       5200.0|         0.01|        52.8|       52.0|       0.0|         0.0|\n",
      "|    1.9230769E-4|       5200.0|         0.01|       72.92|       52.0|     14.58|        5.54|\n",
      "|    1.9230769E-4|       5200.0|         0.01|        52.8|       52.0|       0.0|         0.0|\n",
      "|    1.9230769E-4|       5200.0|         0.01|        52.8|       52.0|       0.0|         0.0|\n",
      "|    1.9230769E-4|       5200.0|         0.01|        52.8|       52.0|       0.0|         0.0|\n",
      "|    1.9230769E-4|       5200.0|         0.01|        57.8|       52.0|       5.0|         0.0|\n",
      "|    1.9230769E-4|       5200.0|         0.01|       72.92|       52.0|     14.58|        5.54|\n",
      "|    1.9230769E-4|       5200.0|         0.01|       81.69|       52.0|     18.85|        5.54|\n",
      "|    1.9230769E-4|       5200.0|         0.01|       60.34|       52.0|       2.0|        5.54|\n",
      "+----------------+-------------+-------------+------------+-----------+----------+------------+\n",
      "only showing top 50 rows\n",
      "\n"
     ]
    }
   ],
   "source": [
    "#jan_2017.sort('cost_per_mile', ascending=False).select([\"miles_per_dollar\", \"cost_per_mile\", \"trip_distance\",  \"total_amount\",  \"fare_amount\", \"tip_amount\", \"tolls_amount\"]).show(50)\n",
    "#upper bound of cost per mile is currently  1733.34"
   ]
  },
  {
   "cell_type": "code",
   "execution_count": 680,
   "metadata": {},
   "outputs": [
    {
     "name": "stdout",
     "output_type": "stream",
     "text": [
      "+-------------+-------------+------------+-----------+-----+----------+------------+---------------------+\n",
      "|cost_per_mile|trip_distance|total_amount|fare_amount|extra|tip_amount|tolls_amount|improvement_surcharge|\n",
      "+-------------+-------------+------------+-----------+-----+----------+------------+---------------------+\n",
      "|  0.017321017|        173.2|         9.3|        3.0|  5.5|       0.0|         0.0|                  0.3|\n",
      "|  0.071633235|         34.9|       113.3|        2.5|  0.0|      20.0|        90.0|                  0.3|\n",
      "|   0.07575758|         33.0|         3.8|        2.5|  0.5|       0.0|         0.0|                  0.3|\n",
      "|   0.07911392|         31.6|         3.8|        2.5|  0.5|       0.0|         0.0|                  0.3|\n",
      "|   0.09225092|         27.1|       13.84|        2.5|  5.0|       0.0|        5.54|                  0.3|\n",
      "|   0.09960159|         25.1|         3.8|        2.5|  0.5|       0.0|         0.0|                  0.3|\n",
      "|    0.1059322|         23.6|         4.3|        2.5|  1.0|       0.0|         0.0|                  0.3|\n",
      "|   0.10683761|         23.4|         3.8|        2.5|  0.5|       0.0|         0.0|                  0.3|\n",
      "|   0.10822511|         23.1|         5.8|        2.5|  0.5|       2.0|         0.0|                  0.3|\n",
      "|   0.10822511|         23.1|         3.8|        2.5|  0.5|       0.0|         0.0|                  0.3|\n",
      "|   0.10964913|         22.8|         3.8|        2.5|  0.5|       0.0|         0.0|                  0.3|\n",
      "|   0.11111111|         22.5|         3.8|        2.5|  0.5|       0.0|         0.0|                  0.3|\n",
      "|   0.11792453|         21.2|         3.8|        2.5|  0.5|       0.0|         0.0|                  0.3|\n",
      "|   0.11904762|         21.0|         4.3|        2.5|  1.0|       0.0|         0.0|                  0.3|\n",
      "|  0.119617224|         20.9|         3.8|        2.5|  0.5|       0.0|         0.0|                  0.3|\n",
      "|   0.12254902|         20.4|         3.8|        2.5|  0.5|       0.0|         0.0|                  0.3|\n",
      "|   0.12315271|         20.3|        28.3|        2.5|  0.0|      25.0|         0.0|                  0.3|\n",
      "|   0.12315271|         20.3|         3.8|        2.5|  0.5|       0.0|         0.0|                  0.3|\n",
      "|   0.12437811|         20.1|         3.8|        2.5|  0.5|       0.0|         0.0|                  0.3|\n",
      "|   0.12626263|         19.8|         4.3|        2.5|  1.0|       0.0|         0.0|                  0.3|\n",
      "|   0.12626263|         19.8|         4.3|        2.5|  1.0|       0.0|         0.0|                  0.3|\n",
      "|   0.12690355|         19.7|         3.8|        2.5|  0.5|       0.0|         0.0|                  0.3|\n",
      "|   0.12690355|         19.7|         4.3|        2.5|  1.0|       0.0|         0.0|                  0.3|\n",
      "|   0.12755102|         19.6|         4.3|        2.5|  1.0|       0.0|         0.0|                  0.3|\n",
      "|   0.12953368|         19.3|         8.8|        2.5|  0.5|       5.0|         0.0|                  0.3|\n",
      "|   0.13089006|         19.1|         3.8|        2.5|  0.5|       0.0|         0.0|                  0.3|\n",
      "|   0.13157895|         19.0|         3.8|        2.5|  0.5|       0.0|         0.0|                  0.3|\n",
      "|   0.13227513|         18.9|         3.8|        2.5|  0.5|       0.0|         0.0|                  0.3|\n",
      "|   0.13227513|         18.9|         3.8|        2.5|  0.5|       0.0|         0.0|                  0.3|\n",
      "|   0.13227513|         18.9|         3.8|        2.5|  0.5|       0.0|         0.0|                  0.3|\n",
      "|   0.13227513|         18.9|         3.8|        2.5|  0.5|       0.0|         0.0|                  0.3|\n",
      "|   0.13333334|         22.5|         4.8|        3.0|  1.0|       0.0|         0.0|                  0.3|\n",
      "|   0.13368984|         18.7|         6.3|        2.5|  0.0|       3.0|         0.0|                  0.3|\n",
      "|   0.13368984|         18.7|         4.3|        2.5|  0.0|       1.0|         0.0|                  0.3|\n",
      "|    0.1344086|         18.6|         4.3|        2.5|  1.0|       0.0|         0.0|                  0.3|\n",
      "|    0.1344086|         18.6|         4.3|        2.5|  1.0|       0.0|         0.0|                  0.3|\n",
      "|   0.13513513|         18.5|         4.3|        2.5|  1.0|       0.0|         0.0|                  0.3|\n",
      "|   0.13586956|         18.4|        10.0|        2.5|  0.0|       6.7|         0.0|                  0.3|\n",
      "|   0.13586956|         18.4|         3.8|        2.5|  0.5|       0.0|         0.0|                  0.3|\n",
      "|    0.1388889|         18.0|         4.3|        2.5|  1.0|       0.0|         0.0|                  0.3|\n",
      "|   0.13966481|         17.9|         3.8|        2.5|  0.5|       0.0|         0.0|                  0.3|\n",
      "|   0.13966481|         17.9|         3.8|        2.5|  0.5|       0.0|         0.0|                  0.3|\n",
      "|   0.13966481|         17.9|         3.8|        2.5|  0.5|       0.0|         0.0|                  0.3|\n",
      "|   0.13966481|         17.9|         4.3|        2.5|  1.0|       0.0|         0.0|                  0.3|\n",
      "|   0.14044945|         17.8|         3.8|        2.5|  0.5|       0.0|         0.0|                  0.3|\n",
      "|   0.14044945|         17.8|         4.3|        2.5|  1.0|       0.0|         0.0|                  0.3|\n",
      "|   0.14124294|         17.7|         4.3|        2.5|  1.0|       0.0|         0.0|                  0.3|\n",
      "|   0.14124294|         17.7|        4.75|        2.5|  0.5|      0.95|         0.0|                  0.3|\n",
      "|   0.14204545|         17.6|         3.8|        2.5|  0.5|       0.0|         0.0|                  0.3|\n",
      "|   0.14204545|         17.6|        13.8|        2.5|  0.0|       0.0|        10.5|                  0.3|\n",
      "+-------------+-------------+------------+-----------+-----+----------+------------+---------------------+\n",
      "only showing top 50 rows\n",
      "\n"
     ]
    }
   ],
   "source": [
    "#jan_2017.sort('cost_per_mile', ascending=True).select([\"cost_per_mile\", \"trip_distance\",  \"total_amount\",  \"fare_amount\",\"extra\", \"tip_amount\", \"tolls_amount\", \"improvement_surcharge\" ]).show(50)\n",
    "\n",
    "#lower bound of cost per mile is currently "
   ]
  },
  {
   "cell_type": "code",
   "execution_count": 681,
   "metadata": {},
   "outputs": [
    {
     "name": "stdout",
     "output_type": "stream",
     "text": [
      "+-------+------------------+\n",
      "|summary|      total_amount|\n",
      "+-------+------------------+\n",
      "|  count|           4992919|\n",
      "|   mean|  15.1093943040766|\n",
      "| stddev|12.363551155207466|\n",
      "|    min|              3.31|\n",
      "|    max|            930.34|\n",
      "+-------+------------------+\n",
      "\n",
      "+------------+\n",
      "|total_amount|\n",
      "+------------+\n",
      "|      930.34|\n",
      "|       611.3|\n",
      "|      608.34|\n",
      "|      608.24|\n",
      "|      592.84|\n",
      "|      590.22|\n",
      "|      538.84|\n",
      "|      534.88|\n",
      "|      518.34|\n",
      "|      446.74|\n",
      "|      432.96|\n",
      "|      425.04|\n",
      "|      419.37|\n",
      "|       400.8|\n",
      "|      387.34|\n",
      "|      380.14|\n",
      "|       378.8|\n",
      "|      378.41|\n",
      "|       377.8|\n",
      "|      372.36|\n",
      "|      372.34|\n",
      "|       358.8|\n",
      "|       350.8|\n",
      "|       349.3|\n",
      "|      344.05|\n",
      "|      343.06|\n",
      "|       339.8|\n",
      "|      335.76|\n",
      "|      331.89|\n",
      "|      320.38|\n",
      "|       320.3|\n",
      "|       316.8|\n",
      "|       310.8|\n",
      "|      306.54|\n",
      "|      306.34|\n",
      "|       306.3|\n",
      "|      304.01|\n",
      "|       300.8|\n",
      "|       300.8|\n",
      "|       300.3|\n",
      "|      298.63|\n",
      "|      298.01|\n",
      "|      294.95|\n",
      "|      294.84|\n",
      "|       294.8|\n",
      "|      291.05|\n",
      "|       290.8|\n",
      "|      290.21|\n",
      "|      289.61|\n",
      "|       286.8|\n",
      "+------------+\n",
      "only showing top 50 rows\n",
      "\n"
     ]
    }
   ],
   "source": [
    "#jan_2017.describe(\"total_amount\").show()\n",
    "#jan_2017.sort('total_amount', ascending=False).select(\"total_amount\").show(50)"
   ]
  },
  {
   "cell_type": "code",
   "execution_count": 682,
   "metadata": {},
   "outputs": [],
   "source": [
    "#jan_2017.describe(\"improvement_surcharge\").show()"
   ]
  },
  {
   "cell_type": "code",
   "execution_count": 683,
   "metadata": {},
   "outputs": [],
   "source": [
    "#jan_2017.describe(\"trip_distance\").show()\n",
    "#jan_2017.sort('trip_distance', ascending=False).select(\"trip_distance\").show(50)"
   ]
  },
  {
   "cell_type": "code",
   "execution_count": 684,
   "metadata": {},
   "outputs": [],
   "source": [
    "#jan_2017.select('tpep_pickup_datetime').show(10)"
   ]
  },
  {
   "cell_type": "code",
   "execution_count": 685,
   "metadata": {},
   "outputs": [],
   "source": [
    "#jan_2017.select('PUDate').distinct().show()\n"
   ]
  },
  {
   "cell_type": "code",
   "execution_count": 686,
   "metadata": {},
   "outputs": [
    {
     "name": "stdout",
     "output_type": "stream",
     "text": [
      "+--------------------+\n",
      "|               value|\n",
      "+--------------------+\n",
      "|2015-1-1,12:51 AM...|\n",
      "|2015-1-1,1:51 AM,...|\n",
      "|2015-1-1,2:51 AM,...|\n",
      "|2015-1-1,3:51 AM,...|\n",
      "|2015-1-1,4:51 AM,...|\n",
      "|2015-1-1,5:51 AM,...|\n",
      "|2015-1-1,6:51 AM,...|\n",
      "|2015-1-1,7:51 AM,...|\n",
      "|2015-1-1,8:51 AM,...|\n",
      "|2015-1-1,9:51 AM,...|\n",
      "|2015-1-1,10:51 AM...|\n",
      "|2015-1-1,11:51 AM...|\n",
      "|2015-1-1,12:51 PM...|\n",
      "|2015-1-1,1:51 PM,...|\n",
      "|2015-1-1,2:51 PM,...|\n",
      "|2015-1-1,3:51 PM,...|\n",
      "|2015-1-1,4:51 PM,...|\n",
      "|2015-1-1,5:51 PM,...|\n",
      "|2015-1-1,6:51 PM,...|\n",
      "|2015-1-1,7:51 PM,...|\n",
      "+--------------------+\n",
      "only showing top 20 rows\n",
      "\n"
     ]
    }
   ],
   "source": [
    "weather_data = spark.read.load('weather.txt', format=\"text\")\n",
    "weather_data.show()"
   ]
  },
  {
   "cell_type": "code",
   "execution_count": 687,
   "metadata": {},
   "outputs": [
    {
     "name": "stdout",
     "output_type": "stream",
     "text": [
      "+--------------------+\n",
      "|               value|\n",
      "+--------------------+\n",
      "|2015-1-1,12:51 AM...|\n",
      "|2015-1-1,1:51 AM,...|\n",
      "|2015-1-1,2:51 AM,...|\n",
      "|2015-1-1,3:51 AM,...|\n",
      "|2015-1-1,4:51 AM,...|\n",
      "|2015-1-1,5:51 AM,...|\n",
      "|2015-1-1,6:51 AM,...|\n",
      "|2015-1-1,7:51 AM,...|\n",
      "|2015-1-1,8:51 AM,...|\n",
      "|2015-1-1,9:51 AM,...|\n",
      "|2015-1-1,10:51 AM...|\n",
      "|2015-1-1,11:51 AM...|\n",
      "|2015-1-1,12:51 PM...|\n",
      "|2015-1-1,1:51 PM,...|\n",
      "|2015-1-1,2:51 PM,...|\n",
      "|2015-1-1,3:51 PM,...|\n",
      "|2015-1-1,4:51 PM,...|\n",
      "|2015-1-1,5:51 PM,...|\n",
      "|2015-1-1,6:51 PM,...|\n",
      "|2015-1-1,7:51 PM,...|\n",
      "+--------------------+\n",
      "only showing top 20 rows\n",
      "\n"
     ]
    }
   ],
   "source": [
    "weather_data.createOrReplaceTempView('weather_data_sdf')\n",
    "\n",
    "spark.sql('select * FROM weather_data_sdf').show()"
   ]
  },
  {
   "cell_type": "code",
   "execution_count": 688,
   "metadata": {},
   "outputs": [],
   "source": [
    "weather_data = spark.sql('SELECT CAST(split(value, \",\")[0] as string) AS date, '\\\n",
    "                        'CAST(split(value, \",\")[1] as string) as time, '\\\n",
    "                        'CAST(split(value, \",\")[2] as float) as temp, '\\\n",
    "                        'CAST(split(value, \",\")[3] as float) as windchill, '\\\n",
    "                        'CAST(split(value, \",\")[4] as float) as dewpoint, '\\\n",
    "                        'CAST(split(value, \",\")[5] as float) as humidity, '\\\n",
    "                        'CAST(split(value, \",\")[6] as float) as pressure, '\\\n",
    "                        'CAST(split(value, \",\")[7] as float) as visibility, '\\\n",
    "                        'CAST(split(value, \",\")[8] as string) as windDir, '\\\n",
    "                        'CAST(split(value, \",\")[9] as float) as windSpeed, '\\\n",
    "                        'CAST(split(value, \",\")[10] as float) as gustSpeed, '\\\n",
    "                        'CAST(split(value, \",\")[11] as float) as Precip, '\\\n",
    "                        'CAST(split(value, \",\")[12] as string) as Events, '\\\n",
    "                        'CAST(split(value, \",\")[13] as string) as Conditions '\\\n",
    "                         'FROM weather_data_sdf')"
   ]
  },
  {
   "cell_type": "code",
   "execution_count": 689,
   "metadata": {},
   "outputs": [],
   "source": [
    "#cast date to date type\n",
    "weather_data = weather_data.withColumn(\"date\", weather_data.date.cast(DateType()))"
   ]
  },
  {
   "cell_type": "code",
   "execution_count": 690,
   "metadata": {},
   "outputs": [],
   "source": [
    "def period(x):\n",
    "    return split(split(x, ':')[1], \" \")[1]"
   ]
  },
  {
   "cell_type": "code",
   "execution_count": 691,
   "metadata": {},
   "outputs": [],
   "source": [
    "def toHour(x):\n",
    "    first_split = split(x, ':')\n",
    "    retval = first_split[0].cast(IntegerType()) % 12\n",
    "    return retval "
   ]
  },
  {
   "cell_type": "code",
   "execution_count": 692,
   "metadata": {},
   "outputs": [],
   "source": [
    "weather_data = weather_data.withColumn(\"period\", period(\"time\"))"
   ]
  },
  {
   "cell_type": "code",
   "execution_count": 693,
   "metadata": {},
   "outputs": [],
   "source": [
    "#make hour military time\n",
    "weather_data = weather_data.withColumn(\"hour\", when(weather_data.period == 'PM', toHour(\"time\") + 12).otherwise(toHour(\"time\")))"
   ]
  },
  {
   "cell_type": "code",
   "execution_count": 694,
   "metadata": {},
   "outputs": [],
   "source": [
    "#fill any nulls\n",
    "weather_data = weather_data.na.fill(0)"
   ]
  },
  {
   "cell_type": "code",
   "execution_count": 695,
   "metadata": {},
   "outputs": [
    {
     "name": "stdout",
     "output_type": "stream",
     "text": [
      "root\n",
      " |-- date: date (nullable = true)\n",
      " |-- time: string (nullable = true)\n",
      " |-- temp: float (nullable = false)\n",
      " |-- windchill: float (nullable = false)\n",
      " |-- dewpoint: float (nullable = false)\n",
      " |-- humidity: float (nullable = false)\n",
      " |-- pressure: float (nullable = false)\n",
      " |-- visibility: float (nullable = false)\n",
      " |-- windDir: string (nullable = true)\n",
      " |-- windSpeed: float (nullable = false)\n",
      " |-- gustSpeed: float (nullable = false)\n",
      " |-- Precip: float (nullable = false)\n",
      " |-- Events: string (nullable = true)\n",
      " |-- Conditions: string (nullable = true)\n",
      " |-- period: string (nullable = true)\n",
      " |-- hour: integer (nullable = true)\n",
      "\n"
     ]
    }
   ],
   "source": [
    "weather_data.printSchema()"
   ]
  },
  {
   "cell_type": "code",
   "execution_count": 696,
   "metadata": {},
   "outputs": [],
   "source": [
    "#make temporary views for joining\n",
    "weather_data.createOrReplaceTempView('weather_data_sdf')\n",
    "\n",
    "weather_data_pu = spark.sql('SELECT date AS PUTempdate, '\\\n",
    "                            'time as PUTemptime, ' \\\n",
    "                            'temp as PUtemp, '\\\n",
    "                            'windchill as PUwindchill, '\\\n",
    "                            'dewpoint as PUdewpoint, '\\\n",
    "                            'pressure as PUpressure, '\\\n",
    "                            'visibility as PUvisibility, '\\\n",
    "                            'windDir as PUwindDir, '\\\n",
    "                            'gustSpeed as PUgustSpeed, '\\\n",
    "                            'Precip as PUPrecip, '\\\n",
    "                            'Events as PUEvents, '\\\n",
    "                            'Conditions as PUConditions, '\\\n",
    "                            'period as PUperiod, '\\\n",
    "                            'hour as PUTemphour '\\\n",
    "                            'FROM weather_data_sdf')\n",
    "\n",
    "weather_data_do = spark.sql('SELECT date AS DOTempdate, '\\\n",
    "                            'time as DOTemptime, ' \\\n",
    "                            'temp as DOtemp, '\\\n",
    "                            'windchill as DOwindchill, '\\\n",
    "                            'dewpoint as DOdewpoint, '\\\n",
    "                            'pressure as DOpressure, '\\\n",
    "                            'visibility as DOvisibility, '\\\n",
    "                            'windDir as DOwindDir, '\\\n",
    "                            'gustSpeed as DOgustSpeed, '\\\n",
    "                            'Precip as DOPrecip, '\\\n",
    "                            'Events as DOEvents, '\\\n",
    "                            'Conditions as DOConditions, '\\\n",
    "                            'period as DOperiod, '\\\n",
    "                            'hour as DOTemphour '\\\n",
    "                            'FROM weather_data_sdf')"
   ]
  },
  {
   "cell_type": "code",
   "execution_count": 697,
   "metadata": {},
   "outputs": [],
   "source": [
    "jan_2017 = jan_2017.join(weather_data_pu, (jan_2017.PUDate == weather_data_pu.PUTempdate) & \\\n",
    "                         (jan_2017.PUHour == weather_data_pu.PUTemphour), \"left_outer\")\n"
   ]
  },
  {
   "cell_type": "code",
   "execution_count": 698,
   "metadata": {},
   "outputs": [],
   "source": [
    "jan_2017 = jan_2017.join(weather_data_do, (jan_2017.DODate == weather_data_do.DOTempdate) & \\\n",
    "                         (jan_2017.DOHour == weather_data_do.DOTemphour), \"left_outer\")"
   ]
  },
  {
   "cell_type": "code",
   "execution_count": 648,
   "metadata": {
    "collapsed": true
   },
   "outputs": [
    {
     "name": "stdout",
     "output_type": "stream",
     "text": [
      "root\n",
      " |-- VendorID: short (nullable = true)\n",
      " |-- tpep_pickup_datetime: string (nullable = true)\n",
      " |-- tpep_dropoff_datetime: string (nullable = true)\n",
      " |-- passenger_count: short (nullable = true)\n",
      " |-- trip_distance: float (nullable = true)\n",
      " |-- RateCodeID: short (nullable = true)\n",
      " |-- store_and_fwd_flag: string (nullable = true)\n",
      " |-- PULocationID: string (nullable = true)\n",
      " |-- DOLocationID: string (nullable = true)\n",
      " |-- payment_type: short (nullable = true)\n",
      " |-- fare_amount: float (nullable = true)\n",
      " |-- extra: float (nullable = true)\n",
      " |-- mta_tax: float (nullable = true)\n",
      " |-- tip_amount: float (nullable = true)\n",
      " |-- tolls_amount: float (nullable = true)\n",
      " |-- improvement_surcharge: float (nullable = true)\n",
      " |-- total_amount: float (nullable = true)\n",
      " |-- LocationID: string (nullable = true)\n",
      " |-- PUBorough: string (nullable = true)\n",
      " |-- PUZone: string (nullable = true)\n",
      " |-- PUServiceZone: string (nullable = true)\n",
      " |-- LocationID: string (nullable = true)\n",
      " |-- DOBorough: string (nullable = true)\n",
      " |-- DOZone: string (nullable = true)\n",
      " |-- DOServiceZone: string (nullable = true)\n",
      " |-- AirportDO: integer (nullable = false)\n",
      " |-- PUDate: date (nullable = true)\n",
      " |-- PUTime: string (nullable = true)\n",
      " |-- DODate: date (nullable = true)\n",
      " |-- DOTime: string (nullable = true)\n",
      " |-- PUHour: integer (nullable = true)\n",
      " |-- PUMinute: integer (nullable = true)\n",
      " |-- DOHour: integer (nullable = true)\n",
      " |-- DOMinute: integer (nullable = true)\n",
      " |-- PU_DOW: short (nullable = true)\n",
      " |-- DO_DOW: short (nullable = true)\n",
      " |-- Weekend: integer (nullable = false)\n",
      " |-- cost_per_mile: float (nullable = true)\n",
      " |-- miles_per_dollar: float (nullable = true)\n",
      " |-- missing_money: float (nullable = true)\n",
      " |-- PUdate: date (nullable = true)\n",
      " |-- PUtime: string (nullable = true)\n",
      " |-- PUtemp: float (nullable = true)\n",
      " |-- PUwindchill: float (nullable = true)\n",
      " |-- PUdewpoint: float (nullable = true)\n",
      " |-- PUpressure: float (nullable = true)\n",
      " |-- PUvisibility: float (nullable = true)\n",
      " |-- PUwindDir: string (nullable = true)\n",
      " |-- PUgustSpeed: float (nullable = true)\n",
      " |-- PUPrecip: float (nullable = true)\n",
      " |-- PUEvents: string (nullable = true)\n",
      " |-- PUConditions: string (nullable = true)\n",
      " |-- PUperiod: string (nullable = true)\n",
      " |-- PUhour: integer (nullable = true)\n",
      " |-- DOdate: date (nullable = true)\n",
      " |-- DOtime: string (nullable = true)\n",
      " |-- DOtemp: float (nullable = true)\n",
      " |-- DOwindchill: float (nullable = true)\n",
      " |-- DOdewpoint: float (nullable = true)\n",
      " |-- DOpressure: float (nullable = true)\n",
      " |-- DOvisibility: float (nullable = true)\n",
      " |-- DOwindDir: string (nullable = true)\n",
      " |-- DOgustSpeed: float (nullable = true)\n",
      " |-- DOPrecip: float (nullable = true)\n",
      " |-- DOEvents: string (nullable = true)\n",
      " |-- DOConditions: string (nullable = true)\n",
      " |-- DOperiod: string (nullable = true)\n",
      " |-- DOhour: integer (nullable = true)\n",
      "\n"
     ]
    }
   ],
   "source": [
    "jan_2017.printSchema()"
   ]
  },
  {
   "cell_type": "code",
   "execution_count": 711,
   "metadata": {},
   "outputs": [],
   "source": [
    "jan_2017.createOrReplaceTempView('jan_2017_sdf')"
   ]
  },
  {
   "cell_type": "code",
   "execution_count": null,
   "metadata": {},
   "outputs": [],
   "source": []
  },
  {
   "cell_type": "code",
   "execution_count": 723,
   "metadata": {},
   "outputs": [],
   "source": [
    "demographics = spark.read.format(\"csv\").load('demographics.csv', header = True).cache()"
   ]
  },
  {
   "cell_type": "code",
   "execution_count": 724,
   "metadata": {},
   "outputs": [
    {
     "name": "stdout",
     "output_type": "stream",
     "text": [
      "+--------------------+---------------+---------------+-------------+-------------+------------------+------------------+------------+------------+----------------+----------------+------------------------+------------------------+----------------------------+----------------------------+-----------------------+-----------------------+-----------------+-----------------+--------------------+--------------------+--------------------+--------------------+---------------------+---------------------+----------------------+----------------------+--------------+--------------+------------------+------------------+-----------+-----------+-------------+-------------+------------------+------------------+------------------+------------------+---------------------+---------------------+------------------+------------------+-------------+------------+------------------------+------------------------+------------------------+------------------------+-------------+-------------+----------------------------+----------------------------+----------------------+----------------------+---------------------+---------------------+---------------------+---------------------+--------------+--------------+-------------------+-------------------+-------------------+-------------------+-------------------+-------------------+--------------------+--------------------+---------------------+---------------------+---------------------+---------------------+---------------------+---------------------+----------------------+----------------------+----------------------+----------------------+----------------------+----------------------+---------------------+---------------------+-----------------------+-----------------------+----------------------+----------------------+-------------------------+-------------------------+---------------------+---------------------+-------------------------+-------------------------+---------------------------+---------------------------+---------------------------+---------------------------+----------------------------+----------------------------+------------------------------+------------------------------+-----------------------+-----------------------+--------+--------+------------------+------------------+------------------------+------------------------+-----------------+-----------------+-------------------------+-------------------------+--------------+--------------+-------------------------+-------------------------+-------------------------------+-------------------------------+----------------+----------------+---------------------------------+---------------------------------+--------------------------+--------------------------+-------------------+-------------------+------------------+------------------+--------------+--------------+-----------------+-----------------+--------------------+--------------------+---------------------+---------------------+--------------------------+--------------------------+-------------------+-------------------+-----------------------+-----------------------+---------------------------------+---------------------------------+--------------------+--------------------+---------------------------------+---------------------------------+-----------+-----------+-----------+-----------+------------+------------+--------------------+--------------------+--------------------+--------------------+--------------------+--------------------+--------------------+--------------------+\n",
      "|        neighborhood|population_2016|population_rank|race_idx_2016|race_idx_rank|houses_w_kids_2016|houses_w_kids_rank|pop_65+_2016|pop_65+_rank|foreign_pop_2016|foreign_pop_rank|median_house_income_2016|median_house_income_rank|median_homeowner_income_2016|median_homeowner_income_rank|median_rent_income_2016|median_rent_income_rank|poverty_rate_2016|poverty_rate_rank|poverty_rate_65_2016|poverty_rate_65_rank|poverty_rate_18_2016|poverty_rate_18_rank|labor_force_rate_2016|labor_force_rate_rank|unemployment_rate_2016|unemployment_rate_rank|bachelors_2016|bachelors_rank|wo_highschool_2016|wo_highschool_rank|single_2016|single_rank|born_nyc_2016|born_nyc_rank|percent_asian_2016|percent_asian_rank|percent_black_2016|percent_black_rank|percent_hispanic_2016|percent_hispanic_rank|percent_white_2016|percent_white_rank|disabled_2016|disable_rank|income_divers_ratio_2016|income_divers_ratio_rank|refinance_loan_rate_2016|refinance_loan_rate_rank|fha_loan_2016|fha_loan_rank|hi_cost_home_purch_loan_2016|hi_cost_home_purch_loan_rank|hi_cost_refinance_2016|hi_cost_refinance_rank|lmi_loans_tracts_2016|lmi_loans_tracts_rank|lmi_loans_borrow_2016|lmi_loans_borrow_rank|sales_vol_2016|sales_vol_rank|sales_vol_1fam_2016|sales_vol_1fam_rank|sales_vol_4fam_2016|sales_vol_4fam_rank|sales_vol_5fam_2016|sales_vol_5fam_rank|sales_vol_condo_2016|sales_vol_condo_rank|sales_price_1fam_2016|sales_price_1fam_rank|sales_price_4fam_2016|sales_price_4fam_rank|sales_price_5fam_2016|sales_price_5fam_rank|sales_price_condo_2016|sales_price_condo_rank|house_apprec_1fam_2016|house_apprec_1fam_rank|house_apprec_4fam_2016|house_apprec_4fam_rank|house_apprec_all_2016|house_apprec_all_rank|house_apprec_condo_2016|house_apprec_condo_rank|house_apprec_5fam_2016|house_apprec_5fam_rank|srs_house_violations_2016|srs_house_violations_rank|house_violations_2016|house_violations_rank|pre_forecolsure_rate_2016|pre_forecolsure_rate_rank|pre_foreclosure_notice_2016|pre_foreclosure_notice_rank|foreclosure_notice_all_2016|foreclosure_notice_all_rank|foreclosure_notice_rate_2016|foreclosure_notice_rate_rank|foreclosure_notice_intial_2016|foreclosure_notice_intial_rank|foreclosure_repeat_2016|foreclosure_repeat_rank|reo_2016|reo_rank|housing_units_2016|housing_units_rank|houseownership_rate_2016|houseownership_rate_rank|vacancy_rate_2016|vacancy_rate_rank|severe_crowding_rate_2016|severe_crowding_rate_rank|loan_rate_2016|loan_rate_rank|new_building_permits_2016|new_building_permits_rank|new_occupancy_certificates_2016|new_occupancy_certificates_rank|pop_density_2016|pop_density_rank|res_units_within_sub_station_2016|res_units_within_sub_station_rank|res_units_within_park_2016|res_units_within_park_rank|crime_property_2016|crime_property_rank|crime_violent_2016|crime_violent_rank|crime_srs_2016|crime_srs_rank|student_math_2016|student_math_rank|student_english_2016|student_english_rank|car_free_commute_2016|car_free_commute_rank|mean_work_travel_time_2016|mean_work_travel_time_rank|house_vouchers_2016|house_vouchers_rank|median_rent_asking_2016|median_rent_asking_rank|mod_rent_burdened_households_2016|mod_rent_burdened_households_rank|median_rent_all_2016|median_rent_all_rank|srs_rent_burdened_households_2016|srs_rent_burdened_households_rank|30_ami_2016|30_ami_rank|80_ami_2016|80_ami_rank|120_ami_2016|120_ami_rank|low_income_mrbh_2016|low_income_mrbh_rank|mod_income_mrbh_2016|mod_income_mrbh_rank|low_income_srbh_2016|low_income_srbh_rank|mod_income_srbh_2016|mod_income_srbh_rank|\n",
      "+--------------------+---------------+---------------+-------------+-------------+------------------+------------------+------------+------------+----------------+----------------+------------------------+------------------------+----------------------------+----------------------------+-----------------------+-----------------------+-----------------+-----------------+--------------------+--------------------+--------------------+--------------------+---------------------+---------------------+----------------------+----------------------+--------------+--------------+------------------+------------------+-----------+-----------+-------------+-------------+------------------+------------------+------------------+------------------+---------------------+---------------------+------------------+------------------+-------------+------------+------------------------+------------------------+------------------------+------------------------+-------------+-------------+----------------------------+----------------------------+----------------------+----------------------+---------------------+---------------------+---------------------+---------------------+--------------+--------------+-------------------+-------------------+-------------------+-------------------+-------------------+-------------------+--------------------+--------------------+---------------------+---------------------+---------------------+---------------------+---------------------+---------------------+----------------------+----------------------+----------------------+----------------------+----------------------+----------------------+---------------------+---------------------+-----------------------+-----------------------+----------------------+----------------------+-------------------------+-------------------------+---------------------+---------------------+-------------------------+-------------------------+---------------------------+---------------------------+---------------------------+---------------------------+----------------------------+----------------------------+------------------------------+------------------------------+-----------------------+-----------------------+--------+--------+------------------+------------------+------------------------+------------------------+-----------------+-----------------+-------------------------+-------------------------+--------------+--------------+-------------------------+-------------------------+-------------------------------+-------------------------------+----------------+----------------+---------------------------------+---------------------------------+--------------------------+--------------------------+-------------------+-------------------+------------------+------------------+--------------+--------------+-----------------+-----------------+--------------------+--------------------+---------------------+---------------------+--------------------------+--------------------------+-------------------+-------------------+-----------------------+-----------------------+---------------------------------+---------------------------------+--------------------+--------------------+---------------------------------+---------------------------------+-----------+-----------+-----------+-----------+------------+------------+--------------------+--------------------+--------------------+--------------------+--------------------+--------------------+--------------------+--------------------+\n",
      "|greenpoint-willia...|         166361|           null|         0.52|           37|              22.7|                46|         9.2|          52|            21.6|              50|                   71054|                      16|                      118220|                          10|                  62466|                     10|             20.9|               23|                26.0|                  14|                35.0|                  16|                 68.9|                   10|                  6.08|                    33|          47.7|             9|              16.7|                32|       31.0|         24|         51.3|           18|               6.4|                34|               3.8|                41|                 23.5|                   26|              64.5|                 8|          7.1|          30|                     6.2|                      17|                     534|                      15|           18|           43|                          78|                          32|                    45|                     1|                  393|                    6|              1487500|                    9|        700000|             9|             433333|                 10|             800000|                 11|              429.3|                  3|               495.8|                   2|                422.5|                    6|                249.4|                   34|                930.9|                   11|                  24.0|                    37|                 126.6|                    33|                  17.7|                    52|                15409|                   22|                     66|                     28|                   4.2|                    38|                       30|                       29|                   32|                   30|                        0|                       38|                      70240|                         12|                       13.3|                         46|                         2.0|                          50|                           3.6|                            28|                   22.5|                     19|     9.9|      41|               0.0|                44|                     0.5|                      43|             null|             null|                     47.4|                       23|           2.0|            47|                      647|                       13|                           1596|                              3|            40.3|              25|                             null|                               22|                      null|                        21|               10.5|                  7|               3.7|                32|          14.3|            19|             43.6|               28|                48.7|                  30|                 88.2|                    9|                      33.5|                        49|               3050|                  9|                   22.9|                     37|                             1774|                                8|                27.0|                  42|                              3.9|                               42|       26.1|         42|       51.9|         40|        26.0|          49|                34.8|                   8|                46.2|                  21|                 7.2|                   8|                 7.4|                  20|\n",
      "+--------------------+---------------+---------------+-------------+-------------+------------------+------------------+------------+------------+----------------+----------------+------------------------+------------------------+----------------------------+----------------------------+-----------------------+-----------------------+-----------------+-----------------+--------------------+--------------------+--------------------+--------------------+---------------------+---------------------+----------------------+----------------------+--------------+--------------+------------------+------------------+-----------+-----------+-------------+-------------+------------------+------------------+------------------+------------------+---------------------+---------------------+------------------+------------------+-------------+------------+------------------------+------------------------+------------------------+------------------------+-------------+-------------+----------------------------+----------------------------+----------------------+----------------------+---------------------+---------------------+---------------------+---------------------+--------------+--------------+-------------------+-------------------+-------------------+-------------------+-------------------+-------------------+--------------------+--------------------+---------------------+---------------------+---------------------+---------------------+---------------------+---------------------+----------------------+----------------------+----------------------+----------------------+----------------------+----------------------+---------------------+---------------------+-----------------------+-----------------------+----------------------+----------------------+-------------------------+-------------------------+---------------------+---------------------+-------------------------+-------------------------+---------------------------+---------------------------+---------------------------+---------------------------+----------------------------+----------------------------+------------------------------+------------------------------+-----------------------+-----------------------+--------+--------+------------------+------------------+------------------------+------------------------+-----------------+-----------------+-------------------------+-------------------------+--------------+--------------+-------------------------+-------------------------+-------------------------------+-------------------------------+----------------+----------------+---------------------------------+---------------------------------+--------------------------+--------------------------+-------------------+-------------------+------------------+------------------+--------------+--------------+-----------------+-----------------+--------------------+--------------------+---------------------+---------------------+--------------------------+--------------------------+-------------------+-------------------+-----------------------+-----------------------+---------------------------------+---------------------------------+--------------------+--------------------+---------------------------------+---------------------------------+-----------+-----------+-----------+-----------+------------+------------+--------------------+--------------------+--------------------+--------------------+--------------------+--------------------+--------------------+--------------------+\n",
      "only showing top 1 row\n",
      "\n"
     ]
    }
   ],
   "source": [
    "demographics.show(1)"
   ]
  },
  {
   "cell_type": "code",
   "execution_count": 727,
   "metadata": {},
   "outputs": [
    {
     "name": "stdout",
     "output_type": "stream",
     "text": [
      "+--------------------+\n",
      "|              PUZone|\n",
      "+--------------------+\n",
      "|Governor's Island...|\n",
      "|           Homecrest|\n",
      "|              Corona|\n",
      "|    Bensonhurst West|\n",
      "|          Douglaston|\n",
      "|      Newark Airport|\n",
      "|          Mount Hope|\n",
      "|East Concourse/Co...|\n",
      "|      Pelham Parkway|\n",
      "|         Marble Hill|\n",
      "|           Rego Park|\n",
      "|Heartland Village...|\n",
      "|       Dyker Heights|\n",
      "|Upper East Side S...|\n",
      "|   Kew Gardens Hills|\n",
      "|             Bayside|\n",
      "|     Jackson Heights|\n",
      "|      Yorkville West|\n",
      "|TriBeCa/Civic Center|\n",
      "|          Highbridge|\n",
      "|Stuy Town/Peter C...|\n",
      "|Flushing Meadows-...|\n",
      "|Riverdale/North R...|\n",
      "|      Bushwick South|\n",
      "|     Windsor Terrace|\n",
      "|         Old Astoria|\n",
      "|          Ocean Hill|\n",
      "|      West Concourse|\n",
      "|        Clinton Hill|\n",
      "|  Stuyvesant Heights|\n",
      "|Upper West Side N...|\n",
      "|     Mariners Harbor|\n",
      "|          Kensington|\n",
      "|Springfield Garde...|\n",
      "|   East Harlem South|\n",
      "|     Oakland Gardens|\n",
      "| Crown Heights North|\n",
      "|            Longwood|\n",
      "|           Hudson Sq|\n",
      "|     Lenox Hill East|\n",
      "|             Norwood|\n",
      "|            Flushing|\n",
      "|     Columbia Street|\n",
      "|Upper East Side N...|\n",
      "| UN/Turtle Bay South|\n",
      "|       Prospect Park|\n",
      "|       Starrett City|\n",
      "|                  NA|\n",
      "|       East Elmhurst|\n",
      "|        Country Club|\n",
      "|Long Island City/...|\n",
      "|New Dorp/Midland ...|\n",
      "|          Whitestone|\n",
      "|            Union Sq|\n",
      "|        Bedford Park|\n",
      "|        Bloomingdale|\n",
      "|        Midtown East|\n",
      "|Long Island City/...|\n",
      "|       South Jamaica|\n",
      "|           Glen Oaks|\n",
      "|Downtown Brooklyn...|\n",
      "|    Sunset Park West|\n",
      "|Saint George/New ...|\n",
      "|          Bath Beach|\n",
      "|East Flatbush/Rem...|\n",
      "|       Richmond Hill|\n",
      "|                  NV|\n",
      "|   East Harlem North|\n",
      "|Washington Height...|\n",
      "|            Canarsie|\n",
      "|Van Cortlandt Vil...|\n",
      "|Sutton Place/Turt...|\n",
      "|      Sheepshead Bay|\n",
      "| Grymes Hill/Clifton|\n",
      "|   LaGuardia Airport|\n",
      "|           Flatlands|\n",
      "|         Hunts Point|\n",
      "|     Jamaica Estates|\n",
      "|        Coney Island|\n",
      "|         Parkchester|\n",
      "|             Astoria|\n",
      "|         City Island|\n",
      "|             Erasmus|\n",
      "|         Cobble Hill|\n",
      "|    Garment District|\n",
      "|     Lower East Side|\n",
      "|             Madison|\n",
      "|     Carroll Gardens|\n",
      "|             Gowanus|\n",
      "|        East Village|\n",
      "|   Hillcrest/Pomonok|\n",
      "|Marine Park/Mill ...|\n",
      "|         Fort Greene|\n",
      "| Lincoln Square East|\n",
      "|         Eastchester|\n",
      "|            Gramercy|\n",
      "|    Manhattan Valley|\n",
      "|Briarwood/Jamaica...|\n",
      "|      Middle Village|\n",
      "|Mott Haven/Port M...|\n",
      "+--------------------+\n",
      "only showing top 100 rows\n",
      "\n"
     ]
    }
   ],
   "source": [
    "jan_2017.select('PUZone').distinct().show(100)"
   ]
  },
  {
   "cell_type": "code",
   "execution_count": 731,
   "metadata": {},
   "outputs": [
    {
     "data": {
      "text/plain": [
       "261"
      ]
     },
     "execution_count": 731,
     "metadata": {},
     "output_type": "execute_result"
    }
   ],
   "source": [
    "jan_2017.select('DOZone').distinct().count()"
   ]
  },
  {
   "cell_type": "code",
   "execution_count": 732,
   "metadata": {},
   "outputs": [
    {
     "data": {
      "text/plain": [
       "265"
      ]
     },
     "execution_count": 732,
     "metadata": {},
     "output_type": "execute_result"
    }
   ],
   "source": [
    "taxi_zone.count()"
   ]
  },
  {
   "cell_type": "code",
   "execution_count": null,
   "metadata": {},
   "outputs": [],
   "source": []
  }
 ],
 "metadata": {
  "kernelspec": {
   "display_name": "Python 3",
   "language": "python",
   "name": "python3"
  },
  "language_info": {
   "codemirror_mode": {
    "name": "ipython",
    "version": 3
   },
   "file_extension": ".py",
   "mimetype": "text/x-python",
   "name": "python",
   "nbconvert_exporter": "python",
   "pygments_lexer": "ipython3",
   "version": "3.6.4"
  }
 },
 "nbformat": 4,
 "nbformat_minor": 2
}
